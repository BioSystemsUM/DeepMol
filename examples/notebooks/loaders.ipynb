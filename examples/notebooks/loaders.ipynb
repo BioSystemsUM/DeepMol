{
 "cells": [
  {
   "cell_type": "markdown",
   "metadata": {},
   "source": [
    "# Loading data into DeepMol\n",
    "\n",
    "It is possible to read data from CSV and SDF files or directly from numpy arrays / lists."
   ]
  },
  {
   "cell_type": "markdown",
   "metadata": {},
   "source": [
    "## Using CSVLoader\n",
    "\n",
    "The CSVLoader class can be used to load tabular data from files. It accepts the following arguments:\n",
    "- dataset_path: path to the CSV file (mandatory)\n",
    "- smiles_field: name of the field with the SMILES strings (mandatory)\n",
    "- id_field: name of the field with the molecules' ids (optional)\n",
    "- labels_fields: list with the name(s) of the field(s) of the label(s) (optional)\n",
    "- features_fields: list with the name(s) of the field(s) of the feature(s) (optional)\n",
    "- shard_size: if you don't want to load the entire data you can define a number of rows to read (optional)\n",
    "- mode: mode of the dataset, it can be 'classification', 'regression' and 'multitask'. 'auto' will try to automatically infer the mode. (optional)\n",
    "\n",
    "To create the dataset you can use the create_dataset method. It accepts the same arguments as pandas.read_csv()."
   ]
  },
  {
   "cell_type": "code",
   "execution_count": 2,
   "metadata": {
    "ExecuteTime": {
     "end_time": "2023-05-24T15:51:56.431629316Z",
     "start_time": "2023-05-24T15:51:56.158531766Z"
    }
   },
   "outputs": [
    {
     "name": "stdout",
     "output_type": "stream",
     "text": [
      "2023-05-24 16:51:56,426 — INFO — Assuming classification since there are less than 10 unique y values. If otherwise, explicitly set the mode to 'regression'!\n"
     ]
    }
   ],
   "source": [
    "from deepmol.loaders import CSVLoader\n",
    "\n",
    "# Load data from CSV file\n",
    "loader = CSVLoader(dataset_path='../data/example_data_with_features.csv',\n",
    "                   smiles_field='mols',\n",
    "                   id_field='ids',\n",
    "                   labels_fields=['y'],\n",
    "                   features_fields=[f'feat_{i+1}' for i in range(1024)],\n",
    "                   shard_size=500,\n",
    "                   mode='auto')\n",
    "# create the dataset\n",
    "csv_dataset = loader.create_dataset(sep=',', header=0)"
   ]
  },
  {
   "cell_type": "markdown",
   "metadata": {},
   "source": [
    "# Using SDFLoader\n",
    "\n",
    "SDF stands for \"Structural Data File,\" which is a file format commonly used in chemistry and bioinformatics to represent the structure of molecules.\n",
    "\n",
    "SDF files typically contain information such as the atom and bond types, atom positions, and various molecular properties. These files can be used for a variety of purposes, including chemical database storage, chemical structure searching, and molecular modeling.\n",
    "\n",
    "The SDFLoader class can be used to load data from SDF files. It accepts the following arguments:\n",
    "- dataset_path: path to the SDF file (mandatory)\n",
    "- id_field: name of the field with the molecules' ids (optional)\n",
    "- labels_fields: list with the name(s) of the field(s) of the label(s) (optional)\n",
    "- features_fields: list with the name(s) of the field(s) of the feature(s) (optional)\n",
    "- shard_size: if you don't want to load the entire data you can define a number of rows to read (optional)\n",
    "- mode: mode of the dataset, it can be 'classification', 'regression' and 'multitask'. 'auto' will try to automatically infer the mode. (optional)\n",
    "\n",
    "To create the dataset you can use the create_dataset method. It accepts the same arguments as pandas.read_csv()."
   ]
  },
  {
   "cell_type": "code",
   "execution_count": null,
   "metadata": {},
   "outputs": [],
   "source": [
    "from deepmol.loaders import SDFLoader\n",
    "\n",
    "# Load data from SDF file\n",
    "loader = SDFLoader(dataset_path='../data/example_sdf_file.sdf',\n",
    "                   id_field='ChEMBL_ID',\n",
    "                   labels_fields=['pIC50'],\n",
    "                   features_fields=None,\n",
    "                   shard_size=500,\n",
    "                   mode='auto')\n",
    "# create the dataset\n",
    "sdf_dataset = loader.create_dataset()"
   ]
  },
  {
   "cell_type": "markdown",
   "metadata": {},
   "source": [
    "# Directly from numpy arrays / lists\n",
    "\n",
    "Directly from numpy arrays / lists as a SmilesDataset (both CSVLoader and SDFLoader return SmilesDataset objects).\n",
    "\n",
    "A SmilesDataset can be initialized with SMILES strings or RDKit molecules (through the from_mols class method). It accepts the following arguments:\n",
    "- smiles: list of SMILES strings (mandatory)\n",
    "- mols: list of RDKit molecules (optional)\n",
    "- ids: list of molecules' ids (optional)\n",
    "- X: numpy array with the features (optional)\n",
    "- feature_names: numpy array of feature names (optional)\n",
    "- y: numpy array with the labels (optional)\n",
    "- label_names: numpy array of label names (optional)\n",
    "- mode: mode of the dataset, it can be 'classification', 'regression' and 'multitask'. 'auto' will try to automatically infer the mode. (optional)\n",
    "\n",
    "In the case of using the from_mols class method, the smiles argument is not used and the mols argument is mandatory."
   ]
  },
  {
   "cell_type": "code",
   "execution_count": 4,
   "metadata": {
    "ExecuteTime": {
     "end_time": "2023-05-24T15:52:03.717884483Z",
     "start_time": "2023-05-24T15:52:03.672406742Z"
    }
   },
   "outputs": [],
   "source": [
    "from rdkit import Chem\n",
    "from deepmol.datasets import SmilesDataset\n",
    "\n",
    "smiles = ['CN1C=NC2=C1C(=O)N(C(=O)N2C)C  ', 'CC(=O)OC1=CC=CC=C1C(=O)O']\n",
    "ids = ['caffeine', 'aspirin']\n",
    "# x = np.array([[1, 2, 3], [4, 5, 6]])\n",
    "# ...\n",
    "\n",
    "df_smiles = SmilesDataset(smiles=smiles, # only mandatory argument, a list of SMILES strings\n",
    "                          mols=None,\n",
    "                          ids=ids,\n",
    "                          X=None,\n",
    "                          feature_names=None,\n",
    "                          y=None,\n",
    "                          label_names=None,\n",
    "                          mode='auto')\n",
    "\n",
    "mols = [Chem.MolFromSmiles(s) for s in smiles]\n",
    "df_mols = SmilesDataset.from_mols(mols=mols, # only mandatory argument, a list of RDKit molecules\n",
    "                                  ids=ids,\n",
    "                                  X=None,\n",
    "                                  feature_names=None,\n",
    "                                  y=None,\n",
    "                                  label_names=None,\n",
    "                                  mode='auto')"
   ]
  },
  {
   "cell_type": "markdown",
   "metadata": {},
   "source": [
    "# Access the data stored in the datasets\n",
    "\n",
    "- dataset.smiles: list of SMILES strings\n",
    "- dataset.mols: list of RDKit molecules\n",
    "- dataset.ids: list of molecules' ids\n",
    "- dataset.X: numpy array with the features\n",
    "- dataset.y: numpy array with the labels\n",
    "- dataset.feature_names: numpy array of feature names\n",
    "- dataset.label_names: numpy array of label names\n",
    "- dataset.mode: mode of the dataset, it can be 'classification', 'regression' and 'multitask'\n",
    "- dataset.n_tasks: number of tasks"
   ]
  },
  {
   "cell_type": "code",
   "execution_count": null,
   "outputs": [],
   "source": [
    "# Load data from CSV file\n",
    "loader = CSVLoader(dataset_path='../data/example_data_with_features.csv',\n",
    "                   smiles_field='mols',\n",
    "                   id_field='ids',\n",
    "                   labels_fields=['y'],\n",
    "                   features_fields=[f'feat_{i+1}' for i in range(1024)],\n",
    "                   shard_size=500,\n",
    "                   mode='auto')\n",
    "# create the dataset\n",
    "csv_dataset = loader.create_dataset(sep=',', header=0)"
   ],
   "metadata": {
    "collapsed": false
   }
  },
  {
   "cell_type": "code",
   "execution_count": 5,
   "metadata": {
    "ExecuteTime": {
     "end_time": "2023-05-24T15:52:06.080814256Z",
     "start_time": "2023-05-24T15:52:06.073396049Z"
    }
   },
   "outputs": [
    {
     "data": {
      "text/plain": "array(['CC1=CC=C(CC(C)NC(=O)C(N)CC(=O)O)C=C1',\n       'CC(C)C(N)C(=O)NC(C(=O)NC(CC1=CC=CC=C1)C(=O)NC(CC(N)=O)C(=O)O)C(C)C',\n       'CCSC(=O)CN=C(C)O',\n       'CCC(C)CCCCCCCCCCC(=O)OC[C@@H](COC(=O)CCCCCCCCCCC(C)C)OC(=O)CCCCCCCCCCCCCCC(C)C',\n       'OC[C@H]1OC(O)[C@@H](O)[C@@H](O)[C@@H]1O'], dtype=object)"
     },
     "execution_count": 5,
     "metadata": {},
     "output_type": "execute_result"
    }
   ],
   "source": [
    "csv_dataset.smiles[:5]"
   ]
  },
  {
   "cell_type": "code",
   "execution_count": 6,
   "metadata": {
    "ExecuteTime": {
     "end_time": "2023-05-24T15:52:08.108586416Z",
     "start_time": "2023-05-24T15:52:08.104897357Z"
    }
   },
   "outputs": [
    {
     "data": {
      "text/plain": "array([<rdkit.Chem.rdchem.Mol object at 0x7ffac7a2ff20>,\n       <rdkit.Chem.rdchem.Mol object at 0x7ffac7a2fcf0>,\n       <rdkit.Chem.rdchem.Mol object at 0x7ffac7a2fc80>,\n       <rdkit.Chem.rdchem.Mol object at 0x7ffac7a2fc10>,\n       <rdkit.Chem.rdchem.Mol object at 0x7ffac7a2fb30>], dtype=object)"
     },
     "execution_count": 6,
     "metadata": {},
     "output_type": "execute_result"
    }
   ],
   "source": [
    "csv_dataset.mols[:5]"
   ]
  },
  {
   "cell_type": "code",
   "execution_count": 7,
   "metadata": {
    "ExecuteTime": {
     "end_time": "2023-05-24T15:52:10.358366727Z",
     "start_time": "2023-05-24T15:52:10.353456689Z"
    }
   },
   "outputs": [
    {
     "data": {
      "text/plain": "array(['d38fa87cb28c43699734ac0291af33a3',\n       '253182410b4145b0967b2e8d10b519d0',\n       '36e777f49ba649c3830e161b03bbb777',\n       'ba6f25d48cf94562b4e0485cf0b23aef',\n       'e524254dd83a4206ba61e526862f6da2'], dtype='<U32')"
     },
     "execution_count": 7,
     "metadata": {},
     "output_type": "execute_result"
    }
   ],
   "source": [
    "csv_dataset.ids[:5]"
   ]
  },
  {
   "cell_type": "code",
   "execution_count": 8,
   "metadata": {
    "ExecuteTime": {
     "end_time": "2023-05-24T15:52:12.635470248Z",
     "start_time": "2023-05-24T15:52:12.629238938Z"
    }
   },
   "outputs": [
    {
     "data": {
      "text/plain": "array([[0., 1., 0., ..., 0., 0., 0.],\n       [0., 1., 0., ..., 0., 1., 0.],\n       [0., 0., 0., ..., 0., 0., 0.],\n       [0., 1., 0., ..., 0., 0., 0.],\n       [0., 0., 0., ..., 0., 0., 0.]])"
     },
     "execution_count": 8,
     "metadata": {},
     "output_type": "execute_result"
    }
   ],
   "source": [
    "csv_dataset.X[:5]"
   ]
  },
  {
   "cell_type": "code",
   "execution_count": 9,
   "metadata": {
    "ExecuteTime": {
     "end_time": "2023-05-24T15:52:14.991956849Z",
     "start_time": "2023-05-24T15:52:14.977881434Z"
    }
   },
   "outputs": [
    {
     "data": {
      "text/plain": "array([1., 1., 0., 0., 1.])"
     },
     "execution_count": 9,
     "metadata": {},
     "output_type": "execute_result"
    }
   ],
   "source": [
    "csv_dataset.y[:5]"
   ]
  },
  {
   "cell_type": "code",
   "execution_count": 10,
   "metadata": {
    "ExecuteTime": {
     "end_time": "2023-05-24T15:52:17.162543530Z",
     "start_time": "2023-05-24T15:52:17.152821233Z"
    }
   },
   "outputs": [
    {
     "data": {
      "text/plain": "array(['feat_1', 'feat_2', 'feat_3', 'feat_4', 'feat_5'], dtype='<U9')"
     },
     "execution_count": 10,
     "metadata": {},
     "output_type": "execute_result"
    }
   ],
   "source": [
    "csv_dataset.feature_names[:5]"
   ]
  },
  {
   "cell_type": "code",
   "execution_count": 11,
   "metadata": {
    "ExecuteTime": {
     "end_time": "2023-05-24T15:52:19.138174356Z",
     "start_time": "2023-05-24T15:52:19.126612139Z"
    }
   },
   "outputs": [
    {
     "data": {
      "text/plain": "array(['y'], dtype='<U1')"
     },
     "execution_count": 11,
     "metadata": {},
     "output_type": "execute_result"
    }
   ],
   "source": [
    "csv_dataset.label_names"
   ]
  },
  {
   "cell_type": "code",
   "execution_count": 12,
   "metadata": {
    "ExecuteTime": {
     "end_time": "2023-05-24T15:52:22.481457338Z",
     "start_time": "2023-05-24T15:52:22.478656112Z"
    }
   },
   "outputs": [
    {
     "data": {
      "text/plain": "'classification'"
     },
     "execution_count": 12,
     "metadata": {},
     "output_type": "execute_result"
    }
   ],
   "source": [
    "csv_dataset.mode"
   ]
  },
  {
   "cell_type": "code",
   "execution_count": 13,
   "metadata": {
    "ExecuteTime": {
     "end_time": "2023-05-24T15:52:23.795414268Z",
     "start_time": "2023-05-24T15:52:23.791354767Z"
    }
   },
   "outputs": [
    {
     "data": {
      "text/plain": "1"
     },
     "execution_count": 13,
     "metadata": {},
     "output_type": "execute_result"
    }
   ],
   "source": [
    "csv_dataset.n_tasks"
   ]
  }
 ],
 "metadata": {
  "kernelspec": {
   "display_name": "Python 3 (ipykernel)",
   "language": "python",
   "name": "python3"
  },
  "language_info": {
   "codemirror_mode": {
    "name": "ipython",
    "version": 3
   },
   "file_extension": ".py",
   "mimetype": "text/x-python",
   "name": "python",
   "nbconvert_exporter": "python",
   "pygments_lexer": "ipython3",
   "version": "3.8.10"
  }
 },
 "nbformat": 4,
 "nbformat_minor": 1
}
