{
 "cells": [
  {
   "cell_type": "markdown",
   "source": [
    "# Unsupervised Learning\n",
    "\n",
    "It is possible to do unsupervised exploration of the datasets using PCA, tSNE, KMeans and UMAP."
   ],
   "metadata": {
    "collapsed": false
   }
  },
  {
   "cell_type": "code",
   "execution_count": null,
   "outputs": [],
   "source": [
    "from deepmol.scalers import MinMaxScaler\n",
    "from deepmol.loaders import CSVLoader\n",
    "from deepmol.compound_featurization import TwoDimensionDescriptors\n",
    "\n",
    "# Load data from CSV file\n",
    "loader = CSVLoader(dataset_path='../data/CHEMBL217_reduced.csv',\n",
    "                   smiles_field='SMILES',\n",
    "                   id_field='Original_Entry_ID',\n",
    "                   labels_fields=['Activity_Flag'],\n",
    "                   mode='auto',\n",
    "                   shard_size=2500)\n",
    "# create the dataset\n",
    "data = loader.create_dataset(sep=',', header=0)\n",
    "TwoDimensionDescriptors().featurize(data, inplace=True)\n",
    "scaler = MinMaxScaler()\n",
    "scaler.scale(data, inplace=True)"
   ],
   "metadata": {
    "collapsed": false
   }
  },
  {
   "cell_type": "markdown",
   "source": [
    "## PCA\n",
    "\n",
    "PCA (Principal Component Analysis) is a widely used technique in chemoinformatics, which is the application of computational methods to chemical data. In chemoinformatics, PCA is used to analyze molecular descriptors, which are numerical representations of chemical structures.\n",
    "\n",
    "Molecular descriptors can be used to represent various aspects of a molecule, such as its size, shape, polarity, or electronic properties. However, molecular descriptor sets can be quite large and highly correlated, making it difficult to extract meaningful information from them.\n",
    "\n",
    "PCA can help address this problem by reducing the dimensionality of the molecular descriptor space, while preserving as much of the information as possible. Specifically, PCA can identify the most important descriptors that contribute to the variation in the data, and create a smaller set of descriptors that captures the majority of the information in the original data.\n",
    "\n",
    "The reduced set of descriptors can then be used for various tasks, such as drug design, virtual screening, or molecular similarity analysis. PCA can also be used for visualization and exploration of chemical data, by projecting the high-dimensional descriptor space onto a lower-dimensional space that can be easily visualized.\n",
    "\n",
    "Overall, PCA is a powerful tool in chemoinformatics that can help extract meaningful information from complex chemical data sets, and facilitate the discovery and design of new drugs and materials."
   ],
   "metadata": {
    "collapsed": false
   }
  },
  {
   "cell_type": "code",
   "execution_count": null,
   "outputs": [],
   "source": [
    "from deepmol.unsupervised import PCA\n",
    "\n",
    "pca = PCA(n_components=2)\n",
    "pca_df = pca.run(data)\n",
    "pca.plot(pca_df.X, path='pca_output_2.png')"
   ],
   "metadata": {
    "collapsed": false
   }
  },
  {
   "cell_type": "code",
   "execution_count": null,
   "outputs": [],
   "source": [
    "pca = PCA(n_components=3)\n",
    "pca_df = pca.run(data)\n",
    "pca.plot(pca_df.X, path='pca_output_3.png')"
   ],
   "metadata": {
    "collapsed": false
   }
  },
  {
   "cell_type": "code",
   "execution_count": null,
   "outputs": [],
   "source": [
    "pca = PCA(n_components=6)\n",
    "pca_df = pca.run(data)\n",
    "pca.plot(pca_df.X, path='pca_output_6.png')"
   ],
   "metadata": {
    "collapsed": false
   }
  },
  {
   "cell_type": "markdown",
   "source": [
    "# t-SNE\n",
    "\n",
    "t-SNE (t-distributed Stochastic Neighbor Embedding) is a popular technique in chemoinformatics for visualizing high-dimensional molecular data in a lower-dimensional space.\n",
    "\n",
    "In chemoinformatics, t-SNE is often used to explore the structure-activity relationship (SAR) of chemical compounds, by visualizing how similar compounds are clustered in a lower-dimensional space based on their molecular descriptors.\n",
    "\n",
    "t-SNE works by first computing pairwise similarities between the high-dimensional data points, such as molecular descriptors. These similarities are then used to construct a probability distribution that represents the likelihood of a data point being similar to other data points in the high-dimensional space.\n",
    "\n",
    "Next, t-SNE creates a similar probability distribution in a lower-dimensional space, and iteratively adjusts the positions of the data points in this space to minimize the difference between the two distributions. The result is a 2D or 3D visualization of the data points, where similar data points are located close to each other, and dissimilar data points are located far apart.\n",
    "\n",
    "t-SNE is particularly useful for visualizing complex and non-linear relationships in chemoinformatics data, and for identifying clusters or patterns that may not be easily detectable in the original high-dimensional space. However, it should be noted that t-SNE is a non-parametric technique, and its results may depend on the choice of parameters and the specific initialization of the algorithm. Therefore, t-SNE should be used in combination with other techniques, such as PCA or hierarchical clustering, to gain a more comprehensive understanding of the chemical data."
   ],
   "metadata": {
    "collapsed": false
   }
  },
  {
   "cell_type": "code",
   "execution_count": null,
   "outputs": [],
   "source": [
    "from deepmol.unsupervised import TSNE\n",
    "\n",
    "tsne = TSNE(n_components=2)\n",
    "tsne_df = tsne.run(data)\n",
    "tsne.plot(tsne_df.X, path='tsne_output_2.png')"
   ],
   "metadata": {
    "collapsed": false
   }
  },
  {
   "cell_type": "code",
   "execution_count": null,
   "outputs": [],
   "source": [
    "tsne = TSNE(n_components=3)\n",
    "tsne_df = tsne.run(data)\n",
    "tsne.plot(tsne_df.X, path='tsne_output_3.png')"
   ],
   "metadata": {
    "collapsed": false
   }
  },
  {
   "cell_type": "code",
   "execution_count": null,
   "outputs": [],
   "source": [
    "tsne = TSNE(n_components=4, method='exact')\n",
    "tsne_df = tsne.run(data)\n",
    "tsne.plot(tsne_df.X, path='tsne_output_4.png')"
   ],
   "metadata": {
    "collapsed": false
   }
  },
  {
   "cell_type": "markdown",
   "source": [
    "# KMeans\n",
    "\n",
    "K-means clustering is a widely used unsupervised learning algorithm in chemoinformatics for identifying groups of similar chemical compounds based on their molecular descriptors.\n",
    "\n",
    "The algorithm works by iteratively assigning each data point (i.e., chemical compound) to the closest cluster center (i.e., centroid), and updating the cluster centers based on the new assignments. The process continues until the assignments no longer change, or until a maximum number of iterations is reached.\n",
    "\n",
    "In chemoinformatics, k-means clustering is often used for tasks such as compound clustering, lead optimization, and hit identification. By identifying clusters of similar compounds, researchers can gain insights into the structure-activity relationships (SAR) of the compounds, and identify potential candidates for further study.\n",
    "\n",
    "However, k-means clustering has some limitations in chemoinformatics. One limitation is that the algorithm assumes that the clusters are spherical and of equal size, which may not always be the case for chemical compounds. Another limitation is that the algorithm requires the number of clusters to be specified in advance, which may be difficult to determine for large and complex data sets."
   ],
   "metadata": {
    "collapsed": false
   }
  },
  {
   "cell_type": "code",
   "execution_count": null,
   "outputs": [],
   "source": [
    "from deepmol.unsupervised import KMeans\n",
    "\n",
    "kmeans = KMeans(n_clusters=2)\n",
    "kmeans_df = kmeans.run(data)\n",
    "kmeans.plot(kmeans_df.X, path='kmeans_output_2.png')"
   ],
   "metadata": {
    "collapsed": false
   }
  },
  {
   "cell_type": "code",
   "execution_count": null,
   "outputs": [],
   "source": [
    "kmeans = KMeans(n_clusters=3)\n",
    "kmeans_df = kmeans.run(data)\n",
    "kmeans.plot(kmeans_df.X, path='kmeans_output_3.png')"
   ],
   "metadata": {
    "collapsed": false
   }
  },
  {
   "cell_type": "code",
   "execution_count": null,
   "outputs": [],
   "source": [
    "kmeans = KMeans(n_clusters=6)\n",
    "kmeans_df = kmeans.run(data)\n",
    "kmeans.plot(kmeans_df.X, path='kmeans_output_6.png')"
   ],
   "metadata": {
    "collapsed": false
   }
  },
  {
   "cell_type": "markdown",
   "source": [
    "# UMAP\n",
    "\n",
    "UMAP (Uniform Manifold Approximation and Projection) is a dimensionality reduction technique that has gained popularity in chemoinformatics for visualizing and analyzing high-dimensional molecular data.\n",
    "\n",
    "Like t-SNE, UMAP works by creating a lower-dimensional representation of the high-dimensional data, but it uses a different approach based on topology and geometry. UMAP constructs a high-dimensional graph that captures the local relationships between the data points, and then uses a mathematical technique called Riemannian geometry to embed the graph into a lower-dimensional space.\n",
    "\n",
    "In chemoinformatics, UMAP has been used for tasks such as compound clustering, lead optimization, and molecular visualization. UMAP can reveal complex and non-linear relationships in the data that may not be easily visible in the original high-dimensional space, and it can provide insights into the structure-activity relationships (SAR) of the compounds.\n",
    "\n",
    "One advantage of UMAP over other dimensionality reduction techniques is its scalability and speed. UMAP can handle large and complex data sets, and can produce visualizations in real-time. Moreover, UMAP has a few parameters that can be tuned, making it easy to use and apply in various chemoinformatics applications."
   ],
   "metadata": {
    "collapsed": false
   }
  },
  {
   "cell_type": "code",
   "execution_count": null,
   "outputs": [],
   "source": [
    "from deepmol.unsupervised import UMAP\n",
    "\n",
    "ump = UMAP(n_components=2)\n",
    "umap_df = ump.run(data)\n",
    "ump.plot(umap_df.X, path='umap_output_2.png')"
   ],
   "metadata": {
    "collapsed": false
   }
  },
  {
   "cell_type": "code",
   "execution_count": null,
   "outputs": [],
   "source": [
    "ump = UMAP(n_components=3)\n",
    "umap_df = ump.run(data)\n",
    "ump.plot(umap_df.X, path='umap_output_3.png')"
   ],
   "metadata": {
    "collapsed": false
   }
  },
  {
   "cell_type": "code",
   "execution_count": null,
   "outputs": [],
   "source": [
    "ump = UMAP(n_components=6)\n",
    "umap_df = ump.run(data)\n",
    "ump.plot(umap_df.X, path='umap_output_6.png')"
   ],
   "metadata": {
    "collapsed": false
   }
  },
  {
   "cell_type": "markdown",
   "source": [
    "# Do your own analysis"
   ],
   "metadata": {
    "collapsed": false
   }
  },
  {
   "cell_type": "markdown",
   "source": [
    "You can always generate the data yourself for any of these unsupervised learning methods and plot them the way you want. Let's try it out with PCA."
   ],
   "metadata": {
    "collapsed": false
   }
  },
  {
   "cell_type": "code",
   "execution_count": 43,
   "outputs": [],
   "source": [
    "from deepmol.unsupervised import PCA\n",
    "\n",
    "pca = PCA(n_components=2)\n",
    "pca_df = pca.run(data)"
   ],
   "metadata": {
    "collapsed": false,
    "ExecuteTime": {
     "end_time": "2023-05-31T10:54:40.913952058Z",
     "start_time": "2023-05-31T10:54:40.756299803Z"
    }
   }
  },
  {
   "cell_type": "markdown",
   "source": [
    "The principal components are stored in the X attribute of the dataset object. So, one can access this information by typing:"
   ],
   "metadata": {
    "collapsed": false
   }
  },
  {
   "cell_type": "code",
   "execution_count": 44,
   "outputs": [
    {
     "data": {
      "text/plain": "array([[-0.5702929 ,  0.34961516],\n       [ 0.4019284 ,  0.25011715],\n       [ 0.4814127 , -0.29691637],\n       ...,\n       [-0.67021173,  0.7563012 ],\n       [-1.295675  ,  0.05596984],\n       [-0.5351163 , -0.29156607]], dtype=float32)"
     },
     "execution_count": 44,
     "metadata": {},
     "output_type": "execute_result"
    }
   ],
   "source": [
    "pca_df.X"
   ],
   "metadata": {
    "collapsed": false,
    "ExecuteTime": {
     "end_time": "2023-05-31T10:54:40.922783773Z",
     "start_time": "2023-05-31T10:54:40.922234188Z"
    }
   }
  },
  {
   "cell_type": "markdown",
   "source": [
    "Accordingly you can plot the data using matplotlib or any other plotting library of your choice."
   ],
   "metadata": {
    "collapsed": false
   }
  },
  {
   "cell_type": "code",
   "execution_count": 45,
   "outputs": [
    {
     "data": {
      "text/plain": "Text(0.5, 1.0, 'PCA')"
     },
     "execution_count": 45,
     "metadata": {},
     "output_type": "execute_result"
    },
    {
     "data": {
      "text/plain": "<Figure size 640x480 with 1 Axes>",
      "image/png": "[encoded data removed]"
     },
     "metadata": {},
     "output_type": "display_data"
    }
   ],
   "source": [
    "import matplotlib.pyplot as plt\n",
    "\n",
    "plt.scatter(pca_df.X[:, 0], pca_df.X[:, 1])\n",
    "plt.xlabel('PC1')\n",
    "plt.ylabel('PC2')\n",
    "plt.title('PCA')"
   ],
   "metadata": {
    "collapsed": false,
    "ExecuteTime": {
     "end_time": "2023-05-31T10:54:41.153069696Z",
     "start_time": "2023-05-31T10:54:40.927983711Z"
    }
   }
  }
 ],
 "metadata": {
  "kernelspec": {
   "display_name": "Python 3",
   "language": "python",
   "name": "python3"
  },
  "language_info": {
   "codemirror_mode": {
    "name": "ipython",
    "version": 2
   },
   "file_extension": ".py",
   "mimetype": "text/x-python",
   "name": "python",
   "nbconvert_exporter": "python",
   "pygments_lexer": "ipython2",
   "version": "2.7.6"
  }
 },
 "nbformat": 4,
 "nbformat_minor": 0
}
