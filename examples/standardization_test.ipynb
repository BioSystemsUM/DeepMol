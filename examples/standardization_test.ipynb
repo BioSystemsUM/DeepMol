{
 "cells": [
  {
   "cell_type": "code",
   "execution_count": 1,
   "id": "special-estimate",
   "metadata": {},
   "outputs": [],
   "source": [
    "#conda install -c conda-forge chembl_structure_pipeline"
   ]
  },
  {
   "cell_type": "code",
   "execution_count": 2,
   "id": "editorial-tamil",
   "metadata": {},
   "outputs": [],
   "source": [
    "from loaders.Loaders import CSVLoader\n",
    "from standardizer.BasicStandardizer import BasicStandardizer\n",
    "from standardizer.CustomStandardizer import CustomStandardizer\n",
    "from standardizer.ChEMBLStandardizer import ChEMBLStandardizer"
   ]
  },
  {
   "cell_type": "code",
   "execution_count": 3,
   "id": "aware-round",
   "metadata": {},
   "outputs": [
    {
     "name": "stdout",
     "output_type": "stream",
     "text": [
      "Mols_shape:  23290\n",
      "Features_shape:  X not defined!\n",
      "Labels_shape:  (23290,)\n"
     ]
    }
   ],
   "source": [
    "#Load Dataset\n",
    "dataset = CSVLoader(dataset_path='preprocessed_dataset_wfoodb.csv', \n",
    "                    mols_field='Smiles', \n",
    "                    labels_fields='Class', \n",
    "                    id_field='ID')\n",
    "dataset = dataset.create_dataset()\n",
    "dataset.get_shape()"
   ]
  },
  {
   "cell_type": "code",
   "execution_count": 4,
   "id": "blocked-inclusion",
   "metadata": {},
   "outputs": [
    {
     "name": "stdout",
     "output_type": "stream",
     "text": [
      "['Cc1cc2-c3c(O)cc(cc3OC3(Oc4cc(O)ccc4-c(c1O)c23)c1ccc(O)cc1O)-c1cc2cccc(O)c2o1'\n",
      " 'CC(=O)OC[C@H]1O[C@@H](Oc2cc3c(O)cc(O)cc3[o+]c2-c2ccc(O)c(O)c2)[C@H](O)[C@@H](O)[C@H]1O'\n",
      " 'O[C@@H]1[C@@H](COC(=O)CCC(O)=O)O[C@@H](Oc2cc3c(O)cc(O)cc3[o+]c2-c2ccc(O)c(O)c2)[C@H](O)[C@H]1O'\n",
      " ... 'CCCOC(=O)CC(C)C' 'CC(C)=CCCC(C)=O'\n",
      " 'CC(=O)OCC(C)=CCCC1(C)C2CC3C(C2)C13C']\n"
     ]
    }
   ],
   "source": [
    "print(dataset.mols)"
   ]
  },
  {
   "cell_type": "code",
   "execution_count": 12,
   "id": "external-monte",
   "metadata": {
    "scrolled": true
   },
   "outputs": [
    {
     "name": "stdout",
     "output_type": "stream",
     "text": [
      "Standardizing datapoint 0\n",
      "Standardizing datapoint 1000\n",
      "Standardizing datapoint 2000\n",
      "Standardizing datapoint 3000\n",
      "Standardizing datapoint 4000\n",
      "Standardizing datapoint 5000\n",
      "Standardizing datapoint 6000\n",
      "error in standardizing smile: O=[Cl]=O\n",
      "Failed to featurize datapoint 6257, O=[Cl]=O. Appending non standardized mol\n",
      "Exception message: Python argument types in\n",
      "    rdkit.Chem.rdmolfiles.MolToSmiles(numpy.str_)\n",
      "did not match C++ signature:\n",
      "    MolToSmiles(RDKit::ROMol mol, bool isomericSmiles=True, bool kekuleSmiles=False, int rootedAtAtom=-1, bool canonical=True, bool allBondsExplicit=False, bool allHsExplicit=False, bool doRandom=False)\n"
     ]
    },
    {
     "name": "stderr",
     "output_type": "stream",
     "text": [
      "RDKit ERROR: [[14:16:09] Explicit valence for atom # 1 Cl, 4, is greater than permitted\n"
     ]
    },
    {
     "name": "stdout",
     "output_type": "stream",
     "text": [
      "Standardizing datapoint 7000\n"
     ]
    },
    {
     "name": "stderr",
     "output_type": "stream",
     "text": [
      "RDKit ERROR: [14:16:10] Explicit valence for atom # 3 B, 4, is greater than permitted\n",
      "RDKit ERROR: [14:16:10] Explicit valence for atom # 1 Cl, 9, is greater than permitted\n"
     ]
    },
    {
     "name": "stdout",
     "output_type": "stream",
     "text": [
      "error in standardizing smile: OB1O[B]2(O)OB(O)O[B](O)(O1)O2\n",
      "Failed to featurize datapoint 7708, OB1O[B]2(O)OB(O)O[B](O)(O1)O2. Appending non standardized mol\n",
      "Exception message: Python argument types in\n",
      "    rdkit.Chem.rdmolfiles.MolToSmiles(numpy.str_)\n",
      "did not match C++ signature:\n",
      "    MolToSmiles(RDKit::ROMol mol, bool isomericSmiles=True, bool kekuleSmiles=False, int rootedAtAtom=-1, bool canonical=True, bool allBondsExplicit=False, bool allHsExplicit=False, bool doRandom=False)\n",
      "error in standardizing smile: O=[Cl-](=O)(=O)=O\n",
      "Failed to featurize datapoint 7709, O=[Cl-](=O)(=O)=O. Appending non standardized mol\n",
      "Exception message: Python argument types in\n",
      "    rdkit.Chem.rdmolfiles.MolToSmiles(numpy.str_)\n",
      "did not match C++ signature:\n",
      "    MolToSmiles(RDKit::ROMol mol, bool isomericSmiles=True, bool kekuleSmiles=False, int rootedAtAtom=-1, bool canonical=True, bool allBondsExplicit=False, bool allHsExplicit=False, bool doRandom=False)\n",
      "Standardizing datapoint 8000\n",
      "Standardizing datapoint 9000\n",
      "Standardizing datapoint 10000\n",
      "Standardizing datapoint 11000\n",
      "Standardizing datapoint 12000\n",
      "Standardizing datapoint 13000\n",
      "Standardizing datapoint 14000\n"
     ]
    },
    {
     "name": "stderr",
     "output_type": "stream",
     "text": [
      "RDKit ERROR: [14:16:14] Explicit valence for atom # 0 P, 11, is greater than permitted\n"
     ]
    },
    {
     "name": "stdout",
     "output_type": "stream",
     "text": [
      "error in standardizing smile: [P](OCC=C(C)C)(OCC=C(C)C)(=O)(OP(OCC=C(C)C)(OCC=C(C)C)=O)(CC=C(C)C)(CC=C(C)C)(CC=C(C)C)(CC=C(C)C)(CC=C(C)C)CC=C(C)C\n",
      "Failed to featurize datapoint 14244, [P](OCC=C(C)C)(OCC=C(C)C)(=O)(OP(OCC=C(C)C)(OCC=C(C)C)=O)(CC=C(C)C)(CC=C(C)C)(CC=C(C)C)(CC=C(C)C)(CC=C(C)C)CC=C(C)C. Appending non standardized mol\n",
      "Exception message: Python argument types in\n",
      "    rdkit.Chem.rdmolfiles.MolToSmiles(numpy.str_)\n",
      "did not match C++ signature:\n",
      "    MolToSmiles(RDKit::ROMol mol, bool isomericSmiles=True, bool kekuleSmiles=False, int rootedAtAtom=-1, bool canonical=True, bool allBondsExplicit=False, bool allHsExplicit=False, bool doRandom=False)\n",
      "Standardizing datapoint 15000\n",
      "Standardizing datapoint 16000\n",
      "Standardizing datapoint 17000\n",
      "Standardizing datapoint 18000\n",
      "Standardizing datapoint 19000\n",
      "Standardizing datapoint 20000\n",
      "Standardizing datapoint 21000\n",
      "Standardizing datapoint 22000\n",
      "Standardizing datapoint 23000\n"
     ]
    }
   ],
   "source": [
    "standardizer = BasicStandardizer().standardize(dataset)\n",
    "\n",
    "#standardizer = CustomStandardizer().standardize(dataset)\n",
    "\n",
    "#heavy_standardisation = {\n",
    "#    'REMOVE_ISOTOPE': True,\n",
    "#    'NEUTRALISE_CHARGE': True,\n",
    "#    'REMOVE_STEREO': True,\n",
    "#    'KEEP_BIGGEST': True,\n",
    "#    'ADD_HYDROGEN': True,\n",
    "#    'KEKULIZE': False,\n",
    "#    'NEUTRALISE_CHARGE_LATE': True}\n",
    "#standardizer = CustomStandardizer(heavy_standardisation).standardize(dataset)\n",
    "\n",
    "#standardizer = ChEMBLStandardizer().standardize(dataset)\n"
   ]
  },
  {
   "cell_type": "code",
   "execution_count": 13,
   "id": "fuzzy-nightlife",
   "metadata": {},
   "outputs": [
    {
     "name": "stdout",
     "output_type": "stream",
     "text": [
      "['Cc1cc2c3c(c1O)-c1ccc(O)cc1OC3(c1ccc(O)cc1O)Oc1cc(-c3cc4cccc(O)c4o3)cc(O)c1-2'\n",
      " 'CC(=O)OCC1OC(Oc2cc3c(O)cc(O)cc3[o+]c2-c2ccc(O)c(O)c2)C(O)C(O)C1O'\n",
      " 'O=C(O)CCC(=O)OCC1OC(Oc2cc3c(O)cc(O)cc3[o+]c2-c2ccc(O)c(O)c2)C(O)C(O)C1O'\n",
      " ... 'CCCOC(=O)CC(C)C' 'CC(=O)CCC=C(C)C'\n",
      " 'CC(=O)OCC(C)=CCCC1(C)C2CC3C(C2)C31C']\n"
     ]
    }
   ],
   "source": [
    "print(dataset.mols)"
   ]
  },
  {
   "cell_type": "code",
   "execution_count": 14,
   "id": "resistant-settlement",
   "metadata": {},
   "outputs": [
    {
     "name": "stdout",
     "output_type": "stream",
     "text": [
      "Mols_shape:  23290\n",
      "Features_shape:  X not defined!\n",
      "Labels_shape:  (23290,)\n"
     ]
    }
   ],
   "source": [
    "dataset.get_shape()"
   ]
  }
 ],
 "metadata": {
  "kernelspec": {
   "display_name": "Python 3",
   "language": "python",
   "name": "python3"
  },
  "language_info": {
   "codemirror_mode": {
    "name": "ipython",
    "version": 3
   },
   "file_extension": ".py",
   "mimetype": "text/x-python",
   "name": "python",
   "nbconvert_exporter": "python",
   "pygments_lexer": "ipython3",
   "version": "3.6.13"
  }
 },
 "nbformat": 4,
 "nbformat_minor": 5
}
