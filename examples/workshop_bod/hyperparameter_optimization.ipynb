{
 "cells": [
  {
   "cell_type": "code",
   "execution_count": 1,
   "metadata": {
    "collapsed": true
   },
   "outputs": [
    {
     "name": "stderr",
     "output_type": "stream",
     "text": [
      "2023-03-17 18:40:25.314672: I tensorflow/core/platform/cpu_feature_guard.cc:193] This TensorFlow binary is optimized with oneAPI Deep Neural Network Library (oneDNN) to use the following CPU instructions in performance-critical operations:  AVX2 FMA\n",
      "To enable them in other operations, rebuild TensorFlow with the appropriate compiler flags.\n",
      "2023-03-17 18:40:25.402708: W tensorflow/stream_executor/platform/default/dso_loader.cc:64] Could not load dynamic library 'libcudart.so.11.0'; dlerror: libcudart.so.11.0: cannot open shared object file: No such file or directory\n",
      "2023-03-17 18:40:25.402722: I tensorflow/stream_executor/cuda/cudart_stub.cc:29] Ignore above cudart dlerror if you do not have a GPU set up on your machine.\n",
      "2023-03-17 18:40:25.421608: E tensorflow/stream_executor/cuda/cuda_blas.cc:2981] Unable to register cuBLAS factory: Attempting to register factory for plugin cuBLAS when one has already been registered\n",
      "2023-03-17 18:40:25.817421: W tensorflow/stream_executor/platform/default/dso_loader.cc:64] Could not load dynamic library 'libnvinfer.so.7'; dlerror: libnvinfer.so.7: cannot open shared object file: No such file or directory\n",
      "2023-03-17 18:40:25.817472: W tensorflow/stream_executor/platform/default/dso_loader.cc:64] Could not load dynamic library 'libnvinfer_plugin.so.7'; dlerror: libnvinfer_plugin.so.7: cannot open shared object file: No such file or directory\n",
      "2023-03-17 18:40:25.817478: W tensorflow/compiler/tf2tensorrt/utils/py_utils.cc:38] TF-TRT Warning: Cannot dlopen some TensorRT libraries. If you would like to use Nvidia GPU with TensorRT, please make sure the missing libraries mentioned above are installed properly.\n"
     ]
    }
   ],
   "source": [
    "from rdkit import RDLogger\n",
    "import logging\n",
    "import warnings\n",
    "\n",
    "warnings.filterwarnings(\"ignore\")\n",
    "logger = logging.getLogger()\n",
    "logger.setLevel(logging.CRITICAL)\n",
    "RDLogger.DisableLog('rdApp.*')\n",
    "\n",
    "from sklearn.metrics import accuracy_score\n",
    "from deepmol.metrics import Metric\n",
    "from sklearn.svm import SVC\n",
    "from deepmol.parameter_optimization import HyperparameterOptimizerValidation\n",
    "\n",
    "from deepmol.splitters import RandomSplitter\n",
    "from deepmol.compound_featurization import MorganFingerprint\n",
    "from deepmol.loaders import SDFLoader\n",
    "\n",
    "from tensorflow.python.keras.layers import Dropout\n",
    "from tensorflow.python import keras\n",
    "from tensorflow.python.keras import layers\n",
    "\n"
   ]
  },
  {
   "cell_type": "code",
   "execution_count": 2,
   "outputs": [
    {
     "name": "stdout",
     "output_type": "stream",
     "text": [
      "2023-03-17 18:40:31,637 — INFO — Assuming classification since there are less than 10 unique y values. If otherwise, explicitly set the mode to 'regression'!\n"
     ]
    }
   ],
   "source": [
    "dataset = SDFLoader(\"../data/CHEMBL217_conformers.sdf\", id_field=\"_ID\", labels_fields=[\"_Class\"]).create_dataset()\n",
    "MorganFingerprint().featurize(dataset)\n",
    "train_dataset, valid_dataset, test_dataset = RandomSplitter().train_valid_test_split(dataset, frac_train=0.8, frac_valid=0.1, frac_test=0.1)"
   ],
   "metadata": {
    "collapsed": false
   }
  },
  {
   "cell_type": "markdown",
   "source": [
    "# Hyperparameter tuning with scikit-learn"
   ],
   "metadata": {
    "collapsed": false
   }
  },
  {
   "cell_type": "code",
   "execution_count": 9,
   "outputs": [
    {
     "name": "stdout",
     "output_type": "stream",
     "text": [
      "2023-03-17 13:17:09,300 — INFO — Fitting 2 random models from a space of 3 possible models.\n",
      "2023-03-17 13:17:09,301 — INFO — Fitting model 1/2\n",
      "2023-03-17 13:17:09,302 — INFO — hyperparameters: {'C': 1.0}\n",
      "2023-03-17 13:17:43,806 — INFO — Model 1/2, Metric accuracy_score, Validation set 1: 0.984356\n",
      "2023-03-17 13:17:43,807 — INFO — \tbest_validation_score so far: 0.984356\n",
      "2023-03-17 13:17:43,807 — INFO — Fitting model 2/2\n",
      "2023-03-17 13:17:43,808 — INFO — hyperparameters: {'C': 0.8}\n",
      "2023-03-17 13:18:19,376 — INFO — Model 2/2, Metric accuracy_score, Validation set 2: 0.982551\n",
      "2023-03-17 13:18:19,376 — INFO — \tbest_validation_score so far: 0.984356\n",
      "2023-03-17 13:18:56,974 — INFO — Best hyperparameters: {'C': 1.0}\n",
      "2023-03-17 13:18:56,975 — INFO — train_score: 0.995037\n",
      "2023-03-17 13:18:56,975 — INFO — validation_score: 0.984356\n"
     ]
    }
   ],
   "source": [
    "optimizer = HyperparameterOptimizerValidation(SVC)\n",
    "params_dict_svc = {\"C\": [1.0, 1.2, 0.8]}\n",
    "best_svm, best_hyperparams, all_results = optimizer.hyperparameter_search(train_dataset=train_dataset,\n",
    "                                                                          valid_dataset=valid_dataset,\n",
    "                                                                          metric=Metric(accuracy_score),\n",
    "                                                                          maximize_metric=True,\n",
    "                                                                          n_iter_search=2,\n",
    "                                                                          params_dict=params_dict_svc,\n",
    "                                                                          )"
   ],
   "metadata": {
    "collapsed": false
   }
  },
  {
   "cell_type": "code",
   "execution_count": 10,
   "outputs": [
    {
     "data": {
      "text/plain": "({'accuracy_score': 0.9819603126879134}, {})"
     },
     "execution_count": 10,
     "metadata": {},
     "output_type": "execute_result"
    }
   ],
   "source": [
    "best_svm.evaluate(test_dataset, metrics = [Metric(accuracy_score)])"
   ],
   "metadata": {
    "collapsed": false
   }
  },
  {
   "cell_type": "markdown",
   "source": [
    "# Hyperparameter tuning with keras"
   ],
   "metadata": {
    "collapsed": false
   }
  },
  {
   "cell_type": "code",
   "execution_count": 6,
   "outputs": [],
   "source": [
    "def create_model(input_dim, optimizer='adam', dropout=0.5):\n",
    "    # create model\n",
    "    inputs = layers.Input(shape=input_dim)\n",
    "\n",
    "    # Define the shared layers\n",
    "    shared_layer_1 = layers.Dense(64, activation=\"relu\")\n",
    "    dropout_1 = Dropout(dropout)\n",
    "    shared_layer_2 = layers.Dense(32, activation=\"relu\")\n",
    "\n",
    "    # Define the shared layers for the inputs\n",
    "    x = shared_layer_1(inputs)\n",
    "    x = dropout_1(x)\n",
    "    x = shared_layer_2(x)\n",
    "\n",
    "    task_output = layers.Dense(1, activation=\"sigmoid\")(x)\n",
    "\n",
    "    # Define the model that outputs the predictions for each task\n",
    "    model = keras.Model(inputs=inputs, outputs=task_output)\n",
    "    # Compile the model with different loss functions and metrics for each task\n",
    "    model.compile(\n",
    "        optimizer=optimizer, loss=\"binary_crossentropy\", metrics=[\"accuracy\"]\n",
    "    )\n",
    "    return model\n"
   ],
   "metadata": {
    "collapsed": false
   }
  },
  {
   "cell_type": "code",
   "execution_count": 9,
   "outputs": [
    {
     "name": "stdout",
     "output_type": "stream",
     "text": [
      "2023-03-17 18:13:19,910 — INFO — Fitting 2 random models from a space of 6 possible models.\n",
      "2023-03-17 18:13:19,911 — INFO — Fitting model 1/2\n",
      "2023-03-17 18:13:19,911 — INFO — hyperparameters: {'input_dim': 2048, 'dropout': 0.5, 'optimizer': 'adam'}\n",
      "416/416 [==============================] - 1s 798us/step - loss: 0.1554 - accuracy: 0.9442\n",
      "2023-03-17 18:13:20,598 — ERROR — cannot pickle 'weakref' object\n",
      "2023-03-17 18:13:20,674 — INFO — Model 1/2, Metric accuracy_score, Validation set 1: 0.980144\n",
      "2023-03-17 18:13:20,674 — INFO — \tbest_validation_score so far: 0.980144\n",
      "2023-03-17 18:13:20,674 — INFO — Fitting model 2/2\n",
      "2023-03-17 18:13:20,675 — INFO — hyperparameters: {'input_dim': 2048, 'dropout': 0.7, 'optimizer': 'rmsprop'}\n",
      "416/416 [==============================] - 1s 997us/step - loss: 0.2089 - accuracy: 0.9211\n",
      "2023-03-17 18:13:21,512 — ERROR — cannot pickle 'weakref' object\n",
      "2023-03-17 18:13:21,584 — INFO — Model 2/2, Metric accuracy_score, Validation set 2: 0.973526\n",
      "2023-03-17 18:13:21,585 — INFO — \tbest_validation_score so far: 0.980144\n",
      "2023-03-17 18:13:21,790 — INFO — Best hyperparameters: {'input_dim': 2048, 'dropout': 0.5, 'optimizer': 'adam'}\n",
      "2023-03-17 18:13:21,790 — INFO — train_score: 0.986615\n",
      "2023-03-17 18:13:21,790 — INFO — validation_score: 0.980144\n"
     ]
    }
   ],
   "source": [
    "optimizer = HyperparameterOptimizerValidation(create_model)\n",
    "params_dict_dense = {\n",
    "                   \"input_dim\": [train_dataset.X.shape[1]],\n",
    "                   \"dropout\": [0.5, 0.6, 0.7],\n",
    "                   \"optimizer\": [\"adam\", \"rmsprop\"]\n",
    "                   }\n",
    "\n",
    "best_dnn, best_hyperparams, all_results = optimizer.hyperparameter_search(train_dataset=train_dataset,\n",
    "                                                                          valid_dataset=valid_dataset,\n",
    "                                                                          metric=Metric(accuracy_score),\n",
    "                                                                          maximize_metric=True,\n",
    "                                                                          n_iter_search=2,\n",
    "                                                                          params_dict=params_dict_dense,\n",
    "                                                                          )"
   ],
   "metadata": {
    "collapsed": false
   }
  },
  {
   "cell_type": "code",
   "execution_count": 10,
   "outputs": [
    {
     "data": {
      "text/plain": "({'accuracy_score': 0.9753457606734817}, {})"
     },
     "execution_count": 10,
     "metadata": {},
     "output_type": "execute_result"
    }
   ],
   "source": [
    "best_dnn.evaluate(test_dataset, metrics = [Metric(accuracy_score)])"
   ],
   "metadata": {
    "collapsed": false
   }
  },
  {
   "cell_type": "markdown",
   "source": [
    "# Hyperparameter tuning with deepchem models with cross validation"
   ],
   "metadata": {
    "collapsed": false
   }
  },
  {
   "cell_type": "code",
   "execution_count": 3,
   "outputs": [
    {
     "name": "stdout",
     "output_type": "stream",
     "text": [
      "2023-03-17 18:46:09,927 — INFO — MODEL TYPE: deepchem\n",
      "2023-03-17 18:46:09,927 — INFO — Computing Stratified K-fold split\n"
     ]
    },
    {
     "name": "stderr",
     "output_type": "stream",
     "text": [
      "2023-03-17 18:46:12.276353: W tensorflow/stream_executor/platform/default/dso_loader.cc:64] Could not load dynamic library 'libcuda.so.1'; dlerror: libcuda.so.1: cannot open shared object file: No such file or directory\n",
      "2023-03-17 18:46:12.276372: W tensorflow/stream_executor/cuda/cuda_driver.cc:263] failed call to cuInit: UNKNOWN ERROR (303)\n",
      "2023-03-17 18:46:12.276385: I tensorflow/stream_executor/cuda/cuda_diagnostics.cc:156] kernel driver does not appear to be running on this host (bisbii): /proc/driver/nvidia/version does not exist\n",
      "2023-03-17 18:46:12.276531: I tensorflow/core/platform/cpu_feature_guard.cc:193] This TensorFlow binary is optimized with oneAPI Deep Neural Network Library (oneDNN) to use the following CPU instructions in performance-critical operations:  AVX2 FMA\n",
      "To enable them in other operations, rebuild TensorFlow with the appropriate compiler flags.\n"
     ]
    },
    {
     "name": "stdout",
     "output_type": "stream",
     "text": [
      "2023-03-17 18:47:14,884 — INFO — \n",
      " \n",
      " Best <deepmol.metrics.metrics.Metric object at 0x7fbf2be4cd00>: 0.977278 using {'graph_conv_layers': [64, 64]}\n",
      "2023-03-17 18:47:14,885 — INFO — \n",
      " <deepmol.metrics.metrics.Metric object at 0x7fbf2be4cd00>: 0.977278 (0.002598) with: {'graph_conv_layers': [64, 64]} \n",
      "\n",
      "2023-03-17 18:47:14,885 — INFO — \n",
      " <deepmol.metrics.metrics.Metric object at 0x7fbf2be4cd00>: 0.965922 (0.002891) with: {'graph_conv_layers': [32, 32]} \n",
      "\n"
     ]
    }
   ],
   "source": [
    "from deepmol.parameter_optimization import HyperparameterOptimizerCV\n",
    "from deepmol.compound_featurization import ConvMolFeat\n",
    "from sklearn.metrics import roc_auc_score, precision_score\n",
    "from deepmol.models import DeepChemModel\n",
    "from deepchem.models import GraphConvModel\n",
    "\n",
    "ConvMolFeat().featurize(train_dataset)\n",
    "ConvMolFeat().featurize(valid_dataset)\n",
    "ConvMolFeat().featurize(test_dataset)\n",
    "\n",
    "def graphconv_builder(graph_conv_layers, batch_size=256, epochs=5):\n",
    "    graph = GraphConvModel(n_tasks=1, graph_conv_layers=graph_conv_layers, batch_size=batch_size,\n",
    "                           mode='classification')\n",
    "    return DeepChemModel(graph, epochs=epochs)\n",
    "\n",
    "model_graph = HyperparameterOptimizerCV(model_builder=graphconv_builder)\n",
    "\n",
    "best_model, _, _ = model_graph.hyperparameter_search(train_dataset=train_dataset,\n",
    "                                                     metric=Metric(roc_auc_score),\n",
    "                                                     n_iter_search=2,\n",
    "                                                     maximize_metric=True,\n",
    "                                                     cv = 2,\n",
    "                                                     params_dict={'graph_conv_layers': [[64, 64], [32, 32]]},\n",
    "                                                     model_type=\"deepchem\")\n"
   ],
   "metadata": {
    "collapsed": false
   }
  },
  {
   "cell_type": "code",
   "execution_count": 12,
   "outputs": [
    {
     "data": {
      "text/plain": "({'roc_auc_score': 0.9898796965934775,\n  'precision_score': 0.9402480270574972,\n  'accuracy_score': 0.9591100420926038},\n {})"
     },
     "execution_count": 12,
     "metadata": {},
     "output_type": "execute_result"
    }
   ],
   "source": [
    "test_preds = best_model.predict(test_dataset)\n",
    "\n",
    "metrics = [Metric(roc_auc_score), Metric(precision_score), Metric(accuracy_score)]\n",
    "\n",
    "best_model.evaluate(test_dataset, metrics)\n"
   ],
   "metadata": {
    "collapsed": false
   }
  }
 ],
 "metadata": {
  "kernelspec": {
   "display_name": "Python 3",
   "language": "python",
   "name": "python3"
  },
  "language_info": {
   "codemirror_mode": {
    "name": "ipython",
    "version": 2
   },
   "file_extension": ".py",
   "mimetype": "text/x-python",
   "name": "python",
   "nbconvert_exporter": "python",
   "pygments_lexer": "ipython2",
   "version": "2.7.6"
  }
 },
 "nbformat": 4,
 "nbformat_minor": 0
}
