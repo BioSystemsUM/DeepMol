{
 "cells": [
  {
   "cell_type": "markdown",
   "source": [
    "# Hyperparameter optimization"
   ],
   "metadata": {
    "collapsed": false
   }
  },
  {
   "cell_type": "markdown",
   "source": [
    "## Import packages"
   ],
   "metadata": {
    "collapsed": false
   }
  },
  {
   "cell_type": "code",
   "execution_count": 18,
   "outputs": [],
   "source": [
    "from rdkit import RDLogger\n",
    "import logging\n",
    "import warnings\n",
    "\n",
    "warnings.filterwarnings(\"ignore\")\n",
    "logger = logging.getLogger()\n",
    "logger.setLevel(logging.CRITICAL)\n",
    "RDLogger.DisableLog('rdApp.*')\n",
    "\n",
    "from sklearn.metrics import accuracy_score\n",
    "from deepmol.metrics import Metric\n",
    "from sklearn.svm import SVC\n",
    "from deepmol.parameter_optimization import HyperparameterOptimizerValidation\n",
    "\n",
    "from deepmol.splitters import RandomSplitter\n",
    "from deepmol.compound_featurization import MorganFingerprint\n",
    "from deepmol.loaders import SDFLoader\n",
    "\n",
    "\n",
    "from tensorflow.keras.layers import Dropout\n",
    "from tensorflow import keras\n",
    "from tensorflow.keras import layers"
   ],
   "metadata": {
    "collapsed": false,
    "ExecuteTime": {
     "end_time": "2023-06-01T19:22:42.284105752Z",
     "start_time": "2023-06-01T19:22:42.241492161Z"
    }
   }
  },
  {
   "cell_type": "markdown",
   "source": [
    "## First of all, let's load the data"
   ],
   "metadata": {
    "collapsed": false
   }
  },
  {
   "cell_type": "code",
   "execution_count": 2,
   "outputs": [
    {
     "name": "stdout",
     "output_type": "stream",
     "text": [
      "2023-06-01 20:13:37,282 — INFO — Assuming classification since there are less than 10 unique y values. If otherwise, explicitly set the mode to 'regression'!\n"
     ]
    }
   ],
   "source": [
    "dataset = SDFLoader(\"../data/CHEMBL217_conformers.sdf\", id_field=\"_ID\", labels_fields=[\"_Class\"]).create_dataset()\n",
    "train_dataset, valid_dataset, test_dataset = RandomSplitter().train_valid_test_split(dataset, frac_train=0.8, frac_valid=0.1, frac_test=0.1)"
   ],
   "metadata": {
    "collapsed": false,
    "ExecuteTime": {
     "end_time": "2023-06-01T19:13:37.310732729Z",
     "start_time": "2023-06-01T19:13:36.026142832Z"
    }
   }
  },
  {
   "cell_type": "markdown",
   "source": [
    "## Let's featurize the data"
   ],
   "metadata": {
    "collapsed": false
   }
  },
  {
   "cell_type": "code",
   "execution_count": 3,
   "outputs": [],
   "source": [
    "morgan_fingerprints = MorganFingerprint()\n",
    "morgan_fingerprints.featurize(train_dataset, inplace=True)\n",
    "morgan_fingerprints.featurize(valid_dataset, inplace=True)\n",
    "morgan_fingerprints.featurize(test_dataset, inplace=True)"
   ],
   "metadata": {
    "collapsed": false,
    "ExecuteTime": {
     "end_time": "2023-06-01T19:13:42.618374294Z",
     "start_time": "2023-06-01T19:13:37.428984822Z"
    }
   }
  },
  {
   "cell_type": "markdown",
   "source": [
    "## Hyperparameter tuning with scikit-learn"
   ],
   "metadata": {
    "collapsed": false
   }
  },
  {
   "cell_type": "markdown",
   "source": [
    "DeepMol provide methods to perform hyperparameter tuning with scikit-learn models. The hyperparameter tuning can be performed with a validation set, previously created, or with cross validation. Anyway, the hyperparameter tuning is performed with a random search if the number of iterations is specified, otherwise a grid search is performed.\n",
    "\n",
    "Moreover, for each method the user have to specify the metric to optimize and if the metric has to be maximized or minimized. The user must specify the parameters to optimize and the values to try for each parameter.\n",
    "\n",
    "The parameters must be specified as a dictionary, where the keys are the parameters names and the values are the values to try.\n",
    "\n",
    "Let's see how to perform hyperparameter tuning of a SVM with a validation set."
   ],
   "metadata": {
    "collapsed": false
   }
  },
  {
   "cell_type": "markdown",
   "source": [],
   "metadata": {
    "collapsed": false
   }
  },
  {
   "cell_type": "code",
   "execution_count": null,
   "outputs": [],
   "source": [
    "params_dict_svc = {\"C\": [1.0, 1.2, 0.8], \"kernel\": ['linear', 'poly', 'rbf']} # The keys are the parameters names and the values are the values to try\n",
    "optimizer = HyperparameterOptimizerValidation(SVC)\n",
    "best_svm, best_hyperparams, all_results = optimizer.hyperparameter_search(train_dataset=train_dataset,\n",
    "                                                                          valid_dataset=valid_dataset,\n",
    "                                                                          metric=Metric(accuracy_score),\n",
    "                                                                          maximize_metric=True,\n",
    "                                                                          n_iter_search=2,\n",
    "                                                                          params_dict=params_dict_svc,\n",
    "                                                                          )"
   ],
   "metadata": {
    "collapsed": false
   }
  },
  {
   "cell_type": "markdown",
   "source": [
    "In the end, we can check the performance of the best model on the test set."
   ],
   "metadata": {
    "collapsed": false
   }
  },
  {
   "cell_type": "code",
   "execution_count": 5,
   "outputs": [
    {
     "data": {
      "text/plain": "({'accuracy_score': 0.9879735417919423}, {})"
     },
     "execution_count": 5,
     "metadata": {},
     "output_type": "execute_result"
    }
   ],
   "source": [
    "best_svm.evaluate(test_dataset, metrics = [Metric(accuracy_score)])"
   ],
   "metadata": {
    "collapsed": false,
    "ExecuteTime": {
     "end_time": "2023-06-01T14:15:52.193051546Z",
     "start_time": "2023-06-01T14:15:47.839696599Z"
    }
   }
  },
  {
   "cell_type": "markdown",
   "source": [
    "We can also check the best combination of hyperparameters found."
   ],
   "metadata": {
    "collapsed": false
   }
  },
  {
   "cell_type": "code",
   "execution_count": 6,
   "outputs": [
    {
     "data": {
      "text/plain": "{'C': 1.0, 'kernel': 'poly'}"
     },
     "execution_count": 6,
     "metadata": {},
     "output_type": "execute_result"
    }
   ],
   "source": [
    "best_hyperparams"
   ],
   "metadata": {
    "collapsed": false,
    "ExecuteTime": {
     "end_time": "2023-06-01T14:15:52.196676084Z",
     "start_time": "2023-06-01T14:15:52.193598185Z"
    }
   }
  },
  {
   "cell_type": "markdown",
   "source": [
    "We can also check the performance of all the models trained during the hyperparameter tuning. Each model is defined by the name of the parameters followed by the value of the parameter."
   ],
   "metadata": {
    "collapsed": false
   }
  },
  {
   "cell_type": "code",
   "execution_count": 7,
   "outputs": [
    {
     "data": {
      "text/plain": "{'_C_1.000000_kernel_poly': 0.9885679903730445,\n '_C_0.800000_kernel_linear': 0.9765342960288809}"
     },
     "execution_count": 7,
     "metadata": {},
     "output_type": "execute_result"
    }
   ],
   "source": [
    "all_results"
   ],
   "metadata": {
    "collapsed": false,
    "ExecuteTime": {
     "end_time": "2023-06-01T14:15:52.202132702Z",
     "start_time": "2023-06-01T14:15:52.196811941Z"
    }
   }
  },
  {
   "cell_type": "markdown",
   "source": [
    "Finally, save your best model for deployment and new predictions!"
   ],
   "metadata": {
    "collapsed": false
   }
  },
  {
   "cell_type": "code",
   "execution_count": 8,
   "outputs": [],
   "source": [
    "best_svm.save(\"my_model\")"
   ],
   "metadata": {
    "collapsed": false,
    "ExecuteTime": {
     "end_time": "2023-06-01T14:15:52.482641405Z",
     "start_time": "2023-06-01T14:15:52.202450522Z"
    }
   }
  },
  {
   "cell_type": "markdown",
   "source": [
    "Bring it back to life and make predictions!"
   ],
   "metadata": {
    "collapsed": false
   }
  },
  {
   "cell_type": "code",
   "execution_count": 9,
   "outputs": [
    {
     "data": {
      "text/plain": "array([0., 0., 1., ..., 1., 0., 0.])"
     },
     "execution_count": 9,
     "metadata": {},
     "output_type": "execute_result"
    }
   ],
   "source": [
    "from deepmol.models import SklearnModel\n",
    "\n",
    "SklearnModel.load(\"my_model\").predict(test_dataset)"
   ],
   "metadata": {
    "collapsed": false,
    "ExecuteTime": {
     "end_time": "2023-06-01T14:15:56.968266097Z",
     "start_time": "2023-06-01T14:15:52.484425771Z"
    }
   }
  },
  {
   "cell_type": "markdown",
   "source": [
    "## Now let's try with cross validation"
   ],
   "metadata": {
    "collapsed": false
   }
  },
  {
   "cell_type": "code",
   "execution_count": 16,
   "outputs": [
    {
     "name": "stdout",
     "output_type": "stream",
     "text": [
      "2023-06-01 16:19:58,650 — INFO — MODEL TYPE: sklearn\n",
      "2023-06-01 16:19:58,651 — INFO — Fitting 2 random models from a space of 9 possible models.\n",
      "2023-06-01 16:21:17,213 — INFO — \n",
      " \n",
      " Best <function accuracy_score at 0x7f820037f0d0>: 0.973680 using {'kernel': 'linear', 'C': 1.0}\n",
      "2023-06-01 16:21:17,214 — INFO — \n",
      " <function accuracy_score at 0x7f820037f0d0>: 0.973304 (0.000281) with: {'kernel': 'linear', 'C': 1.2} \n",
      "\n",
      "2023-06-01 16:21:17,214 — INFO — \n",
      " <function accuracy_score at 0x7f820037f0d0>: 0.973680 (0.000282) with: {'kernel': 'linear', 'C': 1.0} \n",
      "\n",
      "2023-06-01 16:21:17,215 — INFO — Fitting best model!\n",
      "2023-06-01 16:21:32,759 — INFO — SklearnModel(mode='classification', model=SVC(kernel='linear'),\n",
      "             model_dir='/tmp/tmpom34y1bo')\n"
     ]
    }
   ],
   "source": [
    "from deepmol.parameter_optimization import HyperparameterOptimizerCV\n",
    "\n",
    "params_dict_svc = {\"C\": [1.0, 1.2, 0.8], \"kernel\": ['linear', 'poly', 'rbf']}\n",
    "optimizer = HyperparameterOptimizerCV(SVC)\n",
    "best_svm, best_hyperparams, all_results = optimizer.hyperparameter_search(train_dataset=train_dataset,\n",
    "                                                                          metric=Metric(accuracy_score),\n",
    "                                                                          maximize_metric=True,\n",
    "                                                                          cv=3,\n",
    "                                                                          n_iter_search=2,\n",
    "                                                                          params_dict=params_dict_svc,\n",
    "                                                                          model_type=\"sklearn\"\n",
    "                                                                          )"
   ],
   "metadata": {
    "collapsed": false,
    "ExecuteTime": {
     "end_time": "2023-06-01T15:21:32.807870961Z",
     "start_time": "2023-06-01T15:19:58.651629829Z"
    }
   }
  },
  {
   "cell_type": "markdown",
   "source": [
    "Then, we can check the performance of the best model on the test set."
   ],
   "metadata": {
    "collapsed": false
   }
  },
  {
   "cell_type": "code",
   "execution_count": 11,
   "outputs": [
    {
     "data": {
      "text/plain": "({'accuracy_score': 0.9879735417919423}, {})"
     },
     "execution_count": 11,
     "metadata": {},
     "output_type": "execute_result"
    }
   ],
   "source": [
    "best_svm.evaluate(test_dataset, metrics = [Metric(accuracy_score)])"
   ],
   "metadata": {
    "collapsed": false,
    "ExecuteTime": {
     "end_time": "2023-06-01T14:59:29.636071937Z",
     "start_time": "2023-06-01T14:59:25.211633215Z"
    }
   }
  },
  {
   "cell_type": "markdown",
   "source": [
    "We can also check the best combination of hyperparameters found."
   ],
   "metadata": {
    "collapsed": false
   }
  },
  {
   "cell_type": "code",
   "execution_count": 12,
   "outputs": [
    {
     "data": {
      "text/plain": "{'probability': True, 'kernel': 'poly', 'C': 1.2}"
     },
     "execution_count": 12,
     "metadata": {},
     "output_type": "execute_result"
    }
   ],
   "source": [
    "best_hyperparams"
   ],
   "metadata": {
    "collapsed": false,
    "ExecuteTime": {
     "end_time": "2023-06-01T15:01:19.947966265Z",
     "start_time": "2023-06-01T15:01:19.905744908Z"
    }
   }
  },
  {
   "cell_type": "markdown",
   "source": [
    "We can also check the performance of all the models trained during the hyperparameter tuning. Each model is defined by the name of the parameters followed by the value of the parameter."
   ],
   "metadata": {
    "collapsed": false
   }
  },
  {
   "cell_type": "code",
   "execution_count": 13,
   "outputs": [
    {
     "data": {
      "text/plain": "{'mean_fit_time': array([103.76487271, 104.18803382]),\n 'std_fit_time': array([1.19065455, 0.81880114]),\n 'mean_score_time': array([8.71299458, 8.91998561]),\n 'std_score_time': array([0.4336231 , 0.08003275]),\n 'param_probability': masked_array(data=[True, True],\n              mask=[False, False],\n        fill_value='?',\n             dtype=object),\n 'param_kernel': masked_array(data=['poly', 'poly'],\n              mask=[False, False],\n        fill_value='?',\n             dtype=object),\n 'param_C': masked_array(data=[1.2, 1.0],\n              mask=[False, False],\n        fill_value='?',\n             dtype=object),\n 'params': [{'probability': True, 'kernel': 'poly', 'C': 1.2},\n  {'probability': True, 'kernel': 'poly', 'C': 1.0}],\n 'split0_test_score': array([0.9835326 , 0.98217911]),\n 'split1_test_score': array([0.98578841, 0.98511166]),\n 'split2_test_score': array([0.98285199, 0.98217509]),\n 'mean_test_score': array([0.98405766, 0.98315529]),\n 'std_test_score': array([0.00125497, 0.00138337]),\n 'rank_test_score': array([1, 2], dtype=int32)}"
     },
     "execution_count": 13,
     "metadata": {},
     "output_type": "execute_result"
    }
   ],
   "source": [
    "all_results"
   ],
   "metadata": {
    "collapsed": false,
    "ExecuteTime": {
     "end_time": "2023-06-01T15:01:24.065333464Z",
     "start_time": "2023-06-01T15:01:24.058392290Z"
    }
   }
  },
  {
   "cell_type": "markdown",
   "source": [
    "Finally, save your best model for deployment and new predictions!"
   ],
   "metadata": {
    "collapsed": false
   }
  },
  {
   "cell_type": "code",
   "execution_count": 14,
   "outputs": [],
   "source": [
    "best_svm.save(\"my_model\")"
   ],
   "metadata": {
    "collapsed": false,
    "ExecuteTime": {
     "end_time": "2023-06-01T15:19:18.381152775Z",
     "start_time": "2023-06-01T15:19:18.209028237Z"
    }
   }
  },
  {
   "cell_type": "markdown",
   "source": [
    "Bring it back to life and make predictions!"
   ],
   "metadata": {
    "collapsed": false
   }
  },
  {
   "cell_type": "code",
   "execution_count": 15,
   "outputs": [
    {
     "data": {
      "text/plain": "array([[9.99798926e-01, 2.01074317e-04],\n       [9.99341488e-01, 6.58511735e-04],\n       [3.02237487e-03, 9.96977625e-01],\n       ...,\n       [1.68278370e-08, 9.99999983e-01],\n       [9.90501082e-01, 9.49891777e-03],\n       [9.99827191e-01, 1.72809148e-04]])"
     },
     "execution_count": 15,
     "metadata": {},
     "output_type": "execute_result"
    }
   ],
   "source": [
    "from deepmol.models import SklearnModel\n",
    "\n",
    "SklearnModel.load(\"my_model\").predict(test_dataset)"
   ],
   "metadata": {
    "collapsed": false,
    "ExecuteTime": {
     "end_time": "2023-06-01T15:19:39.147150345Z",
     "start_time": "2023-06-01T15:19:35.060143022Z"
    }
   }
  },
  {
   "cell_type": "markdown",
   "source": [
    "# Hyperparameter tuning with keras"
   ],
   "metadata": {
    "collapsed": false
   }
  },
  {
   "cell_type": "markdown",
   "source": [
    "DeepMol provide methods to perform hyperparameter tuning with keras models. The hyperparameter tuning can be performed with a validation set, previously created, or with cross validation. Anyway, the hyperparameter tuning is performed with a random search if the number of iterations is specified, otherwise a grid search is performed."
   ],
   "metadata": {
    "collapsed": false
   }
  },
  {
   "cell_type": "markdown",
   "source": [
    "As explained in the models section, to create a Keras model one have to define a function with the model architecture and the parameters to optimize."
   ],
   "metadata": {
    "collapsed": false
   }
  },
  {
   "cell_type": "code",
   "execution_count": 16,
   "outputs": [],
   "source": [
    "def create_model(input_dim, optimizer='adam', dropout=0.5):\n",
    "    # create model\n",
    "    inputs = layers.Input(shape=input_dim)\n",
    "\n",
    "    # Define the shared layers\n",
    "    shared_layer_1 = layers.Dense(64, activation=\"relu\")\n",
    "    dropout_1 = Dropout(dropout)\n",
    "    shared_layer_2 = layers.Dense(32, activation=\"relu\")\n",
    "\n",
    "    # Define the shared layers for the inputs\n",
    "    x = shared_layer_1(inputs)\n",
    "    x = dropout_1(x)\n",
    "    x = shared_layer_2(x)\n",
    "\n",
    "    task_output = layers.Dense(1, activation=\"sigmoid\")(x)\n",
    "\n",
    "    # Define the model that outputs the predictions for each task\n",
    "    model = keras.Model(inputs=inputs, outputs=task_output)\n",
    "    # Compile the model with different loss functions and metrics for each task\n",
    "    model.compile(\n",
    "        optimizer=optimizer, loss=\"binary_crossentropy\", metrics=[\"accuracy\"]\n",
    "    )\n",
    "    return model\n"
   ],
   "metadata": {
    "collapsed": false,
    "ExecuteTime": {
     "end_time": "2023-06-01T19:19:45.770283301Z",
     "start_time": "2023-06-01T19:19:45.760722579Z"
    }
   }
  },
  {
   "cell_type": "markdown",
   "source": [
    "Let's see how to perform hyperparameter tuning of a DNN with a validation set."
   ],
   "metadata": {
    "collapsed": false
   }
  },
  {
   "cell_type": "code",
   "execution_count": 17,
   "outputs": [
    {
     "name": "stdout",
     "output_type": "stream",
     "text": [
      "2023-06-01 20:19:47,721 — INFO — Fitting 2 random models from a space of 3 possible models.\n",
      "2023-06-01 20:19:47,722 — INFO — Fitting model 1/2\n",
      "2023-06-01 20:19:47,724 — INFO — hyperparameters: {'input_dim': 2048, 'dropout': 0.6, 'optimizer': <class 'keras.optimizers.adam.Adam'>}\n"
     ]
    },
    {
     "name": "stderr",
     "output_type": "stream",
     "text": [
      "2023-06-01 20:19:48.921162: E tensorflow/compiler/xla/stream_executor/cuda/cuda_dnn.cc:417] Loaded runtime CuDNN library: 8.5.0 but source was compiled with: 8.6.0.  CuDNN library needs to have matching major version and equal or higher minor version. If using a binary install, upgrade your CuDNN library.  If building from sources, make sure the library loaded at runtime is compatible with the version specified during compile configuration.\n",
      "2023-06-01 20:19:48.959148: E tensorflow/compiler/xla/status_macros.cc:57] INTERNAL: RET_CHECK failure (tensorflow/compiler/xla/service/gpu/gpu_compiler.cc:618) dnn != nullptr \n",
      "*** Begin stack trace ***\n",
      "\ttsl::CurrentStackTrace[abi:cxx11]()\n",
      "\t\n",
      "\txla::status_macros::MakeErrorStream::Impl::GetStatus()\n",
      "\txla::gpu::GpuCompiler::OptimizeHloModule(xla::HloModule*, stream_executor::StreamExecutor*, stream_executor::DeviceMemoryAllocator*, xla::gpu::GpuTargetConfig const&, xla::AutotuneResults const*)\n",
      "\txla::gpu::GpuCompiler::RunHloPasses(std::unique_ptr<xla::HloModule, std::default_delete<xla::HloModule> >, stream_executor::StreamExecutor*, xla::Compiler::CompileOptions const&)\n",
      "\txla::Service::BuildExecutable(xla::HloModuleProto const&, std::unique_ptr<xla::HloModuleConfig, std::default_delete<xla::HloModuleConfig> >, xla::Backend*, stream_executor::StreamExecutor*, xla::Compiler::CompileOptions const&, bool)\n",
      "\txla::LocalService::CompileExecutables(xla::XlaComputation const&, absl::lts_20220623::Span<xla::Shape const* const>, xla::ExecutableBuildOptions const&)\n",
      "\txla::LocalClient::Compile(xla::XlaComputation const&, absl::lts_20220623::Span<xla::Shape const* const>, xla::ExecutableBuildOptions const&)\n",
      "\ttensorflow::XlaDeviceCompilerClient::BuildExecutable(tensorflow::XlaCompiler::Options const&, tensorflow::XlaCompilationResult const&)\n",
      "\ttensorflow::DeviceCompiler<xla::LocalExecutable, xla::LocalClient>::CompileStrict(tensorflow::DeviceCompilationClusterSignature const&, tensorflow::XlaCompiler::CompileOptions const&, tensorflow::XlaCompiler::Options const&, std::vector<tensorflow::XlaArgument, std::allocator<tensorflow::XlaArgument> > const&, tensorflow::NameAttrList const&, tensorflow::DeviceCompilationCache<xla::LocalExecutable>::Value, tensorflow::DeviceCompiler<xla::LocalExecutable, xla::LocalClient>::CompileScope, tensorflow::OpKernelContext*, tensorflow::DeviceCompilationProfiler*, tsl::mutex*)\n",
      "\ttensorflow::DeviceCompiler<xla::LocalExecutable, xla::LocalClient>::CompileImpl(tensorflow::XlaCompiler::CompileOptions const&, tensorflow::XlaCompiler::Options const&, tensorflow::NameAttrList const&, std::vector<tensorflow::XlaArgument, std::allocator<tensorflow::XlaArgument> > const&, tensorflow::DeviceCompiler<xla::LocalExecutable, xla::LocalClient>::CompileScope, tensorflow::DeviceCompileMode, tensorflow::OpKernelContext*, tensorflow::DeviceCompilationProfiler*, tensorflow::XlaCompilationResult const**, xla::LocalExecutable**)\n",
      "\t\n",
      "\ttensorflow::XlaLocalLaunchBase::ComputeAsync(tensorflow::OpKernelContext*, std::function<void ()>)\n",
      "\ttensorflow::BaseGPUDevice::ComputeAsync(tensorflow::AsyncOpKernel*, tensorflow::OpKernelContext*, std::function<void ()>)\n",
      "\t\n",
      "\t\n",
      "\tEigen::ThreadPoolTempl<tsl::thread::EigenEnvironment>::WorkerLoop(int)\n",
      "\tstd::_Function_handler<void (), tsl::thread::EigenEnvironment::CreateThread(std::function<void ()>)::{lambda()#1}>::_M_invoke(std::_Any_data const&)\n",
      "\t\n",
      "\t\n",
      "\tclone\n",
      "*** End stack trace ***\n",
      "\n",
      "2023-06-01 20:19:48.959633: W tensorflow/core/framework/op_kernel.cc:1830] OP_REQUIRES failed at xla_ops.cc:362 : INTERNAL: RET_CHECK failure (tensorflow/compiler/xla/service/gpu/gpu_compiler.cc:618) dnn != nullptr \n",
      "2023-06-01 20:19:48.959704: I tensorflow/core/common_runtime/executor.cc:1197] [/job:localhost/replica:0/task:0/device:GPU:0] (DEBUG INFO) Executor start aborting (this does not indicate an error and you can ignore this message): INTERNAL: RET_CHECK failure (tensorflow/compiler/xla/service/gpu/gpu_compiler.cc:618) dnn != nullptr \n",
      "\t [[{{node StatefulPartitionedCall_4}}]]\n",
      "2023-06-01 20:19:48.978108: E tensorflow/compiler/xla/stream_executor/cuda/cuda_dnn.cc:417] Loaded runtime CuDNN library: 8.5.0 but source was compiled with: 8.6.0.  CuDNN library needs to have matching major version and equal or higher minor version. If using a binary install, upgrade your CuDNN library.  If building from sources, make sure the library loaded at runtime is compatible with the version specified during compile configuration.\n",
      "2023-06-01 20:19:49.008778: E tensorflow/compiler/xla/status_macros.cc:57] INTERNAL: RET_CHECK failure (tensorflow/compiler/xla/service/gpu/gpu_compiler.cc:618) dnn != nullptr \n",
      "*** Begin stack trace ***\n",
      "\ttsl::CurrentStackTrace[abi:cxx11]()\n",
      "\t\n",
      "\txla::status_macros::MakeErrorStream::Impl::GetStatus()\n",
      "\txla::gpu::GpuCompiler::OptimizeHloModule(xla::HloModule*, stream_executor::StreamExecutor*, stream_executor::DeviceMemoryAllocator*, xla::gpu::GpuTargetConfig const&, xla::AutotuneResults const*)\n",
      "\txla::gpu::GpuCompiler::RunHloPasses(std::unique_ptr<xla::HloModule, std::default_delete<xla::HloModule> >, stream_executor::StreamExecutor*, xla::Compiler::CompileOptions const&)\n",
      "\txla::Service::BuildExecutable(xla::HloModuleProto const&, std::unique_ptr<xla::HloModuleConfig, std::default_delete<xla::HloModuleConfig> >, xla::Backend*, stream_executor::StreamExecutor*, xla::Compiler::CompileOptions const&, bool)\n",
      "\txla::LocalService::CompileExecutables(xla::XlaComputation const&, absl::lts_20220623::Span<xla::Shape const* const>, xla::ExecutableBuildOptions const&)\n",
      "\txla::LocalClient::Compile(xla::XlaComputation const&, absl::lts_20220623::Span<xla::Shape const* const>, xla::ExecutableBuildOptions const&)\n",
      "\ttensorflow::XlaDeviceCompilerClient::BuildExecutable(tensorflow::XlaCompiler::Options const&, tensorflow::XlaCompilationResult const&)\n",
      "\ttensorflow::DeviceCompiler<xla::LocalExecutable, xla::LocalClient>::CompileStrict(tensorflow::DeviceCompilationClusterSignature const&, tensorflow::XlaCompiler::CompileOptions const&, tensorflow::XlaCompiler::Options const&, std::vector<tensorflow::XlaArgument, std::allocator<tensorflow::XlaArgument> > const&, tensorflow::NameAttrList const&, tensorflow::DeviceCompilationCache<xla::LocalExecutable>::Value, tensorflow::DeviceCompiler<xla::LocalExecutable, xla::LocalClient>::CompileScope, tensorflow::OpKernelContext*, tensorflow::DeviceCompilationProfiler*, tsl::mutex*)\n",
      "\ttensorflow::DeviceCompiler<xla::LocalExecutable, xla::LocalClient>::CompileImpl(tensorflow::XlaCompiler::CompileOptions const&, tensorflow::XlaCompiler::Options const&, tensorflow::NameAttrList const&, std::vector<tensorflow::XlaArgument, std::allocator<tensorflow::XlaArgument> > const&, tensorflow::DeviceCompiler<xla::LocalExecutable, xla::LocalClient>::CompileScope, tensorflow::DeviceCompileMode, tensorflow::OpKernelContext*, tensorflow::DeviceCompilationProfiler*, tensorflow::XlaCompilationResult const**, xla::LocalExecutable**)\n",
      "\t\n",
      "\ttensorflow::XlaLocalLaunchBase::ComputeAsync(tensorflow::OpKernelContext*, std::function<void ()>)\n",
      "\ttensorflow::BaseGPUDevice::ComputeAsync(tensorflow::AsyncOpKernel*, tensorflow::OpKernelContext*, std::function<void ()>)\n",
      "\t\n",
      "\t\n",
      "\tEigen::ThreadPoolTempl<tsl::thread::EigenEnvironment>::WorkerLoop(int)\n",
      "\tstd::_Function_handler<void (), tsl::thread::EigenEnvironment::CreateThread(std::function<void ()>)::{lambda()#1}>::_M_invoke(std::_Any_data const&)\n",
      "\t\n",
      "\t\n",
      "\tclone\n",
      "*** End stack trace ***\n",
      "\n",
      "2023-06-01 20:19:49.009063: W tensorflow/core/framework/op_kernel.cc:1830] OP_REQUIRES failed at xla_ops.cc:362 : INTERNAL: RET_CHECK failure (tensorflow/compiler/xla/service/gpu/gpu_compiler.cc:618) dnn != nullptr \n",
      "2023-06-01 20:19:49.027179: E tensorflow/compiler/xla/stream_executor/cuda/cuda_dnn.cc:417] Loaded runtime CuDNN library: 8.5.0 but source was compiled with: 8.6.0.  CuDNN library needs to have matching major version and equal or higher minor version. If using a binary install, upgrade your CuDNN library.  If building from sources, make sure the library loaded at runtime is compatible with the version specified during compile configuration.\n",
      "2023-06-01 20:19:49.057801: E tensorflow/compiler/xla/status_macros.cc:57] INTERNAL: RET_CHECK failure (tensorflow/compiler/xla/service/gpu/gpu_compiler.cc:618) dnn != nullptr \n",
      "*** Begin stack trace ***\n",
      "\ttsl::CurrentStackTrace[abi:cxx11]()\n",
      "\t\n",
      "\txla::status_macros::MakeErrorStream::Impl::GetStatus()\n",
      "\txla::gpu::GpuCompiler::OptimizeHloModule(xla::HloModule*, stream_executor::StreamExecutor*, stream_executor::DeviceMemoryAllocator*, xla::gpu::GpuTargetConfig const&, xla::AutotuneResults const*)\n",
      "\txla::gpu::GpuCompiler::RunHloPasses(std::unique_ptr<xla::HloModule, std::default_delete<xla::HloModule> >, stream_executor::StreamExecutor*, xla::Compiler::CompileOptions const&)\n",
      "\txla::Service::BuildExecutable(xla::HloModuleProto const&, std::unique_ptr<xla::HloModuleConfig, std::default_delete<xla::HloModuleConfig> >, xla::Backend*, stream_executor::StreamExecutor*, xla::Compiler::CompileOptions const&, bool)\n",
      "\txla::LocalService::CompileExecutables(xla::XlaComputation const&, absl::lts_20220623::Span<xla::Shape const* const>, xla::ExecutableBuildOptions const&)\n",
      "\txla::LocalClient::Compile(xla::XlaComputation const&, absl::lts_20220623::Span<xla::Shape const* const>, xla::ExecutableBuildOptions const&)\n",
      "\ttensorflow::XlaDeviceCompilerClient::BuildExecutable(tensorflow::XlaCompiler::Options const&, tensorflow::XlaCompilationResult const&)\n",
      "\ttensorflow::DeviceCompiler<xla::LocalExecutable, xla::LocalClient>::CompileStrict(tensorflow::DeviceCompilationClusterSignature const&, tensorflow::XlaCompiler::CompileOptions const&, tensorflow::XlaCompiler::Options const&, std::vector<tensorflow::XlaArgument, std::allocator<tensorflow::XlaArgument> > const&, tensorflow::NameAttrList const&, tensorflow::DeviceCompilationCache<xla::LocalExecutable>::Value, tensorflow::DeviceCompiler<xla::LocalExecutable, xla::LocalClient>::CompileScope, tensorflow::OpKernelContext*, tensorflow::DeviceCompilationProfiler*, tsl::mutex*)\n",
      "\ttensorflow::DeviceCompiler<xla::LocalExecutable, xla::LocalClient>::CompileImpl(tensorflow::XlaCompiler::CompileOptions const&, tensorflow::XlaCompiler::Options const&, tensorflow::NameAttrList const&, std::vector<tensorflow::XlaArgument, std::allocator<tensorflow::XlaArgument> > const&, tensorflow::DeviceCompiler<xla::LocalExecutable, xla::LocalClient>::CompileScope, tensorflow::DeviceCompileMode, tensorflow::OpKernelContext*, tensorflow::DeviceCompilationProfiler*, tensorflow::XlaCompilationResult const**, xla::LocalExecutable**)\n",
      "\t\n",
      "\ttensorflow::XlaLocalLaunchBase::ComputeAsync(tensorflow::OpKernelContext*, std::function<void ()>)\n",
      "\ttensorflow::BaseGPUDevice::ComputeAsync(tensorflow::AsyncOpKernel*, tensorflow::OpKernelContext*, std::function<void ()>)\n",
      "\t\n",
      "\t\n",
      "\tEigen::ThreadPoolTempl<tsl::thread::EigenEnvironment>::WorkerLoop(int)\n",
      "\tstd::_Function_handler<void (), tsl::thread::EigenEnvironment::CreateThread(std::function<void ()>)::{lambda()#1}>::_M_invoke(std::_Any_data const&)\n",
      "\t\n",
      "\t\n",
      "\tclone\n",
      "*** End stack trace ***\n",
      "\n",
      "2023-06-01 20:19:49.058091: W tensorflow/core/framework/op_kernel.cc:1830] OP_REQUIRES failed at xla_ops.cc:362 : INTERNAL: RET_CHECK failure (tensorflow/compiler/xla/service/gpu/gpu_compiler.cc:618) dnn != nullptr \n",
      "2023-06-01 20:19:49.076093: E tensorflow/compiler/xla/stream_executor/cuda/cuda_dnn.cc:417] Loaded runtime CuDNN library: 8.5.0 but source was compiled with: 8.6.0.  CuDNN library needs to have matching major version and equal or higher minor version. If using a binary install, upgrade your CuDNN library.  If building from sources, make sure the library loaded at runtime is compatible with the version specified during compile configuration.\n",
      "2023-06-01 20:19:49.106760: E tensorflow/compiler/xla/status_macros.cc:57] INTERNAL: RET_CHECK failure (tensorflow/compiler/xla/service/gpu/gpu_compiler.cc:618) dnn != nullptr \n",
      "*** Begin stack trace ***\n",
      "\ttsl::CurrentStackTrace[abi:cxx11]()\n",
      "\t\n",
      "\txla::status_macros::MakeErrorStream::Impl::GetStatus()\n",
      "\txla::gpu::GpuCompiler::OptimizeHloModule(xla::HloModule*, stream_executor::StreamExecutor*, stream_executor::DeviceMemoryAllocator*, xla::gpu::GpuTargetConfig const&, xla::AutotuneResults const*)\n",
      "\txla::gpu::GpuCompiler::RunHloPasses(std::unique_ptr<xla::HloModule, std::default_delete<xla::HloModule> >, stream_executor::StreamExecutor*, xla::Compiler::CompileOptions const&)\n",
      "\txla::Service::BuildExecutable(xla::HloModuleProto const&, std::unique_ptr<xla::HloModuleConfig, std::default_delete<xla::HloModuleConfig> >, xla::Backend*, stream_executor::StreamExecutor*, xla::Compiler::CompileOptions const&, bool)\n",
      "\txla::LocalService::CompileExecutables(xla::XlaComputation const&, absl::lts_20220623::Span<xla::Shape const* const>, xla::ExecutableBuildOptions const&)\n",
      "\txla::LocalClient::Compile(xla::XlaComputation const&, absl::lts_20220623::Span<xla::Shape const* const>, xla::ExecutableBuildOptions const&)\n",
      "\ttensorflow::XlaDeviceCompilerClient::BuildExecutable(tensorflow::XlaCompiler::Options const&, tensorflow::XlaCompilationResult const&)\n",
      "\ttensorflow::DeviceCompiler<xla::LocalExecutable, xla::LocalClient>::CompileStrict(tensorflow::DeviceCompilationClusterSignature const&, tensorflow::XlaCompiler::CompileOptions const&, tensorflow::XlaCompiler::Options const&, std::vector<tensorflow::XlaArgument, std::allocator<tensorflow::XlaArgument> > const&, tensorflow::NameAttrList const&, tensorflow::DeviceCompilationCache<xla::LocalExecutable>::Value, tensorflow::DeviceCompiler<xla::LocalExecutable, xla::LocalClient>::CompileScope, tensorflow::OpKernelContext*, tensorflow::DeviceCompilationProfiler*, tsl::mutex*)\n",
      "\ttensorflow::DeviceCompiler<xla::LocalExecutable, xla::LocalClient>::CompileImpl(tensorflow::XlaCompiler::CompileOptions const&, tensorflow::XlaCompiler::Options const&, tensorflow::NameAttrList const&, std::vector<tensorflow::XlaArgument, std::allocator<tensorflow::XlaArgument> > const&, tensorflow::DeviceCompiler<xla::LocalExecutable, xla::LocalClient>::CompileScope, tensorflow::DeviceCompileMode, tensorflow::OpKernelContext*, tensorflow::DeviceCompilationProfiler*, tensorflow::XlaCompilationResult const**, xla::LocalExecutable**)\n",
      "\t\n",
      "\ttensorflow::XlaLocalLaunchBase::ComputeAsync(tensorflow::OpKernelContext*, std::function<void ()>)\n",
      "\ttensorflow::BaseGPUDevice::ComputeAsync(tensorflow::AsyncOpKernel*, tensorflow::OpKernelContext*, std::function<void ()>)\n",
      "\t\n",
      "\t\n",
      "\tEigen::ThreadPoolTempl<tsl::thread::EigenEnvironment>::WorkerLoop(int)\n",
      "\tstd::_Function_handler<void (), tsl::thread::EigenEnvironment::CreateThread(std::function<void ()>)::{lambda()#1}>::_M_invoke(std::_Any_data const&)\n",
      "\t\n",
      "\t\n",
      "\tclone\n",
      "*** End stack trace ***\n",
      "\n",
      "2023-06-01 20:19:49.107023: W tensorflow/core/framework/op_kernel.cc:1830] OP_REQUIRES failed at xla_ops.cc:362 : INTERNAL: RET_CHECK failure (tensorflow/compiler/xla/service/gpu/gpu_compiler.cc:618) dnn != nullptr \n",
      "2023-06-01 20:19:49.125334: E tensorflow/compiler/xla/stream_executor/cuda/cuda_dnn.cc:417] Loaded runtime CuDNN library: 8.5.0 but source was compiled with: 8.6.0.  CuDNN library needs to have matching major version and equal or higher minor version. If using a binary install, upgrade your CuDNN library.  If building from sources, make sure the library loaded at runtime is compatible with the version specified during compile configuration.\n",
      "2023-06-01 20:19:49.155909: E tensorflow/compiler/xla/status_macros.cc:57] INTERNAL: RET_CHECK failure (tensorflow/compiler/xla/service/gpu/gpu_compiler.cc:618) dnn != nullptr \n",
      "*** Begin stack trace ***\n",
      "\ttsl::CurrentStackTrace[abi:cxx11]()\n",
      "\t\n",
      "\txla::status_macros::MakeErrorStream::Impl::GetStatus()\n",
      "\txla::gpu::GpuCompiler::OptimizeHloModule(xla::HloModule*, stream_executor::StreamExecutor*, stream_executor::DeviceMemoryAllocator*, xla::gpu::GpuTargetConfig const&, xla::AutotuneResults const*)\n",
      "\txla::gpu::GpuCompiler::RunHloPasses(std::unique_ptr<xla::HloModule, std::default_delete<xla::HloModule> >, stream_executor::StreamExecutor*, xla::Compiler::CompileOptions const&)\n",
      "\txla::Service::BuildExecutable(xla::HloModuleProto const&, std::unique_ptr<xla::HloModuleConfig, std::default_delete<xla::HloModuleConfig> >, xla::Backend*, stream_executor::StreamExecutor*, xla::Compiler::CompileOptions const&, bool)\n",
      "\txla::LocalService::CompileExecutables(xla::XlaComputation const&, absl::lts_20220623::Span<xla::Shape const* const>, xla::ExecutableBuildOptions const&)\n",
      "\txla::LocalClient::Compile(xla::XlaComputation const&, absl::lts_20220623::Span<xla::Shape const* const>, xla::ExecutableBuildOptions const&)\n",
      "\ttensorflow::XlaDeviceCompilerClient::BuildExecutable(tensorflow::XlaCompiler::Options const&, tensorflow::XlaCompilationResult const&)\n",
      "\ttensorflow::DeviceCompiler<xla::LocalExecutable, xla::LocalClient>::CompileStrict(tensorflow::DeviceCompilationClusterSignature const&, tensorflow::XlaCompiler::CompileOptions const&, tensorflow::XlaCompiler::Options const&, std::vector<tensorflow::XlaArgument, std::allocator<tensorflow::XlaArgument> > const&, tensorflow::NameAttrList const&, tensorflow::DeviceCompilationCache<xla::LocalExecutable>::Value, tensorflow::DeviceCompiler<xla::LocalExecutable, xla::LocalClient>::CompileScope, tensorflow::OpKernelContext*, tensorflow::DeviceCompilationProfiler*, tsl::mutex*)\n",
      "\ttensorflow::DeviceCompiler<xla::LocalExecutable, xla::LocalClient>::CompileImpl(tensorflow::XlaCompiler::CompileOptions const&, tensorflow::XlaCompiler::Options const&, tensorflow::NameAttrList const&, std::vector<tensorflow::XlaArgument, std::allocator<tensorflow::XlaArgument> > const&, tensorflow::DeviceCompiler<xla::LocalExecutable, xla::LocalClient>::CompileScope, tensorflow::DeviceCompileMode, tensorflow::OpKernelContext*, tensorflow::DeviceCompilationProfiler*, tensorflow::XlaCompilationResult const**, xla::LocalExecutable**)\n",
      "\t\n",
      "\ttensorflow::XlaLocalLaunchBase::ComputeAsync(tensorflow::OpKernelContext*, std::function<void ()>)\n",
      "\ttensorflow::BaseGPUDevice::ComputeAsync(tensorflow::AsyncOpKernel*, tensorflow::OpKernelContext*, std::function<void ()>)\n",
      "\t\n",
      "\t\n",
      "\tEigen::ThreadPoolTempl<tsl::thread::EigenEnvironment>::WorkerLoop(int)\n",
      "\tstd::_Function_handler<void (), tsl::thread::EigenEnvironment::CreateThread(std::function<void ()>)::{lambda()#1}>::_M_invoke(std::_Any_data const&)\n",
      "\t\n",
      "\t\n",
      "\tclone\n",
      "*** End stack trace ***\n",
      "\n",
      "2023-06-01 20:19:49.156207: W tensorflow/core/framework/op_kernel.cc:1830] OP_REQUIRES failed at xla_ops.cc:362 : INTERNAL: RET_CHECK failure (tensorflow/compiler/xla/service/gpu/gpu_compiler.cc:618) dnn != nullptr \n",
      "2023-06-01 20:19:49.174254: E tensorflow/compiler/xla/stream_executor/cuda/cuda_dnn.cc:417] Loaded runtime CuDNN library: 8.5.0 but source was compiled with: 8.6.0.  CuDNN library needs to have matching major version and equal or higher minor version. If using a binary install, upgrade your CuDNN library.  If building from sources, make sure the library loaded at runtime is compatible with the version specified during compile configuration.\n",
      "2023-06-01 20:19:49.205369: E tensorflow/compiler/xla/status_macros.cc:57] INTERNAL: RET_CHECK failure (tensorflow/compiler/xla/service/gpu/gpu_compiler.cc:618) dnn != nullptr \n",
      "*** Begin stack trace ***\n",
      "\ttsl::CurrentStackTrace[abi:cxx11]()\n",
      "\t\n",
      "\txla::status_macros::MakeErrorStream::Impl::GetStatus()\n",
      "\txla::gpu::GpuCompiler::OptimizeHloModule(xla::HloModule*, stream_executor::StreamExecutor*, stream_executor::DeviceMemoryAllocator*, xla::gpu::GpuTargetConfig const&, xla::AutotuneResults const*)\n",
      "\txla::gpu::GpuCompiler::RunHloPasses(std::unique_ptr<xla::HloModule, std::default_delete<xla::HloModule> >, stream_executor::StreamExecutor*, xla::Compiler::CompileOptions const&)\n",
      "\txla::Service::BuildExecutable(xla::HloModuleProto const&, std::unique_ptr<xla::HloModuleConfig, std::default_delete<xla::HloModuleConfig> >, xla::Backend*, stream_executor::StreamExecutor*, xla::Compiler::CompileOptions const&, bool)\n",
      "\txla::LocalService::CompileExecutables(xla::XlaComputation const&, absl::lts_20220623::Span<xla::Shape const* const>, xla::ExecutableBuildOptions const&)\n",
      "\txla::LocalClient::Compile(xla::XlaComputation const&, absl::lts_20220623::Span<xla::Shape const* const>, xla::ExecutableBuildOptions const&)\n",
      "\ttensorflow::XlaDeviceCompilerClient::BuildExecutable(tensorflow::XlaCompiler::Options const&, tensorflow::XlaCompilationResult const&)\n",
      "\ttensorflow::DeviceCompiler<xla::LocalExecutable, xla::LocalClient>::CompileStrict(tensorflow::DeviceCompilationClusterSignature const&, tensorflow::XlaCompiler::CompileOptions const&, tensorflow::XlaCompiler::Options const&, std::vector<tensorflow::XlaArgument, std::allocator<tensorflow::XlaArgument> > const&, tensorflow::NameAttrList const&, tensorflow::DeviceCompilationCache<xla::LocalExecutable>::Value, tensorflow::DeviceCompiler<xla::LocalExecutable, xla::LocalClient>::CompileScope, tensorflow::OpKernelContext*, tensorflow::DeviceCompilationProfiler*, tsl::mutex*)\n",
      "\ttensorflow::DeviceCompiler<xla::LocalExecutable, xla::LocalClient>::CompileImpl(tensorflow::XlaCompiler::CompileOptions const&, tensorflow::XlaCompiler::Options const&, tensorflow::NameAttrList const&, std::vector<tensorflow::XlaArgument, std::allocator<tensorflow::XlaArgument> > const&, tensorflow::DeviceCompiler<xla::LocalExecutable, xla::LocalClient>::CompileScope, tensorflow::DeviceCompileMode, tensorflow::OpKernelContext*, tensorflow::DeviceCompilationProfiler*, tensorflow::XlaCompilationResult const**, xla::LocalExecutable**)\n",
      "\t\n",
      "\ttensorflow::XlaLocalLaunchBase::ComputeAsync(tensorflow::OpKernelContext*, std::function<void ()>)\n",
      "\ttensorflow::BaseGPUDevice::ComputeAsync(tensorflow::AsyncOpKernel*, tensorflow::OpKernelContext*, std::function<void ()>)\n",
      "\t\n",
      "\t\n",
      "\tEigen::ThreadPoolTempl<tsl::thread::EigenEnvironment>::WorkerLoop(int)\n",
      "\tstd::_Function_handler<void (), tsl::thread::EigenEnvironment::CreateThread(std::function<void ()>)::{lambda()#1}>::_M_invoke(std::_Any_data const&)\n",
      "\t\n",
      "\t\n",
      "\tclone\n",
      "*** End stack trace ***\n",
      "\n",
      "2023-06-01 20:19:49.205629: W tensorflow/core/framework/op_kernel.cc:1830] OP_REQUIRES failed at xla_ops.cc:362 : INTERNAL: RET_CHECK failure (tensorflow/compiler/xla/service/gpu/gpu_compiler.cc:618) dnn != nullptr \n"
     ]
    },
    {
     "ename": "InternalError",
     "evalue": "Graph execution error:\n\nDetected at node 'StatefulPartitionedCall_4' defined at (most recent call last):\n    File \"/home/joao/miniconda3/envs/deepmol/lib/python3.8/runpy.py\", line 194, in _run_module_as_main\n      return _run_code(code, main_globals, None,\n    File \"/home/joao/miniconda3/envs/deepmol/lib/python3.8/runpy.py\", line 87, in _run_code\n      exec(code, run_globals)\n    File \"/home/joao/miniconda3/envs/deepmol/lib/python3.8/site-packages/ipykernel_launcher.py\", line 17, in <module>\n      app.launch_new_instance()\n    File \"/home/joao/miniconda3/envs/deepmol/lib/python3.8/site-packages/traitlets/config/application.py\", line 1043, in launch_instance\n      app.start()\n    File \"/home/joao/miniconda3/envs/deepmol/lib/python3.8/site-packages/ipykernel/kernelapp.py\", line 725, in start\n      self.io_loop.start()\n    File \"/home/joao/miniconda3/envs/deepmol/lib/python3.8/site-packages/tornado/platform/asyncio.py\", line 195, in start\n      self.asyncio_loop.run_forever()\n    File \"/home/joao/miniconda3/envs/deepmol/lib/python3.8/asyncio/base_events.py\", line 570, in run_forever\n      self._run_once()\n    File \"/home/joao/miniconda3/envs/deepmol/lib/python3.8/asyncio/base_events.py\", line 1859, in _run_once\n      handle._run()\n    File \"/home/joao/miniconda3/envs/deepmol/lib/python3.8/asyncio/events.py\", line 81, in _run\n      self._context.run(self._callback, *self._args)\n    File \"/home/joao/miniconda3/envs/deepmol/lib/python3.8/site-packages/ipykernel/kernelbase.py\", line 513, in dispatch_queue\n      await self.process_one()\n    File \"/home/joao/miniconda3/envs/deepmol/lib/python3.8/site-packages/ipykernel/kernelbase.py\", line 502, in process_one\n      await dispatch(*args)\n    File \"/home/joao/miniconda3/envs/deepmol/lib/python3.8/site-packages/ipykernel/kernelbase.py\", line 409, in dispatch_shell\n      await result\n    File \"/home/joao/miniconda3/envs/deepmol/lib/python3.8/site-packages/ipykernel/kernelbase.py\", line 729, in execute_request\n      reply_content = await reply_content\n    File \"/home/joao/miniconda3/envs/deepmol/lib/python3.8/site-packages/ipykernel/ipkernel.py\", line 422, in do_execute\n      res = shell.run_cell(\n    File \"/home/joao/miniconda3/envs/deepmol/lib/python3.8/site-packages/ipykernel/zmqshell.py\", line 540, in run_cell\n      return super().run_cell(*args, **kwargs)\n    File \"/home/joao/miniconda3/envs/deepmol/lib/python3.8/site-packages/IPython/core/interactiveshell.py\", line 3009, in run_cell\n      result = self._run_cell(\n    File \"/home/joao/miniconda3/envs/deepmol/lib/python3.8/site-packages/IPython/core/interactiveshell.py\", line 3064, in _run_cell\n      result = runner(coro)\n    File \"/home/joao/miniconda3/envs/deepmol/lib/python3.8/site-packages/IPython/core/async_helpers.py\", line 129, in _pseudo_sync_runner\n      coro.send(None)\n    File \"/home/joao/miniconda3/envs/deepmol/lib/python3.8/site-packages/IPython/core/interactiveshell.py\", line 3269, in run_cell_async\n      has_raised = await self.run_ast_nodes(code_ast.body, cell_name,\n    File \"/home/joao/miniconda3/envs/deepmol/lib/python3.8/site-packages/IPython/core/interactiveshell.py\", line 3448, in run_ast_nodes\n      if await self.run_code(code, result, async_=asy):\n    File \"/home/joao/miniconda3/envs/deepmol/lib/python3.8/site-packages/IPython/core/interactiveshell.py\", line 3508, in run_code\n      exec(code_obj, self.user_global_ns, self.user_ns)\n    File \"/tmp/ipykernel_18876/2768352568.py\", line 10, in <module>\n      best_dnn, best_hyperparams, all_results = optimizer.hyperparameter_search(train_dataset=train_dataset,\n    File \"/home/joao/Desktop/DEEPBIO/DeepMol/DeepMol/src/deepmol/parameter_optimization/hyperparameter_optimization.py\", line 206, in hyperparameter_search\n      model.fit(train_dataset)\n    File \"/home/joao/Desktop/DEEPBIO/DeepMol/DeepMol/src/deepmol/base/predictor.py\", line 74, in fit\n      self._fit(dataset)\n    File \"/home/joao/Desktop/DEEPBIO/DeepMol/DeepMol/src/deepmol/models/keras_models.py\", line 114, in _fit\n      self.model.fit(features, y, **kwargs)\n    File \"/home/joao/miniconda3/envs/deepmol/lib/python3.8/site-packages/keras/wrappers/scikit_learn.py\", line 248, in fit\n      return super().fit(x, y, **kwargs)\n    File \"/home/joao/miniconda3/envs/deepmol/lib/python3.8/site-packages/keras/wrappers/scikit_learn.py\", line 175, in fit\n      history = self.model.fit(x, y, **fit_args)\n    File \"/home/joao/miniconda3/envs/deepmol/lib/python3.8/site-packages/keras/utils/traceback_utils.py\", line 65, in error_handler\n      return fn(*args, **kwargs)\n    File \"/home/joao/miniconda3/envs/deepmol/lib/python3.8/site-packages/keras/engine/training.py\", line 1685, in fit\n      tmp_logs = self.train_function(iterator)\n    File \"/home/joao/miniconda3/envs/deepmol/lib/python3.8/site-packages/keras/engine/training.py\", line 1284, in train_function\n      return step_function(self, iterator)\n    File \"/home/joao/miniconda3/envs/deepmol/lib/python3.8/site-packages/keras/engine/training.py\", line 1268, in step_function\n      outputs = model.distribute_strategy.run(run_step, args=(data,))\n    File \"/home/joao/miniconda3/envs/deepmol/lib/python3.8/site-packages/keras/engine/training.py\", line 1249, in run_step\n      outputs = model.train_step(data)\n    File \"/home/joao/miniconda3/envs/deepmol/lib/python3.8/site-packages/keras/engine/training.py\", line 1054, in train_step\n      self.optimizer.minimize(loss, self.trainable_variables, tape=tape)\n    File \"/home/joao/miniconda3/envs/deepmol/lib/python3.8/site-packages/keras/optimizers/optimizer.py\", line 543, in minimize\n      self.apply_gradients(grads_and_vars)\n    File \"/home/joao/miniconda3/envs/deepmol/lib/python3.8/site-packages/keras/optimizers/optimizer.py\", line 1174, in apply_gradients\n      return super().apply_gradients(grads_and_vars, name=name)\n    File \"/home/joao/miniconda3/envs/deepmol/lib/python3.8/site-packages/keras/optimizers/optimizer.py\", line 650, in apply_gradients\n      iteration = self._internal_apply_gradients(grads_and_vars)\n    File \"/home/joao/miniconda3/envs/deepmol/lib/python3.8/site-packages/keras/optimizers/optimizer.py\", line 1200, in _internal_apply_gradients\n      return tf.__internal__.distribute.interim.maybe_merge_call(\n    File \"/home/joao/miniconda3/envs/deepmol/lib/python3.8/site-packages/keras/optimizers/optimizer.py\", line 1250, in _distributed_apply_gradients_fn\n      distribution.extended.update(\n    File \"/home/joao/miniconda3/envs/deepmol/lib/python3.8/site-packages/keras/optimizers/optimizer.py\", line 1245, in apply_grad_to_update_var\n      return self._update_step_xla(grad, var, id(self._var_key(var)))\nNode: 'StatefulPartitionedCall_4'\nRET_CHECK failure (tensorflow/compiler/xla/service/gpu/gpu_compiler.cc:618) dnn != nullptr \n\t [[{{node StatefulPartitionedCall_4}}]] [Op:__inference_train_function_6715]",
     "output_type": "error",
     "traceback": [
      "\u001B[0;31m---------------------------------------------------------------------------\u001B[0m",
      "\u001B[0;31mInternalError\u001B[0m                             Traceback (most recent call last)",
      "Cell \u001B[0;32mIn[17], line 10\u001B[0m\n\u001B[1;32m      3\u001B[0m optimizer \u001B[38;5;241m=\u001B[39m HyperparameterOptimizerValidation(create_model)\n\u001B[1;32m      4\u001B[0m params_dict_dense \u001B[38;5;241m=\u001B[39m {\n\u001B[1;32m      5\u001B[0m                    \u001B[38;5;124m\"\u001B[39m\u001B[38;5;124minput_dim\u001B[39m\u001B[38;5;124m\"\u001B[39m: [train_dataset\u001B[38;5;241m.\u001B[39mX\u001B[38;5;241m.\u001B[39mshape[\u001B[38;5;241m1\u001B[39m]],\n\u001B[1;32m      6\u001B[0m                    \u001B[38;5;124m\"\u001B[39m\u001B[38;5;124mdropout\u001B[39m\u001B[38;5;124m\"\u001B[39m: [\u001B[38;5;241m0.5\u001B[39m, \u001B[38;5;241m0.6\u001B[39m, \u001B[38;5;241m0.7\u001B[39m],\n\u001B[1;32m      7\u001B[0m                    \u001B[38;5;124m\"\u001B[39m\u001B[38;5;124moptimizer\u001B[39m\u001B[38;5;124m\"\u001B[39m: [Adam]\n\u001B[1;32m      8\u001B[0m                    }\n\u001B[0;32m---> 10\u001B[0m best_dnn, best_hyperparams, all_results \u001B[38;5;241m=\u001B[39m \u001B[43moptimizer\u001B[49m\u001B[38;5;241;43m.\u001B[39;49m\u001B[43mhyperparameter_search\u001B[49m\u001B[43m(\u001B[49m\u001B[43mtrain_dataset\u001B[49m\u001B[38;5;241;43m=\u001B[39;49m\u001B[43mtrain_dataset\u001B[49m\u001B[43m,\u001B[49m\n\u001B[1;32m     11\u001B[0m \u001B[43m                                                                          \u001B[49m\u001B[43mvalid_dataset\u001B[49m\u001B[38;5;241;43m=\u001B[39;49m\u001B[43mvalid_dataset\u001B[49m\u001B[43m,\u001B[49m\n\u001B[1;32m     12\u001B[0m \u001B[43m                                                                          \u001B[49m\u001B[43mmetric\u001B[49m\u001B[38;5;241;43m=\u001B[39;49m\u001B[43mMetric\u001B[49m\u001B[43m(\u001B[49m\u001B[43maccuracy_score\u001B[49m\u001B[43m)\u001B[49m\u001B[43m,\u001B[49m\n\u001B[1;32m     13\u001B[0m \u001B[43m                                                                          \u001B[49m\u001B[43mmaximize_metric\u001B[49m\u001B[38;5;241;43m=\u001B[39;49m\u001B[38;5;28;43;01mTrue\u001B[39;49;00m\u001B[43m,\u001B[49m\n\u001B[1;32m     14\u001B[0m \u001B[43m                                                                          \u001B[49m\u001B[43mn_iter_search\u001B[49m\u001B[38;5;241;43m=\u001B[39;49m\u001B[38;5;241;43m2\u001B[39;49m\u001B[43m,\u001B[49m\n\u001B[1;32m     15\u001B[0m \u001B[43m                                                                          \u001B[49m\u001B[43mparams_dict\u001B[49m\u001B[38;5;241;43m=\u001B[39;49m\u001B[43mparams_dict_dense\u001B[49m\u001B[43m,\u001B[49m\n\u001B[1;32m     16\u001B[0m \u001B[43m                                                                          \u001B[49m\u001B[43mmodel_type\u001B[49m\u001B[38;5;241;43m=\u001B[39;49m\u001B[38;5;124;43m\"\u001B[39;49m\u001B[38;5;124;43mkeras\u001B[39;49m\u001B[38;5;124;43m\"\u001B[39;49m\n\u001B[1;32m     17\u001B[0m \u001B[43m                                                                          \u001B[49m\u001B[43m)\u001B[49m\n",
      "File \u001B[0;32m~/Desktop/DEEPBIO/DeepMol/DeepMol/src/deepmol/parameter_optimization/hyperparameter_optimization.py:206\u001B[0m, in \u001B[0;36mHyperparameterOptimizerValidation.hyperparameter_search\u001B[0;34m(self, model_type, params_dict, train_dataset, valid_dataset, metric, maximize_metric, n_iter_search, n_jobs, verbose, logdir, **kwargs)\u001B[0m\n\u001B[1;32m    201\u001B[0m \u001B[38;5;28;01melse\u001B[39;00m:\n\u001B[1;32m    202\u001B[0m     model \u001B[38;5;241m=\u001B[39m KerasModel(model_builder\u001B[38;5;241m=\u001B[39m\u001B[38;5;28mself\u001B[39m\u001B[38;5;241m.\u001B[39mmodel_builder,\n\u001B[1;32m    203\u001B[0m                        mode\u001B[38;5;241m=\u001B[39m\u001B[38;5;28mself\u001B[39m\u001B[38;5;241m.\u001B[39mmode,\n\u001B[1;32m    204\u001B[0m                        model_dir\u001B[38;5;241m=\u001B[39mmodel_dir,\n\u001B[1;32m    205\u001B[0m                        \u001B[38;5;241m*\u001B[39m\u001B[38;5;241m*\u001B[39mmodel_params)\n\u001B[0;32m--> 206\u001B[0m     \u001B[43mmodel\u001B[49m\u001B[38;5;241;43m.\u001B[39;49m\u001B[43mfit\u001B[49m\u001B[43m(\u001B[49m\u001B[43mtrain_dataset\u001B[49m\u001B[43m)\u001B[49m\n\u001B[1;32m    208\u001B[0m \u001B[38;5;28;01mtry\u001B[39;00m:\n\u001B[1;32m    209\u001B[0m     model\u001B[38;5;241m.\u001B[39msave()\n",
      "File \u001B[0;32m~/Desktop/DEEPBIO/DeepMol/DeepMol/src/deepmol/base/predictor.py:74\u001B[0m, in \u001B[0;36mPredictor.fit\u001B[0;34m(self, dataset)\u001B[0m\n\u001B[1;32m     60\u001B[0m \u001B[38;5;28;01mdef\u001B[39;00m \u001B[38;5;21mfit\u001B[39m(\u001B[38;5;28mself\u001B[39m, dataset: Dataset) \u001B[38;5;241m-\u001B[39m\u001B[38;5;241m>\u001B[39m \u001B[38;5;124m'\u001B[39m\u001B[38;5;124mPredictor\u001B[39m\u001B[38;5;124m'\u001B[39m:\n\u001B[1;32m     61\u001B[0m \u001B[38;5;250m    \u001B[39m\u001B[38;5;124;03m\"\"\"\u001B[39;00m\n\u001B[1;32m     62\u001B[0m \u001B[38;5;124;03m    Fits a model on data in a Dataset object.\u001B[39;00m\n\u001B[1;32m     63\u001B[0m \n\u001B[0;32m   (...)\u001B[0m\n\u001B[1;32m     72\u001B[0m \u001B[38;5;124;03m        self\u001B[39;00m\n\u001B[1;32m     73\u001B[0m \u001B[38;5;124;03m    \"\"\"\u001B[39;00m\n\u001B[0;32m---> 74\u001B[0m     \u001B[38;5;28;43mself\u001B[39;49m\u001B[38;5;241;43m.\u001B[39;49m\u001B[43m_fit\u001B[49m\u001B[43m(\u001B[49m\u001B[43mdataset\u001B[49m\u001B[43m)\u001B[49m\n\u001B[1;32m     75\u001B[0m     \u001B[38;5;28mself\u001B[39m\u001B[38;5;241m.\u001B[39m_is_fitted \u001B[38;5;241m=\u001B[39m \u001B[38;5;28;01mTrue\u001B[39;00m\n\u001B[1;32m     76\u001B[0m     \u001B[38;5;28;01mreturn\u001B[39;00m \u001B[38;5;28mself\u001B[39m\n",
      "File \u001B[0;32m~/Desktop/DEEPBIO/DeepMol/DeepMol/src/deepmol/models/keras_models.py:114\u001B[0m, in \u001B[0;36mKerasModel._fit\u001B[0;34m(self, dataset, **kwargs)\u001B[0m\n\u001B[1;32m    112\u001B[0m     targets \u001B[38;5;241m=\u001B[39m [dataset\u001B[38;5;241m.\u001B[39my[:, i] \u001B[38;5;28;01mfor\u001B[39;00m i \u001B[38;5;129;01min\u001B[39;00m \u001B[38;5;28mrange\u001B[39m(\u001B[38;5;28mlen\u001B[39m(dataset\u001B[38;5;241m.\u001B[39mlabel_names))]\n\u001B[1;32m    113\u001B[0m     y \u001B[38;5;241m=\u001B[39m {\u001B[38;5;124mf\u001B[39m\u001B[38;5;124m\"\u001B[39m\u001B[38;5;132;01m{\u001B[39;00mdataset\u001B[38;5;241m.\u001B[39mlabel_names[i]\u001B[38;5;132;01m}\u001B[39;00m\u001B[38;5;124m\"\u001B[39m: targets[i] \u001B[38;5;28;01mfor\u001B[39;00m i \u001B[38;5;129;01min\u001B[39;00m \u001B[38;5;28mrange\u001B[39m(\u001B[38;5;28mlen\u001B[39m(dataset\u001B[38;5;241m.\u001B[39mlabel_names))}\n\u001B[0;32m--> 114\u001B[0m \u001B[38;5;28;43mself\u001B[39;49m\u001B[38;5;241;43m.\u001B[39;49m\u001B[43mmodel\u001B[49m\u001B[38;5;241;43m.\u001B[39;49m\u001B[43mfit\u001B[49m\u001B[43m(\u001B[49m\u001B[43mfeatures\u001B[49m\u001B[43m,\u001B[49m\u001B[43m \u001B[49m\u001B[43my\u001B[49m\u001B[43m,\u001B[49m\u001B[43m \u001B[49m\u001B[38;5;241;43m*\u001B[39;49m\u001B[38;5;241;43m*\u001B[39;49m\u001B[43mkwargs\u001B[49m\u001B[43m)\u001B[49m\n",
      "File \u001B[0;32m~/miniconda3/envs/deepmol/lib/python3.8/site-packages/keras/wrappers/scikit_learn.py:248\u001B[0m, in \u001B[0;36mKerasClassifier.fit\u001B[0;34m(self, x, y, **kwargs)\u001B[0m\n\u001B[1;32m    246\u001B[0m     \u001B[38;5;28;01mraise\u001B[39;00m \u001B[38;5;167;01mValueError\u001B[39;00m(\u001B[38;5;124m\"\u001B[39m\u001B[38;5;124mInvalid shape for y: \u001B[39m\u001B[38;5;124m\"\u001B[39m \u001B[38;5;241m+\u001B[39m \u001B[38;5;28mstr\u001B[39m(y\u001B[38;5;241m.\u001B[39mshape))\n\u001B[1;32m    247\u001B[0m \u001B[38;5;28mself\u001B[39m\u001B[38;5;241m.\u001B[39mn_classes_ \u001B[38;5;241m=\u001B[39m \u001B[38;5;28mlen\u001B[39m(\u001B[38;5;28mself\u001B[39m\u001B[38;5;241m.\u001B[39mclasses_)\n\u001B[0;32m--> 248\u001B[0m \u001B[38;5;28;01mreturn\u001B[39;00m \u001B[38;5;28;43msuper\u001B[39;49m\u001B[43m(\u001B[49m\u001B[43m)\u001B[49m\u001B[38;5;241;43m.\u001B[39;49m\u001B[43mfit\u001B[49m\u001B[43m(\u001B[49m\u001B[43mx\u001B[49m\u001B[43m,\u001B[49m\u001B[43m \u001B[49m\u001B[43my\u001B[49m\u001B[43m,\u001B[49m\u001B[43m \u001B[49m\u001B[38;5;241;43m*\u001B[39;49m\u001B[38;5;241;43m*\u001B[39;49m\u001B[43mkwargs\u001B[49m\u001B[43m)\u001B[49m\n",
      "File \u001B[0;32m~/miniconda3/envs/deepmol/lib/python3.8/site-packages/keras/wrappers/scikit_learn.py:175\u001B[0m, in \u001B[0;36mBaseWrapper.fit\u001B[0;34m(self, x, y, **kwargs)\u001B[0m\n\u001B[1;32m    172\u001B[0m fit_args \u001B[38;5;241m=\u001B[39m copy\u001B[38;5;241m.\u001B[39mdeepcopy(\u001B[38;5;28mself\u001B[39m\u001B[38;5;241m.\u001B[39mfilter_sk_params(Sequential\u001B[38;5;241m.\u001B[39mfit))\n\u001B[1;32m    173\u001B[0m fit_args\u001B[38;5;241m.\u001B[39mupdate(kwargs)\n\u001B[0;32m--> 175\u001B[0m history \u001B[38;5;241m=\u001B[39m \u001B[38;5;28;43mself\u001B[39;49m\u001B[38;5;241;43m.\u001B[39;49m\u001B[43mmodel\u001B[49m\u001B[38;5;241;43m.\u001B[39;49m\u001B[43mfit\u001B[49m\u001B[43m(\u001B[49m\u001B[43mx\u001B[49m\u001B[43m,\u001B[49m\u001B[43m \u001B[49m\u001B[43my\u001B[49m\u001B[43m,\u001B[49m\u001B[43m \u001B[49m\u001B[38;5;241;43m*\u001B[39;49m\u001B[38;5;241;43m*\u001B[39;49m\u001B[43mfit_args\u001B[49m\u001B[43m)\u001B[49m\n\u001B[1;32m    177\u001B[0m \u001B[38;5;28;01mreturn\u001B[39;00m history\n",
      "File \u001B[0;32m~/miniconda3/envs/deepmol/lib/python3.8/site-packages/keras/utils/traceback_utils.py:70\u001B[0m, in \u001B[0;36mfilter_traceback.<locals>.error_handler\u001B[0;34m(*args, **kwargs)\u001B[0m\n\u001B[1;32m     67\u001B[0m     filtered_tb \u001B[38;5;241m=\u001B[39m _process_traceback_frames(e\u001B[38;5;241m.\u001B[39m__traceback__)\n\u001B[1;32m     68\u001B[0m     \u001B[38;5;66;03m# To get the full stack trace, call:\u001B[39;00m\n\u001B[1;32m     69\u001B[0m     \u001B[38;5;66;03m# `tf.debugging.disable_traceback_filtering()`\u001B[39;00m\n\u001B[0;32m---> 70\u001B[0m     \u001B[38;5;28;01mraise\u001B[39;00m e\u001B[38;5;241m.\u001B[39mwith_traceback(filtered_tb) \u001B[38;5;28;01mfrom\u001B[39;00m \u001B[38;5;28;01mNone\u001B[39;00m\n\u001B[1;32m     71\u001B[0m \u001B[38;5;28;01mfinally\u001B[39;00m:\n\u001B[1;32m     72\u001B[0m     \u001B[38;5;28;01mdel\u001B[39;00m filtered_tb\n",
      "File \u001B[0;32m~/miniconda3/envs/deepmol/lib/python3.8/site-packages/tensorflow/python/eager/execute.py:52\u001B[0m, in \u001B[0;36mquick_execute\u001B[0;34m(op_name, num_outputs, inputs, attrs, ctx, name)\u001B[0m\n\u001B[1;32m     50\u001B[0m \u001B[38;5;28;01mtry\u001B[39;00m:\n\u001B[1;32m     51\u001B[0m   ctx\u001B[38;5;241m.\u001B[39mensure_initialized()\n\u001B[0;32m---> 52\u001B[0m   tensors \u001B[38;5;241m=\u001B[39m pywrap_tfe\u001B[38;5;241m.\u001B[39mTFE_Py_Execute(ctx\u001B[38;5;241m.\u001B[39m_handle, device_name, op_name,\n\u001B[1;32m     53\u001B[0m                                       inputs, attrs, num_outputs)\n\u001B[1;32m     54\u001B[0m \u001B[38;5;28;01mexcept\u001B[39;00m core\u001B[38;5;241m.\u001B[39m_NotOkStatusException \u001B[38;5;28;01mas\u001B[39;00m e:\n\u001B[1;32m     55\u001B[0m   \u001B[38;5;28;01mif\u001B[39;00m name \u001B[38;5;129;01mis\u001B[39;00m \u001B[38;5;129;01mnot\u001B[39;00m \u001B[38;5;28;01mNone\u001B[39;00m:\n",
      "\u001B[0;31mInternalError\u001B[0m: Graph execution error:\n\nDetected at node 'StatefulPartitionedCall_4' defined at (most recent call last):\n    File \"/home/joao/miniconda3/envs/deepmol/lib/python3.8/runpy.py\", line 194, in _run_module_as_main\n      return _run_code(code, main_globals, None,\n    File \"/home/joao/miniconda3/envs/deepmol/lib/python3.8/runpy.py\", line 87, in _run_code\n      exec(code, run_globals)\n    File \"/home/joao/miniconda3/envs/deepmol/lib/python3.8/site-packages/ipykernel_launcher.py\", line 17, in <module>\n      app.launch_new_instance()\n    File \"/home/joao/miniconda3/envs/deepmol/lib/python3.8/site-packages/traitlets/config/application.py\", line 1043, in launch_instance\n      app.start()\n    File \"/home/joao/miniconda3/envs/deepmol/lib/python3.8/site-packages/ipykernel/kernelapp.py\", line 725, in start\n      self.io_loop.start()\n    File \"/home/joao/miniconda3/envs/deepmol/lib/python3.8/site-packages/tornado/platform/asyncio.py\", line 195, in start\n      self.asyncio_loop.run_forever()\n    File \"/home/joao/miniconda3/envs/deepmol/lib/python3.8/asyncio/base_events.py\", line 570, in run_forever\n      self._run_once()\n    File \"/home/joao/miniconda3/envs/deepmol/lib/python3.8/asyncio/base_events.py\", line 1859, in _run_once\n      handle._run()\n    File \"/home/joao/miniconda3/envs/deepmol/lib/python3.8/asyncio/events.py\", line 81, in _run\n      self._context.run(self._callback, *self._args)\n    File \"/home/joao/miniconda3/envs/deepmol/lib/python3.8/site-packages/ipykernel/kernelbase.py\", line 513, in dispatch_queue\n      await self.process_one()\n    File \"/home/joao/miniconda3/envs/deepmol/lib/python3.8/site-packages/ipykernel/kernelbase.py\", line 502, in process_one\n      await dispatch(*args)\n    File \"/home/joao/miniconda3/envs/deepmol/lib/python3.8/site-packages/ipykernel/kernelbase.py\", line 409, in dispatch_shell\n      await result\n    File \"/home/joao/miniconda3/envs/deepmol/lib/python3.8/site-packages/ipykernel/kernelbase.py\", line 729, in execute_request\n      reply_content = await reply_content\n    File \"/home/joao/miniconda3/envs/deepmol/lib/python3.8/site-packages/ipykernel/ipkernel.py\", line 422, in do_execute\n      res = shell.run_cell(\n    File \"/home/joao/miniconda3/envs/deepmol/lib/python3.8/site-packages/ipykernel/zmqshell.py\", line 540, in run_cell\n      return super().run_cell(*args, **kwargs)\n    File \"/home/joao/miniconda3/envs/deepmol/lib/python3.8/site-packages/IPython/core/interactiveshell.py\", line 3009, in run_cell\n      result = self._run_cell(\n    File \"/home/joao/miniconda3/envs/deepmol/lib/python3.8/site-packages/IPython/core/interactiveshell.py\", line 3064, in _run_cell\n      result = runner(coro)\n    File \"/home/joao/miniconda3/envs/deepmol/lib/python3.8/site-packages/IPython/core/async_helpers.py\", line 129, in _pseudo_sync_runner\n      coro.send(None)\n    File \"/home/joao/miniconda3/envs/deepmol/lib/python3.8/site-packages/IPython/core/interactiveshell.py\", line 3269, in run_cell_async\n      has_raised = await self.run_ast_nodes(code_ast.body, cell_name,\n    File \"/home/joao/miniconda3/envs/deepmol/lib/python3.8/site-packages/IPython/core/interactiveshell.py\", line 3448, in run_ast_nodes\n      if await self.run_code(code, result, async_=asy):\n    File \"/home/joao/miniconda3/envs/deepmol/lib/python3.8/site-packages/IPython/core/interactiveshell.py\", line 3508, in run_code\n      exec(code_obj, self.user_global_ns, self.user_ns)\n    File \"/tmp/ipykernel_18876/2768352568.py\", line 10, in <module>\n      best_dnn, best_hyperparams, all_results = optimizer.hyperparameter_search(train_dataset=train_dataset,\n    File \"/home/joao/Desktop/DEEPBIO/DeepMol/DeepMol/src/deepmol/parameter_optimization/hyperparameter_optimization.py\", line 206, in hyperparameter_search\n      model.fit(train_dataset)\n    File \"/home/joao/Desktop/DEEPBIO/DeepMol/DeepMol/src/deepmol/base/predictor.py\", line 74, in fit\n      self._fit(dataset)\n    File \"/home/joao/Desktop/DEEPBIO/DeepMol/DeepMol/src/deepmol/models/keras_models.py\", line 114, in _fit\n      self.model.fit(features, y, **kwargs)\n    File \"/home/joao/miniconda3/envs/deepmol/lib/python3.8/site-packages/keras/wrappers/scikit_learn.py\", line 248, in fit\n      return super().fit(x, y, **kwargs)\n    File \"/home/joao/miniconda3/envs/deepmol/lib/python3.8/site-packages/keras/wrappers/scikit_learn.py\", line 175, in fit\n      history = self.model.fit(x, y, **fit_args)\n    File \"/home/joao/miniconda3/envs/deepmol/lib/python3.8/site-packages/keras/utils/traceback_utils.py\", line 65, in error_handler\n      return fn(*args, **kwargs)\n    File \"/home/joao/miniconda3/envs/deepmol/lib/python3.8/site-packages/keras/engine/training.py\", line 1685, in fit\n      tmp_logs = self.train_function(iterator)\n    File \"/home/joao/miniconda3/envs/deepmol/lib/python3.8/site-packages/keras/engine/training.py\", line 1284, in train_function\n      return step_function(self, iterator)\n    File \"/home/joao/miniconda3/envs/deepmol/lib/python3.8/site-packages/keras/engine/training.py\", line 1268, in step_function\n      outputs = model.distribute_strategy.run(run_step, args=(data,))\n    File \"/home/joao/miniconda3/envs/deepmol/lib/python3.8/site-packages/keras/engine/training.py\", line 1249, in run_step\n      outputs = model.train_step(data)\n    File \"/home/joao/miniconda3/envs/deepmol/lib/python3.8/site-packages/keras/engine/training.py\", line 1054, in train_step\n      self.optimizer.minimize(loss, self.trainable_variables, tape=tape)\n    File \"/home/joao/miniconda3/envs/deepmol/lib/python3.8/site-packages/keras/optimizers/optimizer.py\", line 543, in minimize\n      self.apply_gradients(grads_and_vars)\n    File \"/home/joao/miniconda3/envs/deepmol/lib/python3.8/site-packages/keras/optimizers/optimizer.py\", line 1174, in apply_gradients\n      return super().apply_gradients(grads_and_vars, name=name)\n    File \"/home/joao/miniconda3/envs/deepmol/lib/python3.8/site-packages/keras/optimizers/optimizer.py\", line 650, in apply_gradients\n      iteration = self._internal_apply_gradients(grads_and_vars)\n    File \"/home/joao/miniconda3/envs/deepmol/lib/python3.8/site-packages/keras/optimizers/optimizer.py\", line 1200, in _internal_apply_gradients\n      return tf.__internal__.distribute.interim.maybe_merge_call(\n    File \"/home/joao/miniconda3/envs/deepmol/lib/python3.8/site-packages/keras/optimizers/optimizer.py\", line 1250, in _distributed_apply_gradients_fn\n      distribution.extended.update(\n    File \"/home/joao/miniconda3/envs/deepmol/lib/python3.8/site-packages/keras/optimizers/optimizer.py\", line 1245, in apply_grad_to_update_var\n      return self._update_step_xla(grad, var, id(self._var_key(var)))\nNode: 'StatefulPartitionedCall_4'\nRET_CHECK failure (tensorflow/compiler/xla/service/gpu/gpu_compiler.cc:618) dnn != nullptr \n\t [[{{node StatefulPartitionedCall_4}}]] [Op:__inference_train_function_6715]"
     ]
    }
   ],
   "source": [
    "from tensorflow.keras.optimizers import Adam\n",
    "\n",
    "optimizer = HyperparameterOptimizerValidation(create_model)\n",
    "params_dict_dense = {\n",
    "                   \"input_dim\": [train_dataset.X.shape[1]],\n",
    "                   \"dropout\": [0.5, 0.6, 0.7],\n",
    "                   \"optimizer\": [Adam]\n",
    "                   }\n",
    "\n",
    "best_dnn, best_hyperparams, all_results = optimizer.hyperparameter_search(train_dataset=train_dataset,\n",
    "                                                                          valid_dataset=valid_dataset,\n",
    "                                                                          metric=Metric(accuracy_score),\n",
    "                                                                          maximize_metric=True,\n",
    "                                                                          n_iter_search=2,\n",
    "                                                                          params_dict=params_dict_dense,\n",
    "                                                                          model_type=\"keras\"\n",
    "                                                                          )"
   ],
   "metadata": {
    "collapsed": false,
    "ExecuteTime": {
     "end_time": "2023-06-01T19:19:49.337496078Z",
     "start_time": "2023-06-01T19:19:47.723187956Z"
    }
   }
  },
  {
   "cell_type": "markdown",
   "source": [
    "In the end, we can check the performance of the best model on the test set."
   ],
   "metadata": {
    "collapsed": false
   }
  },
  {
   "cell_type": "code",
   "execution_count": 8,
   "outputs": [
    {
     "data": {
      "text/plain": "({'accuracy_score': 0.9771497294046904}, {})"
     },
     "execution_count": 8,
     "metadata": {},
     "output_type": "execute_result"
    }
   ],
   "source": [
    "best_dnn.evaluate(test_dataset, metrics = [Metric(accuracy_score)])"
   ],
   "metadata": {
    "collapsed": false,
    "ExecuteTime": {
     "end_time": "2023-06-01T18:29:12.732987939Z",
     "start_time": "2023-06-01T18:29:12.520159445Z"
    }
   }
  },
  {
   "cell_type": "markdown",
   "source": [
    "We can also check the best combination of hyperparameters found."
   ],
   "metadata": {
    "collapsed": false
   }
  },
  {
   "cell_type": "code",
   "execution_count": 9,
   "outputs": [
    {
     "data": {
      "text/plain": "{'input_dim': 2048, 'dropout': 0.7, 'optimizer': 'adam'}"
     },
     "execution_count": 9,
     "metadata": {},
     "output_type": "execute_result"
    }
   ],
   "source": [
    "best_hyperparams"
   ],
   "metadata": {
    "collapsed": false,
    "ExecuteTime": {
     "end_time": "2023-06-01T18:30:23.201169502Z",
     "start_time": "2023-06-01T18:30:23.141874136Z"
    }
   }
  },
  {
   "cell_type": "markdown",
   "source": [
    "We can also check the performance of all the models trained during the hyperparameter tuning. Each model is defined by the name of the parameters followed by the value of the parameter."
   ],
   "metadata": {
    "collapsed": false
   }
  },
  {
   "cell_type": "code",
   "execution_count": 10,
   "outputs": [
    {
     "data": {
      "text/plain": "{'_dropout_0.600000_input_dim_2048_optimizer_rmsprop': 0.97352587244284,\n '_dropout_0.700000_input_dim_2048_optimizer_adam': 0.9753309265944645}"
     },
     "execution_count": 10,
     "metadata": {},
     "output_type": "execute_result"
    }
   ],
   "source": [
    "all_results"
   ],
   "metadata": {
    "collapsed": false,
    "ExecuteTime": {
     "end_time": "2023-06-01T18:30:32.411277999Z",
     "start_time": "2023-06-01T18:30:32.395636344Z"
    }
   }
  },
  {
   "cell_type": "code",
   "execution_count": 12,
   "outputs": [
    {
     "data": {
      "text/plain": "SklearnModel(mode='classification',\n             model=<tensorflow.python.keras.engine.functional.Functional object at 0x7f03472e95e0>,\n             model_dir='/tmp/tmpc7tn1hyw')",
      "text/html": "<style>#sk-container-id-1 {color: black;background-color: white;}#sk-container-id-1 pre{padding: 0;}#sk-container-id-1 div.sk-toggleable {background-color: white;}#sk-container-id-1 label.sk-toggleable__label {cursor: pointer;display: block;width: 100%;margin-bottom: 0;padding: 0.3em;box-sizing: border-box;text-align: center;}#sk-container-id-1 label.sk-toggleable__label-arrow:before {content: \"▸\";float: left;margin-right: 0.25em;color: #696969;}#sk-container-id-1 label.sk-toggleable__label-arrow:hover:before {color: black;}#sk-container-id-1 div.sk-estimator:hover label.sk-toggleable__label-arrow:before {color: black;}#sk-container-id-1 div.sk-toggleable__content {max-height: 0;max-width: 0;overflow: hidden;text-align: left;background-color: #f0f8ff;}#sk-container-id-1 div.sk-toggleable__content pre {margin: 0.2em;color: black;border-radius: 0.25em;background-color: #f0f8ff;}#sk-container-id-1 input.sk-toggleable__control:checked~div.sk-toggleable__content {max-height: 200px;max-width: 100%;overflow: auto;}#sk-container-id-1 input.sk-toggleable__control:checked~label.sk-toggleable__label-arrow:before {content: \"▾\";}#sk-container-id-1 div.sk-estimator input.sk-toggleable__control:checked~label.sk-toggleable__label {background-color: #d4ebff;}#sk-container-id-1 div.sk-label input.sk-toggleable__control:checked~label.sk-toggleable__label {background-color: #d4ebff;}#sk-container-id-1 input.sk-hidden--visually {border: 0;clip: rect(1px 1px 1px 1px);clip: rect(1px, 1px, 1px, 1px);height: 1px;margin: -1px;overflow: hidden;padding: 0;position: absolute;width: 1px;}#sk-container-id-1 div.sk-estimator {font-family: monospace;background-color: #f0f8ff;border: 1px dotted black;border-radius: 0.25em;box-sizing: border-box;margin-bottom: 0.5em;}#sk-container-id-1 div.sk-estimator:hover {background-color: #d4ebff;}#sk-container-id-1 div.sk-parallel-item::after {content: \"\";width: 100%;border-bottom: 1px solid gray;flex-grow: 1;}#sk-container-id-1 div.sk-label:hover label.sk-toggleable__label {background-color: #d4ebff;}#sk-container-id-1 div.sk-serial::before {content: \"\";position: absolute;border-left: 1px solid gray;box-sizing: border-box;top: 0;bottom: 0;left: 50%;z-index: 0;}#sk-container-id-1 div.sk-serial {display: flex;flex-direction: column;align-items: center;background-color: white;padding-right: 0.2em;padding-left: 0.2em;position: relative;}#sk-container-id-1 div.sk-item {position: relative;z-index: 1;}#sk-container-id-1 div.sk-parallel {display: flex;align-items: stretch;justify-content: center;background-color: white;position: relative;}#sk-container-id-1 div.sk-item::before, #sk-container-id-1 div.sk-parallel-item::before {content: \"\";position: absolute;border-left: 1px solid gray;box-sizing: border-box;top: 0;bottom: 0;left: 50%;z-index: -1;}#sk-container-id-1 div.sk-parallel-item {display: flex;flex-direction: column;z-index: 1;position: relative;background-color: white;}#sk-container-id-1 div.sk-parallel-item:first-child::after {align-self: flex-end;width: 50%;}#sk-container-id-1 div.sk-parallel-item:last-child::after {align-self: flex-start;width: 50%;}#sk-container-id-1 div.sk-parallel-item:only-child::after {width: 0;}#sk-container-id-1 div.sk-dashed-wrapped {border: 1px dashed gray;margin: 0 0.4em 0.5em 0.4em;box-sizing: border-box;padding-bottom: 0.4em;background-color: white;}#sk-container-id-1 div.sk-label label {font-family: monospace;font-weight: bold;display: inline-block;line-height: 1.2em;}#sk-container-id-1 div.sk-label-container {text-align: center;}#sk-container-id-1 div.sk-container {/* jupyter's `normalize.less` sets `[hidden] { display: none; }` but bootstrap.min.css set `[hidden] { display: none !important; }` so we also need the `!important` here to be able to override the default hidden behavior on the sphinx rendered scikit-learn.org. See: https://github.com/scikit-learn/scikit-learn/issues/21755 */display: inline-block !important;position: relative;}#sk-container-id-1 div.sk-text-repr-fallback {display: none;}</style><div id=\"sk-container-id-1\" class=\"sk-top-container\"><div class=\"sk-text-repr-fallback\"><pre>SklearnModel(mode=&#x27;classification&#x27;,\n             model=&lt;tensorflow.python.keras.engine.functional.Functional object at 0x7f03472e95e0&gt;,\n             model_dir=&#x27;/tmp/tmpc7tn1hyw&#x27;)</pre><b>In a Jupyter environment, please rerun this cell to show the HTML representation or trust the notebook. <br />On GitHub, the HTML representation is unable to render, please try loading this page with nbviewer.org.</b></div><div class=\"sk-container\" hidden><div class=\"sk-item\"><div class=\"sk-estimator sk-toggleable\"><input class=\"sk-toggleable__control sk-hidden--visually\" id=\"sk-estimator-id-1\" type=\"checkbox\" checked><label for=\"sk-estimator-id-1\" class=\"sk-toggleable__label sk-toggleable__label-arrow\">SklearnModel</label><div class=\"sk-toggleable__content\"><pre>SklearnModel(mode=&#x27;classification&#x27;,\n             model=&lt;tensorflow.python.keras.engine.functional.Functional object at 0x7f03472e95e0&gt;,\n             model_dir=&#x27;/tmp/tmpc7tn1hyw&#x27;)</pre></div></div></div></div></div>"
     },
     "execution_count": 12,
     "metadata": {},
     "output_type": "execute_result"
    }
   ],
   "source": [
    "best_dnn"
   ],
   "metadata": {
    "collapsed": false,
    "ExecuteTime": {
     "end_time": "2023-06-01T18:43:16.393345614Z",
     "start_time": "2023-06-01T18:43:16.337339134Z"
    }
   }
  },
  {
   "cell_type": "markdown",
   "source": [
    "Finally, save your best model for deployment and new predictions!"
   ],
   "metadata": {
    "collapsed": false
   }
  },
  {
   "cell_type": "code",
   "execution_count": 11,
   "outputs": [
    {
     "ename": "TypeError",
     "evalue": "cannot pickle '_thread._local' object",
     "output_type": "error",
     "traceback": [
      "\u001B[0;31m---------------------------------------------------------------------------\u001B[0m",
      "\u001B[0;31mTypeError\u001B[0m                                 Traceback (most recent call last)",
      "File \u001B[0;32m~/Desktop/DEEPBIO/DeepMol/DeepMol/src/deepmol/models/_utils.py:32\u001B[0m, in \u001B[0;36msave_to_disk\u001B[0;34m(model, filename, compress)\u001B[0m\n\u001B[1;32m     31\u001B[0m     \u001B[38;5;28;01mwith\u001B[39;00m \u001B[38;5;28mopen\u001B[39m(filename, \u001B[38;5;124m'\u001B[39m\u001B[38;5;124mwb\u001B[39m\u001B[38;5;124m'\u001B[39m) \u001B[38;5;28;01mas\u001B[39;00m f:\n\u001B[0;32m---> 32\u001B[0m         \u001B[43mpickle\u001B[49m\u001B[38;5;241;43m.\u001B[39;49m\u001B[43mdump\u001B[49m\u001B[43m(\u001B[49m\u001B[43mmodel\u001B[49m\u001B[43m,\u001B[49m\u001B[43m \u001B[49m\u001B[43mf\u001B[49m\u001B[43m,\u001B[49m\u001B[43m \u001B[49m\u001B[43mprotocol\u001B[49m\u001B[38;5;241;43m=\u001B[39;49m\u001B[43mpickle\u001B[49m\u001B[38;5;241;43m.\u001B[39;49m\u001B[43mHIGHEST_PROTOCOL\u001B[49m\u001B[43m)\u001B[49m\n\u001B[1;32m     33\u001B[0m \u001B[38;5;28;01mexcept\u001B[39;00m (\u001B[38;5;167;01mTypeError\u001B[39;00m, \u001B[38;5;167;01mAttributeError\u001B[39;00m):\n\u001B[1;32m     34\u001B[0m     \u001B[38;5;66;03m# dump with dill\u001B[39;00m\n",
      "\u001B[0;31mTypeError\u001B[0m: cannot pickle 'weakref' object",
      "\nDuring handling of the above exception, another exception occurred:\n",
      "\u001B[0;31mTypeError\u001B[0m                                 Traceback (most recent call last)",
      "Cell \u001B[0;32mIn[11], line 1\u001B[0m\n\u001B[0;32m----> 1\u001B[0m \u001B[43mbest_dnn\u001B[49m\u001B[38;5;241;43m.\u001B[39;49m\u001B[43msave\u001B[49m\u001B[43m(\u001B[49m\u001B[38;5;124;43m\"\u001B[39;49m\u001B[38;5;124;43mmy_model\u001B[39;49m\u001B[38;5;124;43m\"\u001B[39;49m\u001B[43m)\u001B[49m\n",
      "File \u001B[0;32m~/Desktop/DEEPBIO/DeepMol/DeepMol/src/deepmol/models/sklearn_models.py:143\u001B[0m, in \u001B[0;36mSklearnModel.save\u001B[0;34m(self, folder_path)\u001B[0m\n\u001B[1;32m    140\u001B[0m     os\u001B[38;5;241m.\u001B[39mmakedirs(folder_path, exist_ok\u001B[38;5;241m=\u001B[39m\u001B[38;5;28;01mTrue\u001B[39;00m)\n\u001B[1;32m    141\u001B[0m     model_path \u001B[38;5;241m=\u001B[39m \u001B[38;5;28mself\u001B[39m\u001B[38;5;241m.\u001B[39mget_model_filename(folder_path)\n\u001B[0;32m--> 143\u001B[0m \u001B[43msave_to_disk\u001B[49m\u001B[43m(\u001B[49m\u001B[38;5;28;43mself\u001B[39;49m\u001B[38;5;241;43m.\u001B[39;49m\u001B[43mmodel\u001B[49m\u001B[43m,\u001B[49m\u001B[43m \u001B[49m\u001B[43mmodel_path\u001B[49m\u001B[43m)\u001B[49m\n\u001B[1;32m    145\u001B[0m \u001B[38;5;66;03m# change file path to keep the extension but add _params\u001B[39;00m\n\u001B[1;32m    146\u001B[0m parameters_file_path \u001B[38;5;241m=\u001B[39m model_path\u001B[38;5;241m.\u001B[39msplit(\u001B[38;5;124m'\u001B[39m\u001B[38;5;124m.\u001B[39m\u001B[38;5;124m'\u001B[39m)[\u001B[38;5;241m0\u001B[39m] \u001B[38;5;241m+\u001B[39m \u001B[38;5;124m'\u001B[39m\u001B[38;5;124m_params.\u001B[39m\u001B[38;5;124m'\u001B[39m \u001B[38;5;241m+\u001B[39m model_path\u001B[38;5;241m.\u001B[39msplit(\u001B[38;5;124m'\u001B[39m\u001B[38;5;124m.\u001B[39m\u001B[38;5;124m'\u001B[39m)[\u001B[38;5;241m1\u001B[39m]\n",
      "File \u001B[0;32m~/Desktop/DEEPBIO/DeepMol/DeepMol/src/deepmol/models/_utils.py:36\u001B[0m, in \u001B[0;36msave_to_disk\u001B[0;34m(model, filename, compress)\u001B[0m\n\u001B[1;32m     33\u001B[0m     \u001B[38;5;28;01mexcept\u001B[39;00m (\u001B[38;5;167;01mTypeError\u001B[39;00m, \u001B[38;5;167;01mAttributeError\u001B[39;00m):\n\u001B[1;32m     34\u001B[0m         \u001B[38;5;66;03m# dump with dill\u001B[39;00m\n\u001B[1;32m     35\u001B[0m         \u001B[38;5;28;01mwith\u001B[39;00m \u001B[38;5;28mopen\u001B[39m(filename, \u001B[38;5;124m'\u001B[39m\u001B[38;5;124mwb\u001B[39m\u001B[38;5;124m'\u001B[39m) \u001B[38;5;28;01mas\u001B[39;00m f:\n\u001B[0;32m---> 36\u001B[0m             \u001B[43mdill\u001B[49m\u001B[38;5;241;43m.\u001B[39;49m\u001B[43mdump\u001B[49m\u001B[43m(\u001B[49m\u001B[43mmodel\u001B[49m\u001B[43m,\u001B[49m\u001B[43m \u001B[49m\u001B[43mf\u001B[49m\u001B[43m)\u001B[49m\n\u001B[1;32m     37\u001B[0m \u001B[38;5;28;01melse\u001B[39;00m:\n\u001B[1;32m     38\u001B[0m     \u001B[38;5;28;01mraise\u001B[39;00m \u001B[38;5;167;01mValueError\u001B[39;00m(\u001B[38;5;124m\"\u001B[39m\u001B[38;5;124mFilename with unsupported extension: \u001B[39m\u001B[38;5;132;01m%s\u001B[39;00m\u001B[38;5;124m\"\u001B[39m \u001B[38;5;241m%\u001B[39m filename)\n",
      "File \u001B[0;32m~/miniconda3/envs/deepmol/lib/python3.8/site-packages/dill/_dill.py:235\u001B[0m, in \u001B[0;36mdump\u001B[0;34m(obj, file, protocol, byref, fmode, recurse, **kwds)\u001B[0m\n\u001B[1;32m    233\u001B[0m _kwds \u001B[38;5;241m=\u001B[39m kwds\u001B[38;5;241m.\u001B[39mcopy()\n\u001B[1;32m    234\u001B[0m _kwds\u001B[38;5;241m.\u001B[39mupdate(\u001B[38;5;28mdict\u001B[39m(byref\u001B[38;5;241m=\u001B[39mbyref, fmode\u001B[38;5;241m=\u001B[39mfmode, recurse\u001B[38;5;241m=\u001B[39mrecurse))\n\u001B[0;32m--> 235\u001B[0m \u001B[43mPickler\u001B[49m\u001B[43m(\u001B[49m\u001B[43mfile\u001B[49m\u001B[43m,\u001B[49m\u001B[43m \u001B[49m\u001B[43mprotocol\u001B[49m\u001B[43m,\u001B[49m\u001B[43m \u001B[49m\u001B[38;5;241;43m*\u001B[39;49m\u001B[38;5;241;43m*\u001B[39;49m\u001B[43m_kwds\u001B[49m\u001B[43m)\u001B[49m\u001B[38;5;241;43m.\u001B[39;49m\u001B[43mdump\u001B[49m\u001B[43m(\u001B[49m\u001B[43mobj\u001B[49m\u001B[43m)\u001B[49m\n\u001B[1;32m    236\u001B[0m \u001B[38;5;28;01mreturn\u001B[39;00m\n",
      "File \u001B[0;32m~/miniconda3/envs/deepmol/lib/python3.8/site-packages/dill/_dill.py:394\u001B[0m, in \u001B[0;36mPickler.dump\u001B[0;34m(self, obj)\u001B[0m\n\u001B[1;32m    392\u001B[0m \u001B[38;5;28;01mdef\u001B[39;00m \u001B[38;5;21mdump\u001B[39m(\u001B[38;5;28mself\u001B[39m, obj): \u001B[38;5;66;03m#NOTE: if settings change, need to update attributes\u001B[39;00m\n\u001B[1;32m    393\u001B[0m     logger\u001B[38;5;241m.\u001B[39mtrace_setup(\u001B[38;5;28mself\u001B[39m)\n\u001B[0;32m--> 394\u001B[0m     \u001B[43mStockPickler\u001B[49m\u001B[38;5;241;43m.\u001B[39;49m\u001B[43mdump\u001B[49m\u001B[43m(\u001B[49m\u001B[38;5;28;43mself\u001B[39;49m\u001B[43m,\u001B[49m\u001B[43m \u001B[49m\u001B[43mobj\u001B[49m\u001B[43m)\u001B[49m\n",
      "File \u001B[0;32m~/miniconda3/envs/deepmol/lib/python3.8/pickle.py:487\u001B[0m, in \u001B[0;36m_Pickler.dump\u001B[0;34m(self, obj)\u001B[0m\n\u001B[1;32m    485\u001B[0m \u001B[38;5;28;01mif\u001B[39;00m \u001B[38;5;28mself\u001B[39m\u001B[38;5;241m.\u001B[39mproto \u001B[38;5;241m>\u001B[39m\u001B[38;5;241m=\u001B[39m \u001B[38;5;241m4\u001B[39m:\n\u001B[1;32m    486\u001B[0m     \u001B[38;5;28mself\u001B[39m\u001B[38;5;241m.\u001B[39mframer\u001B[38;5;241m.\u001B[39mstart_framing()\n\u001B[0;32m--> 487\u001B[0m \u001B[38;5;28;43mself\u001B[39;49m\u001B[38;5;241;43m.\u001B[39;49m\u001B[43msave\u001B[49m\u001B[43m(\u001B[49m\u001B[43mobj\u001B[49m\u001B[43m)\u001B[49m\n\u001B[1;32m    488\u001B[0m \u001B[38;5;28mself\u001B[39m\u001B[38;5;241m.\u001B[39mwrite(STOP)\n\u001B[1;32m    489\u001B[0m \u001B[38;5;28mself\u001B[39m\u001B[38;5;241m.\u001B[39mframer\u001B[38;5;241m.\u001B[39mend_framing()\n",
      "File \u001B[0;32m~/miniconda3/envs/deepmol/lib/python3.8/site-packages/dill/_dill.py:388\u001B[0m, in \u001B[0;36mPickler.save\u001B[0;34m(self, obj, save_persistent_id)\u001B[0m\n\u001B[1;32m    386\u001B[0m     msg \u001B[38;5;241m=\u001B[39m \u001B[38;5;124m\"\u001B[39m\u001B[38;5;124mCan\u001B[39m\u001B[38;5;124m'\u001B[39m\u001B[38;5;124mt pickle \u001B[39m\u001B[38;5;132;01m%s\u001B[39;00m\u001B[38;5;124m: attribute lookup builtins.generator failed\u001B[39m\u001B[38;5;124m\"\u001B[39m \u001B[38;5;241m%\u001B[39m GeneratorType\n\u001B[1;32m    387\u001B[0m     \u001B[38;5;28;01mraise\u001B[39;00m PicklingError(msg)\n\u001B[0;32m--> 388\u001B[0m \u001B[43mStockPickler\u001B[49m\u001B[38;5;241;43m.\u001B[39;49m\u001B[43msave\u001B[49m\u001B[43m(\u001B[49m\u001B[38;5;28;43mself\u001B[39;49m\u001B[43m,\u001B[49m\u001B[43m \u001B[49m\u001B[43mobj\u001B[49m\u001B[43m,\u001B[49m\u001B[43m \u001B[49m\u001B[43msave_persistent_id\u001B[49m\u001B[43m)\u001B[49m\n",
      "File \u001B[0;32m~/miniconda3/envs/deepmol/lib/python3.8/pickle.py:603\u001B[0m, in \u001B[0;36m_Pickler.save\u001B[0;34m(self, obj, save_persistent_id)\u001B[0m\n\u001B[1;32m    599\u001B[0m     \u001B[38;5;28;01mraise\u001B[39;00m PicklingError(\u001B[38;5;124m\"\u001B[39m\u001B[38;5;124mTuple returned by \u001B[39m\u001B[38;5;132;01m%s\u001B[39;00m\u001B[38;5;124m must have \u001B[39m\u001B[38;5;124m\"\u001B[39m\n\u001B[1;32m    600\u001B[0m                         \u001B[38;5;124m\"\u001B[39m\u001B[38;5;124mtwo to six elements\u001B[39m\u001B[38;5;124m\"\u001B[39m \u001B[38;5;241m%\u001B[39m reduce)\n\u001B[1;32m    602\u001B[0m \u001B[38;5;66;03m# Save the reduce() output and finally memoize the object\u001B[39;00m\n\u001B[0;32m--> 603\u001B[0m \u001B[38;5;28;43mself\u001B[39;49m\u001B[38;5;241;43m.\u001B[39;49m\u001B[43msave_reduce\u001B[49m\u001B[43m(\u001B[49m\u001B[43mobj\u001B[49m\u001B[38;5;241;43m=\u001B[39;49m\u001B[43mobj\u001B[49m\u001B[43m,\u001B[49m\u001B[43m \u001B[49m\u001B[38;5;241;43m*\u001B[39;49m\u001B[43mrv\u001B[49m\u001B[43m)\u001B[49m\n",
      "File \u001B[0;32m~/miniconda3/envs/deepmol/lib/python3.8/pickle.py:717\u001B[0m, in \u001B[0;36m_Pickler.save_reduce\u001B[0;34m(self, func, args, state, listitems, dictitems, state_setter, obj)\u001B[0m\n\u001B[1;32m    715\u001B[0m \u001B[38;5;28;01mif\u001B[39;00m state \u001B[38;5;129;01mis\u001B[39;00m \u001B[38;5;129;01mnot\u001B[39;00m \u001B[38;5;28;01mNone\u001B[39;00m:\n\u001B[1;32m    716\u001B[0m     \u001B[38;5;28;01mif\u001B[39;00m state_setter \u001B[38;5;129;01mis\u001B[39;00m \u001B[38;5;28;01mNone\u001B[39;00m:\n\u001B[0;32m--> 717\u001B[0m         \u001B[43msave\u001B[49m\u001B[43m(\u001B[49m\u001B[43mstate\u001B[49m\u001B[43m)\u001B[49m\n\u001B[1;32m    718\u001B[0m         write(BUILD)\n\u001B[1;32m    719\u001B[0m     \u001B[38;5;28;01melse\u001B[39;00m:\n\u001B[1;32m    720\u001B[0m         \u001B[38;5;66;03m# If a state_setter is specified, call it instead of load_build\u001B[39;00m\n\u001B[1;32m    721\u001B[0m         \u001B[38;5;66;03m# to update obj's with its previous state.\u001B[39;00m\n\u001B[1;32m    722\u001B[0m         \u001B[38;5;66;03m# First, push state_setter and its tuple of expected arguments\u001B[39;00m\n\u001B[1;32m    723\u001B[0m         \u001B[38;5;66;03m# (obj, state) onto the stack.\u001B[39;00m\n",
      "File \u001B[0;32m~/miniconda3/envs/deepmol/lib/python3.8/site-packages/dill/_dill.py:388\u001B[0m, in \u001B[0;36mPickler.save\u001B[0;34m(self, obj, save_persistent_id)\u001B[0m\n\u001B[1;32m    386\u001B[0m     msg \u001B[38;5;241m=\u001B[39m \u001B[38;5;124m\"\u001B[39m\u001B[38;5;124mCan\u001B[39m\u001B[38;5;124m'\u001B[39m\u001B[38;5;124mt pickle \u001B[39m\u001B[38;5;132;01m%s\u001B[39;00m\u001B[38;5;124m: attribute lookup builtins.generator failed\u001B[39m\u001B[38;5;124m\"\u001B[39m \u001B[38;5;241m%\u001B[39m GeneratorType\n\u001B[1;32m    387\u001B[0m     \u001B[38;5;28;01mraise\u001B[39;00m PicklingError(msg)\n\u001B[0;32m--> 388\u001B[0m \u001B[43mStockPickler\u001B[49m\u001B[38;5;241;43m.\u001B[39;49m\u001B[43msave\u001B[49m\u001B[43m(\u001B[49m\u001B[38;5;28;43mself\u001B[39;49m\u001B[43m,\u001B[49m\u001B[43m \u001B[49m\u001B[43mobj\u001B[49m\u001B[43m,\u001B[49m\u001B[43m \u001B[49m\u001B[43msave_persistent_id\u001B[49m\u001B[43m)\u001B[49m\n",
      "File \u001B[0;32m~/miniconda3/envs/deepmol/lib/python3.8/pickle.py:560\u001B[0m, in \u001B[0;36m_Pickler.save\u001B[0;34m(self, obj, save_persistent_id)\u001B[0m\n\u001B[1;32m    558\u001B[0m f \u001B[38;5;241m=\u001B[39m \u001B[38;5;28mself\u001B[39m\u001B[38;5;241m.\u001B[39mdispatch\u001B[38;5;241m.\u001B[39mget(t)\n\u001B[1;32m    559\u001B[0m \u001B[38;5;28;01mif\u001B[39;00m f \u001B[38;5;129;01mis\u001B[39;00m \u001B[38;5;129;01mnot\u001B[39;00m \u001B[38;5;28;01mNone\u001B[39;00m:\n\u001B[0;32m--> 560\u001B[0m     \u001B[43mf\u001B[49m\u001B[43m(\u001B[49m\u001B[38;5;28;43mself\u001B[39;49m\u001B[43m,\u001B[49m\u001B[43m \u001B[49m\u001B[43mobj\u001B[49m\u001B[43m)\u001B[49m  \u001B[38;5;66;03m# Call unbound method with explicit self\u001B[39;00m\n\u001B[1;32m    561\u001B[0m     \u001B[38;5;28;01mreturn\u001B[39;00m\n\u001B[1;32m    563\u001B[0m \u001B[38;5;66;03m# Check private dispatch table if any, or else\u001B[39;00m\n\u001B[1;32m    564\u001B[0m \u001B[38;5;66;03m# copyreg.dispatch_table\u001B[39;00m\n",
      "File \u001B[0;32m~/miniconda3/envs/deepmol/lib/python3.8/site-packages/dill/_dill.py:1186\u001B[0m, in \u001B[0;36msave_module_dict\u001B[0;34m(pickler, obj)\u001B[0m\n\u001B[1;32m   1183\u001B[0m     \u001B[38;5;28;01mif\u001B[39;00m is_dill(pickler, child\u001B[38;5;241m=\u001B[39m\u001B[38;5;28;01mFalse\u001B[39;00m) \u001B[38;5;129;01mand\u001B[39;00m pickler\u001B[38;5;241m.\u001B[39m_session:\n\u001B[1;32m   1184\u001B[0m         \u001B[38;5;66;03m# we only care about session the first pass thru\u001B[39;00m\n\u001B[1;32m   1185\u001B[0m         pickler\u001B[38;5;241m.\u001B[39m_first_pass \u001B[38;5;241m=\u001B[39m \u001B[38;5;28;01mFalse\u001B[39;00m\n\u001B[0;32m-> 1186\u001B[0m     \u001B[43mStockPickler\u001B[49m\u001B[38;5;241;43m.\u001B[39;49m\u001B[43msave_dict\u001B[49m\u001B[43m(\u001B[49m\u001B[43mpickler\u001B[49m\u001B[43m,\u001B[49m\u001B[43m \u001B[49m\u001B[43mobj\u001B[49m\u001B[43m)\u001B[49m\n\u001B[1;32m   1187\u001B[0m     logger\u001B[38;5;241m.\u001B[39mtrace(pickler, \u001B[38;5;124m\"\u001B[39m\u001B[38;5;124m# D2\u001B[39m\u001B[38;5;124m\"\u001B[39m)\n\u001B[1;32m   1188\u001B[0m \u001B[38;5;28;01mreturn\u001B[39;00m\n",
      "File \u001B[0;32m~/miniconda3/envs/deepmol/lib/python3.8/pickle.py:971\u001B[0m, in \u001B[0;36m_Pickler.save_dict\u001B[0;34m(self, obj)\u001B[0m\n\u001B[1;32m    968\u001B[0m     \u001B[38;5;28mself\u001B[39m\u001B[38;5;241m.\u001B[39mwrite(MARK \u001B[38;5;241m+\u001B[39m DICT)\n\u001B[1;32m    970\u001B[0m \u001B[38;5;28mself\u001B[39m\u001B[38;5;241m.\u001B[39mmemoize(obj)\n\u001B[0;32m--> 971\u001B[0m \u001B[38;5;28;43mself\u001B[39;49m\u001B[38;5;241;43m.\u001B[39;49m\u001B[43m_batch_setitems\u001B[49m\u001B[43m(\u001B[49m\u001B[43mobj\u001B[49m\u001B[38;5;241;43m.\u001B[39;49m\u001B[43mitems\u001B[49m\u001B[43m(\u001B[49m\u001B[43m)\u001B[49m\u001B[43m)\u001B[49m\n",
      "File \u001B[0;32m~/miniconda3/envs/deepmol/lib/python3.8/pickle.py:997\u001B[0m, in \u001B[0;36m_Pickler._batch_setitems\u001B[0;34m(self, items)\u001B[0m\n\u001B[1;32m    995\u001B[0m     \u001B[38;5;28;01mfor\u001B[39;00m k, v \u001B[38;5;129;01min\u001B[39;00m tmp:\n\u001B[1;32m    996\u001B[0m         save(k)\n\u001B[0;32m--> 997\u001B[0m         \u001B[43msave\u001B[49m\u001B[43m(\u001B[49m\u001B[43mv\u001B[49m\u001B[43m)\u001B[49m\n\u001B[1;32m    998\u001B[0m     write(SETITEMS)\n\u001B[1;32m    999\u001B[0m \u001B[38;5;28;01melif\u001B[39;00m n:\n",
      "File \u001B[0;32m~/miniconda3/envs/deepmol/lib/python3.8/site-packages/dill/_dill.py:388\u001B[0m, in \u001B[0;36mPickler.save\u001B[0;34m(self, obj, save_persistent_id)\u001B[0m\n\u001B[1;32m    386\u001B[0m     msg \u001B[38;5;241m=\u001B[39m \u001B[38;5;124m\"\u001B[39m\u001B[38;5;124mCan\u001B[39m\u001B[38;5;124m'\u001B[39m\u001B[38;5;124mt pickle \u001B[39m\u001B[38;5;132;01m%s\u001B[39;00m\u001B[38;5;124m: attribute lookup builtins.generator failed\u001B[39m\u001B[38;5;124m\"\u001B[39m \u001B[38;5;241m%\u001B[39m GeneratorType\n\u001B[1;32m    387\u001B[0m     \u001B[38;5;28;01mraise\u001B[39;00m PicklingError(msg)\n\u001B[0;32m--> 388\u001B[0m \u001B[43mStockPickler\u001B[49m\u001B[38;5;241;43m.\u001B[39;49m\u001B[43msave\u001B[49m\u001B[43m(\u001B[49m\u001B[38;5;28;43mself\u001B[39;49m\u001B[43m,\u001B[49m\u001B[43m \u001B[49m\u001B[43mobj\u001B[49m\u001B[43m,\u001B[49m\u001B[43m \u001B[49m\u001B[43msave_persistent_id\u001B[49m\u001B[43m)\u001B[49m\n",
      "File \u001B[0;32m~/miniconda3/envs/deepmol/lib/python3.8/pickle.py:560\u001B[0m, in \u001B[0;36m_Pickler.save\u001B[0;34m(self, obj, save_persistent_id)\u001B[0m\n\u001B[1;32m    558\u001B[0m f \u001B[38;5;241m=\u001B[39m \u001B[38;5;28mself\u001B[39m\u001B[38;5;241m.\u001B[39mdispatch\u001B[38;5;241m.\u001B[39mget(t)\n\u001B[1;32m    559\u001B[0m \u001B[38;5;28;01mif\u001B[39;00m f \u001B[38;5;129;01mis\u001B[39;00m \u001B[38;5;129;01mnot\u001B[39;00m \u001B[38;5;28;01mNone\u001B[39;00m:\n\u001B[0;32m--> 560\u001B[0m     \u001B[43mf\u001B[49m\u001B[43m(\u001B[49m\u001B[38;5;28;43mself\u001B[39;49m\u001B[43m,\u001B[49m\u001B[43m \u001B[49m\u001B[43mobj\u001B[49m\u001B[43m)\u001B[49m  \u001B[38;5;66;03m# Call unbound method with explicit self\u001B[39;00m\n\u001B[1;32m    561\u001B[0m     \u001B[38;5;28;01mreturn\u001B[39;00m\n\u001B[1;32m    563\u001B[0m \u001B[38;5;66;03m# Check private dispatch table if any, or else\u001B[39;00m\n\u001B[1;32m    564\u001B[0m \u001B[38;5;66;03m# copyreg.dispatch_table\u001B[39;00m\n",
      "File \u001B[0;32m~/miniconda3/envs/deepmol/lib/python3.8/pickle.py:931\u001B[0m, in \u001B[0;36m_Pickler.save_list\u001B[0;34m(self, obj)\u001B[0m\n\u001B[1;32m    928\u001B[0m     \u001B[38;5;28mself\u001B[39m\u001B[38;5;241m.\u001B[39mwrite(MARK \u001B[38;5;241m+\u001B[39m LIST)\n\u001B[1;32m    930\u001B[0m \u001B[38;5;28mself\u001B[39m\u001B[38;5;241m.\u001B[39mmemoize(obj)\n\u001B[0;32m--> 931\u001B[0m \u001B[38;5;28;43mself\u001B[39;49m\u001B[38;5;241;43m.\u001B[39;49m\u001B[43m_batch_appends\u001B[49m\u001B[43m(\u001B[49m\u001B[43mobj\u001B[49m\u001B[43m)\u001B[49m\n",
      "File \u001B[0;32m~/miniconda3/envs/deepmol/lib/python3.8/pickle.py:955\u001B[0m, in \u001B[0;36m_Pickler._batch_appends\u001B[0;34m(self, items)\u001B[0m\n\u001B[1;32m    953\u001B[0m     write(MARK)\n\u001B[1;32m    954\u001B[0m     \u001B[38;5;28;01mfor\u001B[39;00m x \u001B[38;5;129;01min\u001B[39;00m tmp:\n\u001B[0;32m--> 955\u001B[0m         \u001B[43msave\u001B[49m\u001B[43m(\u001B[49m\u001B[43mx\u001B[49m\u001B[43m)\u001B[49m\n\u001B[1;32m    956\u001B[0m     write(APPENDS)\n\u001B[1;32m    957\u001B[0m \u001B[38;5;28;01melif\u001B[39;00m n:\n",
      "File \u001B[0;32m~/miniconda3/envs/deepmol/lib/python3.8/site-packages/dill/_dill.py:388\u001B[0m, in \u001B[0;36mPickler.save\u001B[0;34m(self, obj, save_persistent_id)\u001B[0m\n\u001B[1;32m    386\u001B[0m     msg \u001B[38;5;241m=\u001B[39m \u001B[38;5;124m\"\u001B[39m\u001B[38;5;124mCan\u001B[39m\u001B[38;5;124m'\u001B[39m\u001B[38;5;124mt pickle \u001B[39m\u001B[38;5;132;01m%s\u001B[39;00m\u001B[38;5;124m: attribute lookup builtins.generator failed\u001B[39m\u001B[38;5;124m\"\u001B[39m \u001B[38;5;241m%\u001B[39m GeneratorType\n\u001B[1;32m    387\u001B[0m     \u001B[38;5;28;01mraise\u001B[39;00m PicklingError(msg)\n\u001B[0;32m--> 388\u001B[0m \u001B[43mStockPickler\u001B[49m\u001B[38;5;241;43m.\u001B[39;49m\u001B[43msave\u001B[49m\u001B[43m(\u001B[49m\u001B[38;5;28;43mself\u001B[39;49m\u001B[43m,\u001B[49m\u001B[43m \u001B[49m\u001B[43mobj\u001B[49m\u001B[43m,\u001B[49m\u001B[43m \u001B[49m\u001B[43msave_persistent_id\u001B[49m\u001B[43m)\u001B[49m\n",
      "File \u001B[0;32m~/miniconda3/envs/deepmol/lib/python3.8/pickle.py:603\u001B[0m, in \u001B[0;36m_Pickler.save\u001B[0;34m(self, obj, save_persistent_id)\u001B[0m\n\u001B[1;32m    599\u001B[0m     \u001B[38;5;28;01mraise\u001B[39;00m PicklingError(\u001B[38;5;124m\"\u001B[39m\u001B[38;5;124mTuple returned by \u001B[39m\u001B[38;5;132;01m%s\u001B[39;00m\u001B[38;5;124m must have \u001B[39m\u001B[38;5;124m\"\u001B[39m\n\u001B[1;32m    600\u001B[0m                         \u001B[38;5;124m\"\u001B[39m\u001B[38;5;124mtwo to six elements\u001B[39m\u001B[38;5;124m\"\u001B[39m \u001B[38;5;241m%\u001B[39m reduce)\n\u001B[1;32m    602\u001B[0m \u001B[38;5;66;03m# Save the reduce() output and finally memoize the object\u001B[39;00m\n\u001B[0;32m--> 603\u001B[0m \u001B[38;5;28;43mself\u001B[39;49m\u001B[38;5;241;43m.\u001B[39;49m\u001B[43msave_reduce\u001B[49m\u001B[43m(\u001B[49m\u001B[43mobj\u001B[49m\u001B[38;5;241;43m=\u001B[39;49m\u001B[43mobj\u001B[49m\u001B[43m,\u001B[49m\u001B[43m \u001B[49m\u001B[38;5;241;43m*\u001B[39;49m\u001B[43mrv\u001B[49m\u001B[43m)\u001B[49m\n",
      "File \u001B[0;32m~/miniconda3/envs/deepmol/lib/python3.8/pickle.py:717\u001B[0m, in \u001B[0;36m_Pickler.save_reduce\u001B[0;34m(self, func, args, state, listitems, dictitems, state_setter, obj)\u001B[0m\n\u001B[1;32m    715\u001B[0m \u001B[38;5;28;01mif\u001B[39;00m state \u001B[38;5;129;01mis\u001B[39;00m \u001B[38;5;129;01mnot\u001B[39;00m \u001B[38;5;28;01mNone\u001B[39;00m:\n\u001B[1;32m    716\u001B[0m     \u001B[38;5;28;01mif\u001B[39;00m state_setter \u001B[38;5;129;01mis\u001B[39;00m \u001B[38;5;28;01mNone\u001B[39;00m:\n\u001B[0;32m--> 717\u001B[0m         \u001B[43msave\u001B[49m\u001B[43m(\u001B[49m\u001B[43mstate\u001B[49m\u001B[43m)\u001B[49m\n\u001B[1;32m    718\u001B[0m         write(BUILD)\n\u001B[1;32m    719\u001B[0m     \u001B[38;5;28;01melse\u001B[39;00m:\n\u001B[1;32m    720\u001B[0m         \u001B[38;5;66;03m# If a state_setter is specified, call it instead of load_build\u001B[39;00m\n\u001B[1;32m    721\u001B[0m         \u001B[38;5;66;03m# to update obj's with its previous state.\u001B[39;00m\n\u001B[1;32m    722\u001B[0m         \u001B[38;5;66;03m# First, push state_setter and its tuple of expected arguments\u001B[39;00m\n\u001B[1;32m    723\u001B[0m         \u001B[38;5;66;03m# (obj, state) onto the stack.\u001B[39;00m\n",
      "File \u001B[0;32m~/miniconda3/envs/deepmol/lib/python3.8/site-packages/dill/_dill.py:388\u001B[0m, in \u001B[0;36mPickler.save\u001B[0;34m(self, obj, save_persistent_id)\u001B[0m\n\u001B[1;32m    386\u001B[0m     msg \u001B[38;5;241m=\u001B[39m \u001B[38;5;124m\"\u001B[39m\u001B[38;5;124mCan\u001B[39m\u001B[38;5;124m'\u001B[39m\u001B[38;5;124mt pickle \u001B[39m\u001B[38;5;132;01m%s\u001B[39;00m\u001B[38;5;124m: attribute lookup builtins.generator failed\u001B[39m\u001B[38;5;124m\"\u001B[39m \u001B[38;5;241m%\u001B[39m GeneratorType\n\u001B[1;32m    387\u001B[0m     \u001B[38;5;28;01mraise\u001B[39;00m PicklingError(msg)\n\u001B[0;32m--> 388\u001B[0m \u001B[43mStockPickler\u001B[49m\u001B[38;5;241;43m.\u001B[39;49m\u001B[43msave\u001B[49m\u001B[43m(\u001B[49m\u001B[38;5;28;43mself\u001B[39;49m\u001B[43m,\u001B[49m\u001B[43m \u001B[49m\u001B[43mobj\u001B[49m\u001B[43m,\u001B[49m\u001B[43m \u001B[49m\u001B[43msave_persistent_id\u001B[49m\u001B[43m)\u001B[49m\n",
      "File \u001B[0;32m~/miniconda3/envs/deepmol/lib/python3.8/pickle.py:560\u001B[0m, in \u001B[0;36m_Pickler.save\u001B[0;34m(self, obj, save_persistent_id)\u001B[0m\n\u001B[1;32m    558\u001B[0m f \u001B[38;5;241m=\u001B[39m \u001B[38;5;28mself\u001B[39m\u001B[38;5;241m.\u001B[39mdispatch\u001B[38;5;241m.\u001B[39mget(t)\n\u001B[1;32m    559\u001B[0m \u001B[38;5;28;01mif\u001B[39;00m f \u001B[38;5;129;01mis\u001B[39;00m \u001B[38;5;129;01mnot\u001B[39;00m \u001B[38;5;28;01mNone\u001B[39;00m:\n\u001B[0;32m--> 560\u001B[0m     \u001B[43mf\u001B[49m\u001B[43m(\u001B[49m\u001B[38;5;28;43mself\u001B[39;49m\u001B[43m,\u001B[49m\u001B[43m \u001B[49m\u001B[43mobj\u001B[49m\u001B[43m)\u001B[49m  \u001B[38;5;66;03m# Call unbound method with explicit self\u001B[39;00m\n\u001B[1;32m    561\u001B[0m     \u001B[38;5;28;01mreturn\u001B[39;00m\n\u001B[1;32m    563\u001B[0m \u001B[38;5;66;03m# Check private dispatch table if any, or else\u001B[39;00m\n\u001B[1;32m    564\u001B[0m \u001B[38;5;66;03m# copyreg.dispatch_table\u001B[39;00m\n",
      "File \u001B[0;32m~/miniconda3/envs/deepmol/lib/python3.8/pickle.py:886\u001B[0m, in \u001B[0;36m_Pickler.save_tuple\u001B[0;34m(self, obj)\u001B[0m\n\u001B[1;32m    884\u001B[0m \u001B[38;5;28;01mif\u001B[39;00m n \u001B[38;5;241m<\u001B[39m\u001B[38;5;241m=\u001B[39m \u001B[38;5;241m3\u001B[39m \u001B[38;5;129;01mand\u001B[39;00m \u001B[38;5;28mself\u001B[39m\u001B[38;5;241m.\u001B[39mproto \u001B[38;5;241m>\u001B[39m\u001B[38;5;241m=\u001B[39m \u001B[38;5;241m2\u001B[39m:\n\u001B[1;32m    885\u001B[0m     \u001B[38;5;28;01mfor\u001B[39;00m element \u001B[38;5;129;01min\u001B[39;00m obj:\n\u001B[0;32m--> 886\u001B[0m         \u001B[43msave\u001B[49m\u001B[43m(\u001B[49m\u001B[43melement\u001B[49m\u001B[43m)\u001B[49m\n\u001B[1;32m    887\u001B[0m     \u001B[38;5;66;03m# Subtle.  Same as in the big comment below.\u001B[39;00m\n\u001B[1;32m    888\u001B[0m     \u001B[38;5;28;01mif\u001B[39;00m \u001B[38;5;28mid\u001B[39m(obj) \u001B[38;5;129;01min\u001B[39;00m memo:\n",
      "File \u001B[0;32m~/miniconda3/envs/deepmol/lib/python3.8/site-packages/dill/_dill.py:388\u001B[0m, in \u001B[0;36mPickler.save\u001B[0;34m(self, obj, save_persistent_id)\u001B[0m\n\u001B[1;32m    386\u001B[0m     msg \u001B[38;5;241m=\u001B[39m \u001B[38;5;124m\"\u001B[39m\u001B[38;5;124mCan\u001B[39m\u001B[38;5;124m'\u001B[39m\u001B[38;5;124mt pickle \u001B[39m\u001B[38;5;132;01m%s\u001B[39;00m\u001B[38;5;124m: attribute lookup builtins.generator failed\u001B[39m\u001B[38;5;124m\"\u001B[39m \u001B[38;5;241m%\u001B[39m GeneratorType\n\u001B[1;32m    387\u001B[0m     \u001B[38;5;28;01mraise\u001B[39;00m PicklingError(msg)\n\u001B[0;32m--> 388\u001B[0m \u001B[43mStockPickler\u001B[49m\u001B[38;5;241;43m.\u001B[39;49m\u001B[43msave\u001B[49m\u001B[43m(\u001B[49m\u001B[38;5;28;43mself\u001B[39;49m\u001B[43m,\u001B[49m\u001B[43m \u001B[49m\u001B[43mobj\u001B[49m\u001B[43m,\u001B[49m\u001B[43m \u001B[49m\u001B[43msave_persistent_id\u001B[49m\u001B[43m)\u001B[49m\n",
      "File \u001B[0;32m~/miniconda3/envs/deepmol/lib/python3.8/pickle.py:560\u001B[0m, in \u001B[0;36m_Pickler.save\u001B[0;34m(self, obj, save_persistent_id)\u001B[0m\n\u001B[1;32m    558\u001B[0m f \u001B[38;5;241m=\u001B[39m \u001B[38;5;28mself\u001B[39m\u001B[38;5;241m.\u001B[39mdispatch\u001B[38;5;241m.\u001B[39mget(t)\n\u001B[1;32m    559\u001B[0m \u001B[38;5;28;01mif\u001B[39;00m f \u001B[38;5;129;01mis\u001B[39;00m \u001B[38;5;129;01mnot\u001B[39;00m \u001B[38;5;28;01mNone\u001B[39;00m:\n\u001B[0;32m--> 560\u001B[0m     \u001B[43mf\u001B[49m\u001B[43m(\u001B[49m\u001B[38;5;28;43mself\u001B[39;49m\u001B[43m,\u001B[49m\u001B[43m \u001B[49m\u001B[43mobj\u001B[49m\u001B[43m)\u001B[49m  \u001B[38;5;66;03m# Call unbound method with explicit self\u001B[39;00m\n\u001B[1;32m    561\u001B[0m     \u001B[38;5;28;01mreturn\u001B[39;00m\n\u001B[1;32m    563\u001B[0m \u001B[38;5;66;03m# Check private dispatch table if any, or else\u001B[39;00m\n\u001B[1;32m    564\u001B[0m \u001B[38;5;66;03m# copyreg.dispatch_table\u001B[39;00m\n",
      "File \u001B[0;32m~/miniconda3/envs/deepmol/lib/python3.8/site-packages/dill/_dill.py:1186\u001B[0m, in \u001B[0;36msave_module_dict\u001B[0;34m(pickler, obj)\u001B[0m\n\u001B[1;32m   1183\u001B[0m     \u001B[38;5;28;01mif\u001B[39;00m is_dill(pickler, child\u001B[38;5;241m=\u001B[39m\u001B[38;5;28;01mFalse\u001B[39;00m) \u001B[38;5;129;01mand\u001B[39;00m pickler\u001B[38;5;241m.\u001B[39m_session:\n\u001B[1;32m   1184\u001B[0m         \u001B[38;5;66;03m# we only care about session the first pass thru\u001B[39;00m\n\u001B[1;32m   1185\u001B[0m         pickler\u001B[38;5;241m.\u001B[39m_first_pass \u001B[38;5;241m=\u001B[39m \u001B[38;5;28;01mFalse\u001B[39;00m\n\u001B[0;32m-> 1186\u001B[0m     \u001B[43mStockPickler\u001B[49m\u001B[38;5;241;43m.\u001B[39;49m\u001B[43msave_dict\u001B[49m\u001B[43m(\u001B[49m\u001B[43mpickler\u001B[49m\u001B[43m,\u001B[49m\u001B[43m \u001B[49m\u001B[43mobj\u001B[49m\u001B[43m)\u001B[49m\n\u001B[1;32m   1187\u001B[0m     logger\u001B[38;5;241m.\u001B[39mtrace(pickler, \u001B[38;5;124m\"\u001B[39m\u001B[38;5;124m# D2\u001B[39m\u001B[38;5;124m\"\u001B[39m)\n\u001B[1;32m   1188\u001B[0m \u001B[38;5;28;01mreturn\u001B[39;00m\n",
      "File \u001B[0;32m~/miniconda3/envs/deepmol/lib/python3.8/pickle.py:971\u001B[0m, in \u001B[0;36m_Pickler.save_dict\u001B[0;34m(self, obj)\u001B[0m\n\u001B[1;32m    968\u001B[0m     \u001B[38;5;28mself\u001B[39m\u001B[38;5;241m.\u001B[39mwrite(MARK \u001B[38;5;241m+\u001B[39m DICT)\n\u001B[1;32m    970\u001B[0m \u001B[38;5;28mself\u001B[39m\u001B[38;5;241m.\u001B[39mmemoize(obj)\n\u001B[0;32m--> 971\u001B[0m \u001B[38;5;28;43mself\u001B[39;49m\u001B[38;5;241;43m.\u001B[39;49m\u001B[43m_batch_setitems\u001B[49m\u001B[43m(\u001B[49m\u001B[43mobj\u001B[49m\u001B[38;5;241;43m.\u001B[39;49m\u001B[43mitems\u001B[49m\u001B[43m(\u001B[49m\u001B[43m)\u001B[49m\u001B[43m)\u001B[49m\n",
      "File \u001B[0;32m~/miniconda3/envs/deepmol/lib/python3.8/pickle.py:997\u001B[0m, in \u001B[0;36m_Pickler._batch_setitems\u001B[0;34m(self, items)\u001B[0m\n\u001B[1;32m    995\u001B[0m     \u001B[38;5;28;01mfor\u001B[39;00m k, v \u001B[38;5;129;01min\u001B[39;00m tmp:\n\u001B[1;32m    996\u001B[0m         save(k)\n\u001B[0;32m--> 997\u001B[0m         \u001B[43msave\u001B[49m\u001B[43m(\u001B[49m\u001B[43mv\u001B[49m\u001B[43m)\u001B[49m\n\u001B[1;32m    998\u001B[0m     write(SETITEMS)\n\u001B[1;32m    999\u001B[0m \u001B[38;5;28;01melif\u001B[39;00m n:\n",
      "File \u001B[0;32m~/miniconda3/envs/deepmol/lib/python3.8/site-packages/dill/_dill.py:388\u001B[0m, in \u001B[0;36mPickler.save\u001B[0;34m(self, obj, save_persistent_id)\u001B[0m\n\u001B[1;32m    386\u001B[0m     msg \u001B[38;5;241m=\u001B[39m \u001B[38;5;124m\"\u001B[39m\u001B[38;5;124mCan\u001B[39m\u001B[38;5;124m'\u001B[39m\u001B[38;5;124mt pickle \u001B[39m\u001B[38;5;132;01m%s\u001B[39;00m\u001B[38;5;124m: attribute lookup builtins.generator failed\u001B[39m\u001B[38;5;124m\"\u001B[39m \u001B[38;5;241m%\u001B[39m GeneratorType\n\u001B[1;32m    387\u001B[0m     \u001B[38;5;28;01mraise\u001B[39;00m PicklingError(msg)\n\u001B[0;32m--> 388\u001B[0m \u001B[43mStockPickler\u001B[49m\u001B[38;5;241;43m.\u001B[39;49m\u001B[43msave\u001B[49m\u001B[43m(\u001B[49m\u001B[38;5;28;43mself\u001B[39;49m\u001B[43m,\u001B[49m\u001B[43m \u001B[49m\u001B[43mobj\u001B[49m\u001B[43m,\u001B[49m\u001B[43m \u001B[49m\u001B[43msave_persistent_id\u001B[49m\u001B[43m)\u001B[49m\n",
      "File \u001B[0;32m~/miniconda3/envs/deepmol/lib/python3.8/pickle.py:603\u001B[0m, in \u001B[0;36m_Pickler.save\u001B[0;34m(self, obj, save_persistent_id)\u001B[0m\n\u001B[1;32m    599\u001B[0m     \u001B[38;5;28;01mraise\u001B[39;00m PicklingError(\u001B[38;5;124m\"\u001B[39m\u001B[38;5;124mTuple returned by \u001B[39m\u001B[38;5;132;01m%s\u001B[39;00m\u001B[38;5;124m must have \u001B[39m\u001B[38;5;124m\"\u001B[39m\n\u001B[1;32m    600\u001B[0m                         \u001B[38;5;124m\"\u001B[39m\u001B[38;5;124mtwo to six elements\u001B[39m\u001B[38;5;124m\"\u001B[39m \u001B[38;5;241m%\u001B[39m reduce)\n\u001B[1;32m    602\u001B[0m \u001B[38;5;66;03m# Save the reduce() output and finally memoize the object\u001B[39;00m\n\u001B[0;32m--> 603\u001B[0m \u001B[38;5;28;43mself\u001B[39;49m\u001B[38;5;241;43m.\u001B[39;49m\u001B[43msave_reduce\u001B[49m\u001B[43m(\u001B[49m\u001B[43mobj\u001B[49m\u001B[38;5;241;43m=\u001B[39;49m\u001B[43mobj\u001B[49m\u001B[43m,\u001B[49m\u001B[43m \u001B[49m\u001B[38;5;241;43m*\u001B[39;49m\u001B[43mrv\u001B[49m\u001B[43m)\u001B[49m\n",
      "File \u001B[0;32m~/miniconda3/envs/deepmol/lib/python3.8/pickle.py:717\u001B[0m, in \u001B[0;36m_Pickler.save_reduce\u001B[0;34m(self, func, args, state, listitems, dictitems, state_setter, obj)\u001B[0m\n\u001B[1;32m    715\u001B[0m \u001B[38;5;28;01mif\u001B[39;00m state \u001B[38;5;129;01mis\u001B[39;00m \u001B[38;5;129;01mnot\u001B[39;00m \u001B[38;5;28;01mNone\u001B[39;00m:\n\u001B[1;32m    716\u001B[0m     \u001B[38;5;28;01mif\u001B[39;00m state_setter \u001B[38;5;129;01mis\u001B[39;00m \u001B[38;5;28;01mNone\u001B[39;00m:\n\u001B[0;32m--> 717\u001B[0m         \u001B[43msave\u001B[49m\u001B[43m(\u001B[49m\u001B[43mstate\u001B[49m\u001B[43m)\u001B[49m\n\u001B[1;32m    718\u001B[0m         write(BUILD)\n\u001B[1;32m    719\u001B[0m     \u001B[38;5;28;01melse\u001B[39;00m:\n\u001B[1;32m    720\u001B[0m         \u001B[38;5;66;03m# If a state_setter is specified, call it instead of load_build\u001B[39;00m\n\u001B[1;32m    721\u001B[0m         \u001B[38;5;66;03m# to update obj's with its previous state.\u001B[39;00m\n\u001B[1;32m    722\u001B[0m         \u001B[38;5;66;03m# First, push state_setter and its tuple of expected arguments\u001B[39;00m\n\u001B[1;32m    723\u001B[0m         \u001B[38;5;66;03m# (obj, state) onto the stack.\u001B[39;00m\n",
      "    \u001B[0;31m[... skipping similar frames: Pickler.save at line 388 (1 times)]\u001B[0m\n",
      "File \u001B[0;32m~/miniconda3/envs/deepmol/lib/python3.8/pickle.py:560\u001B[0m, in \u001B[0;36m_Pickler.save\u001B[0;34m(self, obj, save_persistent_id)\u001B[0m\n\u001B[1;32m    558\u001B[0m f \u001B[38;5;241m=\u001B[39m \u001B[38;5;28mself\u001B[39m\u001B[38;5;241m.\u001B[39mdispatch\u001B[38;5;241m.\u001B[39mget(t)\n\u001B[1;32m    559\u001B[0m \u001B[38;5;28;01mif\u001B[39;00m f \u001B[38;5;129;01mis\u001B[39;00m \u001B[38;5;129;01mnot\u001B[39;00m \u001B[38;5;28;01mNone\u001B[39;00m:\n\u001B[0;32m--> 560\u001B[0m     \u001B[43mf\u001B[49m\u001B[43m(\u001B[49m\u001B[38;5;28;43mself\u001B[39;49m\u001B[43m,\u001B[49m\u001B[43m \u001B[49m\u001B[43mobj\u001B[49m\u001B[43m)\u001B[49m  \u001B[38;5;66;03m# Call unbound method with explicit self\u001B[39;00m\n\u001B[1;32m    561\u001B[0m     \u001B[38;5;28;01mreturn\u001B[39;00m\n\u001B[1;32m    563\u001B[0m \u001B[38;5;66;03m# Check private dispatch table if any, or else\u001B[39;00m\n\u001B[1;32m    564\u001B[0m \u001B[38;5;66;03m# copyreg.dispatch_table\u001B[39;00m\n",
      "File \u001B[0;32m~/miniconda3/envs/deepmol/lib/python3.8/site-packages/dill/_dill.py:1186\u001B[0m, in \u001B[0;36msave_module_dict\u001B[0;34m(pickler, obj)\u001B[0m\n\u001B[1;32m   1183\u001B[0m     \u001B[38;5;28;01mif\u001B[39;00m is_dill(pickler, child\u001B[38;5;241m=\u001B[39m\u001B[38;5;28;01mFalse\u001B[39;00m) \u001B[38;5;129;01mand\u001B[39;00m pickler\u001B[38;5;241m.\u001B[39m_session:\n\u001B[1;32m   1184\u001B[0m         \u001B[38;5;66;03m# we only care about session the first pass thru\u001B[39;00m\n\u001B[1;32m   1185\u001B[0m         pickler\u001B[38;5;241m.\u001B[39m_first_pass \u001B[38;5;241m=\u001B[39m \u001B[38;5;28;01mFalse\u001B[39;00m\n\u001B[0;32m-> 1186\u001B[0m     \u001B[43mStockPickler\u001B[49m\u001B[38;5;241;43m.\u001B[39;49m\u001B[43msave_dict\u001B[49m\u001B[43m(\u001B[49m\u001B[43mpickler\u001B[49m\u001B[43m,\u001B[49m\u001B[43m \u001B[49m\u001B[43mobj\u001B[49m\u001B[43m)\u001B[49m\n\u001B[1;32m   1187\u001B[0m     logger\u001B[38;5;241m.\u001B[39mtrace(pickler, \u001B[38;5;124m\"\u001B[39m\u001B[38;5;124m# D2\u001B[39m\u001B[38;5;124m\"\u001B[39m)\n\u001B[1;32m   1188\u001B[0m \u001B[38;5;28;01mreturn\u001B[39;00m\n",
      "File \u001B[0;32m~/miniconda3/envs/deepmol/lib/python3.8/pickle.py:971\u001B[0m, in \u001B[0;36m_Pickler.save_dict\u001B[0;34m(self, obj)\u001B[0m\n\u001B[1;32m    968\u001B[0m     \u001B[38;5;28mself\u001B[39m\u001B[38;5;241m.\u001B[39mwrite(MARK \u001B[38;5;241m+\u001B[39m DICT)\n\u001B[1;32m    970\u001B[0m \u001B[38;5;28mself\u001B[39m\u001B[38;5;241m.\u001B[39mmemoize(obj)\n\u001B[0;32m--> 971\u001B[0m \u001B[38;5;28;43mself\u001B[39;49m\u001B[38;5;241;43m.\u001B[39;49m\u001B[43m_batch_setitems\u001B[49m\u001B[43m(\u001B[49m\u001B[43mobj\u001B[49m\u001B[38;5;241;43m.\u001B[39;49m\u001B[43mitems\u001B[49m\u001B[43m(\u001B[49m\u001B[43m)\u001B[49m\u001B[43m)\u001B[49m\n",
      "File \u001B[0;32m~/miniconda3/envs/deepmol/lib/python3.8/pickle.py:997\u001B[0m, in \u001B[0;36m_Pickler._batch_setitems\u001B[0;34m(self, items)\u001B[0m\n\u001B[1;32m    995\u001B[0m     \u001B[38;5;28;01mfor\u001B[39;00m k, v \u001B[38;5;129;01min\u001B[39;00m tmp:\n\u001B[1;32m    996\u001B[0m         save(k)\n\u001B[0;32m--> 997\u001B[0m         \u001B[43msave\u001B[49m\u001B[43m(\u001B[49m\u001B[43mv\u001B[49m\u001B[43m)\u001B[49m\n\u001B[1;32m    998\u001B[0m     write(SETITEMS)\n\u001B[1;32m    999\u001B[0m \u001B[38;5;28;01melif\u001B[39;00m n:\n",
      "    \u001B[0;31m[... skipping similar frames: Pickler.save at line 388 (1 times)]\u001B[0m\n",
      "File \u001B[0;32m~/miniconda3/envs/deepmol/lib/python3.8/pickle.py:603\u001B[0m, in \u001B[0;36m_Pickler.save\u001B[0;34m(self, obj, save_persistent_id)\u001B[0m\n\u001B[1;32m    599\u001B[0m     \u001B[38;5;28;01mraise\u001B[39;00m PicklingError(\u001B[38;5;124m\"\u001B[39m\u001B[38;5;124mTuple returned by \u001B[39m\u001B[38;5;132;01m%s\u001B[39;00m\u001B[38;5;124m must have \u001B[39m\u001B[38;5;124m\"\u001B[39m\n\u001B[1;32m    600\u001B[0m                         \u001B[38;5;124m\"\u001B[39m\u001B[38;5;124mtwo to six elements\u001B[39m\u001B[38;5;124m\"\u001B[39m \u001B[38;5;241m%\u001B[39m reduce)\n\u001B[1;32m    602\u001B[0m \u001B[38;5;66;03m# Save the reduce() output and finally memoize the object\u001B[39;00m\n\u001B[0;32m--> 603\u001B[0m \u001B[38;5;28;43mself\u001B[39;49m\u001B[38;5;241;43m.\u001B[39;49m\u001B[43msave_reduce\u001B[49m\u001B[43m(\u001B[49m\u001B[43mobj\u001B[49m\u001B[38;5;241;43m=\u001B[39;49m\u001B[43mobj\u001B[49m\u001B[43m,\u001B[49m\u001B[43m \u001B[49m\u001B[38;5;241;43m*\u001B[39;49m\u001B[43mrv\u001B[49m\u001B[43m)\u001B[49m\n",
      "File \u001B[0;32m~/miniconda3/envs/deepmol/lib/python3.8/pickle.py:717\u001B[0m, in \u001B[0;36m_Pickler.save_reduce\u001B[0;34m(self, func, args, state, listitems, dictitems, state_setter, obj)\u001B[0m\n\u001B[1;32m    715\u001B[0m \u001B[38;5;28;01mif\u001B[39;00m state \u001B[38;5;129;01mis\u001B[39;00m \u001B[38;5;129;01mnot\u001B[39;00m \u001B[38;5;28;01mNone\u001B[39;00m:\n\u001B[1;32m    716\u001B[0m     \u001B[38;5;28;01mif\u001B[39;00m state_setter \u001B[38;5;129;01mis\u001B[39;00m \u001B[38;5;28;01mNone\u001B[39;00m:\n\u001B[0;32m--> 717\u001B[0m         \u001B[43msave\u001B[49m\u001B[43m(\u001B[49m\u001B[43mstate\u001B[49m\u001B[43m)\u001B[49m\n\u001B[1;32m    718\u001B[0m         write(BUILD)\n\u001B[1;32m    719\u001B[0m     \u001B[38;5;28;01melse\u001B[39;00m:\n\u001B[1;32m    720\u001B[0m         \u001B[38;5;66;03m# If a state_setter is specified, call it instead of load_build\u001B[39;00m\n\u001B[1;32m    721\u001B[0m         \u001B[38;5;66;03m# to update obj's with its previous state.\u001B[39;00m\n\u001B[1;32m    722\u001B[0m         \u001B[38;5;66;03m# First, push state_setter and its tuple of expected arguments\u001B[39;00m\n\u001B[1;32m    723\u001B[0m         \u001B[38;5;66;03m# (obj, state) onto the stack.\u001B[39;00m\n",
      "    \u001B[0;31m[... skipping similar frames: Pickler.save at line 388 (1 times), _Pickler.save at line 560 (1 times)]\u001B[0m\n",
      "File \u001B[0;32m~/miniconda3/envs/deepmol/lib/python3.8/site-packages/dill/_dill.py:1186\u001B[0m, in \u001B[0;36msave_module_dict\u001B[0;34m(pickler, obj)\u001B[0m\n\u001B[1;32m   1183\u001B[0m     \u001B[38;5;28;01mif\u001B[39;00m is_dill(pickler, child\u001B[38;5;241m=\u001B[39m\u001B[38;5;28;01mFalse\u001B[39;00m) \u001B[38;5;129;01mand\u001B[39;00m pickler\u001B[38;5;241m.\u001B[39m_session:\n\u001B[1;32m   1184\u001B[0m         \u001B[38;5;66;03m# we only care about session the first pass thru\u001B[39;00m\n\u001B[1;32m   1185\u001B[0m         pickler\u001B[38;5;241m.\u001B[39m_first_pass \u001B[38;5;241m=\u001B[39m \u001B[38;5;28;01mFalse\u001B[39;00m\n\u001B[0;32m-> 1186\u001B[0m     \u001B[43mStockPickler\u001B[49m\u001B[38;5;241;43m.\u001B[39;49m\u001B[43msave_dict\u001B[49m\u001B[43m(\u001B[49m\u001B[43mpickler\u001B[49m\u001B[43m,\u001B[49m\u001B[43m \u001B[49m\u001B[43mobj\u001B[49m\u001B[43m)\u001B[49m\n\u001B[1;32m   1187\u001B[0m     logger\u001B[38;5;241m.\u001B[39mtrace(pickler, \u001B[38;5;124m\"\u001B[39m\u001B[38;5;124m# D2\u001B[39m\u001B[38;5;124m\"\u001B[39m)\n\u001B[1;32m   1188\u001B[0m \u001B[38;5;28;01mreturn\u001B[39;00m\n",
      "File \u001B[0;32m~/miniconda3/envs/deepmol/lib/python3.8/pickle.py:971\u001B[0m, in \u001B[0;36m_Pickler.save_dict\u001B[0;34m(self, obj)\u001B[0m\n\u001B[1;32m    968\u001B[0m     \u001B[38;5;28mself\u001B[39m\u001B[38;5;241m.\u001B[39mwrite(MARK \u001B[38;5;241m+\u001B[39m DICT)\n\u001B[1;32m    970\u001B[0m \u001B[38;5;28mself\u001B[39m\u001B[38;5;241m.\u001B[39mmemoize(obj)\n\u001B[0;32m--> 971\u001B[0m \u001B[38;5;28;43mself\u001B[39;49m\u001B[38;5;241;43m.\u001B[39;49m\u001B[43m_batch_setitems\u001B[49m\u001B[43m(\u001B[49m\u001B[43mobj\u001B[49m\u001B[38;5;241;43m.\u001B[39;49m\u001B[43mitems\u001B[49m\u001B[43m(\u001B[49m\u001B[43m)\u001B[49m\u001B[43m)\u001B[49m\n",
      "File \u001B[0;32m~/miniconda3/envs/deepmol/lib/python3.8/pickle.py:997\u001B[0m, in \u001B[0;36m_Pickler._batch_setitems\u001B[0;34m(self, items)\u001B[0m\n\u001B[1;32m    995\u001B[0m     \u001B[38;5;28;01mfor\u001B[39;00m k, v \u001B[38;5;129;01min\u001B[39;00m tmp:\n\u001B[1;32m    996\u001B[0m         save(k)\n\u001B[0;32m--> 997\u001B[0m         \u001B[43msave\u001B[49m\u001B[43m(\u001B[49m\u001B[43mv\u001B[49m\u001B[43m)\u001B[49m\n\u001B[1;32m    998\u001B[0m     write(SETITEMS)\n\u001B[1;32m    999\u001B[0m \u001B[38;5;28;01melif\u001B[39;00m n:\n",
      "File \u001B[0;32m~/miniconda3/envs/deepmol/lib/python3.8/site-packages/dill/_dill.py:388\u001B[0m, in \u001B[0;36mPickler.save\u001B[0;34m(self, obj, save_persistent_id)\u001B[0m\n\u001B[1;32m    386\u001B[0m     msg \u001B[38;5;241m=\u001B[39m \u001B[38;5;124m\"\u001B[39m\u001B[38;5;124mCan\u001B[39m\u001B[38;5;124m'\u001B[39m\u001B[38;5;124mt pickle \u001B[39m\u001B[38;5;132;01m%s\u001B[39;00m\u001B[38;5;124m: attribute lookup builtins.generator failed\u001B[39m\u001B[38;5;124m\"\u001B[39m \u001B[38;5;241m%\u001B[39m GeneratorType\n\u001B[1;32m    387\u001B[0m     \u001B[38;5;28;01mraise\u001B[39;00m PicklingError(msg)\n\u001B[0;32m--> 388\u001B[0m \u001B[43mStockPickler\u001B[49m\u001B[38;5;241;43m.\u001B[39;49m\u001B[43msave\u001B[49m\u001B[43m(\u001B[49m\u001B[38;5;28;43mself\u001B[39;49m\u001B[43m,\u001B[49m\u001B[43m \u001B[49m\u001B[43mobj\u001B[49m\u001B[43m,\u001B[49m\u001B[43m \u001B[49m\u001B[43msave_persistent_id\u001B[49m\u001B[43m)\u001B[49m\n",
      "File \u001B[0;32m~/miniconda3/envs/deepmol/lib/python3.8/pickle.py:560\u001B[0m, in \u001B[0;36m_Pickler.save\u001B[0;34m(self, obj, save_persistent_id)\u001B[0m\n\u001B[1;32m    558\u001B[0m f \u001B[38;5;241m=\u001B[39m \u001B[38;5;28mself\u001B[39m\u001B[38;5;241m.\u001B[39mdispatch\u001B[38;5;241m.\u001B[39mget(t)\n\u001B[1;32m    559\u001B[0m \u001B[38;5;28;01mif\u001B[39;00m f \u001B[38;5;129;01mis\u001B[39;00m \u001B[38;5;129;01mnot\u001B[39;00m \u001B[38;5;28;01mNone\u001B[39;00m:\n\u001B[0;32m--> 560\u001B[0m     \u001B[43mf\u001B[49m\u001B[43m(\u001B[49m\u001B[38;5;28;43mself\u001B[39;49m\u001B[43m,\u001B[49m\u001B[43m \u001B[49m\u001B[43mobj\u001B[49m\u001B[43m)\u001B[49m  \u001B[38;5;66;03m# Call unbound method with explicit self\u001B[39;00m\n\u001B[1;32m    561\u001B[0m     \u001B[38;5;28;01mreturn\u001B[39;00m\n\u001B[1;32m    563\u001B[0m \u001B[38;5;66;03m# Check private dispatch table if any, or else\u001B[39;00m\n\u001B[1;32m    564\u001B[0m \u001B[38;5;66;03m# copyreg.dispatch_table\u001B[39;00m\n",
      "File \u001B[0;32m~/miniconda3/envs/deepmol/lib/python3.8/site-packages/dill/_dill.py:1824\u001B[0m, in \u001B[0;36msave_function\u001B[0;34m(pickler, obj)\u001B[0m\n\u001B[1;32m   1821\u001B[0m \u001B[38;5;28;01mif\u001B[39;00m state_dict:\n\u001B[1;32m   1822\u001B[0m     state \u001B[38;5;241m=\u001B[39m state, state_dict\n\u001B[0;32m-> 1824\u001B[0m \u001B[43m_save_with_postproc\u001B[49m\u001B[43m(\u001B[49m\u001B[43mpickler\u001B[49m\u001B[43m,\u001B[49m\u001B[43m \u001B[49m\u001B[43m(\u001B[49m\u001B[43m_create_function\u001B[49m\u001B[43m,\u001B[49m\u001B[43m \u001B[49m\u001B[43m(\u001B[49m\n\u001B[1;32m   1825\u001B[0m \u001B[43m        \u001B[49m\u001B[43mobj\u001B[49m\u001B[38;5;241;43m.\u001B[39;49m\u001B[38;5;18;43m__code__\u001B[39;49m\u001B[43m,\u001B[49m\u001B[43m \u001B[49m\u001B[43mglobs\u001B[49m\u001B[43m,\u001B[49m\u001B[43m \u001B[49m\u001B[43mobj\u001B[49m\u001B[38;5;241;43m.\u001B[39;49m\u001B[38;5;18;43m__name__\u001B[39;49m\u001B[43m,\u001B[49m\u001B[43m \u001B[49m\u001B[43mobj\u001B[49m\u001B[38;5;241;43m.\u001B[39;49m\u001B[38;5;18;43m__defaults__\u001B[39;49m\u001B[43m,\u001B[49m\n\u001B[1;32m   1826\u001B[0m \u001B[43m        \u001B[49m\u001B[43mclosure\u001B[49m\n\u001B[1;32m   1827\u001B[0m \u001B[43m\u001B[49m\u001B[43m)\u001B[49m\u001B[43m,\u001B[49m\u001B[43m \u001B[49m\u001B[43mstate\u001B[49m\u001B[43m)\u001B[49m\u001B[43m,\u001B[49m\u001B[43m \u001B[49m\u001B[43mobj\u001B[49m\u001B[38;5;241;43m=\u001B[39;49m\u001B[43mobj\u001B[49m\u001B[43m,\u001B[49m\u001B[43m \u001B[49m\u001B[43mpostproc_list\u001B[49m\u001B[38;5;241;43m=\u001B[39;49m\u001B[43mpostproc_list\u001B[49m\u001B[43m)\u001B[49m\n\u001B[1;32m   1829\u001B[0m \u001B[38;5;66;03m# Lift closure cell update to earliest function (#458)\u001B[39;00m\n\u001B[1;32m   1830\u001B[0m \u001B[38;5;28;01mif\u001B[39;00m _postproc:\n",
      "File \u001B[0;32m~/miniconda3/envs/deepmol/lib/python3.8/site-packages/dill/_dill.py:1089\u001B[0m, in \u001B[0;36m_save_with_postproc\u001B[0;34m(pickler, reduction, is_pickler_dill, obj, postproc_list)\u001B[0m\n\u001B[1;32m   1087\u001B[0m         \u001B[38;5;28;01mcontinue\u001B[39;00m\n\u001B[1;32m   1088\u001B[0m \u001B[38;5;28;01melse\u001B[39;00m:\n\u001B[0;32m-> 1089\u001B[0m     \u001B[43mpickler\u001B[49m\u001B[38;5;241;43m.\u001B[39;49m\u001B[43msave_reduce\u001B[49m\u001B[43m(\u001B[49m\u001B[38;5;241;43m*\u001B[39;49m\u001B[43mreduction\u001B[49m\u001B[43m)\u001B[49m\n\u001B[1;32m   1090\u001B[0m \u001B[38;5;66;03m# pop None created by calling preprocessing step off stack\u001B[39;00m\n\u001B[1;32m   1091\u001B[0m pickler\u001B[38;5;241m.\u001B[39mwrite(\u001B[38;5;28mbytes\u001B[39m(\u001B[38;5;124m'\u001B[39m\u001B[38;5;124m0\u001B[39m\u001B[38;5;124m'\u001B[39m, \u001B[38;5;124m'\u001B[39m\u001B[38;5;124mUTF-8\u001B[39m\u001B[38;5;124m'\u001B[39m))\n",
      "File \u001B[0;32m~/miniconda3/envs/deepmol/lib/python3.8/pickle.py:692\u001B[0m, in \u001B[0;36m_Pickler.save_reduce\u001B[0;34m(self, func, args, state, listitems, dictitems, state_setter, obj)\u001B[0m\n\u001B[1;32m    690\u001B[0m \u001B[38;5;28;01melse\u001B[39;00m:\n\u001B[1;32m    691\u001B[0m     save(func)\n\u001B[0;32m--> 692\u001B[0m     \u001B[43msave\u001B[49m\u001B[43m(\u001B[49m\u001B[43margs\u001B[49m\u001B[43m)\u001B[49m\n\u001B[1;32m    693\u001B[0m     write(REDUCE)\n\u001B[1;32m    695\u001B[0m \u001B[38;5;28;01mif\u001B[39;00m obj \u001B[38;5;129;01mis\u001B[39;00m \u001B[38;5;129;01mnot\u001B[39;00m \u001B[38;5;28;01mNone\u001B[39;00m:\n\u001B[1;32m    696\u001B[0m     \u001B[38;5;66;03m# If the object is already in the memo, this means it is\u001B[39;00m\n\u001B[1;32m    697\u001B[0m     \u001B[38;5;66;03m# recursive. In this case, throw away everything we put on the\u001B[39;00m\n\u001B[1;32m    698\u001B[0m     \u001B[38;5;66;03m# stack, and fetch the object back from the memo.\u001B[39;00m\n",
      "File \u001B[0;32m~/miniconda3/envs/deepmol/lib/python3.8/site-packages/dill/_dill.py:388\u001B[0m, in \u001B[0;36mPickler.save\u001B[0;34m(self, obj, save_persistent_id)\u001B[0m\n\u001B[1;32m    386\u001B[0m     msg \u001B[38;5;241m=\u001B[39m \u001B[38;5;124m\"\u001B[39m\u001B[38;5;124mCan\u001B[39m\u001B[38;5;124m'\u001B[39m\u001B[38;5;124mt pickle \u001B[39m\u001B[38;5;132;01m%s\u001B[39;00m\u001B[38;5;124m: attribute lookup builtins.generator failed\u001B[39m\u001B[38;5;124m\"\u001B[39m \u001B[38;5;241m%\u001B[39m GeneratorType\n\u001B[1;32m    387\u001B[0m     \u001B[38;5;28;01mraise\u001B[39;00m PicklingError(msg)\n\u001B[0;32m--> 388\u001B[0m \u001B[43mStockPickler\u001B[49m\u001B[38;5;241;43m.\u001B[39;49m\u001B[43msave\u001B[49m\u001B[43m(\u001B[49m\u001B[38;5;28;43mself\u001B[39;49m\u001B[43m,\u001B[49m\u001B[43m \u001B[49m\u001B[43mobj\u001B[49m\u001B[43m,\u001B[49m\u001B[43m \u001B[49m\u001B[43msave_persistent_id\u001B[49m\u001B[43m)\u001B[49m\n",
      "File \u001B[0;32m~/miniconda3/envs/deepmol/lib/python3.8/pickle.py:560\u001B[0m, in \u001B[0;36m_Pickler.save\u001B[0;34m(self, obj, save_persistent_id)\u001B[0m\n\u001B[1;32m    558\u001B[0m f \u001B[38;5;241m=\u001B[39m \u001B[38;5;28mself\u001B[39m\u001B[38;5;241m.\u001B[39mdispatch\u001B[38;5;241m.\u001B[39mget(t)\n\u001B[1;32m    559\u001B[0m \u001B[38;5;28;01mif\u001B[39;00m f \u001B[38;5;129;01mis\u001B[39;00m \u001B[38;5;129;01mnot\u001B[39;00m \u001B[38;5;28;01mNone\u001B[39;00m:\n\u001B[0;32m--> 560\u001B[0m     \u001B[43mf\u001B[49m\u001B[43m(\u001B[49m\u001B[38;5;28;43mself\u001B[39;49m\u001B[43m,\u001B[49m\u001B[43m \u001B[49m\u001B[43mobj\u001B[49m\u001B[43m)\u001B[49m  \u001B[38;5;66;03m# Call unbound method with explicit self\u001B[39;00m\n\u001B[1;32m    561\u001B[0m     \u001B[38;5;28;01mreturn\u001B[39;00m\n\u001B[1;32m    563\u001B[0m \u001B[38;5;66;03m# Check private dispatch table if any, or else\u001B[39;00m\n\u001B[1;32m    564\u001B[0m \u001B[38;5;66;03m# copyreg.dispatch_table\u001B[39;00m\n",
      "File \u001B[0;32m~/miniconda3/envs/deepmol/lib/python3.8/pickle.py:886\u001B[0m, in \u001B[0;36m_Pickler.save_tuple\u001B[0;34m(self, obj)\u001B[0m\n\u001B[1;32m    884\u001B[0m \u001B[38;5;28;01mif\u001B[39;00m n \u001B[38;5;241m<\u001B[39m\u001B[38;5;241m=\u001B[39m \u001B[38;5;241m3\u001B[39m \u001B[38;5;129;01mand\u001B[39;00m \u001B[38;5;28mself\u001B[39m\u001B[38;5;241m.\u001B[39mproto \u001B[38;5;241m>\u001B[39m\u001B[38;5;241m=\u001B[39m \u001B[38;5;241m2\u001B[39m:\n\u001B[1;32m    885\u001B[0m     \u001B[38;5;28;01mfor\u001B[39;00m element \u001B[38;5;129;01min\u001B[39;00m obj:\n\u001B[0;32m--> 886\u001B[0m         \u001B[43msave\u001B[49m\u001B[43m(\u001B[49m\u001B[43melement\u001B[49m\u001B[43m)\u001B[49m\n\u001B[1;32m    887\u001B[0m     \u001B[38;5;66;03m# Subtle.  Same as in the big comment below.\u001B[39;00m\n\u001B[1;32m    888\u001B[0m     \u001B[38;5;28;01mif\u001B[39;00m \u001B[38;5;28mid\u001B[39m(obj) \u001B[38;5;129;01min\u001B[39;00m memo:\n",
      "File \u001B[0;32m~/miniconda3/envs/deepmol/lib/python3.8/site-packages/dill/_dill.py:388\u001B[0m, in \u001B[0;36mPickler.save\u001B[0;34m(self, obj, save_persistent_id)\u001B[0m\n\u001B[1;32m    386\u001B[0m     msg \u001B[38;5;241m=\u001B[39m \u001B[38;5;124m\"\u001B[39m\u001B[38;5;124mCan\u001B[39m\u001B[38;5;124m'\u001B[39m\u001B[38;5;124mt pickle \u001B[39m\u001B[38;5;132;01m%s\u001B[39;00m\u001B[38;5;124m: attribute lookup builtins.generator failed\u001B[39m\u001B[38;5;124m\"\u001B[39m \u001B[38;5;241m%\u001B[39m GeneratorType\n\u001B[1;32m    387\u001B[0m     \u001B[38;5;28;01mraise\u001B[39;00m PicklingError(msg)\n\u001B[0;32m--> 388\u001B[0m \u001B[43mStockPickler\u001B[49m\u001B[38;5;241;43m.\u001B[39;49m\u001B[43msave\u001B[49m\u001B[43m(\u001B[49m\u001B[38;5;28;43mself\u001B[39;49m\u001B[43m,\u001B[49m\u001B[43m \u001B[49m\u001B[43mobj\u001B[49m\u001B[43m,\u001B[49m\u001B[43m \u001B[49m\u001B[43msave_persistent_id\u001B[49m\u001B[43m)\u001B[49m\n",
      "File \u001B[0;32m~/miniconda3/envs/deepmol/lib/python3.8/pickle.py:560\u001B[0m, in \u001B[0;36m_Pickler.save\u001B[0;34m(self, obj, save_persistent_id)\u001B[0m\n\u001B[1;32m    558\u001B[0m f \u001B[38;5;241m=\u001B[39m \u001B[38;5;28mself\u001B[39m\u001B[38;5;241m.\u001B[39mdispatch\u001B[38;5;241m.\u001B[39mget(t)\n\u001B[1;32m    559\u001B[0m \u001B[38;5;28;01mif\u001B[39;00m f \u001B[38;5;129;01mis\u001B[39;00m \u001B[38;5;129;01mnot\u001B[39;00m \u001B[38;5;28;01mNone\u001B[39;00m:\n\u001B[0;32m--> 560\u001B[0m     \u001B[43mf\u001B[49m\u001B[43m(\u001B[49m\u001B[38;5;28;43mself\u001B[39;49m\u001B[43m,\u001B[49m\u001B[43m \u001B[49m\u001B[43mobj\u001B[49m\u001B[43m)\u001B[49m  \u001B[38;5;66;03m# Call unbound method with explicit self\u001B[39;00m\n\u001B[1;32m    561\u001B[0m     \u001B[38;5;28;01mreturn\u001B[39;00m\n\u001B[1;32m    563\u001B[0m \u001B[38;5;66;03m# Check private dispatch table if any, or else\u001B[39;00m\n\u001B[1;32m    564\u001B[0m \u001B[38;5;66;03m# copyreg.dispatch_table\u001B[39;00m\n",
      "File \u001B[0;32m~/miniconda3/envs/deepmol/lib/python3.8/site-packages/dill/_dill.py:1824\u001B[0m, in \u001B[0;36msave_function\u001B[0;34m(pickler, obj)\u001B[0m\n\u001B[1;32m   1821\u001B[0m \u001B[38;5;28;01mif\u001B[39;00m state_dict:\n\u001B[1;32m   1822\u001B[0m     state \u001B[38;5;241m=\u001B[39m state, state_dict\n\u001B[0;32m-> 1824\u001B[0m \u001B[43m_save_with_postproc\u001B[49m\u001B[43m(\u001B[49m\u001B[43mpickler\u001B[49m\u001B[43m,\u001B[49m\u001B[43m \u001B[49m\u001B[43m(\u001B[49m\u001B[43m_create_function\u001B[49m\u001B[43m,\u001B[49m\u001B[43m \u001B[49m\u001B[43m(\u001B[49m\n\u001B[1;32m   1825\u001B[0m \u001B[43m        \u001B[49m\u001B[43mobj\u001B[49m\u001B[38;5;241;43m.\u001B[39;49m\u001B[38;5;18;43m__code__\u001B[39;49m\u001B[43m,\u001B[49m\u001B[43m \u001B[49m\u001B[43mglobs\u001B[49m\u001B[43m,\u001B[49m\u001B[43m \u001B[49m\u001B[43mobj\u001B[49m\u001B[38;5;241;43m.\u001B[39;49m\u001B[38;5;18;43m__name__\u001B[39;49m\u001B[43m,\u001B[49m\u001B[43m \u001B[49m\u001B[43mobj\u001B[49m\u001B[38;5;241;43m.\u001B[39;49m\u001B[38;5;18;43m__defaults__\u001B[39;49m\u001B[43m,\u001B[49m\n\u001B[1;32m   1826\u001B[0m \u001B[43m        \u001B[49m\u001B[43mclosure\u001B[49m\n\u001B[1;32m   1827\u001B[0m \u001B[43m\u001B[49m\u001B[43m)\u001B[49m\u001B[43m,\u001B[49m\u001B[43m \u001B[49m\u001B[43mstate\u001B[49m\u001B[43m)\u001B[49m\u001B[43m,\u001B[49m\u001B[43m \u001B[49m\u001B[43mobj\u001B[49m\u001B[38;5;241;43m=\u001B[39;49m\u001B[43mobj\u001B[49m\u001B[43m,\u001B[49m\u001B[43m \u001B[49m\u001B[43mpostproc_list\u001B[49m\u001B[38;5;241;43m=\u001B[39;49m\u001B[43mpostproc_list\u001B[49m\u001B[43m)\u001B[49m\n\u001B[1;32m   1829\u001B[0m \u001B[38;5;66;03m# Lift closure cell update to earliest function (#458)\u001B[39;00m\n\u001B[1;32m   1830\u001B[0m \u001B[38;5;28;01mif\u001B[39;00m _postproc:\n",
      "File \u001B[0;32m~/miniconda3/envs/deepmol/lib/python3.8/site-packages/dill/_dill.py:1089\u001B[0m, in \u001B[0;36m_save_with_postproc\u001B[0;34m(pickler, reduction, is_pickler_dill, obj, postproc_list)\u001B[0m\n\u001B[1;32m   1087\u001B[0m         \u001B[38;5;28;01mcontinue\u001B[39;00m\n\u001B[1;32m   1088\u001B[0m \u001B[38;5;28;01melse\u001B[39;00m:\n\u001B[0;32m-> 1089\u001B[0m     \u001B[43mpickler\u001B[49m\u001B[38;5;241;43m.\u001B[39;49m\u001B[43msave_reduce\u001B[49m\u001B[43m(\u001B[49m\u001B[38;5;241;43m*\u001B[39;49m\u001B[43mreduction\u001B[49m\u001B[43m)\u001B[49m\n\u001B[1;32m   1090\u001B[0m \u001B[38;5;66;03m# pop None created by calling preprocessing step off stack\u001B[39;00m\n\u001B[1;32m   1091\u001B[0m pickler\u001B[38;5;241m.\u001B[39mwrite(\u001B[38;5;28mbytes\u001B[39m(\u001B[38;5;124m'\u001B[39m\u001B[38;5;124m0\u001B[39m\u001B[38;5;124m'\u001B[39m, \u001B[38;5;124m'\u001B[39m\u001B[38;5;124mUTF-8\u001B[39m\u001B[38;5;124m'\u001B[39m))\n",
      "File \u001B[0;32m~/miniconda3/envs/deepmol/lib/python3.8/pickle.py:692\u001B[0m, in \u001B[0;36m_Pickler.save_reduce\u001B[0;34m(self, func, args, state, listitems, dictitems, state_setter, obj)\u001B[0m\n\u001B[1;32m    690\u001B[0m \u001B[38;5;28;01melse\u001B[39;00m:\n\u001B[1;32m    691\u001B[0m     save(func)\n\u001B[0;32m--> 692\u001B[0m     \u001B[43msave\u001B[49m\u001B[43m(\u001B[49m\u001B[43margs\u001B[49m\u001B[43m)\u001B[49m\n\u001B[1;32m    693\u001B[0m     write(REDUCE)\n\u001B[1;32m    695\u001B[0m \u001B[38;5;28;01mif\u001B[39;00m obj \u001B[38;5;129;01mis\u001B[39;00m \u001B[38;5;129;01mnot\u001B[39;00m \u001B[38;5;28;01mNone\u001B[39;00m:\n\u001B[1;32m    696\u001B[0m     \u001B[38;5;66;03m# If the object is already in the memo, this means it is\u001B[39;00m\n\u001B[1;32m    697\u001B[0m     \u001B[38;5;66;03m# recursive. In this case, throw away everything we put on the\u001B[39;00m\n\u001B[1;32m    698\u001B[0m     \u001B[38;5;66;03m# stack, and fetch the object back from the memo.\u001B[39;00m\n",
      "File \u001B[0;32m~/miniconda3/envs/deepmol/lib/python3.8/site-packages/dill/_dill.py:388\u001B[0m, in \u001B[0;36mPickler.save\u001B[0;34m(self, obj, save_persistent_id)\u001B[0m\n\u001B[1;32m    386\u001B[0m     msg \u001B[38;5;241m=\u001B[39m \u001B[38;5;124m\"\u001B[39m\u001B[38;5;124mCan\u001B[39m\u001B[38;5;124m'\u001B[39m\u001B[38;5;124mt pickle \u001B[39m\u001B[38;5;132;01m%s\u001B[39;00m\u001B[38;5;124m: attribute lookup builtins.generator failed\u001B[39m\u001B[38;5;124m\"\u001B[39m \u001B[38;5;241m%\u001B[39m GeneratorType\n\u001B[1;32m    387\u001B[0m     \u001B[38;5;28;01mraise\u001B[39;00m PicklingError(msg)\n\u001B[0;32m--> 388\u001B[0m \u001B[43mStockPickler\u001B[49m\u001B[38;5;241;43m.\u001B[39;49m\u001B[43msave\u001B[49m\u001B[43m(\u001B[49m\u001B[38;5;28;43mself\u001B[39;49m\u001B[43m,\u001B[49m\u001B[43m \u001B[49m\u001B[43mobj\u001B[49m\u001B[43m,\u001B[49m\u001B[43m \u001B[49m\u001B[43msave_persistent_id\u001B[49m\u001B[43m)\u001B[49m\n",
      "File \u001B[0;32m~/miniconda3/envs/deepmol/lib/python3.8/pickle.py:560\u001B[0m, in \u001B[0;36m_Pickler.save\u001B[0;34m(self, obj, save_persistent_id)\u001B[0m\n\u001B[1;32m    558\u001B[0m f \u001B[38;5;241m=\u001B[39m \u001B[38;5;28mself\u001B[39m\u001B[38;5;241m.\u001B[39mdispatch\u001B[38;5;241m.\u001B[39mget(t)\n\u001B[1;32m    559\u001B[0m \u001B[38;5;28;01mif\u001B[39;00m f \u001B[38;5;129;01mis\u001B[39;00m \u001B[38;5;129;01mnot\u001B[39;00m \u001B[38;5;28;01mNone\u001B[39;00m:\n\u001B[0;32m--> 560\u001B[0m     \u001B[43mf\u001B[49m\u001B[43m(\u001B[49m\u001B[38;5;28;43mself\u001B[39;49m\u001B[43m,\u001B[49m\u001B[43m \u001B[49m\u001B[43mobj\u001B[49m\u001B[43m)\u001B[49m  \u001B[38;5;66;03m# Call unbound method with explicit self\u001B[39;00m\n\u001B[1;32m    561\u001B[0m     \u001B[38;5;28;01mreturn\u001B[39;00m\n\u001B[1;32m    563\u001B[0m \u001B[38;5;66;03m# Check private dispatch table if any, or else\u001B[39;00m\n\u001B[1;32m    564\u001B[0m \u001B[38;5;66;03m# copyreg.dispatch_table\u001B[39;00m\n",
      "File \u001B[0;32m~/miniconda3/envs/deepmol/lib/python3.8/pickle.py:886\u001B[0m, in \u001B[0;36m_Pickler.save_tuple\u001B[0;34m(self, obj)\u001B[0m\n\u001B[1;32m    884\u001B[0m \u001B[38;5;28;01mif\u001B[39;00m n \u001B[38;5;241m<\u001B[39m\u001B[38;5;241m=\u001B[39m \u001B[38;5;241m3\u001B[39m \u001B[38;5;129;01mand\u001B[39;00m \u001B[38;5;28mself\u001B[39m\u001B[38;5;241m.\u001B[39mproto \u001B[38;5;241m>\u001B[39m\u001B[38;5;241m=\u001B[39m \u001B[38;5;241m2\u001B[39m:\n\u001B[1;32m    885\u001B[0m     \u001B[38;5;28;01mfor\u001B[39;00m element \u001B[38;5;129;01min\u001B[39;00m obj:\n\u001B[0;32m--> 886\u001B[0m         \u001B[43msave\u001B[49m\u001B[43m(\u001B[49m\u001B[43melement\u001B[49m\u001B[43m)\u001B[49m\n\u001B[1;32m    887\u001B[0m     \u001B[38;5;66;03m# Subtle.  Same as in the big comment below.\u001B[39;00m\n\u001B[1;32m    888\u001B[0m     \u001B[38;5;28;01mif\u001B[39;00m \u001B[38;5;28mid\u001B[39m(obj) \u001B[38;5;129;01min\u001B[39;00m memo:\n",
      "File \u001B[0;32m~/miniconda3/envs/deepmol/lib/python3.8/site-packages/dill/_dill.py:388\u001B[0m, in \u001B[0;36mPickler.save\u001B[0;34m(self, obj, save_persistent_id)\u001B[0m\n\u001B[1;32m    386\u001B[0m     msg \u001B[38;5;241m=\u001B[39m \u001B[38;5;124m\"\u001B[39m\u001B[38;5;124mCan\u001B[39m\u001B[38;5;124m'\u001B[39m\u001B[38;5;124mt pickle \u001B[39m\u001B[38;5;132;01m%s\u001B[39;00m\u001B[38;5;124m: attribute lookup builtins.generator failed\u001B[39m\u001B[38;5;124m\"\u001B[39m \u001B[38;5;241m%\u001B[39m GeneratorType\n\u001B[1;32m    387\u001B[0m     \u001B[38;5;28;01mraise\u001B[39;00m PicklingError(msg)\n\u001B[0;32m--> 388\u001B[0m \u001B[43mStockPickler\u001B[49m\u001B[38;5;241;43m.\u001B[39;49m\u001B[43msave\u001B[49m\u001B[43m(\u001B[49m\u001B[38;5;28;43mself\u001B[39;49m\u001B[43m,\u001B[49m\u001B[43m \u001B[49m\u001B[43mobj\u001B[49m\u001B[43m,\u001B[49m\u001B[43m \u001B[49m\u001B[43msave_persistent_id\u001B[49m\u001B[43m)\u001B[49m\n",
      "File \u001B[0;32m~/miniconda3/envs/deepmol/lib/python3.8/pickle.py:603\u001B[0m, in \u001B[0;36m_Pickler.save\u001B[0;34m(self, obj, save_persistent_id)\u001B[0m\n\u001B[1;32m    599\u001B[0m     \u001B[38;5;28;01mraise\u001B[39;00m PicklingError(\u001B[38;5;124m\"\u001B[39m\u001B[38;5;124mTuple returned by \u001B[39m\u001B[38;5;132;01m%s\u001B[39;00m\u001B[38;5;124m must have \u001B[39m\u001B[38;5;124m\"\u001B[39m\n\u001B[1;32m    600\u001B[0m                         \u001B[38;5;124m\"\u001B[39m\u001B[38;5;124mtwo to six elements\u001B[39m\u001B[38;5;124m\"\u001B[39m \u001B[38;5;241m%\u001B[39m reduce)\n\u001B[1;32m    602\u001B[0m \u001B[38;5;66;03m# Save the reduce() output and finally memoize the object\u001B[39;00m\n\u001B[0;32m--> 603\u001B[0m \u001B[38;5;28;43mself\u001B[39;49m\u001B[38;5;241;43m.\u001B[39;49m\u001B[43msave_reduce\u001B[49m\u001B[43m(\u001B[49m\u001B[43mobj\u001B[49m\u001B[38;5;241;43m=\u001B[39;49m\u001B[43mobj\u001B[49m\u001B[43m,\u001B[49m\u001B[43m \u001B[49m\u001B[38;5;241;43m*\u001B[39;49m\u001B[43mrv\u001B[49m\u001B[43m)\u001B[49m\n",
      "File \u001B[0;32m~/miniconda3/envs/deepmol/lib/python3.8/pickle.py:717\u001B[0m, in \u001B[0;36m_Pickler.save_reduce\u001B[0;34m(self, func, args, state, listitems, dictitems, state_setter, obj)\u001B[0m\n\u001B[1;32m    715\u001B[0m \u001B[38;5;28;01mif\u001B[39;00m state \u001B[38;5;129;01mis\u001B[39;00m \u001B[38;5;129;01mnot\u001B[39;00m \u001B[38;5;28;01mNone\u001B[39;00m:\n\u001B[1;32m    716\u001B[0m     \u001B[38;5;28;01mif\u001B[39;00m state_setter \u001B[38;5;129;01mis\u001B[39;00m \u001B[38;5;28;01mNone\u001B[39;00m:\n\u001B[0;32m--> 717\u001B[0m         \u001B[43msave\u001B[49m\u001B[43m(\u001B[49m\u001B[43mstate\u001B[49m\u001B[43m)\u001B[49m\n\u001B[1;32m    718\u001B[0m         write(BUILD)\n\u001B[1;32m    719\u001B[0m     \u001B[38;5;28;01melse\u001B[39;00m:\n\u001B[1;32m    720\u001B[0m         \u001B[38;5;66;03m# If a state_setter is specified, call it instead of load_build\u001B[39;00m\n\u001B[1;32m    721\u001B[0m         \u001B[38;5;66;03m# to update obj's with its previous state.\u001B[39;00m\n\u001B[1;32m    722\u001B[0m         \u001B[38;5;66;03m# First, push state_setter and its tuple of expected arguments\u001B[39;00m\n\u001B[1;32m    723\u001B[0m         \u001B[38;5;66;03m# (obj, state) onto the stack.\u001B[39;00m\n",
      "File \u001B[0;32m~/miniconda3/envs/deepmol/lib/python3.8/site-packages/dill/_dill.py:388\u001B[0m, in \u001B[0;36mPickler.save\u001B[0;34m(self, obj, save_persistent_id)\u001B[0m\n\u001B[1;32m    386\u001B[0m     msg \u001B[38;5;241m=\u001B[39m \u001B[38;5;124m\"\u001B[39m\u001B[38;5;124mCan\u001B[39m\u001B[38;5;124m'\u001B[39m\u001B[38;5;124mt pickle \u001B[39m\u001B[38;5;132;01m%s\u001B[39;00m\u001B[38;5;124m: attribute lookup builtins.generator failed\u001B[39m\u001B[38;5;124m\"\u001B[39m \u001B[38;5;241m%\u001B[39m GeneratorType\n\u001B[1;32m    387\u001B[0m     \u001B[38;5;28;01mraise\u001B[39;00m PicklingError(msg)\n\u001B[0;32m--> 388\u001B[0m \u001B[43mStockPickler\u001B[49m\u001B[38;5;241;43m.\u001B[39;49m\u001B[43msave\u001B[49m\u001B[43m(\u001B[49m\u001B[38;5;28;43mself\u001B[39;49m\u001B[43m,\u001B[49m\u001B[43m \u001B[49m\u001B[43mobj\u001B[49m\u001B[43m,\u001B[49m\u001B[43m \u001B[49m\u001B[43msave_persistent_id\u001B[49m\u001B[43m)\u001B[49m\n",
      "File \u001B[0;32m~/miniconda3/envs/deepmol/lib/python3.8/pickle.py:560\u001B[0m, in \u001B[0;36m_Pickler.save\u001B[0;34m(self, obj, save_persistent_id)\u001B[0m\n\u001B[1;32m    558\u001B[0m f \u001B[38;5;241m=\u001B[39m \u001B[38;5;28mself\u001B[39m\u001B[38;5;241m.\u001B[39mdispatch\u001B[38;5;241m.\u001B[39mget(t)\n\u001B[1;32m    559\u001B[0m \u001B[38;5;28;01mif\u001B[39;00m f \u001B[38;5;129;01mis\u001B[39;00m \u001B[38;5;129;01mnot\u001B[39;00m \u001B[38;5;28;01mNone\u001B[39;00m:\n\u001B[0;32m--> 560\u001B[0m     \u001B[43mf\u001B[49m\u001B[43m(\u001B[49m\u001B[38;5;28;43mself\u001B[39;49m\u001B[43m,\u001B[49m\u001B[43m \u001B[49m\u001B[43mobj\u001B[49m\u001B[43m)\u001B[49m  \u001B[38;5;66;03m# Call unbound method with explicit self\u001B[39;00m\n\u001B[1;32m    561\u001B[0m     \u001B[38;5;28;01mreturn\u001B[39;00m\n\u001B[1;32m    563\u001B[0m \u001B[38;5;66;03m# Check private dispatch table if any, or else\u001B[39;00m\n\u001B[1;32m    564\u001B[0m \u001B[38;5;66;03m# copyreg.dispatch_table\u001B[39;00m\n",
      "File \u001B[0;32m~/miniconda3/envs/deepmol/lib/python3.8/site-packages/dill/_dill.py:1186\u001B[0m, in \u001B[0;36msave_module_dict\u001B[0;34m(pickler, obj)\u001B[0m\n\u001B[1;32m   1183\u001B[0m     \u001B[38;5;28;01mif\u001B[39;00m is_dill(pickler, child\u001B[38;5;241m=\u001B[39m\u001B[38;5;28;01mFalse\u001B[39;00m) \u001B[38;5;129;01mand\u001B[39;00m pickler\u001B[38;5;241m.\u001B[39m_session:\n\u001B[1;32m   1184\u001B[0m         \u001B[38;5;66;03m# we only care about session the first pass thru\u001B[39;00m\n\u001B[1;32m   1185\u001B[0m         pickler\u001B[38;5;241m.\u001B[39m_first_pass \u001B[38;5;241m=\u001B[39m \u001B[38;5;28;01mFalse\u001B[39;00m\n\u001B[0;32m-> 1186\u001B[0m     \u001B[43mStockPickler\u001B[49m\u001B[38;5;241;43m.\u001B[39;49m\u001B[43msave_dict\u001B[49m\u001B[43m(\u001B[49m\u001B[43mpickler\u001B[49m\u001B[43m,\u001B[49m\u001B[43m \u001B[49m\u001B[43mobj\u001B[49m\u001B[43m)\u001B[49m\n\u001B[1;32m   1187\u001B[0m     logger\u001B[38;5;241m.\u001B[39mtrace(pickler, \u001B[38;5;124m\"\u001B[39m\u001B[38;5;124m# D2\u001B[39m\u001B[38;5;124m\"\u001B[39m)\n\u001B[1;32m   1188\u001B[0m \u001B[38;5;28;01mreturn\u001B[39;00m\n",
      "File \u001B[0;32m~/miniconda3/envs/deepmol/lib/python3.8/pickle.py:971\u001B[0m, in \u001B[0;36m_Pickler.save_dict\u001B[0;34m(self, obj)\u001B[0m\n\u001B[1;32m    968\u001B[0m     \u001B[38;5;28mself\u001B[39m\u001B[38;5;241m.\u001B[39mwrite(MARK \u001B[38;5;241m+\u001B[39m DICT)\n\u001B[1;32m    970\u001B[0m \u001B[38;5;28mself\u001B[39m\u001B[38;5;241m.\u001B[39mmemoize(obj)\n\u001B[0;32m--> 971\u001B[0m \u001B[38;5;28;43mself\u001B[39;49m\u001B[38;5;241;43m.\u001B[39;49m\u001B[43m_batch_setitems\u001B[49m\u001B[43m(\u001B[49m\u001B[43mobj\u001B[49m\u001B[38;5;241;43m.\u001B[39;49m\u001B[43mitems\u001B[49m\u001B[43m(\u001B[49m\u001B[43m)\u001B[49m\u001B[43m)\u001B[49m\n",
      "File \u001B[0;32m~/miniconda3/envs/deepmol/lib/python3.8/pickle.py:997\u001B[0m, in \u001B[0;36m_Pickler._batch_setitems\u001B[0;34m(self, items)\u001B[0m\n\u001B[1;32m    995\u001B[0m     \u001B[38;5;28;01mfor\u001B[39;00m k, v \u001B[38;5;129;01min\u001B[39;00m tmp:\n\u001B[1;32m    996\u001B[0m         save(k)\n\u001B[0;32m--> 997\u001B[0m         \u001B[43msave\u001B[49m\u001B[43m(\u001B[49m\u001B[43mv\u001B[49m\u001B[43m)\u001B[49m\n\u001B[1;32m    998\u001B[0m     write(SETITEMS)\n\u001B[1;32m    999\u001B[0m \u001B[38;5;28;01melif\u001B[39;00m n:\n",
      "File \u001B[0;32m~/miniconda3/envs/deepmol/lib/python3.8/site-packages/dill/_dill.py:388\u001B[0m, in \u001B[0;36mPickler.save\u001B[0;34m(self, obj, save_persistent_id)\u001B[0m\n\u001B[1;32m    386\u001B[0m     msg \u001B[38;5;241m=\u001B[39m \u001B[38;5;124m\"\u001B[39m\u001B[38;5;124mCan\u001B[39m\u001B[38;5;124m'\u001B[39m\u001B[38;5;124mt pickle \u001B[39m\u001B[38;5;132;01m%s\u001B[39;00m\u001B[38;5;124m: attribute lookup builtins.generator failed\u001B[39m\u001B[38;5;124m\"\u001B[39m \u001B[38;5;241m%\u001B[39m GeneratorType\n\u001B[1;32m    387\u001B[0m     \u001B[38;5;28;01mraise\u001B[39;00m PicklingError(msg)\n\u001B[0;32m--> 388\u001B[0m \u001B[43mStockPickler\u001B[49m\u001B[38;5;241;43m.\u001B[39;49m\u001B[43msave\u001B[49m\u001B[43m(\u001B[49m\u001B[38;5;28;43mself\u001B[39;49m\u001B[43m,\u001B[49m\u001B[43m \u001B[49m\u001B[43mobj\u001B[49m\u001B[43m,\u001B[49m\u001B[43m \u001B[49m\u001B[43msave_persistent_id\u001B[49m\u001B[43m)\u001B[49m\n",
      "File \u001B[0;32m~/miniconda3/envs/deepmol/lib/python3.8/pickle.py:578\u001B[0m, in \u001B[0;36m_Pickler.save\u001B[0;34m(self, obj, save_persistent_id)\u001B[0m\n\u001B[1;32m    576\u001B[0m reduce \u001B[38;5;241m=\u001B[39m \u001B[38;5;28mgetattr\u001B[39m(obj, \u001B[38;5;124m\"\u001B[39m\u001B[38;5;124m__reduce_ex__\u001B[39m\u001B[38;5;124m\"\u001B[39m, \u001B[38;5;28;01mNone\u001B[39;00m)\n\u001B[1;32m    577\u001B[0m \u001B[38;5;28;01mif\u001B[39;00m reduce \u001B[38;5;129;01mis\u001B[39;00m \u001B[38;5;129;01mnot\u001B[39;00m \u001B[38;5;28;01mNone\u001B[39;00m:\n\u001B[0;32m--> 578\u001B[0m     rv \u001B[38;5;241m=\u001B[39m \u001B[43mreduce\u001B[49m\u001B[43m(\u001B[49m\u001B[38;5;28;43mself\u001B[39;49m\u001B[38;5;241;43m.\u001B[39;49m\u001B[43mproto\u001B[49m\u001B[43m)\u001B[49m\n\u001B[1;32m    579\u001B[0m \u001B[38;5;28;01melse\u001B[39;00m:\n\u001B[1;32m    580\u001B[0m     reduce \u001B[38;5;241m=\u001B[39m \u001B[38;5;28mgetattr\u001B[39m(obj, \u001B[38;5;124m\"\u001B[39m\u001B[38;5;124m__reduce__\u001B[39m\u001B[38;5;124m\"\u001B[39m, \u001B[38;5;28;01mNone\u001B[39;00m)\n",
      "\u001B[0;31mTypeError\u001B[0m: cannot pickle '_thread._local' object"
     ]
    }
   ],
   "source": [
    "best_dnn.save(\"my_model\")"
   ],
   "metadata": {
    "collapsed": false,
    "ExecuteTime": {
     "end_time": "2023-06-01T18:40:20.665261865Z",
     "start_time": "2023-06-01T18:40:19.058535532Z"
    }
   }
  },
  {
   "cell_type": "markdown",
   "source": [
    "# Hyperparameter tuning with deepchem models with cross validation"
   ],
   "metadata": {
    "collapsed": false
   }
  },
  {
   "cell_type": "code",
   "execution_count": 3,
   "outputs": [
    {
     "name": "stdout",
     "output_type": "stream",
     "text": [
      "2023-03-17 18:46:09,927 — INFO — MODEL TYPE: deepchem\n",
      "2023-03-17 18:46:09,927 — INFO — Computing Stratified K-fold split\n"
     ]
    },
    {
     "name": "stderr",
     "output_type": "stream",
     "text": [
      "2023-03-17 18:46:12.276353: W tensorflow/stream_executor/platform/default/dso_loader.cc:64] Could not load dynamic library 'libcuda.so.1'; dlerror: libcuda.so.1: cannot open shared object file: No such file or directory\n",
      "2023-03-17 18:46:12.276372: W tensorflow/stream_executor/cuda/cuda_driver.cc:263] failed call to cuInit: UNKNOWN ERROR (303)\n",
      "2023-03-17 18:46:12.276385: I tensorflow/stream_executor/cuda/cuda_diagnostics.cc:156] kernel driver does not appear to be running on this host (bisbii): /proc/driver/nvidia/version does not exist\n",
      "2023-03-17 18:46:12.276531: I tensorflow/core/platform/cpu_feature_guard.cc:193] This TensorFlow binary is optimized with oneAPI Deep Neural Network Library (oneDNN) to use the following CPU instructions in performance-critical operations:  AVX2 FMA\n",
      "To enable them in other operations, rebuild TensorFlow with the appropriate compiler flags.\n"
     ]
    },
    {
     "name": "stdout",
     "output_type": "stream",
     "text": [
      "2023-03-17 18:47:14,884 — INFO — \n",
      " \n",
      " Best <deepmol.metrics.metrics.Metric object at 0x7fbf2be4cd00>: 0.977278 using {'graph_conv_layers': [64, 64]}\n",
      "2023-03-17 18:47:14,885 — INFO — \n",
      " <deepmol.metrics.metrics.Metric object at 0x7fbf2be4cd00>: 0.977278 (0.002598) with: {'graph_conv_layers': [64, 64]} \n",
      "\n",
      "2023-03-17 18:47:14,885 — INFO — \n",
      " <deepmol.metrics.metrics.Metric object at 0x7fbf2be4cd00>: 0.965922 (0.002891) with: {'graph_conv_layers': [32, 32]} \n",
      "\n"
     ]
    }
   ],
   "source": [
    "from deepmol.parameter_optimization import HyperparameterOptimizerCV\n",
    "from deepmol.compound_featurization import ConvMolFeat\n",
    "from sklearn.metrics import roc_auc_score, precision_score\n",
    "from deepmol.models import DeepChemModel\n",
    "from deepchem.models import GraphConvModel\n",
    "\n",
    "ConvMolFeat().featurize(train_dataset)\n",
    "ConvMolFeat().featurize(valid_dataset)\n",
    "ConvMolFeat().featurize(test_dataset)\n",
    "\n",
    "def graphconv_builder(graph_conv_layers, batch_size=256, epochs=5):\n",
    "    graph = GraphConvModel(n_tasks=1, graph_conv_layers=graph_conv_layers, batch_size=batch_size,\n",
    "                           mode='classification')\n",
    "    return DeepChemModel(graph, epochs=epochs)\n",
    "\n",
    "model_graph = HyperparameterOptimizerCV(model_builder=graphconv_builder)\n",
    "\n",
    "best_model, _, _ = model_graph.hyperparameter_search(train_dataset=train_dataset,\n",
    "                                                     metric=Metric(roc_auc_score),\n",
    "                                                     n_iter_search=2,\n",
    "                                                     maximize_metric=True,\n",
    "                                                     cv = 2,\n",
    "                                                     params_dict={'graph_conv_layers': [[64, 64], [32, 32]]},\n",
    "                                                     model_type=\"deepchem\")\n"
   ],
   "metadata": {
    "collapsed": false
   }
  },
  {
   "cell_type": "code",
   "execution_count": 12,
   "outputs": [
    {
     "data": {
      "text/plain": "({'roc_auc_score': 0.9898796965934775,\n  'precision_score': 0.9402480270574972,\n  'accuracy_score': 0.9591100420926038},\n {})"
     },
     "execution_count": 12,
     "metadata": {},
     "output_type": "execute_result"
    }
   ],
   "source": [
    "test_preds = best_model.predict(test_dataset)\n",
    "\n",
    "metrics = [Metric(roc_auc_score), Metric(precision_score), Metric(accuracy_score)]\n",
    "\n",
    "best_model.evaluate(test_dataset, metrics)\n"
   ],
   "metadata": {
    "collapsed": false
   }
  }
 ],
 "metadata": {
  "kernelspec": {
   "display_name": "Python 3",
   "language": "python",
   "name": "python3"
  },
  "language_info": {
   "codemirror_mode": {
    "name": "ipython",
    "version": 2
   },
   "file_extension": ".py",
   "mimetype": "text/x-python",
   "name": "python",
   "nbconvert_exporter": "python",
   "pygments_lexer": "ipython2",
   "version": "2.7.6"
  }
 },
 "nbformat": 4,
 "nbformat_minor": 0
}
