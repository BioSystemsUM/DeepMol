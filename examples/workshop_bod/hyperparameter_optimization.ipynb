{
 "cells": [
  {
   "cell_type": "markdown",
   "source": [
    "# Hyperparameter optimization"
   ],
   "metadata": {
    "collapsed": false
   }
  },
  {
   "cell_type": "markdown",
   "source": [
    "## Import packages"
   ],
   "metadata": {
    "collapsed": false
   }
  },
  {
   "cell_type": "code",
   "execution_count": 1,
   "outputs": [
    {
     "name": "stderr",
     "output_type": "stream",
     "text": [
      "2023-06-01 15:14:02.681344: I tensorflow/core/platform/cpu_feature_guard.cc:193] This TensorFlow binary is optimized with oneAPI Deep Neural Network Library (oneDNN) to use the following CPU instructions in performance-critical operations:  AVX2 FMA\n",
      "To enable them in other operations, rebuild TensorFlow with the appropriate compiler flags.\n",
      "2023-06-01 15:14:02.761271: W tensorflow/compiler/xla/stream_executor/platform/default/dso_loader.cc:64] Could not load dynamic library 'libcudart.so.11.0'; dlerror: libcudart.so.11.0: cannot open shared object file: No such file or directory\n",
      "2023-06-01 15:14:02.761284: I tensorflow/compiler/xla/stream_executor/cuda/cudart_stub.cc:29] Ignore above cudart dlerror if you do not have a GPU set up on your machine.\n",
      "2023-06-01 15:14:03.209445: W tensorflow/compiler/xla/stream_executor/platform/default/dso_loader.cc:64] Could not load dynamic library 'libnvinfer.so.7'; dlerror: libnvinfer.so.7: cannot open shared object file: No such file or directory\n",
      "2023-06-01 15:14:03.209494: W tensorflow/compiler/xla/stream_executor/platform/default/dso_loader.cc:64] Could not load dynamic library 'libnvinfer_plugin.so.7'; dlerror: libnvinfer_plugin.so.7: cannot open shared object file: No such file or directory\n",
      "2023-06-01 15:14:03.209500: W tensorflow/compiler/tf2tensorrt/utils/py_utils.cc:38] TF-TRT Warning: Cannot dlopen some TensorRT libraries. If you would like to use Nvidia GPU with TensorRT, please make sure the missing libraries mentioned above are installed properly.\n"
     ]
    }
   ],
   "source": [
    "from rdkit import RDLogger\n",
    "import logging\n",
    "import warnings\n",
    "\n",
    "warnings.filterwarnings(\"ignore\")\n",
    "logger = logging.getLogger()\n",
    "logger.setLevel(logging.CRITICAL)\n",
    "RDLogger.DisableLog('rdApp.*')\n",
    "\n",
    "from sklearn.metrics import accuracy_score\n",
    "from deepmol.metrics import Metric\n",
    "from sklearn.svm import SVC\n",
    "from deepmol.parameter_optimization import HyperparameterOptimizerValidation\n",
    "\n",
    "from deepmol.splitters import RandomSplitter\n",
    "from deepmol.compound_featurization import MorganFingerprint\n",
    "from deepmol.loaders import SDFLoader\n",
    "\n",
    "from tensorflow.python.keras.layers import Dropout\n",
    "from tensorflow.python import keras\n",
    "from tensorflow.python.keras import layers"
   ],
   "metadata": {
    "collapsed": false,
    "ExecuteTime": {
     "end_time": "2023-06-01T14:14:04.673941383Z",
     "start_time": "2023-06-01T14:14:02.415617879Z"
    }
   }
  },
  {
   "cell_type": "markdown",
   "source": [
    "## First of all, let's load the data"
   ],
   "metadata": {
    "collapsed": false
   }
  },
  {
   "cell_type": "code",
   "execution_count": 2,
   "outputs": [
    {
     "name": "stdout",
     "output_type": "stream",
     "text": [
      "2023-06-01 15:14:09,372 — INFO — Assuming classification since there are less than 10 unique y values. If otherwise, explicitly set the mode to 'regression'!\n"
     ]
    }
   ],
   "source": [
    "dataset = SDFLoader(\"../data/CHEMBL217_conformers.sdf\", id_field=\"_ID\", labels_fields=[\"_Class\"]).create_dataset()\n",
    "train_dataset, valid_dataset, test_dataset = RandomSplitter().train_valid_test_split(dataset, frac_train=0.8, frac_valid=0.1, frac_test=0.1)"
   ],
   "metadata": {
    "collapsed": false,
    "ExecuteTime": {
     "end_time": "2023-06-01T14:14:09.396717754Z",
     "start_time": "2023-06-01T14:14:08.206053941Z"
    }
   }
  },
  {
   "cell_type": "markdown",
   "source": [
    "## Let's featurize the data"
   ],
   "metadata": {
    "collapsed": false
   }
  },
  {
   "cell_type": "code",
   "execution_count": 3,
   "outputs": [],
   "source": [
    "morgan_fingerprints = MorganFingerprint()\n",
    "morgan_fingerprints.featurize(train_dataset, inplace=True)\n",
    "morgan_fingerprints.featurize(valid_dataset, inplace=True)\n",
    "morgan_fingerprints.featurize(test_dataset, inplace=True)"
   ],
   "metadata": {
    "collapsed": false,
    "ExecuteTime": {
     "end_time": "2023-06-01T14:14:13.029804645Z",
     "start_time": "2023-06-01T14:14:09.490251510Z"
    }
   }
  },
  {
   "cell_type": "markdown",
   "source": [
    "## Hyperparameter tuning with scikit-learn"
   ],
   "metadata": {
    "collapsed": false
   }
  },
  {
   "cell_type": "markdown",
   "source": [
    "DeepMol provide methods to perform hyperparameter tuning with scikit-learn models. The hyperparameter tuning can be performed with a validation set, previously created, or with cross validation. Anyway, the hyperparameter tuning is performed with a random search if the number of iterations is specified, otherwise a grid search is performed.\n",
    "\n",
    "Moreover, for each method the user have to specify the metric to optimize and if the metric has to be maximized or minimized. The user must specify the parameters to optimize and the values to try for each parameter.\n",
    "\n",
    "The parameters must be specified as a dictionary, where the keys are the parameters names and the values are the values to try.\n",
    "\n",
    "Let's see how to perform hyperparameter tuning of a SVM with a validation set."
   ],
   "metadata": {
    "collapsed": false
   }
  },
  {
   "cell_type": "markdown",
   "source": [],
   "metadata": {
    "collapsed": false
   }
  },
  {
   "cell_type": "code",
   "execution_count": null,
   "outputs": [],
   "source": [
    "params_dict_svc = {\"C\": [1.0, 1.2, 0.8], \"kernel\": ['linear', 'poly', 'rbf']} # The keys are the parameters names and the values are the values to try\n",
    "optimizer = HyperparameterOptimizerValidation(SVC)\n",
    "best_svm, best_hyperparams, all_results = optimizer.hyperparameter_search(train_dataset=train_dataset,\n",
    "                                                                          valid_dataset=valid_dataset,\n",
    "                                                                          metric=Metric(accuracy_score),\n",
    "                                                                          maximize_metric=True,\n",
    "                                                                          n_iter_search=2,\n",
    "                                                                          params_dict=params_dict_svc,\n",
    "                                                                          )"
   ],
   "metadata": {
    "collapsed": false
   }
  },
  {
   "cell_type": "markdown",
   "source": [
    "In the end, we can check the performance of the best model on the test set."
   ],
   "metadata": {
    "collapsed": false
   }
  },
  {
   "cell_type": "code",
   "execution_count": 5,
   "outputs": [
    {
     "data": {
      "text/plain": "({'accuracy_score': 0.9879735417919423}, {})"
     },
     "execution_count": 5,
     "metadata": {},
     "output_type": "execute_result"
    }
   ],
   "source": [
    "best_svm.evaluate(test_dataset, metrics = [Metric(accuracy_score)])"
   ],
   "metadata": {
    "collapsed": false,
    "ExecuteTime": {
     "end_time": "2023-06-01T14:15:52.193051546Z",
     "start_time": "2023-06-01T14:15:47.839696599Z"
    }
   }
  },
  {
   "cell_type": "markdown",
   "source": [
    "We can also check the best combination of hyperparameters found."
   ],
   "metadata": {
    "collapsed": false
   }
  },
  {
   "cell_type": "code",
   "execution_count": 6,
   "outputs": [
    {
     "data": {
      "text/plain": "{'C': 1.0, 'kernel': 'poly'}"
     },
     "execution_count": 6,
     "metadata": {},
     "output_type": "execute_result"
    }
   ],
   "source": [
    "best_hyperparams"
   ],
   "metadata": {
    "collapsed": false,
    "ExecuteTime": {
     "end_time": "2023-06-01T14:15:52.196676084Z",
     "start_time": "2023-06-01T14:15:52.193598185Z"
    }
   }
  },
  {
   "cell_type": "markdown",
   "source": [
    "We can also check the performance of all the models trained during the hyperparameter tuning. Each model is defined by the name of the parameters followed by the value of the parameter."
   ],
   "metadata": {
    "collapsed": false
   }
  },
  {
   "cell_type": "code",
   "execution_count": 7,
   "outputs": [
    {
     "data": {
      "text/plain": "{'_C_1.000000_kernel_poly': 0.9885679903730445,\n '_C_0.800000_kernel_linear': 0.9765342960288809}"
     },
     "execution_count": 7,
     "metadata": {},
     "output_type": "execute_result"
    }
   ],
   "source": [
    "all_results"
   ],
   "metadata": {
    "collapsed": false,
    "ExecuteTime": {
     "end_time": "2023-06-01T14:15:52.202132702Z",
     "start_time": "2023-06-01T14:15:52.196811941Z"
    }
   }
  },
  {
   "cell_type": "markdown",
   "source": [
    "Finally, save your best model for deployment and new predictions!"
   ],
   "metadata": {
    "collapsed": false
   }
  },
  {
   "cell_type": "code",
   "execution_count": 8,
   "outputs": [],
   "source": [
    "best_svm.save(\"my_model\")"
   ],
   "metadata": {
    "collapsed": false,
    "ExecuteTime": {
     "end_time": "2023-06-01T14:15:52.482641405Z",
     "start_time": "2023-06-01T14:15:52.202450522Z"
    }
   }
  },
  {
   "cell_type": "markdown",
   "source": [
    "Bring it back to life and make predictions!"
   ],
   "metadata": {
    "collapsed": false
   }
  },
  {
   "cell_type": "code",
   "execution_count": 9,
   "outputs": [
    {
     "data": {
      "text/plain": "array([0., 0., 1., ..., 1., 0., 0.])"
     },
     "execution_count": 9,
     "metadata": {},
     "output_type": "execute_result"
    }
   ],
   "source": [
    "from deepmol.models import SklearnModel\n",
    "\n",
    "SklearnModel.load(\"my_model\").predict(test_dataset)"
   ],
   "metadata": {
    "collapsed": false,
    "ExecuteTime": {
     "end_time": "2023-06-01T14:15:56.968266097Z",
     "start_time": "2023-06-01T14:15:52.484425771Z"
    }
   }
  },
  {
   "cell_type": "markdown",
   "source": [
    "## Now let's try with cross validation"
   ],
   "metadata": {
    "collapsed": false
   }
  },
  {
   "cell_type": "code",
   "execution_count": 16,
   "outputs": [
    {
     "name": "stdout",
     "output_type": "stream",
     "text": [
      "2023-06-01 16:19:58,650 — INFO — MODEL TYPE: sklearn\n",
      "2023-06-01 16:19:58,651 — INFO — Fitting 2 random models from a space of 9 possible models.\n",
      "2023-06-01 16:21:17,213 — INFO — \n",
      " \n",
      " Best <function accuracy_score at 0x7f820037f0d0>: 0.973680 using {'kernel': 'linear', 'C': 1.0}\n",
      "2023-06-01 16:21:17,214 — INFO — \n",
      " <function accuracy_score at 0x7f820037f0d0>: 0.973304 (0.000281) with: {'kernel': 'linear', 'C': 1.2} \n",
      "\n",
      "2023-06-01 16:21:17,214 — INFO — \n",
      " <function accuracy_score at 0x7f820037f0d0>: 0.973680 (0.000282) with: {'kernel': 'linear', 'C': 1.0} \n",
      "\n",
      "2023-06-01 16:21:17,215 — INFO — Fitting best model!\n",
      "2023-06-01 16:21:32,759 — INFO — SklearnModel(mode='classification', model=SVC(kernel='linear'),\n",
      "             model_dir='/tmp/tmpom34y1bo')\n"
     ]
    }
   ],
   "source": [
    "from deepmol.parameter_optimization import HyperparameterOptimizerCV\n",
    "\n",
    "params_dict_svc = {\"C\": [1.0, 1.2, 0.8], \"kernel\": ['linear', 'poly', 'rbf']}\n",
    "optimizer = HyperparameterOptimizerCV(SVC)\n",
    "best_svm, best_hyperparams, all_results = optimizer.hyperparameter_search(train_dataset=train_dataset,\n",
    "                                                                          metric=Metric(accuracy_score),\n",
    "                                                                          maximize_metric=True,\n",
    "                                                                          cv=3,\n",
    "                                                                          n_iter_search=2,\n",
    "                                                                          params_dict=params_dict_svc,\n",
    "                                                                          model_type=\"sklearn\"\n",
    "                                                                          )"
   ],
   "metadata": {
    "collapsed": false,
    "ExecuteTime": {
     "end_time": "2023-06-01T15:21:32.807870961Z",
     "start_time": "2023-06-01T15:19:58.651629829Z"
    }
   }
  },
  {
   "cell_type": "markdown",
   "source": [
    "Then, we can check the performance of the best model on the test set."
   ],
   "metadata": {
    "collapsed": false
   }
  },
  {
   "cell_type": "code",
   "execution_count": 11,
   "outputs": [
    {
     "data": {
      "text/plain": "({'accuracy_score': 0.9879735417919423}, {})"
     },
     "execution_count": 11,
     "metadata": {},
     "output_type": "execute_result"
    }
   ],
   "source": [
    "best_svm.evaluate(test_dataset, metrics = [Metric(accuracy_score)])"
   ],
   "metadata": {
    "collapsed": false,
    "ExecuteTime": {
     "end_time": "2023-06-01T14:59:29.636071937Z",
     "start_time": "2023-06-01T14:59:25.211633215Z"
    }
   }
  },
  {
   "cell_type": "markdown",
   "source": [
    "We can also check the best combination of hyperparameters found."
   ],
   "metadata": {
    "collapsed": false
   }
  },
  {
   "cell_type": "code",
   "execution_count": 12,
   "outputs": [
    {
     "data": {
      "text/plain": "{'probability': True, 'kernel': 'poly', 'C': 1.2}"
     },
     "execution_count": 12,
     "metadata": {},
     "output_type": "execute_result"
    }
   ],
   "source": [
    "best_hyperparams"
   ],
   "metadata": {
    "collapsed": false,
    "ExecuteTime": {
     "end_time": "2023-06-01T15:01:19.947966265Z",
     "start_time": "2023-06-01T15:01:19.905744908Z"
    }
   }
  },
  {
   "cell_type": "markdown",
   "source": [
    "We can also check the performance of all the models trained during the hyperparameter tuning. Each model is defined by the name of the parameters followed by the value of the parameter."
   ],
   "metadata": {
    "collapsed": false
   }
  },
  {
   "cell_type": "code",
   "execution_count": 13,
   "outputs": [
    {
     "data": {
      "text/plain": "{'mean_fit_time': array([103.76487271, 104.18803382]),\n 'std_fit_time': array([1.19065455, 0.81880114]),\n 'mean_score_time': array([8.71299458, 8.91998561]),\n 'std_score_time': array([0.4336231 , 0.08003275]),\n 'param_probability': masked_array(data=[True, True],\n              mask=[False, False],\n        fill_value='?',\n             dtype=object),\n 'param_kernel': masked_array(data=['poly', 'poly'],\n              mask=[False, False],\n        fill_value='?',\n             dtype=object),\n 'param_C': masked_array(data=[1.2, 1.0],\n              mask=[False, False],\n        fill_value='?',\n             dtype=object),\n 'params': [{'probability': True, 'kernel': 'poly', 'C': 1.2},\n  {'probability': True, 'kernel': 'poly', 'C': 1.0}],\n 'split0_test_score': array([0.9835326 , 0.98217911]),\n 'split1_test_score': array([0.98578841, 0.98511166]),\n 'split2_test_score': array([0.98285199, 0.98217509]),\n 'mean_test_score': array([0.98405766, 0.98315529]),\n 'std_test_score': array([0.00125497, 0.00138337]),\n 'rank_test_score': array([1, 2], dtype=int32)}"
     },
     "execution_count": 13,
     "metadata": {},
     "output_type": "execute_result"
    }
   ],
   "source": [
    "all_results"
   ],
   "metadata": {
    "collapsed": false,
    "ExecuteTime": {
     "end_time": "2023-06-01T15:01:24.065333464Z",
     "start_time": "2023-06-01T15:01:24.058392290Z"
    }
   }
  },
  {
   "cell_type": "markdown",
   "source": [
    "Finally, save your best model for deployment and new predictions!"
   ],
   "metadata": {
    "collapsed": false
   }
  },
  {
   "cell_type": "code",
   "execution_count": 14,
   "outputs": [],
   "source": [
    "best_svm.save(\"my_model\")"
   ],
   "metadata": {
    "collapsed": false,
    "ExecuteTime": {
     "end_time": "2023-06-01T15:19:18.381152775Z",
     "start_time": "2023-06-01T15:19:18.209028237Z"
    }
   }
  },
  {
   "cell_type": "markdown",
   "source": [
    "Bring it back to life and make predictions!"
   ],
   "metadata": {
    "collapsed": false
   }
  },
  {
   "cell_type": "code",
   "execution_count": 15,
   "outputs": [
    {
     "data": {
      "text/plain": "array([[9.99798926e-01, 2.01074317e-04],\n       [9.99341488e-01, 6.58511735e-04],\n       [3.02237487e-03, 9.96977625e-01],\n       ...,\n       [1.68278370e-08, 9.99999983e-01],\n       [9.90501082e-01, 9.49891777e-03],\n       [9.99827191e-01, 1.72809148e-04]])"
     },
     "execution_count": 15,
     "metadata": {},
     "output_type": "execute_result"
    }
   ],
   "source": [
    "from deepmol.models import SklearnModel\n",
    "\n",
    "SklearnModel.load(\"my_model\").predict(test_dataset)"
   ],
   "metadata": {
    "collapsed": false,
    "ExecuteTime": {
     "end_time": "2023-06-01T15:19:39.147150345Z",
     "start_time": "2023-06-01T15:19:35.060143022Z"
    }
   }
  },
  {
   "cell_type": "markdown",
   "source": [
    "# Hyperparameter tuning with keras"
   ],
   "metadata": {
    "collapsed": false
   }
  },
  {
   "cell_type": "markdown",
   "source": [
    "DeepMol provide methods to perform hyperparameter tuning with keras models. The hyperparameter tuning can be performed with a validation set, previously created, or with cross validation. Anyway, the hyperparameter tuning is performed with a random search if the number of iterations is specified, otherwise a grid search is performed."
   ],
   "metadata": {
    "collapsed": false
   }
  },
  {
   "cell_type": "markdown",
   "source": [
    "As explained in the models section, to create a Keras model one have to define a function with the model architecture and the parameters to optimize."
   ],
   "metadata": {
    "collapsed": false
   }
  },
  {
   "cell_type": "code",
   "execution_count": 6,
   "outputs": [],
   "source": [
    "def create_model(input_dim, optimizer='adam', dropout=0.5):\n",
    "    # create model\n",
    "    inputs = layers.Input(shape=input_dim)\n",
    "\n",
    "    # Define the shared layers\n",
    "    shared_layer_1 = layers.Dense(64, activation=\"relu\")\n",
    "    dropout_1 = Dropout(dropout)\n",
    "    shared_layer_2 = layers.Dense(32, activation=\"relu\")\n",
    "\n",
    "    # Define the shared layers for the inputs\n",
    "    x = shared_layer_1(inputs)\n",
    "    x = dropout_1(x)\n",
    "    x = shared_layer_2(x)\n",
    "\n",
    "    task_output = layers.Dense(1, activation=\"sigmoid\")(x)\n",
    "\n",
    "    # Define the model that outputs the predictions for each task\n",
    "    model = keras.Model(inputs=inputs, outputs=task_output)\n",
    "    # Compile the model with different loss functions and metrics for each task\n",
    "    model.compile(\n",
    "        optimizer=optimizer, loss=\"binary_crossentropy\", metrics=[\"accuracy\"]\n",
    "    )\n",
    "    return model\n"
   ],
   "metadata": {
    "collapsed": false
   }
  },
  {
   "cell_type": "code",
   "execution_count": 9,
   "outputs": [
    {
     "name": "stdout",
     "output_type": "stream",
     "text": [
      "2023-03-17 18:13:19,910 — INFO — Fitting 2 random models from a space of 6 possible models.\n",
      "2023-03-17 18:13:19,911 — INFO — Fitting model 1/2\n",
      "2023-03-17 18:13:19,911 — INFO — hyperparameters: {'input_dim': 2048, 'dropout': 0.5, 'optimizer': 'adam'}\n",
      "416/416 [==============================] - 1s 798us/step - loss: 0.1554 - accuracy: 0.9442\n",
      "2023-03-17 18:13:20,598 — ERROR — cannot pickle 'weakref' object\n",
      "2023-03-17 18:13:20,674 — INFO — Model 1/2, Metric accuracy_score, Validation set 1: 0.980144\n",
      "2023-03-17 18:13:20,674 — INFO — \tbest_validation_score so far: 0.980144\n",
      "2023-03-17 18:13:20,674 — INFO — Fitting model 2/2\n",
      "2023-03-17 18:13:20,675 — INFO — hyperparameters: {'input_dim': 2048, 'dropout': 0.7, 'optimizer': 'rmsprop'}\n",
      "416/416 [==============================] - 1s 997us/step - loss: 0.2089 - accuracy: 0.9211\n",
      "2023-03-17 18:13:21,512 — ERROR — cannot pickle 'weakref' object\n",
      "2023-03-17 18:13:21,584 — INFO — Model 2/2, Metric accuracy_score, Validation set 2: 0.973526\n",
      "2023-03-17 18:13:21,585 — INFO — \tbest_validation_score so far: 0.980144\n",
      "2023-03-17 18:13:21,790 — INFO — Best hyperparameters: {'input_dim': 2048, 'dropout': 0.5, 'optimizer': 'adam'}\n",
      "2023-03-17 18:13:21,790 — INFO — train_score: 0.986615\n",
      "2023-03-17 18:13:21,790 — INFO — validation_score: 0.980144\n"
     ]
    }
   ],
   "source": [
    "optimizer = HyperparameterOptimizerValidation(create_model)\n",
    "params_dict_dense = {\n",
    "                   \"input_dim\": [train_dataset.X.shape[1]],\n",
    "                   \"dropout\": [0.5, 0.6, 0.7],\n",
    "                   \"optimizer\": [\"adam\", \"rmsprop\"]\n",
    "                   }\n",
    "\n",
    "best_dnn, best_hyperparams, all_results = optimizer.hyperparameter_search(train_dataset=train_dataset,\n",
    "                                                                          valid_dataset=valid_dataset,\n",
    "                                                                          metric=Metric(accuracy_score),\n",
    "                                                                          maximize_metric=True,\n",
    "                                                                          n_iter_search=2,\n",
    "                                                                          params_dict=params_dict_dense,\n",
    "                                                                          )"
   ],
   "metadata": {
    "collapsed": false
   }
  },
  {
   "cell_type": "code",
   "execution_count": 10,
   "outputs": [
    {
     "data": {
      "text/plain": "({'accuracy_score': 0.9753457606734817}, {})"
     },
     "execution_count": 10,
     "metadata": {},
     "output_type": "execute_result"
    }
   ],
   "source": [
    "best_dnn.evaluate(test_dataset, metrics = [Metric(accuracy_score)])"
   ],
   "metadata": {
    "collapsed": false
   }
  },
  {
   "cell_type": "markdown",
   "source": [
    "# Hyperparameter tuning with deepchem models with cross validation"
   ],
   "metadata": {
    "collapsed": false
   }
  },
  {
   "cell_type": "code",
   "execution_count": 3,
   "outputs": [
    {
     "name": "stdout",
     "output_type": "stream",
     "text": [
      "2023-03-17 18:46:09,927 — INFO — MODEL TYPE: deepchem\n",
      "2023-03-17 18:46:09,927 — INFO — Computing Stratified K-fold split\n"
     ]
    },
    {
     "name": "stderr",
     "output_type": "stream",
     "text": [
      "2023-03-17 18:46:12.276353: W tensorflow/stream_executor/platform/default/dso_loader.cc:64] Could not load dynamic library 'libcuda.so.1'; dlerror: libcuda.so.1: cannot open shared object file: No such file or directory\n",
      "2023-03-17 18:46:12.276372: W tensorflow/stream_executor/cuda/cuda_driver.cc:263] failed call to cuInit: UNKNOWN ERROR (303)\n",
      "2023-03-17 18:46:12.276385: I tensorflow/stream_executor/cuda/cuda_diagnostics.cc:156] kernel driver does not appear to be running on this host (bisbii): /proc/driver/nvidia/version does not exist\n",
      "2023-03-17 18:46:12.276531: I tensorflow/core/platform/cpu_feature_guard.cc:193] This TensorFlow binary is optimized with oneAPI Deep Neural Network Library (oneDNN) to use the following CPU instructions in performance-critical operations:  AVX2 FMA\n",
      "To enable them in other operations, rebuild TensorFlow with the appropriate compiler flags.\n"
     ]
    },
    {
     "name": "stdout",
     "output_type": "stream",
     "text": [
      "2023-03-17 18:47:14,884 — INFO — \n",
      " \n",
      " Best <deepmol.metrics.metrics.Metric object at 0x7fbf2be4cd00>: 0.977278 using {'graph_conv_layers': [64, 64]}\n",
      "2023-03-17 18:47:14,885 — INFO — \n",
      " <deepmol.metrics.metrics.Metric object at 0x7fbf2be4cd00>: 0.977278 (0.002598) with: {'graph_conv_layers': [64, 64]} \n",
      "\n",
      "2023-03-17 18:47:14,885 — INFO — \n",
      " <deepmol.metrics.metrics.Metric object at 0x7fbf2be4cd00>: 0.965922 (0.002891) with: {'graph_conv_layers': [32, 32]} \n",
      "\n"
     ]
    }
   ],
   "source": [
    "from deepmol.parameter_optimization import HyperparameterOptimizerCV\n",
    "from deepmol.compound_featurization import ConvMolFeat\n",
    "from sklearn.metrics import roc_auc_score, precision_score\n",
    "from deepmol.models import DeepChemModel\n",
    "from deepchem.models import GraphConvModel\n",
    "\n",
    "ConvMolFeat().featurize(train_dataset)\n",
    "ConvMolFeat().featurize(valid_dataset)\n",
    "ConvMolFeat().featurize(test_dataset)\n",
    "\n",
    "def graphconv_builder(graph_conv_layers, batch_size=256, epochs=5):\n",
    "    graph = GraphConvModel(n_tasks=1, graph_conv_layers=graph_conv_layers, batch_size=batch_size,\n",
    "                           mode='classification')\n",
    "    return DeepChemModel(graph, epochs=epochs)\n",
    "\n",
    "model_graph = HyperparameterOptimizerCV(model_builder=graphconv_builder)\n",
    "\n",
    "best_model, _, _ = model_graph.hyperparameter_search(train_dataset=train_dataset,\n",
    "                                                     metric=Metric(roc_auc_score),\n",
    "                                                     n_iter_search=2,\n",
    "                                                     maximize_metric=True,\n",
    "                                                     cv = 2,\n",
    "                                                     params_dict={'graph_conv_layers': [[64, 64], [32, 32]]},\n",
    "                                                     model_type=\"deepchem\")\n"
   ],
   "metadata": {
    "collapsed": false
   }
  },
  {
   "cell_type": "code",
   "execution_count": 12,
   "outputs": [
    {
     "data": {
      "text/plain": "({'roc_auc_score': 0.9898796965934775,\n  'precision_score': 0.9402480270574972,\n  'accuracy_score': 0.9591100420926038},\n {})"
     },
     "execution_count": 12,
     "metadata": {},
     "output_type": "execute_result"
    }
   ],
   "source": [
    "test_preds = best_model.predict(test_dataset)\n",
    "\n",
    "metrics = [Metric(roc_auc_score), Metric(precision_score), Metric(accuracy_score)]\n",
    "\n",
    "best_model.evaluate(test_dataset, metrics)\n"
   ],
   "metadata": {
    "collapsed": false
   }
  }
 ],
 "metadata": {
  "kernelspec": {
   "display_name": "Python 3",
   "language": "python",
   "name": "python3"
  },
  "language_info": {
   "codemirror_mode": {
    "name": "ipython",
    "version": 2
   },
   "file_extension": ".py",
   "mimetype": "text/x-python",
   "name": "python",
   "nbconvert_exporter": "python",
   "pygments_lexer": "ipython2",
   "version": "2.7.6"
  }
 },
 "nbformat": 4,
 "nbformat_minor": 0
}
