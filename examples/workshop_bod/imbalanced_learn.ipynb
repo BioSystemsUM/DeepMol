{
 "cells": [
  {
   "cell_type": "markdown",
   "source": [
    "# Imbalanced Learn with DeepMol\n",
    "\n",
    "Imbalanced data is a common problem in machine learning and deep learning, including in the field of chemoinformatics. Imbalanced data refers to datasets where the number of instances of one class is significantly larger or smaller than the number of instances of other classes. For example, in chemoinformatics, there may be datasets where the number of active compounds is much smaller than the number of inactive compounds.\n",
    "\n",
    "Imbalanced data can lead to biased and suboptimal models, as traditional machine learning algorithms may not be able to learn the minority class effectively. This is where imbalanced learning techniques, such as those implemented in the imbalanced-learn library, can be important.\n",
    "\n",
    "DeepMol provides various methods for handling imbalanced data, including oversampling, undersampling, and combination methods. These techniques can help to balance the data and improve the performance of the machine learning models, especially in chemoinformatics where imbalanced data is common.\n",
    "\n",
    "For example, in a chemoinformatics dataset where there are many inactive compounds and few active compounds, oversampling techniques such as SMOTE (Synthetic Minority Over-sampling Technique) can be used to generate synthetic examples of the minority class, improving the model's ability to learn from the minority class. On the other hand, undersampling techniques can be used to reduce the number of majority class samples, making the dataset more balanced."
   ],
   "metadata": {
    "collapsed": false
   }
  },
  {
   "cell_type": "markdown",
   "source": [
    "### Let's create a dataset with imbalanced labels"
   ],
   "metadata": {
    "collapsed": false
   }
  },
  {
   "cell_type": "code",
   "execution_count": 6,
   "outputs": [
    {
     "name": "stdout",
     "output_type": "stream",
     "text": [
      "2023-03-17 14:46:17,334 — INFO — Assuming classification since there are less than 10 unique y values. If otherwise, explicitly set the mode to 'regression'!\n"
     ]
    },
    {
     "data": {
      "text/plain": "Counter({1: 100, 0: 1000})"
     },
     "execution_count": 6,
     "metadata": {},
     "output_type": "execute_result"
    }
   ],
   "source": [
    "from deepmol.compound_featurization import TwoDimensionDescriptors\n",
    "from collections import Counter\n",
    "from deepmol.datasets import SmilesDataset\n",
    "\n",
    "import pandas as pd\n",
    "\n",
    "df = pd.read_csv('../data/CHEMBL217_reduced.csv', header=0)\n",
    "# pick 100 cases where 'Activity_Flag' (label) is 1 and 1000 cases where 'Activity_Flag' is 0\n",
    "# select 100 cases where the label is 1\n",
    "cases_1 = df[df['Activity_Flag'] == 1].head(100)\n",
    "# select 1000 cases where the label is 0\n",
    "cases_0 = df[df['Activity_Flag'] == 0].head(1000)\n",
    "\n",
    "unbalanced_data = pd.concat([cases_1, cases_0])\n",
    "\n",
    "data = SmilesDataset(smiles=unbalanced_data.SMILES,\n",
    "                     ids=unbalanced_data.Original_Entry_ID,\n",
    "                     y=unbalanced_data.Activity_Flag,\n",
    "                     label_names=['Activity_Flag'])\n",
    "TwoDimensionDescriptors().featurize(data)\n",
    "\n",
    "\n",
    "# count y values in dataset.y\n",
    "Counter(data.y)"
   ],
   "metadata": {
    "collapsed": false
   }
  },
  {
   "cell_type": "markdown",
   "source": [
    "### Over Sampling Methods"
   ],
   "metadata": {
    "collapsed": false
   }
  },
  {
   "cell_type": "markdown",
   "source": [
    "### RandomOverSampler\n",
    "\n",
    "The RandomOverSampler is a technique used to address the problem of imbalanced data in machine learning. It is a data augmentation technique that creates synthetic samples of the minority class by randomly duplicating existing samples until the number of samples in the minority class matches the number of samples in the majority class."
   ],
   "metadata": {
    "collapsed": false
   }
  },
  {
   "cell_type": "code",
   "execution_count": 7,
   "outputs": [
    {
     "data": {
      "text/plain": "Counter({1: 750, 0: 1000})"
     },
     "execution_count": 7,
     "metadata": {},
     "output_type": "execute_result"
    }
   ],
   "source": [
    "from copy import deepcopy\n",
    "from deepmol.imbalanced_learn import RandomOverSampler\n",
    "\n",
    "d1 = deepcopy(data)\n",
    "sampler = RandomOverSampler(sampling_strategy=0.75, random_state=123)\n",
    "d1 = sampler.sample(d1)\n",
    "\n",
    "Counter(d1.y)"
   ],
   "metadata": {
    "collapsed": false
   }
  },
  {
   "cell_type": "markdown",
   "source": [
    "### SMOTE\n",
    "\n",
    "SMOTE (Synthetic Minority Over-sampling Technique) is another data augmentation technique used to address the problem of imbalanced data in machine learning. SMOTE is similar to the RandomOverSampler, but instead of randomly duplicating minority class samples, it creates synthetic samples by interpolating between pairs of minority class samples."
   ],
   "metadata": {
    "collapsed": false
   }
  },
  {
   "cell_type": "code",
   "execution_count": 11,
   "outputs": [
    {
     "data": {
      "text/plain": "Counter({1: 800, 0: 1000})"
     },
     "execution_count": 11,
     "metadata": {},
     "output_type": "execute_result"
    }
   ],
   "source": [
    "from deepmol.imbalanced_learn import SMOTE\n",
    "\n",
    "d2 = deepcopy(data)\n",
    "sampler = SMOTE(sampling_strategy=0.8, random_state=123, k_neighbors=5, n_jobs=-1)\n",
    "d2 = sampler.sample(d2)\n",
    "\n",
    "Counter(d2.y)"
   ],
   "metadata": {
    "collapsed": false
   }
  },
  {
   "cell_type": "markdown",
   "source": [
    "### Under Sampling Methods"
   ],
   "metadata": {
    "collapsed": false
   }
  },
  {
   "cell_type": "markdown",
   "source": [
    "### RandomUnderSampler\n",
    "\n",
    "The RandomUnderSampler is a technique used to address the problem of imbalanced data in machine learning. It is a data reduction technique that reduces the number of samples in the majority class by randomly removing samples until the number of samples in the majority class matches the number of samples in the minority class."
   ],
   "metadata": {
    "collapsed": false
   }
  },
  {
   "cell_type": "code",
   "execution_count": 12,
   "outputs": [
    {
     "data": {
      "text/plain": "Counter({0: 200, 1: 100})"
     },
     "execution_count": 12,
     "metadata": {},
     "output_type": "execute_result"
    }
   ],
   "source": [
    "from deepmol.imbalanced_learn import RandomUnderSampler\n",
    "\n",
    "d3 = deepcopy(data)\n",
    "sampler = RandomUnderSampler(sampling_strategy=0.5, random_state=123, replacement=True)\n",
    "d3 = sampler.sample(d3)\n",
    "\n",
    "Counter(d3.y)"
   ],
   "metadata": {
    "collapsed": false
   }
  },
  {
   "cell_type": "markdown",
   "source": [
    "### ClusterCentroids\n",
    "\n",
    "ClusterCentroids is a technique used to address the problem of imbalanced data in machine learning. It is a data undersampling technique that creates synthetic samples of the majority class by clustering the majority class data and then generating centroids for each cluster. These centroids are then used as representative samples for the majority class."
   ],
   "metadata": {
    "collapsed": false
   }
  },
  {
   "cell_type": "code",
   "execution_count": 13,
   "outputs": [
    {
     "data": {
      "text/plain": "Counter({0: 100, 1: 100})"
     },
     "execution_count": 13,
     "metadata": {},
     "output_type": "execute_result"
    }
   ],
   "source": [
    "from sklearn.cluster import KMeans\n",
    "from deepmol.imbalanced_learn import ClusterCentroids\n",
    "\n",
    "d4 = deepcopy(data)\n",
    "sampler = ClusterCentroids(sampling_strategy=1, random_state=123, estimator=KMeans(), voting='hard')\n",
    "d4 = sampler.sample(d4)\n",
    "\n",
    "Counter(d4.y)"
   ],
   "metadata": {
    "collapsed": false
   }
  },
  {
   "cell_type": "markdown",
   "source": [
    "### Combination of Under and Over Sampling"
   ],
   "metadata": {
    "collapsed": false
   }
  },
  {
   "cell_type": "markdown",
   "source": [
    "### SMOTEENN\n",
    "\n",
    "SMOTEENN is a hybrid technique that combines two other techniques, SMOTE (Synthetic Minority Over-sampling Technique) and Edited Nearest Neighbors (ENN), to address the problem of imbalanced data in machine learning. SMOTE is used to oversample the minority class by creating synthetic samples, while ENN is used to undersample the majority class by removing samples that are misclassified by a k-NN classifier."
   ],
   "metadata": {
    "collapsed": false
   }
  },
  {
   "cell_type": "code",
   "execution_count": 20,
   "outputs": [
    {
     "data": {
      "text/plain": "Counter({0: 922, 1: 772})"
     },
     "execution_count": 20,
     "metadata": {},
     "output_type": "execute_result"
    }
   ],
   "source": [
    "from deepmol.imbalanced_learn import SMOTEENN\n",
    "\n",
    "d5 = deepcopy(data)\n",
    "sampler = SMOTEENN(sampling_strategy=0.8, random_state=123, n_jobs=-1)\n",
    "d5 = sampler.sample(d5)\n",
    "\n",
    "Counter(d5.y)"
   ],
   "metadata": {
    "collapsed": false
   }
  },
  {
   "cell_type": "markdown",
   "source": [
    "### SMOTETomek\n",
    "\n",
    "SMOTETomek is a hybrid technique that combines two other techniques, SMOTE (Synthetic Minority Over-sampling Technique) and Tomek Links, to address the problem of imbalanced data in machine learning. SMOTE is used to oversample the minority class by creating synthetic samples, while Tomek Links is used to undersample the majority class by identifying and removing samples that are close to the boundary between the minority and majority classes."
   ],
   "metadata": {
    "collapsed": false
   }
  },
  {
   "cell_type": "code",
   "execution_count": 26,
   "outputs": [
    {
     "data": {
      "text/plain": "Counter({1: 693, 0: 993})"
     },
     "execution_count": 26,
     "metadata": {},
     "output_type": "execute_result"
    }
   ],
   "source": [
    "from deepmol.imbalanced_learn import SMOTETomek\n",
    "\n",
    "d6 = deepcopy(data)\n",
    "sampler = SMOTETomek(sampling_strategy=0.7, random_state=123, n_jobs=-1)\n",
    "d6 = sampler.sample(d6)\n",
    "\n",
    "Counter(d6.y)"
   ],
   "metadata": {
    "collapsed": false
   }
  }
 ],
 "metadata": {
  "kernelspec": {
   "display_name": "Python 3",
   "language": "python",
   "name": "python3"
  },
  "language_info": {
   "codemirror_mode": {
    "name": "ipython",
    "version": 2
   },
   "file_extension": ".py",
   "mimetype": "text/x-python",
   "name": "python",
   "nbconvert_exporter": "python",
   "pygments_lexer": "ipython2",
   "version": "2.7.6"
  }
 },
 "nbformat": 4,
 "nbformat_minor": 0
}
