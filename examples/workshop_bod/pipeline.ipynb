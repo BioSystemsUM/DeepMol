{
 "cells": [
  {
   "cell_type": "markdown",
   "source": [
    "# DeepMol pipelines"
   ],
   "metadata": {
    "collapsed": false
   }
  },
  {
   "cell_type": "markdown",
   "source": [
    "In DeepMol we have implemented a pipeline class that allows to build a ML pipeline with just a few lines of code. The pipeline class is a wrapper around the sklearn pipeline class. The pipeline class allows to build a ML pipeline with the whatever steps you want to build. The steps can be any of the following:\n",
    "- Feature selection\n",
    "- Feature extraction\n",
    "- Data Standardization\n",
    "- Model"
   ],
   "metadata": {
    "collapsed": false
   }
  },
  {
   "cell_type": "markdown",
   "source": [
    "The pipelines in DeepMol work the same as Sklearn Pipelines: utilize the **fit_transform** method to fit the pipeline and transform the data. The pipeline class also allows to save the pipeline and load it again. Moreover, the pipeline class allows to evaluate the pipeline using the **evaluate** and predict method.\n",
    "\n",
    "![png](pipeline.png)\n",
    "(source: https://towardsdatascience.com/find-thy-hyper-parameters-for-scikit-learn-pipelines-using-microsoft-nni-f1015b1224c1)\n",
    "\n",
    "The pipeline class also allows to visualize the chemical space using the **transform** method. The **transform** method will return a dataset object with the features extracted by the pipeline. The dataset object can be used to visualize the chemical space using the **PCA** class.\n",
    "\n",
    "In this tutorial we will show how to build a ML pipeline to predict drug activity against DRD2 receptor using DeepMol."
   ],
   "metadata": {
    "collapsed": false
   }
  },
  {
   "cell_type": "markdown",
   "source": [
    "# Predict drug activity against DRD2 receptor using DeepMol\n",
    "\n",
    "We were able to build a ML pipeline to predict drug activity against DRD2 receptor using DeepMol wit just 9 lines of code."
   ],
   "metadata": {
    "collapsed": false
   }
  },
  {
   "cell_type": "markdown",
   "source": [
    "### Let us define a pipeline to predict drug activity against DRD2 receptor"
   ],
   "metadata": {
    "collapsed": false
   }
  },
  {
   "cell_type": "markdown",
   "source": [
    "We will use the following steps:\n",
    "- Basic standardization\n",
    "- Morgan fingerprints\n",
    "- Low variance feature selection\n",
    "- Random forest model"
   ],
   "metadata": {
    "collapsed": false
   }
  },
  {
   "cell_type": "code",
   "execution_count": 1,
   "outputs": [
    {
     "name": "stderr",
     "output_type": "stream",
     "text": [
      "2023-06-05 16:28:59.891270: I tensorflow/core/platform/cpu_feature_guard.cc:193] This TensorFlow binary is optimized with oneAPI Deep Neural Network Library (oneDNN) to use the following CPU instructions in performance-critical operations:  AVX2 FMA\n",
      "To enable them in other operations, rebuild TensorFlow with the appropriate compiler flags.\n",
      "2023-06-05 16:28:59.979476: W tensorflow/compiler/xla/stream_executor/platform/default/dso_loader.cc:64] Could not load dynamic library 'libcudart.so.11.0'; dlerror: libcudart.so.11.0: cannot open shared object file: No such file or directory\n",
      "2023-06-05 16:28:59.979490: I tensorflow/compiler/xla/stream_executor/cuda/cudart_stub.cc:29] Ignore above cudart dlerror if you do not have a GPU set up on your machine.\n",
      "2023-06-05 16:29:00.435911: W tensorflow/compiler/xla/stream_executor/platform/default/dso_loader.cc:64] Could not load dynamic library 'libnvinfer.so.7'; dlerror: libnvinfer.so.7: cannot open shared object file: No such file or directory\n",
      "2023-06-05 16:29:00.435961: W tensorflow/compiler/xla/stream_executor/platform/default/dso_loader.cc:64] Could not load dynamic library 'libnvinfer_plugin.so.7'; dlerror: libnvinfer_plugin.so.7: cannot open shared object file: No such file or directory\n",
      "2023-06-05 16:29:00.435967: W tensorflow/compiler/tf2tensorrt/utils/py_utils.cc:38] TF-TRT Warning: Cannot dlopen some TensorRT libraries. If you would like to use Nvidia GPU with TensorRT, please make sure the missing libraries mentioned above are installed properly.\n",
      "Skipped loading modules with pytorch-geometric dependency, missing a dependency. No module named 'torch_geometric'\n",
      "Skipped loading modules with pytorch-geometric dependency, missing a dependency. cannot import name 'DMPNN' from 'deepchem.models.torch_models' (/home/bisbii/anaconda3/envs/deepmol/lib/python3.8/site-packages/deepchem/models/torch_models/__init__.py)\n",
      "Skipped loading modules with pytorch-lightning dependency, missing a dependency. No module named 'pytorch_lightning'\n",
      "Skipped loading some Jax models, missing a dependency. No module named 'jax'\n"
     ]
    },
    {
     "name": "stdout",
     "output_type": "stream",
     "text": [
      "2023-06-05 16:29:02,024 — INFO — Standardizer BasicStandardizer initialized with -1 jobs.\n"
     ]
    },
    {
     "name": "stderr",
     "output_type": "stream",
     "text": [
      "[16:29:02] Initializing Normalizer\n"
     ]
    }
   ],
   "source": [
    "from deepmol.pipeline import Pipeline\n",
    "\n",
    "from deepmol.metrics import Metric\n",
    "from sklearn.metrics import roc_auc_score, accuracy_score, precision_score, recall_score, f1_score\n",
    "from sklearn.ensemble import RandomForestClassifier\n",
    "from deepmol.models import SklearnModel\n",
    "from deepmol.splitters import SingletaskStratifiedSplitter\n",
    "from deepmol.feature_selection import LowVarianceFS\n",
    "from deepmol.compound_featurization import MorganFingerprint\n",
    "from deepmol.standardizer import BasicStandardizer\n",
    "from deepmol.loaders import CSVLoader\n",
    "\n",
    "steps = [('basic standardizing', BasicStandardizer()),\n",
    "         ('morgan fingerprints', MorganFingerprint(radius=2, size=1024)),\n",
    "         ('low variance feature selection', LowVarianceFS(threshold=0.1)),\n",
    "         ('random forest', SklearnModel(model=RandomForestClassifier(n_jobs=-1, random_state=42)))\n",
    "         ]\n",
    "pipeline = Pipeline(steps=steps, path=\"DRD2\")"
   ],
   "metadata": {
    "collapsed": false,
    "ExecuteTime": {
     "end_time": "2023-06-05T15:29:02.027010604Z",
     "start_time": "2023-06-05T15:28:59.692222337Z"
    }
   }
  },
  {
   "cell_type": "markdown",
   "source": [
    "The steps of the pipeline have to be defined as a list of tuples. The first element of the tuple is the name of the step and the second element is the object that implements the step. The pipeline class will respect the order of the steps you defined. The path parameter is the path where the pipeline will be saved."
   ],
   "metadata": {
    "collapsed": false
   }
  },
  {
   "cell_type": "markdown",
   "source": [
    "### Let us load the data"
   ],
   "metadata": {
    "collapsed": false
   }
  },
  {
   "cell_type": "code",
   "execution_count": 2,
   "outputs": [
    {
     "name": "stdout",
     "output_type": "stream",
     "text": [
      "2023-06-05 16:29:07,713 — ERROR — Molecule with smiles: ClC1=C(N2CCN(O)(CC2)=C/C=C/CNC(=O)C=3C=CC(=CC3)C4=NC=CC=C4)C=CC=C1Cl removed from dataset.\n",
      "2023-06-05 16:29:07,715 — INFO — Assuming classification since there are less than 10 unique y values. If otherwise, explicitly set the mode to 'regression'!\n"
     ]
    },
    {
     "name": "stderr",
     "output_type": "stream",
     "text": [
      "[16:29:07] Explicit valence for atom # 6 N, 5, is greater than permitted\n"
     ]
    }
   ],
   "source": [
    "loader = CSVLoader(dataset_path='../data/CHEMBL217_reduced.csv',\n",
    "                   smiles_field='SMILES',\n",
    "                   id_field='Original_Entry_ID',\n",
    "                   labels_fields=['Activity_Flag'])\n",
    "data = loader.create_dataset(sep=',', header=0)\n",
    "train, test = SingletaskStratifiedSplitter().train_test_split(data, fra_train=0.8, seed=42)"
   ],
   "metadata": {
    "collapsed": false,
    "ExecuteTime": {
     "end_time": "2023-06-05T15:29:07.731903681Z",
     "start_time": "2023-06-05T15:29:05.872314740Z"
    }
   }
  },
  {
   "cell_type": "markdown",
   "source": [
    "### Let us fit the pipeline"
   ],
   "metadata": {
    "collapsed": false
   }
  },
  {
   "cell_type": "code",
   "execution_count": 3,
   "outputs": [
    {
     "data": {
      "text/plain": "<deepmol.pipeline.pipeline.Pipeline at 0x7fefab01af40>"
     },
     "execution_count": 3,
     "metadata": {},
     "output_type": "execute_result"
    }
   ],
   "source": [
    "pipeline.fit(train)"
   ],
   "metadata": {
    "collapsed": false,
    "ExecuteTime": {
     "end_time": "2023-06-05T15:29:14.290492292Z",
     "start_time": "2023-06-05T15:29:09.896411619Z"
    }
   }
  },
  {
   "cell_type": "markdown",
   "source": [
    "### Let us evaluate the pipeline"
   ],
   "metadata": {
    "collapsed": false
   }
  },
  {
   "cell_type": "code",
   "execution_count": 4,
   "outputs": [
    {
     "data": {
      "text/plain": "({'roc_auc_score': 0.9945097741972742,\n  'accuracy_score': 0.9693601682186843,\n  'precision_score': 0.9626777251184834,\n  'recall_score': 0.9765625,\n  'f1_score': 0.9695704057279237},\n {})"
     },
     "execution_count": 4,
     "metadata": {},
     "output_type": "execute_result"
    }
   ],
   "source": [
    "pipeline.evaluate(test, metrics=[Metric(roc_auc_score), Metric(accuracy_score), Metric(precision_score), Metric(recall_score), Metric(f1_score)])"
   ],
   "metadata": {
    "collapsed": false,
    "ExecuteTime": {
     "end_time": "2023-06-05T15:29:18.550257905Z",
     "start_time": "2023-06-05T15:29:17.015695320Z"
    }
   }
  },
  {
   "cell_type": "markdown",
   "source": [
    "### Now we can save it and load it again"
   ],
   "metadata": {
    "collapsed": false
   }
  },
  {
   "cell_type": "code",
   "execution_count": 5,
   "outputs": [],
   "source": [
    "pipeline.save()"
   ],
   "metadata": {
    "collapsed": false,
    "ExecuteTime": {
     "end_time": "2023-06-02T17:08:01.867872289Z",
     "start_time": "2023-06-02T17:08:01.824650689Z"
    }
   }
  },
  {
   "cell_type": "code",
   "execution_count": 6,
   "outputs": [],
   "source": [
    "pipeline = Pipeline.load(path=\"DRD2\")"
   ],
   "metadata": {
    "collapsed": false,
    "ExecuteTime": {
     "end_time": "2023-06-02T17:08:16.026856217Z",
     "start_time": "2023-06-02T17:08:16.017176382Z"
    }
   }
  },
  {
   "cell_type": "code",
   "execution_count": 7,
   "outputs": [
    {
     "data": {
      "text/plain": "({'roc_auc_score': 0.9945097741972742,\n  'accuracy_score': 0.9693601682186843,\n  'precision_score': 0.9626777251184834,\n  'recall_score': 0.9765625,\n  'f1_score': 0.9695704057279237},\n {})"
     },
     "execution_count": 7,
     "metadata": {},
     "output_type": "execute_result"
    }
   ],
   "source": [
    "pipeline.evaluate(test, metrics=[Metric(roc_auc_score), Metric(accuracy_score), Metric(precision_score), Metric(recall_score), Metric(f1_score)])"
   ],
   "metadata": {
    "collapsed": false,
    "ExecuteTime": {
     "end_time": "2023-06-02T17:08:22.039414187Z",
     "start_time": "2023-06-02T17:08:20.528009725Z"
    }
   }
  },
  {
   "cell_type": "markdown",
   "source": [
    "### Let us try using the pipeline just to visualize the chemical space"
   ],
   "metadata": {
    "collapsed": false
   }
  },
  {
   "cell_type": "code",
   "execution_count": 3,
   "outputs": [
    {
     "name": "stdout",
     "output_type": "stream",
     "text": [
      "2023-06-05 14:20:38,885 — INFO — Standardizer BasicStandardizer initialized with -1 jobs.\n"
     ]
    }
   ],
   "source": [
    "steps = [('basic standardizing', BasicStandardizer()),\n",
    "         ('morgan fingerprints', MorganFingerprint(radius=2, size=1024)),\n",
    "         ('low variance feature selection', LowVarianceFS(threshold=0.1)),\n",
    "         ]\n",
    "pipeline = Pipeline(steps=steps, path=\"DRD2\")"
   ],
   "metadata": {
    "collapsed": false,
    "ExecuteTime": {
     "end_time": "2023-06-05T13:20:38.913917434Z",
     "start_time": "2023-06-05T13:20:38.886765285Z"
    }
   }
  },
  {
   "cell_type": "code",
   "execution_count": 4,
   "outputs": [
    {
     "data": {
      "text/plain": "<deepmol.pipeline.pipeline.Pipeline at 0x7fc8785a1940>"
     },
     "execution_count": 4,
     "metadata": {},
     "output_type": "execute_result"
    }
   ],
   "source": [
    "pipeline.fit(train)"
   ],
   "metadata": {
    "collapsed": false,
    "ExecuteTime": {
     "end_time": "2023-06-05T13:20:43.120978847Z",
     "start_time": "2023-06-05T13:20:38.890166919Z"
    }
   }
  },
  {
   "cell_type": "code",
   "execution_count": 5,
   "outputs": [],
   "source": [
    "dataset = pipeline.transform(test)"
   ],
   "metadata": {
    "collapsed": false,
    "ExecuteTime": {
     "end_time": "2023-06-05T13:20:47.348248543Z",
     "start_time": "2023-06-05T13:20:45.909877369Z"
    }
   }
  },
  {
   "cell_type": "code",
   "execution_count": 6,
   "outputs": [
    {
     "data": {
      "text/plain": "array([[0., 0., 0., ..., 0., 0., 0.],\n       [0., 0., 0., ..., 0., 0., 0.],\n       [0., 0., 0., ..., 0., 0., 0.],\n       ...,\n       [1., 0., 1., ..., 0., 0., 0.],\n       [1., 0., 0., ..., 0., 1., 0.],\n       [1., 0., 0., ..., 0., 0., 0.]], dtype=float32)"
     },
     "execution_count": 6,
     "metadata": {},
     "output_type": "execute_result"
    }
   ],
   "source": [
    "dataset.X"
   ],
   "metadata": {
    "collapsed": false,
    "ExecuteTime": {
     "end_time": "2023-06-05T13:20:47.742214858Z",
     "start_time": "2023-06-05T13:20:47.740257464Z"
    }
   }
  },
  {
   "cell_type": "code",
   "execution_count": 11,
   "outputs": [],
   "source": [
    "from deepmol.unsupervised import PCA\n",
    "\n",
    "pca = PCA(n_components=2)\n",
    "pca_df = pca.run(dataset)\n",
    "pca.plot(pca_df.X)"
   ],
   "metadata": {
    "collapsed": false
   }
  }
 ],
 "metadata": {
  "kernelspec": {
   "display_name": "Python 3",
   "language": "python",
   "name": "python3"
  },
  "language_info": {
   "codemirror_mode": {
    "name": "ipython",
    "version": 2
   },
   "file_extension": ".py",
   "mimetype": "text/x-python",
   "name": "python",
   "nbconvert_exporter": "python",
   "pygments_lexer": "ipython2",
   "version": "2.7.6"
  }
 },
 "nbformat": 4,
 "nbformat_minor": 0
}
