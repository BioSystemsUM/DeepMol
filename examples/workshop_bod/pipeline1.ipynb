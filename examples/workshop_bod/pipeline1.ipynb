{
 "cells": [
  {
   "cell_type": "markdown",
   "source": [
    "# Predict drug activity against DRD2 receptor using DeepMol\n",
    "\n",
    "We were able to build a ML pipeline to predict drug activity against DRD2 receptor using DeepMol wit just 9 lines of code."
   ],
   "metadata": {
    "collapsed": false
   }
  },
  {
   "cell_type": "code",
   "execution_count": 3,
   "outputs": [
    {
     "name": "stdout",
     "output_type": "stream",
     "text": [
      "2023-03-17 18:46:19,155 — ERROR — Molecule with smiles: ClC1=C(N2CCN(O)(CC2)=C/C=C/CNC(=O)C=3C=CC(=CC3)C4=NC=CC=C4)C=CC=C1Cl removed from dataset.\n",
      "2023-03-17 18:46:19,167 — INFO — Assuming classification since there are less than 10 unique y values. If otherwise, explicitly set the mode to 'regression'!\n",
      "2023-03-17 18:46:19,186 — INFO — Standardizer BasicStandardizer initialized with -1 jobs.\n"
     ]
    },
    {
     "name": "stderr",
     "output_type": "stream",
     "text": [
      "[18:46:19] Explicit valence for atom # 6 N, 5, is greater than permitted\n"
     ]
    },
    {
     "data": {
      "text/plain": "({'roc_auc_score': 0.9948441831254331,\n  'accuracy_score': 0.9705617302493241,\n  'precision_score': 0.9627659574468085,\n  'recall_score': 0.9789663461538461,\n  'f1_score': 0.9707985697258641},\n {})"
     },
     "execution_count": 3,
     "metadata": {},
     "output_type": "execute_result"
    }
   ],
   "source": [
    "from deepmol.metrics import Metric\n",
    "from sklearn.metrics import roc_auc_score, accuracy_score, precision_score, recall_score, f1_score\n",
    "from sklearn.ensemble import RandomForestClassifier\n",
    "from deepmol.models import SklearnModel\n",
    "from deepmol.splitters import SingletaskStratifiedSplitter\n",
    "from deepmol.feature_selection import LowVarianceFS\n",
    "from deepmol.compound_featurization import MorganFingerprint\n",
    "from deepmol.standardizer import BasicStandardizer\n",
    "from deepmol.loaders import CSVLoader\n",
    "\n",
    "loader = CSVLoader(dataset_path='../data/CHEMBL217_reduced.csv',\n",
    "                   smiles_field='SMILES',\n",
    "                   id_field='Original_Entry_ID',\n",
    "                   labels_fields=['Activity_Flag'])\n",
    "data = loader.create_dataset(sep=',', header=0)\n",
    "BasicStandardizer().standardize(data)\n",
    "MorganFingerprint(radius=2, size=1024).featurize(data)\n",
    "LowVarianceFS(threshold=0.1).select_features(data)\n",
    "train, test = SingletaskStratifiedSplitter().train_test_split(data, fra_train=0.8, seed=42)\n",
    "model = SklearnModel(model=RandomForestClassifier(n_jobs=-1, random_state=42))\n",
    "model.fit(train)\n",
    "model.evaluate(test, metrics=[Metric(roc_auc_score), Metric(accuracy_score), Metric(precision_score), Metric(recall_score), Metric(f1_score)])"
   ],
   "metadata": {
    "collapsed": false
   }
  }
 ],
 "metadata": {
  "kernelspec": {
   "display_name": "Python 3",
   "language": "python",
   "name": "python3"
  },
  "language_info": {
   "codemirror_mode": {
    "name": "ipython",
    "version": 2
   },
   "file_extension": ".py",
   "mimetype": "text/x-python",
   "name": "python",
   "nbconvert_exporter": "python",
   "pygments_lexer": "ipython2",
   "version": "2.7.6"
  }
 },
 "nbformat": 4,
 "nbformat_minor": 0
}
