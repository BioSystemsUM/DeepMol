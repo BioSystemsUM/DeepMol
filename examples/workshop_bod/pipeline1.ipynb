{
 "cells": [
  {
   "cell_type": "markdown",
   "source": [
    "# DeepMol pipelines"
   ],
   "metadata": {
    "collapsed": false
   }
  },
  {
   "cell_type": "markdown",
   "source": [
    "In DeepMol we have implemented a pipeline class that allows to build a ML pipeline with just a few lines of code. The pipeline class is a wrapper around the sklearn pipeline class. The pipeline class allows to build a ML pipeline with the whatever steps you want to build. The steps can be any of the following:\n",
    "- Feature selection\n",
    "- Feature extraction\n",
    "- Data Standardization\n",
    "- Model"
   ],
   "metadata": {
    "collapsed": false
   }
  },
  {
   "cell_type": "markdown",
   "source": [
    "# Predict drug activity against DRD2 receptor using DeepMol\n",
    "\n",
    "We were able to build a ML pipeline to predict drug activity against DRD2 receptor using DeepMol wit just 9 lines of code."
   ],
   "metadata": {
    "collapsed": false
   }
  },
  {
   "cell_type": "markdown",
   "source": [
    "### Let us define a pipeline to predict drug activity against DRD2 receptor"
   ],
   "metadata": {
    "collapsed": false
   }
  },
  {
   "cell_type": "markdown",
   "source": [
    "We will use the following steps:\n",
    "- Basic standardization\n",
    "- Morgan fingerprints\n",
    "- Low variance feature selection\n",
    "- Random forest model"
   ],
   "metadata": {
    "collapsed": false
   }
  },
  {
   "cell_type": "code",
   "execution_count": null,
   "outputs": [],
   "source": [
    "from deepmol.pipeline import Pipeline\n",
    "\n",
    "from deepmol.metrics import Metric\n",
    "from sklearn.metrics import roc_auc_score, accuracy_score, precision_score, recall_score, f1_score\n",
    "from sklearn.ensemble import RandomForestClassifier\n",
    "from deepmol.models import SklearnModel\n",
    "from deepmol.splitters import SingletaskStratifiedSplitter\n",
    "from deepmol.feature_selection import LowVarianceFS\n",
    "from deepmol.compound_featurization import MorganFingerprint\n",
    "from deepmol.standardizer import BasicStandardizer\n",
    "from deepmol.loaders import CSVLoader\n",
    "\n",
    "steps = [('basic standardizing', BasicStandardizer()),\n",
    "         ('morgan fingerprints', MorganFingerprint(radius=2, size=1024)),\n",
    "         ('low variance feature selection', LowVarianceFS(threshold=0.1)),\n",
    "         ('random forest', SklearnModel(model=RandomForestClassifier(n_jobs=-1, random_state=42)))\n",
    "         ]\n",
    "pipeline = Pipeline(steps=steps, path=\"DRD2\")"
   ],
   "metadata": {
    "collapsed": false
   }
  },
  {
   "cell_type": "markdown",
   "source": [
    "The steps of the pipeline have to be defined as a list of tuples. The first element of the tuple is the name of the step and the second element is the object that implements the step. The pipeline class will respect the order of the steps you defined. The path parameter is the path where the pipeline will be saved."
   ],
   "metadata": {
    "collapsed": false
   }
  },
  {
   "cell_type": "markdown",
   "source": [
    "### Let us load the data"
   ],
   "metadata": {
    "collapsed": false
   }
  },
  {
   "cell_type": "code",
   "execution_count": 2,
   "outputs": [
    {
     "name": "stdout",
     "output_type": "stream",
     "text": [
      "2023-06-02 17:54:51,582 — ERROR — Molecule with smiles: ClC1=C(N2CCN(O)(CC2)=C/C=C/CNC(=O)C=3C=CC(=CC3)C4=NC=CC=C4)C=CC=C1Cl removed from dataset.\n",
      "2023-06-02 17:54:51,583 — INFO — Assuming classification since there are less than 10 unique y values. If otherwise, explicitly set the mode to 'regression'!\n"
     ]
    },
    {
     "name": "stderr",
     "output_type": "stream",
     "text": [
      "[17:54:51] Explicit valence for atom # 6 N, 5, is greater than permitted\n"
     ]
    }
   ],
   "source": [
    "loader = CSVLoader(dataset_path='../data/CHEMBL217_reduced.csv',\n",
    "                   smiles_field='SMILES',\n",
    "                   id_field='Original_Entry_ID',\n",
    "                   labels_fields=['Activity_Flag'])\n",
    "data = loader.create_dataset(sep=',', header=0)\n",
    "train, test = SingletaskStratifiedSplitter().train_test_split(data, fra_train=0.8, seed=42)"
   ],
   "metadata": {
    "collapsed": false,
    "ExecuteTime": {
     "end_time": "2023-06-02T16:54:51.599849793Z",
     "start_time": "2023-06-02T16:54:49.735487098Z"
    }
   }
  },
  {
   "cell_type": "markdown",
   "source": [
    "### Let us fit the pipeline"
   ],
   "metadata": {
    "collapsed": false
   }
  },
  {
   "cell_type": "code",
   "execution_count": 3,
   "outputs": [
    {
     "data": {
      "text/plain": "<deepmol.pipeline.pipeline.Pipeline at 0x7efd1c22d250>"
     },
     "execution_count": 3,
     "metadata": {},
     "output_type": "execute_result"
    }
   ],
   "source": [
    "pipeline.fit(train)"
   ],
   "metadata": {
    "collapsed": false,
    "ExecuteTime": {
     "end_time": "2023-06-02T16:55:07.654042178Z",
     "start_time": "2023-06-02T16:55:02.697567014Z"
    }
   }
  },
  {
   "cell_type": "markdown",
   "source": [
    "### Let us evaluate the pipeline"
   ],
   "metadata": {
    "collapsed": false
   }
  },
  {
   "cell_type": "code",
   "execution_count": 4,
   "outputs": [
    {
     "data": {
      "text/plain": "({'roc_auc_score': 0.9945097741972742,\n  'accuracy_score': 0.9693601682186843,\n  'precision_score': 0.9626777251184834,\n  'recall_score': 0.9765625,\n  'f1_score': 0.9695704057279237},\n {})"
     },
     "execution_count": 4,
     "metadata": {},
     "output_type": "execute_result"
    }
   ],
   "source": [
    "pipeline.evaluate(test, metrics=[Metric(roc_auc_score), Metric(accuracy_score), Metric(precision_score), Metric(recall_score), Metric(f1_score)])"
   ],
   "metadata": {
    "collapsed": false,
    "ExecuteTime": {
     "end_time": "2023-06-02T16:57:18.090977963Z",
     "start_time": "2023-06-02T16:57:16.598063654Z"
    }
   }
  },
  {
   "cell_type": "markdown",
   "source": [
    "### Now we can save it and load it again"
   ],
   "metadata": {
    "collapsed": false
   }
  },
  {
   "cell_type": "code",
   "execution_count": 5,
   "outputs": [],
   "source": [
    "pipeline.save()"
   ],
   "metadata": {
    "collapsed": false,
    "ExecuteTime": {
     "end_time": "2023-06-02T17:08:01.867872289Z",
     "start_time": "2023-06-02T17:08:01.824650689Z"
    }
   }
  },
  {
   "cell_type": "code",
   "execution_count": 6,
   "outputs": [],
   "source": [
    "pipeline = Pipeline.load(path=\"DRD2\")"
   ],
   "metadata": {
    "collapsed": false,
    "ExecuteTime": {
     "end_time": "2023-06-02T17:08:16.026856217Z",
     "start_time": "2023-06-02T17:08:16.017176382Z"
    }
   }
  },
  {
   "cell_type": "code",
   "execution_count": 7,
   "outputs": [
    {
     "data": {
      "text/plain": "({'roc_auc_score': 0.9945097741972742,\n  'accuracy_score': 0.9693601682186843,\n  'precision_score': 0.9626777251184834,\n  'recall_score': 0.9765625,\n  'f1_score': 0.9695704057279237},\n {})"
     },
     "execution_count": 7,
     "metadata": {},
     "output_type": "execute_result"
    }
   ],
   "source": [
    "pipeline.evaluate(test, metrics=[Metric(roc_auc_score), Metric(accuracy_score), Metric(precision_score), Metric(recall_score), Metric(f1_score)])"
   ],
   "metadata": {
    "collapsed": false,
    "ExecuteTime": {
     "end_time": "2023-06-02T17:08:22.039414187Z",
     "start_time": "2023-06-02T17:08:20.528009725Z"
    }
   }
  }
 ],
 "metadata": {
  "kernelspec": {
   "display_name": "Python 3",
   "language": "python",
   "name": "python3"
  },
  "language_info": {
   "codemirror_mode": {
    "name": "ipython",
    "version": 2
   },
   "file_extension": ".py",
   "mimetype": "text/x-python",
   "name": "python",
   "nbconvert_exporter": "python",
   "pygments_lexer": "ipython2",
   "version": "2.7.6"
  }
 },
 "nbformat": 4,
 "nbformat_minor": 0
}
