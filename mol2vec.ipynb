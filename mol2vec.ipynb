{
  "nbformat": 4,
  "nbformat_minor": 0,
  "metadata": {
    "colab": {
      "name": "mol2vec.ipynb",
      "provenance": [],
      "collapsed_sections": [
        "cqalq_4_cY1A",
        "hCuMDSAleQYI",
        "3gPAFFSioWeu"
      ],
      "toc_visible": true
    },
    "kernelspec": {
      "name": "python3",
      "display_name": "Python 3"
    },
    "language_info": {
      "name": "python"
    },
    "accelerator": "GPU"
  },
  "cells": [
    {
      "cell_type": "markdown",
      "metadata": {
        "id": "cqalq_4_cY1A"
      },
      "source": [
        "# Import some Python modules"
      ]
    },
    {
      "cell_type": "code",
      "metadata": {
        "id": "P7dEOjjYmn_s"
      },
      "source": [
        "% matplotlib inline"
      ],
      "execution_count": 1,
      "outputs": []
    },
    {
      "cell_type": "code",
      "metadata": {
        "id": "Lph0Cm7fXotU"
      },
      "source": [
        "import pandas as pd\n",
        "import seaborn as sns\n",
        "import numpy as np\n",
        "import requests\n",
        "import io\n",
        "import os\n",
        "import matplotlib.pyplot as plt\n",
        "from IPython.display import clear_output "
      ],
      "execution_count": 2,
      "outputs": []
    },
    {
      "cell_type": "code",
      "metadata": {
        "id": "fiO5WrjBql5y"
      },
      "source": [
        "!pip install kora\n",
        "import kora.install.rdkit\n",
        "clear_output()"
      ],
      "execution_count": 3,
      "outputs": []
    },
    {
      "cell_type": "code",
      "metadata": {
        "id": "ntctjua-ql8k"
      },
      "source": [
        "!pip install git+https://github.com/samoturk/mol2vec\n",
        "clear_output()"
      ],
      "execution_count": 4,
      "outputs": []
    },
    {
      "cell_type": "code",
      "metadata": {
        "id": "PWW0aB-K3wO6"
      },
      "source": [
        "from rdkit import Chem\n",
        "from rdkit.Chem import AllChem\n",
        "from rdkit.Chem import Draw, Descriptors\n",
        "from rdkit.Chem import PandasTools\n",
        "from rdkit.Chem.Draw import IPythonConsole\n",
        "from mol2vec.features import mol2alt_sentence, sentences2vec, mol2sentence, MolSentence, DfVec\n",
        "from mol2vec.helpers import depict_identifier, plot_2D_vectors, IdentifierTable, mol_to_svg"
      ],
      "execution_count": 5,
      "outputs": []
    },
    {
      "cell_type": "markdown",
      "metadata": {
        "id": "MGkva-iIpnvO"
      },
      "source": [
        "Get dataset from repository"
      ]
    },
    {
      "cell_type": "code",
      "metadata": {
        "colab": {
          "base_uri": "https://localhost:8080/",
          "height": 419
        },
        "id": "4Pvlvj_UoQVb",
        "outputId": "01198a35-baf0-476e-da22-5eea93c68ac8"
      },
      "source": [
        "url = 'https://github.com/GLambard/Molecules_Dataset_Collection/raw/master/originals/HIV.csv'\n",
        "\n",
        "data = requests.get(url).content\n",
        "df = pd.read_csv(io.StringIO(data.decode('utf-8')), index_col = 0)\n",
        "df.reset_index(inplace=True)\n",
        "df"
      ],
      "execution_count": 6,
      "outputs": [
        {
          "output_type": "execute_result",
          "data": {
            "text/html": [
              "<div>\n",
              "<style scoped>\n",
              "    .dataframe tbody tr th:only-of-type {\n",
              "        vertical-align: middle;\n",
              "    }\n",
              "\n",
              "    .dataframe tbody tr th {\n",
              "        vertical-align: top;\n",
              "    }\n",
              "\n",
              "    .dataframe thead th {\n",
              "        text-align: right;\n",
              "    }\n",
              "</style>\n",
              "<table border=\"1\" class=\"dataframe\">\n",
              "  <thead>\n",
              "    <tr style=\"text-align: right;\">\n",
              "      <th></th>\n",
              "      <th>smiles</th>\n",
              "      <th>activity</th>\n",
              "      <th>HIV_active</th>\n",
              "    </tr>\n",
              "  </thead>\n",
              "  <tbody>\n",
              "    <tr>\n",
              "      <th>0</th>\n",
              "      <td>CCC1=[O+][Cu-3]2([O+]=C(CC)C1)[O+]=C(CC)CC(CC)...</td>\n",
              "      <td>CI</td>\n",
              "      <td>0</td>\n",
              "    </tr>\n",
              "    <tr>\n",
              "      <th>1</th>\n",
              "      <td>C(=Cc1ccccc1)C1=[O+][Cu-3]2([O+]=C(C=Cc3ccccc3...</td>\n",
              "      <td>CI</td>\n",
              "      <td>0</td>\n",
              "    </tr>\n",
              "    <tr>\n",
              "      <th>2</th>\n",
              "      <td>CC(=O)N1c2ccccc2Sc2c1ccc1ccccc21</td>\n",
              "      <td>CI</td>\n",
              "      <td>0</td>\n",
              "    </tr>\n",
              "    <tr>\n",
              "      <th>3</th>\n",
              "      <td>Nc1ccc(C=Cc2ccc(N)cc2S(=O)(=O)O)c(S(=O)(=O)O)c1</td>\n",
              "      <td>CI</td>\n",
              "      <td>0</td>\n",
              "    </tr>\n",
              "    <tr>\n",
              "      <th>4</th>\n",
              "      <td>O=S(=O)(O)CCS(=O)(=O)O</td>\n",
              "      <td>CI</td>\n",
              "      <td>0</td>\n",
              "    </tr>\n",
              "    <tr>\n",
              "      <th>...</th>\n",
              "      <td>...</td>\n",
              "      <td>...</td>\n",
              "      <td>...</td>\n",
              "    </tr>\n",
              "    <tr>\n",
              "      <th>41122</th>\n",
              "      <td>CCC1CCC2c3c([nH]c4ccc(C)cc34)C3C(=O)N(N(C)C)C(...</td>\n",
              "      <td>CI</td>\n",
              "      <td>0</td>\n",
              "    </tr>\n",
              "    <tr>\n",
              "      <th>41123</th>\n",
              "      <td>Cc1ccc2[nH]c3c(c2c1)C1CCC(C(C)(C)C)CC1C1C(=O)N...</td>\n",
              "      <td>CI</td>\n",
              "      <td>0</td>\n",
              "    </tr>\n",
              "    <tr>\n",
              "      <th>41124</th>\n",
              "      <td>Cc1ccc(N2C(=O)C3c4[nH]c5ccccc5c4C4CCC(C(C)(C)C...</td>\n",
              "      <td>CI</td>\n",
              "      <td>0</td>\n",
              "    </tr>\n",
              "    <tr>\n",
              "      <th>41125</th>\n",
              "      <td>Cc1cccc(N2C(=O)C3c4[nH]c5ccccc5c4C4CCC(C(C)(C)...</td>\n",
              "      <td>CI</td>\n",
              "      <td>0</td>\n",
              "    </tr>\n",
              "    <tr>\n",
              "      <th>41126</th>\n",
              "      <td>CCCCCC=C(c1cc(Cl)c(OC)c(-c2nc(C)no2)c1)c1cc(Cl...</td>\n",
              "      <td>CI</td>\n",
              "      <td>0</td>\n",
              "    </tr>\n",
              "  </tbody>\n",
              "</table>\n",
              "<p>41127 rows × 3 columns</p>\n",
              "</div>"
            ],
            "text/plain": [
              "                                                  smiles activity  HIV_active\n",
              "0      CCC1=[O+][Cu-3]2([O+]=C(CC)C1)[O+]=C(CC)CC(CC)...       CI           0\n",
              "1      C(=Cc1ccccc1)C1=[O+][Cu-3]2([O+]=C(C=Cc3ccccc3...       CI           0\n",
              "2                       CC(=O)N1c2ccccc2Sc2c1ccc1ccccc21       CI           0\n",
              "3        Nc1ccc(C=Cc2ccc(N)cc2S(=O)(=O)O)c(S(=O)(=O)O)c1       CI           0\n",
              "4                                 O=S(=O)(O)CCS(=O)(=O)O       CI           0\n",
              "...                                                  ...      ...         ...\n",
              "41122  CCC1CCC2c3c([nH]c4ccc(C)cc34)C3C(=O)N(N(C)C)C(...       CI           0\n",
              "41123  Cc1ccc2[nH]c3c(c2c1)C1CCC(C(C)(C)C)CC1C1C(=O)N...       CI           0\n",
              "41124  Cc1ccc(N2C(=O)C3c4[nH]c5ccccc5c4C4CCC(C(C)(C)C...       CI           0\n",
              "41125  Cc1cccc(N2C(=O)C3c4[nH]c5ccccc5c4C4CCC(C(C)(C)...       CI           0\n",
              "41126  CCCCCC=C(c1cc(Cl)c(OC)c(-c2nc(C)no2)c1)c1cc(Cl...       CI           0\n",
              "\n",
              "[41127 rows x 3 columns]"
            ]
          },
          "metadata": {
            "tags": []
          },
          "execution_count": 6
        }
      ]
    },
    {
      "cell_type": "markdown",
      "metadata": {
        "id": "hCuMDSAleQYI"
      },
      "source": [
        "# Pre-Processing Data"
      ]
    },
    {
      "cell_type": "code",
      "metadata": {
        "colab": {
          "base_uri": "https://localhost:8080/"
        },
        "id": "JYLxfH_fc3AW",
        "outputId": "5219debb-633c-4762-ea6e-3d6d2a04a7a3"
      },
      "source": [
        "df['activity'].value_counts()"
      ],
      "execution_count": 7,
      "outputs": [
        {
          "output_type": "execute_result",
          "data": {
            "text/plain": [
              "CI    39684\n",
              "CM     1039\n",
              "CA      404\n",
              "Name: activity, dtype: int64"
            ]
          },
          "metadata": {
            "tags": []
          },
          "execution_count": 7
        }
      ]
    },
    {
      "cell_type": "code",
      "metadata": {
        "colab": {
          "base_uri": "https://localhost:8080/",
          "height": 350
        },
        "id": "Uzp6lITlGxlp",
        "outputId": "dff4948f-d6eb-41b8-b9cc-432d8de92be8"
      },
      "source": [
        "sns.countplot(df['activity'])"
      ],
      "execution_count": 8,
      "outputs": [
        {
          "output_type": "stream",
          "text": [
            "/usr/local/lib/python3.7/dist-packages/seaborn/_decorators.py:43: FutureWarning: Pass the following variable as a keyword arg: x. From version 0.12, the only valid positional argument will be `data`, and passing other arguments without an explicit keyword will result in an error or misinterpretation.\n",
            "  FutureWarning\n"
          ],
          "name": "stderr"
        },
        {
          "output_type": "execute_result",
          "data": {
            "text/plain": [
              "<matplotlib.axes._subplots.AxesSubplot at 0x7fd1a48b6e90>"
            ]
          },
          "metadata": {
            "tags": []
          },
          "execution_count": 8
        },
        {
          "output_type": "display_data",
          "data": {
            "image/png": "[encoded data removed]",
            "text/plain": [
              "<Figure size 432x288 with 1 Axes>"
            ]
          },
          "metadata": {
            "tags": [],
            "needs_background": "light"
          }
        }
      ]
    },
    {
      "cell_type": "code",
      "metadata": {
        "colab": {
          "base_uri": "https://localhost:8080/",
          "height": 386
        },
        "id": "aPyU98XxG6B9",
        "outputId": "45ae02e1-7c58-43aa-f204-eb916c4c7a39"
      },
      "source": [
        "sns.displot(df['HIV_active'])"
      ],
      "execution_count": 9,
      "outputs": [
        {
          "output_type": "execute_result",
          "data": {
            "text/plain": [
              "<seaborn.axisgrid.FacetGrid at 0x7fd19c07e9d0>"
            ]
          },
          "metadata": {
            "tags": []
          },
          "execution_count": 9
        },
        {
          "output_type": "display_data",
          "data": {
            "image/png": "[encoded data removed]",
            "text/plain": [
              "<Figure size 360x360 with 1 Axes>"
            ]
          },
          "metadata": {
            "tags": [],
            "needs_background": "light"
          }
        }
      ]
    },
    {
      "cell_type": "code",
      "metadata": {
        "colab": {
          "base_uri": "https://localhost:8080/"
        },
        "id": "w9K3j4js3kA_",
        "outputId": "b3ada838-992a-475c-ca4f-620b25b0fdc6"
      },
      "source": [
        "df['HIV_active'].value_counts()"
      ],
      "execution_count": 10,
      "outputs": [
        {
          "output_type": "execute_result",
          "data": {
            "text/plain": [
              "0    39684\n",
              "1     1443\n",
              "Name: HIV_active, dtype: int64"
            ]
          },
          "metadata": {
            "tags": []
          },
          "execution_count": 10
        }
      ]
    },
    {
      "cell_type": "code",
      "metadata": {
        "colab": {
          "base_uri": "https://localhost:8080/"
        },
        "id": "Ikd7KuZGb8XB",
        "outputId": "50280718-3115-4bf2-aff5-a915bf66e031"
      },
      "source": [
        "df_smis = df['smiles']\n",
        "df_smis = df_smis.to_list()\n",
        "df_smis"
      ],
      "execution_count": 11,
      "outputs": [
        {
          "output_type": "execute_result",
          "data": {
            "text/plain": [
              "['CCC1=[O+][Cu-3]2([O+]=C(CC)C1)[O+]=C(CC)CC(CC)=[O+]2',\n",
              " 'C(=Cc1ccccc1)C1=[O+][Cu-3]2([O+]=C(C=Cc3ccccc3)CC(c3ccccc3)=[O+]2)[O+]=C(c2ccccc2)C1',\n",
              " 'CC(=O)N1c2ccccc2Sc2c1ccc1ccccc21',\n",
              " 'Nc1ccc(C=Cc2ccc(N)cc2S(=O)(=O)O)c(S(=O)(=O)O)c1',\n",
              " 'O=S(=O)(O)CCS(=O)(=O)O',\n",
              " 'CCOP(=O)(Nc1cccc(Cl)c1)OCC',\n",
              " 'O=C(O)c1ccccc1O',\n",
              " 'CC1=C2C(=COC(C)C2C)C(O)=C(C(=O)O)C1=O',\n",
              " 'O=[N+]([O-])c1ccc(SSc2ccc([N+](=O)[O-])cc2[N+](=O)[O-])c([N+](=O)[O-])c1',\n",
              " 'O=[N+]([O-])c1ccccc1SSc1ccccc1[N+](=O)[O-]',\n",
              " 'CC(C)(CCC(=O)O)CCC(=O)O',\n",
              " 'O=C(O)Cc1ccc(SSc2ccc(CC(=O)O)cc2)cc1',\n",
              " 'O=C(O)c1ccccc1SSc1ccccc1C(=O)O',\n",
              " 'CCCCCCCCCCCC(=O)Nc1ccc(SSc2ccc(NC(=O)CCCCCCCCCCC)cc2)cc1',\n",
              " 'Sc1cccc2c(S)cccc12',\n",
              " 'CCOP(N)(=O)c1ccccc1',\n",
              " 'NNP(=S)(NN)c1ccccc1',\n",
              " 'O=P(Nc1ccccc1)(Nc1ccccc1)Nc1ccccc1',\n",
              " 'O=C1C(O)=C(CCCc2ccc(Oc3ccccc3)cc2)C(=O)c2ccccc21',\n",
              " 'CC(C)N(C(C)C)P(=O)(OP(=O)(c1ccc([N+](=O)[O-])cc1)N(C(C)C)C(C)C)c1ccc([N+](=O)[O-])cc1',\n",
              " 'c1ccc2c(c1)Sc1ccccc1S2',\n",
              " 'CC(C)CCS(=O)(=O)O',\n",
              " 'Cc1ccccc1NC(=N)Nc1ccccc1C',\n",
              " 'CCCNP(=S)(NCCC)NCCC',\n",
              " 'CCCCCCCCCCCCNP(=S)(NCCCCCCCCCCCC)NCCCCCCCCCCCC',\n",
              " 'O=C1OC(=O)c2c1ccc1ccccc21',\n",
              " 'S=P(NC1CCCCC1)(NC1CCCCC1)NC1CCCCC1',\n",
              " 'Clc1ccnc2c1ccc1c(Cl)ccnc12',\n",
              " 'O=C(OOC(=O)c1ccccc1)c1ccccc1',\n",
              " 'c1ccc2nsnc2c1',\n",
              " 'S=C1NCCS1',\n",
              " 'CN(C)C1=[S+][Zn-2]2(S1)SC(N(C)C)=[S+]2',\n",
              " 'CN(Cc1cnc2nc(N)nc(N)c2n1)c1ccc(C(=O)NC(CCC(=O)O)C(=O)O)cc1',\n",
              " '[N-]=[N+]=CC(=O)OCC(N)C(=O)O',\n",
              " 'Nc1nc(O)c2nn[nH]c2n1',\n",
              " 'CS(=O)(=O)OCCCCOS(C)(=O)=O',\n",
              " 'Nc1nc(S)c2nc[nH]c2n1',\n",
              " 'Sc1ncnc2[nH]cnc12',\n",
              " 'COc1cc2c(c(OC)c1OC)-c1ccc(OC)c(=O)cc1C(NC(C)=O)CC2',\n",
              " 'CN(CCCl)CCCl',\n",
              " 'CS(C)=O',\n",
              " 'CCCCOB(OCCCC)OCCCC',\n",
              " 'CCCCCOB(OCCCCC)OCCCCC',\n",
              " 'CC1CC(C)(C)OB(OC(C)CC(C)(C)OB2OC(C)CC(C)(C)O2)O1',\n",
              " 'c1ccn2nnnc2c1',\n",
              " 'c1ccn2nncc2c1',\n",
              " 'Clc1ccc(Cl)c(SSc2cc(Cl)ccc2Cl)c1',\n",
              " 'CN(C)c1ccc(SSc2ccc(N(C)C)cc2)cc1',\n",
              " 'Brc1ccc(SSc2ccc(Br)cc2)cc1',\n",
              " 'Cc1ccc(SSc2ccc(C)cc2)cc1',\n",
              " 'COc1ccc(SSc2ccc(OC)cc2)cc1',\n",
              " 'NC1(C(=O)O)CCCC1',\n",
              " 'CC(C)(Br)C(=O)C(Br)Br',\n",
              " 'CCOC(=S)SCCSC',\n",
              " 'CCOCC(C)(CO)CC(C)CO',\n",
              " 'O=C(O)C1CC1',\n",
              " 'O=C(O)C1(O)CC(O)C(O)C(O)C1',\n",
              " 'Nc1c(Cl)cc(Cl)cc1C(=O)O',\n",
              " 'CCCCCOC(=S)S',\n",
              " 'O=C(O)c1ccc([N+](=O)[O-])cc1S(=O)(=O)O',\n",
              " 'NC(=O)c1cc(O)c(O)c(O)c1',\n",
              " 'C1C[S+]2CC[S+]1CC2',\n",
              " 'Nc1cc(Cl)c(S(=O)(=O)O)cc1Cl',\n",
              " 'CC12CCC(C(Br)C1=O)C2(C)CS(=O)(=O)O',\n",
              " 'CCC(C)(C(=O)O)C(=O)O',\n",
              " 'CC(C)C(C(=O)O)C(=O)O',\n",
              " 'CCOC(=O)C(=O)C1CCCCC1=O',\n",
              " 'CCOC(=O)CNS(=O)(=O)c1ccccc1',\n",
              " 'CCN(CC)C(C)(O)CN',\n",
              " 'Cc1cccc2c(=O)c3ccccc3oc12',\n",
              " 'CCCCCCCCCCCC(=O)OCCOCCOCCOCCOCCOCCOCCOCCOCCO',\n",
              " 'C1CN[Co-4]23(N1)(NCCN2)NCCN3',\n",
              " 'CC(C)OC(=S)SSC(=S)OC(C)C',\n",
              " 'O=C(Nc1ccccc1)OCC1OCOC(COC(=O)Nc2ccccc2)C1OC(=O)Nc1ccccc1',\n",
              " 'OCC1OCOC2COCOC12',\n",
              " 'CC(=O)OC1C(OC(C)=O)C(OC(C)=O)C2(CO2)C(OC(C)=O)C1OC(C)=O',\n",
              " 'CCN(CC)C(=O)N1CCN(C)CC1',\n",
              " 'CC(=O)OC1COC(c2ccccc2)OC1C1OC(c2ccccc2)OCC1OC(C)=O',\n",
              " 'Oc1ncnc2[nH]ncc12',\n",
              " 'O=C1O[Cu-5]2(O)(O)(OC1=O)OC(=O)C(=O)O2',\n",
              " 'O=Nc1ccc(O)c(N=O)c1O',\n",
              " 'Oc1ccc(Nc2ccccc2)cc1',\n",
              " 'CCCCCCc1ccc(O)cc1O',\n",
              " 'CCCCCCCC[N+]12CN3CN(CN(C3)C1)C2',\n",
              " 'CC(C)(O)O.CC1(O)C(O)C(O)C1(O)CO',\n",
              " 'OC1COCOC1C(O)C1OCOCC1O',\n",
              " 'CN(C)C(=S)SSC(=S)N(C)C',\n",
              " 'O=[N+]([O-])c1ccc(C=Cc2ccc([N+](=O)[O-])cc2S(=O)(=O)O)c(S(=O)(=O)O)c1',\n",
              " 'CCc1cc[n+]([Mn](SC#N)(SC#N)([n+]2ccc(CC)cc2)([n+]2ccc(CC)cc2)[n+]2ccc(CC)cc2)cc1',\n",
              " 'N=c1[nH][nH]c(=N)[nH]1',\n",
              " 'O=S(=O)(O)CCO',\n",
              " 'O=C1CSC(=S)N1',\n",
              " 'C1CCNCC1.S=C(S)N1CCCCC1',\n",
              " 'C1SCSCS1',\n",
              " 'CCC(CC)(C(=O)O)C(=O)O',\n",
              " 'N#CC(=Cc1ccccc1)c1ccccc1',\n",
              " 'N#CNC(=N)N',\n",
              " 'O=C1C(O)=C(CCCC2CCC3CCCCC3C2)C(=O)c2ccccc21',\n",
              " 'O=[N+]([O-])c1cc([As](=O)(O)O)ccc1O',\n",
              " 'O=C(O)c1ccccc1S',\n",
              " 'CCOC(=O)C(C(=O)OCC)C(C(=O)OCC)C(=O)OCC',\n",
              " 'C=C(C)CS(=O)(=O)O',\n",
              " 'CCSc1ccc(N=[N+]([O-])c2ccc(SCC)c(Cl)c2)cc1Cl',\n",
              " 'COC1C(OC(N)=O)C(O)C(Oc2ccc3c(O)c(NC(=O)c4ccc(O)c(CC=C(C)C)c4)c(=O)oc3c2C)OC1(C)C',\n",
              " 'O=C1C(=Cc2ccccc2)CCCC1=Cc1ccccc1',\n",
              " 'CCCCCCC(O)CCCCCCCCCCC(=O)OCC(COC(=O)CCCCCCCCCCC(O)CCCCCC)OC(=O)CCCCCCCCCCC(O)CCCCCC',\n",
              " 'O=S(=O)(O)CO',\n",
              " 'CCN(CC)CCCCCCNc1cc(OC)cc2c(C)ccnc12',\n",
              " 'CCCC(O)CNCc1ccc(N(C)C)cc1',\n",
              " 'N=C1NC(=O)C(c2ccccc2)S1',\n",
              " 'Cc1cc(SCC(=O)c2ccccc2[N+](=O)[O-])cc(C)[o+]1',\n",
              " 'CC12CCC(CC1)C(C)(C)NC(=N)S2',\n",
              " 'CCSC(SCC)C(O)C(O)C(O)C(O)C(O)C(O)CO',\n",
              " 'O=C(O)C(O)C(O)C(O)C(O)C(O)C(O)CO',\n",
              " 'Nc1ccc(S(=O)(=O)Nc2ccccc2)cc1',\n",
              " 'ClP1(Cl)=NP(Cl)(Cl)=NP(Cl)(Cl)=N1',\n",
              " 'CCN(CC)CC.O=C(Nc1ccc(Cl)cc1)P(=O)(O)c1ccccc1',\n",
              " 'O=S(=O)(O)CCCCBr',\n",
              " 'c1ccc(SSc2ccccc2)cc1',\n",
              " 'O=S(=O)(O)CC(S(=O)(=O)O)S(=O)(=O)O',\n",
              " 'O=S1(=O)CCCc2c1ccc1ccccc21',\n",
              " 'CCOC(=O)C(CCCCS(=O)(=O)O)C(=O)OCC',\n",
              " 'O=S1(=O)CCc2ccccc2C(Br)C1',\n",
              " 'CCCCCCCCS(=O)(=O)O',\n",
              " 'CCOCCCCS(=O)(=O)O',\n",
              " 'CCOC(C)CCCS(=O)(=O)O',\n",
              " 'O=S(=O)(O)CCCCCO',\n",
              " 'O=C(O)CN(CCN(CC(=O)O)CC(=O)O)CC(=O)O',\n",
              " 'CC(=O)N1C(=O)C(=O)c2ccccc21',\n",
              " 'O=C1NC2NC(=O)NC2N1',\n",
              " 'O=C1c2ccccc2C(=O)N1Cc1ccccc1',\n",
              " 'CN(C)c1ccc(N=O)cc1',\n",
              " 'O=S1(=O)CS(=O)(=O)CS(=O)(=O)C1',\n",
              " 'ClC(Cl)(Cl)C1OCOC(C(Cl)(Cl)Cl)OCO1',\n",
              " 'O=C1c2c(O)cc(O)cc2OC(c2ccc(O)c(O)c2)C1O',\n",
              " 'O=C(CCc1ccc(O)cc1)c1c(O)cc(O)cc1OC1OC(CO)C(O)C(O)C1O',\n",
              " 'N=C1NC(=O)CS1',\n",
              " 'O=C1O[Al]23(OC1=O)(OC(=O)C(=O)O2)OC(=O)C(=O)O3',\n",
              " 'O=C1C[N+]23CC[N+]45CC(=O)O[Ni-4]24(O1)(OC(=O)C3)OC(=O)C5',\n",
              " 'CC(=O)c1cc2c(cc1C(C)C)CCC1C(C)(C#N)CCCC21C',\n",
              " 'COC(=O)C1(C)CCCC2(C)c3cc(Br)c(C(C)C)cc3CCC12',\n",
              " 'COC(=O)C1(C)CCCC2(C)c3ccccc3C(OO)CC12',\n",
              " 'COC(=O)C1(C)CCCC2(C)c3ccc(C(C)C)cc3C(=O)CC12',\n",
              " 'C=C(C)c1ccc2c(c1)C(=O)CC1C(C)(C#N)CCCC21C',\n",
              " 'CC(C)c1ccc2c(c1)CCC1C2(C)CCCC1(C)C(O)c1ccccc1',\n",
              " 'CC(=O)OC(C)(C)c1ccc2c(c1)C(=O)CC1C(C)(C#N)CCCC21C',\n",
              " 'CC(O)c1ccc2c(c1)C(O)CC1C(C)(CO)CCCC21C',\n",
              " 'CC(C)C1(Cl)CCC2C3(C)CCCC(C)(C(=O)O)C3CC(Cl)C2(Cl)C1Cl',\n",
              " 'COC(=O)C1(C)CCCC2(C)c3ccc(C(C)C)cc3C(=O)C(Br)C12',\n",
              " 'CNC=O',\n",
              " 'Cc1c2oc3c(C)ccc(C(=O)NC4C(=O)NC(C(C)C)C(=O)N5CCCC5C(=O)N(C)CC(=O)N(C)C(C(C)C)C(=O)OC4C)c3nc-2c(C(=O)NC2C(=O)NC(C(C)C)C(=O)N3CCCC3C(=O)N(C)CC(=O)N(C)C(C(C)C)C(=O)OC2C)c(N)c1=O',\n",
              " 'COc1ccc(CC(N)C(=O)NC2C(CO)OC(n3cnc4c(N(C)C)ncnc43)C2O)cc1',\n",
              " 'O=[As]O',\n",
              " 'CCc1nc(N)nc(N)c1-c1ccc(Cl)cc1',\n",
              " 'CCc1nc(N)nc(N)c1-c1ccc(Cl)c(Cl)c1',\n",
              " 'O=C(NC(CO)C(O)c1ccc([N+](=O)[O-])cc1)C(Cl)Cl',\n",
              " 'CC1(C)NC(=N)NC(=N)N1c1ccc(Cl)c(Cl)c1',\n",
              " 'CC(C)(CO)C(O)C(=O)NCCS(=O)(=O)O',\n",
              " 'O=C(O)CCCc1ccc(N(CCCl)CCCl)cc1',\n",
              " 'CN(C)c1ccc(C(=C2C=CC(=[N+](C)C)C=C2)c2ccc(N(C)C)cc2)cc1',\n",
              " 'CC[N+](C)(C)c1ccc(C(=C2C=CC(=[N+](C)C)C=C2)c2ccc(N(C)C)cc2)cc1',\n",
              " 'CNC1CCc2cc(OC)c(OC)c(OC)c2-c2ccc(OC)c(=O)cc21',\n",
              " 'Nc1cc([As]=[As]c2ccc(O)c(N)c2)ccc1O',\n",
              " 'Oc1nc(O)c2nnoc2n1',\n",
              " 'N=C1NCCS1',\n",
              " 'O=Nc1ccc(O)cc1',\n",
              " 'NNC(=O)C(CC(C(=O)NN)C(=O)NN)C(=O)NN',\n",
              " 'O=C(O)Cc1cc(=O)[nH]n(-c2ccccc2)c1=O',\n",
              " 'NC(=O)C(=O)NN=Cc1ccc([N+](=O)[O-])o1',\n",
              " 'C[N+]1=Cc2ccccc2O[Cu-3]12Oc1ccccc1C=[N+]2C',\n",
              " 'O=S1OCCO1',\n",
              " 'CCCCS(=O)(=O)O',\n",
              " 'COc1ccc2c(ccc(=O)n2C)c1',\n",
              " 'CC(CN1CCCCC1)SSC(C)CN1CCCCC1',\n",
              " 'Cn1c(SSc2ccc(-c3cccnc3)n2C)ccc1-c1cccnc1',\n",
              " 'O=C1N(CO)C2C(N1CO)N(CO)C(=O)N2CO',\n",
              " 'CC(=O)OC1CCC2(C)C3=CCC4(C)C(C(C)=O)CCC4C34C=CC2(C1)C1C(=O)OC(=O)C14',\n",
              " 'CNC(=O)C(C)C1C(=O)C(=C(O)C=CC(C)=CC(C)C2OC3(C)OC(C=CC34CO4)C2C)C(=O)N1C1CCC(O)C(C)O1',\n",
              " 'CCCCCC(O)C1C(=O)OC(C)C(O)C=CC=CC=CC=CC=C(C)C(O)CC(O)CC(O)CC(O)CC(O)CC(O)CC1O',\n",
              " 'CCC(C(=O)O)c1ccc([N+](=O)[O-])cc1.COc1cc2c(cc1OC)C13CCN4CC5=CCOC6CC(=O)N2C1C6C5CC43',\n",
              " 'CCC(C)OC(=O)c1ccccc1C(=O)O.COc1cc2c(cc1OC)C13CCN4CC5=CCOC6CC(=O)N2C1C6C5C4C3',\n",
              " 'O=c1ssc(=Nc2ccccc2)n1-c1ccccc1',\n",
              " 'CCCN=c1ssc(=O)n1CCC',\n",
              " 'CCCCN=c1ssc(=O)n1CCCC',\n",
              " 'O=c1ssc(=Nc2ccc(Cl)cc2)n1-c1ccc(Cl)cc1',\n",
              " 'CCCCCCCN=c1ssc(=O)n1CCCCCCC',\n",
              " 'NS(=O)(=O)c1cc(O)nc(O)n1',\n",
              " 'CS(=O)(=O)c1cc(O)nc(O)n1',\n",
              " 'CCS(=O)(=O)c1cc(O)nc(O)n1',\n",
              " 'O=S(=O)(Cc1ccccc1)c1cc(O)nc(O)n1',\n",
              " 'Cc1oc(C)c2c1C(=O)c1ccccc1C2=O',\n",
              " 'Nc1nc(O)c2c(n1)NCC(CNc1ccc(C(=O)NC(CCC(=O)O)C(=O)O)cc1)N2C=O',\n",
              " 'CCOC(=O)Nc1ccc(C(=O)C=Cc2ccc(N(CC)CC)cc2)cc1',\n",
              " 'CC1NC(C)SC(C)S1',\n",
              " 'N#CNC(=N)NC(=O)C=CC=Cc1ccc(Cl)cc1',\n",
              " 'O=C(O)C=CC(=O)NNC(=O)C=CC(=O)O',\n",
              " 'CC1C(=O)N2C(=O)C(C)C(C)C(=O)N2C(=O)C1C',\n",
              " 'O=C(O)CCC(=O)NNC(=O)CCC(=O)O',\n",
              " 'Nc1ccc(-c2ccc(N)c(S(=O)(=O)O)c2)cc1S(=O)(=O)O',\n",
              " 'CCC(CS(=O)(=O)O)[N+](=O)[O-]',\n",
              " 'Oc1nnc(O)c2ncccc12',\n",
              " 'Clc1nc(Cl)nc(Nc2ccccc2Cl)n1',\n",
              " 'O=Nc1ccc(O)c2ncccc12',\n",
              " 'Oc1ccc(Cl)cc1C(c1cc(Cl)ccc1O)C(Cl)(Cl)Cl',\n",
              " 'CCCCCCCCCCCCCCCCCC(=O)OCC(O)CO',\n",
              " 'c1ccc2c(c1)SC1=[S+][Cu-3]3([S+]=C4Sc5ccccc5N43)N12',\n",
              " 'Oc1c(Cl)cc(Cl)c2cccnc12',\n",
              " 'CC(=O)Nc1c2sscc-2n(C)c1=O',\n",
              " '[O-][N+]1=Cc2ccc[o+]2[Cu-3]12[N+]([O-])=Cc1ccc[o+]12',\n",
              " 'O=C1O[Cu-3]2(Nc3ccccc31)Nc1ccccc1C(=O)O2',\n",
              " 'O=C(Oc1cccc2cccnc12)c1ccccc1',\n",
              " 'CCN(CC)C(=S)S[Se](SC(=S)N(CC)CC)(SC(=S)N(CC)CC)SC(=S)N(CC)CC',\n",
              " 'C1COCCN1.S=C(S)N1CCOCC1',\n",
              " 'CC1=NNC(=O)C1',\n",
              " 'O=c1ccc2cc(Cl)ccc2o1',\n",
              " 'CN(C)c1ccc(C=Cc2ccnc3ccccc23)cc1',\n",
              " 'CN(C)c1ccc(C=Cc2ccc3ccccc3[n+]2C)cc1',\n",
              " 'CN(C)c1ccc(C=Cc2cc[n+](C)c3ccccc23)cc1',\n",
              " 'c1cnc2c(c1)ccc1cccnc12',\n",
              " 'Cc1ccc2ccc3ccc(C)nc3c2n1',\n",
              " 'O=S(=O)(O)c1ccc2c(N=Nc3ccc(S(=O)(=O)O)c4ccccc34)c(O)c(S(=O)(=O)O)cc2c1',\n",
              " 'O=C1OC(=O)C2C1C(c1ccccc1)N1C3C(=O)OC(=O)C3C(c3ccccc3)N21',\n",
              " 'CCN(Cc1cccc(S(=O)(=O)O)c1)c1ccc(C(=C2C=CC(=[N+](CC)Cc3cccc(S(=O)(=O)O)c3)C=C2)c2ccccc2S(=O)(=O)O)cc1',\n",
              " 'COc1ccc(C=CC(=O)O)cc1OC',\n",
              " 'Cc1ccc(S(=O)(=O)Nc2cccc3c(O)ncnc23)cc1',\n",
              " 'CCN(CCO)CCCC(C)Nc1ccnc2cc(Cl)ccc12.O=S(=O)(O)O',\n",
              " 'c1ccc(C2=NC3(CCCCC3)N=C2c2ccccc2)cc1',\n",
              " 'CSc1nc(N)nc(N)n1',\n",
              " 'Nc1nc(N)nc(-c2ccccc2-c2nc(N)nc(N)n2)n1',\n",
              " 'C1CN2CN1CN1CCN(C1)C2',\n",
              " 'N=C(N)Nc1nnn[nH]1',\n",
              " 'O=[N+]([O-])c1cc(S(=O)(=O)c2ccc(Cl)c([N+](=O)[O-])c2)ccc1Cl',\n",
              " 'O=C1N(Cl)C2(c3ccccc3)N(Cl)C(=O)N(Cl)C2(c2ccccc2)N1Cl',\n",
              " 'Nc1nc(N)nc(SCCOCCSc2nc(N)nc(N)n2)n1',\n",
              " 'NNC(=O)c1ccccc1SSc1ccccc1C(=O)NN',\n",
              " 'O=C(NN=Cc1ccc(Cl)cc1Cl)c1ccccc1SSc1ccccc1C(=O)NN=Cc1ccc(Cl)cc1Cl',\n",
              " 'CCCC1CC=CC=CC=CC=CC(OC2OC(C)C(O)C(N)C2O)CC(O)C(C(=O)O)C(O)CC(=O)CC(O)CCCC(=O)CC(O)C(CC)C(=O)O1.O=S(=O)(O)O',\n",
              " 'O=c1c2ccccc2oc2cc([N+](=O)[O-])cc([N+](=O)[O-])c12',\n",
              " 'CC12CCC(C(=O)OC1=O)C2(C)C',\n",
              " 'C[Si](C)(CCC(=O)O)O[Si](C)(C)CCC(=O)O',\n",
              " 'O=[N+]([O-])c1ccc(SSc2ccc([N+](=O)[O-])cc2)cc1',\n",
              " 'COc1ccc(C2c3cc(OC)c(OC)cc3CC3C(=O)OCC32)cc1OC',\n",
              " 'O=S(=O)(O)C(Br)(Br)Br',\n",
              " 'O=C(O)c1ccc(S(=O)(=O)O)o1',\n",
              " 'S=c1[nH][nH]c(=S)s1',\n",
              " 'OCC(S)CS',\n",
              " 'O=C(O)C(O)(O)C(O)(O)C(=O)O',\n",
              " 'CC1=[O+][V-]2(=O)([O+]=C(C)C1)[O+]=C(C)CC(C)=[O+]2',\n",
              " 'CC1=[O+][Zr]234([O+]=C(C)C1)([O+]=C(C)CC(C)=[O+]2)([O+]=C(C)CC(C)=[O+]3)[O+]=C(C)CC(C)=[O+]4',\n",
              " 'CC(=O)Oc1ccc2c(c1)Oc1cc(OC(C)=O)ccc1C21OC(=O)c2ccccc21',\n",
              " 'N=c1[nH]ncs1',\n",
              " 'CN1CSC(=S)N(C)C1',\n",
              " 'CCCCC(CC)COS(=O)(=O)O',\n",
              " 'O=C1CSC(=O)N1c1ccccc1',\n",
              " 'O=C(O)C1=NN(c2ccc(S(=O)(=O)O)cc2)C(=O)C1N=Nc1ccc(S(=O)(=O)O)cc1',\n",
              " 'Oc1ccc(O)c([PH](c2ccccc2)(c2ccccc2)c2ccccc2)c1',\n",
              " 'CN(C)C(=S)SC(=S)N(C)C',\n",
              " 'O=Nc1ccc(N=O)cc1',\n",
              " 'O=c1oc(=O)c2cc3c(=O)oc(=O)c3cc12',\n",
              " 'S=C(SSSSC(=S)N1CCCCC1)N1CCCCC1',\n",
              " 'CC(C)S(=O)(=O)O',\n",
              " 'CCN(CC)C(=S)S',\n",
              " 'O=C1NS(=O)(=O)c2ccccc21',\n",
              " 'O=C1c2ccc(O)c(O)c2C(=O)c2c(O)ccc(O)c21',\n",
              " 'OCC1OC(n2cnc3c(Cl)ncnc32)C(O)C1O',\n",
              " 'Oc1ncc(S)c(O)n1',\n",
              " 'Cc1nc(N)c2cnn(C)c2n1',\n",
              " 'Cc1n[nH]c2c(N(C)C)ncnc12',\n",
              " 'Cc1cc(O)cc(C)c1Cl',\n",
              " 'CC(C)=C1C=C2CCC3C(C)(C(=O)O)CCCC3(C)C2CC1',\n",
              " 'CCN(CC)c1ccc(C(=C2C=CC(=[N+](CC)CC)C=C2)c2ccccc2)cc1.O=S(=O)(O)O',\n",
              " 'Cc1cc(-c2ccc(N=Nc3cc(S(=O)(=O)O)c4ccccc4c3N)c(C)c2)ccc1N=Nc1cc(S(=O)(=O)O)c2ccccc2c1N',\n",
              " 'O=Nc1ccc2ccccc2c1O',\n",
              " 'c1ccc(N2N=C3N(c4ccccc4)C2N3c2ccccc2)cc1',\n",
              " 'CN(C)c1ccc(C=C2SC(=S)NC2=O)cc1',\n",
              " 'Cc1ccc2nc(-c3ccc(N=NNc4ccc(-c5nc6ccc(C)c(S(=O)(=O)O)c6s5)cc4)cc3)sc2c1S(=O)(=O)O',\n",
              " 'O=C(N=Nc1ccccc1)NNc1ccccc1.O=C(NNc1ccccc1)NNc1ccccc1',\n",
              " 'Cc1cc(O)cc(O)c1N=Nc1ccc([N+](=O)[O-])cc1',\n",
              " 'Nc1ccc(N=Nc2ccc(C=Cc3ccc(N=Nc4ccc(N)c5ccccc45)cc3S(=O)(=O)O)c(S(=O)(=O)O)c2)c2ccccc12',\n",
              " 'Nc1ccc2ccccc2c1N=Nc1ccc(C=Cc2ccc(N=Nc3c(N)ccc4ccccc34)cc2S(=O)(=O)O)c(S(=O)(=O)O)c1',\n",
              " 'O=C(O)CC1OCC=C2CN3CCC45C6=CC(=O)C(=O)C([N+](=O)[O-])=C6NC4C1C2CC35',\n",
              " 'O=[N+]([O-])c1ccc([As](=O)(O)O)cc1',\n",
              " 'CC(C)c1cccc(C(C)C)c1O',\n",
              " 'CCCCCCCCCCCCCCC(C(=O)O)S(=O)(=O)O',\n",
              " 'O=c1c(-c2ccc(O)cc2)coc2cc(OC3OC(CO)C(O)C(O)C3O)cc(O)c12',\n",
              " 'Cc1c(O)ccc2c(O)c(NC(=O)c3ccc4c(c3)CCC(C)(C)O4)c(=O)oc12',\n",
              " 'C1CN2CCOB(O1)OCC2',\n",
              " 'CCO[Si](C)(OCC)OCC',\n",
              " 'CCCCOC(=S)SSC(=S)OCCCC',\n",
              " 'O=c1c2ccccc2c2ccc3c4ccc5c(=O)c6ccccc6c6ccc(c7ccc1c2c73)c4c56',\n",
              " 'CC[Sn](Cl)(CC)CC',\n",
              " 'Cc1cc(=O)oc2cc(O)cc(O)c12',\n",
              " 'COC(=O)c1ccccc1SSc1ccccc1C(=O)OC',\n",
              " 'COc1ccc2c(c1OC)C(=O)OC2C1c2c(cc3c(c2OC)OCO3)CCN1C',\n",
              " 'O=[N+]([O-])c1ccc(N=Nc2ccc(O)c3c(O)cc(S(=O)(=O)O)cc23)cc1S(=O)(=O)O',\n",
              " 'CCCC(C)SP(=S)(SC(C)CCC)SC(C)CCC',\n",
              " 'CCN(CC)CCCC(C)Nc1cc(-c2ccccc2)nc2ccc(OC)cc12.O=P(O)(O)O',\n",
              " 'CCCCCCCCCCCCCCCCCCN(C)C',\n",
              " 'CC1OC(OC2C(COc3cc(O)c4c(c3)OC(c3ccc(O)cc3)CC4=O)OOC(CO)C2O)C(O)C(O)C1O',\n",
              " 'O=Nc1ccc(O)cc1O',\n",
              " 'CCCCCCOP(OCCCCCC)OCCCCCC',\n",
              " 'CC(=NN=C(C)C1CC(CC(=O)O)C1(C)C)C1CC(CC(=O)O)C1(C)C',\n",
              " 'CCCCCCCCCCCCCCCC[N+](C)(C)CCN(Cc1ccc(OC)cc1)c1ncccn1',\n",
              " 'CCCCCCCCCCCCCCCCC(C(=O)O)S(=O)(=O)O',\n",
              " 'Nc1ccc2c(c1)N[Cu-3]1(Nc3cc(N)ccc3O1)O2',\n",
              " 'C1CCc2nnnn2CC1',\n",
              " 'CC1=[O+][Cu-3]2([O+]=C(C)CC(Nc3ccccc3)=[O+]2)[O+]=C(Nc2ccccc2)C1',\n",
              " 'O=[N+]([O-])c1ccc(S(=O)(=O)NN2CCOCC2)cc1',\n",
              " 'O=[N+]([O-])c1ccc(S(=O)(=O)NN=Cc2ccco2)cc1',\n",
              " 'O=[N+]([O-])c1ccc(S(=O)(=O)NN=C2CCCCC2)cc1',\n",
              " 'CC(=O)Nc1ccc(S(=O)(=O)NN=Cc2ccco2)cc1',\n",
              " 'CC(C=Cc1ccccc1)=NNS(=O)(=O)c1ccc([N+](=O)[O-])cc1',\n",
              " 'CC1CCCN1c1ccnc2cc(Cl)ccc12',\n",
              " 'CN(C)C(=O)N1CC[N+](C)([O-])CC1',\n",
              " 'Cc1ccc2oc(=O)ccc2c1',\n",
              " 'COc1cc(C)cc2c1OC(c1ccccc1)CC2=O',\n",
              " 'CC(=O)c1c(O)c(C)c(O)c2c1OC1=CC(=O)C(C(C)=O)C(=O)C12C',\n",
              " 'C=C1C(=O)OC(CCCCCCCCCCCCC)C1C(=O)O',\n",
              " 'CC(CCC(C)C(=O)O)C(=O)O',\n",
              " 'O=C(Nc1ccccc1)Nc1ccccn1',\n",
              " 'CC1CCCC2(C1)OCC(O)CO2',\n",
              " 'O=c1c2cc3c(=O)n(O)c(=O)c3cc2c(=O)n1O',\n",
              " 'Nc1ccc(S(=O)(=O)c2ccc(N)cc2)cc1',\n",
              " 'CC(=NNc1ccc([N+](=O)[O-])cc1[N+](=O)[O-])c1ccccc1',\n",
              " 'CCCCC(CC)CO[Si](OCC(CC)CCCC)(OCC(CC)CCCC)OCC(CC)CCCC',\n",
              " 'O=C(O)C1C2OC3C(OC(=O)C31)C2Br',\n",
              " 'Cc1c(C(=O)O)c(O)cc2c1C(=O)c1c(O)c(OC3OC(CO)C(O)C(O)C3O)c(O)c(O)c1C2=O',\n",
              " 'CC1=CC(=C(c2cc(C)c(O)c(Br)c2)c2ccccc2S(=O)(=O)O)C=C(Br)C1=O',\n",
              " 'O=[N+]([O-])c1ccc(Cl)c([N+](=O)[O-])c1',\n",
              " 'O=C(O)c1cc(I)cc(I)c1O',\n",
              " 'NC(CO)(CO)CO',\n",
              " 'C=CCc1cc(-c2cc(CC=C)c(O)c(CN(CC)CC)c2)cc(CN(CC)CC)c1O',\n",
              " 'S=P(N1CC1)(N1CC1)N1CC1',\n",
              " 'CC(CCN1CCN(CCC(C)CC(C)(C)C)S1(=O)=O)CC(C)(C)C',\n",
              " 'O=C1NCCN1N=Cc1ccc([N+](=O)[O-])o1',\n",
              " 'CCCSP(SCCC)SCCC',\n",
              " 'CCCCOP(=S)(OCCCC)OCCCC',\n",
              " 'COP(=O)(OC)OC=C(Cl)Cl',\n",
              " 'CC(O)=C[PH](c1ccccc1)(c1ccccc1)c1ccccc1',\n",
              " 'CC(=O)C[PH](c1ccccc1)(c1ccccc1)c1ccccc1',\n",
              " 'OC(=C[PH](c1ccccc1)(c1ccccc1)c1ccccc1)c1ccccc1',\n",
              " 'O=C(C[PH](c1ccccc1)(c1ccccc1)c1ccccc1)c1ccccc1',\n",
              " 'O=C1CSC(=O)N1',\n",
              " 'S=C1SCCS1',\n",
              " 'OCC1(CO)CCCC(CO)(CO)C1O',\n",
              " 'CCCCCCC(=O)C(O)C(O)C(=O)CCCCCCCC(=O)O',\n",
              " 'Nc1cc(Cl)ccc1S',\n",
              " 'O=C1c2ccccc2C(=O)c2c1ccc(O)c2O',\n",
              " 'CCOc1ccc(N=Nc2ccc(N)cc2N)cc1',\n",
              " 'O=[N+]([O-])c1ccc2c(N=Nc3ccc4ccccc4c3O)c(O)cc(S(=O)(=O)O)c2c1',\n",
              " 'Cc1cc(C2(c3ccc(O)c(C)c3)OS(=O)(=O)c3ccccc32)ccc1O',\n",
              " 'O=C1c2ccccc2C(=O)c2c(Nc3cccc4c3C(=O)c3ccccc3C4=O)cccc21',\n",
              " 'O=S(=O)(O)c1cc2ccc1ccc1ccc(cc1S(=O)(=O)O)nnc1ccc(ccc3ccc(cc3S(=O)(=O)O)nn2)c(S(=O)(=O)O)c1',\n",
              " 'Nc1c(N=Nc2ccc(-c3ccc(N=Nc4cc(S(=O)(=O)O)c5ccccc5c4O)cc3)cc2)cc(S(=O)(=O)O)c2ccccc12',\n",
              " 'N=C(N)N.O=S(=O)(O)O',\n",
              " 'CC[N+]12CN3CN(CN(C3)C1)C2',\n",
              " 'O=C1C=C2CC3(O)COc4c(ccc(O)c4O)C3=C2C=C1O',\n",
              " 'O=C(O)CN(CCN(CC(=O)O)CC(=O)O)CCN(CC(=O)O)CC(=O)O',\n",
              " 'O=C1C[N+]23CC[N+]45CC(=O)O[Cu-5]24(O1)(OC(=O)C3)OC(=O)C5',\n",
              " 'OCCCN(CCO)CCN(CCCO)CCCO',\n",
              " 'Cc1nc(N)nc(N)c1-c1ccc(Cl)c(Cl)c1',\n",
              " 'O=S(c1ccccc1O)S(=O)c1ccccc1O',\n",
              " 'COc1c2c(cc3c1OCO3)C13C=CC(OC)CC1N(CC3)C2.[O-][Cl+3]([O-])([O-])O',\n",
              " 'CC1=C2C(=O)C3C(CC=C4CC(O)CCC43C)C2CCC12OC1CC(C)CNC1C2C',\n",
              " 'CC1OC(OC2C=C3CCC4C(CCC5(C)C(c6ccc(=O)oc6)CCC45O)C3(C)CC2)C(O)C(O)C1O',\n",
              " 'COC1CC(OC2CCC3(C=O)C4CCC5(C)C(C6=CC(=O)OC6)CCC5(O)C4CCC3(O)C2)OC(C)C1O',\n",
              " 'CC1OC(OC2C=C3CCC4C(CCC5(C)C(c6ccc(=O)oc6)CCC45O)C3(C)CC2)C(O)C(OC2OC(CO)C(O)C(O)C2O)C1O',\n",
              " 'CCC(C)C(=O)OC1C(O)C2C(CN3CC(C)CCC3C2(C)O)C2CC34OC5(O)C(OC(=O)C(C)(O)CC)CCC3(C)C5C(OC(C)=O)C(OC(C)=O)C4C21O',\n",
              " 'Cc1cc(O)n2cnnc2n1',\n",
              " 'Nc1c2ccccc2nc2ccccc12',\n",
              " 'O=C1C2=C(C(=O)c3ccccc31)C(O)(S(=O)(=O)O)C(O)(S(=O)(=O)O)C1N=CC=CC21',\n",
              " 'CC(=O)C1C(=O)OC2C3C=CC(C3)C2C1=O',\n",
              " 'CC(C)(O)S(=O)(=O)O',\n",
              " 'CC(=O)Nc1ccccc1',\n",
              " '[O-][N+]1=c2c([nH]c3ccccc23)=[O+][Cu-3]12[O+]=c1[nH]c3ccccc3c1=[N+]2[O-]',\n",
              " 'C[n+]1ccccc1C=NO',\n",
              " 'COc1ccc(C(=O)c2ccccc2)c(O)c1',\n",
              " 'CCCCCCCCOC(=O)CC(C(=O)OCCCCCCCC)S(=O)(=O)O',\n",
              " 'CCCCCCCCCCCCCOC(=O)CC(C(=O)OCCCCCCCCCCCCC)S(=O)(=O)O',\n",
              " 'O=C1c2ccccc2C(=O)c2c1cc(S(=O)(=O)O)c(O)c2O',\n",
              " 'O=C(O)c1cc(N=Nc2cccc([N+](=O)[O-])c2)ccc1O',\n",
              " 'O=C1C=CC(=C(c2ccc(O)cc2)c2ccc(O)cc2)C=C1',\n",
              " 'O=S(=O)(O)c1ccc(N=Nc2cc(S(=O)(=O)O)c3ccccc3c2O)c2ccccc12',\n",
              " 'O=S(=O)(O)c1ccc(N=Nc2ccc(N=Nc3cccc4ccccc34)c(S(=O)(=O)O)c2)cc1',\n",
              " 'O=S1(=O)OC(c2cc(Cl)c(O)c(Br)c2)(c2cc(Cl)c(O)c(Br)c2)c2ccccc21',\n",
              " 'Cc1c(C2(c3cc(Br)c(O)c(Br)c3C)OS(=O)(=O)c3ccccc32)cc(Br)c(O)c1Br',\n",
              " 'O=S1(=O)OC(c2cc(Br)c(O)c(Br)c2)(c2cc(Br)c(O)c(Br)c2)c2ccccc21',\n",
              " 'Cc1c(C2(c3cc(C(C)C)c(O)c(Br)c3C)OS(=O)(=O)c3ccccc32)cc(C(C)C)c(O)c1Br',\n",
              " 'Nc1c(N=Nc2ccc([N+](=O)[O-])cc2)c(S(=O)(=O)O)cc2cc(S(=O)(=O)O)c(N=Nc3ccccc3)c(O)c12',\n",
              " 'O=S1(=O)OC(c2ccc(O)c(Cl)c2)(c2ccc(O)c(Cl)c2)c2ccccc21',\n",
              " 'O=S(=O)(O)c1cccc2c(N=Nc3ccc(N=Nc4ccc(Nc5ccccc5)c5c(S(=O)(=O)O)cccc45)c4ccccc34)cccc12',\n",
              " 'O=S(=O)(O)c1cc(S(=O)(=O)O)c2c(N=Nc3ccc(N=Nc4ccccc4)cc3)c(O)ccc2c1',\n",
              " 'N=C(N)NN.O=C(O)O',\n",
              " 'N=C(N)NCCCC(N)C(=O)O',\n",
              " 'CN(C)P(=O)(N(C)C)N(C)C',\n",
              " 'O=C1C=C2C(=CCOC2O)O1',\n",
              " 'O=C(O)C=CCCCCCCCCC(=O)O',\n",
              " 'CC(=O)C(C)(CCC(=O)O)CCC(=O)O',\n",
              " 'N#CNC(=N)NC#N',\n",
              " 'N#CN(CS(=O)(=O)O)C(=N)N',\n",
              " 'N=c1nc2[nH][nH]c(=N)n2c(=N)[nH]1',\n",
              " 'Nc1ccccc1SSc1ccccc1N',\n",
              " 'CC(C)(C)CC(C)(C)SSc1n[nH]c(=S)s1',\n",
              " 'CC(CN(C)C)Sc1nnc(SC(C)CN(C)C)s1',\n",
              " 'C=Cc1ccc(CC)cn1',\n",
              " 'O=C(O)c1cc(O)ccc1O',\n",
              " 'Oc1ccccc1C1SC(c2ccccc2O)SC(c2ccccc2O)S1',\n",
              " 'O=S(=O)(O)C(C(I)I)S(=O)(=O)O',\n",
              " 'O=S(=O)(O)CS(=O)(=O)O',\n",
              " 'O=C1C=C(O)C(=O)c2ccccc21',\n",
              " 'O=C1C(=C2Nc3ccc(S(=O)(=O)O)cc3C2=O)Nc2ccc(S(=O)(=O)O)cc21',\n",
              " 'Oc1ccc2c(c1)OCC1(O)Cc3cc(O)c(O)cc3C21',\n",
              " 'Oc1cc2c(cc1O)C1c3ccc(O)c(O)c3OCC1(O)C2',\n",
              " 'CC[n+]1c2ccc(C)cc2nc2c3ccccc3c(N)cc21',\n",
              " 'Cc1cc(C(=C2C=CC(=[N+](C)C)C=C2)c2ccc([N+](C)(C)C)cc2)ccc1N(C)C',\n",
              " 'CCN(CC)c1ccc(C(=C2C=CC(=[N+](CC)CC)C=C2)c2ccc(N(CC)CC)cc2)cc1',\n",
              " 'O=C1NC(=O)C(c2ccccc2)(c2ccccc2)N1',\n",
              " 'O=c1ccc2ccccc2o1',\n",
              " 'CN(C)P(=O)(OP(=O)(N(C)C)N(C)C)N(C)C',\n",
              " 'CCOP(=S)(OCC)Oc1cc(C)nc(C(C)C)n1',\n",
              " 'CCOP(=S)(OCC)Oc1ccc2c(C)c(Cl)c(=O)oc2c1',\n",
              " 'C=CS(=O)(=O)O',\n",
              " 'Ic1nc(-c2ccccc2)[nH]c1I',\n",
              " 'CC1(C)SSC(C)(C)SS1',\n",
              " 'CCCC(C(=O)OCC(C)N1CCCC1(C)C)C1CCCC1',\n",
              " 'O=C(OCCN1CCCC12CCCCC2)C(c1ccccc1)C1CCCC1',\n",
              " 'CC(=O)C1CCC2C1(C)CC1OC13C21C=CC2(CC(O)CCC23C)C2C(=O)OC(=O)C21',\n",
              " 'CC12CCC(=O)C=C1CCC1C2C(O)CC2(C)C1CCC2(O)C(=O)COC(=O)CCC(=O)O',\n",
              " 'C[N+]1(CCC(C(N)=O)(c2ccccc2)c2ccccc2)CCCC12CCCCC2',\n",
              " 'COC1C(OC(=O)C=CC=CC=CC=CC(=O)O)CCC2(CO2)C1C1(C)OC1CC=C(C)C',\n",
              " 'CN(C)C1C(O)=C(C(N)=O)C(=O)C2(O)C(O)=C3C(=O)c4c(O)cccc4C(C)(O)C3C(O)C12',\n",
              " 'O=c1c(O)c(-c2ccc(O)c(O)c2)oc2cc(O)cc(O)c12',\n",
              " 'CC1OC(OCC2OC(Oc3c(-c4ccc(O)c(O)c4)oc4cc(O)cc(O)c4c3=O)C(O)C(O)C2O)C(O)C(O)C1O',\n",
              " 'CC1OC(Oc2c(-c3ccc(O)c(O)c3)oc3cc(O)cc(O)c3c2=O)C(O)C(O)C1O',\n",
              " 'CC1OC(OCC2OC(Oc3c(-c4ccc(O)cc4)oc4cc(OC5OC(C)C(O)C(O)C5O)cc(O)c4c3=O)C(O)C(O)C2O)C(O)C(O)C1O',\n",
              " 'CN(C)c1ccc2nc3c(ccc4ccccc43)[o+]c2c1',\n",
              " 'CCN(CC)CCCOP(=O)(OCCCN(CC)CC)OCCCN(CC)CC',\n",
              " 'Oc1nnc(O)c2c1[nH]c(=S)n2-c1ccccc1',\n",
              " 'Cc1cc(=O)oc2cc(O)ccc12',\n",
              " 'Cc1ncc2c(n1)NC(=O)NC2',\n",
              " 'O=C(O)CCCCCCCCCCCC(=O)O',\n",
              " 'O=S(=O)(O)c1ccc(NN(c2c(O)ccc3ccccc23)S(=O)(=O)O)cc1',\n",
              " 'Cc1cc(O)ccc1C1(c2ccc(O)cc2C)OS(=O)(=O)c2ccccc21',\n",
              " 'COc1cc(-c2ccc(N=Nc3ccc4c(S(=O)(=O)O)cc(S(=O)(=O)O)c(N)c4c3O)c(OC)c2)ccc1N=Nc1ccc2c(S(=O)(=O)O)cc(S(=O)(=O)O)c(N)c2c1O',\n",
              " 'CCN(Cc1cccc(S(=O)(=O)O)c1)c1ccc(C(=C2C=CC(=[N+](CC)Cc3cccc(S(=O)(=O)O)c3)C=C2)c2ccc(S(=O)(=O)O)cc2)cc1',\n",
              " 'NNC(=O)c1ccncc1',\n",
              " 'COC1C(O)CCC2(CO2)C1C1(C)OC1CC=C(C)C',\n",
              " 'COc1ccc2c(c1)CCCN2CCCCCCCCCCN(CCC(C)C)CCC(C)C',\n",
              " 'CC12CCC(=O)C=C1CCC1C2C(=O)CC2(C)C1CCC2(O)C(=O)CO',\n",
              " 'CC(=O)C1CCC2C3CCC4=CC(=O)CCC4(C)C3CCC12C',\n",
              " 'C1CN1c1nc(N2CC2)nc(N2CC2)n1',\n",
              " 'CC(=O)C1CCC2C1(C)CC=C1C23C=CC2(CC(O)CCC12C)C(C(=O)O)C3C(=O)O',\n",
              " 'Cc1cc(S(=O)(=O)O)ccc1N=Nc1ccc(N=Nc2cc(S(=O)(=O)O)c3ccccc3c2O)c(C)c1',\n",
              " 'CC12CCC3C(CC=C4CC(O)CCC43C)C1CCC2=O',\n",
              " 'CC(=O)OCC[N+](C)(C)C.CCCCC(CC)COC(=O)CC(C(=O)OCC(CC)CCCC)S(=O)(=O)O',\n",
              " 'Oc1nnc(O)c2[nH]cnc12',\n",
              " 'COc1ccc2nc(C)cc(NCCCCCCCCCNc3cc(C)nc4ccc(OC)cc34)c2c1',\n",
              " 'CCC(N)CS(=O)(=O)O',\n",
              " 'Cc1cc(N=Nc2ccc([N+](=O)[O-])cc2)c(NCC(O)C(O)C(O)CO)cc1C',\n",
              " 'N#CC1(c2ccccc2)CCOCC1',\n",
              " 'CC1=CC(C)=Nc2ccccc2N1',\n",
              " 'COc1cc2c(cc1OC)NC(C)=CC(C)=N2',\n",
              " 'COc1ccc2c(c1OC)CC1COCC21',\n",
              " 'COc1cc([N+](=O)[O-])c([N+](=O)[O-])c([N+](=O)[O-])c1OC',\n",
              " 'O=C1CCc2ccccc2O1',\n",
              " 'CC1=CC(C)=Nc2cc(Cl)ccc2N1',\n",
              " 'CCOC=C1C(=O)N(C(C)=O)c2cc(OC)c(OC)cc21',\n",
              " 'C1=C(c2ccccc2)Nc2ccccc2N=C1c1ccccc1',\n",
              " 'COc1ccc2c(c1OC)C(=O)OC2c1c2c(c(OC)c3c1OCO3)C(C1OC(=O)c3c1ccc(OC)c3OC)N(C)CC2',\n",
              " 'CN1BN(C)BN(C)B1',\n",
              " 'O=c1oc2ccc([N+](=O)[O-])cc2cc1Br',\n",
              " 'Cc1ccc(C=C2CCOC2=O)cc1',\n",
              " 'S=P(N1CCOCC1)(N1CC1)N1CC1',\n",
              " 'O=S(=O)(O)c1ccc(N=Nc2ccc(O)cc2O)cc1',\n",
              " 'Cc1ccc(N=Nc2c(O)c(S(=O)(=O)O)cc3cc(S(=O)(=O)O)ccc23)c(C)c1',\n",
              " 'O=S1(=O)OC(c2ccc(O)cc2)(c2ccc(O)cc2)c2ccccc21',\n",
              " 'N=C1C=CC(=C(c2ccc(N)cc2)c2ccc(N)cc2)C=C1',\n",
              " 'Cc1ccc(N=Nc2ccc(O)c(N=Nc3ccc(S(=O)(=O)O)cc3)c2O)c(C)c1',\n",
              " 'Cc1cc(C2(c3cc(C)c(O)cc3C)OS(=O)(=O)c3ccccc32)c(C)cc1O',\n",
              " 'CCCCCCCCCCCCCCCCCC(=O)O.CCN(CC)c1ccc2c(-c3ccccc3C(=O)O)c3ccc(N(CC)CC)cc3[o+]c2c1',\n",
              " 'CNCCS(=O)(=O)O',\n",
              " 'CSP(=S)(SC)SC(C)c1ccc(C)cc1',\n",
              " 'CSSC(SC)SC',\n",
              " 'OC1CN=C2C=CC=CN2C1',\n",
              " 'CC(=O)Oc1ccc2c(oc(=O)c3nc(C)oc32)c1C',\n",
              " 'N#CCCN1C(=O)CCC2(CCC(=O)N(CCC#N)C2=O)C1=O',\n",
              " 'CSc1ccc(C=NC(=N)SN)cc1C',\n",
              " 'O=c1oc2c(ccc3c(O)cccc32)c2c1CCCC2',\n",
              " 'Nc1nc(N)nc(Nc2ccc([As](=O)(O)O)cc2)n1',\n",
              " 'CC(=O)C(CCC(=O)O)(CCC(=O)O)C(C)C',\n",
              " 'Cc1cnc2cc(Cl)ccc2c1NCCN(CC(C)C)CC(C)C.O=P(O)(O)O',\n",
              " 'CCCCN(CCCC)CCCCNc1c(C)cnc2cc(Cl)ccc12.O=P(O)(O)O',\n",
              " 'Cc1ccc2oc3ccccc3c(=O)c2c1',\n",
              " 'O=C1OS(=O)(=O)c2ccccc21',\n",
              " 'Cc1cc2nc3ccc(N(C)C)cc3[s+]c2cc1N',\n",
              " 'O=S1(=O)OC(c2cc(Br)c(O)c(Br)c2)(c2cc(Br)c(O)c(Br)c2)c2c(Br)c(Br)c(Br)c(Br)c21',\n",
              " 'Cc1cc(O)c(C(C)C)cc1C1(c2cc(C(C)C)c(O)cc2C)OS(=O)(=O)c2ccccc21',\n",
              " 'CC1(C)Nc2cccc3c(N=Nc4ccc(N=Nc5ccccc5)c5ccccc45)ccc(c23)N1',\n",
              " 'Nc1c(S(=O)(=O)O)cc2cc(S(=O)(=O)O)ccc2c1N=Nc1ccc(-c2ccc(N=Nc3c(N)c(S(=O)(=O)O)cc4cc(S(=O)(=O)O)ccc34)c(S(=O)(=O)O)c2)cc1',\n",
              " 'Cc1cc(-c2ccc(N=Nc3c(S(=O)(=O)O)cc4cc(S(=O)(=O)O)cc(N)c4c3O)c(C)c2)ccc1N=Nc1c(S(=O)(=O)O)cc2cc(S(=O)(=O)O)cc(N)c2c1O',\n",
              " 'NC(CCSSCCC(N)C(=O)O)C(=O)O',\n",
              " 'CCOC(=O)COc1c(C)cc(SSc2cc(C)c(OCC(=O)OCC)c(C)c2)cc1C',\n",
              " 'O=C1c2cccc3cccc(c23)C(=O)N1CCO',\n",
              " 'O=C(O)c1cc(N=Nc2ccc(N=Nc3ccc(S(=O)(=O)O)cc3)cc2)ccc1O',\n",
              " 'N=c1[nH]c(=O)c2nn(-c3ccc(C(=O)O)cc3)nc2[nH]1',\n",
              " 'CC(=O)c1c(O)c2ccccc2oc1=O',\n",
              " 'O=C1CC(c2ccc(O)cc2)Oc2cc(O)cc(O)c21',\n",
              " 'CNc1ccc2cc3ccc(NC)cc3[o+]c2c1',\n",
              " 'O=c1cc(O)c2ccccc2o1',\n",
              " 'O=C1OC2OC3OC(=O)C4C3CC2C14',\n",
              " 'CC(C)=CCC1=C(O)C(=O)c2ccccc2C1=O',\n",
              " 'COc1cc(-c2[o+]c3cc(O)cc(O)c3cc2O)cc(O)c1O',\n",
              " 'COc1cccc2c1cc([N+](=O)[O-])c1c(C(=O)O)cc3c(c12)OCO3',\n",
              " 'CCN=Cc1c(O)c(O)c(C(C)C)c2cc(C)c(-c3c(C)cc4c(C(C)C)c(O)c(O)c(C=NCC)c4c3O)c(O)c12',\n",
              " 'Cc1cc2c(C(C)C)c(O)c(O)c(C=NCCO)c2c(O)c1-c1c(C)cc2c(C(C)C)c(O)c(O)c(C=NCCO)c2c1O',\n",
              " 'Cc1cc2c(C(C)C)c(O)c(O)c(C=NCc3ccoc3)c2c(O)c1-c1c(C)cc2c(C(C)C)c(O)c(O)c(C=NCc3ccco3)c2c1O',\n",
              " 'CCCCCCN=Cc1c(O)c(O)c(C(C)C)c2cc(C)c(-c3c(C)cc4c(C(C)C)c(O)c(O)c(C=NCCCCCC)c4c3O)c(O)c12',\n",
              " 'CCCCCCCCCCN=Cc1c(O)c(O)c(CCC)c2cc(C)c(-c3c(C)cc4c(CCC)c(O)c(O)c(C=NCCCCCCCCCC)c4c3O)c(O)c12',\n",
              " 'CCCCCCCCC=CCCCCCCCCN=Cc1c(O)c(O)c(C(C)C)c2cc(C)c(-c3c(C)cc4c(C(C)C)c(O)c(O)c(C=NCCCCCCCCC=CCCCCCCCC)c4c3O)c(O)c12',\n",
              " 'C=Cc1c(C)c2cc3nc(c4c5nc(cc6[nH]c(cc1[nH]2)c(C)c6CC)c(C)c5C(=O)C4C(=O)O)C(CCC(=O)O)C3C',\n",
              " 'O1[SiH]2[SiH]3O[SiH]3[SiH]3O[SiH]3[SiH]12',\n",
              " 'CCCCCCCCCCCC(C(=O)O)C(=O)O',\n",
              " 'C=C(C)C1CCC2(C)OC2C1',\n",
              " 'O=[N+]([O-])c1ccc(S(=O)(=O)NN=Cc2ccccc2[N+](=O)[O-])cc1',\n",
              " 'O=[N+]([O-])c1ccc(S(=O)(=O)NN=CC=Cc2ccccc2)cc1',\n",
              " 'O=[N+]([O-])c1ccc(S(=O)(=O)NN=Cc2cccc3ccccc23)cc1',\n",
              " 'CCCCC(CC)C(=O)OC(C)CN(CC(C)OC(=O)C(CC)CCCC)C(=O)C(C)OC(=O)C(CC)CCCC',\n",
              " 'O=C(O)c1cc(C(=O)O)c(C(=O)O)c(C(=O)O)c1C(=O)O',\n",
              " 'O=c1ccc2nc3ccc(O)cc3oc-2c1',\n",
              " 'Oc1nnc(O)c2c1[nH]c(=S)n2Cc1ccccc1',\n",
              " 'CC1(C)C2CC3OC3(C)C1C2',\n",
              " 'Cc1cc(N)c2cc(NC(=O)CCCCCCCCC(=O)Nc3ccc4nc(C)cc(N)c4c3)ccc2n1',\n",
              " 'CC12C=CC(=O)C=C1CCC1C3CCC(O)(C(=O)CO)C3(C)CC(O)C12F',\n",
              " 'CCCCC(C#N)C(=O)NC(N)=O',\n",
              " 'Cn1c(=O)c2c(nc(NCC[N+](C)(C)C)n2C)n(C)c1=O',\n",
              " 'CCN(CC)Cc1cc(O)c(CN(CC)CC)cc1O',\n",
              " 'Cn1c(=O)c2c(nc(NCC[N+](C)(C)Cc3ccc(Cl)cc3)n2C)n(C)c1=O',\n",
              " 'CCCCN(CCO)Cc1cc(Nc2c3ccccc3nc3ccccc23)ccc1O',\n",
              " 'OCn1nnc2ccccc21',\n",
              " 'COc1ccc(C(C#N)=Cc2cccc([N+](=O)[O-])c2)cc1',\n",
              " 'CC(CNc1ccc(Cl)cc1)(CNc1ccc(Cl)cc1)[N+](=O)[O-]',\n",
              " 'COc1ccc(Nc2ccnc3cc(Cl)ccc23)cc1CCN',\n",
              " 'COc1ccc2nc3cc(Cl)ccc3c(Nc3ccc(C(=O)O)c(O)c3)c2c1',\n",
              " 'COc1ccc2nc3cc(Cl)ccc3c(Nc3ccc(S(=O)(=O)Nc4nccs4)cc3)c2c1',\n",
              " 'OC1COc2ccc(Cl)cc2CSC1',\n",
              " 'Cc1ccc2c(c1)CSCCO2',\n",
              " 'CC(=O)OCC(=O)C1(O)CCC2C3CCC4=CC(=O)C=CC4(C)C3(F)C(O)CC21C',\n",
              " 'O=[As](O)(O)c1ccc(N=Nc2ccc(O)cc2)cc1',\n",
              " 'O=C1CSC2=NCCN12',\n",
              " 'COc1ccc(C=C2SC(=S)NC2=O)cc1',\n",
              " 'Cc1cc[n+](C2=C(O)C(=O)C3=C(C2=O)C2c4ccccc4C3c3ccccc32)c(C)c1',\n",
              " 'O=C(N1CCCCC(Cl)(Cl)C1=O)C(Cl)(Cl)Cl',\n",
              " 'O=C1CCCCCN1C(=O)c1ccccc1',\n",
              " '[Li]F',\n",
              " 'CCN(CC)CC(O)CNc1c2ccc([N+](=O)[O-])cc2nc2cc(OC)c(OC)cc12',\n",
              " 'OCCNCCNc1c2ccccc2nc2cc(Cl)ccc12',\n",
              " 'Nc1cccc(P(N)(N)=O)c1',\n",
              " 'Oc1nc2ccccc2c(O)c1CCCC1CCCCC1',\n",
              " 'CCN(CC)c1ccc(C=Cc2n(C)c3ccccc3[n+]2-c2ccccc2)cc1',\n",
              " 'NC(CSSCC(N)C(=O)O)C(=O)O',\n",
              " 'Cc1nc2ccccc2c2c(N)cccc12',\n",
              " 'CN(C)C1C(O)=C(C(N)=O)C(=O)C2(O)C(O)=C3C(=O)c4c(O)ccc(Cl)c4C(C)(O)C3CC12',\n",
              " 'CCN(CC)CCNc1c(OC)c(OC)cc2nccnc12.O=P(O)(O)O',\n",
              " 'CCCCN(CCCC)CCCNc1c2c(nc3cc(Cl)ccc13)CCCC2.O=P(O)(O)O',\n",
              " 'OC(c1ccccn1)c1c(Cl)cccc1Cl',\n",
              " 'CC(=O)c1c(O)nc2cc(Cl)ccc2c1O',\n",
              " 'COc1ccc2nc(O)c(C(C)=O)c(O)c2c1',\n",
              " 'CC12C=CC(=O)C=C1CCC1C3CC(O)C(O)(C(=O)CO)C3(C)CC(O)C12F',\n",
              " 'CN1CCCCC(C(O)(c2ccccc2)c2ccccc2)C1=O',\n",
              " 'CCN(CC)CCCC(C)Nc1cc(-c2ccccc2)nc2cc(OC)ccc12.O=P(O)(O)O',\n",
              " 'S=C(S)N1CCNCC1',\n",
              " 'CCCCC(CC)CN(Cc1cc(CN(CC(CC)CCCC)CC(CC)CCCC)c(O)c(CN(CC(CC)CCCC)CC(CC)CCCC)c1)CC(CC)CCCC',\n",
              " 'S=C1SCN2CCN3CSC(=S)N(CCN1C2)C3',\n",
              " 'CCCCOC(=O)CC(C(=O)OCCCC)C(C(=O)OCCCC)P(=O)(OCCCC)OCCCC',\n",
              " 'CC1OC(=O)C2=C1C(=O)CC(C)(C)O2',\n",
              " 'COc1ccc2nc3c(c(NCCCN(C)C)c2c1)CCCC3',\n",
              " 'O=C1OCCC1=Cc1ccc2c(c1)OCO2',\n",
              " 'COc1ccc(C=C2CCOC2=O)cc1OC',\n",
              " 'CN(C)c1ccc(C=C2CCOC2=O)cc1',\n",
              " 'COc1cc(C=NNS(=O)(=O)c2ccc([N+](=O)[O-])cc2)c([N+](=O)[O-])cc1OC',\n",
              " 'COc1cc(C=C2CCOC2=O)ccc1OCc1ccccc1',\n",
              " 'CN(C)c1ccc(C=NN(Cc2ccccc2)c2ccccc2)cc1',\n",
              " 'NC(=O)NC(=O)c1ccco1',\n",
              " 'COc1ccc(C=C(C#N)c2ccccc2)cc1',\n",
              " 'CN1C(=O)C(=O)n2c(cc3ccccc32)C1=O',\n",
              " 'COc1ccc2nc(CC(=N)c3ccc(N(C)C)cc3)ccc2c1',\n",
              " 'CN(C)S(=O)(=O)N1C(=O)c2ccccc2C1=O',\n",
              " 'CCCCCN(CCCCC)CCC(=O)c1ccc2cc(Br)c3ccccc3c2c1',\n",
              " 'CN(C)c1nc(N(C)C)nc(N(C)C)n1',\n",
              " 'CC(C)COC(=O)CS(=O)(=O)O',\n",
              " 'Nc1ccc2c(c1)S(=O)(=O)c1cc(N)ccc1-2',\n",
              " 'Cc1cc2cc3cc(C)c(N)cc3nc2cc1N',\n",
              " 'Cc1cc(C(=C2C=CC(=N)C(S(=O)(=O)O)=C2)c2ccc(N)c(S(=O)(=O)O)c2)cc(S(=O)(=O)O)c1N',\n",
              " 'O=S(=O)(O)c1cc(N=Nc2ccc(O)cc2)ccc1C=Cc1ccc(N=Nc2ccc(O)cc2)cc1S(=O)(=O)O',\n",
              " 'S=C1CCCCCN1',\n",
              " 'COc1ccc(C(=O)C2=NON3OC23C(=O)c2ccc(OC)cc2)cc1',\n",
              " 'CCN(CC)CCCC(C)Nc1ccnc2cc(Cl)ccc12.O=P(O)(O)O',\n",
              " 'CCCCN(CCCC)CCCCCCCN1CCCc2cc(OC)ccc21',\n",
              " 'NC1=NC(N)=N1',\n",
              " 'Cn1c(=O)c2nc(O)c(O)nc2n(C)c1=O',\n",
              " 'CCN(CC)CC(=O)Nc1ccc(CO)cc1',\n",
              " 'O=C1NC(=O)C(CCSSCCC2NC(=O)NC2=O)N1',\n",
              " 'CC(=O)Nc1ccc(SSc2ccc(NC(C)=O)c3cccnc23)c2ncccc12',\n",
              " 'COc1ccc(CN(CCN(C)C)c2ccccn2)cc1.Cn1c(=O)c2nc(Br)[nH]c2n(C)c1=O',\n",
              " 'CN1C(=O)N(C)C2SC(NCc3ccccc3)=NN2C1=O',\n",
              " 'Cn1c(=O)c2c(nc(CCCCCc3nc4c(c(=O)n(C)c(=O)n4C)n3C)n2C)n(C)c1=O',\n",
              " 'CC1(C)C(=NO)C(C)(C)C1=NO',\n",
              " 'CC(C)(C)CC1=CC(=C2C=C(CC(C)(C)C)C(=O)C(CC(C)(C)C)=C2)C=C(CC(C)(C)C)C1=O',\n",
              " 'N=C(NC(=N)Nc1ccc(S(=O)(=O)Nc2cnc3ccccc3n2)cc1)Nc1ccc(Br)cc1',\n",
              " 'CCCCC(CC)CCC(CCC(CC)CCCC)S(=O)(=O)O',\n",
              " 'O=P(Oc1ccccc1)(Oc1ccccc1)N1CCOCC1',\n",
              " 'O=C(O)CCSC(=S)NCCNC(=S)SCCC(=O)O',\n",
              " 'CC1CN2COC(=S)SSSSC(=S)OCN3CC(C)N(COC(=S)SSSSC(=S)OCN1CC2C)CC3C',\n",
              " 'NC(=O)NCOC(=S)SSSC(=S)OCNC(N)=O',\n",
              " 'CC1CNC(=S)SSC(=S)N1',\n",
              " 'N=C(NC(O)C(Cl)(Cl)Cl)SCNC(=O)NCSC(=N)NC(O)C(Cl)(Cl)Cl',\n",
              " 'OCCNC(=S)SSC(=S)NCCO',\n",
              " 'CNC(=S)SSC(=S)NCCNC(=S)SSC(=S)NC',\n",
              " 'COC(=S)SSC(=S)NCCNC(=S)SSC(=S)OC',\n",
              " 'CN(C)COC(=S)SC(=O)OCCCl',\n",
              " 'CCC1(CC)COP(=S)(S)OC1',\n",
              " 'CC(C)N1CSC(=S)NCCNC(=S)SC1',\n",
              " 'CCN(CC)CCNc1ccc(C)c2sc3ccccc3c(=O)c12',\n",
              " 'CCCC1OC(CCC)C2CCCOC2O1',\n",
              " 'CCn1c(C)nc2c(N)cccc2c1=O',\n",
              " 'CC1Nc2c(ccc3ncccc23)C(=O)N1Nc1ccccc1',\n",
              " 'CN1C(=O)CSC1=S',\n",
              " 'Cc1ccc(S(=O)(=O)N2CCCCC2)cc1',\n",
              " 'O=c1oc2ccccc2cc1-c1ccccc1',\n",
              " 'C=Cc1cc[n+](CCCCCCCCCCCC)cc1',\n",
              " 'O=c1c2ccccc2oc2ccccc12',\n",
              " 'O=C(O)C=CCCCCC(=O)O',\n",
              " 'CC1CN2CC(C)OB(O1)OC(C)C2',\n",
              " 'O=C(c1ccccc1)N1CN(C(=O)c2ccccc2)CN(C(=O)c2ccccc2)C1',\n",
              " 'C[N+]12CC[N+](C)(CC1)CC2',\n",
              " 'O=C(O)CCCCCCCCCCCCCCC(=O)O',\n",
              " 'O=CCC(O)C(O)C(O)CO',\n",
              " 'O=[N+]([O-])O',\n",
              " 'S=C(SSSC(=S)N(C1CCCCC1)C1CCCCC1)N(C1CCCCC1)C1CCCCC1',\n",
              " 'CNC(=S)SSSC(=S)NC',\n",
              " 'CNC(=S)SSSSC(=S)NC',\n",
              " 'CN(C)C(=S)SSSC(=S)N(C)C',\n",
              " 'CN(C)C(=S)SSSSC(=S)N(C)C',\n",
              " 'CCOC(=O)SC1=NC(C)=CC(C)(C)S1',\n",
              " 'CCCCNC(=S)SSSC(=S)NCCCC',\n",
              " 'CCCCNC(=S)SSSSC(=S)NCCCC',\n",
              " 'S=C1NC2(CCCCC2)C2=C(CCCC2)S1',\n",
              " 'S=C(NC1CCCCC1)SSSC(=S)NC1CCCCC1',\n",
              " 'S=C(NC1CCCCC1)SSSSC(=S)NC1CCCCC1',\n",
              " 'CCOC(=O)OC(=S)N(C1CCCCC1)C1CCCCC1',\n",
              " 'Cc1ccc(C(C)C)c(OP(=S)(S)Oc2cc(C)ccc2C(C)C)c1',\n",
              " 'S=C(SSSSC(=S)N(C1CCCCC1)C1CCCCC1)N(C1CCCCC1)C1CCCCC1',\n",
              " 'Cc1ccc2nc(-c3ccc(N=Nc4cc(S(=O)(=O)O)c5ccccc5c4O)cc3)sc2c1S(=O)(=O)O',\n",
              " 'CC(=O)SC1CC(=O)C=C2CCC3C4CCC(=O)OC4(C)CCC3C21C',\n",
              " 'C#CC1(O)CCC2C3CCC4=C(CCC(=O)C4)C3CCC21C',\n",
              " 'CC(=O)OC1CCC2(C)C(CCC3C2CCC2(C)C3CC3OC4(CCC(C)CO4)C(C)C32)C1',\n",
              " 'O=[As](O)(O)c1cc(N=Nc2ccc(-c3ccc(N=Nc4cc([As](=O)(O)O)c(O)cc4O)cc3)cc2)c(O)cc1O',\n",
              " 'OCC(O)C1O[Sb](O)(O)(O)OC1C(O)CO',\n",
              " 'COC(=O)C1=COC(C)C2C[n+]3ccc4c([nH]c5ccccc54)c3CC12',\n",
              " 'CCC1C2CC3C4N(C)c5ccccc5C45CC(C2C5O)N3C1O',\n",
              " 'O=C(O)c1cnc2c([N+](=O)[O-])cccc2c1O',\n",
              " 'COc1ccccc1C=Cc1ccc2ccccc2n1',\n",
              " 'COc1ccccc1C=Cc1ccnc2ccccc12',\n",
              " 'CN(C)c1ccc(C=C(C#N)c2ccccc2)cc1',\n",
              " 'COc1ccc(C(C#N)=Cc2ccc(N(C)C)cc2)cc1',\n",
              " 'CCN(CCNc1ccc(C)c2sc3ccccc3c(=O)c12)CC(C)(C)O',\n",
              " 'O=C(O)c1c2c(nc3ccccc13)CCC2',\n",
              " 'CC(=O)C(SSC(C(C)=O)C(C)=O)C(C)=O',\n",
              " 'O=C(OCC(Cl)(Cl)Cl)OCC(Cl)(Cl)Cl',\n",
              " 'O=c1c2ccccc2c(=O)c2c1c1c(=O)c3ccccc3c(=O)c1c1c(=O)c3ccccc3c(=O)c21',\n",
              " 'c1ccc2c(c1)Sc1ccccc1C2=C1c2ccccc2Sc2ccccc21',\n",
              " 'c1ccc2c(c1)c1ccccc1n2-n1c2ccccc2c2ccccc21',\n",
              " 'c1ccc2c(c1)C1=Nc3c4ccccc4c4n3[Cu-3]35n6c(c7ccccc7c6=NC6=[N+]3C(=N4)c3ccccc36)=NC2=[N+]15',\n",
              " 'Cc1ncc2c(c1O)COC2=O',\n",
              " 'O=Cc1c(O)nc2ccccc2c1O',\n",
              " 'CC(CCC(=O)O)(CCC(=O)O)[N+](=O)[O-]',\n",
              " 'c1ccc2c3c(ccc2c1)O[Fe-4]12(Oc4ccc5ccccc5c4N=[O+]1)(Oc1ccc4ccccc4c1N=[O+]2)[O+]=N3',\n",
              " 'CCN(CC)c1ccc2nc3c4ccccc4c(=O)cc-3n(-c3ccccc3)c2c1',\n",
              " 'O=C(Nc1ccc2c(O)c(N=Nc3ccccc3)c(S(=O)(=O)O)cc2c1)Nc1ccc2c(O)c(N=Nc3ccccc3)c(S(=O)(=O)O)cc2c1',\n",
              " 'CCCCCCC(CC)(C(=O)O)C(=O)O',\n",
              " 'c1csc([As](O[As](c2cccs2)c2cccs2)c2cccs2)c1',\n",
              " 'CN1CCCCCCC1CO',\n",
              " 'CCCCOC(=O)CCC(Nc1nc(Cl)nc(Cl)n1)C(=O)OCCCC',\n",
              " 'O=C1NC(=O)C(CCCCO)N1',\n",
              " 'COC(=O)C(CCC(=O)O)N1C(=O)c2ccccc2C1=O',\n",
              " '[N-]=[N+]=C(S(=O)(=O)O)S(=O)(=O)O',\n",
              " 'NC(S(=O)(=O)O)S(=O)(=O)O',\n",
              " 'Oc1nc2ccccc2c(O)c1-c1ccccc1',\n",
              " 'CCCCCNC(=O)C(O)C(O)C(=O)NCCCCC',\n",
              " 'O=C1NC(=O)C2(CCCCC2)N1',\n",
              " 'Cc1ccc(C(=O)O)c(O)c1',\n",
              " 'CCc1c(C)c2cc3[nH]c(cc4nc(cc5[nH]c(cc1n2)c(C)c5CCC(=O)OC)c(CCC(=O)OC)c4C)c(C)c3CC',\n",
              " 'C=CC1=C(C)C2=[N+]3C1=Cc1c(C)c(C=C)c4n1[Fe-2]31n3c(c(C)c(CCC(=O)O)c3=CC3=[N+]1C(=C4)C(C)=C3CCC(=O)O)=C2',\n",
              " 'OCC1OC2NC(=S)OC2C(O)C1O',\n",
              " 'COc1cc(C2CC(=O)c3ccccc3O2)ccc1O',\n",
              " 'OCCN1CSC(=S)NCCNC(=S)SC1',\n",
              " 'S=C(NCCNC(=S)SSC(=S)NNc1ccccc1)SSC(=S)NNc1ccccc1',\n",
              " 'S=C(NNc1ccccc1)SSSC(=S)NNc1ccccc1',\n",
              " 'CN(C)C(=S)SSC(=S)SSC(=S)N(C)C',\n",
              " 'O=S1c2ccccc2Sc2ccccc21',\n",
              " 'O=S1c2ccccc2S(=O)c2ccccc21',\n",
              " 'O=C1OCCC1=Cc1ccc(O)cc1',\n",
              " 'O=C(CSCC(=O)NN=Cc1ccccc1)NN=Cc1ccccc1',\n",
              " 'Nc1nc(O)c2c(n1)Cc1c(O)nc(N)nc1C2',\n",
              " 'SC1N=C(c2ccco2)N2C(S)N=C(c3ccccc3)N12',\n",
              " 'S=C1NC2(CCCCC2)N2C(=S)NC3(CCCCC3)N12',\n",
              " 'SC1N=C(c2ccccc2)N2C(S)N=C(c3ccccc3)N12',\n",
              " 'S=C1NC(C=Cc2ccccc2)N2C(=S)NC(C=Cc3ccccc3)N12',\n",
              " 'O=C(O)O',\n",
              " 'CCOC(=O)C1CC(C(=O)OCC)c2nc3ccccc3nc21',\n",
              " 'COc1cc2c(cc1OC)CN1CCc3cc(OC)c(OC)cc3C1C2',\n",
              " 'NCCOB(c1ccccc1)c1ccccc1',\n",
              " 'COc1ccc(-n2nc(C)ccc2=O)cc1',\n",
              " 'COc1ccc(-n2nc(C)cc(Cl)c2=O)cc1',\n",
              " 'COc1ccc(-n2nc(C)cc(N)c2=O)cc1',\n",
              " 'CCOC(=O)c1ccc(-n2nc(C)cc(Cl)c2=O)cc1',\n",
              " 'O=c1ccc(=O)n(-c2ccccc2)[nH]1',\n",
              " 'COCCOC(C)C(=O)C(O)S(=O)(=O)O',\n",
              " 'CCOC(C)C(=O)OCC(C(=O)OC1CC2C3OC3C(C1)[N+]2(C)C)c1ccccc1',\n",
              " 'Cc1cc(Cl)cc2c1SC(=C1Sc3c(C)cc(Cl)cc3C1=O)C2=O',\n",
              " 'CC(=O)Nc1ccc(S(=O)(=O)NN=C2CCCC2)cc1',\n",
              " 'CN(NC(=O)Nc1cccc2ccccc12)c1ccccc1',\n",
              " 'CCCCN(CCCC)NC(=S)Nc1ccccc1',\n",
              " 'CN1C(=O)CCC2(c3ccccc3)CC=C(O)C=C12',\n",
              " 'CCOC(=O)C(=O)C1C(=O)N(C)C2(C)CC1c1ccccc1O2',\n",
              " 'CCCCCCCCCCCCNC(=O)C(O)C(O)C(O)C(COS(=O)(=O)O)OS(=O)(=O)O',\n",
              " 'CCOC(=O)C1=C(C)C2=Cc3c(C)c(C(=O)OCC)c(C)n3[Cu-3]3(n4c(C)c(C(=O)OCC)c(C)c4C=C4C(C)=C(C(=O)OCC)C(C)=[N+]43)[N+]2=C1C',\n",
              " 'CCC1=C(C)C2=[N+]3C1=Cc1c(C)c(CCC(=O)OC)c4n1[Cu-3]31n3c(c(C)c(CC)c3=C2)=CC2=[N+]1C(=C4)C(CCC(=O)OC)=C2C',\n",
              " 'CN1CCN(CCCN2c3ccccc3Sc3ccc(C(F)(F)F)cc32)CC1',\n",
              " 'CN1CCN(CCCN2c3ccccc3Sc3ccc(Cl)cc32)CC1',\n",
              " 'CN(C)CCCN1c2ccccc2Sc2ccc(Cl)cc21',\n",
              " 'O=C1CSC(=S)N1c1ccccc1',\n",
              " 'C[N+]1(CCN[N+]2(C)CCCCC2)CCc2ccccc2C1',\n",
              " 'NN1CCc2ccccc2C1.O=C(O)C=CC(=O)O',\n",
              " 'OC(CNc1ccccn1)c1ccccc1',\n",
              " 'O=C1CC(=O)N(CCc2ccccn2)C(=O)N1CCc1ccccn1',\n",
              " 'O=C1CC(=O)N(CCc2ccncc2)C(=O)N1CCc1ccncc1',\n",
              " 'C=Cc1cc[n+](CC(=O)c2ccc(-c3ccccc3)cc2)cc1',\n",
              " 'c1ccc(Cn2cc(CCc3ccncc3)c3ccccc32)cc1',\n",
              " 'Sc1cnnc2ccccc12',\n",
              " 'COc1cc2nncc(S)c2cc1OC',\n",
              " 'Oc1nnnc2cc(Cl)ccc12',\n",
              " 'CSc1nnnc2ccccc12',\n",
              " 'CCCC(=O)OC(C(Cl)(Cl)Cl)P(=O)(OC)OC',\n",
              " 'Nc1ccc(S(=O)(=O)NN=Cc2ccco2)cc1',\n",
              " 'CC(C)=CC(C)=NNS(=O)(=O)c1ccc(N)cc1',\n",
              " 'CCOC(=O)CC(C)=NNS(=O)(=O)c1ccc(N)cc1',\n",
              " 'CC1CCCCC1=NNS(=O)(=O)c1ccc(N)cc1',\n",
              " 'CC1CCC(=NNS(=O)(=O)c2ccc(N)cc2)CC1',\n",
              " 'Nc1ccc(S(=O)(=O)NN=Cc2ccc3c(c2)OCO3)cc1',\n",
              " 'CC(=NNS(=O)(=O)c1ccc(N)cc1)c1ccccc1O',\n",
              " 'COc1cc(C=NNS(=O)(=O)c2ccc(N)cc2)ccc1O',\n",
              " 'CC(=O)Nc1ccc(S(=O)(=O)NN=C(C)C2CCOC2=O)cc1',\n",
              " 'CN(C)c1ccc(C=NNS(=O)(=O)c2ccc(N)cc2)cc1',\n",
              " 'CCCCC(CC)=NNS(=O)(=O)c1ccc(NC(C)=O)cc1',\n",
              " 'CC(C=Cc1ccccc1)=NNS(=O)(=O)c1ccc(N)cc1',\n",
              " 'CC(=O)Nc1ccc(S(=O)(=O)NN=Cc2ccc(C)cc2)cc1',\n",
              " 'COc1ccc(C=NNS(=O)(=O)c2ccc(NC(C)=O)cc2)cc1',\n",
              " 'COc1ccc(C(C)=NNS(=O)(=O)c2ccc(NC(C)=O)cc2)cc1',\n",
              " 'CCC1(O)CCCC2C3CCC4CC(=O)CCC4(C)C3C(=O)CC21C',\n",
              " 'C=Cc1ccccn1',\n",
              " 'C=Cc1ccncc1',\n",
              " 'O=S(=O)(O)C(O)CC(O)S(=O)(=O)O',\n",
              " 'O=S(=O)(O)C(O)CCC(O)S(=O)(=O)O',\n",
              " 'O=S(=O)(O)C(O)CC=C(C(O)S(=O)(=O)O)C(O)S(=O)(=O)O',\n",
              " 'O=S(=O)(O)C(O)C(O)S(=O)(=O)O',\n",
              " 'O=[N+]([O-])c1cccc(S(=O)(=O)c2ccc(F)c([N+](=O)[O-])c2)c1',\n",
              " 'CC1=CC2=[N+]3C1=Cc1cc(C)c4n1[Cu-3]31n3c(c(C)c(CCC(=O)O)c3=CC3=[N+]1C(=C4)C(C)=C3CCC(=O)O)=C2',\n",
              " 'CC1=CC2=[N+]3C1=Cc1cc(C)c4n1[Ni-2]31n3c(c(C)c(CCC(=O)O)c3=CC3=[N+]1C(=C4)C(C)=C3CCC(=O)O)=C2',\n",
              " 'CC1=CC2=[N+]3C1=Cc1cc(C)c4n1[Pd-2]31n3c(c(C)c(CCC(=O)O)c3=CC3=[N+]1C(=C4)C(C)=C3CCC(=O)O)=C2',\n",
              " 'CC12CCC3c4ccc(OS(=O)(=O)O)cc4CCC3C1CCC2=O',\n",
              " 'CCC1(O)CC(OC2CC(N(C)C)C(OC3CC(O)C(OC4CCC(=O)C(C)O4)C(C)O3)C(C)O2)c2c(cc3c(c2O)C(=O)c2c(O)ccc(O)c2C3=O)C1C(=O)OC',\n",
              " 'CCC1(O)CC(OC2CC(N(C)C)C(OC3CC4OC5CC(=O)C(C)OC5OC4C(C)O3)C(C)O2)c2c(cc3c(c2O)C(=O)c2c(O)ccc(O)c2C3=O)C1C(=O)OC',\n",
              " 'C[N+]1(Cc2ccc([N+](=O)[O-])cc2)CCC(CCCCCCCC2CC[N+](C)(Cc3ccc([N+](=O)[O-])cc3)CC2)CC1',\n",
              " 'O=S(=O)(O)C(F)(F)C(F)(F)C(F)(F)C(F)(F)C(F)(F)C(F)(F)C(F)(F)C(F)(F)F',\n",
              " 'C1CN(SSN2CCSCC2)CCS1',\n",
              " 'CN(CCN(C)CC(=O)O)CC(=O)O',\n",
              " 'CC1=[O+][Cu-3]23[O+]=C(C)CC(C)=[N+]2C(C)C[N+]3=C(C)C1',\n",
              " 'CC[N+](C)(CC)CCC[N+]12CCC(CC1)CC2',\n",
              " 'CC(NCCNC(C)c1cccnc1)c1cccnc1',\n",
              " 'C#CCN1CCCC(O)C1.O=C(O)C=CC(=O)O',\n",
              " 'Sc1nnc(S)c2[nH]cnc12',\n",
              " 'CC1OC(OC2C(O)C(O)C(NC(=N)N)C(O)C2NC(=N)N)C(OC2OC(CO)C(O)C(O)C2N(C)C=N)C1(O)CO.O=S(=O)(O)O',\n",
              " 'CNC1C(OC2C(OC3C(O)C(O)C(NC(=N)N)C(O)C3NC(=N)N)OC(C)C2(O)C=NNC(N)=S)OC(CO)C(O)C1O.O=S(=O)(O)O',\n",
              " 'CN(C)CCC=C1c2ccccc2Sc2ccc(Cl)cc21',\n",
              " 'O=C1CCCCC1CN1CCCCC1',\n",
              " 'O=S(=O)(O)c1ccc(Sc2ccc(S(=O)(=O)O)cc2)cc1',\n",
              " 'N=C(N)Nc1ccc(-c2ccc(NC(=N)N)cc2)cc1.O=S(=O)(O)O',\n",
              " 'O=C(CCSCCC(=O)NNc1ccccc1)NNc1ccccc1',\n",
              " 'CC(C)c1ccc(O)c(=O)cc1',\n",
              " 'O=C(CCl)Nc1cccc2ccccc12',\n",
              " 'O=S1(=O)c2ccccc2S(=O)(=O)c2ccccc21',\n",
              " 'O=C(c1no[n+]([O-])c1C(=O)c1csc2ccccc12)c1csc2ccccc12',\n",
              " 'O=C1CCCCN1',\n",
              " 'Nc1c(O)nc2c(c1N)CCC2',\n",
              " 'CC(=O)Nc1cc(O)nc2c1CCC2',\n",
              " 'O=C(O)c1ccccc1C(=O)NC(Cc1ccccc1)(C(=O)O)C(=O)O',\n",
              " 'COc1ccc(-c2oc3ccc(C)cc3c(=O)c2O)cc1',\n",
              " 'O=c1cc(-c2ccccc2)oc2ccccc12',\n",
              " 'COc1ccc(C=CC(=O)c2c(OC)cc(OC)c(OC)c2O)cc1',\n",
              " 'Cc1[nH][nH]c(=N)c1C#N',\n",
              " 'Oc1ncnc2sc(Nc3ccccc3)nc12',\n",
              " 'O=C(O)CS(=O)(=O)O',\n",
              " 'CC(=O)Nc1ccc(S(=O)(=O)NNC(=O)NNS(=O)(=O)c2ccc(NC(C)=O)cc2)cc1',\n",
              " 'Oc1ccc(C=Cc2cnccn2)cc1',\n",
              " 'Oc1cccc(C=Cc2ccncc2)c1',\n",
              " 'Cc1ccccc1-c1nc2c(N)nc(N)nc2nc1N',\n",
              " 'O=c1cc(Cl)c(Cl)nn1-c1ccccc1',\n",
              " 'O=c1cc(Cl)c(=O)n(-c2ccccc2)[nH]1',\n",
              " 'O=c1[nH]n(-c2ccccc2)c(=O)cc1Cl',\n",
              " 'Nc1cc(=O)n(-c2ccccc2)nc1Cl',\n",
              " 'O=CNc1ccc(S(=O)(=O)c2ccc([N+](=O)[O-])cc2)cc1',\n",
              " 'C[N+](C)(CCCCCC[N+](C)(C)C1c2ccccc2-c2ccccc21)C1c2ccccc2-c2ccccc21',\n",
              " 'c1ccc(N2CCN(c3ccccn3)CC2)nc1',\n",
              " 'O=C(O)CCCCCCCCC(=O)O',\n",
              " 'O=C(O)CCCCCCCC(=O)O',\n",
              " 'COC(=O)C1C(O)CCC2CN3CCc4c([nH]c5ccccc45)C3CC21',\n",
              " 'Cc1ccc2ccc(=O)oc2c1',\n",
              " 'CC(=O)C1=C(C)C2=Cc3c(C(C)=O)c(C)c4n3[Fe-3]35(Cl)n6c(c(C)c(CCC(=O)O)c6=CC6=[N+]3C(=C4)C(C)=C6CCC(=O)O)=CC1=[N+]25',\n",
              " 'S=C1NCCNC(=S)SS1',\n",
              " 'CCCC1OP(N)(=O)OCC1CC',\n",
              " 'CC(O)CSP(=S)(Oc1ccccc1)Oc1ccccc1',\n",
              " 'CN(C)COC(=S)SSSC(=S)OCN(C)C',\n",
              " 'C[N+]1(C)COC(=S)S[Fe-4]123(SC(=S)OC[N+]2(C)C)SC(=S)OC[N+]3(C)C',\n",
              " 'CCC1(CC)COP(=O)(Oc2ccccc2)OC1',\n",
              " 'O=c1ccc2ccc(O)cc2o1',\n",
              " 'O=c1c(O)c(-c2ccc(O)cc2O)oc2cc(O)cc(O)c12',\n",
              " 'COc1cc(O)c2c(=O)c(O)c(-c3ccc(O)c(O)c3)oc2c1',\n",
              " 'CC1OC(Oc2c(-c3cc(O)c(O)c(O)c3)oc3cc(O)cc(O)c3c2=O)C(O)C(O)C1O',\n",
              " 'c1ccc(-c2cc(N3CCOCC3)c3ccccc3n2)cc1',\n",
              " 'CC1(C)c2ccccc2-c2nc3ccccc3cc2C1N1CCOCC1',\n",
              " 'CCN(CC)CCOc1ccc(C(O)(Cc2ccc(OC)cc2)c2ccccc2)cc1',\n",
              " 'CCCCc1ccc(C(=O)O)nc1',\n",
              " 'C[N+](C)(C)CCCC#CC[N+]1(C)CCOCC1',\n",
              " 'C[N+]1(CCCC(O)CC[N+]2(C)CCCC2)CCCC1',\n",
              " 'CC(=O)O[Hg]CC(O)Cn1c(=O)c2c(ncn2C)n(C)c1=O',\n",
              " 'COC1CNC(NC(=O)CCC(=O)O)=[O+][Hg-2]2(C1)[O+]=C1c3c(ncn32)N(C)C(=O)N1C',\n",
              " 'COC1CNC(N)=[O+][Hg-](Cl)C1',\n",
              " 'COc1ccc2c3c(c4cc(OC)c(OC)cc4c2c1)CC1CCCCN1C3',\n",
              " 'CC(=O)N1C(=O)CC(c2ccccc2)Sc2ccccc21',\n",
              " 'c1ccc(Nc2cc(Nc3ccccc3)cc(Nc3ccccc3)c2)cc1',\n",
              " 'CC1CC2OC(=O)C3(C)C2C(OC3(C)O)C2(C)C(=O)C=CC12',\n",
              " 'CCCC(C(=O)OCCN1CCCC12CCCCC2)C1CCCC1',\n",
              " 'Clc1ccc2c(c1)N(CCCN1CCCC13CCCCC3)c1ccccc1S2',\n",
              " 'CN1OC2CCC1CC(OC(c1ccccc1)c1ccccc1)C2',\n",
              " 'C1CCC2(CC1)CCCN2',\n",
              " 'COC(=O)C1C(O)C(C)C(O)C(C)C=CC=C(C)C(=O)Nc2c(C)c(OC(C)=O)c3c(c2O)C(=O)C(C)=C2OCOC(=C23)C(C)=CC(C)(O)C(O)C(C)C1O',\n",
              " 'C[Hg]NC(=N)NC#N',\n",
              " 'Oc1nc(O)c2nc(O)nc(O)c2n1',\n",
              " 'COC(=O)CCC1=C(C)C2=[N+]3C1=Cc1c(CCC(=O)OC)c(C)c4n1[Ni-2]31n3c(c(C)c(C(C)=O)c3=CC3=[N+]1C(=C4)C(C(C)=O)=C3C)=C2',\n",
              " 'Cc1cc(=O)oc2ccccc12',\n",
              " 'O=S(=O)(O)Nc1cnc(O)nc1O',\n",
              " 'Oc1nnnc2ccccc12',\n",
              " 'Sc1nnnc2ccccc12',\n",
              " 'CC(C)(C)CC(C)(C)c1ccc(OCCOCC[N+](C)(C)Cc2ccccc2)cc1',\n",
              " 'CCN(CC)CCCNCc1cc(Cl)c2cccnc2c1O',\n",
              " 'Cc1ccc(S(=O)(=O)OC(c2ccccc2)c2ccccc2)cc1',\n",
              " 'Nc1ncnc2c1ncn2C1OC(COP(=O)(O)O)C(O)C1O',\n",
              " 'CCCCOCc1cc(CN2CCN(C)CC2)c(O)c2ncccc12',\n",
              " 'O=C(Nc1ccc(Br)cc1)c1cc(Br)ccc1O',\n",
              " 'CCN(CCO)CCNc1ccc(C)c2sc3ccccc3c(=O)c12',\n",
              " 'N=C(N)Nc1ccc(N)cc1',\n",
              " 'N=C(N)NC(CSSCC(NC(=N)N)C(=O)O)C(=O)O',\n",
              " 'O=[N+]([O-])c1cccc(S(=O)(=O)c2cccc([N+](=O)[O-])c2)c1',\n",
              " 'O=[N+]([O-])c1ccc(S(=O)(=O)c2ccc([N+](=O)[O-])cc2)cc1',\n",
              " 'Cc1ccc(NC(=S)Nc2ccc(C)cn2)nc1',\n",
              " 'Cc1ccnc(NC(=S)Nc2cc(C)ccn2)c1',\n",
              " 'Cc1cccc(NC(=S)Nc2cccc(C)n2)n1',\n",
              " 'Cc1cccnc1NC(=S)Nc1ncccc1C',\n",
              " 'N=C(N)Nc1ccccc1SSc1ccccc1NC(=N)N.O=S(=O)(O)O',\n",
              " 'N=C(N)NC(=N)Nc1cccc(S(=O)(=O)c2cccc(NC(=N)NC(=N)N)c2)c1',\n",
              " 'N=C(N)NC(=N)Nc1ccc(Sc2ccc(NC(=N)NC(=N)N)cc2)cc1',\n",
              " 'c1ccc(-c2cc(N3CCOCC3)c3ccccc3[o+]2)cc1',\n",
              " 'C[N+](C)(C)CCCC#CC[N+]1(C)CCc2ccccc2C1',\n",
              " 'C[N+](C)(C)CCC#CC[N+]1(C)CCCC1',\n",
              " 'c1ccc(CNc2nnc(NCc3ccccc3)c3c2ncn3Cc2ccccc2)cc1',\n",
              " 'S=C1NCCNC(=S)SSC(=S)SS1',\n",
              " 'CCCCOC(=S)SSC(=S)NCCNC(=S)SSC(=S)OCCCC',\n",
              " 'CC(C)OC(=S)SSC(=S)NCCNC(=S)SSC(=S)OC(C)C',\n",
              " 'COC(=S)SSC(=S)NCCN(CCNC(=S)SSC(=S)OC)C(=S)SSC(=S)OC',\n",
              " 'CCOS(=O)(=O)O.CC[N+]1(C)CSC(=S)N(C)C1',\n",
              " 'NC1CCCCCCC1',\n",
              " 'CC(=O)Oc1c(Br)cc(-c2oc(-c3cc(Br)c(OC(C)=O)c(Br)c3)c3ccccc23)cc1Br',\n",
              " 'COc1cc2c(cc1Oc1c(Oc3c(O)c(OC)cc4c3C(CC(C)C)N(C)CC4)c(OC)cc3c1C(CC(C)C)N(C)CC3)C(CC(C)C)N(C)CC2',\n",
              " 'Cc1ccc(S(=O)(=O)OCCOS(=O)(=O)c2ccc(C)cc2)cc1',\n",
              " 'O=C1O[Cu-3]2(OC(=O)c3cccc[n+]32)[n+]2ccccc21',\n",
              " 'CN1CCCC(C#N)(c2ccccc2)CC1',\n",
              " 'O=[N+]([O-])c1cccc([N+](=O)[O-])c1Cl',\n",
              " 'COc1cccc(C2(C#N)CCN(C)CC2)c1',\n",
              " 'COc1cc(OC)cc(C2(C#N)CCN(C)CC2)c1',\n",
              " 'CCOC(=O)C1(c2ccc(O)c(O)c2)CCN(C)CC1',\n",
              " 'COc1cc(C2(C#N)CCN(C)CC2)cc(OC)c1OC',\n",
              " 'CN1CCC2(CC1)OC(c1ccccc1)C(c1ccccc1)O2',\n",
              " 'CCN1CCC2(CC1)OC(c1ccccc1)C(c1ccccc1)O2',\n",
              " 'CCOC(=O)C(C(=O)OCC)C(C(=O)OCC)(C(=O)OCC)C(C(=O)OCC)C(=O)OCC',\n",
              " 'Cn1[nH]c(=O)ccc1=O',\n",
              " 'O=c1ccc(=O)n(-c2ccc(Br)cc2)[nH]1',\n",
              " 'Cc1cc(Cl)c(=O)n(-c2ccccc2)n1',\n",
              " 'O=c1ccc(Oc2ccc([N+](=O)[O-])cc2[N+](=O)[O-])nn1-c1ccc([N+](=O)[O-])cc1[N+](=O)[O-]',\n",
              " 'CCOC(=O)c1cnc2ccc(C)cn2c1=O',\n",
              " 'CC(C=CC1=C(C)CCCC1(C)C)=CC=C(C(=O)O)C(C)=CC(=O)O',\n",
              " 'CC(C=CC1=C(C)CCCC1(C)C)=CC=CC(C)=CC=NN=CC=C(C)C=CC=C(C)C=CC1=C(C)CCCC1(C)C',\n",
              " 'CSS(C)(=O)=O',\n",
              " 'COc1ccc(-c2coc3c4c(c(CC=C(C)C)c(O)c3c2=O)OC(C)(C)C=C4)cc1OC',\n",
              " 'COc1ccc(-c2coc3c4c(c5c(c3c2=O)OC(C)(C)CC5)OC(C)(C)C=C4)cc1OC',\n",
              " 'COc1ccc(N=Nc2c(N)n(C)[nH]c2=N)cc1',\n",
              " 'c1cc2c(cc1-c1ccc3c(c1)N=[Se]=N3)N=[Se]=N2',\n",
              " 'CCOC(=O)C1(CC)OC12CCCCC2',\n",
              " 'CCCCC1(C(=O)OCC)OC12CCCCC2',\n",
              " 'CC(Cc1ccccc1)NN(CS(=O)(=O)O)CS(=O)(=O)O',\n",
              " 'O=C(O)C1CC2=C(CN1)Cc1ccccc12',\n",
              " 'C=C1C(=O)OC2CC3(C)OC3CCC(C)=CC(OC(C)=O)C12',\n",
              " 'O=C(O)C1=C(C(=O)O)C2c3ccccc3C1c1ccccc12',\n",
              " 'O=C(O)C1S[Bi](SC(C(=O)O)C(S[Bi]2SC(C(=O)O)C(C(=O)O)S2)C(=O)O)SC1C(=O)O',\n",
              " 'N=C1NC(=O)N[Cu-3]2(N1)NC(=N)NC(=O)N2',\n",
              " 'CCC1N[Cu-3]2(NC(CC)C(=O)O2)OC1=O',\n",
              " 'CCCCN(CCCC)C1=[S+][Cu-3]2(S1)SC(N(CCCC)CCCC)=[S+]2',\n",
              " 'CCCC[Sn](Cl)(CCCC)CCCC',\n",
              " 'Nc1nnc2c(n1)[nH]c1ccccc12',\n",
              " 'Cc1nc2c(n1-c1ccc(Br)cc1)C(=O)c1ccccc1C2=O',\n",
              " 'O=C(SC1=NCCS1)SC1=NCCS1',\n",
              " 'O=S(=O)(O)OCCOc1ccc(S(=O)(=O)c2ccc(OCCOS(=O)(=O)O)cc2)cc1',\n",
              " 'O=[n+]1[cH-]nc2ccccc2c1O',\n",
              " 'Cc1cc(O)c(C#N)c2c(C#N)c(=N)[nH]n12',\n",
              " 'Nc1nc(-c2ccccc2)nc(N)c1N=O',\n",
              " 'Cc1cc(C)n2[nH]c(=N)c(C#N)c2c1C#N',\n",
              " 'O=c1oc2cc(O)ccc2c2oc3cc(O)ccc3c12',\n",
              " 'O=c1ccc(=O)n(-c2ccc(Cl)cc2)[nH]1',\n",
              " 'CC1OC(OC2C(O)C(O)C(NC(=N)N)C(O)C2NC(=N)N)C(OC2OC(CO)C(O)C(O)C2N(C)N=O)C1(O)C=O',\n",
              " 'O=C(O)CCS(=O)(=O)O',\n",
              " 'COC(=O)CCC(C)C1CCC2C3CCC4CC5CCC4C3(CO5)C(=O)C(Br)C12C',\n",
              " 'Nc1nc(Cl)c2nc(Cl)[nH]c2n1',\n",
              " 'S=C(Nc1ccc2c3c(cccc13)CC2)Nc1ccc2c3c(cccc13)CC2',\n",
              " 'O=P(OCC1CCCO1)(OCC1CCCO1)OCC1CCCO1',\n",
              " 'COCC(C)(COP(=O)(N1CCOCC1)N1CCOCC1)CC(C)COP(=O)(N1CCOCC1)N1CCOCC1',\n",
              " 'CCCC1OP(=O)(N2CC(C)N(P3(=O)OCC(CC)C(CCC)O3)CC2C)OCC1CC',\n",
              " 'NN1C(=O)CSC1=S',\n",
              " 'ON=C(CSSCC(=NO)c1ccc(Cl)cc1)c1ccc(Cl)cc1',\n",
              " 'CC(C)(C)CS(=O)(=O)O',\n",
              " 'NCC(O)c1ccc(Nc2ccnc3cc(Cl)ccc23)cc1',\n",
              " 'COc1ccc(C(C#N)=Cc2cccc(N)c2)cc1',\n",
              " 'COc1ccc(C=C(C#N)c2ccc(OC)cc2)cc1',\n",
              " 'Oc1ccc(CCC2CCNc3ccccc32)cc1',\n",
              " 'c1ccc2c(c1)CCN(NCCN1CCCC1)C2',\n",
              " 'O=C(NNC(=S)S)c1ccncc1',\n",
              " 'CCCOC(=O)c1ccc(N)cc1',\n",
              " 'CC(C)COC(=O)c1ccc(N)cc1',\n",
              " 'CC(=O)NC(CC(C)C(C)=O)C(=O)O',\n",
              " 'COC1OC(CO)C2OC12',\n",
              " 'O=c1ccn(C2CC(O)C(CO)O2)c(=O)[nH]1',\n",
              " 'O=C1OCCC1(Br)C(Br)c1ccccc1',\n",
              " 'CC12CCC3C(CCC4=CC(=O)C=CC43C)C1CCC(=O)O2',\n",
              " 'N#CC1(c2ccccc2)CCN(Cc2ccccc2)CC1',\n",
              " 'CCOC(=O)C1(c2ccccc2)CCN(CC(=O)c2ccccc2)CC1',\n",
              " 'Cc1c(C(C)C2NCC(C)CC2O)ccc2c1CC1C2CC=C2CC(O)CCC21C',\n",
              " 'CC1OC(=O)C2CC3CCCCC3C(C=CC3CCCC(C)N3C)C12',\n",
              " 'C=C(C)COC(=O)C1CC2OC2CC1C(=O)OCC(=C)C',\n",
              " 'C=C(C)COC(=O)C1C2CC(C3OC23)C1C(=O)OCC(=C)C',\n",
              " 'C=CCOC(=O)C1CC2OC2CC1C(=O)OCC=C',\n",
              " 'S=c1[nH]ccs1',\n",
              " 'CCCCOP(=S)(OCCCC)SC1(SC)SSC=C1CC(C)(C)C',\n",
              " 'CC(C)(C)Cc1cssc1=S',\n",
              " 'CCOC(=O)C(CCCC#N)=NO',\n",
              " 'CCOC(=O)C1=C(C)NC(=O)NC1c1ccccc1',\n",
              " 'C[N+](C)(C)c1cc2c(nn1)Nc1ccccc1S2',\n",
              " 'COC1=CC(=O)C=C(OC)C1=O',\n",
              " 'CC(O)CCC(=O)NCCS(=O)(=O)O',\n",
              " 'CCCCCCCCCCCCCCCCN1CCCCCC1=O',\n",
              " 'COC(C(=O)C(O)C(C)O)C1Cc2cc3cc(OC4CC(OC5CC(O)C(O)C(C)O5)C(O)C(C)O4)c(C)c(O)c3c(O)c2C(=O)C1OC1CC(OC2CC(OC3CC(C)(O)C(O)C(C)O3)C(O)C(C)O2)C(O)C(C)O1',\n",
              " 'CC1C(=O)NC(=O)CC(=O)NC1=O',\n",
              " 'Oc1on[n+]2c1Cc1ccccc1C2',\n",
              " 'Oc1on[n+]2c1CSC2',\n",
              " 'Oc1on[n+]2c1CCCC2',\n",
              " 'COc1cc(C2c3cc4c(c(O)c3CC3COC(=O)C32)OCO4)cc(OC)c1O',\n",
              " 'COc1cc(C2c3cc4c(cc3C(O)C3COC(=O)C23)OCO4)cc(OC)c1OC',\n",
              " 'COc1cc(C2c3cc4c(c(O)c3CC3COC(=O)C32)OCO4)cc(OC)c1OC',\n",
              " 'N#CC(C#N)=C(C#N)C#N',\n",
              " 'Cc1c(Cl)c(=O)oc2cc(O)ccc12',\n",
              " 'O=c1[nH]c2cc(Cl)c(Br)cc2o1',\n",
              " 'CC(C)(C)c1ccc(CN2CCN(C(c3ccccc3)c3ccc(Cl)cc3)CC2)cc1',\n",
              " 'O=C(CCBr)N1CCN(C(=O)CCBr)CC1',\n",
              " 'CCN(CC)CCN1C(=O)c2cccc3cccc(c23)C1=O',\n",
              " 'Cc1ccccc1C(=O)c1ccccc1C(=O)O',\n",
              " 'O=C1OC(=O)C2=C1C1c3ccccc3C2c2ccccc21',\n",
              " 'O=C(O)C1C2c3ccccc3C(O)C1(C(=O)O)c1ccccc12',\n",
              " 'Oc1cc2c(nn1)CCCC2',\n",
              " 'N=c1nn[nH]n1-c1ccccc1',\n",
              " 'Cc1ccc([B-2]2(c3ccc(C)cc3)=NCCO2)cc1',\n",
              " 'CC(O)(c1ccccc1)c1nccc2ccccc12',\n",
              " 'CC(CCC(=O)NCCS(=O)(=O)O)C1CCC2C3C(O)CC4CC(O)CCC4(C)C3CC(O)C12C',\n",
              " 'O=C(O)C=CC(=O)Nc1ccc(S(=O)(=O)c2ccc(NC(=O)C=CC(=O)O)cc2)cc1',\n",
              " 'O=S1OCC2(CO1)COS(=O)OC2',\n",
              " 'CNc1ncnc2[nH]c(OC)nc12',\n",
              " 'NNC(=O)CCc1c[nH]c2ccccc12',\n",
              " 'NS(=O)(=O)c1cc2c(cc1Cl)=NC=NS=2(=O)O',\n",
              " 'Cc1ccccc1-c1nc2ccc(N)nc2nc1N',\n",
              " 'COc1ccc(C)cc1S(=O)(=O)c1c(Cl)cccc1[N+](=O)[O-]',\n",
              " 'O=C(O)C1CSCN1',\n",
              " 'CCCC=[N+]1CCOC(=S)S[Zn-2]12SC(=S)OCC[N+]2=CCCC',\n",
              " 'O=C(O)CCCCCCC(=O)O',\n",
              " ...]"
            ]
          },
          "metadata": {
            "tags": []
          },
          "execution_count": 11
        }
      ]
    },
    {
      "cell_type": "markdown",
      "metadata": {
        "id": "kSgFNRtj6FcU"
      },
      "source": [
        "# Mol2Vec\n",
        "DOC:\n",
        "https://mol2vec.readthedocs.io/en/latest/#usage\n",
        "Notebook:\n",
        "https://hub-binder.mybinder.ovh/user/samoturk-mol2vec_notebooks-xlro8o42/notebooks/Notebooks/Exploring_Mol2vec_vectors.ipynb\n"
      ]
    },
    {
      "cell_type": "markdown",
      "metadata": {
        "id": "Up37uSSZjunG"
      },
      "source": [
        "**Generating Molecules**"
      ]
    },
    {
      "cell_type": "code",
      "metadata": {
        "id": "njUx69Kfjsh6",
        "colab": {
          "base_uri": "https://localhost:8080/"
        },
        "outputId": "ee844c7c-548d-4f42-c718-e61f02401ac0"
      },
      "source": [
        "mol = [Chem.MolFromSmiles(x) for x in df_smis]"
      ],
      "execution_count": 12,
      "outputs": [
        {
          "output_type": "stream",
          "text": [
            "RDKit WARNING: [23:55:30] WARNING: not removing hydrogen atom without neighbors\n",
            "RDKit WARNING: [23:55:30] WARNING: not removing hydrogen atom without neighbors\n"
          ],
          "name": "stderr"
        }
      ]
    },
    {
      "cell_type": "code",
      "metadata": {
        "id": "8yzW8N3wO5k1"
      },
      "source": [
        "from rdkit.Chem.Descriptors import ExactMolWt\n",
        "from rdkit.Chem.rdchem import PeriodicTable as pt"
      ],
      "execution_count": 13,
      "outputs": []
    },
    {
      "cell_type": "code",
      "metadata": {
        "colab": {
          "base_uri": "https://localhost:8080/",
          "height": 1000
        },
        "id": "zZ0Oq_y8P450",
        "outputId": "daf83a45-5cd5-42f2-c7e2-0d62607ac3ed"
      },
      "source": [
        "Draw.MolsToGridImage(mol, molsPerRow=5, useSVG=False)"
      ],
      "execution_count": 14,
      "outputs": [
        {
          "output_type": "stream",
          "text": [
            "/usr/local/lib/python3.7/dist-packages/rdkit/Chem/Draw/IPythonConsole.py:192: UserWarning: Truncating the list of molecules to be displayed to 50. Change the maxMols value to display more.\n",
            "  % (maxMols))\n"
          ],
          "name": "stderr"
        },
        {
          "output_type": "execute_result",
          "data": {
            "image/png": "[encoded data removed]",
            "text/plain": [
              "<IPython.core.display.Image object>"
            ]
          },
          "metadata": {
            "tags": []
          },
          "execution_count": 14
        }
      ]
    },
    {
      "cell_type": "markdown",
      "metadata": {
        "id": "bwsXdF6MkAPC"
      },
      "source": [
        "**Encoding substructures of a molecule as words**"
      ]
    },
    {
      "cell_type": "code",
      "metadata": {
        "colab": {
          "base_uri": "https://localhost:8080/"
        },
        "id": "6sELzwIsiTZS",
        "outputId": "8ae9250a-edda-46d2-d49b-0ff3e66f4e38"
      },
      "source": [
        "sentence = mol2alt_sentence(mol[1], 1)\n",
        "sentence"
      ],
      "execution_count": 15,
      "outputs": [
        {
          "output_type": "execute_result",
          "data": {
            "text/plain": [
              "['2246703798',\n",
              " '980020035',\n",
              " '2246703798',\n",
              " '980020035',\n",
              " '3217380708',\n",
              " '3011598321',\n",
              " '3218693969',\n",
              " '951226070',\n",
              " '3218693969',\n",
              " '98513984',\n",
              " '3218693969',\n",
              " '98513984',\n",
              " '3218693969',\n",
              " '98513984',\n",
              " '3218693969',\n",
              " '951226070',\n",
              " '3217380708',\n",
              " '2713709787',\n",
              " '3189554341',\n",
              " '550725541',\n",
              " '42119399',\n",
              " '579608548',\n",
              " '3189554341',\n",
              " '550725541',\n",
              " '3217380708',\n",
              " '2713709787',\n",
              " '2246703798',\n",
              " '980020035',\n",
              " '2246703798',\n",
              " '980020035',\n",
              " '3217380708',\n",
              " '3011598321',\n",
              " '3218693969',\n",
              " '951226070',\n",
              " '3218693969',\n",
              " '98513984',\n",
              " '3218693969',\n",
              " '98513984',\n",
              " '3218693969',\n",
              " '98513984',\n",
              " '3218693969',\n",
              " '951226070',\n",
              " '2968968094',\n",
              " '4142616092',\n",
              " '3217380708',\n",
              " '1655331964',\n",
              " '3217380708',\n",
              " '2353112200',\n",
              " '3218693969',\n",
              " '951226070',\n",
              " '3218693969',\n",
              " '98513984',\n",
              " '3218693969',\n",
              " '98513984',\n",
              " '3218693969',\n",
              " '98513984',\n",
              " '3218693969',\n",
              " '951226070',\n",
              " '3189554341',\n",
              " '550725541',\n",
              " '3189554341',\n",
              " '550725541',\n",
              " '3217380708',\n",
              " '1655331964',\n",
              " '3217380708',\n",
              " '2353112200',\n",
              " '3218693969',\n",
              " '951226070',\n",
              " '3218693969',\n",
              " '98513984',\n",
              " '3218693969',\n",
              " '98513984',\n",
              " '3218693969',\n",
              " '98513984',\n",
              " '3218693969',\n",
              " '951226070',\n",
              " '2968968094',\n",
              " '4142616092']"
            ]
          },
          "metadata": {
            "tags": []
          },
          "execution_count": 15
        }
      ]
    },
    {
      "cell_type": "code",
      "metadata": {
        "id": "nRLHxUgXO7Mq"
      },
      "source": [
        "from gensim.models import word2vec\n",
        "model = word2vec.Word2Vec.load('/content/model_300dim.pkl')"
      ],
      "execution_count": 16,
      "outputs": []
    },
    {
      "cell_type": "code",
      "metadata": {
        "colab": {
          "base_uri": "https://localhost:8080/"
        },
        "id": "nSL3RcnURqQH",
        "outputId": "92dfeee9-e6ef-47aa-c637-84e7d28e5fbe"
      },
      "source": [
        "len(model.wv.vocab.keys())"
      ],
      "execution_count": 17,
      "outputs": [
        {
          "output_type": "execute_result",
          "data": {
            "text/plain": [
              "21003"
            ]
          },
          "metadata": {
            "tags": []
          },
          "execution_count": 17
        }
      ]
    },
    {
      "cell_type": "code",
      "metadata": {
        "colab": {
          "base_uri": "https://localhost:8080/"
        },
        "id": "2h3GoieMiqH7",
        "outputId": "6f096afd-d69d-4ac4-9762-097d4b913196"
      },
      "source": [
        "vec_identifiers = sentences2vec(sentence, model=model, unseen='UNK')\n",
        "vec_identifiers"
      ],
      "execution_count": 18,
      "outputs": [
        {
          "output_type": "execute_result",
          "data": {
            "text/plain": [
              "array([[ 1.2513949,  2.334477 , -1.2833012, ..., -3.1253083, -1.1473327,\n",
              "         1.8111763],\n",
              "       [ 1.1262554,  2.1010292, -1.1549711, ..., -2.8127775, -1.0325994,\n",
              "         1.6300586],\n",
              "       [ 1.2513949,  2.334477 , -1.2833012, ..., -3.1253083, -1.1473327,\n",
              "         1.8111763],\n",
              "       ...,\n",
              "       [ 1.1262554,  2.1010292, -1.1549711, ..., -2.8127775, -1.0325994,\n",
              "         1.6300586],\n",
              "       [ 1.2513949,  2.334477 , -1.2833012, ..., -3.1253083, -1.1473327,\n",
              "         1.8111763],\n",
              "       [ 1.2513949,  2.334477 , -1.2833012, ..., -3.1253083, -1.1473327,\n",
              "         1.8111763]], dtype=float32)"
            ]
          },
          "metadata": {
            "tags": []
          },
          "execution_count": 18
        }
      ]
    },
    {
      "cell_type": "code",
      "metadata": {
        "id": "Q9kpAeSFdlaI",
        "colab": {
          "base_uri": "https://localhost:8080/",
          "height": 34
        },
        "outputId": "64c1c538-56c1-4d80-e1b0-9c3ff07bf51b"
      },
      "source": [
        "df_vec = pd.DataFrame()\n",
        "df_vec = MolSentence(sentence)\n",
        "df_vec"
      ],
      "execution_count": 19,
      "outputs": [
        {
          "output_type": "execute_result",
          "data": {
            "text/html": [
              "MolSentence with 78 words"
            ],
            "text/plain": [
              "MolSentence with 78 words"
            ]
          },
          "metadata": {
            "tags": []
          },
          "execution_count": 19
        }
      ]
    },
    {
      "cell_type": "markdown",
      "metadata": {
        "id": "yXvRzTbu-dlW"
      },
      "source": [
        "# Embeddigns Generator - DeepMol"
      ]
    },
    {
      "cell_type": "markdown",
      "metadata": {
        "id": "D63JeS8KJNif"
      },
      "source": [
        "Deep Mol - Test"
      ]
    },
    {
      "cell_type": "code",
      "metadata": {
        "id": "sZzhFjFkJP0b"
      },
      "source": [
        "from typing import Any, Optional\n",
        "from Datasets.Datasets import Dataset\n",
        "from gensim.models import word2vec\n",
        "import os, sys\n",
        "class Mol2Vec():\n",
        "    '''Mol2Vec fingerprint implementation from https://doi.org/10.1021/acs.jcim.7b00616\n",
        "    Inspired by natural language processing techniques, Mol2vec, which is an unsupervised machine learning\n",
        "    approach to learn vector representations of molecular substructures. Mol2vec learns vector representations\n",
        "    of molecular substructures that point in similar directions for chemically related substructures.\n",
        "    Compounds can finally be encoded as vectors by summing the vectors of the individual substructures and,\n",
        "    for instance, be fed into supervised machine learning approaches to predict compound properties.\n",
        "    '''\n",
        "\n",
        "    def __init__(self):\n",
        "        self.model = word2vec.Word2Vec.load('/content/model_300dim.pkl')\n",
        "        \n",
        "    \n",
        "    def featurize(self, dataset: Dataset, log_every_n=1000):\n",
        "        molecules = [Chem.MolFromSmiles(x) for x in dataset.mols]\n",
        "        sentences = [mol2alt_sentence(x, 2) for x in molecules]\n",
        "        vectors = [DfVec(x) for x in sentences2vec(sentences, self.model, unseen='UNK')]\n",
        "        dataset.X = np.array([x.vec for x in vectors])\n",
        "        return dataset\n",
        "    "
      ],
      "execution_count": 4,
      "outputs": []
    },
    {
      "cell_type": "code",
      "metadata": {
        "colab": {
          "base_uri": "https://localhost:8080/"
        },
        "id": "5co_15NkTqmU",
        "outputId": "af2ac2ee-f349-45a4-96b5-c30eeef0453f"
      },
      "source": [
        "from loaders.Loaders import CSVLoader\n",
        "dataset = CSVLoader(dataset_path='HIV.csv', \n",
        "                    mols_field='smiles', \n",
        "                    labels_fields='HIV_active')#, shard_size=4000)\n",
        "dataset = dataset.create_dataset()\n",
        "dataset.get_shape()"
      ],
      "execution_count": 2,
      "outputs": [
        {
          "output_type": "stream",
          "text": [
            "Mols_shape:  41127\n",
            "Features_shape:  X not defined!\n",
            "Labels_shape:  (41127,)\n"
          ],
          "name": "stdout"
        }
      ]
    },
    {
      "cell_type": "code",
      "metadata": {
        "colab": {
          "base_uri": "https://localhost:8080/"
        },
        "id": "66fkLTXAJm-i",
        "outputId": "49697ffb-3311-487c-e99e-2712b0a51ac2"
      },
      "source": [
        "dataset = Mol2Vec().featurize(dataset)\n",
        "dataset.get_shape()"
      ],
      "execution_count": 5,
      "outputs": [
        {
          "output_type": "stream",
          "text": [
            "Mols_shape:  41127\n",
            "Features_shape:  (41127, 300)\n",
            "Labels_shape:  (41127,)\n"
          ],
          "name": "stdout"
        }
      ]
    },
    {
      "cell_type": "code",
      "metadata": {
        "id": "h8coxLh2WHmx"
      },
      "source": [
        "from splitters.splitters import SingletaskStratifiedSplitter\n",
        "from models.sklearnModels import SklearnModel\n",
        "from metrics.Metrics import Metric\n",
        "from metrics.metricsFunctions import roc_auc_score, precision_score, accuracy_score, confusion_matrix, classification_report, f1_score\n",
        "from parameterOptimization.HyperparameterOpt import GridHyperparamOpt\n",
        "\n",
        "from sklearn.ensemble import RandomForestClassifier"
      ],
      "execution_count": 6,
      "outputs": []
    },
    {
      "cell_type": "code",
      "metadata": {
        "id": "94JL0f9ud8S0"
      },
      "source": [
        "#Data Split\n",
        "splitter = SingletaskStratifiedSplitter()\n",
        "train_dataset, valid_dataset, test_dataset = splitter.train_valid_test_split(dataset=dataset, frac_train=0.6, \n",
        "                                                                             frac_valid=0.2, frac_test=0.2)"
      ],
      "execution_count": 7,
      "outputs": []
    },
    {
      "cell_type": "code",
      "metadata": {
        "id": "RRnCEFqed_JY"
      },
      "source": [
        "#Scikit-Learn Random Forest\n",
        "rf = RandomForestClassifier()\n",
        "model = SklearnModel(model=rf)"
      ],
      "execution_count": 8,
      "outputs": []
    },
    {
      "cell_type": "code",
      "metadata": {
        "colab": {
          "base_uri": "https://localhost:8080/"
        },
        "id": "nek1zxSqeBCe",
        "outputId": "bda3381d-63df-417a-dc6a-b22243e22cd4"
      },
      "source": [
        "#cross validation\n",
        "model.cross_validate(dataset, Metric(roc_auc_score), folds=3)"
      ],
      "execution_count": 9,
      "outputs": [
        {
          "output_type": "stream",
          "text": [
            "Computing Stratified K-fold split\n",
            "Train Score: \n",
            "roc_auc_score: \n",
            " 0.9994802494802495\n",
            "Test Score: \n",
            "roc_auc_score: \n",
            " 0.5904933276418006\n",
            "Train Score: \n",
            "roc_auc_score: \n",
            " 0.997920997920998\n",
            "Test Score: \n",
            "roc_auc_score: \n",
            " 0.5968059310968293\n",
            "Train Score: \n",
            "roc_auc_score: \n",
            " 1.0\n",
            "Test Score: \n",
            "roc_auc_score: \n",
            " 0.6002835602926319\n"
          ],
          "name": "stdout"
        },
        {
          "output_type": "execute_result",
          "data": {
            "text/plain": [
              "(SklearnModel(model=RandomForestClassifier(bootstrap=True, ccp_alpha=0.0,\n",
              "                                           class_weight=None, criterion='gini',\n",
              "                                           max_depth=None, max_features='auto',\n",
              "                                           max_leaf_nodes=None, max_samples=None,\n",
              "                                           min_impurity_decrease=0.0,\n",
              "                                           min_impurity_split=None,\n",
              "                                           min_samples_leaf=1,\n",
              "                                           min_samples_split=2,\n",
              "                                           min_weight_fraction_leaf=0.0,\n",
              "                                           n_estimators=100, n_jobs=None,\n",
              "                                           oob_score=False, random_state=None,\n",
              "                                           verbose=0, warm_start=False),\n",
              "              model_dir='/tmp/tmpfrra6yo1'),\n",
              " 1.0,\n",
              " 0.6002835602926319,\n",
              " [0.9994802494802495, 0.997920997920998, 1.0],\n",
              " [0.5904933276418006, 0.5968059310968293, 0.6002835602926319],\n",
              " 0.9991337491337492,\n",
              " 0.5958609396770873)"
            ]
          },
          "metadata": {
            "tags": []
          },
          "execution_count": 9
        }
      ]
    },
    {
      "cell_type": "code",
      "metadata": {
        "colab": {
          "base_uri": "https://localhost:8080/"
        },
        "id": "NMCmlwixeHN4",
        "outputId": "98828d4f-2333-45fb-8ab1-e10ca42717bc"
      },
      "source": [
        "# model training\n",
        "model.fit(train_dataset)"
      ],
      "execution_count": 10,
      "outputs": [
        {
          "output_type": "execute_result",
          "data": {
            "text/plain": [
              "RandomForestClassifier(bootstrap=True, ccp_alpha=0.0, class_weight=None,\n",
              "                       criterion='gini', max_depth=None, max_features='auto',\n",
              "                       max_leaf_nodes=None, max_samples=None,\n",
              "                       min_impurity_decrease=0.0, min_impurity_split=None,\n",
              "                       min_samples_leaf=1, min_samples_split=2,\n",
              "                       min_weight_fraction_leaf=0.0, n_estimators=100,\n",
              "                       n_jobs=None, oob_score=False, random_state=None,\n",
              "                       verbose=0, warm_start=False)"
            ]
          },
          "metadata": {
            "tags": []
          },
          "execution_count": 10
        }
      ]
    },
    {
      "cell_type": "code",
      "metadata": {
        "colab": {
          "base_uri": "https://localhost:8080/"
        },
        "id": "UUEDLfNGeIju",
        "outputId": "a2840550-ff73-4b4c-c8e5-2f9e0a81be06"
      },
      "source": [
        "metrics = [Metric(roc_auc_score), Metric(precision_score), Metric(accuracy_score), Metric(confusion_matrix), \n",
        "           Metric(classification_report)]\n",
        "print(\"#############################\")\n",
        "# evaluate the model\n",
        "print('Training Dataset: ')\n",
        "train_score = model.evaluate(train_dataset, metrics)\n",
        "print(\"#############################\")\n",
        "print('Validation Dataset: ')\n",
        "valid_score = model.evaluate(valid_dataset, metrics)\n",
        "print(\"#############################\")\n",
        "print('Test Dataset: ')\n",
        "test_score = model.evaluate(test_dataset, metrics)\n",
        "print(\"#############################\")"
      ],
      "execution_count": 11,
      "outputs": [
        {
          "output_type": "stream",
          "text": [
            "#############################\n",
            "Training Dataset: \n",
            "roc_auc_score: \n",
            " 1.0\n",
            "precision_score: \n",
            " 1.0\n",
            "accuracy_score: \n",
            " 1.0\n",
            "confusion_matrix: \n",
            " [[23810     0]\n",
            " [    0   862]]\n",
            "classification_report: \n",
            "               precision    recall  f1-score   support\n",
            "\n",
            "           0       1.00      1.00      1.00     23810\n",
            "           1       1.00      1.00      1.00       862\n",
            "\n",
            "    accuracy                           1.00     24672\n",
            "   macro avg       1.00      1.00      1.00     24672\n",
            "weighted avg       1.00      1.00      1.00     24672\n",
            "\n",
            "WARNING: task averager  cannot perform reduce with flexible type\n",
            "#############################\n",
            "Validation Dataset: \n",
            "roc_auc_score: \n",
            " 0.594432901257683\n",
            "precision_score: \n",
            " 0.7142857142857143\n",
            "accuracy_score: \n",
            " 0.9691147859922179\n",
            "confusion_matrix: \n",
            " [[7915   22]\n",
            " [ 232   55]]\n",
            "classification_report: \n",
            "               precision    recall  f1-score   support\n",
            "\n",
            "           0       0.97      1.00      0.98      7937\n",
            "           1       0.71      0.19      0.30       287\n",
            "\n",
            "    accuracy                           0.97      8224\n",
            "   macro avg       0.84      0.59      0.64      8224\n",
            "weighted avg       0.96      0.97      0.96      8224\n",
            "\n",
            "WARNING: task averager  cannot perform reduce with flexible type\n",
            "#############################\n",
            "Test Dataset: \n",
            "roc_auc_score: \n",
            " 0.5823637714949478\n",
            "precision_score: \n",
            " 0.7058823529411765\n",
            "accuracy_score: \n",
            " 0.9685068093385214\n",
            "confusion_matrix: \n",
            " [[7917   20]\n",
            " [ 239   48]]\n",
            "classification_report: \n",
            "               precision    recall  f1-score   support\n",
            "\n",
            "           0       0.97      1.00      0.98      7937\n",
            "           1       0.71      0.17      0.27       287\n",
            "\n",
            "    accuracy                           0.97      8224\n",
            "   macro avg       0.84      0.58      0.63      8224\n",
            "weighted avg       0.96      0.97      0.96      8224\n",
            "\n",
            "WARNING: task averager  cannot perform reduce with flexible type\n",
            "#############################\n"
          ],
          "name": "stdout"
        }
      ]
    }
  ]
}