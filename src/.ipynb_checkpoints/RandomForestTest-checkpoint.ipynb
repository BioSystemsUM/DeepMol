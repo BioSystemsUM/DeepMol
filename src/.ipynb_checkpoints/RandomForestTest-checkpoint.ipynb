{
 "cells": [
  {
   "cell_type": "code",
   "execution_count": 12,
   "metadata": {},
   "outputs": [],
   "source": [
    "from loaders.Loaders import CSVLoader\n",
    "from compoundFeaturization.rdkitFingerprints import MorganFingerprint\n",
    "from featureSelection.baseFeatureSelector import LowVarianceFS\n",
    "from splitters.splitters import SingletaskStratifiedSplitter\n",
    "from models.sklearnModels import SklearnModel\n",
    "from metrics.Metrics import Metric\n",
    "from metrics.metricsFunctions import roc_auc_score, precision_score, accuracy_score, confusion_matrix, classification_report, f1_score\n",
    "from parameterOptimization.HyperparameterOpt import GridHyperparamOpt\n",
    "\n",
    "from sklearn.ensemble import RandomForestClassifier"
   ]
  },
  {
   "cell_type": "code",
   "execution_count": 2,
   "metadata": {},
   "outputs": [
    {
     "name": "stdout",
     "output_type": "stream",
     "text": [
      "Mols_shape:  23290\n",
      "Features_shape:  X not defined!\n",
      "Labels_shape:  (23290,)\n"
     ]
    }
   ],
   "source": [
    "#Load Dataset\n",
    "dataset = CSVLoader(dataset_path='preprocessed_dataset_wfoodb.csv', \n",
    "                    mols_field='Smiles', \n",
    "                    labels_fields='Class', \n",
    "                    id_field='ID')#, shard_size=4000)\n",
    "dataset = dataset.create_dataset()\n",
    "dataset.get_shape()"
   ]
  },
  {
   "cell_type": "code",
   "execution_count": 3,
   "metadata": {},
   "outputs": [
    {
     "name": "stdout",
     "output_type": "stream",
     "text": [
      "Featurizing datapoint 0\n",
      "Featurizing datapoint 1000\n",
      "Featurizing datapoint 2000\n",
      "Featurizing datapoint 3000\n",
      "Featurizing datapoint 4000\n",
      "Featurizing datapoint 5000\n",
      "Featurizing datapoint 6000\n"
     ]
    },
    {
     "name": "stderr",
     "output_type": "stream",
     "text": [
      "RDKit ERROR: [09:59:09] Explicit valence for atom # 1 Cl, 4, is greater than permitted\n"
     ]
    },
    {
     "name": "stdout",
     "output_type": "stream",
     "text": [
      "error in smile: O=[Cl]=O\n",
      "Featurizing datapoint 7000\n"
     ]
    },
    {
     "name": "stderr",
     "output_type": "stream",
     "text": [
      "RDKit ERROR: [09:59:12] Explicit valence for atom # 3 B, 4, is greater than permitted\n",
      "RDKit ERROR: [09:59:12] Explicit valence for atom # 1 Cl, 9, is greater than permitted\n"
     ]
    },
    {
     "name": "stdout",
     "output_type": "stream",
     "text": [
      "error in smile: OB1O[B]2(O)OB(O)O[B](O)(O1)O2\n",
      "error in smile: O=[Cl-](=O)(=O)=O\n",
      "Featurizing datapoint 8000\n",
      "Featurizing datapoint 9000\n",
      "Featurizing datapoint 10000\n",
      "Featurizing datapoint 11000\n",
      "Featurizing datapoint 12000\n",
      "Featurizing datapoint 13000\n",
      "Featurizing datapoint 14000\n"
     ]
    },
    {
     "name": "stderr",
     "output_type": "stream",
     "text": [
      "RDKit ERROR: [09:59:27] Explicit valence for atom # 0 P, 11, is greater than permitted\n"
     ]
    },
    {
     "name": "stdout",
     "output_type": "stream",
     "text": [
      "error in smile: [P](OCC=C(C)C)(OCC=C(C)C)(=O)(OP(OCC=C(C)C)(OCC=C(C)C)=O)(CC=C(C)C)(CC=C(C)C)(CC=C(C)C)(CC=C(C)C)(CC=C(C)C)CC=C(C)C\n",
      "Featurizing datapoint 15000\n",
      "Featurizing datapoint 16000\n",
      "Featurizing datapoint 17000\n",
      "Featurizing datapoint 18000\n",
      "Featurizing datapoint 19000\n",
      "Featurizing datapoint 20000\n",
      "Featurizing datapoint 21000\n",
      "Featurizing datapoint 22000\n",
      "Featurizing datapoint 23000\n",
      "Elements with indexes:  [6257, 7708, 7709, 14244]  were removed due to the presence of NAs!\n",
      "The elements in question are:  ['O=[Cl]=O' 'OB1O[B]2(O)OB(O)O[B](O)(O1)O2' 'O=[Cl-](=O)(=O)=O'\n",
      " '[P](OCC=C(C)C)(OCC=C(C)C)(=O)(OP(OCC=C(C)C)(OCC=C(C)C)=O)(CC=C(C)C)(CC=C(C)C)(CC=C(C)C)(CC=C(C)C)(CC=C(C)C)CC=C(C)C']\n",
      "Mols_shape:  23286\n",
      "Features_shape:  (23286, 1024)\n",
      "Labels_shape:  (23286,)\n"
     ]
    }
   ],
   "source": [
    "#Featurization\n",
    "dataset = MorganFingerprint().featurize(dataset)\n",
    "dataset.get_shape()"
   ]
  },
  {
   "cell_type": "code",
   "execution_count": 4,
   "metadata": {},
   "outputs": [
    {
     "name": "stdout",
     "output_type": "stream",
     "text": [
      "Mols_shape:  23286\n",
      "Features_shape:  (23286, 49)\n",
      "Labels_shape:  (23286,)\n"
     ]
    }
   ],
   "source": [
    "#Feature Selection\n",
    "dataset = LowVarianceFS(0.15).featureSelection(dataset)\n",
    "dataset.get_shape()"
   ]
  },
  {
   "cell_type": "code",
   "execution_count": 5,
   "metadata": {},
   "outputs": [],
   "source": [
    "#Data Split\n",
    "splitter = SingletaskStratifiedSplitter()\n",
    "train_dataset, valid_dataset, test_dataset = splitter.train_valid_test_split(dataset=dataset, frac_train=0.6, \n",
    "                                                                             frac_valid=0.2, frac_test=0.2)"
   ]
  },
  {
   "cell_type": "code",
   "execution_count": 6,
   "metadata": {},
   "outputs": [],
   "source": [
    "#Scikit-Learn Random Forest\n",
    "rf = RandomForestClassifier()\n",
    "model = SklearnModel(model=rf)"
   ]
  },
  {
   "cell_type": "code",
   "execution_count": 7,
   "metadata": {},
   "outputs": [
    {
     "name": "stdout",
     "output_type": "stream",
     "text": [
      "Computing Stratified K-fold split\n",
      "Train Score: \n",
      "Models Class line 158 --> evaluator\n",
      "roc_auc_score: \n",
      " 0.8504358443281697\n",
      "Test Score: \n",
      "Models Class line 158 --> evaluator\n",
      "roc_auc_score: \n",
      " 0.6530571006431426\n",
      "Train Score: \n",
      "Models Class line 158 --> evaluator\n",
      "roc_auc_score: \n",
      " 0.8447633704877562\n",
      "Test Score: \n",
      "Models Class line 158 --> evaluator\n",
      "roc_auc_score: \n",
      " 0.6495235803195293\n",
      "Train Score: \n",
      "Models Class line 158 --> evaluator\n",
      "roc_auc_score: \n",
      " 0.8602446513049162\n",
      "Test Score: \n",
      "Models Class line 158 --> evaluator\n",
      "roc_auc_score: \n",
      " 0.6341424244423444\n"
     ]
    },
    {
     "data": {
      "text/plain": [
       "(SklearnModel(model=RandomForestClassifier(), model_dir='/tmp/tmp3fu47id7'),\n",
       " 0.8504358443281697,\n",
       " 0.6530571006431426,\n",
       " [0.8504358443281697, 0.8447633704877562, 0.8602446513049162],\n",
       " [0.6530571006431426, 0.6495235803195293, 0.6341424244423444],\n",
       " 0.8518146220402807,\n",
       " 0.6455743684683387)"
      ]
     },
     "execution_count": 7,
     "metadata": {},
     "output_type": "execute_result"
    }
   ],
   "source": [
    "#cross validation\n",
    "model.cross_validate(dataset, Metric(roc_auc_score), folds=3)"
   ]
  },
  {
   "cell_type": "code",
   "execution_count": 8,
   "metadata": {},
   "outputs": [
    {
     "data": {
      "text/plain": [
       "RandomForestClassifier()"
      ]
     },
     "execution_count": 8,
     "metadata": {},
     "output_type": "execute_result"
    }
   ],
   "source": [
    "# model training\n",
    "model.fit(train_dataset)"
   ]
  },
  {
   "cell_type": "code",
   "execution_count": 9,
   "metadata": {},
   "outputs": [
    {
     "name": "stdout",
     "output_type": "stream",
     "text": [
      "#############################\n",
      "Training Dataset: \n",
      "Models Class line 158 --> evaluator\n",
      "roc_auc_score: \n",
      " 0.8516885227881551\n",
      "precision_score: \n",
      " 0.9424703891708968\n",
      "accuracy_score: \n",
      " 0.9809564719358533\n",
      "confusion_matrix: \n",
      " [[13145    34]\n",
      " [  232   557]]\n",
      "classification_report: \n",
      "               precision    recall  f1-score   support\n",
      "\n",
      "           0       0.98      1.00      0.99     13179\n",
      "           1       0.94      0.71      0.81       789\n",
      "\n",
      "    accuracy                           0.98     13968\n",
      "   macro avg       0.96      0.85      0.90     13968\n",
      "weighted avg       0.98      0.98      0.98     13968\n",
      "\n",
      "WARNING: task averager  cannot perform reduce with flexible type\n",
      "#############################\n",
      "Validation Dataset: \n",
      "Models Class line 158 --> evaluator\n",
      "roc_auc_score: \n",
      " 0.6499109951978804\n",
      "precision_score: \n",
      " 0.564625850340136\n",
      "accuracy_score: \n",
      " 0.9473797250859106\n",
      "confusion_matrix: \n",
      " [[4328   64]\n",
      " [ 181   83]]\n",
      "classification_report: \n",
      "               precision    recall  f1-score   support\n",
      "\n",
      "           0       0.96      0.99      0.97      4392\n",
      "           1       0.56      0.31      0.40       264\n",
      "\n",
      "    accuracy                           0.95      4656\n",
      "   macro avg       0.76      0.65      0.69      4656\n",
      "weighted avg       0.94      0.95      0.94      4656\n",
      "\n",
      "WARNING: task averager  cannot perform reduce with flexible type\n",
      "#############################\n",
      "Test Dataset: \n",
      "Models Class line 158 --> evaluator\n",
      "roc_auc_score: \n",
      " 0.6463666271695637\n",
      "precision_score: \n",
      " 0.5472972972972973\n",
      "accuracy_score: \n",
      " 0.946520618556701\n",
      "confusion_matrix: \n",
      " [[4326   67]\n",
      " [ 182   81]]\n",
      "classification_report: \n",
      "               precision    recall  f1-score   support\n",
      "\n",
      "           0       0.96      0.98      0.97      4393\n",
      "           1       0.55      0.31      0.39       263\n",
      "\n",
      "    accuracy                           0.95      4656\n",
      "   macro avg       0.75      0.65      0.68      4656\n",
      "weighted avg       0.94      0.95      0.94      4656\n",
      "\n",
      "WARNING: task averager  cannot perform reduce with flexible type\n",
      "#############################\n"
     ]
    }
   ],
   "source": [
    "metrics = [Metric(roc_auc_score), Metric(precision_score), Metric(accuracy_score), Metric(confusion_matrix), \n",
    "           Metric(classification_report)]\n",
    "print(\"#############################\")\n",
    "# evaluate the model\n",
    "print('Training Dataset: ')\n",
    "train_score = model.evaluate(train_dataset, metrics)\n",
    "print(\"#############################\")\n",
    "print('Validation Dataset: ')\n",
    "valid_score = model.evaluate(valid_dataset, metrics)\n",
    "print(\"#############################\")\n",
    "print('Test Dataset: ')\n",
    "test_score = model.evaluate(test_dataset, metrics)\n",
    "print(\"#############################\")"
   ]
  },
  {
   "cell_type": "code",
   "execution_count": 10,
   "metadata": {},
   "outputs": [],
   "source": [
    "#Build a model function for hyperparameter optimization\n",
    "def rf_model_builder(n_estimators, max_features, class_weight, model_dir=None):\n",
    "    rf_model = RandomForestClassifier(n_estimators=n_estimators, max_features=max_features, \n",
    "                                      class_weight=class_weight)\n",
    "    return SklearnModel(rf_model, model_dir)\n",
    "\n",
    "params_dict_rf = {\"n_estimators\": [10, 100],\n",
    "                  \"max_features\": [\"auto\", \"sqrt\", \"log2\", None],\n",
    "                  \"class_weight\": [{0: 1., 1: 1.}, {0: 1., 1: 5}, {0: 1., 1: 10}]\n",
    "                  }\n",
    "    \n"
   ]
  },
  {
   "cell_type": "code",
   "execution_count": 14,
   "metadata": {},
   "outputs": [
    {
     "name": "stdout",
     "output_type": "stream",
     "text": [
      "Fitting 15 random models from a space of 24 possible models.\n",
      "Fitting model 1/15\n",
      "hyperparameters: {'n_estimators': 10, 'max_features': 'auto', 'class_weight': {0: 1.0, 1: 1.0}}\n",
      "Models Class line 158 --> evaluator\n",
      "f1_score: \n",
      " 0.4272727272727273\n",
      "Model 1/15, Metric f1_score, Validation set 1: 0.427273\n",
      "\tbest_validation_score so far: 0.427273\n",
      "Fitting model 2/15\n",
      "hyperparameters: {'n_estimators': 10, 'max_features': 'auto', 'class_weight': {0: 1.0, 1: 5}}\n",
      "Models Class line 158 --> evaluator\n",
      "f1_score: \n",
      " 0.430939226519337\n",
      "Model 2/15, Metric f1_score, Validation set 2: 0.430939\n",
      "\tbest_validation_score so far: 0.430939\n",
      "Fitting model 3/15\n",
      "hyperparameters: {'n_estimators': 10, 'max_features': 'sqrt', 'class_weight': {0: 1.0, 1: 1.0}}\n",
      "Models Class line 158 --> evaluator\n",
      "f1_score: \n",
      " 0.3962703962703962\n",
      "Model 3/15, Metric f1_score, Validation set 3: 0.396270\n",
      "\tbest_validation_score so far: 0.430939\n",
      "Fitting model 4/15\n",
      "hyperparameters: {'n_estimators': 10, 'max_features': 'sqrt', 'class_weight': {0: 1.0, 1: 5}}\n",
      "Models Class line 158 --> evaluator\n",
      "f1_score: \n",
      " 0.42647058823529416\n",
      "Model 4/15, Metric f1_score, Validation set 4: 0.426471\n",
      "\tbest_validation_score so far: 0.430939\n",
      "Fitting model 5/15\n",
      "hyperparameters: {'n_estimators': 10, 'max_features': 'sqrt', 'class_weight': {0: 1.0, 1: 10}}\n",
      "Models Class line 158 --> evaluator\n",
      "f1_score: \n",
      " 0.413907284768212\n",
      "Model 5/15, Metric f1_score, Validation set 5: 0.413907\n",
      "\tbest_validation_score so far: 0.430939\n",
      "Fitting model 6/15\n",
      "hyperparameters: {'n_estimators': 10, 'max_features': 'log2', 'class_weight': {0: 1.0, 1: 1.0}}\n",
      "Models Class line 158 --> evaluator\n",
      "f1_score: \n",
      " 0.4269141531322506\n",
      "Model 6/15, Metric f1_score, Validation set 6: 0.426914\n",
      "\tbest_validation_score so far: 0.430939\n",
      "Fitting model 7/15\n",
      "hyperparameters: {'n_estimators': 10, 'max_features': 'log2', 'class_weight': {0: 1.0, 1: 5}}\n",
      "Models Class line 158 --> evaluator\n",
      "f1_score: \n",
      " 0.4210526315789474\n",
      "Model 7/15, Metric f1_score, Validation set 7: 0.421053\n",
      "\tbest_validation_score so far: 0.430939\n",
      "Fitting model 8/15\n",
      "hyperparameters: {'n_estimators': 10, 'max_features': 'log2', 'class_weight': {0: 1.0, 1: 10}}\n",
      "Models Class line 158 --> evaluator\n",
      "f1_score: \n",
      " 0.3986486486486487\n",
      "Model 8/15, Metric f1_score, Validation set 8: 0.398649\n",
      "\tbest_validation_score so far: 0.430939\n",
      "Fitting model 9/15\n",
      "hyperparameters: {'n_estimators': 10, 'max_features': None, 'class_weight': {0: 1.0, 1: 5}}\n",
      "Models Class line 158 --> evaluator\n",
      "f1_score: \n",
      " 0.4239130434782609\n",
      "Model 9/15, Metric f1_score, Validation set 9: 0.423913\n",
      "\tbest_validation_score so far: 0.430939\n",
      "Fitting model 10/15\n",
      "hyperparameters: {'n_estimators': 100, 'max_features': 'auto', 'class_weight': {0: 1.0, 1: 5}}\n",
      "Models Class line 158 --> evaluator\n",
      "f1_score: \n",
      " 0.41366223908918404\n",
      "Model 10/15, Metric f1_score, Validation set 10: 0.413662\n",
      "\tbest_validation_score so far: 0.430939\n",
      "Fitting model 11/15\n",
      "hyperparameters: {'n_estimators': 100, 'max_features': 'auto', 'class_weight': {0: 1.0, 1: 10}}\n",
      "Models Class line 158 --> evaluator\n",
      "f1_score: \n",
      " 0.40067911714770793\n",
      "Model 11/15, Metric f1_score, Validation set 11: 0.400679\n",
      "\tbest_validation_score so far: 0.430939\n",
      "Fitting model 12/15\n",
      "hyperparameters: {'n_estimators': 100, 'max_features': 'sqrt', 'class_weight': {0: 1.0, 1: 1.0}}\n",
      "Models Class line 158 --> evaluator\n",
      "f1_score: \n",
      " 0.4000000000000001\n",
      "Model 12/15, Metric f1_score, Validation set 12: 0.400000\n",
      "\tbest_validation_score so far: 0.430939\n",
      "Fitting model 13/15\n",
      "hyperparameters: {'n_estimators': 100, 'max_features': 'sqrt', 'class_weight': {0: 1.0, 1: 10}}\n",
      "Models Class line 158 --> evaluator\n",
      "f1_score: \n",
      " 0.418848167539267\n",
      "Model 13/15, Metric f1_score, Validation set 13: 0.418848\n",
      "\tbest_validation_score so far: 0.430939\n",
      "Fitting model 14/15\n",
      "hyperparameters: {'n_estimators': 100, 'max_features': 'log2', 'class_weight': {0: 1.0, 1: 5}}\n",
      "Models Class line 158 --> evaluator\n",
      "f1_score: \n",
      " 0.4304761904761904\n",
      "Model 14/15, Metric f1_score, Validation set 14: 0.430476\n",
      "\tbest_validation_score so far: 0.430939\n",
      "Fitting model 15/15\n",
      "hyperparameters: {'n_estimators': 100, 'max_features': None, 'class_weight': {0: 1.0, 1: 10}}\n",
      "Models Class line 158 --> evaluator\n",
      "f1_score: \n",
      " 0.39663865546218485\n",
      "Model 15/15, Metric f1_score, Validation set 15: 0.396639\n",
      "\tbest_validation_score so far: 0.430939\n",
      "Models Class line 158 --> evaluator\n",
      "f1_score: \n",
      " 0.7725996631106121\n",
      "Best hyperparameters: (10, 'auto', {0: 1.0, 1: 5})\n",
      "train_score: 0.772600\n",
      "validation_score: 0.430939\n",
      "#################\n",
      "(10, 'auto', {0: 1.0, 1: 5})\n",
      "SklearnModel(model=RandomForestClassifier(class_weight={0: 1.0, 1: 5},\n",
      "                                          n_estimators=10),\n",
      "             model_dir='/tmp/tmpmb470wk8')\n"
     ]
    }
   ],
   "source": [
    "#Hyperparameter Optimization\n",
    "optimizer = GridHyperparamOpt(rf_model_builder)\n",
    "\n",
    "best_rf, best_hyperparams, all_results = optimizer.hyperparam_search(params_dict_rf, \n",
    "                                                                     train_dataset, \n",
    "                                                                     valid_dataset, \n",
    "                                                                     Metric(f1_score))\n",
    "\n",
    "print('#################')\n",
    "print(best_hyperparams)\n",
    "print(best_rf)"
   ]
  },
  {
   "cell_type": "code",
   "execution_count": 15,
   "metadata": {},
   "outputs": [
    {
     "name": "stdout",
     "output_type": "stream",
     "text": [
      "Models Class line 158 --> evaluator\n",
      "roc_auc_score: \n",
      " 0.6860880470918563\n",
      "precision_score: \n",
      " 0.3898916967509025\n",
      "accuracy_score: \n",
      " 0.9304123711340206\n",
      "confusion_matrix: \n",
      " [[4224  169]\n",
      " [ 155  108]]\n",
      "classification_report: \n",
      "               precision    recall  f1-score   support\n",
      "\n",
      "           0       0.96      0.96      0.96      4393\n",
      "           1       0.39      0.41      0.40       263\n",
      "\n",
      "    accuracy                           0.93      4656\n",
      "   macro avg       0.68      0.69      0.68      4656\n",
      "weighted avg       0.93      0.93      0.93      4656\n",
      "\n",
      "WARNING: task averager  cannot perform reduce with flexible type\n"
     ]
    },
    {
     "data": {
      "text/plain": [
       "{'roc_auc_score': 0.6860880470918563,\n",
       " 'precision_score': 0.3898916967509025,\n",
       " 'accuracy_score': 0.9304123711340206,\n",
       " 'confusion_matrix': 1164.0,\n",
       " 'classification_report': None}"
      ]
     },
     "execution_count": 15,
     "metadata": {},
     "output_type": "execute_result"
    }
   ],
   "source": [
    "#Evaluate model\n",
    "best_rf.evaluate(test_dataset, metrics)"
   ]
  }
 ],
 "metadata": {
  "kernelspec": {
   "display_name": "Python 3",
   "language": "python",
   "name": "python3"
  },
  "language_info": {
   "codemirror_mode": {
    "name": "ipython",
    "version": 3
   },
   "file_extension": ".py",
   "mimetype": "text/x-python",
   "name": "python",
   "nbconvert_exporter": "python",
   "pygments_lexer": "ipython3",
   "version": "3.6.2"
  }
 },
 "nbformat": 4,
 "nbformat_minor": 4
}
