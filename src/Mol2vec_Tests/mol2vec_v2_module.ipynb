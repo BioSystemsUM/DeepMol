{
  "nbformat": 4,
  "nbformat_minor": 0,
  "metadata": {
    "colab": {
      "name": "mol2vec_v2_RandomForest.ipynb",
      "provenance": [],
      "collapsed_sections": [
        "hCuMDSAleQYI"
      ]
    },
    "kernelspec": {
      "name": "python3",
      "display_name": "Python 3"
    },
    "language_info": {
      "name": "python"
    },
    "accelerator": "GPU"
  },
  "cells": [
    {
      "cell_type": "markdown",
      "metadata": {
        "id": "D63JeS8KJNif"
      },
      "source": [
        "# DeepMol - Testing with RandomForest"
      ]
    },
    {
      "cell_type": "code",
      "metadata": {
        "id": "vu-xWAyNQCqU"
      },
      "source": [
        "from IPython.display import clear_output "
      ],
      "execution_count": 1,
      "outputs": []
    },
    {
      "cell_type": "code",
      "metadata": {
        "id": "aaA7pLnLP6px"
      },
      "source": [
        "!pip install kora\n",
        "import kora.install.rdkit\n",
        "clear_output()"
      ],
      "execution_count": 2,
      "outputs": []
    },
    {
      "cell_type": "code",
      "metadata": {
        "id": "6IjiWihJQOuG"
      },
      "source": [
        "!pip install git+https://github.com/samoturk/mol2vec\n",
        "clear_output()"
      ],
      "execution_count": 3,
      "outputs": []
    },
    {
      "cell_type": "code",
      "metadata": {
        "id": "sZzhFjFkJP0b"
      },
      "source": [
        "from compoundFeaturization.Mol2vec.mol2vec_v2 import Mol2Vec  "
      ],
      "execution_count": 4,
      "outputs": []
    },
    {
      "cell_type": "code",
      "metadata": {
        "colab": {
          "base_uri": "https://localhost:8080/"
        },
        "id": "5co_15NkTqmU",
        "outputId": "1166b3b0-6ac9-44d2-d568-140b988d1dc8"
      },
      "source": [
        "from loaders.Loaders import CSVLoader\n",
        "dataset = CSVLoader(dataset_path='../data/HIV.csv', \n",
        "                    mols_field='smiles', \n",
        "                    labels_fields='HIV_active')#, shard_size=4000)\n",
        "dataset = dataset.create_dataset()\n",
        "dataset.get_shape()"
      ],
      "execution_count": 5,
      "outputs": [
        {
          "output_type": "stream",
          "text": [
            "Mols_shape:  41127\n",
            "Features_shape:  X not defined!\n",
            "Labels_shape:  (41127,)\n"
          ],
          "name": "stdout"
        }
      ]
    },
    {
      "cell_type": "code",
      "metadata": {
        "colab": {
          "base_uri": "https://localhost:8080/"
        },
        "id": "66fkLTXAJm-i",
        "outputId": "8ce3bfd1-cdca-49b3-d8d8-41659760daa6"
      },
      "source": [
        "dataset = Mol2Vec().featurize(dataset)\n",
        "dataset.get_shape()"
      ],
      "execution_count": 6,
      "outputs": [
        {
          "output_type": "stream",
          "text": [
            "Mols_shape:  41127\n",
            "Features_shape:  (41127, 300)\n",
            "Labels_shape:  (41127,)\n"
          ],
          "name": "stdout"
        }
      ]
    },
    {
      "cell_type": "code",
      "metadata": {
        "id": "h8coxLh2WHmx"
      },
      "source": [
        "from splitters.splitters import SingletaskStratifiedSplitter\n",
        "from models.sklearnModels import SklearnModel\n",
        "from metrics.Metrics import Metric\n",
        "from metrics.metricsFunctions import roc_auc_score, precision_score, accuracy_score, confusion_matrix, classification_report, f1_score\n",
        "from parameterOptimization.HyperparameterOpt import GridHyperparamOpt\n",
        "\n",
        "from sklearn.ensemble import RandomForestClassifier"
      ],
      "execution_count": 7,
      "outputs": []
    },
    {
      "cell_type": "code",
      "metadata": {
        "id": "94JL0f9ud8S0"
      },
      "source": [
        "#Data Split\n",
        "splitter = SingletaskStratifiedSplitter()\n",
        "train_dataset, valid_dataset, test_dataset = splitter.train_valid_test_split(dataset=dataset, frac_train=0.6, \n",
        "                                                                             frac_valid=0.2, frac_test=0.2)"
      ],
      "execution_count": 8,
      "outputs": []
    },
    {
      "cell_type": "code",
      "metadata": {
        "id": "RRnCEFqed_JY"
      },
      "source": [
        "#Scikit-Learn Random Forest\n",
        "rf = RandomForestClassifier()\n",
        "model = SklearnModel(model=rf)"
      ],
      "execution_count": 9,
      "outputs": []
    },
    {
      "cell_type": "code",
      "metadata": {
        "colab": {
          "base_uri": "https://localhost:8080/"
        },
        "id": "nek1zxSqeBCe",
        "outputId": "5a709bc0-0d46-40b0-978a-c5d9988fe9a9"
      },
      "source": [
        "#cross validation\n",
        "model.cross_validate(dataset, Metric(roc_auc_score), folds=3)"
      ],
      "execution_count": 10,
      "outputs": [
        {
          "output_type": "stream",
          "text": [
            "Computing Stratified K-fold split\n",
            "Train Score: \n",
            "roc_auc_score: \n",
            " 0.9994802494802495\n",
            "Test Score: \n",
            "roc_auc_score: \n",
            " 0.5863353234837965\n",
            "Train Score: \n",
            "roc_auc_score: \n",
            " 0.9994802494802495\n",
            "Test Score: \n",
            "roc_auc_score: \n",
            " 0.6026649512437235\n",
            "Train Score: \n",
            "roc_auc_score: \n",
            " 0.9994802494802495\n",
            "Test Score: \n",
            "roc_auc_score: \n",
            " 0.5883387283447762\n"
          ],
          "name": "stdout"
        },
        {
          "output_type": "execute_result",
          "data": {
            "text/plain": [
              "(SklearnModel(model=RandomForestClassifier(bootstrap=True, ccp_alpha=0.0,\n",
              "                                           class_weight=None, criterion='gini',\n",
              "                                           max_depth=None, max_features='auto',\n",
              "                                           max_leaf_nodes=None, max_samples=None,\n",
              "                                           min_impurity_decrease=0.0,\n",
              "                                           min_impurity_split=None,\n",
              "                                           min_samples_leaf=1,\n",
              "                                           min_samples_split=2,\n",
              "                                           min_weight_fraction_leaf=0.0,\n",
              "                                           n_estimators=100, n_jobs=None,\n",
              "                                           oob_score=False, random_state=None,\n",
              "                                           verbose=0, warm_start=False),\n",
              "              model_dir='/tmp/tmp1lnmf7h3'),\n",
              " 0.9994802494802495,\n",
              " 0.6026649512437235,\n",
              " [0.9994802494802495, 0.9994802494802495, 0.9994802494802495],\n",
              " [0.5863353234837965, 0.6026649512437235, 0.5883387283447762],\n",
              " 0.9994802494802495,\n",
              " 0.5924463343574321)"
            ]
          },
          "metadata": {
            "tags": []
          },
          "execution_count": 10
        }
      ]
    },
    {
      "cell_type": "code",
      "metadata": {
        "colab": {
          "base_uri": "https://localhost:8080/"
        },
        "id": "NMCmlwixeHN4",
        "outputId": "d4185dfe-3265-4d82-a78a-bea47991101b"
      },
      "source": [
        "# model training\n",
        "model.fit(train_dataset)"
      ],
      "execution_count": 11,
      "outputs": [
        {
          "output_type": "execute_result",
          "data": {
            "text/plain": [
              "RandomForestClassifier(bootstrap=True, ccp_alpha=0.0, class_weight=None,\n",
              "                       criterion='gini', max_depth=None, max_features='auto',\n",
              "                       max_leaf_nodes=None, max_samples=None,\n",
              "                       min_impurity_decrease=0.0, min_impurity_split=None,\n",
              "                       min_samples_leaf=1, min_samples_split=2,\n",
              "                       min_weight_fraction_leaf=0.0, n_estimators=100,\n",
              "                       n_jobs=None, oob_score=False, random_state=None,\n",
              "                       verbose=0, warm_start=False)"
            ]
          },
          "metadata": {
            "tags": []
          },
          "execution_count": 11
        }
      ]
    },
    {
      "cell_type": "code",
      "metadata": {
        "colab": {
          "base_uri": "https://localhost:8080/"
        },
        "id": "UUEDLfNGeIju",
        "outputId": "6256bd6a-0ab7-4a5b-9671-4b6c44d73ac8"
      },
      "source": [
        "metrics = [Metric(roc_auc_score), Metric(precision_score), Metric(accuracy_score), Metric(confusion_matrix), \n",
        "           Metric(classification_report)]\n",
        "print(\"#############################\")\n",
        "# evaluate the model\n",
        "print('Training Dataset: ')\n",
        "train_score = model.evaluate(train_dataset, metrics)\n",
        "print(\"#############################\")\n",
        "print('Validation Dataset: ')\n",
        "valid_score = model.evaluate(valid_dataset, metrics)\n",
        "print(\"#############################\")\n",
        "print('Test Dataset: ')\n",
        "test_score = model.evaluate(test_dataset, metrics)\n",
        "print(\"#############################\")"
      ],
      "execution_count": 12,
      "outputs": [
        {
          "output_type": "stream",
          "text": [
            "#############################\n",
            "Training Dataset: \n",
            "roc_auc_score: \n",
            " 1.0\n",
            "precision_score: \n",
            " 1.0\n",
            "accuracy_score: \n",
            " 1.0\n",
            "confusion_matrix: \n",
            " [[23811     0]\n",
            " [    0   861]]\n",
            "classification_report: \n",
            "               precision    recall  f1-score   support\n",
            "\n",
            "           0       1.00      1.00      1.00     23811\n",
            "           1       1.00      1.00      1.00       861\n",
            "\n",
            "    accuracy                           1.00     24672\n",
            "   macro avg       1.00      1.00      1.00     24672\n",
            "weighted avg       1.00      1.00      1.00     24672\n",
            "\n",
            "WARNING: task averager  cannot perform reduce with flexible type\n",
            "#############################\n",
            "Validation Dataset: \n",
            "roc_auc_score: \n",
            " 0.5960881496415771\n",
            "precision_score: \n",
            " 0.7567567567567568\n",
            "accuracy_score: \n",
            " 0.9696011673151751\n",
            "confusion_matrix: \n",
            " [[7918   18]\n",
            " [ 232   56]]\n",
            "classification_report: \n",
            "               precision    recall  f1-score   support\n",
            "\n",
            "           0       0.97      1.00      0.98      7936\n",
            "           1       0.76      0.19      0.31       288\n",
            "\n",
            "    accuracy                           0.97      8224\n",
            "   macro avg       0.86      0.60      0.65      8224\n",
            "weighted avg       0.96      0.97      0.96      8224\n",
            "\n",
            "WARNING: task averager  cannot perform reduce with flexible type\n",
            "#############################\n",
            "Test Dataset: \n",
            "roc_auc_score: \n",
            " 0.5836019630197562\n",
            "precision_score: \n",
            " 0.6363636363636364\n",
            "accuracy_score: \n",
            " 0.9676556420233463\n",
            "confusion_matrix: \n",
            " [[7909   28]\n",
            " [ 238   49]]\n",
            "classification_report: \n",
            "               precision    recall  f1-score   support\n",
            "\n",
            "           0       0.97      1.00      0.98      7937\n",
            "           1       0.64      0.17      0.27       287\n",
            "\n",
            "    accuracy                           0.97      8224\n",
            "   macro avg       0.80      0.58      0.63      8224\n",
            "weighted avg       0.96      0.97      0.96      8224\n",
            "\n",
            "WARNING: task averager  cannot perform reduce with flexible type\n",
            "#############################\n"
          ],
          "name": "stdout"
        }
      ]
    }
  ]
}
