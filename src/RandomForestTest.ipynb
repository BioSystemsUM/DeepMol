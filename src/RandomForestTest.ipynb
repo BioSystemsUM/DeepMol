{
 "cells": [
  {
   "cell_type": "code",
   "execution_count": 1,
   "metadata": {},
   "outputs": [],
   "source": [
    "from loaders.Loaders import CSVLoader\n",
    "from compoundFeaturization.rdkitFingerprints import MorganFingerprint\n",
    "from featureSelection.baseFeatureSelector import LowVarianceFS\n",
    "from splitters.splitters import SingletaskStratifiedSplitter\n",
    "from models.sklearnModels import SklearnModel\n",
    "from metrics.Metrics import Metric\n",
    "from metrics.metricsFunctions import r2_score, roc_auc_score, precision_score, accuracy_score, confusion_matrix, classification_report, f1_score\n",
    "from parameterOptimization.HyperparameterOpt import HyperparamOpt_CV, HyperparamOpt_Valid\n",
    "\n",
    "from sklearn.ensemble import RandomForestClassifier"
   ]
  },
  {
   "cell_type": "code",
   "execution_count": 2,
   "metadata": {},
   "outputs": [
    {
     "name": "stdout",
     "output_type": "stream",
     "text": [
      "Mols_shape:  23290\n",
      "Features_shape:  X not defined!\n",
      "Labels_shape:  (23290,)\n"
     ]
    }
   ],
   "source": [
    "#Load Dataset\n",
    "dataset = CSVLoader(dataset_path='preprocessed_dataset_wfoodb.csv', \n",
    "                    mols_field='Smiles', \n",
    "                    labels_fields='Class', \n",
    "                    id_field='ID')#, shard_size=4000)\n",
    "dataset = dataset.create_dataset()\n",
    "dataset.get_shape()"
   ]
  },
  {
   "cell_type": "code",
   "execution_count": 3,
   "metadata": {},
   "outputs": [
    {
     "name": "stdout",
     "output_type": "stream",
     "text": [
      "Featurizing datapoint 0\n",
      "Featurizing datapoint 1000\n",
      "Featurizing datapoint 2000\n",
      "Featurizing datapoint 3000\n",
      "Featurizing datapoint 4000\n",
      "Featurizing datapoint 5000\n",
      "Featurizing datapoint 6000\n"
     ]
    },
    {
     "name": "stderr",
     "output_type": "stream",
     "text": [
      "RDKit ERROR: [16:15:41] Explicit valence for atom # 1 Cl, 4, is greater than permitted\n"
     ]
    },
    {
     "name": "stdout",
     "output_type": "stream",
     "text": [
      "error in smile: O=[Cl]=O\n",
      "Featurizing datapoint 7000\n"
     ]
    },
    {
     "name": "stderr",
     "output_type": "stream",
     "text": [
      "RDKit ERROR: [16:15:44] Explicit valence for atom # 3 B, 4, is greater than permitted\n",
      "RDKit ERROR: [16:15:44] Explicit valence for atom # 1 Cl, 9, is greater than permitted\n"
     ]
    },
    {
     "name": "stdout",
     "output_type": "stream",
     "text": [
      "error in smile: OB1O[B]2(O)OB(O)O[B](O)(O1)O2\n",
      "error in smile: O=[Cl-](=O)(=O)=O\n",
      "Featurizing datapoint 8000\n",
      "Featurizing datapoint 9000\n",
      "Featurizing datapoint 10000\n",
      "Featurizing datapoint 11000\n",
      "Featurizing datapoint 12000\n",
      "Featurizing datapoint 13000\n",
      "Featurizing datapoint 14000\n"
     ]
    },
    {
     "name": "stderr",
     "output_type": "stream",
     "text": [
      "RDKit ERROR: [16:15:58] Explicit valence for atom # 0 P, 11, is greater than permitted\n"
     ]
    },
    {
     "name": "stdout",
     "output_type": "stream",
     "text": [
      "error in smile: [P](OCC=C(C)C)(OCC=C(C)C)(=O)(OP(OCC=C(C)C)(OCC=C(C)C)=O)(CC=C(C)C)(CC=C(C)C)(CC=C(C)C)(CC=C(C)C)(CC=C(C)C)CC=C(C)C\n",
      "Featurizing datapoint 15000\n",
      "Featurizing datapoint 16000\n",
      "Featurizing datapoint 17000\n",
      "Featurizing datapoint 18000\n",
      "Featurizing datapoint 19000\n",
      "Featurizing datapoint 20000\n",
      "Featurizing datapoint 21000\n",
      "Featurizing datapoint 22000\n",
      "Featurizing datapoint 23000\n",
      "Elements with indexes:  [6257, 7708, 7709, 14244]  were removed due to the presence of NAs!\n",
      "The elements in question are:  ['O=[Cl]=O' 'OB1O[B]2(O)OB(O)O[B](O)(O1)O2' 'O=[Cl-](=O)(=O)=O'\n",
      " '[P](OCC=C(C)C)(OCC=C(C)C)(=O)(OP(OCC=C(C)C)(OCC=C(C)C)=O)(CC=C(C)C)(CC=C(C)C)(CC=C(C)C)(CC=C(C)C)(CC=C(C)C)CC=C(C)C']\n",
      "Mols_shape:  23286\n",
      "Features_shape:  (23286, 1024)\n",
      "Labels_shape:  (23286,)\n"
     ]
    }
   ],
   "source": [
    "#Featurization\n",
    "dataset = MorganFingerprint().featurize(dataset)\n",
    "dataset.get_shape()"
   ]
  },
  {
   "cell_type": "code",
   "execution_count": 4,
   "metadata": {},
   "outputs": [
    {
     "name": "stdout",
     "output_type": "stream",
     "text": [
      "Mols_shape:  23286\n",
      "Features_shape:  (23286, 49)\n",
      "Labels_shape:  (23286,)\n"
     ]
    }
   ],
   "source": [
    "#Feature Selection\n",
    "dataset = LowVarianceFS(0.15).featureSelection(dataset)\n",
    "dataset.get_shape()"
   ]
  },
  {
   "cell_type": "code",
   "execution_count": 5,
   "metadata": {},
   "outputs": [],
   "source": [
    "#Data Split\n",
    "splitter = SingletaskStratifiedSplitter()\n",
    "train_dataset, valid_dataset, test_dataset = splitter.train_valid_test_split(dataset=dataset, frac_train=0.6, \n",
    "                                                                             frac_valid=0.2, frac_test=0.2)"
   ]
  },
  {
   "cell_type": "code",
   "execution_count": 6,
   "metadata": {},
   "outputs": [],
   "source": [
    "#Scikit-Learn Random Forest\n",
    "rf = RandomForestClassifier()\n",
    "model = SklearnModel(model=rf)"
   ]
  },
  {
   "cell_type": "code",
   "execution_count": 7,
   "metadata": {},
   "outputs": [
    {
     "name": "stdout",
     "output_type": "stream",
     "text": [
      "Computing Stratified K-fold split\n",
      "\n",
      "Split 1 :\n",
      "Train Score: \n",
      "roc_auc_score: \n",
      " 0.8521023762598879\n",
      "Test Score: \n",
      "roc_auc_score: \n",
      " 0.6416251769263241\n",
      "\n",
      "Split 2 :\n",
      "Train Score: \n",
      "roc_auc_score: \n",
      " 0.8530715477862341\n",
      "Test Score: \n",
      "roc_auc_score: \n",
      " 0.6522147173307242\n",
      "\n",
      "Split 3 :\n",
      "Train Score: \n",
      "roc_auc_score: \n",
      " 0.8576459889137484\n",
      "Test Score: \n",
      "roc_auc_score: \n",
      " 0.649837806998226\n"
     ]
    },
    {
     "data": {
      "text/plain": [
       "(SklearnModel(model=RandomForestClassifier()),\n",
       " 0.8530715477862341,\n",
       " 0.6522147173307242,\n",
       " [0.8521023762598879, 0.8530715477862341, 0.8576459889137484],\n",
       " [0.6416251769263241, 0.6522147173307242, 0.649837806998226],\n",
       " 0.8542733043199568,\n",
       " 0.6478925670850915)"
      ]
     },
     "execution_count": 7,
     "metadata": {},
     "output_type": "execute_result"
    }
   ],
   "source": [
    "#cross validation\n",
    "model.cross_validate(dataset, Metric(roc_auc_score), folds=3)"
   ]
  },
  {
   "cell_type": "code",
   "execution_count": 8,
   "metadata": {},
   "outputs": [
    {
     "data": {
      "text/plain": [
       "RandomForestClassifier()"
      ]
     },
     "execution_count": 8,
     "metadata": {},
     "output_type": "execute_result"
    }
   ],
   "source": [
    "# model training\n",
    "model.fit(train_dataset)"
   ]
  },
  {
   "cell_type": "code",
   "execution_count": 9,
   "metadata": {},
   "outputs": [
    {
     "name": "stdout",
     "output_type": "stream",
     "text": [
      "#############################\n",
      "Training Dataset: \n",
      "roc_auc_score: \n",
      " 0.8599885501535931\n",
      "precision_score: \n",
      " 0.9391447368421053\n",
      "accuracy_score: \n",
      " 0.981672394043528\n",
      "confusion_matrix: \n",
      " [[13141    37]\n",
      " [  219   571]]\n",
      "classification_report: \n",
      "               precision    recall  f1-score   support\n",
      "\n",
      "           0       0.98      1.00      0.99     13178\n",
      "           1       0.94      0.72      0.82       790\n",
      "\n",
      "    accuracy                           0.98     13968\n",
      "   macro avg       0.96      0.86      0.90     13968\n",
      "weighted avg       0.98      0.98      0.98     13968\n",
      "\n",
      "WARNING: task averager  cannot perform reduce with flexible type\n",
      "#############################\n",
      "Validation Dataset: \n",
      "roc_auc_score: \n",
      " 0.6539265606888558\n",
      "precision_score: \n",
      " 0.5782312925170068\n",
      "accuracy_score: \n",
      " 0.9482388316151202\n",
      "confusion_matrix: \n",
      " [[4330   62]\n",
      " [ 179   85]]\n",
      "classification_report: \n",
      "               precision    recall  f1-score   support\n",
      "\n",
      "           0       0.96      0.99      0.97      4392\n",
      "           1       0.58      0.32      0.41       264\n",
      "\n",
      "    accuracy                           0.95      4656\n",
      "   macro avg       0.77      0.65      0.69      4656\n",
      "weighted avg       0.94      0.95      0.94      4656\n",
      "\n",
      "WARNING: task averager  cannot perform reduce with flexible type\n",
      "#############################\n",
      "Test Dataset: \n",
      "roc_auc_score: \n",
      " 0.6518847700021194\n",
      "precision_score: \n",
      " 0.5316455696202531\n",
      "accuracy_score: \n",
      " 0.9458762886597938\n",
      "confusion_matrix: \n",
      " [[4320   74]\n",
      " [ 178   84]]\n",
      "classification_report: \n",
      "               precision    recall  f1-score   support\n",
      "\n",
      "           0       0.96      0.98      0.97      4394\n",
      "           1       0.53      0.32      0.40       262\n",
      "\n",
      "    accuracy                           0.95      4656\n",
      "   macro avg       0.75      0.65      0.69      4656\n",
      "weighted avg       0.94      0.95      0.94      4656\n",
      "\n",
      "WARNING: task averager  cannot perform reduce with flexible type\n",
      "#############################\n"
     ]
    }
   ],
   "source": [
    "metrics = [Metric(roc_auc_score), Metric(precision_score), Metric(accuracy_score), Metric(confusion_matrix), \n",
    "           Metric(classification_report)]\n",
    "print(\"#############################\")\n",
    "# evaluate the model\n",
    "print('Training Dataset: ')\n",
    "train_score = model.evaluate(train_dataset, metrics)\n",
    "print(\"#############################\")\n",
    "print('Validation Dataset: ')\n",
    "valid_score = model.evaluate(valid_dataset, metrics)\n",
    "print(\"#############################\")\n",
    "print('Test Dataset: ')\n",
    "test_score = model.evaluate(test_dataset, metrics)\n",
    "print(\"#############################\")"
   ]
  },
  {
   "cell_type": "code",
   "execution_count": 10,
   "metadata": {},
   "outputs": [],
   "source": [
    "#Build a model function for hyperparameter optimization\n",
    "def rf_model_builder(n_estimators=10, max_features='auto', class_weight={0: 1., 1: 1.}):\n",
    "    rf_model = RandomForestClassifier(n_estimators=n_estimators, max_features=max_features, \n",
    "                                      class_weight=class_weight)\n",
    "    return rf_model\n",
    "\n",
    "params_dict_rf = {\"n_estimators\": [10, 100],\n",
    "                  \"max_features\": [\"auto\", \"sqrt\", \"log2\", None],\n",
    "                  \"class_weight\": [{0: 1., 1: 1.}, {0: 1., 1: 5}, {0: 1., 1: 10}]\n",
    "                  }\n"
   ]
  },
  {
   "cell_type": "code",
   "execution_count": 11,
   "metadata": {},
   "outputs": [
    {
     "name": "stdout",
     "output_type": "stream",
     "text": [
      "MODE:  classification\n",
      "Fitting 15 random models from a space of 24 possible models.\n",
      "Fitting model 1/15\n",
      "hyperparameters: {'n_estimators': 10, 'max_features': 'auto', 'class_weight': {0: 1.0, 1: 1.0}}\n",
      "expected str, bytes or os.PathLike object, not NoneType\n",
      "accuracy_score: \n",
      " 0.9437285223367697\n",
      "Model 1/15, Metric accuracy_score, Validation set 1: 0.943729\n",
      "\tbest_validation_score so far: 0.943729\n",
      "Fitting model 2/15\n",
      "hyperparameters: {'n_estimators': 10, 'max_features': 'auto', 'class_weight': {0: 1.0, 1: 10}}\n",
      "expected str, bytes or os.PathLike object, not NoneType\n",
      "accuracy_score: \n",
      " 0.9231099656357389\n",
      "Model 2/15, Metric accuracy_score, Validation set 2: 0.923110\n",
      "\tbest_validation_score so far: 0.943729\n",
      "Fitting model 3/15\n",
      "hyperparameters: {'n_estimators': 10, 'max_features': 'sqrt', 'class_weight': {0: 1.0, 1: 5}}\n",
      "expected str, bytes or os.PathLike object, not NoneType\n",
      "accuracy_score: \n",
      " 0.938573883161512\n",
      "Model 3/15, Metric accuracy_score, Validation set 3: 0.938574\n",
      "\tbest_validation_score so far: 0.943729\n",
      "Fitting model 4/15\n",
      "hyperparameters: {'n_estimators': 10, 'max_features': 'sqrt', 'class_weight': {0: 1.0, 1: 10}}\n",
      "expected str, bytes or os.PathLike object, not NoneType\n",
      "accuracy_score: \n",
      " 0.9276202749140894\n",
      "Model 4/15, Metric accuracy_score, Validation set 4: 0.927620\n",
      "\tbest_validation_score so far: 0.943729\n",
      "Fitting model 5/15\n",
      "hyperparameters: {'n_estimators': 10, 'max_features': 'log2', 'class_weight': {0: 1.0, 1: 5}}\n",
      "expected str, bytes or os.PathLike object, not NoneType\n",
      "accuracy_score: \n",
      " 0.9327749140893471\n",
      "Model 5/15, Metric accuracy_score, Validation set 5: 0.932775\n",
      "\tbest_validation_score so far: 0.943729\n",
      "Fitting model 6/15\n",
      "hyperparameters: {'n_estimators': 10, 'max_features': 'log2', 'class_weight': {0: 1.0, 1: 10}}\n",
      "expected str, bytes or os.PathLike object, not NoneType\n",
      "accuracy_score: \n",
      " 0.9261168384879725\n",
      "Model 6/15, Metric accuracy_score, Validation set 6: 0.926117\n",
      "\tbest_validation_score so far: 0.943729\n",
      "Fitting model 7/15\n",
      "hyperparameters: {'n_estimators': 10, 'max_features': None, 'class_weight': {0: 1.0, 1: 5}}\n",
      "expected str, bytes or os.PathLike object, not NoneType\n",
      "accuracy_score: \n",
      " 0.9329896907216495\n",
      "Model 7/15, Metric accuracy_score, Validation set 7: 0.932990\n",
      "\tbest_validation_score so far: 0.943729\n",
      "Fitting model 8/15\n",
      "hyperparameters: {'n_estimators': 10, 'max_features': None, 'class_weight': {0: 1.0, 1: 10}}\n",
      "expected str, bytes or os.PathLike object, not NoneType\n",
      "accuracy_score: \n",
      " 0.9299828178694158\n",
      "Model 8/15, Metric accuracy_score, Validation set 8: 0.929983\n",
      "\tbest_validation_score so far: 0.943729\n",
      "Fitting model 9/15\n",
      "hyperparameters: {'n_estimators': 100, 'max_features': 'auto', 'class_weight': {0: 1.0, 1: 10}}\n",
      "expected str, bytes or os.PathLike object, not NoneType\n",
      "accuracy_score: \n",
      " 0.9259020618556701\n",
      "Model 9/15, Metric accuracy_score, Validation set 9: 0.925902\n",
      "\tbest_validation_score so far: 0.943729\n",
      "Fitting model 10/15\n",
      "hyperparameters: {'n_estimators': 100, 'max_features': 'sqrt', 'class_weight': {0: 1.0, 1: 5}}\n",
      "expected str, bytes or os.PathLike object, not NoneType\n",
      "accuracy_score: \n",
      " 0.9338487972508591\n",
      "Model 10/15, Metric accuracy_score, Validation set 10: 0.933849\n",
      "\tbest_validation_score so far: 0.943729\n",
      "Fitting model 11/15\n",
      "hyperparameters: {'n_estimators': 100, 'max_features': 'log2', 'class_weight': {0: 1.0, 1: 1.0}}\n",
      "expected str, bytes or os.PathLike object, not NoneType\n",
      "accuracy_score: \n",
      " 0.9460910652920962\n",
      "Model 11/15, Metric accuracy_score, Validation set 11: 0.946091\n",
      "\tbest_validation_score so far: 0.946091\n",
      "Fitting model 12/15\n",
      "hyperparameters: {'n_estimators': 100, 'max_features': 'log2', 'class_weight': {0: 1.0, 1: 5}}\n",
      "expected str, bytes or os.PathLike object, not NoneType\n",
      "accuracy_score: \n",
      " 0.935352233676976\n",
      "Model 12/15, Metric accuracy_score, Validation set 12: 0.935352\n",
      "\tbest_validation_score so far: 0.946091\n",
      "Fitting model 13/15\n",
      "hyperparameters: {'n_estimators': 100, 'max_features': None, 'class_weight': {0: 1.0, 1: 1.0}}\n",
      "expected str, bytes or os.PathLike object, not NoneType\n",
      "accuracy_score: \n",
      " 0.9448024054982818\n",
      "Model 13/15, Metric accuracy_score, Validation set 13: 0.944802\n",
      "\tbest_validation_score so far: 0.946091\n",
      "Fitting model 14/15\n",
      "hyperparameters: {'n_estimators': 100, 'max_features': None, 'class_weight': {0: 1.0, 1: 5}}\n",
      "expected str, bytes or os.PathLike object, not NoneType\n",
      "accuracy_score: \n",
      " 0.9323453608247423\n",
      "Model 14/15, Metric accuracy_score, Validation set 14: 0.932345\n",
      "\tbest_validation_score so far: 0.946091\n",
      "Fitting model 15/15\n",
      "hyperparameters: {'n_estimators': 100, 'max_features': None, 'class_weight': {0: 1.0, 1: 10}}\n",
      "expected str, bytes or os.PathLike object, not NoneType\n",
      "accuracy_score: \n",
      " 0.9289089347079038\n",
      "Model 15/15, Metric accuracy_score, Validation set 15: 0.928909\n",
      "\tbest_validation_score so far: 0.946091\n",
      "accuracy_score: \n",
      " 0.9817439862542955\n",
      "Best hyperparameters: (100, 'log2', {0: 1.0, 1: 1.0})\n",
      "train_score: 0.981744\n",
      "validation_score: 0.946091\n",
      "#################\n",
      "(100, 'log2', {0: 1.0, 1: 1.0})\n",
      "SklearnModel(mode='/tmp/tmpbtgg338y',\n",
      "             model=RandomForestClassifier(class_weight={0: 1.0, 1: 1.0},\n",
      "                                          max_features='log2'))\n",
      "roc_auc_score: \n",
      " 0.6430255344727542\n",
      "precision_score: \n",
      " 0.5374149659863946\n",
      "accuracy_score: \n",
      " 0.9460910652920962\n",
      "confusion_matrix: \n",
      " [[4326   68]\n",
      " [ 183   79]]\n",
      "classification_report: \n",
      "               precision    recall  f1-score   support\n",
      "\n",
      "           0       0.96      0.98      0.97      4394\n",
      "           1       0.54      0.30      0.39       262\n",
      "\n",
      "    accuracy                           0.95      4656\n",
      "   macro avg       0.75      0.64      0.68      4656\n",
      "weighted avg       0.94      0.95      0.94      4656\n",
      "\n",
      "WARNING: task averager  cannot perform reduce with flexible type\n"
     ]
    },
    {
     "data": {
      "text/plain": [
       "{'roc_auc_score': 0.6430255344727542,\n",
       " 'precision_score': 0.5374149659863946,\n",
       " 'accuracy_score': 0.9460910652920962,\n",
       " 'confusion_matrix': 1164.0,\n",
       " 'classification_report': None}"
      ]
     },
     "execution_count": 11,
     "metadata": {},
     "output_type": "execute_result"
    }
   ],
   "source": [
    "#Hyperparameter Optimization\n",
    "optimizer = HyperparamOpt_Valid(rf_model_builder)\n",
    "\n",
    "best_rf, best_hyperparams, all_results = optimizer.hyperparam_search(params_dict_rf, \n",
    "                                                                     train_dataset, \n",
    "                                                                     valid_dataset, \n",
    "                                                                     Metric(accuracy_score))\n",
    "\n",
    "print('#################')\n",
    "print(best_hyperparams)\n",
    "print(best_rf)\n",
    "\n",
    "#Evaluate model\n",
    "best_rf.evaluate(test_dataset, metrics)"
   ]
  },
  {
   "cell_type": "code",
   "execution_count": 12,
   "metadata": {},
   "outputs": [
    {
     "name": "stdout",
     "output_type": "stream",
     "text": [
      "MODEL TYPE:  sklearn\n",
      "asdasdas\n",
      "Fitting 10 random models from a space of 24 possible models.\n",
      "\n",
      " \n",
      " Best accuracy: 0.941294 using {'n_estimators': 100, 'max_features': 'log2', 'class_weight': {0: 1.0, 1: 1.0}}\n",
      "\n",
      " accuracy: 0.932417 (0.005238) with: {'n_estimators': 100, 'max_features': 'log2', 'class_weight': {0: 1.0, 1: 5}} \n",
      "\n",
      "\n",
      " accuracy: 0.925759 (0.006198) with: {'n_estimators': 10, 'max_features': 'sqrt', 'class_weight': {0: 1.0, 1: 10}} \n",
      "\n",
      "\n",
      " accuracy: 0.927262 (0.005417) with: {'n_estimators': 10, 'max_features': 'auto', 'class_weight': {0: 1.0, 1: 10}} \n",
      "\n",
      "\n",
      " accuracy: 0.928121 (0.005010) with: {'n_estimators': 100, 'max_features': None, 'class_weight': {0: 1.0, 1: 5}} \n",
      "\n",
      "\n",
      " accuracy: 0.931701 (0.004124) with: {'n_estimators': 10, 'max_features': 'auto', 'class_weight': {0: 1.0, 1: 5}} \n",
      "\n",
      "\n",
      " accuracy: 0.941294 (0.002661) with: {'n_estimators': 100, 'max_features': 'log2', 'class_weight': {0: 1.0, 1: 1.0}} \n",
      "\n",
      "\n",
      " accuracy: 0.929482 (0.005074) with: {'n_estimators': 10, 'max_features': 'log2', 'class_weight': {0: 1.0, 1: 5}} \n",
      "\n",
      "\n",
      " accuracy: 0.927334 (0.006316) with: {'n_estimators': 10, 'max_features': 'log2', 'class_weight': {0: 1.0, 1: 10}} \n",
      "\n",
      "\n",
      " accuracy: 0.924542 (0.006432) with: {'n_estimators': 10, 'max_features': None, 'class_weight': {0: 1.0, 1: 10}} \n",
      "\n",
      "\n",
      " accuracy: 0.938932 (0.003447) with: {'n_estimators': 10, 'max_features': 'auto', 'class_weight': {0: 1.0, 1: 1.0}} \n",
      "\n",
      "#################\n",
      "{'n_estimators': 100, 'max_features': 'log2', 'class_weight': {0: 1.0, 1: 1.0}}\n",
      "SklearnModel(mode='classification',\n",
      "             model=RandomForestClassifier(class_weight={0: 1.0, 1: 1.0},\n",
      "                                          max_features='log2'))\n"
     ]
    }
   ],
   "source": [
    "#Hyperparameter Optimization with CV\n",
    "optimizer = HyperparamOpt_CV(rf_model_builder)\n",
    "\n",
    "best_rf, best_hyperparams, all_results = optimizer.hyperparam_search('sklearn',\n",
    "                                                                     params_dict_rf, \n",
    "                                                                     train_dataset,  \n",
    "                                                                     'accuracy', \n",
    "                                                                     cv=3,\n",
    "                                                                     n_iter_search=10)\n",
    "\n",
    "print('#################')\n",
    "print(best_hyperparams)\n",
    "print(best_rf)"
   ]
  },
  {
   "cell_type": "code",
   "execution_count": 13,
   "metadata": {},
   "outputs": [
    {
     "name": "stdout",
     "output_type": "stream",
     "text": [
      "roc_auc_score: \n",
      " 0.6426841598710246\n",
      "precision_score: \n",
      " 0.5266666666666666\n",
      "accuracy_score: \n",
      " 0.945446735395189\n",
      "confusion_matrix: \n",
      " [[4323   71]\n",
      " [ 183   79]]\n",
      "classification_report: \n",
      "               precision    recall  f1-score   support\n",
      "\n",
      "           0       0.96      0.98      0.97      4394\n",
      "           1       0.53      0.30      0.38       262\n",
      "\n",
      "    accuracy                           0.95      4656\n",
      "   macro avg       0.74      0.64      0.68      4656\n",
      "weighted avg       0.94      0.95      0.94      4656\n",
      "\n",
      "WARNING: task averager  cannot perform reduce with flexible type\n"
     ]
    },
    {
     "data": {
      "text/plain": [
       "{'roc_auc_score': 0.6426841598710246,\n",
       " 'precision_score': 0.5266666666666666,\n",
       " 'accuracy_score': 0.945446735395189,\n",
       " 'confusion_matrix': 1164.0,\n",
       " 'classification_report': None}"
      ]
     },
     "execution_count": 13,
     "metadata": {},
     "output_type": "execute_result"
    }
   ],
   "source": [
    "#Evaluate model\n",
    "best_rf.evaluate(test_dataset, metrics)"
   ]
  },
  {
   "cell_type": "code",
   "execution_count": 14,
   "metadata": {},
   "outputs": [
    {
     "data": {
      "text/plain": [
       "dict_keys(['explained_variance', 'r2', 'max_error', 'neg_median_absolute_error', 'neg_mean_absolute_error', 'neg_mean_squared_error', 'neg_mean_squared_log_error', 'neg_root_mean_squared_error', 'neg_mean_poisson_deviance', 'neg_mean_gamma_deviance', 'accuracy', 'roc_auc', 'roc_auc_ovr', 'roc_auc_ovo', 'roc_auc_ovr_weighted', 'roc_auc_ovo_weighted', 'balanced_accuracy', 'average_precision', 'neg_log_loss', 'neg_brier_score', 'adjusted_rand_score', 'homogeneity_score', 'completeness_score', 'v_measure_score', 'mutual_info_score', 'adjusted_mutual_info_score', 'normalized_mutual_info_score', 'fowlkes_mallows_score', 'precision', 'precision_macro', 'precision_micro', 'precision_samples', 'precision_weighted', 'recall', 'recall_macro', 'recall_micro', 'recall_samples', 'recall_weighted', 'f1', 'f1_macro', 'f1_micro', 'f1_samples', 'f1_weighted', 'jaccard', 'jaccard_macro', 'jaccard_micro', 'jaccard_samples', 'jaccard_weighted'])"
      ]
     },
     "execution_count": 14,
     "metadata": {},
     "output_type": "execute_result"
    }
   ],
   "source": [
    "import sklearn\n",
    "sklearn.metrics.SCORERS.keys()"
   ]
  }
 ],
 "metadata": {
  "kernelspec": {
   "display_name": "Python 3",
   "language": "python",
   "name": "python3"
  },
  "language_info": {
   "codemirror_mode": {
    "name": "ipython",
    "version": 3
   },
   "file_extension": ".py",
   "mimetype": "text/x-python",
   "name": "python",
   "nbconvert_exporter": "python",
   "pygments_lexer": "ipython3",
   "version": "3.6.2"
  }
 },
 "nbformat": 4,
 "nbformat_minor": 4
}
