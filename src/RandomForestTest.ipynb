{
 "cells": [
  {
   "cell_type": "code",
   "execution_count": 1,
   "metadata": {},
   "outputs": [],
   "source": [
    "from Dataset.Dataset import CSVLoader\n",
    "from compoundFeaturization.rdkitFingerprints import MorganFingerprint\n",
    "from featureSelection.baseFeatureSelector import LowVarianceFS\n",
    "from splitters.splitters import SingletaskStratifiedSplitter\n",
    "from models.sklearnModels import SklearnModel\n",
    "from metrics.Metrics import Metric\n",
    "from metrics.metricsFunctions import roc_auc_score, precision_score, accuracy_score, confusion_matrix, classification_report\n",
    "from parameterOptimization.HyperparameterOpt import GridHyperparamOpt\n",
    "\n",
    "from sklearn.ensemble import RandomForestClassifier"
   ]
  },
  {
   "cell_type": "code",
   "execution_count": 2,
   "metadata": {},
   "outputs": [
    {
     "name": "stdout",
     "output_type": "stream",
     "text": [
      "(23290,) (23290,) (0,) (23290,)\n"
     ]
    },
    {
     "data": {
      "text/plain": [
       "((23290,), (23290,), (0,), (23290,))"
      ]
     },
     "execution_count": 2,
     "metadata": {},
     "output_type": "execute_result"
    }
   ],
   "source": [
    "#Load Dataset\n",
    "dataset = CSVLoader('preprocessed_dataset_wfoodb.csv', 'Smiles', ['Class'], 'ID')#, chunk_size=2000)\n",
    "dataset.get_shape()"
   ]
  },
  {
   "cell_type": "code",
   "execution_count": 3,
   "metadata": {},
   "outputs": [
    {
     "name": "stdout",
     "output_type": "stream",
     "text": [
      "Featurizing datapoint 0\n",
      "Featurizing datapoint 1000\n",
      "Featurizing datapoint 2000\n",
      "Featurizing datapoint 3000\n",
      "Featurizing datapoint 4000\n",
      "Featurizing datapoint 5000\n",
      "Featurizing datapoint 6000\n"
     ]
    },
    {
     "name": "stderr",
     "output_type": "stream",
     "text": [
      "RDKit ERROR: [18:11:49] Explicit valence for atom # 1 Cl, 4, is greater than permitted\n"
     ]
    },
    {
     "name": "stdout",
     "output_type": "stream",
     "text": [
      "error in smile: O=[Cl]=O\n",
      "Featurizing datapoint 7000\n"
     ]
    },
    {
     "name": "stderr",
     "output_type": "stream",
     "text": [
      "RDKit ERROR: [18:11:52] Explicit valence for atom # 3 B, 4, is greater than permitted\n",
      "RDKit ERROR: [18:11:52] Explicit valence for atom # 1 Cl, 9, is greater than permitted\n"
     ]
    },
    {
     "name": "stdout",
     "output_type": "stream",
     "text": [
      "error in smile: OB1O[B]2(O)OB(O)O[B](O)(O1)O2\n",
      "error in smile: O=[Cl-](=O)(=O)=O\n",
      "Featurizing datapoint 8000\n",
      "Featurizing datapoint 9000\n",
      "Featurizing datapoint 10000\n",
      "Featurizing datapoint 11000\n",
      "Featurizing datapoint 12000\n",
      "Featurizing datapoint 13000\n",
      "Featurizing datapoint 14000\n"
     ]
    },
    {
     "name": "stderr",
     "output_type": "stream",
     "text": [
      "RDKit ERROR: [18:12:06] Explicit valence for atom # 0 P, 11, is greater than permitted\n"
     ]
    },
    {
     "name": "stdout",
     "output_type": "stream",
     "text": [
      "error in smile: [P](OCC=C(C)C)(OCC=C(C)C)(=O)(OP(OCC=C(C)C)(OCC=C(C)C)=O)(CC=C(C)C)(CC=C(C)C)(CC=C(C)C)(CC=C(C)C)(CC=C(C)C)CC=C(C)C\n",
      "Featurizing datapoint 15000\n",
      "Featurizing datapoint 16000\n",
      "Featurizing datapoint 17000\n",
      "Featurizing datapoint 18000\n",
      "Featurizing datapoint 19000\n",
      "Featurizing datapoint 20000\n",
      "Featurizing datapoint 21000\n",
      "Featurizing datapoint 22000\n",
      "Featurizing datapoint 23000\n",
      "Elements with indexes:  [6257, 7708, 7709, 14244]  were removed due to the presence of NAs!\n",
      "The elements in question are:  ['O=[Cl]=O' 'OB1O[B]2(O)OB(O)O[B](O)(O1)O2' 'O=[Cl-](=O)(=O)=O'\n",
      " '[P](OCC=C(C)C)(OCC=C(C)C)(=O)(OP(OCC=C(C)C)(OCC=C(C)C)=O)(CC=C(C)C)(CC=C(C)C)(CC=C(C)C)(CC=C(C)C)(CC=C(C)C)CC=C(C)C']\n",
      "(23286,) (23286,) (23286, 1024) (23286,)\n"
     ]
    },
    {
     "data": {
      "text/plain": [
       "((23286,), (23286,), (23286, 1024), (23286,))"
      ]
     },
     "execution_count": 3,
     "metadata": {},
     "output_type": "execute_result"
    }
   ],
   "source": [
    "#Featurization\n",
    "dataset = MorganFingerprint().featurize(dataset)\n",
    "dataset.get_shape()"
   ]
  },
  {
   "cell_type": "code",
   "execution_count": 4,
   "metadata": {},
   "outputs": [
    {
     "name": "stdout",
     "output_type": "stream",
     "text": [
      "(23286,) (23286,) (23286, 49) (23286,)\n"
     ]
    },
    {
     "data": {
      "text/plain": [
       "((23286,), (23286,), (23286, 49), (23286,))"
      ]
     },
     "execution_count": 4,
     "metadata": {},
     "output_type": "execute_result"
    }
   ],
   "source": [
    "#Feature Selection\n",
    "dataset = LowVarianceFS(0.15).featureSelection(dataset)\n",
    "dataset.get_shape()"
   ]
  },
  {
   "cell_type": "code",
   "execution_count": 5,
   "metadata": {},
   "outputs": [],
   "source": [
    "#Data Split\n",
    "splitter = SingletaskStratifiedSplitter()\n",
    "train_dataset, valid_dataset, test_dataset = splitter.train_valid_test_split(dataset=dataset, frac_train=0.6, \n",
    "                                                                             frac_valid=0.2, frac_test=0.2)"
   ]
  },
  {
   "cell_type": "code",
   "execution_count": 6,
   "metadata": {},
   "outputs": [],
   "source": [
    "#Scikit-Learn Random Forest\n",
    "rf = RandomForestClassifier()\n",
    "model = SklearnModel(model=rf)"
   ]
  },
  {
   "cell_type": "code",
   "execution_count": 7,
   "metadata": {},
   "outputs": [
    {
     "name": "stdout",
     "output_type": "stream",
     "text": [
      "Computing Stratified K-fold split\n",
      "Train Score: \n",
      "Models Class line 158 --> evaluator\n",
      "roc_auc_score: \n",
      " 0.8593012490704063\n",
      "Test Score: \n",
      "Models Class line 158 --> evaluator\n",
      "roc_auc_score: \n",
      " 0.641215452807231\n",
      "Train Score: \n",
      "Models Class line 158 --> evaluator\n",
      "roc_auc_score: \n",
      " 0.855670210177402\n",
      "Test Score: \n",
      "Models Class line 158 --> evaluator\n",
      "roc_auc_score: \n",
      " 0.6608069353498354\n",
      "Train Score: \n",
      "Models Class line 158 --> evaluator\n",
      "roc_auc_score: \n",
      " 0.8548083044642593\n",
      "Test Score: \n",
      "Models Class line 158 --> evaluator\n",
      "roc_auc_score: \n",
      " 0.6323529275116685\n"
     ]
    },
    {
     "data": {
      "text/plain": [
       "(SklearnModel(model=RandomForestClassifier(), model_dir='/tmp/tmpjyfeik55'),\n",
       " 0.855670210177402,\n",
       " 0.6608069353498354,\n",
       " [0.8593012490704063, 0.855670210177402, 0.8548083044642593],\n",
       " [0.641215452807231, 0.6608069353498354, 0.6323529275116685],\n",
       " 0.8565932545706891,\n",
       " 0.6447917718895783)"
      ]
     },
     "execution_count": 7,
     "metadata": {},
     "output_type": "execute_result"
    }
   ],
   "source": [
    "#cross validation\n",
    "model.cross_validate(dataset, Metric(roc_auc_score), folds=3)"
   ]
  },
  {
   "cell_type": "code",
   "execution_count": 8,
   "metadata": {},
   "outputs": [
    {
     "data": {
      "text/plain": [
       "RandomForestClassifier()"
      ]
     },
     "execution_count": 8,
     "metadata": {},
     "output_type": "execute_result"
    }
   ],
   "source": [
    "# model training\n",
    "model.fit(train_dataset)"
   ]
  },
  {
   "cell_type": "code",
   "execution_count": 9,
   "metadata": {},
   "outputs": [
    {
     "name": "stdout",
     "output_type": "stream",
     "text": [
      "#############################\n",
      "Training Dataset: \n",
      "Models Class line 158 --> evaluator\n",
      "roc_auc_score: \n",
      " 0.8633686562375728\n",
      "precision_score: \n",
      " 0.9232\n",
      "accuracy_score: \n",
      " 0.9813144329896907\n",
      "confusion_matrix: \n",
      " [[13130    48]\n",
      " [  213   577]]\n",
      "classification_report: \n",
      "               precision    recall  f1-score   support\n",
      "\n",
      "           0       0.98      1.00      0.99     13178\n",
      "           1       0.92      0.73      0.82       790\n",
      "\n",
      "    accuracy                           0.98     13968\n",
      "   macro avg       0.95      0.86      0.90     13968\n",
      "weighted avg       0.98      0.98      0.98     13968\n",
      "\n",
      "WARNING: task averager  cannot perform reduce with flexible type\n",
      "#############################\n",
      "Validation Dataset: \n",
      "Models Class line 158 --> evaluator\n",
      "roc_auc_score: \n",
      " 0.667928323577347\n",
      "precision_score: \n",
      " 0.543859649122807\n",
      "accuracy_score: \n",
      " 0.9467353951890034\n",
      "confusion_matrix: \n",
      " [[4315   78]\n",
      " [ 170   93]]\n",
      "classification_report: \n",
      "               precision    recall  f1-score   support\n",
      "\n",
      "           0       0.96      0.98      0.97      4393\n",
      "           1       0.54      0.35      0.43       263\n",
      "\n",
      "    accuracy                           0.95      4656\n",
      "   macro avg       0.75      0.67      0.70      4656\n",
      "weighted avg       0.94      0.95      0.94      4656\n",
      "\n",
      "WARNING: task averager  cannot perform reduce with flexible type\n",
      "#############################\n",
      "Test Dataset: \n",
      "Models Class line 158 --> evaluator\n",
      "roc_auc_score: \n",
      " 0.6403217528058378\n",
      "precision_score: \n",
      " 0.527027027027027\n",
      "accuracy_score: \n",
      " 0.9452319587628866\n",
      "confusion_matrix: \n",
      " [[4323   70]\n",
      " [ 185   78]]\n",
      "classification_report: \n",
      "               precision    recall  f1-score   support\n",
      "\n",
      "           0       0.96      0.98      0.97      4393\n",
      "           1       0.53      0.30      0.38       263\n",
      "\n",
      "    accuracy                           0.95      4656\n",
      "   macro avg       0.74      0.64      0.68      4656\n",
      "weighted avg       0.93      0.95      0.94      4656\n",
      "\n",
      "WARNING: task averager  cannot perform reduce with flexible type\n",
      "#############################\n"
     ]
    }
   ],
   "source": [
    "metrics = [Metric(roc_auc_score), Metric(precision_score), Metric(accuracy_score), Metric(confusion_matrix), \n",
    "           Metric(classification_report)]\n",
    "print(\"#############################\")\n",
    "# evaluate the model\n",
    "print('Training Dataset: ')\n",
    "train_score = model.evaluate(train_dataset, metrics)\n",
    "print(\"#############################\")\n",
    "print('Validation Dataset: ')\n",
    "valid_score = model.evaluate(valid_dataset, metrics)\n",
    "print(\"#############################\")\n",
    "print('Test Dataset: ')\n",
    "test_score = model.evaluate(test_dataset, metrics)\n",
    "print(\"#############################\")"
   ]
  },
  {
   "cell_type": "code",
   "execution_count": 10,
   "metadata": {},
   "outputs": [],
   "source": [
    "#Build a model function for hyperparameter optimization\n",
    "def rf_model_builder(n_estimators, max_features, class_weight, model_dir=None):\n",
    "    rf_model = RandomForestClassifier(n_estimators=n_estimators, max_features=max_features, \n",
    "                                      class_weight=class_weight)\n",
    "    return SklearnModel(rf_model, model_dir)\n",
    "\n",
    "params_dict_rf = {\"n_estimators\": [10, 100],\n",
    "                  \"max_features\": [\"auto\", \"sqrt\", \"log2\", None],\n",
    "                  \"class_weight\": [{0: 1., 1: 1.}, {0: 1., 1: 5}, {0: 1., 1: 10}]\n",
    "                  }\n",
    "    \n"
   ]
  },
  {
   "cell_type": "code",
   "execution_count": 11,
   "metadata": {},
   "outputs": [
    {
     "name": "stdout",
     "output_type": "stream",
     "text": [
      "WARNING:  roc_auc_score  is not a valid scoring value. Use sorted(sklearn.metrics.SCORERS.keys()) to get valid options.\n",
      "Using accuracy instead and  roc_auc_score  on validation!\n",
      " \n",
      "\n",
      "Fitting 15 random models from a space of 24 possible models.\n",
      "Fitting 15 random models from a space of 24 possible models.\n",
      "Fitting model 1/15\n",
      "hyperparameters: {'n_estimators': 10, 'max_features': 'sqrt', 'class_weight': {0: 1.0, 1: 1.0}}\n",
      "Models Class line 158 --> evaluator\n",
      "roc_auc_score: \n",
      " 0.6664486968985397\n",
      "Model 1/15, Metric roc_auc_score, Validation set 1: 0.666449\n",
      "\tbest_validation_score so far: 0.666449\n",
      "Fitting model 2/15\n",
      "hyperparameters: {'n_estimators': 10, 'max_features': 'sqrt', 'class_weight': {0: 1.0, 1: 5}}\n"
     ]
    },
    {
     "name": "stderr",
     "output_type": "stream",
     "text": [
      "/opt/conda/lib/python3.6/site-packages/sklearn/model_selection/_validation.py:552: FitFailedWarning: Estimator fit failed. The score on this train-test partition for these parameters will be set to nan. Details: \n",
      "Traceback (most recent call last):\n",
      "  File \"/opt/conda/lib/python3.6/site-packages/sklearn/model_selection/_validation.py\", line 531, in _fit_and_score\n",
      "    estimator.fit(X_train, y_train, **fit_params)\n",
      "  File \"/opt/conda/lib/python3.6/site-packages/tensorflow/python/keras/wrappers/scikit_learn.py\", line 223, in fit\n",
      "    return super(KerasClassifier, self).fit(x, y, **kwargs)\n",
      "  File \"/opt/conda/lib/python3.6/site-packages/tensorflow/python/keras/wrappers/scikit_learn.py\", line 159, in fit\n",
      "    if (losses.is_categorical_crossentropy(self.model.loss) and\n",
      "AttributeError: 'SklearnModel' object has no attribute 'loss'\n",
      "\n",
      "  FitFailedWarning)\n"
     ]
    },
    {
     "name": "stdout",
     "output_type": "stream",
     "text": [
      "Models Class line 158 --> evaluator\n",
      "roc_auc_score: \n",
      " 0.7055547236832881\n",
      "Model 2/15, Metric roc_auc_score, Validation set 2: 0.705555\n",
      "\tbest_validation_score so far: 0.705555\n",
      "Fitting model 3/15\n",
      "hyperparameters: {'n_estimators': 10, 'max_features': 'sqrt', 'class_weight': {0: 1.0, 1: 10}}\n",
      "Models Class line 158 --> evaluator\n",
      "roc_auc_score: \n",
      " 0.69784889372048\n",
      "Model 3/15, Metric roc_auc_score, Validation set 3: 0.697849\n",
      "\tbest_validation_score so far: 0.705555\n",
      "Fitting model 4/15\n",
      "hyperparameters: {'n_estimators': 10, 'max_features': 'log2', 'class_weight': {0: 1.0, 1: 1.0}}\n",
      "Models Class line 158 --> evaluator\n",
      "roc_auc_score: \n",
      " 0.6678945678356251\n",
      "Model 4/15, Metric roc_auc_score, Validation set 4: 0.667895\n",
      "\tbest_validation_score so far: 0.705555\n",
      "Fitting model 5/15\n",
      "hyperparameters: {'n_estimators': 10, 'max_features': 'log2', 'class_weight': {0: 1.0, 1: 5}}\n",
      "Models Class line 158 --> evaluator\n",
      "roc_auc_score: \n",
      " 0.6871124040233382\n",
      "Model 5/15, Metric roc_auc_score, Validation set 5: 0.687112\n",
      "\tbest_validation_score so far: 0.705555\n",
      "Fitting model 6/15\n",
      "hyperparameters: {'n_estimators': 10, 'max_features': 'log2', 'class_weight': {0: 1.0, 1: 10}}\n",
      "Models Class line 158 --> evaluator\n",
      "roc_auc_score: \n",
      " 0.697996466899033\n",
      "Model 6/15, Metric roc_auc_score, Validation set 6: 0.697996\n",
      "\tbest_validation_score so far: 0.705555\n",
      "Fitting model 7/15\n",
      "hyperparameters: {'n_estimators': 10, 'max_features': None, 'class_weight': {0: 1.0, 1: 5}}\n",
      "Models Class line 158 --> evaluator\n",
      "roc_auc_score: \n",
      " 0.6998976075834438\n",
      "Model 7/15, Metric roc_auc_score, Validation set 7: 0.699898\n",
      "\tbest_validation_score so far: 0.705555\n",
      "Fitting model 8/15\n",
      "hyperparameters: {'n_estimators': 10, 'max_features': None, 'class_weight': {0: 1.0, 1: 10}}\n",
      "Models Class line 158 --> evaluator\n",
      "roc_auc_score: \n",
      " 0.6999439135368313\n",
      "Model 8/15, Metric roc_auc_score, Validation set 8: 0.699944\n",
      "\tbest_validation_score so far: 0.705555\n",
      "Fitting model 9/15\n",
      "hyperparameters: {'n_estimators': 100, 'max_features': 'auto', 'class_weight': {0: 1.0, 1: 5}}\n",
      "Models Class line 158 --> evaluator\n",
      "roc_auc_score: \n",
      " 0.6928158260765701\n",
      "Model 9/15, Metric roc_auc_score, Validation set 9: 0.692816\n",
      "\tbest_validation_score so far: 0.705555\n",
      "Fitting model 10/15\n",
      "hyperparameters: {'n_estimators': 100, 'max_features': 'auto', 'class_weight': {0: 1.0, 1: 10}}\n",
      "Models Class line 158 --> evaluator\n",
      "roc_auc_score: \n",
      " 0.7017649925261326\n",
      "Model 10/15, Metric roc_auc_score, Validation set 10: 0.701765\n",
      "\tbest_validation_score so far: 0.705555\n",
      "Fitting model 11/15\n",
      "hyperparameters: {'n_estimators': 100, 'max_features': 'sqrt', 'class_weight': {0: 1.0, 1: 1.0}}\n",
      "Models Class line 158 --> evaluator\n",
      "roc_auc_score: \n",
      " 0.6513871446018078\n",
      "Model 11/15, Metric roc_auc_score, Validation set 11: 0.651387\n",
      "\tbest_validation_score so far: 0.705555\n",
      "Fitting model 12/15\n",
      "hyperparameters: {'n_estimators': 100, 'max_features': 'log2', 'class_weight': {0: 1.0, 1: 1.0}}\n",
      "Models Class line 158 --> evaluator\n",
      "roc_auc_score: \n",
      " 0.6492583690437344\n",
      "Model 12/15, Metric roc_auc_score, Validation set 12: 0.649258\n",
      "\tbest_validation_score so far: 0.705555\n",
      "Fitting model 13/15\n",
      "hyperparameters: {'n_estimators': 100, 'max_features': 'log2', 'class_weight': {0: 1.0, 1: 5}}\n",
      "Models Class line 158 --> evaluator\n",
      "roc_auc_score: \n",
      " 0.6799631110330209\n",
      "Model 13/15, Metric roc_auc_score, Validation set 13: 0.679963\n",
      "\tbest_validation_score so far: 0.705555\n",
      "Fitting model 14/15\n",
      "hyperparameters: {'n_estimators': 100, 'max_features': None, 'class_weight': {0: 1.0, 1: 1.0}}\n",
      "Models Class line 158 --> evaluator\n",
      "roc_auc_score: \n",
      " 0.6745885910786172\n",
      "Model 14/15, Metric roc_auc_score, Validation set 14: 0.674589\n",
      "\tbest_validation_score so far: 0.705555\n",
      "Fitting model 15/15\n",
      "hyperparameters: {'n_estimators': 100, 'max_features': None, 'class_weight': {0: 1.0, 1: 5}}\n",
      "Models Class line 158 --> evaluator\n",
      "roc_auc_score: \n",
      " 0.6896626935870149\n",
      "Model 15/15, Metric roc_auc_score, Validation set 15: 0.689663\n",
      "\tbest_validation_score so far: 0.705555\n",
      "Models Class line 158 --> evaluator\n",
      "roc_auc_score: \n",
      " 0.9162499447679391\n",
      "Best hyperparameters: (10, 'sqrt', {0: 1.0, 1: 5})\n",
      "train_score: 0.916250\n",
      "validation_score: 0.705555\n",
      "#################\n",
      "(10, 'sqrt', {0: 1.0, 1: 5})\n",
      "SklearnModel(model=RandomForestClassifier(class_weight={0: 1.0, 1: 5},\n",
      "                                          max_features='sqrt',\n",
      "                                          n_estimators=10),\n",
      "             model_dir='/tmp/tmpn_inu8xs')\n"
     ]
    }
   ],
   "source": [
    "#Hyperparameter Optimization\n",
    "optimizer = GridHyperparamOpt(rf_model_builder)\n",
    "\n",
    "best_rf, best_hyperparams, all_results = optimizer.hyperparam_search(params_dict_rf, train_dataset, valid_dataset, 'f1')\n",
    "\n",
    "print('#################')\n",
    "print(best_hyperparams)\n",
    "print(best_rf)"
   ]
  },
  {
   "cell_type": "code",
   "execution_count": 12,
   "metadata": {},
   "outputs": [
    {
     "name": "stdout",
     "output_type": "stream",
     "text": [
      "Models Class line 158 --> evaluator\n",
      "roc_auc_score: \n",
      " 0.6753641076063803\n",
      "precision_score: \n",
      " 0.3849056603773585\n",
      "accuracy_score: \n",
      " 0.9304123711340206\n",
      "confusion_matrix: \n",
      " [[4230  163]\n",
      " [ 161  102]]\n",
      "classification_report: \n",
      "               precision    recall  f1-score   support\n",
      "\n",
      "           0       0.96      0.96      0.96      4393\n",
      "           1       0.38      0.39      0.39       263\n",
      "\n",
      "    accuracy                           0.93      4656\n",
      "   macro avg       0.67      0.68      0.67      4656\n",
      "weighted avg       0.93      0.93      0.93      4656\n",
      "\n",
      "WARNING: task averager  cannot perform reduce with flexible type\n"
     ]
    },
    {
     "data": {
      "text/plain": [
       "{'roc_auc_score': 0.6753641076063803,\n",
       " 'precision_score': 0.3849056603773585,\n",
       " 'accuracy_score': 0.9304123711340206,\n",
       " 'confusion_matrix': 1164.0,\n",
       " 'classification_report': None}"
      ]
     },
     "execution_count": 12,
     "metadata": {},
     "output_type": "execute_result"
    }
   ],
   "source": [
    "#Evaluate model\n",
    "best_rf.evaluate(test_dataset, metrics)"
   ]
  }
 ],
 "metadata": {
  "kernelspec": {
   "display_name": "Python 3",
   "language": "python",
   "name": "python3"
  },
  "language_info": {
   "codemirror_mode": {
    "name": "ipython",
    "version": 3
   },
   "file_extension": ".py",
   "mimetype": "text/x-python",
   "name": "python",
   "nbconvert_exporter": "python",
   "pygments_lexer": "ipython3",
   "version": "3.6.2"
  }
 },
 "nbformat": 4,
 "nbformat_minor": 4
}
