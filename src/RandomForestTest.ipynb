{
 "cells": [
  {
   "cell_type": "code",
   "execution_count": 2,
   "metadata": {},
   "outputs": [],
   "source": [
    "from Dataset.Dataset import CSVLoader\n",
    "from compoundFeaturization.rdkitFingerprints import MorganFingerprint\n",
    "from featureSelection.baseFeatureSelector import LowVarianceFS\n",
    "from splitters.splitters import SingletaskStratifiedSplitter\n",
    "from models.sklearnModels import SklearnModel\n",
    "from metrics.Metrics import Metric\n",
    "from metrics.metricsFunctions import roc_auc_score, precision_score, accuracy_score, confusion_matrix, classification_report\n",
    "from parameterOptimization.HyperparameterOpt import GridHyperparamOpt\n",
    "\n",
    "from sklearn.ensemble import RandomForestClassifier"
   ]
  },
  {
   "cell_type": "code",
   "execution_count": 3,
   "metadata": {},
   "outputs": [
    {
     "name": "stdout",
     "output_type": "stream",
     "text": [
      "(23290,) (23290,) (0,) (23290,)\n"
     ]
    },
    {
     "data": {
      "text/plain": [
       "((23290,), (23290,), (0,), (23290,))"
      ]
     },
     "execution_count": 3,
     "metadata": {},
     "output_type": "execute_result"
    }
   ],
   "source": [
    "#Load Dataset\n",
    "dataset = CSVLoader('preprocessed_dataset_wfoodb.csv', 'Smiles', ['Class'], 'ID')#, chunk_size=2000)\n",
    "dataset.get_shape()"
   ]
  },
  {
   "cell_type": "code",
   "execution_count": 3,
   "metadata": {},
   "outputs": [
    {
     "name": "stdout",
     "output_type": "stream",
     "text": [
      "Featurizing datapoint 0\n",
      "Featurizing datapoint 1000\n",
      "Featurizing datapoint 2000\n",
      "Featurizing datapoint 3000\n",
      "Featurizing datapoint 4000\n",
      "Featurizing datapoint 5000\n",
      "Featurizing datapoint 6000\n"
     ]
    },
    {
     "name": "stderr",
     "output_type": "stream",
     "text": [
      "RDKit ERROR: [12:02:29] Explicit valence for atom # 1 Cl, 4, is greater than permitted\n"
     ]
    },
    {
     "name": "stdout",
     "output_type": "stream",
     "text": [
      "error in smile: O=[Cl]=O\n",
      "Featurizing datapoint 7000\n"
     ]
    },
    {
     "name": "stderr",
     "output_type": "stream",
     "text": [
      "RDKit ERROR: [12:02:32] Explicit valence for atom # 3 B, 4, is greater than permitted\n",
      "RDKit ERROR: [12:02:32] Explicit valence for atom # 1 Cl, 9, is greater than permitted\n"
     ]
    },
    {
     "name": "stdout",
     "output_type": "stream",
     "text": [
      "error in smile: OB1O[B]2(O)OB(O)O[B](O)(O1)O2\n",
      "error in smile: O=[Cl-](=O)(=O)=O\n",
      "Featurizing datapoint 8000\n",
      "Featurizing datapoint 9000\n",
      "Featurizing datapoint 10000\n",
      "Featurizing datapoint 11000\n",
      "Featurizing datapoint 12000\n",
      "Featurizing datapoint 13000\n",
      "Featurizing datapoint 14000\n"
     ]
    },
    {
     "name": "stderr",
     "output_type": "stream",
     "text": [
      "RDKit ERROR: [12:02:48] Explicit valence for atom # 0 P, 11, is greater than permitted\n"
     ]
    },
    {
     "name": "stdout",
     "output_type": "stream",
     "text": [
      "error in smile: [P](OCC=C(C)C)(OCC=C(C)C)(=O)(OP(OCC=C(C)C)(OCC=C(C)C)=O)(CC=C(C)C)(CC=C(C)C)(CC=C(C)C)(CC=C(C)C)(CC=C(C)C)CC=C(C)C\n",
      "Featurizing datapoint 15000\n",
      "Featurizing datapoint 16000\n",
      "Featurizing datapoint 17000\n",
      "Featurizing datapoint 18000\n",
      "Featurizing datapoint 19000\n",
      "Featurizing datapoint 20000\n",
      "Featurizing datapoint 21000\n",
      "Featurizing datapoint 22000\n",
      "Featurizing datapoint 23000\n",
      "Elements with indexes:  [6257, 7708, 7709, 14244]  were removed due to the presence of NAs!\n",
      "The elements in question are:  ['O=[Cl]=O' 'OB1O[B]2(O)OB(O)O[B](O)(O1)O2' 'O=[Cl-](=O)(=O)=O'\n",
      " '[P](OCC=C(C)C)(OCC=C(C)C)(=O)(OP(OCC=C(C)C)(OCC=C(C)C)=O)(CC=C(C)C)(CC=C(C)C)(CC=C(C)C)(CC=C(C)C)(CC=C(C)C)CC=C(C)C']\n",
      "(23286,) (23286,) (23286, 1024) (23286,)\n"
     ]
    },
    {
     "data": {
      "text/plain": [
       "((23286,), (23286,), (23286, 1024), (23286,))"
      ]
     },
     "execution_count": 3,
     "metadata": {},
     "output_type": "execute_result"
    }
   ],
   "source": [
    "#Featurization\n",
    "dataset = MorganFingerprint().featurize(dataset)\n",
    "dataset.get_shape()"
   ]
  },
  {
   "cell_type": "code",
   "execution_count": 4,
   "metadata": {},
   "outputs": [
    {
     "name": "stdout",
     "output_type": "stream",
     "text": [
      "(23286,) (23286,) (23286, 49) (23286,)\n"
     ]
    },
    {
     "data": {
      "text/plain": [
       "((23286,), (23286,), (23286, 49), (23286,))"
      ]
     },
     "execution_count": 4,
     "metadata": {},
     "output_type": "execute_result"
    }
   ],
   "source": [
    "#Feature Selection\n",
    "dataset = LowVarianceFS(0.15).featureSelection(dataset)\n",
    "dataset.get_shape()"
   ]
  },
  {
   "cell_type": "code",
   "execution_count": 5,
   "metadata": {},
   "outputs": [],
   "source": [
    "#Data Split\n",
    "splitter = SingletaskStratifiedSplitter()\n",
    "train_dataset, valid_dataset, test_dataset = splitter.train_valid_test_split(dataset=dataset, frac_train=0.6, \n",
    "                                                                             frac_valid=0.2, frac_test=0.2)"
   ]
  },
  {
   "cell_type": "code",
   "execution_count": 6,
   "metadata": {},
   "outputs": [],
   "source": [
    "#Scikit-Learn Random Forest\n",
    "rf = RandomForestClassifier()\n",
    "model = SklearnModel(model=rf)"
   ]
  },
  {
   "cell_type": "code",
   "execution_count": 7,
   "metadata": {},
   "outputs": [
    {
     "name": "stdout",
     "output_type": "stream",
     "text": [
      "Computing Stratified K-fold split\n",
      "Train Score: \n",
      "roc_auc_score: \n",
      " 0.8502651026262165\n",
      "Test Score: \n",
      "roc_auc_score: \n",
      " 0.642668731841772\n",
      "Train Score: \n",
      "roc_auc_score: \n",
      " 0.85604581626905\n",
      "Test Score: \n",
      "roc_auc_score: \n",
      " 0.6449339194768196\n",
      "Train Score: \n",
      "roc_auc_score: \n",
      " 0.8597454064316816\n",
      "Test Score: \n",
      "roc_auc_score: \n",
      " 0.6588125483768156\n"
     ]
    },
    {
     "data": {
      "text/plain": [
       "(SklearnModel(model=RandomForestClassifier(), model_dir='/tmp/tmpqjy7w3dw'),\n",
       " 0.8597454064316816,\n",
       " 0.6588125483768156,\n",
       " [0.8502651026262165, 0.85604581626905, 0.8597454064316816],\n",
       " [0.642668731841772, 0.6449339194768196, 0.6588125483768156],\n",
       " 0.855352108442316,\n",
       " 0.6488050665651358)"
      ]
     },
     "execution_count": 7,
     "metadata": {},
     "output_type": "execute_result"
    }
   ],
   "source": [
    "#cross validation\n",
    "model.cross_validate(dataset, Metric(roc_auc_score), folds=3)"
   ]
  },
  {
   "cell_type": "code",
   "execution_count": 8,
   "metadata": {},
   "outputs": [],
   "source": [
    "# model training\n",
    "model.fit(train_dataset)"
   ]
  },
  {
   "cell_type": "code",
   "execution_count": 9,
   "metadata": {},
   "outputs": [
    {
     "name": "stdout",
     "output_type": "stream",
     "text": [
      "#############################\n",
      "Training Dataset: \n",
      "roc_auc_score: \n",
      " 0.8630461758351012\n",
      "precision_score: \n",
      " 0.9171974522292994\n",
      "accuracy_score: \n",
      " 0.9810280641466208\n",
      "confusion_matrix: \n",
      " [[13127    52]\n",
      " [  213   576]]\n",
      "classification_report: \n",
      "               precision    recall  f1-score   support\n",
      "\n",
      "           0       0.98      1.00      0.99     13179\n",
      "           1       0.92      0.73      0.81       789\n",
      "\n",
      "    accuracy                           0.98     13968\n",
      "   macro avg       0.95      0.86      0.90     13968\n",
      "weighted avg       0.98      0.98      0.98     13968\n",
      "\n",
      "WARNING: task averager  cannot perform reduce with flexible type\n",
      "#############################\n",
      "Validation Dataset: \n",
      "roc_auc_score: \n",
      " 0.6570905666550397\n",
      "precision_score: \n",
      " 0.54375\n",
      "accuracy_score: \n",
      " 0.946520618556701\n",
      "confusion_matrix: \n",
      " [[4320   73]\n",
      " [ 176   87]]\n",
      "classification_report: \n",
      "               precision    recall  f1-score   support\n",
      "\n",
      "           0       0.96      0.98      0.97      4393\n",
      "           1       0.54      0.33      0.41       263\n",
      "\n",
      "    accuracy                           0.95      4656\n",
      "   macro avg       0.75      0.66      0.69      4656\n",
      "weighted avg       0.94      0.95      0.94      4656\n",
      "\n",
      "WARNING: task averager  cannot perform reduce with flexible type\n",
      "#############################\n",
      "Test Dataset: \n",
      "roc_auc_score: \n",
      " 0.6255174697797649\n",
      "precision_score: \n",
      " 0.5303030303030303\n",
      "accuracy_score: \n",
      " 0.9450171821305842\n",
      "confusion_matrix: \n",
      " [[4330   62]\n",
      " [ 194   70]]\n",
      "classification_report: \n",
      "               precision    recall  f1-score   support\n",
      "\n",
      "           0       0.96      0.99      0.97      4392\n",
      "           1       0.53      0.27      0.35       264\n",
      "\n",
      "    accuracy                           0.95      4656\n",
      "   macro avg       0.74      0.63      0.66      4656\n",
      "weighted avg       0.93      0.95      0.94      4656\n",
      "\n",
      "WARNING: task averager  cannot perform reduce with flexible type\n",
      "#############################\n"
     ]
    }
   ],
   "source": [
    "metrics = [Metric(roc_auc_score), Metric(precision_score), Metric(accuracy_score), Metric(confusion_matrix), \n",
    "           Metric(classification_report)]\n",
    "print(\"#############################\")\n",
    "# evaluate the model\n",
    "print('Training Dataset: ')\n",
    "train_score = model.evaluate(train_dataset, metrics)\n",
    "print(\"#############################\")\n",
    "print('Validation Dataset: ')\n",
    "valid_score = model.evaluate(valid_dataset, metrics)\n",
    "print(\"#############################\")\n",
    "print('Test Dataset: ')\n",
    "test_score = model.evaluate(test_dataset, metrics)\n",
    "print(\"#############################\")"
   ]
  },
  {
   "cell_type": "code",
   "execution_count": 10,
   "metadata": {},
   "outputs": [],
   "source": [
    "#Build a model function for hyperparameter optimization\n",
    "def rf_model_builder(n_estimators, max_features, class_weight, model_dir=None):\n",
    "    rf_model = RandomForestClassifier(n_estimators=n_estimators, max_features=max_features, \n",
    "                                      class_weight=class_weight)\n",
    "    return SklearnModel(rf_model, model_dir)\n",
    "\n",
    "params_dict_rf = {\"n_estimators\": [10, 100],\n",
    "                  \"max_features\": [\"auto\", \"sqrt\", \"log2\", None],\n",
    "                  \"class_weight\": [{0: 1., 1: 1.}, {0: 1., 1: 5}, {0: 1., 1: 10}]\n",
    "                  }\n",
    "    \n"
   ]
  },
  {
   "cell_type": "code",
   "execution_count": 11,
   "metadata": {},
   "outputs": [
    {
     "name": "stdout",
     "output_type": "stream",
     "text": [
      "Fitting 15 random models from a space of 24 possible models.\n",
      "Fitting model 1/15\n",
      "hyperparameters: {'n_estimators': 10, 'max_features': 'auto', 'class_weight': {0: 1.0, 1: 1.0}}\n",
      "roc_auc_score: \n",
      " 0.6521163551761833\n",
      "Model 1/15, Metric roc_auc_score, Validation set 1: 0.652116\n",
      "\tbest_validation_score so far: 0.652116\n",
      "Fitting model 2/15\n",
      "hyperparameters: {'n_estimators': 10, 'max_features': 'auto', 'class_weight': {0: 1.0, 1: 5}}\n",
      "roc_auc_score: \n",
      " 0.6836515749650109\n",
      "Model 2/15, Metric roc_auc_score, Validation set 2: 0.683652\n",
      "\tbest_validation_score so far: 0.683652\n",
      "Fitting model 3/15\n",
      "hyperparameters: {'n_estimators': 10, 'max_features': 'auto', 'class_weight': {0: 1.0, 1: 10}}\n",
      "roc_auc_score: \n",
      " 0.7018788099629639\n",
      "Model 3/15, Metric roc_auc_score, Validation set 3: 0.701879\n",
      "\tbest_validation_score so far: 0.701879\n",
      "Fitting model 4/15\n",
      "hyperparameters: {'n_estimators': 10, 'max_features': 'sqrt', 'class_weight': {0: 1.0, 1: 5}}\n",
      "roc_auc_score: \n",
      " 0.6801569901649617\n",
      "Model 4/15, Metric roc_auc_score, Validation set 4: 0.680157\n",
      "\tbest_validation_score so far: 0.701879\n",
      "Fitting model 5/15\n",
      "hyperparameters: {'n_estimators': 10, 'max_features': 'log2', 'class_weight': {0: 1.0, 1: 1.0}}\n",
      "roc_auc_score: \n",
      " 0.6562938445972205\n",
      "Model 5/15, Metric roc_auc_score, Validation set 5: 0.656294\n",
      "\tbest_validation_score so far: 0.701879\n",
      "Fitting model 6/15\n",
      "hyperparameters: {'n_estimators': 10, 'max_features': 'log2', 'class_weight': {0: 1.0, 1: 5}}\n",
      "roc_auc_score: \n",
      " 0.6750226552958865\n",
      "Model 6/15, Metric roc_auc_score, Validation set 6: 0.675023\n",
      "\tbest_validation_score so far: 0.701879\n",
      "Fitting model 7/15\n",
      "hyperparameters: {'n_estimators': 10, 'max_features': 'log2', 'class_weight': {0: 1.0, 1: 10}}\n",
      "roc_auc_score: \n",
      " 0.6965168402202259\n",
      "Model 7/15, Metric roc_auc_score, Validation set 7: 0.696517\n",
      "\tbest_validation_score so far: 0.701879\n",
      "Fitting model 8/15\n",
      "hyperparameters: {'n_estimators': 10, 'max_features': None, 'class_weight': {0: 1.0, 1: 1.0}}\n",
      "roc_auc_score: \n",
      " 0.6747824702105579\n",
      "Model 8/15, Metric roc_auc_score, Validation set 8: 0.674782\n",
      "\tbest_validation_score so far: 0.701879\n",
      "Fitting model 9/15\n",
      "hyperparameters: {'n_estimators': 10, 'max_features': None, 'class_weight': {0: 1.0, 1: 5}}\n",
      "roc_auc_score: \n",
      " 0.7074221086259769\n",
      "Model 9/15, Metric roc_auc_score, Validation set 9: 0.707422\n",
      "\tbest_validation_score so far: 0.707422\n",
      "Fitting model 10/15\n",
      "hyperparameters: {'n_estimators': 10, 'max_features': None, 'class_weight': {0: 1.0, 1: 10}}\n",
      "roc_auc_score: \n",
      " 0.7029832285895553\n",
      "Model 10/15, Metric roc_auc_score, Validation set 10: 0.702983\n",
      "\tbest_validation_score so far: 0.707422\n",
      "Fitting model 11/15\n",
      "hyperparameters: {'n_estimators': 100, 'max_features': 'auto', 'class_weight': {0: 1.0, 1: 10}}\n",
      "roc_auc_score: \n",
      " 0.7028231051993363\n",
      "Model 11/15, Metric roc_auc_score, Validation set 11: 0.702823\n",
      "\tbest_validation_score so far: 0.707422\n",
      "Fitting model 12/15\n",
      "hyperparameters: {'n_estimators': 100, 'max_features': 'sqrt', 'class_weight': {0: 1.0, 1: 5}}\n",
      "roc_auc_score: \n",
      " 0.6921666771973041\n",
      "Model 12/15, Metric roc_auc_score, Validation set 12: 0.692167\n",
      "\tbest_validation_score so far: 0.707422\n",
      "Fitting model 13/15\n",
      "hyperparameters: {'n_estimators': 100, 'max_features': 'log2', 'class_weight': {0: 1.0, 1: 1.0}}\n",
      "roc_auc_score: \n",
      " 0.6524115015332898\n",
      "Model 13/15, Metric roc_auc_score, Validation set 13: 0.652412\n",
      "\tbest_validation_score so far: 0.707422\n",
      "Fitting model 14/15\n",
      "hyperparameters: {'n_estimators': 100, 'max_features': None, 'class_weight': {0: 1.0, 1: 1.0}}\n",
      "roc_auc_score: \n",
      " 0.6646613736509603\n",
      "Model 14/15, Metric roc_auc_score, Validation set 14: 0.664661\n",
      "\tbest_validation_score so far: 0.707422\n",
      "Fitting model 15/15\n",
      "hyperparameters: {'n_estimators': 100, 'max_features': None, 'class_weight': {0: 1.0, 1: 10}}\n",
      "roc_auc_score: \n",
      " 0.699669972709781\n",
      "Model 15/15, Metric roc_auc_score, Validation set 15: 0.699670\n",
      "\tbest_validation_score so far: 0.707422\n",
      "roc_auc_score: \n",
      " 0.9280135726932783\n",
      "Best hyperparameters: (10, None, {0: 1.0, 1: 5})\n",
      "train_score: 0.928014\n",
      "validation_score: 0.707422\n",
      "#################\n",
      "(10, None, {0: 1.0, 1: 5})\n",
      "SklearnModel(model=RandomForestClassifier(class_weight={0: 1.0, 1: 5},\n",
      "                                          max_features=None, n_estimators=10),\n",
      "             model_dir='/tmp/tmp9ao689qv')\n"
     ]
    }
   ],
   "source": [
    "#Hyperparameter Optimization\n",
    "optimizer = GridHyperparamOpt(rf_model_builder)\n",
    "\n",
    "best_rf, best_hyperparams, all_results = optimizer.hyperparam_search(params_dict_rf, train_dataset, valid_dataset, Metric(roc_auc_score))\n",
    "\n",
    "print('#################')\n",
    "print(best_hyperparams)\n",
    "print(best_rf)"
   ]
  },
  {
   "cell_type": "code",
   "execution_count": 12,
   "metadata": {},
   "outputs": [
    {
     "name": "stdout",
     "output_type": "stream",
     "text": [
      "roc_auc_score: \n",
      " 0.663789534691174\n",
      "precision_score: \n",
      " 0.35661764705882354\n",
      "accuracy_score: \n",
      " 0.9265463917525774\n",
      "confusion_matrix: \n",
      " [[4217  175]\n",
      " [ 167   97]]\n",
      "classification_report: \n",
      "               precision    recall  f1-score   support\n",
      "\n",
      "           0       0.96      0.96      0.96      4392\n",
      "           1       0.36      0.37      0.36       264\n",
      "\n",
      "    accuracy                           0.93      4656\n",
      "   macro avg       0.66      0.66      0.66      4656\n",
      "weighted avg       0.93      0.93      0.93      4656\n",
      "\n",
      "WARNING: task averager  cannot perform reduce with flexible type\n"
     ]
    },
    {
     "data": {
      "text/plain": [
       "{'roc_auc_score': 0.663789534691174,\n",
       " 'precision_score': 0.35661764705882354,\n",
       " 'accuracy_score': 0.9265463917525774,\n",
       " 'confusion_matrix': 1164.0,\n",
       " 'classification_report': None}"
      ]
     },
     "execution_count": 12,
     "metadata": {},
     "output_type": "execute_result"
    }
   ],
   "source": [
    "#Evaluate model\n",
    "best_rf.evaluate(test_dataset, metrics)"
   ]
  }
 ],
 "metadata": {
  "kernelspec": {
   "display_name": "Python 3",
   "language": "python",
   "name": "python3"
  },
  "language_info": {
   "codemirror_mode": {
    "name": "ipython",
    "version": 3
   },
   "file_extension": ".py",
   "mimetype": "text/x-python",
   "name": "python",
   "nbconvert_exporter": "python",
   "pygments_lexer": "ipython3",
   "version": "3.6.2"
  }
 },
 "nbformat": 4,
 "nbformat_minor": 4
}
