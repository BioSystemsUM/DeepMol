{
 "cells": [
  {
   "cell_type": "code",
   "execution_count": 1,
   "metadata": {},
   "outputs": [],
   "source": [
    "from Dataset.Dataset import CSVLoader\n",
    "from compoundFeaturization.rdkitFingerprints import MorganFingerprint\n",
    "from featureSelection.baseFeatureSelector import LowVarianceFS\n",
    "from splitters.splitters import SingletaskStratifiedSplitter\n",
    "from models.sklearnModels import SklearnModel\n",
    "from metrics.Metrics import Metric\n",
    "from metrics.metricsFunctions import roc_auc_score, precision_score, accuracy_score, confusion_matrix, classification_report\n",
    "from parameterOptimization.HyperparameterOpt import GridHyperparamOpt\n",
    "\n",
    "from sklearn.ensemble import RandomForestClassifier"
   ]
  },
  {
   "cell_type": "code",
   "execution_count": 2,
   "metadata": {},
   "outputs": [
    {
     "name": "stdout",
     "output_type": "stream",
     "text": [
      "(23290,) (23290,) (0,) (23290,)\n",
      "((23290,), (23290,), (0,), (23290,))\n"
     ]
    }
   ],
   "source": [
    "#Load Dataset\n",
    "dataset = CSVLoader('preprocessed_dataset_wfoodb.csv', 'Smiles', ['Class'], 'ID')#, chunk_size=2000)\n",
    "print(dataset.get_shape())"
   ]
  },
  {
   "cell_type": "code",
   "execution_count": 3,
   "metadata": {},
   "outputs": [
    {
     "name": "stdout",
     "output_type": "stream",
     "text": [
      "Featurizing datapoint 0\n",
      "Featurizing datapoint 1000\n",
      "Featurizing datapoint 2000\n",
      "Featurizing datapoint 3000\n",
      "Featurizing datapoint 4000\n",
      "Featurizing datapoint 5000\n",
      "Featurizing datapoint 6000\n"
     ]
    },
    {
     "name": "stderr",
     "output_type": "stream",
     "text": [
      "RDKit ERROR: [16:31:59] Explicit valence for atom # 1 Cl, 4, is greater than permitted\n"
     ]
    },
    {
     "name": "stdout",
     "output_type": "stream",
     "text": [
      "error in smile: O=[Cl]=O\n",
      "Featurizing datapoint 7000\n"
     ]
    },
    {
     "name": "stderr",
     "output_type": "stream",
     "text": [
      "RDKit ERROR: [16:32:03] Explicit valence for atom # 3 B, 4, is greater than permitted\n",
      "RDKit ERROR: [16:32:03] Explicit valence for atom # 1 Cl, 9, is greater than permitted\n"
     ]
    },
    {
     "name": "stdout",
     "output_type": "stream",
     "text": [
      "error in smile: OB1O[B]2(O)OB(O)O[B](O)(O1)O2\n",
      "error in smile: O=[Cl-](=O)(=O)=O\n",
      "Featurizing datapoint 8000\n",
      "Featurizing datapoint 9000\n",
      "Featurizing datapoint 10000\n",
      "Featurizing datapoint 11000\n",
      "Featurizing datapoint 12000\n",
      "Featurizing datapoint 13000\n",
      "Featurizing datapoint 14000\n"
     ]
    },
    {
     "name": "stderr",
     "output_type": "stream",
     "text": [
      "RDKit ERROR: [16:32:17] Explicit valence for atom # 0 P, 11, is greater than permitted\n"
     ]
    },
    {
     "name": "stdout",
     "output_type": "stream",
     "text": [
      "error in smile: [P](OCC=C(C)C)(OCC=C(C)C)(=O)(OP(OCC=C(C)C)(OCC=C(C)C)=O)(CC=C(C)C)(CC=C(C)C)(CC=C(C)C)(CC=C(C)C)(CC=C(C)C)CC=C(C)C\n",
      "Featurizing datapoint 15000\n",
      "Featurizing datapoint 16000\n",
      "Featurizing datapoint 17000\n",
      "Featurizing datapoint 18000\n",
      "Featurizing datapoint 19000\n",
      "Featurizing datapoint 20000\n",
      "Featurizing datapoint 21000\n",
      "Featurizing datapoint 22000\n",
      "Featurizing datapoint 23000\n",
      "Elements with indexes:  [6257, 7708, 7709, 14244]  were removed due to the presence of NAs!\n",
      "The elements in question are:  ['O=[Cl]=O' 'OB1O[B]2(O)OB(O)O[B](O)(O1)O2' 'O=[Cl-](=O)(=O)=O'\n",
      " '[P](OCC=C(C)C)(OCC=C(C)C)(=O)(OP(OCC=C(C)C)(OCC=C(C)C)=O)(CC=C(C)C)(CC=C(C)C)(CC=C(C)C)(CC=C(C)C)(CC=C(C)C)CC=C(C)C']\n",
      "(23286,) (23286,) (23286, 1024) (23286,)\n"
     ]
    },
    {
     "data": {
      "text/plain": [
       "((23286,), (23286,), (23286, 1024), (23286,))"
      ]
     },
     "execution_count": 3,
     "metadata": {},
     "output_type": "execute_result"
    }
   ],
   "source": [
    "#Featurization\n",
    "dataset = MorganFingerprint().featurize(dataset)\n",
    "dataset.get_shape()"
   ]
  },
  {
   "cell_type": "code",
   "execution_count": 4,
   "metadata": {},
   "outputs": [
    {
     "name": "stdout",
     "output_type": "stream",
     "text": [
      "(23286,) (23286,) (23286, 49) (23286,)\n"
     ]
    },
    {
     "data": {
      "text/plain": [
       "((23286,), (23286,), (23286, 49), (23286,))"
      ]
     },
     "execution_count": 4,
     "metadata": {},
     "output_type": "execute_result"
    }
   ],
   "source": [
    "#Feature Selection\n",
    "dataset = LowVarianceFS(0.15).featureSelection(dataset)\n",
    "dataset.get_shape()"
   ]
  },
  {
   "cell_type": "code",
   "execution_count": 5,
   "metadata": {},
   "outputs": [
    {
     "name": "stdout",
     "output_type": "stream",
     "text": [
      "Computing train/valid/test indices\n"
     ]
    }
   ],
   "source": [
    "#Data Split\n",
    "splitter = SingletaskStratifiedSplitter()\n",
    "train_dataset, valid_dataset, test_dataset = splitter.train_valid_test_split(dataset=dataset, frac_train=0.6, \n",
    "                                                                             frac_valid=0.2, frac_test=0.2)"
   ]
  },
  {
   "cell_type": "code",
   "execution_count": 6,
   "metadata": {},
   "outputs": [],
   "source": [
    "#Scikit-Learn Random Forest\n",
    "rf = RandomForestClassifier()\n",
    "model = SklearnModel(model=rf)"
   ]
  },
  {
   "cell_type": "code",
   "execution_count": 7,
   "metadata": {},
   "outputs": [
    {
     "name": "stdout",
     "output_type": "stream",
     "text": [
      "Computing Stratified K-fold split\n",
      "Train Score: \n",
      "roc_auc_score: \n",
      " 0.8491654641185346\n",
      "Test Score: \n",
      "roc_auc_score: \n",
      " 0.6476046658886047\n",
      "Train Score: \n",
      "roc_auc_score: \n",
      " 0.8648190924324307\n",
      "Test Score: \n",
      "roc_auc_score: \n",
      " 0.6515044937977013\n",
      "Train Score: \n",
      "roc_auc_score: \n",
      " 0.8597454064316816\n",
      "Test Score: \n",
      "roc_auc_score: \n",
      " 0.6416691522941644\n"
     ]
    },
    {
     "data": {
      "text/plain": [
       "(SklearnModel(model=RandomForestClassifier(), model_dir='/tmp/tmpek562mul'),\n",
       " 0.8648190924324307,\n",
       " 0.6515044937977013,\n",
       " [0.8491654641185346, 0.8648190924324307, 0.8597454064316816],\n",
       " [0.6476046658886047, 0.6515044937977013, 0.6416691522941644],\n",
       " 0.8579099876608822,\n",
       " 0.6469261039934902)"
      ]
     },
     "execution_count": 7,
     "metadata": {},
     "output_type": "execute_result"
    }
   ],
   "source": [
    "#cross validation\n",
    "model.cross_validate(dataset, Metric(roc_auc_score), folds=3)"
   ]
  },
  {
   "cell_type": "code",
   "execution_count": 8,
   "metadata": {},
   "outputs": [],
   "source": [
    "# model training\n",
    "model.fit(train_dataset)"
   ]
  },
  {
   "cell_type": "code",
   "execution_count": 9,
   "metadata": {},
   "outputs": [
    {
     "name": "stdout",
     "output_type": "stream",
     "text": [
      "#############################\n",
      "Training Dataset: \n",
      "roc_auc_score: \n",
      " 0.864409619250826\n",
      "precision_score: \n",
      " 0.927652733118971\n",
      "accuracy_score: \n",
      " 0.981672394043528\n",
      "confusion_matrix: \n",
      " [[13135    45]\n",
      " [  211   577]]\n",
      "classification_report: \n",
      "               precision    recall  f1-score   support\n",
      "\n",
      "           0       0.98      1.00      0.99     13180\n",
      "           1       0.93      0.73      0.82       788\n",
      "\n",
      "    accuracy                           0.98     13968\n",
      "   macro avg       0.96      0.86      0.90     13968\n",
      "weighted avg       0.98      0.98      0.98     13968\n",
      "\n",
      "ERROR in task averager:  cannot perform reduce with flexible type\n",
      "#############################\n",
      "Validation Dataset: \n",
      "roc_auc_score: \n",
      " 0.6390027322404372\n",
      "precision_score: \n",
      " 0.5620437956204379\n",
      "accuracy_score: \n",
      " 0.9469501718213058\n",
      "confusion_matrix: \n",
      " [[4332   60]\n",
      " [ 187   77]]\n",
      "classification_report: \n",
      "               precision    recall  f1-score   support\n",
      "\n",
      "           0       0.96      0.99      0.97      4392\n",
      "           1       0.56      0.29      0.38       264\n",
      "\n",
      "    accuracy                           0.95      4656\n",
      "   macro avg       0.76      0.64      0.68      4656\n",
      "weighted avg       0.94      0.95      0.94      4656\n",
      "\n",
      "ERROR in task averager:  cannot perform reduce with flexible type\n",
      "#############################\n",
      "Test Dataset: \n",
      "roc_auc_score: \n",
      " 0.6533573439311144\n",
      "precision_score: \n",
      " 0.5592105263157895\n",
      "accuracy_score: \n",
      " 0.9471649484536082\n",
      "confusion_matrix: \n",
      " [[4325   67]\n",
      " [ 179   85]]\n",
      "classification_report: \n",
      "               precision    recall  f1-score   support\n",
      "\n",
      "           0       0.96      0.98      0.97      4392\n",
      "           1       0.56      0.32      0.41       264\n",
      "\n",
      "    accuracy                           0.95      4656\n",
      "   macro avg       0.76      0.65      0.69      4656\n",
      "weighted avg       0.94      0.95      0.94      4656\n",
      "\n",
      "ERROR in task averager:  cannot perform reduce with flexible type\n",
      "#############################\n"
     ]
    }
   ],
   "source": [
    "metrics = [Metric(roc_auc_score), Metric(precision_score), Metric(accuracy_score), Metric(confusion_matrix), \n",
    "           Metric(classification_report)]\n",
    "print(\"#############################\")\n",
    "# evaluate the model\n",
    "print('Training Dataset: ')\n",
    "train_score = model.evaluate(train_dataset, metrics)\n",
    "print(\"#############################\")\n",
    "print('Validation Dataset: ')\n",
    "valid_score = model.evaluate(valid_dataset, metrics)\n",
    "print(\"#############################\")\n",
    "print('Test Dataset: ')\n",
    "test_score = model.evaluate(test_dataset, metrics)\n",
    "print(\"#############################\")"
   ]
  },
  {
   "cell_type": "code",
   "execution_count": 11,
   "metadata": {},
   "outputs": [],
   "source": [
    "#Build a model function for hyperparameter optimization\n",
    "def rf_model_builder(n_estimators, max_features, class_weight, model_dir=None):\n",
    "    rf_model = RandomForestClassifier(n_estimators=n_estimators, max_features=max_features, \n",
    "                                      class_weight=class_weight)\n",
    "    return SklearnModel(rf_model, model_dir)\n",
    "\n",
    "params_dict_rf = {\"n_estimators\": [10, 100],\n",
    "                  \"max_features\": [\"auto\", \"sqrt\", \"log2\", None],\n",
    "                  \"class_weight\": [{0: 1., 1: 1.}, {0: 1., 1: 5}, {0: 1., 1: 10}]\n",
    "                  }\n",
    "    \n"
   ]
  },
  {
   "cell_type": "code",
   "execution_count": 12,
   "metadata": {},
   "outputs": [
    {
     "name": "stdout",
     "output_type": "stream",
     "text": [
      "Fitting 15 random models from a space of 24 possible models.\n",
      "Fitting model 1/15\n",
      "hyperparameters: {'n_estimators': 10, 'max_features': 'auto', 'class_weight': {0: 1.0, 1: 1.0}}\n",
      "roc_auc_score: \n",
      " 0.6488450074515648\n",
      "Model 1/15, Metric roc_auc_score, Validation set 1: 0.648845\n",
      "\tbest_validation_score so far: 0.648845\n",
      "Fitting model 2/15\n",
      "hyperparameters: {'n_estimators': 10, 'max_features': 'auto', 'class_weight': {0: 1.0, 1: 5}}\n",
      "roc_auc_score: \n",
      " 0.6604259811227025\n",
      "Model 2/15, Metric roc_auc_score, Validation set 2: 0.660426\n",
      "\tbest_validation_score so far: 0.660426\n",
      "Fitting model 3/15\n",
      "hyperparameters: {'n_estimators': 10, 'max_features': 'auto', 'class_weight': {0: 1.0, 1: 10}}\n",
      "roc_auc_score: \n",
      " 0.6854197714853453\n",
      "Model 3/15, Metric roc_auc_score, Validation set 3: 0.685420\n",
      "\tbest_validation_score so far: 0.685420\n",
      "Fitting model 4/15\n",
      "hyperparameters: {'n_estimators': 10, 'max_features': 'sqrt', 'class_weight': {0: 1.0, 1: 10}}\n",
      "roc_auc_score: \n",
      " 0.6750393277032621\n",
      "Model 4/15, Metric roc_auc_score, Validation set 4: 0.675039\n",
      "\tbest_validation_score so far: 0.685420\n",
      "Fitting model 5/15\n",
      "hyperparameters: {'n_estimators': 10, 'max_features': 'log2', 'class_weight': {0: 1.0, 1: 1.0}}\n",
      "roc_auc_score: \n",
      " 0.6356288292763703\n",
      "Model 5/15, Metric roc_auc_score, Validation set 5: 0.635629\n",
      "\tbest_validation_score so far: 0.685420\n",
      "Fitting model 6/15\n",
      "hyperparameters: {'n_estimators': 10, 'max_features': None, 'class_weight': {0: 1.0, 1: 1.0}}\n",
      "roc_auc_score: \n",
      " 0.6561516807418447\n",
      "Model 6/15, Metric roc_auc_score, Validation set 6: 0.656152\n",
      "\tbest_validation_score so far: 0.685420\n",
      "Fitting model 7/15\n",
      "hyperparameters: {'n_estimators': 10, 'max_features': None, 'class_weight': {0: 1.0, 1: 5}}\n",
      "roc_auc_score: \n",
      " 0.6623509687034278\n",
      "Model 7/15, Metric roc_auc_score, Validation set 7: 0.662351\n",
      "\tbest_validation_score so far: 0.685420\n",
      "Fitting model 8/15\n",
      "hyperparameters: {'n_estimators': 10, 'max_features': None, 'class_weight': {0: 1.0, 1: 10}}\n",
      "roc_auc_score: \n",
      " 0.6654143897996356\n",
      "Model 8/15, Metric roc_auc_score, Validation set 8: 0.665414\n",
      "\tbest_validation_score so far: 0.685420\n",
      "Fitting model 9/15\n",
      "hyperparameters: {'n_estimators': 100, 'max_features': 'auto', 'class_weight': {0: 1.0, 1: 5}}\n",
      "roc_auc_score: \n",
      " 0.6562241265110117\n",
      "Model 9/15, Metric roc_auc_score, Validation set 9: 0.656224\n",
      "\tbest_validation_score so far: 0.685420\n",
      "Fitting model 10/15\n",
      "hyperparameters: {'n_estimators': 100, 'max_features': 'auto', 'class_weight': {0: 1.0, 1: 10}}\n",
      "roc_auc_score: \n",
      " 0.6598153667825799\n",
      "Model 10/15, Metric roc_auc_score, Validation set 10: 0.659815\n",
      "\tbest_validation_score so far: 0.685420\n",
      "Fitting model 11/15\n",
      "hyperparameters: {'n_estimators': 100, 'max_features': 'sqrt', 'class_weight': {0: 1.0, 1: 1.0}}\n",
      "roc_auc_score: \n",
      " 0.6293053485676436\n",
      "Model 11/15, Metric roc_auc_score, Validation set 11: 0.629305\n",
      "\tbest_validation_score so far: 0.685420\n",
      "Fitting model 12/15\n",
      "hyperparameters: {'n_estimators': 100, 'max_features': 'sqrt', 'class_weight': {0: 1.0, 1: 10}}\n",
      "roc_auc_score: \n",
      " 0.6742838218248054\n",
      "Model 12/15, Metric roc_auc_score, Validation set 12: 0.674284\n",
      "\tbest_validation_score so far: 0.685420\n",
      "Fitting model 13/15\n",
      "hyperparameters: {'n_estimators': 100, 'max_features': 'log2', 'class_weight': {0: 1.0, 1: 5}}\n",
      "roc_auc_score: \n",
      " 0.65633796986256\n",
      "Model 13/15, Metric roc_auc_score, Validation set 13: 0.656338\n",
      "\tbest_validation_score so far: 0.685420\n",
      "Fitting model 14/15\n",
      "hyperparameters: {'n_estimators': 100, 'max_features': None, 'class_weight': {0: 1.0, 1: 1.0}}\n",
      "roc_auc_score: \n",
      " 0.6426353700943865\n",
      "Model 14/15, Metric roc_auc_score, Validation set 14: 0.642635\n",
      "\tbest_validation_score so far: 0.685420\n",
      "Fitting model 15/15\n",
      "hyperparameters: {'n_estimators': 100, 'max_features': None, 'class_weight': {0: 1.0, 1: 5}}\n",
      "roc_auc_score: \n",
      " 0.6696265938069217\n",
      "Model 15/15, Metric roc_auc_score, Validation set 15: 0.669627\n",
      "\tbest_validation_score so far: 0.685420\n",
      "roc_auc_score: \n",
      " 0.9324536099150382\n",
      "Best hyperparameters: (10, 'auto', {0: 1.0, 1: 10})\n",
      "train_score: 0.932454\n",
      "validation_score: 0.685420\n",
      "#################\n",
      "(10, 'auto', {0: 1.0, 1: 10})\n",
      "SklearnModel(model=RandomForestClassifier(class_weight={0: 1.0, 1: 10},\n",
      "                                          n_estimators=10),\n",
      "             model_dir='/tmp/tmp9a645zrg')\n"
     ]
    }
   ],
   "source": [
    "#Hyperparameter Optimization\n",
    "optimizer = GridHyperparamOpt(rf_model_builder)\n",
    "\n",
    "best_rf, best_hyperparams, all_results = optimizer.hyperparam_search(params_dict_rf, train_dataset, valid_dataset, Metric(roc_auc_score))\n",
    "\n",
    "print('#################')\n",
    "print(best_hyperparams)\n",
    "print(best_rf)"
   ]
  },
  {
   "cell_type": "code",
   "execution_count": 13,
   "metadata": {},
   "outputs": [
    {
     "name": "stdout",
     "output_type": "stream",
     "text": [
      "roc_auc_score: \n",
      " 0.6781751945686372\n",
      "precision_score: \n",
      " 0.33229813664596275\n",
      "accuracy_score: \n",
      " 0.9201030927835051\n",
      "confusion_matrix: \n",
      " [[4177  215]\n",
      " [ 157  107]]\n",
      "classification_report: \n",
      "               precision    recall  f1-score   support\n",
      "\n",
      "           0       0.96      0.95      0.96      4392\n",
      "           1       0.33      0.41      0.37       264\n",
      "\n",
      "    accuracy                           0.92      4656\n",
      "   macro avg       0.65      0.68      0.66      4656\n",
      "weighted avg       0.93      0.92      0.92      4656\n",
      "\n",
      "ERROR in task averager:  cannot perform reduce with flexible type\n"
     ]
    },
    {
     "data": {
      "text/plain": [
       "{'roc_auc_score': 0.6781751945686372,\n",
       " 'precision_score': 0.33229813664596275,\n",
       " 'accuracy_score': 0.9201030927835051,\n",
       " 'confusion_matrix': 1164.0,\n",
       " 'classification_report': None}"
      ]
     },
     "execution_count": 13,
     "metadata": {},
     "output_type": "execute_result"
    }
   ],
   "source": [
    "#Evaluate model\n",
    "best_rf.evaluate(test_dataset, metrics)"
   ]
  }
 ],
 "metadata": {
  "kernelspec": {
   "display_name": "Python 3",
   "language": "python",
   "name": "python3"
  },
  "language_info": {
   "codemirror_mode": {
    "name": "ipython",
    "version": 3
   },
   "file_extension": ".py",
   "mimetype": "text/x-python",
   "name": "python",
   "nbconvert_exporter": "python",
   "pygments_lexer": "ipython3",
   "version": "3.6.2"
  }
 },
 "nbformat": 4,
 "nbformat_minor": 4
}
