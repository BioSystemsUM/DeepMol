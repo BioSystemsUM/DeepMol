{
 "cells": [
  {
   "cell_type": "code",
   "execution_count": 1,
   "metadata": {},
   "outputs": [],
   "source": [
    "from Dataset.Dataset import CSVLoader\n",
    "from compoundFeaturization.rdkitFingerprints import MorganFingerprint\n",
    "from featureSelection.baseFeatureSelector import LowVarianceFS\n",
    "from splitters.splitters import SingletaskStratifiedSplitter\n",
    "from models.sklearnModels import SklearnModel\n",
    "from metrics.Metrics import Metric\n",
    "from metrics.metricsFunctions import roc_auc_score, precision_score, accuracy_score, confusion_matrix, classification_report\n",
    "from parameterOptimization.HyperparameterOpt import GridHyperparamOpt\n",
    "from imbalanced_learn.ImbalancedLearn import SMOTEENN\n",
    "\n",
    "from sklearn.ensemble import RandomForestClassifier"
   ]
  },
  {
   "cell_type": "code",
   "execution_count": 2,
   "metadata": {},
   "outputs": [
    {
     "name": "stdout",
     "output_type": "stream",
     "text": [
      "(23290,) (23290,) (0,) (23290,)\n",
      "((23290,), (23290,), (0,), (23290,))\n"
     ]
    }
   ],
   "source": [
    "#Load Dataset\n",
    "dataset = CSVLoader('preprocessed_dataset_wfoodb.csv', 'Smiles', ['Class'], 'ID')#, chunk_size=2000)\n",
    "print(dataset.get_shape())"
   ]
  },
  {
   "cell_type": "code",
   "execution_count": 3,
   "metadata": {},
   "outputs": [
    {
     "name": "stdout",
     "output_type": "stream",
     "text": [
      "Featurizing datapoint 0\n",
      "Featurizing datapoint 1000\n",
      "Featurizing datapoint 2000\n",
      "Featurizing datapoint 3000\n",
      "Featurizing datapoint 4000\n",
      "Featurizing datapoint 5000\n",
      "Featurizing datapoint 6000\n"
     ]
    },
    {
     "name": "stderr",
     "output_type": "stream",
     "text": [
      "RDKit ERROR: [12:02:36] Explicit valence for atom # 1 Cl, 4, is greater than permitted\n"
     ]
    },
    {
     "name": "stdout",
     "output_type": "stream",
     "text": [
      "error in smile: O=[Cl]=O\n",
      "Featurizing datapoint 7000\n"
     ]
    },
    {
     "name": "stderr",
     "output_type": "stream",
     "text": [
      "RDKit ERROR: [12:02:39] Explicit valence for atom # 3 B, 4, is greater than permitted\n",
      "RDKit ERROR: [12:02:39] Explicit valence for atom # 1 Cl, 9, is greater than permitted\n"
     ]
    },
    {
     "name": "stdout",
     "output_type": "stream",
     "text": [
      "error in smile: OB1O[B]2(O)OB(O)O[B](O)(O1)O2\n",
      "error in smile: O=[Cl-](=O)(=O)=O\n",
      "Featurizing datapoint 8000\n",
      "Featurizing datapoint 9000\n",
      "Featurizing datapoint 10000\n",
      "Featurizing datapoint 11000\n",
      "Featurizing datapoint 12000\n",
      "Featurizing datapoint 13000\n",
      "Featurizing datapoint 14000\n"
     ]
    },
    {
     "name": "stderr",
     "output_type": "stream",
     "text": [
      "RDKit ERROR: [12:02:55] Explicit valence for atom # 0 P, 11, is greater than permitted\n"
     ]
    },
    {
     "name": "stdout",
     "output_type": "stream",
     "text": [
      "error in smile: [P](OCC=C(C)C)(OCC=C(C)C)(=O)(OP(OCC=C(C)C)(OCC=C(C)C)=O)(CC=C(C)C)(CC=C(C)C)(CC=C(C)C)(CC=C(C)C)(CC=C(C)C)CC=C(C)C\n",
      "Featurizing datapoint 15000\n",
      "Featurizing datapoint 16000\n",
      "Featurizing datapoint 17000\n",
      "Featurizing datapoint 18000\n",
      "Featurizing datapoint 19000\n",
      "Featurizing datapoint 20000\n",
      "Featurizing datapoint 21000\n",
      "Featurizing datapoint 22000\n",
      "Featurizing datapoint 23000\n",
      "Elements with indexes:  [6257, 7708, 7709, 14244]  were removed due to the presence of NAs!\n",
      "The elements in question are:  ['O=[Cl]=O' 'OB1O[B]2(O)OB(O)O[B](O)(O1)O2' 'O=[Cl-](=O)(=O)=O'\n",
      " '[P](OCC=C(C)C)(OCC=C(C)C)(=O)(OP(OCC=C(C)C)(OCC=C(C)C)=O)(CC=C(C)C)(CC=C(C)C)(CC=C(C)C)(CC=C(C)C)(CC=C(C)C)CC=C(C)C']\n",
      "(23286,) (23286,) (23286, 1024) (23286,)\n"
     ]
    },
    {
     "data": {
      "text/plain": [
       "((23286,), (23286,), (23286, 1024), (23286,))"
      ]
     },
     "execution_count": 3,
     "metadata": {},
     "output_type": "execute_result"
    }
   ],
   "source": [
    "#Featurization\n",
    "dataset = MorganFingerprint().featurize(dataset)\n",
    "dataset.get_shape()"
   ]
  },
  {
   "cell_type": "code",
   "execution_count": 4,
   "metadata": {},
   "outputs": [
    {
     "name": "stdout",
     "output_type": "stream",
     "text": [
      "(23286,) (23286,) (23286, 49) (23286,)\n"
     ]
    },
    {
     "data": {
      "text/plain": [
       "((23286,), (23286,), (23286, 49), (23286,))"
      ]
     },
     "execution_count": 4,
     "metadata": {},
     "output_type": "execute_result"
    }
   ],
   "source": [
    "#Feature Selection\n",
    "dataset = LowVarianceFS(0.15).featureSelection(dataset)\n",
    "dataset.get_shape()"
   ]
  },
  {
   "cell_type": "code",
   "execution_count": 5,
   "metadata": {},
   "outputs": [],
   "source": [
    "#Data Split\n",
    "splitter = SingletaskStratifiedSplitter()\n",
    "train_dataset, valid_dataset, test_dataset = splitter.train_valid_test_split(dataset=dataset, frac_train=0.6, \n",
    "                                                                             frac_valid=0.2, frac_test=0.2)"
   ]
  },
  {
   "cell_type": "code",
   "execution_count": 6,
   "metadata": {},
   "outputs": [
    {
     "data": {
      "text/plain": [
       "((13968,), (22845,), (22845, 49), (13968,))"
      ]
     },
     "execution_count": 6,
     "metadata": {},
     "output_type": "execute_result"
    }
   ],
   "source": [
    "train_dataset = SMOTEENN().sample(train_dataset)\n",
    "train_dataset.get_shape()"
   ]
  },
  {
   "cell_type": "code",
   "execution_count": 7,
   "metadata": {},
   "outputs": [],
   "source": [
    "#Build a model function for hyperparameter optimization\n",
    "def rf_model_builder(n_estimators, max_features, class_weight, model_dir=None):\n",
    "    rf_model = RandomForestClassifier(n_estimators=n_estimators, max_features=max_features, \n",
    "                                      class_weight=class_weight)\n",
    "    return SklearnModel(rf_model, model_dir)\n",
    "\n",
    "params_dict_rf = {\"n_estimators\": [10, 100],\n",
    "                  \"max_features\": [\"auto\", \"sqrt\", \"log2\", None],\n",
    "                  \"class_weight\": [{0: 1., 1: 1.}, {0: 1., 1: 5}, {0: 1., 1: 10}]\n",
    "                  }\n",
    "    "
   ]
  },
  {
   "cell_type": "code",
   "execution_count": 8,
   "metadata": {},
   "outputs": [
    {
     "name": "stdout",
     "output_type": "stream",
     "text": [
      "Fitting 15 random models from a space of 24 possible models.\n",
      "Fitting model 1/15\n",
      "hyperparameters: {'n_estimators': 10, 'max_features': 'auto', 'class_weight': {0: 1.0, 1: 1.0}}\n",
      "roc_auc_score: \n",
      " 0.7617569133962576\n",
      "Model 1/15, Metric roc_auc_score, Validation set 1: 0.761757\n",
      "\tbest_validation_score so far: 0.761757\n",
      "Fitting model 2/15\n",
      "hyperparameters: {'n_estimators': 10, 'max_features': 'auto', 'class_weight': {0: 1.0, 1: 5}}\n",
      "roc_auc_score: \n",
      " 0.7491410001655904\n",
      "Model 2/15, Metric roc_auc_score, Validation set 2: 0.749141\n",
      "\tbest_validation_score so far: 0.761757\n",
      "Fitting model 3/15\n",
      "hyperparameters: {'n_estimators': 10, 'max_features': 'sqrt', 'class_weight': {0: 1.0, 1: 1.0}}\n",
      "roc_auc_score: \n",
      " 0.7635370094386487\n",
      "Model 3/15, Metric roc_auc_score, Validation set 3: 0.763537\n",
      "\tbest_validation_score so far: 0.763537\n",
      "Fitting model 4/15\n",
      "hyperparameters: {'n_estimators': 10, 'max_features': 'sqrt', 'class_weight': {0: 1.0, 1: 5}}\n",
      "roc_auc_score: \n",
      " 0.7396713031958935\n",
      "Model 4/15, Metric roc_auc_score, Validation set 4: 0.739671\n",
      "\tbest_validation_score so far: 0.763537\n",
      "Fitting model 5/15\n",
      "hyperparameters: {'n_estimators': 10, 'max_features': 'sqrt', 'class_weight': {0: 1.0, 1: 10}}\n",
      "roc_auc_score: \n",
      " 0.7444837721477064\n",
      "Model 5/15, Metric roc_auc_score, Validation set 5: 0.744484\n",
      "\tbest_validation_score so far: 0.763537\n",
      "Fitting model 6/15\n",
      "hyperparameters: {'n_estimators': 10, 'max_features': 'log2', 'class_weight': {0: 1.0, 1: 1.0}}\n",
      "roc_auc_score: \n",
      " 0.7444113263785395\n",
      "Model 6/15, Metric roc_auc_score, Validation set 6: 0.744411\n",
      "\tbest_validation_score so far: 0.763537\n",
      "Fitting model 7/15\n",
      "hyperparameters: {'n_estimators': 10, 'max_features': None, 'class_weight': {0: 1.0, 1: 1.0}}\n",
      "roc_auc_score: \n",
      " 0.7542122040072861\n",
      "Model 7/15, Metric roc_auc_score, Validation set 7: 0.754212\n",
      "\tbest_validation_score so far: 0.763537\n",
      "Fitting model 8/15\n",
      "hyperparameters: {'n_estimators': 10, 'max_features': None, 'class_weight': {0: 1.0, 1: 5}}\n",
      "roc_auc_score: \n",
      " 0.7465640006623614\n",
      "Model 8/15, Metric roc_auc_score, Validation set 8: 0.746564\n",
      "\tbest_validation_score so far: 0.763537\n",
      "Fitting model 9/15\n",
      "hyperparameters: {'n_estimators': 10, 'max_features': None, 'class_weight': {0: 1.0, 1: 10}}\n",
      "roc_auc_score: \n",
      " 0.7432314952806756\n",
      "Model 9/15, Metric roc_auc_score, Validation set 9: 0.743231\n",
      "\tbest_validation_score so far: 0.763537\n",
      "Fitting model 10/15\n",
      "hyperparameters: {'n_estimators': 100, 'max_features': 'auto', 'class_weight': {0: 1.0, 1: 1.0}}\n",
      "roc_auc_score: \n",
      " 0.7478266269249876\n",
      "Model 10/15, Metric roc_auc_score, Validation set 10: 0.747827\n",
      "\tbest_validation_score so far: 0.763537\n",
      "Fitting model 11/15\n",
      "hyperparameters: {'n_estimators': 100, 'max_features': 'auto', 'class_weight': {0: 1.0, 1: 5}}\n",
      "roc_auc_score: \n",
      " 0.7417308329193575\n",
      "Model 11/15, Metric roc_auc_score, Validation set 11: 0.741731\n",
      "\tbest_validation_score so far: 0.763537\n",
      "Fitting model 12/15\n",
      "hyperparameters: {'n_estimators': 100, 'max_features': 'sqrt', 'class_weight': {0: 1.0, 1: 1.0}}\n",
      "roc_auc_score: \n",
      " 0.7479404702765359\n",
      "Model 12/15, Metric roc_auc_score, Validation set 12: 0.747940\n",
      "\tbest_validation_score so far: 0.763537\n",
      "Fitting model 13/15\n",
      "hyperparameters: {'n_estimators': 100, 'max_features': 'sqrt', 'class_weight': {0: 1.0, 1: 5}}\n",
      "roc_auc_score: \n",
      " 0.7487373737373737\n",
      "Model 13/15, Metric roc_auc_score, Validation set 13: 0.748737\n",
      "\tbest_validation_score so far: 0.763537\n",
      "Fitting model 14/15\n",
      "hyperparameters: {'n_estimators': 100, 'max_features': 'sqrt', 'class_weight': {0: 1.0, 1: 10}}\n",
      "roc_auc_score: \n",
      " 0.7447218082463984\n",
      "Model 14/15, Metric roc_auc_score, Validation set 14: 0.744722\n",
      "\tbest_validation_score so far: 0.763537\n",
      "Fitting model 15/15\n",
      "hyperparameters: {'n_estimators': 100, 'max_features': None, 'class_weight': {0: 1.0, 1: 10}}\n",
      "roc_auc_score: \n",
      " 0.735966219572777\n",
      "Model 15/15, Metric roc_auc_score, Validation set 15: 0.735966\n",
      "\tbest_validation_score so far: 0.763537\n",
      "roc_auc_score: \n",
      " 0.9999124879670955\n",
      "Best hyperparameters: (10, 'sqrt', {0: 1.0, 1: 1.0})\n",
      "train_score: 0.999912\n",
      "validation_score: 0.763537\n",
      "#################\n",
      "(10, 'sqrt', {0: 1.0, 1: 1.0})\n",
      "SklearnModel(model=RandomForestClassifier(class_weight={0: 1.0, 1: 1.0},\n",
      "                                          max_features='sqrt',\n",
      "                                          n_estimators=10),\n",
      "             model_dir='/tmp/tmpqhb2crwk')\n"
     ]
    }
   ],
   "source": [
    "#Hyperparameter Optimization\n",
    "optimizer = GridHyperparamOpt(rf_model_builder)\n",
    "\n",
    "best_rf, best_hyperparams, all_results = optimizer.hyperparam_search(params_dict_rf, train_dataset, \n",
    "                                                                     valid_dataset, Metric(roc_auc_score))\n",
    "\n",
    "print('#################')\n",
    "print(best_hyperparams)\n",
    "print(best_rf)"
   ]
  },
  {
   "cell_type": "code",
   "execution_count": 9,
   "metadata": {},
   "outputs": [
    {
     "name": "stdout",
     "output_type": "stream",
     "text": [
      "roc_auc_score: \n",
      " 0.7509841664726709\n",
      "precision_score: \n",
      " 0.32608695652173914\n",
      "accuracy_score: \n",
      " 0.9093642611683849\n",
      "confusion_matrix: \n",
      " [[4084  310]\n",
      " [ 112  150]]\n",
      "classification_report: \n",
      "               precision    recall  f1-score   support\n",
      "\n",
      "           0       0.97      0.93      0.95      4394\n",
      "           1       0.33      0.57      0.42       262\n",
      "\n",
      "    accuracy                           0.91      4656\n",
      "   macro avg       0.65      0.75      0.68      4656\n",
      "weighted avg       0.94      0.91      0.92      4656\n",
      "\n",
      "WARNING: task averager  cannot perform reduce with flexible type\n"
     ]
    },
    {
     "data": {
      "text/plain": [
       "{'roc_auc_score': 0.7509841664726709,\n",
       " 'precision_score': 0.32608695652173914,\n",
       " 'accuracy_score': 0.9093642611683849,\n",
       " 'confusion_matrix': 1164.0,\n",
       " 'classification_report': None}"
      ]
     },
     "execution_count": 9,
     "metadata": {},
     "output_type": "execute_result"
    }
   ],
   "source": [
    "#Evaluate model\n",
    "metrics = [Metric(roc_auc_score), Metric(precision_score), Metric(accuracy_score), Metric(confusion_matrix), \n",
    "           Metric(classification_report)]\n",
    "best_rf.evaluate(test_dataset, metrics)"
   ]
  }
 ],
 "metadata": {
  "kernelspec": {
   "display_name": "Python 3",
   "language": "python",
   "name": "python3"
  },
  "language_info": {
   "codemirror_mode": {
    "name": "ipython",
    "version": 3
   },
   "file_extension": ".py",
   "mimetype": "text/x-python",
   "name": "python",
   "nbconvert_exporter": "python",
   "pygments_lexer": "ipython3",
   "version": "3.6.2"
  }
 },
 "nbformat": 4,
 "nbformat_minor": 4
}
