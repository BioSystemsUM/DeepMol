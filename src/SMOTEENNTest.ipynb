{
 "cells": [
  {
   "cell_type": "code",
   "execution_count": 2,
   "metadata": {},
   "outputs": [],
   "source": [
    "from loaders.Loaders import CSVLoader\n",
    "from compoundFeaturization.rdkitFingerprints import MorganFingerprint\n",
    "from featureSelection.baseFeatureSelector import LowVarianceFS\n",
    "from splitters.splitters import SingletaskStratifiedSplitter\n",
    "from models.sklearnModels import SklearnModel\n",
    "from metrics.Metrics import Metric\n",
    "from metrics.metricsFunctions import roc_auc_score, precision_score, accuracy_score, confusion_matrix, classification_report\n",
    "from parameterOptimization.HyperparameterOpt import GridHyperparamOpt\n",
    "from imbalanced_learn.ImbalancedLearn import SMOTEENN\n",
    "\n",
    "from sklearn.ensemble import RandomForestClassifier"
   ]
  },
  {
   "cell_type": "code",
   "execution_count": 3,
   "metadata": {},
   "outputs": [
    {
     "name": "stdout",
     "output_type": "stream",
     "text": [
      "Mols_shape:  23290\n",
      "Features_shape:  X not defined!\n",
      "Labels_shape:  (23290,)\n",
      "None\n"
     ]
    }
   ],
   "source": [
    "#Load Dataset\n",
    "dataset = CSVLoader(dataset_path='preprocessed_dataset_wfoodb.csv', \n",
    "                    mols_field='Smiles', \n",
    "                    labels_fields='Class', \n",
    "                    id_field='ID')#, shard_size=4000)\n",
    "dataset = dataset.create_dataset()\n",
    "print(dataset.get_shape())"
   ]
  },
  {
   "cell_type": "code",
   "execution_count": 4,
   "metadata": {},
   "outputs": [
    {
     "name": "stdout",
     "output_type": "stream",
     "text": [
      "Featurizing datapoint 0\n",
      "Featurizing datapoint 1000\n",
      "Featurizing datapoint 2000\n",
      "Featurizing datapoint 3000\n",
      "Featurizing datapoint 4000\n",
      "Featurizing datapoint 5000\n",
      "Featurizing datapoint 6000\n"
     ]
    },
    {
     "name": "stderr",
     "output_type": "stream",
     "text": [
      "RDKit ERROR: [10:07:59] Explicit valence for atom # 1 Cl, 4, is greater than permitted\n"
     ]
    },
    {
     "name": "stdout",
     "output_type": "stream",
     "text": [
      "error in smile: O=[Cl]=O\n",
      "Featurizing datapoint 7000\n"
     ]
    },
    {
     "name": "stderr",
     "output_type": "stream",
     "text": [
      "RDKit ERROR: [10:08:03] Explicit valence for atom # 3 B, 4, is greater than permitted\n",
      "RDKit ERROR: [10:08:03] Explicit valence for atom # 1 Cl, 9, is greater than permitted\n"
     ]
    },
    {
     "name": "stdout",
     "output_type": "stream",
     "text": [
      "error in smile: OB1O[B]2(O)OB(O)O[B](O)(O1)O2\n",
      "error in smile: O=[Cl-](=O)(=O)=O\n",
      "Featurizing datapoint 8000\n",
      "Featurizing datapoint 9000\n",
      "Featurizing datapoint 10000\n",
      "Featurizing datapoint 11000\n",
      "Featurizing datapoint 12000\n",
      "Featurizing datapoint 13000\n",
      "Featurizing datapoint 14000\n"
     ]
    },
    {
     "name": "stderr",
     "output_type": "stream",
     "text": [
      "RDKit ERROR: [10:08:17] Explicit valence for atom # 0 P, 11, is greater than permitted\n"
     ]
    },
    {
     "name": "stdout",
     "output_type": "stream",
     "text": [
      "error in smile: [P](OCC=C(C)C)(OCC=C(C)C)(=O)(OP(OCC=C(C)C)(OCC=C(C)C)=O)(CC=C(C)C)(CC=C(C)C)(CC=C(C)C)(CC=C(C)C)(CC=C(C)C)CC=C(C)C\n",
      "Featurizing datapoint 15000\n",
      "Featurizing datapoint 16000\n",
      "Featurizing datapoint 17000\n",
      "Featurizing datapoint 18000\n",
      "Featurizing datapoint 19000\n",
      "Featurizing datapoint 20000\n",
      "Featurizing datapoint 21000\n",
      "Featurizing datapoint 22000\n",
      "Featurizing datapoint 23000\n",
      "Elements with indexes:  [6257, 7708, 7709, 14244]  were removed due to the presence of NAs!\n",
      "The elements in question are:  ['O=[Cl]=O' 'OB1O[B]2(O)OB(O)O[B](O)(O1)O2' 'O=[Cl-](=O)(=O)=O'\n",
      " '[P](OCC=C(C)C)(OCC=C(C)C)(=O)(OP(OCC=C(C)C)(OCC=C(C)C)=O)(CC=C(C)C)(CC=C(C)C)(CC=C(C)C)(CC=C(C)C)(CC=C(C)C)CC=C(C)C']\n",
      "Mols_shape:  23286\n",
      "Features_shape:  (23286, 1024)\n",
      "Labels_shape:  (23286,)\n"
     ]
    }
   ],
   "source": [
    "#Featurization\n",
    "dataset = MorganFingerprint().featurize(dataset)\n",
    "dataset.get_shape()"
   ]
  },
  {
   "cell_type": "code",
   "execution_count": 5,
   "metadata": {},
   "outputs": [
    {
     "name": "stdout",
     "output_type": "stream",
     "text": [
      "Mols_shape:  23286\n",
      "Features_shape:  (23286, 49)\n",
      "Labels_shape:  (23286,)\n"
     ]
    }
   ],
   "source": [
    "#Feature Selection\n",
    "dataset = LowVarianceFS(0.15).featureSelection(dataset)\n",
    "dataset.get_shape()"
   ]
  },
  {
   "cell_type": "code",
   "execution_count": 6,
   "metadata": {},
   "outputs": [],
   "source": [
    "#Data Split\n",
    "splitter = SingletaskStratifiedSplitter()\n",
    "train_dataset, valid_dataset, test_dataset = splitter.train_valid_test_split(dataset=dataset, frac_train=0.6, \n",
    "                                                                             frac_valid=0.2, frac_test=0.2)"
   ]
  },
  {
   "cell_type": "code",
   "execution_count": 7,
   "metadata": {},
   "outputs": [
    {
     "name": "stdout",
     "output_type": "stream",
     "text": [
      "Mols_shape:  13968\n",
      "Features_shape:  (22872, 49)\n",
      "Labels_shape:  (22872,)\n"
     ]
    }
   ],
   "source": [
    "train_dataset = SMOTEENN().sample(train_dataset)\n",
    "train_dataset.get_shape()"
   ]
  },
  {
   "cell_type": "code",
   "execution_count": 8,
   "metadata": {},
   "outputs": [],
   "source": [
    "#Build a model function for hyperparameter optimization\n",
    "def rf_model_builder(n_estimators, max_features, class_weight, model_dir=None):\n",
    "    rf_model = RandomForestClassifier(n_estimators=n_estimators, max_features=max_features, \n",
    "                                      class_weight=class_weight)\n",
    "    return SklearnModel(rf_model, model_dir)\n",
    "\n",
    "params_dict_rf = {\"n_estimators\": [10, 100],\n",
    "                  \"max_features\": [\"auto\", \"sqrt\", \"log2\", None],\n",
    "                  \"class_weight\": [{0: 1., 1: 1.}, {0: 1., 1: 5}, {0: 1., 1: 10}]\n",
    "                  }\n",
    "    "
   ]
  },
  {
   "cell_type": "code",
   "execution_count": 9,
   "metadata": {},
   "outputs": [
    {
     "name": "stdout",
     "output_type": "stream",
     "text": [
      "Fitting 15 random models from a space of 24 possible models.\n",
      "Fitting model 1/15\n",
      "hyperparameters: {'n_estimators': 10, 'max_features': 'auto', 'class_weight': {0: 1.0, 1: 1.0}}\n",
      "roc_auc_score: \n",
      " 0.7517179996688194\n",
      "Model 1/15, Metric roc_auc_score, Validation set 1: 0.751718\n",
      "\tbest_validation_score so far: 0.751718\n",
      "Fitting model 2/15\n",
      "hyperparameters: {'n_estimators': 10, 'max_features': 'auto', 'class_weight': {0: 1.0, 1: 5}}\n",
      "roc_auc_score: \n",
      " 0.7546365292266931\n",
      "Model 2/15, Metric roc_auc_score, Validation set 2: 0.754637\n",
      "\tbest_validation_score so far: 0.754637\n",
      "Fitting model 3/15\n",
      "hyperparameters: {'n_estimators': 10, 'max_features': 'sqrt', 'class_weight': {0: 1.0, 1: 1.0}}\n",
      "roc_auc_score: \n",
      " 0.7505071203841697\n",
      "Model 3/15, Metric roc_auc_score, Validation set 3: 0.750507\n",
      "\tbest_validation_score so far: 0.754637\n",
      "Fitting model 4/15\n",
      "hyperparameters: {'n_estimators': 10, 'max_features': 'log2', 'class_weight': {0: 1.0, 1: 10}}\n",
      "roc_auc_score: \n",
      " 0.7377049180327868\n",
      "Model 4/15, Metric roc_auc_score, Validation set 4: 0.737705\n",
      "\tbest_validation_score so far: 0.754637\n",
      "Fitting model 5/15\n",
      "hyperparameters: {'n_estimators': 10, 'max_features': None, 'class_weight': {0: 1.0, 1: 1.0}}\n",
      "roc_auc_score: \n",
      " 0.7424656400066236\n",
      "Model 5/15, Metric roc_auc_score, Validation set 5: 0.742466\n",
      "\tbest_validation_score so far: 0.754637\n",
      "Fitting model 6/15\n",
      "hyperparameters: {'n_estimators': 10, 'max_features': None, 'class_weight': {0: 1.0, 1: 5}}\n",
      "roc_auc_score: \n",
      " 0.7371253518794503\n",
      "Model 6/15, Metric roc_auc_score, Validation set 6: 0.737125\n",
      "\tbest_validation_score so far: 0.754637\n",
      "Fitting model 7/15\n",
      "hyperparameters: {'n_estimators': 10, 'max_features': None, 'class_weight': {0: 1.0, 1: 10}}\n",
      "roc_auc_score: \n",
      " 0.7544812882927637\n",
      "Model 7/15, Metric roc_auc_score, Validation set 7: 0.754481\n",
      "\tbest_validation_score so far: 0.754637\n",
      "Fitting model 8/15\n",
      "hyperparameters: {'n_estimators': 100, 'max_features': 'auto', 'class_weight': {0: 1.0, 1: 1.0}}\n",
      "roc_auc_score: \n",
      " 0.7357074846828945\n",
      "Model 8/15, Metric roc_auc_score, Validation set 8: 0.735707\n",
      "\tbest_validation_score so far: 0.754637\n",
      "Fitting model 9/15\n",
      "hyperparameters: {'n_estimators': 100, 'max_features': 'auto', 'class_weight': {0: 1.0, 1: 5}}\n",
      "roc_auc_score: \n",
      " 0.741503146216261\n",
      "Model 9/15, Metric roc_auc_score, Validation set 9: 0.741503\n",
      "\tbest_validation_score so far: 0.754637\n",
      "Fitting model 10/15\n",
      "hyperparameters: {'n_estimators': 100, 'max_features': 'sqrt', 'class_weight': {0: 1.0, 1: 5}}\n",
      "roc_auc_score: \n",
      " 0.7379429541314787\n",
      "Model 10/15, Metric roc_auc_score, Validation set 10: 0.737943\n",
      "\tbest_validation_score so far: 0.754637\n",
      "Fitting model 11/15\n",
      "hyperparameters: {'n_estimators': 100, 'max_features': 'sqrt', 'class_weight': {0: 1.0, 1: 10}}\n",
      "roc_auc_score: \n",
      " 0.7435109289617486\n",
      "Model 11/15, Metric roc_auc_score, Validation set 11: 0.743511\n",
      "\tbest_validation_score so far: 0.754637\n",
      "Fitting model 12/15\n",
      "hyperparameters: {'n_estimators': 100, 'max_features': 'log2', 'class_weight': {0: 1.0, 1: 1.0}}\n",
      "roc_auc_score: \n",
      " 0.7454048683556881\n",
      "Model 12/15, Metric roc_auc_score, Validation set 12: 0.745405\n",
      "\tbest_validation_score so far: 0.754637\n",
      "Fitting model 13/15\n",
      "hyperparameters: {'n_estimators': 100, 'max_features': 'log2', 'class_weight': {0: 1.0, 1: 5}}\n",
      "roc_auc_score: \n",
      " 0.7459740851134293\n",
      "Model 13/15, Metric roc_auc_score, Validation set 13: 0.745974\n",
      "\tbest_validation_score so far: 0.754637\n",
      "Fitting model 14/15\n",
      "hyperparameters: {'n_estimators': 100, 'max_features': None, 'class_weight': {0: 1.0, 1: 1.0}}\n",
      "roc_auc_score: \n",
      " 0.7358834244080146\n",
      "Model 14/15, Metric roc_auc_score, Validation set 14: 0.735883\n",
      "\tbest_validation_score so far: 0.754637\n",
      "Fitting model 15/15\n",
      "hyperparameters: {'n_estimators': 100, 'max_features': None, 'class_weight': {0: 1.0, 1: 10}}\n",
      "roc_auc_score: \n",
      " 0.7474023017055803\n",
      "Model 15/15, Metric roc_auc_score, Validation set 15: 0.747402\n",
      "\tbest_validation_score so far: 0.754637\n",
      "roc_auc_score: \n",
      " 0.9996949555169237\n",
      "Best hyperparameters: (10, 'auto', {0: 1.0, 1: 5})\n",
      "train_score: 0.999695\n",
      "validation_score: 0.754637\n",
      "#################\n",
      "(10, 'auto', {0: 1.0, 1: 5})\n",
      "SklearnModel(model=RandomForestClassifier(class_weight={0: 1.0, 1: 5},\n",
      "                                          n_estimators=10),\n",
      "             model_dir='/tmp/tmp0fqa033c')\n"
     ]
    }
   ],
   "source": [
    "#Hyperparameter Optimization\n",
    "optimizer = GridHyperparamOpt(rf_model_builder)\n",
    "\n",
    "best_rf, best_hyperparams, all_results = optimizer.hyperparam_search(params_dict_rf, train_dataset, \n",
    "                                                                     valid_dataset, Metric(roc_auc_score))\n",
    "\n",
    "print('#################')\n",
    "print(best_hyperparams)\n",
    "print(best_rf)"
   ]
  },
  {
   "cell_type": "code",
   "execution_count": 11,
   "metadata": {},
   "outputs": [
    {
     "name": "stdout",
     "output_type": "stream",
     "text": [
      "roc_auc_score: \n",
      " 0.7297902761225404\n",
      "precision_score: \n",
      " 0.3187066974595843\n",
      "accuracy_score: \n",
      " 0.9100085910652921\n",
      "confusion_matrix: \n",
      " [[4099  295]\n",
      " [ 124  138]]\n",
      "classification_report: \n",
      "               precision    recall  f1-score   support\n",
      "\n",
      "           0       0.97      0.93      0.95      4394\n",
      "           1       0.32      0.53      0.40       262\n",
      "\n",
      "    accuracy                           0.91      4656\n",
      "   macro avg       0.64      0.73      0.67      4656\n",
      "weighted avg       0.93      0.91      0.92      4656\n",
      "\n",
      "WARNING: task averager  cannot perform reduce with flexible type\n"
     ]
    },
    {
     "data": {
      "text/plain": [
       "{'roc_auc_score': 0.7297902761225404,\n",
       " 'precision_score': 0.3187066974595843,\n",
       " 'accuracy_score': 0.9100085910652921,\n",
       " 'confusion_matrix': 1164.0,\n",
       " 'classification_report': None}"
      ]
     },
     "execution_count": 11,
     "metadata": {},
     "output_type": "execute_result"
    }
   ],
   "source": [
    "#Evaluate model\n",
    "metrics = [Metric(roc_auc_score), Metric(precision_score), Metric(accuracy_score), Metric(confusion_matrix), \n",
    "           Metric(classification_report)]\n",
    "best_rf.evaluate(test_dataset, metrics)"
   ]
  }
 ],
 "metadata": {
  "kernelspec": {
   "display_name": "Python 3",
   "language": "python",
   "name": "python3"
  },
  "language_info": {
   "codemirror_mode": {
    "name": "ipython",
    "version": 3
   },
   "file_extension": ".py",
   "mimetype": "text/x-python",
   "name": "python",
   "nbconvert_exporter": "python",
   "pygments_lexer": "ipython3",
   "version": "3.6.2"
  }
 },
 "nbformat": 4,
 "nbformat_minor": 4
}
