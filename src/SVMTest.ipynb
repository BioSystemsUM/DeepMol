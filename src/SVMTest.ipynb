{
 "cells": [
  {
   "cell_type": "code",
   "execution_count": 1,
   "metadata": {},
   "outputs": [],
   "source": [
    "from Dataset.Dataset import CSVLoader\n",
    "from compoundFeaturization.rdkitFingerprints import MACCSkeysFingerprint\n",
    "from featureSelection.baseFeatureSelector import SelectFromModelFS\n",
    "from splitters.splitters import SingletaskStratifiedSplitter\n",
    "from models.sklearnModels import SklearnModel\n",
    "from metrics.Metrics import Metric\n",
    "from metrics.metricsFunctions import roc_auc_score, precision_score, accuracy_score, confusion_matrix, classification_report\n",
    "from parameterOptimization.HyperparameterOpt import GridHyperparamOpt\n",
    "\n",
    "from sklearn.svm import SVC"
   ]
  },
  {
   "cell_type": "code",
   "execution_count": 2,
   "metadata": {},
   "outputs": [
    {
     "name": "stdout",
     "output_type": "stream",
     "text": [
      "(23290,) (23290,) (0,) (23290,)\n",
      "((23290,), (23290,), (0,), (23290,))\n"
     ]
    }
   ],
   "source": [
    "dataset = CSVLoader('preprocessed_dataset_wfoodb.csv', 'Smiles', ['Class'], 'ID')#, chunk_size=2000)\n",
    "print(dataset.get_shape())"
   ]
  },
  {
   "cell_type": "code",
   "execution_count": 3,
   "metadata": {},
   "outputs": [
    {
     "name": "stdout",
     "output_type": "stream",
     "text": [
      "Featurizing datapoint 0\n",
      "Featurizing datapoint 1000\n",
      "Featurizing datapoint 2000\n",
      "Featurizing datapoint 3000\n",
      "Featurizing datapoint 4000\n",
      "Featurizing datapoint 5000\n",
      "Featurizing datapoint 6000\n"
     ]
    },
    {
     "name": "stderr",
     "output_type": "stream",
     "text": [
      "RDKit ERROR: [12:02:38] Explicit valence for atom # 1 Cl, 4, is greater than permitted\n"
     ]
    },
    {
     "name": "stdout",
     "output_type": "stream",
     "text": [
      "error in smile: O=[Cl]=O\n",
      "Featurizing datapoint 7000\n"
     ]
    },
    {
     "name": "stderr",
     "output_type": "stream",
     "text": [
      "RDKit ERROR: [12:02:42] Explicit valence for atom # 3 B, 4, is greater than permitted\n",
      "RDKit ERROR: [12:02:42] Explicit valence for atom # 1 Cl, 9, is greater than permitted\n"
     ]
    },
    {
     "name": "stdout",
     "output_type": "stream",
     "text": [
      "error in smile: OB1O[B]2(O)OB(O)O[B](O)(O1)O2\n",
      "error in smile: O=[Cl-](=O)(=O)=O\n",
      "Featurizing datapoint 8000\n",
      "Featurizing datapoint 9000\n",
      "Featurizing datapoint 10000\n",
      "Featurizing datapoint 11000\n",
      "Featurizing datapoint 12000\n",
      "Featurizing datapoint 13000\n",
      "Featurizing datapoint 14000\n"
     ]
    },
    {
     "name": "stderr",
     "output_type": "stream",
     "text": [
      "RDKit ERROR: [12:02:57] Explicit valence for atom # 0 P, 11, is greater than permitted\n"
     ]
    },
    {
     "name": "stdout",
     "output_type": "stream",
     "text": [
      "error in smile: [P](OCC=C(C)C)(OCC=C(C)C)(=O)(OP(OCC=C(C)C)(OCC=C(C)C)=O)(CC=C(C)C)(CC=C(C)C)(CC=C(C)C)(CC=C(C)C)(CC=C(C)C)CC=C(C)C\n",
      "Featurizing datapoint 15000\n",
      "Featurizing datapoint 16000\n",
      "Featurizing datapoint 17000\n",
      "Featurizing datapoint 18000\n",
      "Featurizing datapoint 19000\n",
      "Featurizing datapoint 20000\n",
      "Featurizing datapoint 21000\n",
      "Featurizing datapoint 22000\n",
      "Featurizing datapoint 23000\n",
      "Elements with indexes:  [6257, 7708, 7709, 14244]  were removed due to the presence of NAs!\n",
      "The elements in question are:  ['O=[Cl]=O' 'OB1O[B]2(O)OB(O)O[B](O)(O1)O2' 'O=[Cl-](=O)(=O)=O'\n",
      " '[P](OCC=C(C)C)(OCC=C(C)C)(=O)(OP(OCC=C(C)C)(OCC=C(C)C)=O)(CC=C(C)C)(CC=C(C)C)(CC=C(C)C)(CC=C(C)C)(CC=C(C)C)CC=C(C)C']\n",
      "(23286,) (23286,) (23286, 167) (23286,)\n"
     ]
    },
    {
     "data": {
      "text/plain": [
       "((23286,), (23286,), (23286, 167), (23286,))"
      ]
     },
     "execution_count": 3,
     "metadata": {},
     "output_type": "execute_result"
    }
   ],
   "source": [
    "#Featurization\n",
    "dataset = MACCSkeysFingerprint().featurize(dataset)\n",
    "dataset.get_shape()"
   ]
  },
  {
   "cell_type": "code",
   "execution_count": 4,
   "metadata": {},
   "outputs": [
    {
     "name": "stdout",
     "output_type": "stream",
     "text": [
      "(23286,) (23286,) (23286, 61) (23286,)\n"
     ]
    },
    {
     "data": {
      "text/plain": [
       "((23286,), (23286,), (23286, 61), (23286,))"
      ]
     },
     "execution_count": 4,
     "metadata": {},
     "output_type": "execute_result"
    }
   ],
   "source": [
    "#Feature Selection\n",
    "dataset = SelectFromModelFS().featureSelection(dataset)\n",
    "dataset.get_shape()"
   ]
  },
  {
   "cell_type": "code",
   "execution_count": 5,
   "metadata": {},
   "outputs": [],
   "source": [
    "#Data Split\n",
    "splitter = SingletaskStratifiedSplitter()\n",
    "train_dataset, valid_dataset, test_dataset = splitter.train_valid_test_split(dataset=dataset, \n",
    "                                                                             frac_train=0.6, \n",
    "                                                                             frac_valid=0.2, \n",
    "                                                                             frac_test=0.2)"
   ]
  },
  {
   "cell_type": "code",
   "execution_count": 6,
   "metadata": {},
   "outputs": [],
   "source": [
    "#Scikit-Learn SVC\n",
    "svm = SVC()\n",
    "model = SklearnModel(model=svm)"
   ]
  },
  {
   "cell_type": "code",
   "execution_count": 7,
   "metadata": {},
   "outputs": [
    {
     "name": "stdout",
     "output_type": "stream",
     "text": [
      "Computing Stratified K-fold split\n",
      "Train Score: \n",
      "roc_auc_score: \n",
      " 0.5812570213169272\n",
      "Test Score: \n",
      "roc_auc_score: \n",
      " 0.5674989446499963\n",
      "Train Score: \n",
      "roc_auc_score: \n",
      " 0.5854931943245846\n",
      "Test Score: \n",
      "roc_auc_score: \n",
      " 0.5608830063920117\n",
      "Train Score: \n",
      "roc_auc_score: \n",
      " 0.5651984503215888\n",
      "Test Score: \n",
      "roc_auc_score: \n",
      " 0.5702947845804989\n"
     ]
    },
    {
     "data": {
      "text/plain": [
       "(SklearnModel(model=SVC(), model_dir='/tmp/tmpcpvkql06'),\n",
       " 0.5651984503215888,\n",
       " 0.5702947845804989,\n",
       " [0.5812570213169272, 0.5854931943245846, 0.5651984503215888],\n",
       " [0.5674989446499963, 0.5608830063920117, 0.5702947845804989],\n",
       " 0.5773162219877002,\n",
       " 0.5662255785408356)"
      ]
     },
     "execution_count": 7,
     "metadata": {},
     "output_type": "execute_result"
    }
   ],
   "source": [
    "#cross validation\n",
    "model.cross_validate(dataset, Metric(roc_auc_score), folds=3)"
   ]
  },
  {
   "cell_type": "code",
   "execution_count": 8,
   "metadata": {},
   "outputs": [],
   "source": [
    "# model training\n",
    "model.fit(train_dataset)"
   ]
  },
  {
   "cell_type": "code",
   "execution_count": 9,
   "metadata": {},
   "outputs": [
    {
     "name": "stdout",
     "output_type": "stream",
     "text": [
      "#############################\n",
      "Training Dataset: \n",
      "roc_auc_score: \n",
      " 0.5764684524072533\n",
      "precision_score: \n",
      " 0.9758064516129032\n",
      "accuracy_score: \n",
      " 0.9518900343642611\n",
      "confusion_matrix: \n",
      " [[13175     3]\n",
      " [  669   121]]\n",
      "classification_report: \n",
      "               precision    recall  f1-score   support\n",
      "\n",
      "           0       0.95      1.00      0.98     13178\n",
      "           1       0.98      0.15      0.26       790\n",
      "\n",
      "    accuracy                           0.95     13968\n",
      "   macro avg       0.96      0.58      0.62     13968\n",
      "weighted avg       0.95      0.95      0.93     13968\n",
      "\n",
      "WARNING: task averager  cannot perform reduce with flexible type\n",
      "#############################\n",
      "Validation Dataset: \n",
      "roc_auc_score: \n",
      " 0.5716742588234479\n",
      "precision_score: \n",
      " 0.8837209302325582\n",
      "accuracy_score: \n",
      " 0.9506013745704467\n",
      "confusion_matrix: \n",
      " [[4388    5]\n",
      " [ 225   38]]\n",
      "classification_report: \n",
      "               precision    recall  f1-score   support\n",
      "\n",
      "           0       0.95      1.00      0.97      4393\n",
      "           1       0.88      0.14      0.25       263\n",
      "\n",
      "    accuracy                           0.95      4656\n",
      "   macro avg       0.92      0.57      0.61      4656\n",
      "weighted avg       0.95      0.95      0.93      4656\n",
      "\n",
      "WARNING: task averager  cannot perform reduce with flexible type\n",
      "#############################\n",
      "Test Dataset: \n",
      "roc_auc_score: \n",
      " 0.5664261065175412\n",
      "precision_score: \n",
      " 0.9722222222222222\n",
      "accuracy_score: \n",
      " 0.9508161512027491\n",
      "confusion_matrix: \n",
      " [[4392    1]\n",
      " [ 228   35]]\n",
      "classification_report: \n",
      "               precision    recall  f1-score   support\n",
      "\n",
      "           0       0.95      1.00      0.97      4393\n",
      "           1       0.97      0.13      0.23       263\n",
      "\n",
      "    accuracy                           0.95      4656\n",
      "   macro avg       0.96      0.57      0.60      4656\n",
      "weighted avg       0.95      0.95      0.93      4656\n",
      "\n",
      "WARNING: task averager  cannot perform reduce with flexible type\n",
      "#############################\n"
     ]
    }
   ],
   "source": [
    "metrics = [Metric(roc_auc_score), Metric(precision_score), Metric(accuracy_score), Metric(confusion_matrix), \n",
    "           Metric(classification_report)]\n",
    "print(\"#############################\")\n",
    "# evaluate the model\n",
    "print('Training Dataset: ')\n",
    "train_score = model.evaluate(train_dataset, metrics)\n",
    "print(\"#############################\")\n",
    "print('Validation Dataset: ')\n",
    "valid_score = model.evaluate(valid_dataset, metrics)\n",
    "print(\"#############################\")\n",
    "print('Test Dataset: ')\n",
    "test_score = model.evaluate(test_dataset, metrics)\n",
    "print(\"#############################\")"
   ]
  },
  {
   "cell_type": "code",
   "execution_count": 10,
   "metadata": {},
   "outputs": [],
   "source": [
    "#Model Builder\n",
    "def svm_model_builder(C, gamma, kernel, model_dir=None):\n",
    "    svm_model = SVC(C=C, gamma=gamma, kernel=kernel)\n",
    "    return SklearnModel(svm_model, model_dir)\n",
    "\n",
    "params_dict_svm = {'C': [1.0, 0.7, 0.5, 0.3, 0.1],\n",
    "                   'gamma': [\"scale\", \"auto\"],\n",
    "                   'kernel': [\"linear\", \"rbf\"]\n",
    "                  }"
   ]
  },
  {
   "cell_type": "code",
   "execution_count": 11,
   "metadata": {},
   "outputs": [
    {
     "name": "stdout",
     "output_type": "stream",
     "text": [
      "Fitting 15 random models from a space of 20 possible models.\n",
      "Fitting model 1/15\n",
      "hyperparameters: {'C': 1.0, 'gamma': 'scale', 'kernel': 'linear'}\n",
      "roc_auc_score: \n",
      " 0.5\n",
      "Model 1/15, Metric roc_auc_score, Validation set 1: 0.500000\n",
      "\tbest_validation_score so far: 0.500000\n",
      "Fitting model 2/15\n",
      "hyperparameters: {'C': 1.0, 'gamma': 'scale', 'kernel': 'rbf'}\n",
      "roc_auc_score: \n",
      " 0.5716742588234479\n",
      "Model 2/15, Metric roc_auc_score, Validation set 2: 0.571674\n",
      "\tbest_validation_score so far: 0.571674\n",
      "Fitting model 3/15\n",
      "hyperparameters: {'C': 1.0, 'gamma': 'auto', 'kernel': 'linear'}\n",
      "roc_auc_score: \n",
      " 0.5\n",
      "Model 3/15, Metric roc_auc_score, Validation set 3: 0.500000\n",
      "\tbest_validation_score so far: 0.571674\n",
      "Fitting model 4/15\n",
      "hyperparameters: {'C': 1.0, 'gamma': 'auto', 'kernel': 'rbf'}\n",
      "roc_auc_score: \n",
      " 0.5228136882129277\n",
      "Model 4/15, Metric roc_auc_score, Validation set 4: 0.522814\n",
      "\tbest_validation_score so far: 0.571674\n",
      "Fitting model 5/15\n",
      "hyperparameters: {'C': 0.7, 'gamma': 'auto', 'kernel': 'linear'}\n",
      "roc_auc_score: \n",
      " 0.5\n",
      "Model 5/15, Metric roc_auc_score, Validation set 5: 0.500000\n",
      "\tbest_validation_score so far: 0.571674\n",
      "Fitting model 6/15\n",
      "hyperparameters: {'C': 0.7, 'gamma': 'auto', 'kernel': 'rbf'}\n",
      "roc_auc_score: \n",
      " 0.5\n",
      "Model 6/15, Metric roc_auc_score, Validation set 6: 0.500000\n",
      "\tbest_validation_score so far: 0.571674\n",
      "Fitting model 7/15\n",
      "hyperparameters: {'C': 0.5, 'gamma': 'auto', 'kernel': 'linear'}\n",
      "roc_auc_score: \n",
      " 0.5\n",
      "Model 7/15, Metric roc_auc_score, Validation set 7: 0.500000\n",
      "\tbest_validation_score so far: 0.571674\n",
      "Fitting model 8/15\n",
      "hyperparameters: {'C': 0.3, 'gamma': 'scale', 'kernel': 'linear'}\n",
      "roc_auc_score: \n",
      " 0.5\n",
      "Model 8/15, Metric roc_auc_score, Validation set 8: 0.500000\n",
      "\tbest_validation_score so far: 0.571674\n",
      "Fitting model 9/15\n",
      "hyperparameters: {'C': 0.3, 'gamma': 'scale', 'kernel': 'rbf'}\n",
      "roc_auc_score: \n",
      " 0.5532319391634981\n",
      "Model 9/15, Metric roc_auc_score, Validation set 9: 0.553232\n",
      "\tbest_validation_score so far: 0.571674\n",
      "Fitting model 10/15\n",
      "hyperparameters: {'C': 0.3, 'gamma': 'auto', 'kernel': 'linear'}\n",
      "roc_auc_score: \n",
      " 0.5\n",
      "Model 10/15, Metric roc_auc_score, Validation set 10: 0.500000\n",
      "\tbest_validation_score so far: 0.571674\n",
      "Fitting model 11/15\n",
      "hyperparameters: {'C': 0.3, 'gamma': 'auto', 'kernel': 'rbf'}\n",
      "roc_auc_score: \n",
      " 0.5\n",
      "Model 11/15, Metric roc_auc_score, Validation set 11: 0.500000\n",
      "\tbest_validation_score so far: 0.571674\n",
      "Fitting model 12/15\n",
      "hyperparameters: {'C': 0.1, 'gamma': 'scale', 'kernel': 'linear'}\n",
      "roc_auc_score: \n",
      " 0.5\n",
      "Model 12/15, Metric roc_auc_score, Validation set 12: 0.500000\n",
      "\tbest_validation_score so far: 0.571674\n",
      "Fitting model 13/15\n",
      "hyperparameters: {'C': 0.1, 'gamma': 'scale', 'kernel': 'rbf'}\n",
      "roc_auc_score: \n",
      " 0.5\n",
      "Model 13/15, Metric roc_auc_score, Validation set 13: 0.500000\n",
      "\tbest_validation_score so far: 0.571674\n",
      "Fitting model 14/15\n",
      "hyperparameters: {'C': 0.1, 'gamma': 'auto', 'kernel': 'linear'}\n",
      "roc_auc_score: \n",
      " 0.5\n",
      "Model 14/15, Metric roc_auc_score, Validation set 14: 0.500000\n",
      "\tbest_validation_score so far: 0.571674\n",
      "Fitting model 15/15\n",
      "hyperparameters: {'C': 0.1, 'gamma': 'auto', 'kernel': 'rbf'}\n",
      "roc_auc_score: \n",
      " 0.5\n",
      "Model 15/15, Metric roc_auc_score, Validation set 15: 0.500000\n",
      "\tbest_validation_score so far: 0.571674\n",
      "roc_auc_score: \n",
      " 0.5764684524072533\n",
      "Best hyperparameters: (1.0, 'scale', 'rbf')\n",
      "train_score: 0.576468\n",
      "validation_score: 0.571674\n"
     ]
    }
   ],
   "source": [
    "#hyperparameter optimization\n",
    "optimizer = GridHyperparamOpt(svm_model_builder)\n",
    "\n",
    "best_rf, best_hyperparams, all_results = optimizer.hyperparam_search(params_dict_svm, \n",
    "                                                                     train_dataset, valid_dataset, \n",
    "                                                                     Metric(roc_auc_score))"
   ]
  },
  {
   "cell_type": "code",
   "execution_count": 12,
   "metadata": {},
   "outputs": [
    {
     "name": "stdout",
     "output_type": "stream",
     "text": [
      "roc_auc_score: \n",
      " 0.5664261065175412\n",
      "precision_score: \n",
      " 0.9722222222222222\n",
      "accuracy_score: \n",
      " 0.9508161512027491\n",
      "confusion_matrix: \n",
      " [[4392    1]\n",
      " [ 228   35]]\n",
      "classification_report: \n",
      "               precision    recall  f1-score   support\n",
      "\n",
      "           0       0.95      1.00      0.97      4393\n",
      "           1       0.97      0.13      0.23       263\n",
      "\n",
      "    accuracy                           0.95      4656\n",
      "   macro avg       0.96      0.57      0.60      4656\n",
      "weighted avg       0.95      0.95      0.93      4656\n",
      "\n",
      "WARNING: task averager  cannot perform reduce with flexible type\n"
     ]
    },
    {
     "data": {
      "text/plain": [
       "{'roc_auc_score': 0.5664261065175412,\n",
       " 'precision_score': 0.9722222222222222,\n",
       " 'accuracy_score': 0.9508161512027491,\n",
       " 'confusion_matrix': 1164.0,\n",
       " 'classification_report': None}"
      ]
     },
     "execution_count": 12,
     "metadata": {},
     "output_type": "execute_result"
    }
   ],
   "source": [
    "#Evaluate best model\n",
    "best_rf.evaluate(test_dataset, metrics)"
   ]
  }
 ],
 "metadata": {
  "kernelspec": {
   "display_name": "Python 3",
   "language": "python",
   "name": "python3"
  },
  "language_info": {
   "codemirror_mode": {
    "name": "ipython",
    "version": 3
   },
   "file_extension": ".py",
   "mimetype": "text/x-python",
   "name": "python",
   "nbconvert_exporter": "python",
   "pygments_lexer": "ipython3",
   "version": "3.6.2"
  }
 },
 "nbformat": 4,
 "nbformat_minor": 4
}
