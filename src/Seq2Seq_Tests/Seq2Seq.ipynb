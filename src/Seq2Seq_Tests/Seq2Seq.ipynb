{
  "nbformat": 4,
  "nbformat_minor": 0,
  "metadata": {
    "accelerator": "GPU",
    "colab": {
      "name": "Seq2Seq.ipynb",
      "provenance": [],
      "collapsed_sections": [
        "MGkva-iIpnvO"
      ]
    },
    "kernelspec": {
      "display_name": "Python 3",
      "name": "python3"
    },
    "language_info": {
      "name": "python"
    }
  },
  "cells": [
    {
      "cell_type": "markdown",
      "metadata": {
        "id": "LHtY75PpoGFa"
      },
      "source": [
        "# Importes gerais / Instalações"
      ]
    },
    {
      "cell_type": "code",
      "metadata": {
        "id": "Lph0Cm7fXotU"
      },
      "source": [
        "% matplotlib inline\n",
        "!pip install kora\n",
        "from IPython.display import clear_output \n",
        "clear_output()\n",
        "\n",
        "\n",
        "import pandas as pd\n",
        "import seaborn as sns\n",
        "import numpy as np\n",
        "import requests\n",
        "import io\n",
        "import os\n",
        "import matplotlib.pyplot as plt\n",
        "\n",
        "import kora.install.rdkit\n",
        "from rdkit           import Chem\n",
        "from rdkit.Chem      import AllChem\n",
        "from rdkit.Chem      import Draw, Descriptors\n",
        "from rdkit.Chem      import PandasTools\n",
        "from rdkit.Chem.Draw import IPythonConsole\n",
        "\n",
        "from sklearn.model_selection import train_test_split\n",
        "\n",
        "from keras           import regularizers\n",
        "from keras.models    import Model\n",
        "from keras.layers    import Input, LSTM, Dense, Concatenate \n",
        "from keras.callbacks import ModelCheckpoint, EarlyStopping\n",
        "from keras.callbacks import History, ReduceLROnPlateau\n",
        "from keras.optimizers import RMSprop, Adam"
      ],
      "execution_count": null,
      "outputs": []
    },
    {
      "cell_type": "markdown",
      "metadata": {
        "id": "MGkva-iIpnvO"
      },
      "source": [
        "#Get dataset from repository \n",
        "- Using original dataset instead of lastest review"
      ]
    },
    {
      "cell_type": "code",
      "metadata": {
        "id": "XBAfPMkBs991",
        "colab": {
          "base_uri": "https://localhost:8080/"
        },
        "outputId": "6671e4fb-f7bf-463a-fd96-1264731c6bcb"
      },
      "source": [
        "def get_data_From_GitHub(url, df):\n",
        "    if url is None:\n",
        "        url ='https://github.com/GLambard/Molecules_Dataset_Collection/raw/master/originals/HIV.csv'\n",
        "    df = pd.read_csv(io.StringIO(requests.get('https://github.com/GLambard/Molecules_Dataset_Collection/raw/master/originals/HIV.csv').content.decode('utf-8')), index_col = 0)\n",
        "    df.reset_index(inplace=True)\n",
        "    return df\n",
        "\n",
        "def process_smiles_array(smiles_array):\n",
        "  lengths = list()\n",
        "  for i in smiles_array:\n",
        "      lengths.append(len(i))\n",
        "  return lengths\n",
        "\n",
        "def Cut_Range_of_Smiles(df,save,plot,smiles_lengths):\n",
        "    if save is True:\n",
        "        df['smiles_length'] = smiles_lengths\n",
        "    plt.hist(smiles_lengths, bins=100)\n",
        "    plt.ylabel('Number of SMILES')\n",
        "    plt.xlabel('Length of SMILES')\n",
        "    if plot is True:\n",
        "        plt.show()\n",
        "    return df\n",
        "def cut_Smile(df,Start,End,Prints=True):\n",
        "    if Prints is True:\n",
        "        print(df.shape)\n",
        "    smiles_lengths = process_smiles_array(df['smiles'].values)\n",
        "    df = Cut_Range_of_Smiles(df,True,Prints,smiles_lengths)\n",
        "    length_range = (Start,End) #Range of the cut\n",
        "    \n",
        "    if Prints is True:\n",
        "        filtered = filter(lambda x: length_range[0] <= x <= length_range[1], smiles_lengths)\n",
        "        percentage = len(list(filtered)) / len(df['smiles'].values)\n",
        "        print('Percentage of instances with SMILES\\' length between %s and %s: %s' % (length_range[0], length_range[1], percentage))\n",
        "\n",
        "    df = df[(df['smiles_length'] >= length_range[0]) & (df['smiles_length'] <= length_range[1])]\n",
        "    df = df.drop('smiles_length', axis='columns')\n",
        "    if Prints is True:\n",
        "        print(df.shape)\n",
        "\n",
        "    smiles_lengths = process_smiles_array(df['smiles'].values)\n",
        "    df = Cut_Range_of_Smiles(df,False,Prints,smiles_lengths)\n",
        "    return df\n",
        "\n",
        "df = get_data_From_GitHub(None,None)\n",
        "df = cut_Smile(df,15,79)"
      ],
      "execution_count": null,
      "outputs": [
        {
          "output_type": "stream",
          "text": [
            "(41127, 3)\n"
          ],
          "name": "stdout"
        },
        {
          "output_type": "display_data",
          "data": {
            "image/png": "[encoded data removed]",
            "text/plain": [
              "<Figure size 432x288 with 1 Axes>"
            ]
          },
          "metadata": {
            "tags": [],
            "needs_background": "light"
          }
        },
        {
          "output_type": "stream",
          "text": [
            "Percentage of instances with SMILES' length between 15 and 79: 0.9318938896588616\n",
            "(38326, 3)\n"
          ],
          "name": "stdout"
        },
        {
          "output_type": "display_data",
          "data": {
            "image/png": "[encoded data removed]",
            "text/plain": [
              "<Figure size 432x288 with 1 Axes>"
            ]
          },
          "metadata": {
            "tags": [],
            "needs_background": "light"
          }
        }
      ]
    },
    {
      "cell_type": "code",
      "metadata": {
        "colab": {
          "base_uri": "https://localhost:8080/"
        },
        "id": "_wn6pOj2pPLL",
        "outputId": "c524e11f-c0a5-493e-8922-c6bc9c6d5890"
      },
      "source": [
        "df = get_data_From_GitHub(None,None)\n",
        "df = cut_Smile(df,15,79)"
      ],
      "execution_count": null,
      "outputs": [
        {
          "output_type": "stream",
          "text": [
            "(41127, 3)\n"
          ],
          "name": "stdout"
        },
        {
          "output_type": "display_data",
          "data": {
            "image/png": "[encoded data removed]",
            "text/plain": [
              "<Figure size 432x288 with 1 Axes>"
            ]
          },
          "metadata": {
            "tags": [],
            "needs_background": "light"
          }
        },
        {
          "output_type": "stream",
          "text": [
            "Percentage of instances with SMILES' length between 15 and 79: 0.9318938896588616\n",
            "(38326, 3)\n"
          ],
          "name": "stdout"
        },
        {
          "output_type": "display_data",
          "data": {
            "image/png": "[encoded data removed]",
            "text/plain": [
              "<Figure size 432x288 with 1 Axes>"
            ]
          },
          "metadata": {
            "tags": [],
            "needs_background": "light"
          }
        }
      ]
    },
    {
      "cell_type": "markdown",
      "metadata": {
        "id": "K0WqKY42x-D1"
      },
      "source": [
        ""
      ]
    },
    {
      "cell_type": "markdown",
      "metadata": {
        "id": "z5BMtslzOkXR"
      },
      "source": [
        "\n",
        "# Seq2Seq Fingerprint\n",
        "> informações utilizadas\n",
        "> - https://github.com/XericZephyr/seq2seq-fingerprint/"
      ]
    },
    {
      "cell_type": "markdown",
      "metadata": {
        "id": "prxTT2xoQCsf"
      },
      "source": [
        "Seguimento do seguinte post: [**Master your molecule generator: Seq2seq RNN models with SMILES in Keras** ](https://www.cheminformania.com/master-your-molecule-generator-seq2seq-rnn-models-with-smiles-in-keras/)"
      ]
    },
    {
      "cell_type": "code",
      "metadata": {
        "colab": {
          "base_uri": "https://localhost:8080/"
        },
        "id": "0e_K1Y6URM9e",
        "outputId": "28c326a6-2dda-4411-b13b-af57beff3066"
      },
      "source": [
        "# General Imports\n",
        "%matplotlib inline\n",
        "data = df\n",
        "\n",
        "smiles_train, smiles_test = train_test_split(data[\"smiles\"], random_state=42)\n",
        "print(smiles_train.shape)\n",
        "print(smiles_test.shape)\n",
        "print(df.fillna('').astype(str).apply(lambda x:x.str.len()).mean())"
      ],
      "execution_count": null,
      "outputs": [
        {
          "output_type": "stream",
          "text": [
            "(28744,)\n",
            "(9582,)\n",
            "smiles        41.376976\n",
            "activity       2.000000\n",
            "HIV_active     1.000000\n",
            "dtype: float64\n"
          ],
          "name": "stdout"
        }
      ]
    },
    {
      "cell_type": "markdown",
      "metadata": {
        "id": "zwD1NI5BUvcn"
      },
      "source": [
        "É necessário vectorizar os *SMILES* para um array.\n",
        "para isto, um conjunto de caracteres é construido a partir de todos os caracteres encontrados nos *SMILES* (os de teste e de treino). \n",
        "Além disso, alguns caracteres são adicionaidos ao inicio e fim de cada *SMILE* para sinalizar quando a começou e acabou\n",
        "\n",
        "\n",
        "*The stop character also work as padding to get the same length of all vectors, so that the network can be trained in batch mode. The character set is used to define two dictionaries to translate back and forth between index and character. The maximum length of the SMILES strings is needed as the RNN’s will be trained in batch mode, and is set to the maximum encountered + some extra.*\n",
        "\n",
        "<!---The SMILES must be vectorized to one-hot encoded arrays. To do this a character set is built from all characters found in the SMILES string (both train and test). Also, some start and stop characters are added, which will be used to initiate the decoder and to signal when SMILES generation has stopped. The stop character also work as padding to get the same length of all vectors, so that the network can be trained in batch mode. The character set is used to define two dictionaries to translate back and forth between index and character. The maximum length of the SMILES strings is needed as the RNN’s will be trained in batch mode, and is set to the maximum encountered + some extra.-->"
      ]
    },
    {
      "cell_type": "code",
      "metadata": {
        "colab": {
          "base_uri": "https://localhost:8080/"
        },
        "id": "o9LG6RqmRSpc",
        "outputId": "2d8ec8ec-006c-40a9-c592-f05c8f13cd4b"
      },
      "source": [
        "charset = set(\"\".join(list(data.smiles))+\"!E\")\n",
        "char_to_int = dict((c,i) for i,c in enumerate(charset))\n",
        "int_to_char = dict((i,c) for i,c in enumerate(charset))\n",
        "embed = max([len(smile) for smile in data.smiles]) + 5\n",
        "print(str(charset))\n",
        "print(len(charset), embed)"
      ],
      "execution_count": null,
      "outputs": [
        {
          "output_type": "stream",
          "text": [
            "{'t', 'n', 'i', 'T', 's', 'O', 'N', 'B', '7', '-', 'e', 'S', '(', '+', '1', '!', '[', 'R', 'l', 'H', '5', ')', 'Z', '.', 'g', '6', 'I', 'W', 'a', 'u', 'b', '#', ']', '=', 'M', '3', '4', 'E', 'K', 'A', 'c', 'U', 'C', 'p', 'r', 'V', 'o', 'P', '2', 'G', 'L', '8', 'F', 'd'}\n",
            "54 84\n"
          ],
          "name": "stdout"
        }
      ]
    },
    {
      "cell_type": "markdown",
      "metadata": {
        "id": "Gx2MpsINWlCt"
      },
      "source": [
        "*Afterwards the character set and dictionaries are used to set the necessary bits in the Numpy arrays. The result will be a “piano-roll” of each molecules SMILES string. The X data starts with !, but the output Y is offset by one character, and starts with the first character of the actual SMILES.*\n"
      ]
    },
    {
      "cell_type": "code",
      "metadata": {
        "colab": {
          "base_uri": "https://localhost:8080/",
          "height": 309
        },
        "id": "bz_7GoIlTdRd",
        "outputId": "afcc29b3-c0f2-42b5-bc13-26c706498cfd"
      },
      "source": [
        "def vectorize(smiles):\n",
        "        one_hot =  np.zeros((smiles.shape[0], embed , len(charset)),dtype=np.int8)\n",
        "        for i,smile in enumerate(smiles):\n",
        "            #encode the startchar\n",
        "            one_hot[i,0,char_to_int[\"!\"]] = 1\n",
        "            #encode the rest of the chars\n",
        "            for j,c in enumerate(smile):\n",
        "                one_hot[i,j+1,char_to_int[c]] = 1\n",
        "            #Encode endchar\n",
        "            one_hot[i,len(smile)+1:,char_to_int[\"E\"]] = 1\n",
        "        #Return two, one for input and the other for output\n",
        "        return one_hot[:,0:-1,:], one_hot[:,1:,:]\n",
        "\n",
        "X_train, Y_train = vectorize(smiles_train.values)\n",
        "X_test,Y_test = vectorize(smiles_test.values)\n",
        "print(smiles_train.iloc[1])\n",
        "plt.matshow(X_train[1].T)\n",
        "print(X_train.shape)"
      ],
      "execution_count": null,
      "outputs": [
        {
          "output_type": "stream",
          "text": [
            "Cc1nc(-c2nc(C)c(C(=O)NNC(=O)C[n+]3ccccc3)s2)sc1C(=O)NNC(=O)C[n+]1ccccc1.[Cl-]\n",
            "(28744, 83, 54)\n"
          ],
          "name": "stdout"
        },
        {
          "output_type": "display_data",
          "data": {
            "image/png": "[encoded data removed]",
            "text/plain": [
              "<Figure size 442.667x288 with 1 Axes>"
            ]
          },
          "metadata": {
            "tags": [],
            "needs_background": "light"
          }
        }
      ]
    },
    {
      "cell_type": "code",
      "metadata": {
        "colab": {
          "base_uri": "https://localhost:8080/",
          "height": 35
        },
        "id": "GjUkaKYNxnow",
        "outputId": "36c6d02a-ff2e-479c-e4ba-42af48eeeff2"
      },
      "source": [
        "#The int_to_char dictionary can be used to go from vectorized form back to a readable string, here with a joined list comprehension.\n",
        "\"\".join([int_to_char[idx] for idx in np.argmax(X_train[1,:,:], axis=1)])"
      ],
      "execution_count": null,
      "outputs": [
        {
          "output_type": "execute_result",
          "data": {
            "application/vnd.google.colaboratory.intrinsic+json": {
              "type": "string"
            },
            "text/plain": [
              "'!Cc1nc(-c2nc(C)c(C(=O)NNC(=O)C[n+]3ccccc3)s2)sc1C(=O)NNC(=O)C[n+]1ccccc1.[Cl-]EEEEE'"
            ]
          },
          "metadata": {
            "tags": []
          },
          "execution_count": 114
        }
      ]
    },
    {
      "cell_type": "markdown",
      "metadata": {
        "id": "cngNY4U8nSF5"
      },
      "source": [
        "##modelo\n",
        "Agora é o momento para construir o AutoEncoder, começando por calcular as \n",
        "\n",
        "---\n",
        "\n",
        "dimenções dos vetores de treino e tambem o numero de LSTM cells para utilização do decoder e encoder"
      ]
    },
    {
      "cell_type": "code",
      "metadata": {
        "id": "JC0xOm4wyL5x",
        "colab": {
          "base_uri": "https://localhost:8080/"
        },
        "outputId": "56f03d6e-3f95-4ee9-8bb2-10f5fbbd6ab1"
      },
      "source": [
        "def Encode_Build(input_shape,latent_dim,lstm_dim,unroll):\n",
        "    encoder_inputs = Input(shape=input_shape)\n",
        "    encoder        = LSTM(lstm_dim, return_state=True,unroll=unroll)\n",
        "    encoder_outputs, state_h, state_c = encoder(encoder_inputs)\n",
        "    states = Concatenate(axis=-1)([state_h, state_c])\n",
        "    neck = Dense(latent_dim, activation=\"relu\")\n",
        "    neck_outputs = neck(states)\n",
        "    return neck_outputs,encoder_inputs\n",
        "\n",
        "def lstmDense (input_shape,lstm_dim,neck_outputs,encoder_inputs,unroll=False):\n",
        "    #Import Keras objects\n",
        "    \n",
        "    decode_h        = Dense(lstm_dim, activation=\"relu\")\n",
        "    decode_c        = Dense(lstm_dim, activation=\"relu\")\n",
        "    state_h_decoded = decode_h(neck_outputs)\n",
        "    state_c_decoded = decode_c(neck_outputs)\n",
        "    encoder_states  = [state_h_decoded, state_c_decoded]\n",
        "    decoder_inputs  = Input(shape=input_shape)\n",
        "    decoder_lstm    = LSTM(lstm_dim,return_sequences=True,unroll=unroll)\n",
        "    decoder_outputs = decoder_lstm(decoder_inputs, initial_state=encoder_states)\n",
        "    decoder_dense   = Dense(output_dim, activation='softmax')\n",
        "    decoder_outputs = decoder_dense(decoder_outputs)\n",
        "    #Define the model, that inputs the training vector for two places, and predicts one character ahead of the input\n",
        "    model = Model([encoder_inputs, decoder_inputs], decoder_outputs)\n",
        "    print (model.summary())\n",
        "    return model\n",
        "    \n",
        "input_shape = X_train.shape[1:]\n",
        "output_dim = Y_train.shape[-1]\n",
        "neck_outputs,encoder_inputs = Encode_Build(input_shape,128,128,False)\n",
        "model = lstmDense(input_shape,128,neck_outputs,encoder_inputs)\n"
      ],
      "execution_count": null,
      "outputs": [
        {
          "output_type": "stream",
          "text": [
            "Model: \"model_17\"\n",
            "__________________________________________________________________________________________________\n",
            "Layer (type)                    Output Shape         Param #     Connected to                     \n",
            "==================================================================================================\n",
            "input_53 (InputLayer)           [(None, 83, 54)]     0                                            \n",
            "__________________________________________________________________________________________________\n",
            "lstm_47 (LSTM)                  [(None, 128), (None, 93696       input_53[0][0]                   \n",
            "__________________________________________________________________________________________________\n",
            "concatenate_27 (Concatenate)    (None, 256)          0           lstm_47[0][1]                    \n",
            "                                                                 lstm_47[0][2]                    \n",
            "__________________________________________________________________________________________________\n",
            "dense_93 (Dense)                (None, 128)          32896       concatenate_27[0][0]             \n",
            "__________________________________________________________________________________________________\n",
            "input_54 (InputLayer)           [(None, 83, 54)]     0                                            \n",
            "__________________________________________________________________________________________________\n",
            "dense_94 (Dense)                (None, 128)          16512       dense_93[0][0]                   \n",
            "__________________________________________________________________________________________________\n",
            "dense_95 (Dense)                (None, 128)          16512       dense_93[0][0]                   \n",
            "__________________________________________________________________________________________________\n",
            "lstm_48 (LSTM)                  (None, 83, 128)      93696       input_54[0][0]                   \n",
            "                                                                 dense_94[0][0]                   \n",
            "                                                                 dense_95[0][0]                   \n",
            "__________________________________________________________________________________________________\n",
            "dense_96 (Dense)                (None, 83, 54)       6966        lstm_48[0][0]                    \n",
            "==================================================================================================\n",
            "Total params: 260,278\n",
            "Trainable params: 260,278\n",
            "Non-trainable params: 0\n",
            "__________________________________________________________________________________________________\n",
            "None\n"
          ],
          "name": "stdout"
        }
      ]
    },
    {
      "cell_type": "code",
      "metadata": {
        "colab": {
          "base_uri": "https://localhost:8080/"
        },
        "id": "ZPndlB-GzC2P",
        "outputId": "99d0fc9f-865c-40ca-ac56-6139d289cdeb"
      },
      "source": [
        "h = History()\n",
        "rlr = ReduceLROnPlateau(monitor='val_loss', factor=0.5,patience=10, min_lr=0.000001, verbose=1, epsilon=1e-5)\n",
        "es = EarlyStopping(monitor='val_loss', min_delta = 0, patience = 5, verbose = True, mode ='auto')\n",
        "opt=Adam(lr=0.05) #Default 0.001 origem 0.005\n",
        "model.compile(optimizer=opt, loss='categorical_crossentropy')"
      ],
      "execution_count": null,
      "outputs": [
        {
          "output_type": "stream",
          "text": [
            "WARNING:tensorflow:`epsilon` argument is deprecated and will be removed, use `min_delta` instead.\n"
          ],
          "name": "stdout"
        },
        {
          "output_type": "stream",
          "text": [
            "/usr/local/lib/python3.7/dist-packages/tensorflow/python/keras/optimizer_v2/optimizer_v2.py:375: UserWarning: The `lr` argument is deprecated, use `learning_rate` instead.\n",
            "  \"The `lr` argument is deprecated, use `learning_rate` instead.\")\n"
          ],
          "name": "stderr"
        }
      ]
    },
    {
      "cell_type": "code",
      "metadata": {
        "id": "J9gXrBhVAG1D",
        "colab": {
          "base_uri": "https://localhost:8080/"
        },
        "outputId": "a78b7055-f11f-4d1b-b6f0-54d7472b5495"
      },
      "source": [
        "model.fit([X_train,X_train],Y_train,\n",
        "                    epochs=100,\n",
        "                    batch_size=256,\n",
        "                    shuffle=True,\n",
        "                    callbacks=[h, rlr, es],\n",
        "                    validation_data=([X_test,X_test],Y_test))"
      ],
      "execution_count": null,
      "outputs": [
        {
          "output_type": "stream",
          "text": [
            "Epoch 1/100\n",
            "113/113 [==============================] - 6s 32ms/step - loss: 1.7443 - val_loss: 0.6914\n",
            "Epoch 2/100\n",
            "113/113 [==============================] - 3s 23ms/step - loss: 0.6446 - val_loss: 0.5675\n",
            "Epoch 3/100\n",
            "113/113 [==============================] - 3s 24ms/step - loss: 0.5464 - val_loss: 0.5153\n",
            "Epoch 4/100\n",
            "113/113 [==============================] - 3s 24ms/step - loss: 0.5044 - val_loss: 0.4882\n",
            "Epoch 5/100\n",
            "113/113 [==============================] - 3s 24ms/step - loss: 0.4759 - val_loss: 0.4663\n",
            "Epoch 6/100\n",
            "113/113 [==============================] - 3s 24ms/step - loss: 0.4552 - val_loss: 0.4465\n",
            "Epoch 7/100\n",
            "113/113 [==============================] - 3s 24ms/step - loss: 0.4384 - val_loss: 0.4357\n",
            "Epoch 8/100\n",
            "113/113 [==============================] - 3s 24ms/step - loss: 0.4272 - val_loss: 0.4315\n",
            "Epoch 9/100\n",
            "113/113 [==============================] - 3s 24ms/step - loss: 0.4226 - val_loss: 0.4274\n",
            "Epoch 10/100\n",
            "113/113 [==============================] - 3s 24ms/step - loss: 0.4163 - val_loss: 0.4205\n",
            "Epoch 11/100\n",
            "113/113 [==============================] - 3s 24ms/step - loss: 0.4086 - val_loss: 0.4195\n",
            "Epoch 12/100\n",
            "113/113 [==============================] - 3s 24ms/step - loss: 0.4052 - val_loss: 0.4191\n",
            "Epoch 13/100\n",
            "113/113 [==============================] - 3s 24ms/step - loss: 0.4033 - val_loss: 0.4109\n",
            "Epoch 14/100\n",
            "113/113 [==============================] - 3s 24ms/step - loss: 0.3990 - val_loss: 0.4107\n",
            "Epoch 15/100\n",
            "113/113 [==============================] - 3s 24ms/step - loss: 0.3954 - val_loss: 0.4089\n",
            "Epoch 16/100\n",
            "113/113 [==============================] - 3s 24ms/step - loss: 0.3933 - val_loss: 0.4097\n",
            "Epoch 17/100\n",
            "113/113 [==============================] - 3s 23ms/step - loss: 0.3920 - val_loss: 0.4062\n",
            "Epoch 18/100\n",
            "113/113 [==============================] - 3s 23ms/step - loss: 0.3915 - val_loss: 0.4027\n",
            "Epoch 19/100\n",
            "113/113 [==============================] - 3s 24ms/step - loss: 0.3852 - val_loss: 0.4102\n",
            "Epoch 20/100\n",
            "113/113 [==============================] - 3s 23ms/step - loss: 0.3899 - val_loss: 0.4040\n",
            "Epoch 21/100\n",
            "113/113 [==============================] - 3s 24ms/step - loss: 0.3876 - val_loss: 0.4025\n",
            "Epoch 22/100\n",
            "113/113 [==============================] - 3s 23ms/step - loss: 0.3879 - val_loss: 0.4063\n",
            "Epoch 23/100\n",
            "113/113 [==============================] - 3s 23ms/step - loss: 0.3852 - val_loss: 0.4001\n",
            "Epoch 24/100\n",
            "113/113 [==============================] - 3s 23ms/step - loss: 0.3845 - val_loss: 0.4032\n",
            "Epoch 25/100\n",
            "113/113 [==============================] - 3s 24ms/step - loss: 0.3842 - val_loss: 0.4012\n",
            "Epoch 26/100\n",
            "113/113 [==============================] - 3s 23ms/step - loss: 0.3822 - val_loss: 0.4039\n",
            "Epoch 27/100\n",
            "113/113 [==============================] - 3s 23ms/step - loss: 0.3843 - val_loss: 0.4017\n",
            "Epoch 28/100\n",
            "113/113 [==============================] - 3s 23ms/step - loss: 0.3839 - val_loss: 0.4034\n",
            "Epoch 00028: early stopping\n"
          ],
          "name": "stdout"
        },
        {
          "output_type": "execute_result",
          "data": {
            "text/plain": [
              "<keras.callbacks.History at 0x7fc51b895d50>"
            ]
          },
          "metadata": {
            "tags": []
          },
          "execution_count": 126
        }
      ]
    },
    {
      "cell_type": "code",
      "metadata": {
        "id": "m50MEZhBofUn",
        "colab": {
          "base_uri": "https://localhost:8080/",
          "height": 282
        },
        "outputId": "70a92e7a-6ed0-40b4-d46e-c3b4477127de"
      },
      "source": [
        "#!pip install pickle5\n",
        "#import pickle\n",
        "#pickle.dump(h.history, open(\"Blog_history.pickle\",\"w\"))\n",
        "plt.plot(h.history[\"loss\"], label=\"Loss\")\n",
        "plt.plot(h.history[\"val_loss\"], label=\"Val_Loss\")\n",
        "plt.yscale(\"log\")\n",
        "plt.legend()"
      ],
      "execution_count": null,
      "outputs": [
        {
          "output_type": "execute_result",
          "data": {
            "text/plain": [
              "<matplotlib.legend.Legend at 0x7fc4c63944d0>"
            ]
          },
          "metadata": {
            "tags": []
          },
          "execution_count": 129
        },
        {
          "output_type": "display_data",
          "data": {
            "image/png": "[encoded data removed]",
            "text/plain": [
              "<Figure size 432x288 with 1 Axes>"
            ]
          },
          "metadata": {
            "tags": [],
            "needs_background": "light"
          }
        }
      ]
    },
    {
      "cell_type": "markdown",
      "metadata": {
        "id": "JatnAnKyg8QG"
      },
      "source": [
        "# Nova secção"
      ]
    },
    {
      "cell_type": "code",
      "metadata": {
        "id": "cAFu5_3Rzp0O",
        "colab": {
          "base_uri": "https://localhost:8080/"
        },
        "outputId": "a5cf88e5-b325-4560-d67d-1263750ae8c1"
      },
      "source": [
        "fail = 0\n",
        "for i in range(100):\n",
        "    v = model.predict([X_test[i:i+1], X_test[i:i+1]]) #Can't be done as output not necessarely 1\n",
        "    idxs = np.argmax(v, axis=2)\n",
        "    pred=  \"\".join([int_to_char[h] for h in idxs[0]])[:-1]\n",
        "    idxs2 = np.argmax(X_test[i:i+1], axis=2)\n",
        "    true =  \"\".join([int_to_char[k] for k in idxs2[0]])[1:]\n",
        "    if true != pred:\n",
        "        print(true, pred)\n",
        "        fail=fail+1\n",
        "print(\"Failed\"+str(fail))\n",
        "smiles_to_latent_model = Model(encoder_inputs, neck_outputs)\n",
        "smiles_to_latent_model.save(\"Blog_simple_smi2lat.h5\")"
      ],
      "execution_count": null,
      "outputs": [
        {
          "output_type": "stream",
          "text": [
            "condição: 100\n"
          ],
          "name": "stdout"
        }
      ]
    },
    {
      "cell_type": "code",
      "metadata": {
        "id": "DEvP9gatL04C"
      },
      "source": [
        "latent_input = Input(shape=(latent_dim,))\n",
        "#reuse_layers\n",
        "state_h_decoded_2 =  decode_h(latent_input)\n",
        "state_c_decoded_2 =  decode_c(latent_input)\n",
        "latent_to_states_model = Model(latent_input, [state_h_decoded_2, state_c_decoded_2])\n",
        "latent_to_states_model.save(\"Blog_simple_lat2state.h5\")"
      ],
      "execution_count": null,
      "outputs": []
    },
    {
      "cell_type": "code",
      "metadata": {
        "id": "uGBUPPO3L20F"
      },
      "source": [
        "#Last one is special, we need to change it to stateful, and change the input shape\n",
        "inf_decoder_inputs = Input(batch_shape=(1, 1, input_shape[1]))\n",
        "inf_decoder_lstm = LSTM(128,\n",
        "                    return_sequences=True,\n",
        "                    unroll=False,\n",
        "                    stateful=True\n",
        "                   )\n",
        "inf_decoder_outputs = inf_decoder_lstm(inf_decoder_inputs)\n",
        "inf_decoder_dense = Dense(output_dim, activation='softmax')\n",
        "inf_decoder_outputs = inf_decoder_dense(inf_decoder_outputs)\n",
        "sample_model = Model(inf_decoder_inputs, inf_decoder_outputs)\n",
        "\n",
        "#Transfer Weights\n",
        "for i in range(1,3):\n",
        "    sample_model.layers[i].set_weights(model.layers[i+6].get_weights())\n",
        "sample_model.save(\"Blog_simple_samplemodel.h5\")\n",
        "sample_model.summary()"
      ],
      "execution_count": null,
      "outputs": []
    },
    {
      "cell_type": "code",
      "metadata": {
        "id": "ekLGFSpXL66n"
      },
      "source": [
        "#Transfer Weights\n",
        "for i in range(1,3):\n",
        "    sample_model.layers[i].set_weights(model.layers[i+6].get_weights())\n",
        "sample_model.save(\"Blog_simple_samplemodel.h5\")\n",
        "sample_model.summary()"
      ],
      "execution_count": null,
      "outputs": []
    },
    {
      "cell_type": "code",
      "metadata": {
        "id": "W-nNjcoLqUoA"
      },
      "source": [
        ""
      ],
      "execution_count": null,
      "outputs": []
    },
    {
      "cell_type": "code",
      "metadata": {
        "id": "sdlu8gf9p0EQ"
      },
      "source": [
        "molno = 5\n",
        "latent_mol = smiles_to_latent_model.predict(X_test[molno:molno+1])\n",
        "sorti = np.argsort(np.sum(np.abs(x_latent - latent_mol), axis=1))\n",
        "print(sorti[0:10])\n",
        "print(smiles_test.iloc[sorti[0:8]])\n",
        "Draw.MolsToGridImage(smiles_test.iloc[sorti[0:8]].apply(Chem.MolFromSmiles), molsPerRow=5, useSVG=False)"
      ],
      "execution_count": null,
      "outputs": []
    }
  ]
}