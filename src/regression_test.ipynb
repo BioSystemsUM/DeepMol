{
 "cells": [
  {
   "cell_type": "code",
   "execution_count": 1,
   "id": "invalid-point",
   "metadata": {},
   "outputs": [],
   "source": [
    "#pip install tensorflow==2.2.0"
   ]
  },
  {
   "cell_type": "code",
   "execution_count": 2,
   "id": "arabic-grill",
   "metadata": {},
   "outputs": [
    {
     "name": "stdout",
     "output_type": "stream",
     "text": [
      "2.2.0\n"
     ]
    }
   ],
   "source": [
    "from loaders.Loaders import CSVLoader\n",
    "from compoundFeaturization.rdkitFingerprints import MorganFingerprint\n",
    "from splitters.splitters import SingletaskStratifiedSplitter\n",
    "\n",
    "from sklearn.ensemble import RandomForestRegressor\n",
    "from models.sklearnModels import SklearnModel\n",
    "from metrics.Metrics import Metric\n",
    "from metrics.metricsFunctions import r2_score, mean_absolute_error, mean_squared_error, median_absolute_error\n",
    "\n",
    "import tensorflow as tf\n",
    "print(tf.version.VERSION)\n",
    "\n",
    "from parameterOptimization.HyperparameterOpt import HyperparamOpt_Valid, HyperparamOpt_CV\n"
   ]
  },
  {
   "cell_type": "code",
   "execution_count": 3,
   "id": "included-picnic",
   "metadata": {},
   "outputs": [
    {
     "name": "stdout",
     "output_type": "stream",
     "text": [
      "Mols_shape:  4294\n",
      "Features_shape:  X not defined!\n",
      "Labels_shape:  (4294,)\n"
     ]
    }
   ],
   "source": [
    "#Load Dataset\n",
    "dataset = CSVLoader(dataset_path='data/PC-3.csv', \n",
    "                    mols_field='smiles', \n",
    "                    labels_fields='pIC50')\n",
    "dataset = dataset.create_dataset()\n",
    "dataset.get_shape()"
   ]
  },
  {
   "cell_type": "code",
   "execution_count": 4,
   "id": "abroad-situation",
   "metadata": {},
   "outputs": [
    {
     "name": "stdout",
     "output_type": "stream",
     "text": [
      "Featurizing datapoint 0\n",
      "Featurizing datapoint 1000\n",
      "Featurizing datapoint 2000\n",
      "Featurizing datapoint 3000\n",
      "Featurizing datapoint 4000\n",
      "Mols_shape:  4294\n",
      "Features_shape:  (4294, 1024)\n",
      "Labels_shape:  (4294,)\n"
     ]
    }
   ],
   "source": [
    "#Featurization\n",
    "dataset = MorganFingerprint().featurize(dataset)\n",
    "dataset.get_shape()"
   ]
  },
  {
   "cell_type": "code",
   "execution_count": 5,
   "id": "australian-toner",
   "metadata": {},
   "outputs": [
    {
     "name": "stdout",
     "output_type": "stream",
     "text": [
      "Mols_shape:  2574\n",
      "Features_shape:  (2574, 1024)\n",
      "Labels_shape:  (2574,)\n",
      "Mols_shape:  858\n",
      "Features_shape:  (858, 1024)\n",
      "Labels_shape:  (858,)\n",
      "Mols_shape:  858\n",
      "Features_shape:  (858, 1024)\n",
      "Labels_shape:  (858,)\n"
     ]
    }
   ],
   "source": [
    "#Data Split\n",
    "splitter = SingletaskStratifiedSplitter()\n",
    "train_dataset, valid_dataset, test_dataset = splitter.train_valid_test_split(dataset=dataset, frac_train=0.6, \n",
    "                                                                             frac_valid=0.2, frac_test=0.2)\n",
    "\n",
    "train_dataset.get_shape()\n",
    "valid_dataset.get_shape()\n",
    "test_dataset.get_shape()"
   ]
  },
  {
   "cell_type": "code",
   "execution_count": 6,
   "id": "bacterial-story",
   "metadata": {},
   "outputs": [],
   "source": [
    "#Scikit-Learn Random Forest\n",
    "#rf = RandomForestRegressor()\n",
    "#model = SklearnModel(model=rf)"
   ]
  },
  {
   "cell_type": "code",
   "execution_count": 7,
   "id": "dental-frontier",
   "metadata": {},
   "outputs": [
    {
     "name": "stdout",
     "output_type": "stream",
     "text": [
      "1024\n"
     ]
    }
   ],
   "source": [
    "from models.kerasModels import KerasModel\n",
    "from tensorflow.keras.models import Sequential\n",
    "from tensorflow.keras.layers import Dense\n",
    "\n",
    "\n",
    "input_dim = train_dataset.X.shape[1]\n",
    "print(input_dim)\n",
    "\n",
    "def build_model():\n",
    "    model = Sequential()\n",
    "    model.add(Dense(64, activation='relu', input_shape=[1024]))\n",
    "    model.add(Dense(64, activation='relu'))\n",
    "    model.add(Dense(1))\n",
    "    \n",
    "    optimizer = tf.keras.optimizers.RMSprop(0.001)\n",
    "\n",
    "    model.compile(loss='mse', optimizer=optimizer, metrics=['mae', 'mse'])\n",
    "    return model\n",
    "\n",
    "model = KerasModel(build_model, mode='regression', epochs = 5, verbose=1)"
   ]
  },
  {
   "cell_type": "code",
   "execution_count": 8,
   "id": "respected-preparation",
   "metadata": {},
   "outputs": [
    {
     "name": "stdout",
     "output_type": "stream",
     "text": [
      "Computing K-fold split\n",
      "Epoch 1/5\n",
      "287/287 [==============================] - 0s 1ms/step - loss: 1.5568 - mae: 0.8537 - mse: 1.5568\n",
      "Epoch 2/5\n",
      "287/287 [==============================] - 0s 1ms/step - loss: 0.5002 - mae: 0.5350 - mse: 0.5002\n",
      "Epoch 3/5\n",
      "287/287 [==============================] - 0s 1ms/step - loss: 0.3706 - mae: 0.4556 - mse: 0.3706\n",
      "Epoch 4/5\n",
      "287/287 [==============================] - 0s 1ms/step - loss: 0.2912 - mae: 0.4022 - mse: 0.2912\n",
      "Epoch 5/5\n",
      "287/287 [==============================] - 0s 1ms/step - loss: 0.2527 - mae: 0.3729 - mse: 0.2527\n",
      "Train Score: \n",
      "287/287 [==============================] - 0s 686us/step\n",
      "r2_score: \n",
      " 0.8016884665640229\n",
      "Test Score: \n",
      "144/144 [==============================] - 0s 710us/step\n",
      "r2_score: \n",
      " -0.10019472535757368\n",
      "Epoch 1/5\n",
      "287/287 [==============================] - 0s 2ms/step - loss: 1.5148 - mae: 0.8609 - mse: 1.5148\n",
      "Epoch 2/5\n",
      "287/287 [==============================] - 0s 2ms/step - loss: 0.5372 - mae: 0.5548 - mse: 0.5372\n",
      "Epoch 3/5\n",
      "287/287 [==============================] - 0s 2ms/step - loss: 0.3771 - mae: 0.4589 - mse: 0.3771\n",
      "Epoch 4/5\n",
      "287/287 [==============================] - 0s 2ms/step - loss: 0.2801 - mae: 0.3975 - mse: 0.2801\n",
      "Epoch 5/5\n",
      "287/287 [==============================] - 0s 2ms/step - loss: 0.2412 - mae: 0.3686 - mse: 0.2412\n",
      "Train Score: \n",
      "287/287 [==============================] - 0s 677us/step\n",
      "r2_score: \n",
      " 0.8541621609522112\n",
      "Test Score: \n",
      "144/144 [==============================] - 0s 659us/step\n",
      "r2_score: \n",
      " -0.19253639315276816\n",
      "Epoch 1/5\n",
      "287/287 [==============================] - 0s 2ms/step - loss: 1.6622 - mae: 0.8927 - mse: 1.6622\n",
      "Epoch 2/5\n",
      "287/287 [==============================] - 0s 1ms/step - loss: 0.5531 - mae: 0.5585 - mse: 0.5531\n",
      "Epoch 3/5\n",
      "287/287 [==============================] - 0s 2ms/step - loss: 0.4088 - mae: 0.4793 - mse: 0.4088\n",
      "Epoch 4/5\n",
      "287/287 [==============================] - 0s 2ms/step - loss: 0.3326 - mae: 0.4303 - mse: 0.3326\n",
      "Epoch 5/5\n",
      "287/287 [==============================] - 0s 1ms/step - loss: 0.2746 - mae: 0.3898 - mse: 0.2746\n",
      "Train Score: \n",
      "287/287 [==============================] - 0s 805us/step\n",
      "r2_score: \n",
      " 0.7713730553153497\n",
      "Test Score: \n",
      "144/144 [==============================] - 0s 808us/step\n",
      "r2_score: \n",
      " -0.527210656178245\n"
     ]
    },
    {
     "data": {
      "text/plain": [
       "(None,\n",
       " 0,\n",
       " 0,\n",
       " [0.8016884665640229, 0.8541621609522112, 0.7713730553153497],\n",
       " [-0.10019472535757368, -0.19253639315276816, -0.527210656178245],\n",
       " 0.8090745609438613,\n",
       " -0.2733139248961956)"
      ]
     },
     "execution_count": 8,
     "metadata": {},
     "output_type": "execute_result"
    }
   ],
   "source": [
    "#cross validation\n",
    "model.cross_validate(dataset, Metric(r2_score), folds=3)"
   ]
  },
  {
   "cell_type": "code",
   "execution_count": 9,
   "id": "controlled-nation",
   "metadata": {},
   "outputs": [
    {
     "name": "stdout",
     "output_type": "stream",
     "text": [
      "kerasModels fit!\n",
      "<tensorflow.python.keras.wrappers.scikit_learn.KerasRegressor object at 0x7fcfc7363cc0>\n",
      "Epoch 1/5\n",
      "258/258 [==============================] - 0s 1ms/step - loss: 1.8194 - mae: 0.9414 - mse: 1.8194\n",
      "Epoch 2/5\n",
      "258/258 [==============================] - 0s 2ms/step - loss: 0.5914 - mae: 0.5827 - mse: 0.5914\n",
      "Epoch 3/5\n",
      "258/258 [==============================] - 0s 2ms/step - loss: 0.4357 - mae: 0.5059 - mse: 0.4357\n",
      "Epoch 4/5\n",
      "258/258 [==============================] - 0s 2ms/step - loss: 0.3464 - mae: 0.4432 - mse: 0.3464\n",
      "Epoch 5/5\n",
      "258/258 [==============================] - 0s 1ms/step - loss: 0.2856 - mae: 0.4016 - mse: 0.2856\n"
     ]
    }
   ],
   "source": [
    "# model training\n",
    "model.fit(train_dataset)"
   ]
  },
  {
   "cell_type": "code",
   "execution_count": 10,
   "id": "consistent-morgan",
   "metadata": {},
   "outputs": [
    {
     "name": "stdout",
     "output_type": "stream",
     "text": [
      "#############################\n",
      "Training Dataset: \n",
      "<tensorflow.python.keras.wrappers.scikit_learn.KerasRegressor object at 0x7fcfc7363cc0>\n",
      "<class 'tensorflow.python.keras.wrappers.scikit_learn.KerasRegressor'>\n",
      "258/258 [==============================] - 0s 713us/step\n",
      "mean_absolute_error: \n",
      " 0.3638539517295209\n",
      "mean_squared_error: \n",
      " 0.22843930288214348\n",
      "median_absolute_error: \n",
      " 0.29652029991149886\n",
      "r2_score: \n",
      " 0.7844462356460913\n",
      "#############################\n",
      "Validation Dataset: \n",
      "<tensorflow.python.keras.wrappers.scikit_learn.KerasRegressor object at 0x7fcfc7363cc0>\n",
      "<class 'tensorflow.python.keras.wrappers.scikit_learn.KerasRegressor'>\n",
      "86/86 [==============================] - 0s 700us/step\n",
      "mean_absolute_error: \n",
      " 0.5703043667593982\n",
      "mean_squared_error: \n",
      " 0.5865894145582745\n",
      "median_absolute_error: \n",
      " 0.4531481742858885\n",
      "r2_score: \n",
      " 0.44466672789142125\n",
      "#############################\n",
      "Test Dataset: \n",
      "<tensorflow.python.keras.wrappers.scikit_learn.KerasRegressor object at 0x7fcfc7363cc0>\n",
      "<class 'tensorflow.python.keras.wrappers.scikit_learn.KerasRegressor'>\n",
      "86/86 [==============================] - 0s 672us/step\n",
      "mean_absolute_error: \n",
      " 0.573556881925354\n",
      "mean_squared_error: \n",
      " 0.6206730046075947\n",
      "median_absolute_error: \n",
      " 0.4418857192993162\n",
      "r2_score: \n",
      " 0.41364214554149603\n"
     ]
    }
   ],
   "source": [
    "metrics = [Metric(mean_absolute_error), Metric(mean_squared_error), Metric(median_absolute_error), Metric(r2_score)]\n",
    "print(\"#############################\")\n",
    "# evaluate the model\n",
    "print('Training Dataset: ')\n",
    "train_score = model.evaluate(train_dataset, metrics)\n",
    "print(\"#############################\")\n",
    "print('Validation Dataset: ')\n",
    "valid_score = model.evaluate(valid_dataset, metrics)\n",
    "print(\"#############################\")\n",
    "print('Test Dataset: ')\n",
    "test_score = model.evaluate(test_dataset, metrics)\n"
   ]
  },
  {
   "cell_type": "code",
   "execution_count": 15,
   "id": "acceptable-thumbnail",
   "metadata": {},
   "outputs": [],
   "source": [
    "#Build a model function for hyperparameter optimization\n",
    "def rf_model_builder(n_estimators=10, max_features='auto', criterion='mse'):\n",
    "    rf_model = RandomForestRegressor(n_estimators=n_estimators, max_features=max_features,\n",
    "                                     criterion=criterion)\n",
    "    return rf_model\n",
    "\n",
    "params_dict_rf = {\"n_estimators\": [10, 100],\n",
    "                  \"max_features\": [\"auto\", \"sqrt\", \"log2\", None],\n",
    "                  \"criterion\": [\"mse\", \"mae\"]\n",
    "                  }\n",
    "    \n",
    "model = SklearnModel(rf_model_builder, 'regression')"
   ]
  },
  {
   "cell_type": "code",
   "execution_count": 12,
   "id": "persistent-little",
   "metadata": {},
   "outputs": [],
   "source": [
    "#Hyperparameter Optimization\n",
    "#optimizer = HyperparamOpt_Valid(rf_model_builder)\n",
    "\n",
    "#best_rf, best_hyperparams, all_results = optimizer.hyperparam_search(params_dict_rf, \n",
    "#                                                                     train_dataset, \n",
    "#                                                                     valid_dataset, \n",
    "#                                                                     Metric(r2_score),\n",
    "#                                                                     n_iter_search=15)\n",
    "\n",
    "#print('#################')\n",
    "#print(best_hyperparams)\n",
    "#print(best_rf)"
   ]
  },
  {
   "cell_type": "code",
   "execution_count": 13,
   "id": "abandoned-poison",
   "metadata": {},
   "outputs": [],
   "source": [
    "#Evaluate model\n",
    "#best_rf.evaluate(test_dataset, metrics)"
   ]
  },
  {
   "cell_type": "code",
   "execution_count": 18,
   "id": "sublime-invalid",
   "metadata": {},
   "outputs": [
    {
     "name": "stdout",
     "output_type": "stream",
     "text": [
      "MODEL TYPE:  sklearn\n",
      "asdasdas\n",
      "Fitting 10 random models from a space of 16 possible models.\n",
      "\n",
      " \n",
      " Best r2: -10.981018 using {'n_estimators': 100, 'max_features': 'sqrt', 'criterion': 'mse'}\n",
      "\n",
      " r2: -12.113956 (9.600818) with: {'n_estimators': 10, 'max_features': 'log2', 'criterion': 'mae'} \n",
      "\n",
      "\n",
      " r2: -10.989558 (9.215672) with: {'n_estimators': 100, 'max_features': 'log2', 'criterion': 'mse'} \n",
      "\n",
      "\n",
      " r2: -11.252557 (9.494626) with: {'n_estimators': 100, 'max_features': 'log2', 'criterion': 'mae'} \n",
      "\n",
      "\n",
      " r2: -10.981018 (8.888105) with: {'n_estimators': 100, 'max_features': 'sqrt', 'criterion': 'mse'} \n",
      "\n",
      "\n",
      " r2: -11.425314 (9.029259) with: {'n_estimators': 100, 'max_features': None, 'criterion': 'mse'} \n",
      "\n",
      "\n",
      " r2: -12.530082 (9.692693) with: {'n_estimators': 10, 'max_features': 'sqrt', 'criterion': 'mae'} \n",
      "\n",
      "\n",
      " r2: -12.069208 (9.710852) with: {'n_estimators': 100, 'max_features': None, 'criterion': 'mae'} \n",
      "\n",
      "\n",
      " r2: -11.196103 (8.330170) with: {'n_estimators': 10, 'max_features': 'log2', 'criterion': 'mse'} \n",
      "\n",
      "\n",
      " r2: -12.771546 (9.546578) with: {'n_estimators': 10, 'max_features': 'auto', 'criterion': 'mae'} \n",
      "\n",
      "\n",
      " r2: -11.646971 (9.190557) with: {'n_estimators': 100, 'max_features': 'auto', 'criterion': 'mse'} \n",
      "\n",
      "#################\n",
      "{'n_estimators': 100, 'max_features': 'sqrt', 'criterion': 'mse'}\n",
      "SklearnModel(mode='regression',\n",
      "             model=RandomForestRegressor(max_features='sqrt'))\n",
      "mean_absolute_error: \n",
      " 0.45967412684937947\n",
      "mean_squared_error: \n",
      " 0.41406634541935244\n",
      "median_absolute_error: \n",
      " 0.3373499999999976\n",
      "r2_score: \n",
      " 0.6088261417828797\n"
     ]
    },
    {
     "data": {
      "text/plain": [
       "{'mean_absolute_error': 0.45967412684937947,\n",
       " 'mean_squared_error': 0.41406634541935244,\n",
       " 'median_absolute_error': 0.3373499999999976,\n",
       " 'r2_score': 0.6088261417828797}"
      ]
     },
     "execution_count": 18,
     "metadata": {},
     "output_type": "execute_result"
    }
   ],
   "source": [
    "#Hyperparameter Optimization with CV\n",
    "optimizer = HyperparamOpt_CV(rf_model_builder)\n",
    "\n",
    "best_rf, best_hyperparams, all_results = optimizer.hyperparam_search('sklearn',\n",
    "                                                                     params_dict_rf, \n",
    "                                                                     train_dataset,  \n",
    "                                                                     'r2', \n",
    "                                                                     cv=3,\n",
    "                                                                     n_iter_search=10,\n",
    "                                                                    n_jobs=8)\n",
    "\n",
    "print('#################')\n",
    "print(best_hyperparams)\n",
    "print(best_rf)\n",
    "\n",
    "#Evaluate model\n",
    "best_rf.evaluate(test_dataset, metrics)"
   ]
  }
 ],
 "metadata": {
  "kernelspec": {
   "display_name": "Python 3",
   "language": "python",
   "name": "python3"
  },
  "language_info": {
   "codemirror_mode": {
    "name": "ipython",
    "version": 3
   },
   "file_extension": ".py",
   "mimetype": "text/x-python",
   "name": "python",
   "nbconvert_exporter": "python",
   "pygments_lexer": "ipython3",
   "version": "3.6.2"
  }
 },
 "nbformat": 4,
 "nbformat_minor": 5
}
