{
 "cells": [
  {
   "cell_type": "code",
   "execution_count": 1,
   "id": "invalid-point",
   "metadata": {},
   "outputs": [],
   "source": [
    "#pip install tensorflow==2.2.0"
   ]
  },
  {
   "cell_type": "code",
   "execution_count": 2,
   "id": "arabic-grill",
   "metadata": {},
   "outputs": [
    {
     "name": "stdout",
     "output_type": "stream",
     "text": [
      "2.2.0\n"
     ]
    }
   ],
   "source": [
    "from loaders.Loaders import CSVLoader\n",
    "from compoundFeaturization.rdkitFingerprints import MorganFingerprint\n",
    "from splitters.splitters import SingletaskStratifiedSplitter\n",
    "\n",
    "from sklearn.ensemble import RandomForestRegressor\n",
    "from models.sklearnModels import SklearnModel\n",
    "from metrics.Metrics import Metric\n",
    "from metrics.metricsFunctions import r2_score, mean_absolute_error, mean_squared_error, median_absolute_error\n",
    "\n",
    "import tensorflow as tf\n",
    "print(tf.version.VERSION)\n",
    "\n",
    "from parameterOptimization.HyperparameterOpt import HyperparamOpt_Valid, HyperparamOpt_CV\n"
   ]
  },
  {
   "cell_type": "code",
   "execution_count": 3,
   "id": "included-picnic",
   "metadata": {},
   "outputs": [
    {
     "name": "stdout",
     "output_type": "stream",
     "text": [
      "Mols_shape:  4294\n",
      "Features_shape:  X not defined!\n",
      "Labels_shape:  (4294,)\n"
     ]
    }
   ],
   "source": [
    "#Load Dataset\n",
    "dataset = CSVLoader(dataset_path='data/PC-3.csv', \n",
    "                    mols_field='smiles', \n",
    "                    labels_fields='pIC50')\n",
    "dataset = dataset.create_dataset()\n",
    "dataset.get_shape()"
   ]
  },
  {
   "cell_type": "code",
   "execution_count": 4,
   "id": "abroad-situation",
   "metadata": {},
   "outputs": [
    {
     "name": "stdout",
     "output_type": "stream",
     "text": [
      "Featurizing datapoint 0\n",
      "Featurizing datapoint 1000\n",
      "Featurizing datapoint 2000\n",
      "Featurizing datapoint 3000\n",
      "Featurizing datapoint 4000\n",
      "Mols_shape:  4294\n",
      "Features_shape:  (4294, 1024)\n",
      "Labels_shape:  (4294,)\n"
     ]
    }
   ],
   "source": [
    "#Featurization\n",
    "dataset = MorganFingerprint().featurize(dataset)\n",
    "dataset.get_shape()"
   ]
  },
  {
   "cell_type": "code",
   "execution_count": 5,
   "id": "australian-toner",
   "metadata": {},
   "outputs": [
    {
     "name": "stdout",
     "output_type": "stream",
     "text": [
      "Mols_shape:  2574\n",
      "Features_shape:  (2574, 1024)\n",
      "Labels_shape:  (2574,)\n",
      "Mols_shape:  858\n",
      "Features_shape:  (858, 1024)\n",
      "Labels_shape:  (858,)\n",
      "Mols_shape:  858\n",
      "Features_shape:  (858, 1024)\n",
      "Labels_shape:  (858,)\n"
     ]
    }
   ],
   "source": [
    "#Data Split\n",
    "splitter = SingletaskStratifiedSplitter()\n",
    "train_dataset, valid_dataset, test_dataset = splitter.train_valid_test_split(dataset=dataset, frac_train=0.6, \n",
    "                                                                             frac_valid=0.2, frac_test=0.2)\n",
    "\n",
    "train_dataset.get_shape()\n",
    "valid_dataset.get_shape()\n",
    "test_dataset.get_shape()"
   ]
  },
  {
   "cell_type": "code",
   "execution_count": 6,
   "id": "bacterial-story",
   "metadata": {},
   "outputs": [],
   "source": [
    "#Scikit-Learn Random Forest\n",
    "#rf = RandomForestRegressor()\n",
    "#model = SklearnModel(model=rf)"
   ]
  },
  {
   "cell_type": "code",
   "execution_count": 7,
   "id": "varying-origin",
   "metadata": {},
   "outputs": [
    {
     "name": "stdout",
     "output_type": "stream",
     "text": [
      "1024\n"
     ]
    }
   ],
   "source": [
    "from models.kerasModels import KerasModel\n",
    "from tensorflow.keras.models import Sequential\n",
    "from tensorflow.keras.layers import Dense\n",
    "\n",
    "\n",
    "input_dim = train_dataset.X.shape[1]\n",
    "print(input_dim)\n",
    "\n",
    "def build_model():\n",
    "    model = Sequential()\n",
    "    model.add(Dense(64, activation='relu', input_shape=[1024]))\n",
    "    model.add(Dense(64, activation='relu'))\n",
    "    model.add(Dense(1))\n",
    "    \n",
    "    optimizer = tf.keras.optimizers.RMSprop(0.001)\n",
    "\n",
    "    model.compile(loss='mse', optimizer=optimizer, metrics=['mae', 'mse'])\n",
    "    return model\n",
    "\n",
    "model = KerasModel(build_model, mode='regression', epochs = 5, verbose=1)"
   ]
  },
  {
   "cell_type": "code",
   "execution_count": 8,
   "id": "respected-preparation",
   "metadata": {},
   "outputs": [
    {
     "name": "stdout",
     "output_type": "stream",
     "text": [
      "Computing K-fold split\n",
      "Epoch 1/5\n",
      "287/287 [==============================] - 0s 1ms/step - loss: 1.4856 - mae: 0.8477 - mse: 1.4856\n",
      "Epoch 2/5\n",
      "287/287 [==============================] - 0s 1ms/step - loss: 0.5172 - mae: 0.5391 - mse: 0.5172\n",
      "Epoch 3/5\n",
      "287/287 [==============================] - 0s 1ms/step - loss: 0.4014 - mae: 0.4729 - mse: 0.4014\n",
      "Epoch 4/5\n",
      "287/287 [==============================] - 0s 2ms/step - loss: 0.3166 - mae: 0.4179 - mse: 0.3166\n",
      "Epoch 5/5\n",
      "287/287 [==============================] - 0s 2ms/step - loss: 0.2599 - mae: 0.3812 - mse: 0.2599\n",
      "Train Score: \n",
      "287/287 [==============================] - 0s 740us/step\n",
      "r2_score: \n",
      " 0.8191759538261746\n",
      "Test Score: \n",
      "144/144 [==============================] - 0s 789us/step\n",
      "r2_score: \n",
      " -0.2937644614269035\n",
      "Epoch 1/5\n",
      "287/287 [==============================] - 0s 2ms/step - loss: 1.8062 - mae: 0.9115 - mse: 1.8062\n",
      "Epoch 2/5\n",
      "287/287 [==============================] - 0s 2ms/step - loss: 0.5425 - mae: 0.5567 - mse: 0.5425\n",
      "Epoch 3/5\n",
      "287/287 [==============================] - 0s 1ms/step - loss: 0.3710 - mae: 0.4632 - mse: 0.3710\n",
      "Epoch 4/5\n",
      "287/287 [==============================] - 0s 2ms/step - loss: 0.2926 - mae: 0.4018 - mse: 0.2926\n",
      "Epoch 5/5\n",
      "287/287 [==============================] - 0s 2ms/step - loss: 0.2359 - mae: 0.3646 - mse: 0.2359\n",
      "Train Score: \n",
      "287/287 [==============================] - 0s 768us/step\n",
      "r2_score: \n",
      " 0.857372969244566\n",
      "Test Score: \n",
      "144/144 [==============================] - 0s 780us/step\n",
      "r2_score: \n",
      " -0.12359089763843012\n",
      "Epoch 1/5\n",
      "287/287 [==============================] - 0s 1ms/step - loss: 1.9431 - mae: 0.9407 - mse: 1.9431\n",
      "Epoch 2/5\n",
      "287/287 [==============================] - 0s 1ms/step - loss: 0.5490 - mae: 0.5594 - mse: 0.5490\n",
      "Epoch 3/5\n",
      "287/287 [==============================] - 0s 2ms/step - loss: 0.3941 - mae: 0.4701 - mse: 0.3941\n",
      "Epoch 4/5\n",
      "287/287 [==============================] - 0s 2ms/step - loss: 0.3188 - mae: 0.4184 - mse: 0.3188\n",
      "Epoch 5/5\n",
      "287/287 [==============================] - 0s 2ms/step - loss: 0.2712 - mae: 0.3853 - mse: 0.2712\n",
      "Train Score: \n",
      "287/287 [==============================] - 0s 808us/step\n",
      "r2_score: \n",
      " 0.8278168940443085\n",
      "Test Score: \n",
      "144/144 [==============================] - 0s 770us/step\n",
      "r2_score: \n",
      " -0.34035854921703357\n"
     ]
    },
    {
     "data": {
      "text/plain": [
       "(None,\n",
       " 0,\n",
       " 0,\n",
       " [0.8191759538261746, 0.857372969244566, 0.8278168940443085],\n",
       " [-0.2937644614269035, -0.12359089763843012, -0.34035854921703357],\n",
       " 0.8347886057050165,\n",
       " -0.25257130276078904)"
      ]
     },
     "execution_count": 8,
     "metadata": {},
     "output_type": "execute_result"
    }
   ],
   "source": [
    "#cross validation\n",
    "model.cross_validate(dataset, Metric(r2_score), folds=3)"
   ]
  },
  {
   "cell_type": "code",
   "execution_count": 9,
   "id": "controlled-nation",
   "metadata": {},
   "outputs": [
    {
     "name": "stdout",
     "output_type": "stream",
     "text": [
      "kerasModels fit!\n",
      "<tensorflow.python.keras.wrappers.scikit_learn.KerasRegressor object at 0x7f5ba7f21908>\n",
      "Epoch 1/5\n",
      "258/258 [==============================] - 0s 2ms/step - loss: 1.6251 - mae: 0.9090 - mse: 1.6251\n",
      "Epoch 2/5\n",
      "258/258 [==============================] - 0s 2ms/step - loss: 0.5984 - mae: 0.5843 - mse: 0.5984\n",
      "Epoch 3/5\n",
      "258/258 [==============================] - 0s 2ms/step - loss: 0.4122 - mae: 0.4865 - mse: 0.4122\n",
      "Epoch 4/5\n",
      "258/258 [==============================] - 0s 2ms/step - loss: 0.3325 - mae: 0.4310 - mse: 0.3325\n",
      "Epoch 5/5\n",
      "258/258 [==============================] - 0s 1ms/step - loss: 0.2597 - mae: 0.3816 - mse: 0.2597\n"
     ]
    }
   ],
   "source": [
    "# model training\n",
    "model.fit(train_dataset)"
   ]
  },
  {
   "cell_type": "code",
   "execution_count": 10,
   "id": "consistent-morgan",
   "metadata": {},
   "outputs": [
    {
     "name": "stdout",
     "output_type": "stream",
     "text": [
      "#############################\n",
      "Training Dataset: \n",
      "<tensorflow.python.keras.wrappers.scikit_learn.KerasRegressor object at 0x7f5ba7f21908>\n",
      "<class 'tensorflow.python.keras.wrappers.scikit_learn.KerasRegressor'>\n",
      "258/258 [==============================] - 0s 780us/step\n",
      "mean_absolute_error: \n",
      " 0.40621601859543643\n",
      "mean_squared_error: \n",
      " 0.2661763305951256\n",
      "median_absolute_error: \n",
      " 0.3411395931243897\n",
      "r2_score: \n",
      " 0.7482459082130138\n",
      "#############################\n",
      "Validation Dataset: \n",
      "<tensorflow.python.keras.wrappers.scikit_learn.KerasRegressor object at 0x7f5ba7f21908>\n",
      "<class 'tensorflow.python.keras.wrappers.scikit_learn.KerasRegressor'>\n",
      "86/86 [==============================] - 0s 774us/step\n",
      "mean_absolute_error: \n",
      " 0.5694194081273594\n",
      "mean_squared_error: \n",
      " 0.5534601176673768\n",
      "median_absolute_error: \n",
      " 0.459528036117554\n",
      "r2_score: \n",
      " 0.47896642995201577\n",
      "#############################\n",
      "Test Dataset: \n",
      "<tensorflow.python.keras.wrappers.scikit_learn.KerasRegressor object at 0x7f5ba7f21908>\n",
      "<class 'tensorflow.python.keras.wrappers.scikit_learn.KerasRegressor'>\n",
      "86/86 [==============================] - 0s 782us/step\n",
      "mean_absolute_error: \n",
      " 0.576172646432868\n",
      "mean_squared_error: \n",
      " 0.5455793063416362\n",
      "median_absolute_error: \n",
      " 0.48017868041992173\n",
      "r2_score: \n",
      " 0.4853250197669864\n"
     ]
    }
   ],
   "source": [
    "metrics = [Metric(mean_absolute_error), Metric(mean_squared_error), Metric(median_absolute_error), Metric(r2_score)]\n",
    "print(\"#############################\")\n",
    "# evaluate the model\n",
    "print('Training Dataset: ')\n",
    "train_score = model.evaluate(train_dataset, metrics)\n",
    "print(\"#############################\")\n",
    "print('Validation Dataset: ')\n",
    "valid_score = model.evaluate(valid_dataset, metrics)\n",
    "print(\"#############################\")\n",
    "print('Test Dataset: ')\n",
    "test_score = model.evaluate(test_dataset, metrics)\n"
   ]
  },
  {
   "cell_type": "code",
   "execution_count": 11,
   "id": "acceptable-thumbnail",
   "metadata": {},
   "outputs": [],
   "source": [
    "#Build a model function for hyperparameter optimization\n",
    "def rf_model_builder(n_estimators=10, max_features='auto', criterion='mse'):\n",
    "    rf_model = RandomForestRegressor(n_estimators=n_estimators, max_features=max_features,\n",
    "                                     criterion=criterion)\n",
    "    return rf_model\n",
    "\n",
    "params_dict_rf = {\"n_estimators\": [10, 100],\n",
    "                  \"max_features\": [\"auto\", \"sqrt\", \"log2\", None],\n",
    "                  \"criterion\": [\"mse\", \"mae\"]\n",
    "                  }\n",
    "    \n",
    "model = SklearnModel(rf_model_builder, 'regression')"
   ]
  },
  {
   "cell_type": "code",
   "execution_count": 12,
   "id": "persistent-little",
   "metadata": {},
   "outputs": [],
   "source": [
    "#Hyperparameter Optimization\n",
    "#optimizer = HyperparamOpt_Valid(rf_model_builder)\n",
    "\n",
    "#best_rf, best_hyperparams, all_results = optimizer.hyperparam_search(params_dict_rf, \n",
    "#                                                                     train_dataset, \n",
    "#                                                                     valid_dataset, \n",
    "#                                                                     Metric(r2_score),\n",
    "#                                                                     n_iter_search=15)\n",
    "\n",
    "#print('#################')\n",
    "#print(best_hyperparams)\n",
    "#print(best_rf)"
   ]
  },
  {
   "cell_type": "code",
   "execution_count": 13,
   "id": "abandoned-poison",
   "metadata": {},
   "outputs": [],
   "source": [
    "#Evaluate model\n",
    "#best_rf.evaluate(test_dataset, metrics)"
   ]
  },
  {
   "cell_type": "code",
   "execution_count": null,
   "id": "figured-chick",
   "metadata": {},
   "outputs": [
    {
     "name": "stdout",
     "output_type": "stream",
     "text": [
      "MODEL TYPE:  sklearn\n",
      "asdasdas\n",
      "Fitting 10 random models from a space of 16 possible models.\n"
     ]
    }
   ],
   "source": [
    "#Hyperparameter Optimization with CV\n",
    "optimizer = HyperparamOpt_CV(rf_model_builder)\n",
    "\n",
    "best_rf, best_hyperparams, all_results = optimizer.hyperparam_search('sklearn',\n",
    "                                                                     params_dict_rf, \n",
    "                                                                     train_dataset,  \n",
    "                                                                     'r2', \n",
    "                                                                     cv=3,\n",
    "                                                                     n_iter_search=10,\n",
    "                                                                    n_jobs=8)\n",
    "\n",
    "print('#################')\n",
    "print(best_hyperparams)\n",
    "print(best_rf)\n",
    "\n",
    "#Evaluate model\n",
    "best_rf.evaluate(test_dataset, metrics)"
   ]
  }
 ],
 "metadata": {
  "kernelspec": {
   "display_name": "Python 3",
   "language": "python",
   "name": "python3"
  },
  "language_info": {
   "codemirror_mode": {
    "name": "ipython",
    "version": 3
   },
   "file_extension": ".py",
   "mimetype": "text/x-python",
   "name": "python",
   "nbconvert_exporter": "python",
   "pygments_lexer": "ipython3",
   "version": "3.6.2"
  }
 },
 "nbformat": 4,
 "nbformat_minor": 5
}
