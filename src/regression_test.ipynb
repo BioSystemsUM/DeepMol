{
 "cells": [
  {
   "cell_type": "code",
   "execution_count": 1,
   "id": "invalid-point",
   "metadata": {},
   "outputs": [],
   "source": [
    "#pip install tensorflow==2.2.0"
   ]
  },
  {
   "cell_type": "code",
   "execution_count": 2,
   "id": "arabic-grill",
   "metadata": {},
   "outputs": [
    {
     "name": "stdout",
     "output_type": "stream",
     "text": [
      "2.4.1\n"
     ]
    },
    {
     "name": "stderr",
     "output_type": "stream",
     "text": [
      "Using TensorFlow backend.\n"
     ]
    }
   ],
   "source": [
    "from loaders.Loaders import CSVLoader\n",
    "from compoundFeaturization.rdkitFingerprints import MorganFingerprint\n",
    "from splitters.splitters import SingletaskStratifiedSplitter\n",
    "\n",
    "from sklearn.ensemble import RandomForestRegressor\n",
    "from models.sklearnModels import SklearnModel\n",
    "from metrics.Metrics import Metric\n",
    "from metrics.metricsFunctions import r2_score, mean_absolute_error, mean_squared_error, median_absolute_error\n",
    "\n",
    "import tensorflow as tf\n",
    "print(tf.version.VERSION)\n",
    "\n",
    "from parameterOptimization.HyperparameterOpt import HyperparamOpt_Valid, HyperparamOpt_CV\n"
   ]
  },
  {
   "cell_type": "code",
   "execution_count": 3,
   "id": "included-picnic",
   "metadata": {},
   "outputs": [
    {
     "name": "stdout",
     "output_type": "stream",
     "text": [
      "Mols_shape:  4294\n",
      "Features_shape:  X not defined!\n",
      "Labels_shape:  (4294,)\n"
     ]
    }
   ],
   "source": [
    "#Load Dataset\n",
    "dataset = CSVLoader(dataset_path='data/PC-3.csv', \n",
    "                    mols_field='smiles', \n",
    "                    labels_fields='pIC50')\n",
    "dataset = dataset.create_dataset()\n",
    "dataset.get_shape()"
   ]
  },
  {
   "cell_type": "code",
   "execution_count": 4,
   "id": "abroad-situation",
   "metadata": {},
   "outputs": [
    {
     "name": "stdout",
     "output_type": "stream",
     "text": [
      "Featurizing datapoint 0\n",
      "Featurizing datapoint 1000\n",
      "Featurizing datapoint 2000\n",
      "Featurizing datapoint 3000\n",
      "Featurizing datapoint 4000\n",
      "Mols_shape:  4294\n",
      "Features_shape:  (4294, 1024)\n",
      "Labels_shape:  (4294,)\n"
     ]
    }
   ],
   "source": [
    "#Featurization\n",
    "dataset = MorganFingerprint().featurize(dataset)\n",
    "dataset.get_shape()"
   ]
  },
  {
   "cell_type": "code",
   "execution_count": 5,
   "id": "australian-toner",
   "metadata": {},
   "outputs": [
    {
     "name": "stdout",
     "output_type": "stream",
     "text": [
      "Mols_shape:  2574\n",
      "Features_shape:  (2574, 1024)\n",
      "Labels_shape:  (2574,)\n",
      "Mols_shape:  858\n",
      "Features_shape:  (858, 1024)\n",
      "Labels_shape:  (858,)\n",
      "Mols_shape:  858\n",
      "Features_shape:  (858, 1024)\n",
      "Labels_shape:  (858,)\n"
     ]
    }
   ],
   "source": [
    "#Data Split\n",
    "splitter = SingletaskStratifiedSplitter()\n",
    "train_dataset, valid_dataset, test_dataset = splitter.train_valid_test_split(dataset=dataset, frac_train=0.6, \n",
    "                                                                             frac_valid=0.2, frac_test=0.2)\n",
    "\n",
    "train_dataset.get_shape()\n",
    "valid_dataset.get_shape()\n",
    "test_dataset.get_shape()"
   ]
  },
  {
   "cell_type": "code",
   "execution_count": 6,
   "id": "bacterial-story",
   "metadata": {},
   "outputs": [],
   "source": [
    "#Scikit-Learn Random Forest\n",
    "#rf = RandomForestRegressor()\n",
    "#model = SklearnModel(model=rf)"
   ]
  },
  {
   "cell_type": "code",
   "execution_count": 7,
   "id": "improved-roulette",
   "metadata": {},
   "outputs": [
    {
     "name": "stdout",
     "output_type": "stream",
     "text": [
      "1024\n"
     ]
    }
   ],
   "source": [
    "from models.kerasModels import KerasModel\n",
    "from tensorflow.keras.models import Sequential\n",
    "from tensorflow.keras.layers import Dense\n",
    "\n",
    "\n",
    "input_dim = train_dataset.X.shape[1]\n",
    "print(input_dim)\n",
    "\n",
    "def build_model():\n",
    "    model = Sequential()\n",
    "    model.add(Dense(64, activation='relu', input_shape=[1024]))\n",
    "    model.add(Dense(64, activation='relu'))\n",
    "    model.add(Dense(1))\n",
    "    \n",
    "    optimizer = tf.keras.optimizers.RMSprop(0.001)\n",
    "\n",
    "    model.compile(loss='mse', optimizer=optimizer, metrics=['mae', 'mse'])\n",
    "    return model\n",
    "\n",
    "model = KerasModel(build_model, mode='regression', epochs = 5, verbose=1)"
   ]
  },
  {
   "cell_type": "code",
   "execution_count": 8,
   "id": "respected-preparation",
   "metadata": {},
   "outputs": [
    {
     "name": "stdout",
     "output_type": "stream",
     "text": [
      "Computing K-fold split\n",
      "Epoch 1/5\n",
      "287/287 [==============================] - 1s 1ms/step - loss: 3.1527 - mae: 1.2204 - mse: 3.1527\n",
      "Epoch 2/5\n",
      "287/287 [==============================] - 0s 1ms/step - loss: 0.4910 - mae: 0.5329 - mse: 0.4910\n",
      "Epoch 3/5\n",
      "287/287 [==============================] - 0s 2ms/step - loss: 0.3858 - mae: 0.4727 - mse: 0.3858\n",
      "Epoch 4/5\n",
      "287/287 [==============================] - 0s 2ms/step - loss: 0.2988 - mae: 0.4074 - mse: 0.2988\n",
      "Epoch 5/5\n",
      "287/287 [==============================] - 0s 2ms/step - loss: 0.2385 - mae: 0.3715 - mse: 0.2385\n",
      "Train Score: \n",
      "287/287 [==============================] - 0s 496us/step\n",
      "r2_score: \n",
      " 0.6991572217810277\n",
      "Test Score: \n",
      "144/144 [==============================] - 0s 532us/step\n",
      "r2_score: \n",
      " -0.19650720201362493\n",
      "Epoch 1/5\n",
      "287/287 [==============================] - 1s 1ms/step - loss: 4.2643 - mae: 1.4317 - mse: 4.2643\n",
      "Epoch 2/5\n",
      "287/287 [==============================] - 0s 1ms/step - loss: 0.5625 - mae: 0.5692 - mse: 0.5625\n",
      "Epoch 3/5\n",
      "287/287 [==============================] - 1s 2ms/step - loss: 0.3689 - mae: 0.4604 - mse: 0.3689\n",
      "Epoch 4/5\n",
      "287/287 [==============================] - 1s 2ms/step - loss: 0.2996 - mae: 0.4235 - mse: 0.2996\n",
      "Epoch 5/5\n",
      "287/287 [==============================] - 0s 1ms/step - loss: 0.2269 - mae: 0.3598 - mse: 0.2269\n",
      "Train Score: \n",
      "287/287 [==============================] - 0s 497us/step\n",
      "r2_score: \n",
      " 0.7570900561419888\n",
      "Test Score: \n",
      "144/144 [==============================] - 0s 550us/step\n",
      "r2_score: \n",
      " -0.36062229113626465\n",
      "Epoch 1/5\n",
      "287/287 [==============================] - 1s 1ms/step - loss: 4.0969 - mae: 1.3765 - mse: 4.0969\n",
      "Epoch 2/5\n",
      "287/287 [==============================] - 0s 1ms/step - loss: 0.5702 - mae: 0.5637 - mse: 0.5702\n",
      "Epoch 3/5\n",
      "287/287 [==============================] - 0s 2ms/step - loss: 0.3901 - mae: 0.4724 - mse: 0.3901\n",
      "Epoch 4/5\n",
      "287/287 [==============================] - 0s 2ms/step - loss: 0.3292 - mae: 0.4265 - mse: 0.3292\n",
      "Epoch 5/5\n",
      "287/287 [==============================] - 0s 1ms/step - loss: 0.2680 - mae: 0.3857 - mse: 0.2680\n",
      "Train Score: \n",
      "287/287 [==============================] - 0s 494us/step\n",
      "r2_score: \n",
      " 0.5285901450193853\n",
      "Test Score: \n",
      "144/144 [==============================] - 0s 556us/step\n",
      "r2_score: \n",
      " -0.9485151157854774\n"
     ]
    },
    {
     "data": {
      "text/plain": [
       "(None,\n",
       " 0,\n",
       " 0,\n",
       " [0.6991572217810277, 0.7570900561419888, 0.5285901450193853],\n",
       " [-0.19650720201362493, -0.36062229113626465, -0.9485151157854774],\n",
       " 0.661612474314134,\n",
       " -0.501881536311789)"
      ]
     },
     "execution_count": 8,
     "metadata": {},
     "output_type": "execute_result"
    }
   ],
   "source": [
    "#cross validation\n",
    "model.cross_validate(dataset, Metric(r2_score), folds=3)"
   ]
  },
  {
   "cell_type": "code",
   "execution_count": 9,
   "id": "controlled-nation",
   "metadata": {},
   "outputs": [
    {
     "name": "stdout",
     "output_type": "stream",
     "text": [
      "Epoch 1/5\n",
      "258/258 [==============================] - 1s 1ms/step - loss: 4.5344 - mae: 1.4541 - mse: 4.5344\n",
      "Epoch 2/5\n",
      "258/258 [==============================] - 0s 1ms/step - loss: 0.6224 - mae: 0.5953 - mse: 0.6224\n",
      "Epoch 3/5\n",
      "258/258 [==============================] - 0s 1ms/step - loss: 0.4157 - mae: 0.4943 - mse: 0.4157\n",
      "Epoch 4/5\n",
      "258/258 [==============================] - 0s 1ms/step - loss: 0.3209 - mae: 0.4300 - mse: 0.3209\n",
      "Epoch 5/5\n",
      "258/258 [==============================] - 0s 1ms/step - loss: 0.2469 - mae: 0.3721 - mse: 0.2469\n"
     ]
    }
   ],
   "source": [
    "# model training\n",
    "model.fit(train_dataset)"
   ]
  },
  {
   "cell_type": "code",
   "execution_count": 10,
   "id": "consistent-morgan",
   "metadata": {},
   "outputs": [
    {
     "name": "stdout",
     "output_type": "stream",
     "text": [
      "#############################\n",
      "Training Dataset: \n",
      "<tensorflow.python.keras.wrappers.scikit_learn.KerasRegressor object at 0x7f852f0a8f60>\n",
      "<class 'tensorflow.python.keras.wrappers.scikit_learn.KerasRegressor'>\n",
      "258/258 [==============================] - 0s 555us/step\n",
      "mean_absolute_error: \n",
      " 0.3705001472916861\n",
      "mean_squared_error: \n",
      " 0.23957549714516277\n",
      "median_absolute_error: \n",
      " 0.29531271934509284\n",
      "r2_score: \n",
      " 0.7735511282249079\n",
      "#############################\n",
      "Validation Dataset: \n",
      "<tensorflow.python.keras.wrappers.scikit_learn.KerasRegressor object at 0x7f852f0a8f60>\n",
      "<class 'tensorflow.python.keras.wrappers.scikit_learn.KerasRegressor'>\n",
      "86/86 [==============================] - 0s 582us/step\n",
      "mean_absolute_error: \n",
      " 0.5801882118204311\n",
      "mean_squared_error: \n",
      " 0.6024357394891615\n",
      "median_absolute_error: \n",
      " 0.4437227535247805\n",
      "r2_score: \n",
      " 0.43360654537889887\n",
      "#############################\n",
      "Test Dataset: \n",
      "<tensorflow.python.keras.wrappers.scikit_learn.KerasRegressor object at 0x7f852f0a8f60>\n",
      "<class 'tensorflow.python.keras.wrappers.scikit_learn.KerasRegressor'>\n",
      "86/86 [==============================] - 0s 561us/step\n",
      "mean_absolute_error: \n",
      " 0.5773673188761778\n",
      "mean_squared_error: \n",
      " 0.6169839641476066\n",
      "median_absolute_error: \n",
      " 0.4246146011352536\n",
      "r2_score: \n",
      " 0.4160697000397904\n"
     ]
    }
   ],
   "source": [
    "metrics = [Metric(mean_absolute_error), Metric(mean_squared_error), Metric(median_absolute_error), Metric(r2_score)]\n",
    "print(\"#############################\")\n",
    "# evaluate the model\n",
    "print('Training Dataset: ')\n",
    "train_score = model.evaluate(train_dataset, metrics)\n",
    "print(\"#############################\")\n",
    "print('Validation Dataset: ')\n",
    "valid_score = model.evaluate(valid_dataset, metrics)\n",
    "print(\"#############################\")\n",
    "print('Test Dataset: ')\n",
    "test_score = model.evaluate(test_dataset, metrics)\n"
   ]
  },
  {
   "cell_type": "code",
   "execution_count": 11,
   "id": "acceptable-thumbnail",
   "metadata": {},
   "outputs": [],
   "source": [
    "#Build a model function for hyperparameter optimization\n",
    "def rf_model_builder(n_estimators=10, max_features='auto', criterion='mse'):\n",
    "    rf_model = RandomForestRegressor(n_estimators=n_estimators, max_features=max_features,\n",
    "                                     criterion=criterion)\n",
    "    return rf_model\n",
    "\n",
    "params_dict_rf = {\"n_estimators\": [10, 100],\n",
    "                  \"max_features\": [\"auto\", \"sqrt\", \"log2\", None],\n",
    "                  \"criterion\": [\"mse\", \"mae\"]\n",
    "                  }\n",
    "    \n",
    "model = SklearnModel(rf_model_builder, 'regression')"
   ]
  },
  {
   "cell_type": "code",
   "execution_count": 12,
   "id": "persistent-little",
   "metadata": {},
   "outputs": [],
   "source": [
    "#Hyperparameter Optimization\n",
    "#optimizer = HyperparamOpt_Valid(rf_model_builder)\n",
    "\n",
    "#best_rf, best_hyperparams, all_results = optimizer.hyperparam_search(params_dict_rf, \n",
    "#                                                                     train_dataset, \n",
    "#                                                                     valid_dataset, \n",
    "#                                                                     Metric(r2_score),\n",
    "#                                                                     n_iter_search=15)\n",
    "\n",
    "#print('#################')\n",
    "#print(best_hyperparams)\n",
    "#print(best_rf)"
   ]
  },
  {
   "cell_type": "code",
   "execution_count": 13,
   "id": "abandoned-poison",
   "metadata": {},
   "outputs": [],
   "source": [
    "#Evaluate model\n",
    "#best_rf.evaluate(test_dataset, metrics)"
   ]
  },
  {
   "cell_type": "code",
   "execution_count": 14,
   "id": "understood-experience",
   "metadata": {},
   "outputs": [
    {
     "name": "stdout",
     "output_type": "stream",
     "text": [
      "MODEL TYPE:  sklearn\n",
      "Fitting 10 random models from a space of 16 possible models.\n",
      "RandomForestRegressor(max_features='sqrt')\n",
      "\n",
      " \n",
      " Best r2: -10.912881 using {'n_estimators': 100, 'max_features': 'sqrt', 'criterion': 'mse'}\n",
      "\n",
      " r2: -10.912881 (9.040730) with: {'n_estimators': 100, 'max_features': 'sqrt', 'criterion': 'mse'} \n",
      "\n",
      "\n",
      " r2: -12.762050 (9.291542) with: {'n_estimators': 10, 'max_features': None, 'criterion': 'mae'} \n",
      "\n",
      "\n",
      " r2: -12.448017 (9.870005) with: {'n_estimators': 100, 'max_features': 'auto', 'criterion': 'mae'} \n",
      "\n",
      "\n",
      " r2: -12.071812 (9.915886) with: {'n_estimators': 10, 'max_features': 'log2', 'criterion': 'mae'} \n",
      "\n",
      "\n",
      " r2: -11.526627 (8.939953) with: {'n_estimators': 100, 'max_features': 'auto', 'criterion': 'mse'} \n",
      "\n",
      "\n",
      " r2: -11.209829 (9.477486) with: {'n_estimators': 100, 'max_features': 'sqrt', 'criterion': 'mae'} \n",
      "\n",
      "\n",
      " r2: -11.342046 (8.413157) with: {'n_estimators': 10, 'max_features': 'log2', 'criterion': 'mse'} \n",
      "\n",
      "\n",
      " r2: -12.925393 (9.393455) with: {'n_estimators': 10, 'max_features': None, 'criterion': 'mse'} \n",
      "\n",
      "\n",
      " r2: -11.285771 (9.827252) with: {'n_estimators': 100, 'max_features': 'log2', 'criterion': 'mse'} \n",
      "\n",
      "\n",
      " r2: -12.258166 (9.788641) with: {'n_estimators': 100, 'max_features': None, 'criterion': 'mae'} \n",
      "\n",
      "RandomForestRegressor(max_features='sqrt')\n",
      "#################\n",
      "{'n_estimators': 100, 'max_features': 'sqrt', 'criterion': 'mse'}\n",
      "SklearnModel(mode='regression',\n",
      "             model=RandomForestRegressor(max_features='sqrt'))\n",
      "mean_absolute_error: \n",
      " 0.45336192873851944\n",
      "mean_squared_error: \n",
      " 0.3995771320347623\n",
      "median_absolute_error: \n",
      " 0.33906666666674834\n",
      "r2_score: \n",
      " 0.6218294021812234\n"
     ]
    },
    {
     "data": {
      "text/plain": [
       "{'mean_absolute_error': 0.45336192873851944,\n",
       " 'mean_squared_error': 0.3995771320347623,\n",
       " 'median_absolute_error': 0.33906666666674834,\n",
       " 'r2_score': 0.6218294021812234}"
      ]
     },
     "execution_count": 14,
     "metadata": {},
     "output_type": "execute_result"
    }
   ],
   "source": [
    "#Hyperparameter Optimization with CV\n",
    "optimizer = HyperparamOpt_CV(rf_model_builder)\n",
    "\n",
    "best_rf, best_hyperparams, all_results = optimizer.hyperparam_search('sklearn',\n",
    "                                                                     params_dict_rf, \n",
    "                                                                     train_dataset,  \n",
    "                                                                     'r2', \n",
    "                                                                     cv=3,\n",
    "                                                                     n_iter_search=10,\n",
    "                                                                    n_jobs=8)\n",
    "\n",
    "print('#################')\n",
    "print(best_hyperparams)\n",
    "print(best_rf)\n",
    "\n",
    "#Evaluate model\n",
    "best_rf.evaluate(test_dataset, metrics)"
   ]
  }
 ],
 "metadata": {
  "kernelspec": {
   "display_name": "Python 3",
   "language": "python",
   "name": "python3"
  },
  "language_info": {
   "codemirror_mode": {
    "name": "ipython",
    "version": 3
   },
   "file_extension": ".py",
   "mimetype": "text/x-python",
   "name": "python",
   "nbconvert_exporter": "python",
   "pygments_lexer": "ipython3",
   "version": "3.6.13"
  }
 },
 "nbformat": 4,
 "nbformat_minor": 5
}
