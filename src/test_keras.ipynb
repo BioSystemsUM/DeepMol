{
 "cells": [
  {
   "cell_type": "code",
   "execution_count": 1,
   "metadata": {},
   "outputs": [],
   "source": [
    "import tensorflow as tf\n",
    "config = tf.compat.v1.ConfigProto()\n",
    "config.gpu_options.allow_growth = True\n",
    "sess = tf.compat.v1.Session(config=config)"
   ]
  },
  {
   "cell_type": "code",
   "execution_count": 2,
   "metadata": {},
   "outputs": [],
   "source": [
    "#pip install tensorflow==2.2.0"
   ]
  },
  {
   "cell_type": "code",
   "execution_count": 3,
   "metadata": {},
   "outputs": [
    {
     "name": "stdout",
     "output_type": "stream",
     "text": [
      "2.2.0\n"
     ]
    }
   ],
   "source": [
    "from loaders.Loaders import CSVLoader\n",
    "from compoundFeaturization.rdkitFingerprints import MorganFingerprint\n",
    "from featureSelection.baseFeatureSelector import LowVarianceFS\n",
    "from splitters.splitters import SingletaskStratifiedSplitter\n",
    "from models.kerasModels import KerasModel\n",
    "from metrics.Metrics import Metric\n",
    "from metrics.metricsFunctions import roc_auc_score, precision_score, accuracy_score, confusion_matrix, classification_report\n",
    "\n",
    "\n",
    "import tensorflow as tf\n",
    "print(tf.version.VERSION)\n",
    "from tensorflow.keras.losses import binary_crossentropy"
   ]
  },
  {
   "cell_type": "code",
   "execution_count": 4,
   "metadata": {},
   "outputs": [
    {
     "name": "stdout",
     "output_type": "stream",
     "text": [
      "Mols_shape:  23290\n",
      "Features_shape:  X not defined!\n",
      "Labels_shape:  (23290,)\n",
      "None\n"
     ]
    }
   ],
   "source": [
    "#Load Dataset\n",
    "dataset = CSVLoader(dataset_path='preprocessed_dataset_wfoodb.csv', \n",
    "                    mols_field='Smiles', \n",
    "                    labels_fields='Class', \n",
    "                    id_field='ID')#, shard_size=4000)\n",
    "dataset = dataset.create_dataset()\n",
    "print(dataset.get_shape())"
   ]
  },
  {
   "cell_type": "code",
   "execution_count": 5,
   "metadata": {},
   "outputs": [
    {
     "name": "stdout",
     "output_type": "stream",
     "text": [
      "Featurizing datapoint 0\n",
      "Featurizing datapoint 1000\n",
      "Featurizing datapoint 2000\n",
      "Featurizing datapoint 3000\n",
      "Featurizing datapoint 4000\n",
      "Featurizing datapoint 5000\n",
      "Featurizing datapoint 6000\n"
     ]
    },
    {
     "name": "stderr",
     "output_type": "stream",
     "text": [
      "RDKit ERROR: [09:22:46] Explicit valence for atom # 1 Cl, 4, is greater than permitted\n"
     ]
    },
    {
     "name": "stdout",
     "output_type": "stream",
     "text": [
      "error in smile: O=[Cl]=O\n",
      "Featurizing datapoint 7000\n"
     ]
    },
    {
     "name": "stderr",
     "output_type": "stream",
     "text": [
      "RDKit ERROR: [09:22:49] Explicit valence for atom # 3 B, 4, is greater than permitted\n",
      "RDKit ERROR: [09:22:49] Explicit valence for atom # 1 Cl, 9, is greater than permitted\n"
     ]
    },
    {
     "name": "stdout",
     "output_type": "stream",
     "text": [
      "error in smile: OB1O[B]2(O)OB(O)O[B](O)(O1)O2\n",
      "error in smile: O=[Cl-](=O)(=O)=O\n",
      "Featurizing datapoint 8000\n",
      "Featurizing datapoint 9000\n",
      "Featurizing datapoint 10000\n",
      "Featurizing datapoint 11000\n",
      "Featurizing datapoint 12000\n",
      "Featurizing datapoint 13000\n",
      "Featurizing datapoint 14000\n"
     ]
    },
    {
     "name": "stderr",
     "output_type": "stream",
     "text": [
      "RDKit ERROR: [09:23:05] Explicit valence for atom # 0 P, 11, is greater than permitted\n"
     ]
    },
    {
     "name": "stdout",
     "output_type": "stream",
     "text": [
      "error in smile: [P](OCC=C(C)C)(OCC=C(C)C)(=O)(OP(OCC=C(C)C)(OCC=C(C)C)=O)(CC=C(C)C)(CC=C(C)C)(CC=C(C)C)(CC=C(C)C)(CC=C(C)C)CC=C(C)C\n",
      "Featurizing datapoint 15000\n",
      "Featurizing datapoint 16000\n",
      "Featurizing datapoint 17000\n",
      "Featurizing datapoint 18000\n",
      "Featurizing datapoint 19000\n",
      "Featurizing datapoint 20000\n",
      "Featurizing datapoint 21000\n",
      "Featurizing datapoint 22000\n",
      "Featurizing datapoint 23000\n",
      "Elements with indexes:  [6257, 7708, 7709, 14244]  were removed due to the presence of NAs!\n",
      "The elements in question are:  ['O=[Cl]=O' 'OB1O[B]2(O)OB(O)O[B](O)(O1)O2' 'O=[Cl-](=O)(=O)=O'\n",
      " '[P](OCC=C(C)C)(OCC=C(C)C)(=O)(OP(OCC=C(C)C)(OCC=C(C)C)=O)(CC=C(C)C)(CC=C(C)C)(CC=C(C)C)(CC=C(C)C)(CC=C(C)C)CC=C(C)C']\n",
      "Mols_shape:  23286\n",
      "Features_shape:  (23286, 1024)\n",
      "Labels_shape:  (23286,)\n"
     ]
    }
   ],
   "source": [
    "#Featurization\n",
    "dataset = MorganFingerprint().featurize(dataset)\n",
    "dataset.get_shape()"
   ]
  },
  {
   "cell_type": "code",
   "execution_count": 6,
   "metadata": {},
   "outputs": [
    {
     "name": "stdout",
     "output_type": "stream",
     "text": [
      "Mols_shape:  23286\n",
      "Features_shape:  (23286, 49)\n",
      "Labels_shape:  (23286,)\n"
     ]
    }
   ],
   "source": [
    "#Feature Selection\n",
    "dataset = LowVarianceFS(0.15).featureSelection(dataset)\n",
    "dataset.get_shape()"
   ]
  },
  {
   "cell_type": "code",
   "execution_count": 7,
   "metadata": {},
   "outputs": [],
   "source": [
    "#Data Split\n",
    "splitter = SingletaskStratifiedSplitter()\n",
    "train_dataset, valid_dataset, test_dataset = splitter.train_valid_test_split(dataset=dataset, frac_train=0.6, \n",
    "                                                                             frac_valid=0.2, frac_test=0.2)"
   ]
  },
  {
   "cell_type": "code",
   "execution_count": 8,
   "metadata": {
    "scrolled": true
   },
   "outputs": [],
   "source": [
    "from tensorflow.keras.wrappers.scikit_learn import KerasClassifier\n",
    "from tensorflow.keras.models import Sequential\n",
    "from tensorflow.keras.layers import Dense, Dropout\n",
    "from sklearn.model_selection import StratifiedKFold\n",
    "from sklearn.model_selection import cross_val_score\n",
    "import numpy as np\n",
    "\n",
    "\n",
    "input_dim = train_dataset.X.shape[1]\n",
    "\n",
    "\n",
    "def create_model(optimizer='adam', dropout=0.5, input_dim=input_dim):\n",
    "    # create model\n",
    "    model = Sequential()\n",
    "    model.add(Dense(12, input_dim=input_dim, activation='relu'))\n",
    "    model.add(Dropout(dropout))\n",
    "    model.add(Dense(8, activation='relu'))\n",
    "    model.add(Dense(1, activation='sigmoid'))\n",
    "    # Compile model\n",
    "    model.compile(loss='binary_crossentropy', optimizer=optimizer, metrics=['accuracy'])\n",
    "    return model\n"
   ]
  },
  {
   "cell_type": "code",
   "execution_count": 9,
   "metadata": {},
   "outputs": [],
   "source": [
    "#print(type(keras_model))\n",
    "#from sklearn.model_selection import GridSearchCV \n",
    "#model = KerasClassifier(build_fn=create_model, epochs=15, batch_size=10, verbose=1, optimizer='adam')\n",
    "\n",
    "#model.fit(train_dataset.features, train_dataset.y)\n",
    "#params={'optimizer':['adam', 'rsmprop'],  \n",
    "#        'nb_epoch':[200, 100, 300, 400]}\n",
    "\n",
    "#gs=GridSearchCV(estimator=model, param_grid=params, cv=3) \n",
    "# now fit the dataset to the GridSearchCV object.  \n",
    "#gs = gs.fit(train_dataset.features, train_dataset.y)\n",
    "\n",
    "#print(gs)\n",
    "#print(type(model))\n",
    "\n",
    "#seed = 7\n",
    "#np.random.seed(seed)\n",
    "#print(1)\n",
    "#kfold = StratifiedKFold(n_splits=2, shuffle=True, random_state=seed)\n",
    "#print(2)\n",
    "#results = cross_val_score(model, train_dataset.features, train_dataset.y, cv=kfold)\n",
    "#print(3)\n",
    "#print(results)\n",
    "\n",
    "#model = KerasModel(keras_model, binary_crossentropy)"
   ]
  },
  {
   "cell_type": "code",
   "execution_count": 10,
   "metadata": {},
   "outputs": [
    {
     "name": "stdout",
     "output_type": "stream",
     "text": [
      "49\n"
     ]
    }
   ],
   "source": [
    "from models.kerasModels import KerasModel\n",
    "\n",
    "input_dim = train_dataset.X.shape[1]\n",
    "print(input_dim)\n",
    "model = KerasModel(create_model, epochs = 150, verbose=1, optimizer='adam')#, input_dim=input_dim)\n",
    "\n"
   ]
  },
  {
   "cell_type": "code",
   "execution_count": 11,
   "metadata": {
    "scrolled": true
   },
   "outputs": [
    {
     "name": "stdout",
     "output_type": "stream",
     "text": [
      "(13968, 49) (13968,)\n",
      "kerasModels fit!\n",
      "<tensorflow.python.keras.wrappers.scikit_learn.KerasClassifier object at 0x7f9c8b0de5c0>\n",
      "Epoch 1/150\n",
      "1397/1397 [==============================] - 2s 1ms/step - loss: 0.2273 - accuracy: 0.9406\n",
      "Epoch 2/150\n",
      "1397/1397 [==============================] - 2s 1ms/step - loss: 0.1859 - accuracy: 0.9434\n",
      "Epoch 3/150\n",
      "1397/1397 [==============================] - 2s 1ms/step - loss: 0.1762 - accuracy: 0.9436\n",
      "Epoch 4/150\n",
      "1397/1397 [==============================] - 2s 1ms/step - loss: 0.1746 - accuracy: 0.9439\n",
      "Epoch 5/150\n",
      "1397/1397 [==============================] - 2s 1ms/step - loss: 0.1725 - accuracy: 0.9439\n",
      "Epoch 6/150\n",
      "1397/1397 [==============================] - 2s 1ms/step - loss: 0.1697 - accuracy: 0.9447\n",
      "Epoch 7/150\n",
      "1397/1397 [==============================] - 2s 1ms/step - loss: 0.1698 - accuracy: 0.9440\n",
      "Epoch 8/150\n",
      "1397/1397 [==============================] - 2s 1ms/step - loss: 0.1677 - accuracy: 0.9453\n",
      "Epoch 9/150\n",
      "1397/1397 [==============================] - 2s 1ms/step - loss: 0.1681 - accuracy: 0.9450\n",
      "Epoch 10/150\n",
      "1397/1397 [==============================] - 2s 1ms/step - loss: 0.1671 - accuracy: 0.9443\n",
      "Epoch 11/150\n",
      "1397/1397 [==============================] - 2s 1ms/step - loss: 0.1656 - accuracy: 0.9453\n",
      "Epoch 12/150\n",
      "1397/1397 [==============================] - 2s 1ms/step - loss: 0.1650 - accuracy: 0.9447\n",
      "Epoch 13/150\n",
      "1397/1397 [==============================] - 2s 1ms/step - loss: 0.1659 - accuracy: 0.9444\n",
      "Epoch 14/150\n",
      "1397/1397 [==============================] - 2s 1ms/step - loss: 0.1638 - accuracy: 0.9448\n",
      "Epoch 15/150\n",
      "1397/1397 [==============================] - 2s 1ms/step - loss: 0.1653 - accuracy: 0.9447\n",
      "Epoch 16/150\n",
      "1397/1397 [==============================] - 2s 1ms/step - loss: 0.1650 - accuracy: 0.9449\n",
      "Epoch 17/150\n",
      "1397/1397 [==============================] - 2s 1ms/step - loss: 0.1621 - accuracy: 0.9456\n",
      "Epoch 18/150\n",
      "1397/1397 [==============================] - 2s 1ms/step - loss: 0.1631 - accuracy: 0.9454\n",
      "Epoch 19/150\n",
      "1397/1397 [==============================] - 2s 1ms/step - loss: 0.1634 - accuracy: 0.9448\n",
      "Epoch 20/150\n",
      "1397/1397 [==============================] - 2s 1ms/step - loss: 0.1605 - accuracy: 0.9464\n",
      "Epoch 21/150\n",
      "1397/1397 [==============================] - 2s 1ms/step - loss: 0.1601 - accuracy: 0.9458\n",
      "Epoch 22/150\n",
      "1397/1397 [==============================] - 2s 1ms/step - loss: 0.1618 - accuracy: 0.9447\n",
      "Epoch 23/150\n",
      "1397/1397 [==============================] - 2s 1ms/step - loss: 0.1606 - accuracy: 0.9455\n",
      "Epoch 24/150\n",
      "1397/1397 [==============================] - 2s 1ms/step - loss: 0.1618 - accuracy: 0.9458\n",
      "Epoch 25/150\n",
      "1397/1397 [==============================] - 2s 1ms/step - loss: 0.1608 - accuracy: 0.9456\n",
      "Epoch 26/150\n",
      "1397/1397 [==============================] - 2s 1ms/step - loss: 0.1623 - accuracy: 0.9453\n",
      "Epoch 27/150\n",
      "1397/1397 [==============================] - 2s 1ms/step - loss: 0.1599 - accuracy: 0.9462\n",
      "Epoch 28/150\n",
      "1397/1397 [==============================] - 2s 1ms/step - loss: 0.1597 - accuracy: 0.9462\n",
      "Epoch 29/150\n",
      "1397/1397 [==============================] - 2s 1ms/step - loss: 0.1596 - accuracy: 0.9458\n",
      "Epoch 30/150\n",
      "1397/1397 [==============================] - 2s 1ms/step - loss: 0.1582 - accuracy: 0.9477\n",
      "Epoch 31/150\n",
      "1397/1397 [==============================] - 2s 1ms/step - loss: 0.1602 - accuracy: 0.9457\n",
      "Epoch 32/150\n",
      "1397/1397 [==============================] - 2s 1ms/step - loss: 0.1600 - accuracy: 0.9458\n",
      "Epoch 33/150\n",
      "1397/1397 [==============================] - 2s 1ms/step - loss: 0.1574 - accuracy: 0.9459\n",
      "Epoch 34/150\n",
      "1397/1397 [==============================] - 2s 1ms/step - loss: 0.1592 - accuracy: 0.9462\n",
      "Epoch 35/150\n",
      "1397/1397 [==============================] - 2s 1ms/step - loss: 0.1573 - accuracy: 0.9467\n",
      "Epoch 36/150\n",
      "1397/1397 [==============================] - 2s 1ms/step - loss: 0.1588 - accuracy: 0.9452\n",
      "Epoch 37/150\n",
      "1397/1397 [==============================] - 2s 1ms/step - loss: 0.1575 - accuracy: 0.9452\n",
      "Epoch 38/150\n",
      "1397/1397 [==============================] - 2s 1ms/step - loss: 0.1560 - accuracy: 0.9472\n",
      "Epoch 39/150\n",
      "1397/1397 [==============================] - 2s 1ms/step - loss: 0.1585 - accuracy: 0.9465\n",
      "Epoch 40/150\n",
      "1397/1397 [==============================] - 2s 1ms/step - loss: 0.1584 - accuracy: 0.9458\n",
      "Epoch 41/150\n",
      "1397/1397 [==============================] - 2s 1ms/step - loss: 0.1566 - accuracy: 0.9457\n",
      "Epoch 42/150\n",
      "1397/1397 [==============================] - 2s 1ms/step - loss: 0.1567 - accuracy: 0.9462\n",
      "Epoch 43/150\n",
      "1397/1397 [==============================] - 2s 1ms/step - loss: 0.1566 - accuracy: 0.9458\n",
      "Epoch 44/150\n",
      "1397/1397 [==============================] - 2s 1ms/step - loss: 0.1569 - accuracy: 0.9465\n",
      "Epoch 45/150\n",
      "1397/1397 [==============================] - 2s 1ms/step - loss: 0.1564 - accuracy: 0.9453\n",
      "Epoch 46/150\n",
      "1397/1397 [==============================] - 2s 1ms/step - loss: 0.1576 - accuracy: 0.9455\n",
      "Epoch 47/150\n",
      "1397/1397 [==============================] - 2s 1ms/step - loss: 0.1584 - accuracy: 0.9447\n",
      "Epoch 48/150\n",
      "1397/1397 [==============================] - 2s 1ms/step - loss: 0.1556 - accuracy: 0.9473\n",
      "Epoch 49/150\n",
      "1397/1397 [==============================] - 2s 1ms/step - loss: 0.1564 - accuracy: 0.9463\n",
      "Epoch 50/150\n",
      "1397/1397 [==============================] - 2s 1ms/step - loss: 0.1542 - accuracy: 0.9461\n",
      "Epoch 51/150\n",
      "1397/1397 [==============================] - 2s 1ms/step - loss: 0.1549 - accuracy: 0.9466\n",
      "Epoch 52/150\n",
      "1397/1397 [==============================] - 2s 1ms/step - loss: 0.1556 - accuracy: 0.9464\n",
      "Epoch 53/150\n",
      "1397/1397 [==============================] - 2s 1ms/step - loss: 0.1538 - accuracy: 0.9464\n",
      "Epoch 54/150\n",
      "1397/1397 [==============================] - 2s 1ms/step - loss: 0.1545 - accuracy: 0.9468\n",
      "Epoch 55/150\n",
      "1397/1397 [==============================] - 2s 1ms/step - loss: 0.1527 - accuracy: 0.9475\n",
      "Epoch 56/150\n",
      "1397/1397 [==============================] - 2s 1ms/step - loss: 0.1543 - accuracy: 0.9462\n",
      "Epoch 57/150\n",
      "1397/1397 [==============================] - 2s 1ms/step - loss: 0.1566 - accuracy: 0.9452\n",
      "Epoch 58/150\n",
      "1397/1397 [==============================] - 2s 1ms/step - loss: 0.1540 - accuracy: 0.9465\n",
      "Epoch 59/150\n",
      "1397/1397 [==============================] - 2s 1ms/step - loss: 0.1530 - accuracy: 0.9478\n",
      "Epoch 60/150\n",
      "1397/1397 [==============================] - 2s 1ms/step - loss: 0.1573 - accuracy: 0.9453\n",
      "Epoch 61/150\n",
      "1397/1397 [==============================] - 2s 1ms/step - loss: 0.1543 - accuracy: 0.9473\n",
      "Epoch 62/150\n",
      "1397/1397 [==============================] - 2s 1ms/step - loss: 0.1547 - accuracy: 0.9467\n",
      "Epoch 63/150\n",
      "1397/1397 [==============================] - 2s 1ms/step - loss: 0.1549 - accuracy: 0.9459\n",
      "Epoch 64/150\n",
      "1397/1397 [==============================] - 2s 1ms/step - loss: 0.1524 - accuracy: 0.9472\n",
      "Epoch 65/150\n",
      "1397/1397 [==============================] - 2s 1ms/step - loss: 0.1551 - accuracy: 0.9461\n",
      "Epoch 66/150\n",
      "1397/1397 [==============================] - 2s 1ms/step - loss: 0.1544 - accuracy: 0.9462\n",
      "Epoch 67/150\n",
      "1397/1397 [==============================] - 2s 1ms/step - loss: 0.1562 - accuracy: 0.9442\n",
      "Epoch 68/150\n",
      "1397/1397 [==============================] - 2s 1ms/step - loss: 0.1545 - accuracy: 0.9466\n",
      "Epoch 69/150\n",
      "1397/1397 [==============================] - 2s 1ms/step - loss: 0.1539 - accuracy: 0.9460\n",
      "Epoch 70/150\n",
      "1397/1397 [==============================] - 2s 1ms/step - loss: 0.1546 - accuracy: 0.9463\n",
      "Epoch 71/150\n",
      "1397/1397 [==============================] - 2s 1ms/step - loss: 0.1544 - accuracy: 0.9453\n",
      "Epoch 72/150\n",
      "1397/1397 [==============================] - 2s 1ms/step - loss: 0.1532 - accuracy: 0.9462\n",
      "Epoch 73/150\n",
      "1397/1397 [==============================] - 2s 1ms/step - loss: 0.1542 - accuracy: 0.9449: 0s\n",
      "Epoch 74/150\n",
      "1397/1397 [==============================] - 2s 1ms/step - loss: 0.1540 - accuracy: 0.9449\n",
      "Epoch 75/150\n",
      "1397/1397 [==============================] - 2s 1ms/step - loss: 0.1546 - accuracy: 0.9456\n",
      "Epoch 76/150\n",
      "1397/1397 [==============================] - 2s 1ms/step - loss: 0.1528 - accuracy: 0.9462\n",
      "Epoch 77/150\n",
      "1397/1397 [==============================] - 2s 1ms/step - loss: 0.1563 - accuracy: 0.9467\n",
      "Epoch 78/150\n"
     ]
    },
    {
     "name": "stdout",
     "output_type": "stream",
     "text": [
      "1397/1397 [==============================] - 2s 1ms/step - loss: 0.1517 - accuracy: 0.9471\n",
      "Epoch 79/150\n",
      "1397/1397 [==============================] - 2s 1ms/step - loss: 0.1545 - accuracy: 0.9454\n",
      "Epoch 80/150\n",
      "1397/1397 [==============================] - 2s 1ms/step - loss: 0.1524 - accuracy: 0.9477\n",
      "Epoch 81/150\n",
      "1397/1397 [==============================] - 2s 1ms/step - loss: 0.1518 - accuracy: 0.9470\n",
      "Epoch 82/150\n",
      "1397/1397 [==============================] - 2s 1ms/step - loss: 0.1547 - accuracy: 0.9463\n",
      "Epoch 83/150\n",
      "1397/1397 [==============================] - 2s 1ms/step - loss: 0.1541 - accuracy: 0.9458\n",
      "Epoch 84/150\n",
      "1397/1397 [==============================] - 2s 1ms/step - loss: 0.1528 - accuracy: 0.9472\n",
      "Epoch 85/150\n",
      "1397/1397 [==============================] - 2s 1ms/step - loss: 0.1518 - accuracy: 0.9461\n",
      "Epoch 86/150\n",
      "1397/1397 [==============================] - 2s 1ms/step - loss: 0.1520 - accuracy: 0.9471\n",
      "Epoch 87/150\n",
      "1397/1397 [==============================] - 2s 1ms/step - loss: 0.1538 - accuracy: 0.9465\n",
      "Epoch 88/150\n",
      "1397/1397 [==============================] - 2s 1ms/step - loss: 0.1516 - accuracy: 0.9470\n",
      "Epoch 89/150\n",
      "1397/1397 [==============================] - 2s 1ms/step - loss: 0.1523 - accuracy: 0.9467\n",
      "Epoch 90/150\n",
      "1397/1397 [==============================] - 2s 1ms/step - loss: 0.1527 - accuracy: 0.9472\n",
      "Epoch 91/150\n",
      "1397/1397 [==============================] - 2s 1ms/step - loss: 0.1545 - accuracy: 0.9463\n",
      "Epoch 92/150\n",
      "1397/1397 [==============================] - 2s 1ms/step - loss: 0.1528 - accuracy: 0.9472\n",
      "Epoch 93/150\n",
      "1397/1397 [==============================] - 2s 1ms/step - loss: 0.1526 - accuracy: 0.9476\n",
      "Epoch 94/150\n",
      "1397/1397 [==============================] - 2s 1ms/step - loss: 0.1516 - accuracy: 0.9471\n",
      "Epoch 95/150\n",
      "1397/1397 [==============================] - 2s 1ms/step - loss: 0.1534 - accuracy: 0.9460\n",
      "Epoch 96/150\n",
      "1397/1397 [==============================] - 2s 1ms/step - loss: 0.1533 - accuracy: 0.9467\n",
      "Epoch 97/150\n",
      "1397/1397 [==============================] - 2s 1ms/step - loss: 0.1540 - accuracy: 0.9464\n",
      "Epoch 98/150\n",
      "1397/1397 [==============================] - 2s 1ms/step - loss: 0.1537 - accuracy: 0.9459\n",
      "Epoch 99/150\n",
      "1397/1397 [==============================] - 2s 1ms/step - loss: 0.1533 - accuracy: 0.9457\n",
      "Epoch 100/150\n",
      "1397/1397 [==============================] - 2s 1ms/step - loss: 0.1540 - accuracy: 0.9475\n",
      "Epoch 101/150\n",
      "1397/1397 [==============================] - 2s 1ms/step - loss: 0.1530 - accuracy: 0.9450\n",
      "Epoch 102/150\n",
      "1397/1397 [==============================] - 2s 1ms/step - loss: 0.1511 - accuracy: 0.9474\n",
      "Epoch 103/150\n",
      "1397/1397 [==============================] - 2s 1ms/step - loss: 0.1519 - accuracy: 0.9469\n",
      "Epoch 104/150\n",
      "1397/1397 [==============================] - 2s 1ms/step - loss: 0.1511 - accuracy: 0.9471\n",
      "Epoch 105/150\n",
      "1397/1397 [==============================] - 2s 1ms/step - loss: 0.1498 - accuracy: 0.9467\n",
      "Epoch 106/150\n",
      "1397/1397 [==============================] - 2s 1ms/step - loss: 0.1542 - accuracy: 0.9474\n",
      "Epoch 107/150\n",
      "1397/1397 [==============================] - 2s 1ms/step - loss: 0.1515 - accuracy: 0.9467\n",
      "Epoch 108/150\n",
      "1397/1397 [==============================] - 2s 1ms/step - loss: 0.1523 - accuracy: 0.9464\n",
      "Epoch 109/150\n",
      "1397/1397 [==============================] - 2s 1ms/step - loss: 0.1517 - accuracy: 0.9453\n",
      "Epoch 110/150\n",
      "1397/1397 [==============================] - 2s 1ms/step - loss: 0.1492 - accuracy: 0.9469\n",
      "Epoch 111/150\n",
      "1397/1397 [==============================] - 2s 1ms/step - loss: 0.1523 - accuracy: 0.9460\n",
      "Epoch 112/150\n",
      "1397/1397 [==============================] - 2s 1ms/step - loss: 0.1524 - accuracy: 0.9459\n",
      "Epoch 113/150\n",
      "1397/1397 [==============================] - 2s 1ms/step - loss: 0.1539 - accuracy: 0.9463\n",
      "Epoch 114/150\n",
      "1397/1397 [==============================] - 2s 1ms/step - loss: 0.1529 - accuracy: 0.9462\n",
      "Epoch 115/150\n",
      "1397/1397 [==============================] - 2s 1ms/step - loss: 0.1517 - accuracy: 0.9464\n",
      "Epoch 116/150\n",
      "1397/1397 [==============================] - 2s 1ms/step - loss: 0.1522 - accuracy: 0.9456\n",
      "Epoch 117/150\n",
      "1397/1397 [==============================] - 2s 1ms/step - loss: 0.1531 - accuracy: 0.9467\n",
      "Epoch 118/150\n",
      "1397/1397 [==============================] - 2s 1ms/step - loss: 0.1517 - accuracy: 0.9475\n",
      "Epoch 119/150\n",
      "1397/1397 [==============================] - 2s 1ms/step - loss: 0.1499 - accuracy: 0.9477\n",
      "Epoch 120/150\n",
      "1397/1397 [==============================] - 2s 1ms/step - loss: 0.1524 - accuracy: 0.9462\n",
      "Epoch 121/150\n",
      "1397/1397 [==============================] - 2s 1ms/step - loss: 0.1494 - accuracy: 0.9484\n",
      "Epoch 122/150\n",
      "1397/1397 [==============================] - 2s 1ms/step - loss: 0.1516 - accuracy: 0.9480\n",
      "Epoch 123/150\n",
      "1397/1397 [==============================] - 2s 1ms/step - loss: 0.1500 - accuracy: 0.9458\n",
      "Epoch 124/150\n",
      "1397/1397 [==============================] - 2s 1ms/step - loss: 0.1524 - accuracy: 0.9465\n",
      "Epoch 125/150\n",
      "1397/1397 [==============================] - 2s 1ms/step - loss: 0.1509 - accuracy: 0.9467\n",
      "Epoch 126/150\n",
      "1397/1397 [==============================] - 2s 1ms/step - loss: 0.1506 - accuracy: 0.9471\n",
      "Epoch 127/150\n",
      "1397/1397 [==============================] - 2s 1ms/step - loss: 0.1493 - accuracy: 0.9478\n",
      "Epoch 128/150\n",
      "1397/1397 [==============================] - 2s 1ms/step - loss: 0.1540 - accuracy: 0.9461\n",
      "Epoch 129/150\n",
      "1397/1397 [==============================] - 2s 1ms/step - loss: 0.1508 - accuracy: 0.9473\n",
      "Epoch 130/150\n",
      "1397/1397 [==============================] - 2s 1ms/step - loss: 0.1485 - accuracy: 0.9484\n",
      "Epoch 131/150\n",
      "1397/1397 [==============================] - 2s 1ms/step - loss: 0.1502 - accuracy: 0.9467\n",
      "Epoch 132/150\n",
      "1397/1397 [==============================] - 2s 1ms/step - loss: 0.1506 - accuracy: 0.9459\n",
      "Epoch 133/150\n",
      "1397/1397 [==============================] - 2s 1ms/step - loss: 0.1505 - accuracy: 0.9470\n",
      "Epoch 134/150\n",
      "1397/1397 [==============================] - 2s 1ms/step - loss: 0.1497 - accuracy: 0.9465\n",
      "Epoch 135/150\n",
      "1397/1397 [==============================] - 2s 1ms/step - loss: 0.1521 - accuracy: 0.9467\n",
      "Epoch 136/150\n",
      "1397/1397 [==============================] - 2s 1ms/step - loss: 0.1507 - accuracy: 0.9460\n",
      "Epoch 137/150\n",
      "1397/1397 [==============================] - 2s 1ms/step - loss: 0.1474 - accuracy: 0.9470\n",
      "Epoch 138/150\n",
      "1397/1397 [==============================] - 2s 1ms/step - loss: 0.1495 - accuracy: 0.9475\n",
      "Epoch 139/150\n",
      "1397/1397 [==============================] - 2s 1ms/step - loss: 0.1504 - accuracy: 0.9468\n",
      "Epoch 140/150\n",
      "1397/1397 [==============================] - 2s 1ms/step - loss: 0.1517 - accuracy: 0.9466\n",
      "Epoch 141/150\n",
      "1397/1397 [==============================] - 2s 1ms/step - loss: 0.1512 - accuracy: 0.9460\n",
      "Epoch 142/150\n",
      "1397/1397 [==============================] - 2s 1ms/step - loss: 0.1505 - accuracy: 0.9464\n",
      "Epoch 143/150\n",
      "1397/1397 [==============================] - 2s 1ms/step - loss: 0.1487 - accuracy: 0.9478\n",
      "Epoch 144/150\n",
      "1397/1397 [==============================] - 2s 1ms/step - loss: 0.1498 - accuracy: 0.9468\n",
      "Epoch 145/150\n",
      "1397/1397 [==============================] - 2s 1ms/step - loss: 0.1505 - accuracy: 0.9462\n",
      "Epoch 146/150\n",
      "1397/1397 [==============================] - 2s 1ms/step - loss: 0.1518 - accuracy: 0.9472\n",
      "Epoch 147/150\n",
      "1397/1397 [==============================] - 2s 1ms/step - loss: 0.1543 - accuracy: 0.9462\n",
      "Epoch 148/150\n",
      "1397/1397 [==============================] - 2s 1ms/step - loss: 0.1524 - accuracy: 0.9470\n",
      "Epoch 149/150\n",
      "1397/1397 [==============================] - 2s 1ms/step - loss: 0.1509 - accuracy: 0.9473\n",
      "Epoch 150/150\n",
      "1397/1397 [==============================] - 2s 1ms/step - loss: 0.1517 - accuracy: 0.9463\n"
     ]
    }
   ],
   "source": [
    "print(train_dataset.X.shape, train_dataset.y.shape)\n",
    "\n",
    "\n",
    "model.fit(train_dataset)#.features, train_dataset.y)#, nb_epoch=50)\n"
   ]
  },
  {
   "cell_type": "code",
   "execution_count": 12,
   "metadata": {},
   "outputs": [
    {
     "name": "stdout",
     "output_type": "stream",
     "text": [
      "Models Class line 158 --> evaluator\n",
      "WARNING:tensorflow:From /opt/conda/lib/python3.6/site-packages/tensorflow/python/keras/wrappers/scikit_learn.py:264: Sequential.predict_proba (from tensorflow.python.keras.engine.sequential) is deprecated and will be removed after 2021-01-01.\n",
      "Instructions for updating:\n",
      "Please use `model.predict()` instead.\n",
      "1397/1397 [==============================] - 1s 780us/step\n",
      "roc_auc_score: \n",
      " 0.5676714739371911\n",
      "precision_score: \n",
      " 0.8571428571428571\n",
      "accuracy_score: \n",
      " 0.949885452462772\n",
      "confusion_matrix: \n",
      " [[13160    18]\n",
      " [  682   108]]\n",
      "classification_report: \n",
      "               precision    recall  f1-score   support\n",
      "\n",
      "           0       0.95      1.00      0.97     13178\n",
      "           1       0.86      0.14      0.24       790\n",
      "\n",
      "    accuracy                           0.95     13968\n",
      "   macro avg       0.90      0.57      0.60     13968\n",
      "weighted avg       0.95      0.95      0.93     13968\n",
      "\n",
      "WARNING: task averager  cannot perform reduce with flexible type\n",
      "training set score: {'roc_auc_score': 0.5676714739371911, 'precision_score': 0.8571428571428571, 'accuracy_score': 0.949885452462772, 'confusion_matrix': 3492.0, 'classification_report': None}\n",
      "Models Class line 158 --> evaluator\n",
      "466/466 [==============================] - 0s 767us/step\n",
      "roc_auc_score: \n",
      " 0.5495425567146879\n",
      "precision_score: \n",
      " 0.6585365853658537\n",
      "accuracy_score: \n",
      " 0.9460910652920962\n",
      "confusion_matrix: \n",
      " [[4378   14]\n",
      " [ 237   27]]\n",
      "classification_report: \n",
      "               precision    recall  f1-score   support\n",
      "\n",
      "           0       0.95      1.00      0.97      4392\n",
      "           1       0.66      0.10      0.18       264\n",
      "\n",
      "    accuracy                           0.95      4656\n",
      "   macro avg       0.80      0.55      0.57      4656\n",
      "weighted avg       0.93      0.95      0.93      4656\n",
      "\n",
      "WARNING: task averager  cannot perform reduce with flexible type\n",
      "test set score: {'roc_auc_score': 0.5495425567146879, 'precision_score': 0.6585365853658537, 'accuracy_score': 0.9460910652920962, 'confusion_matrix': 1164.0, 'classification_report': None}\n"
     ]
    }
   ],
   "source": [
    "metrics = [Metric(roc_auc_score), \n",
    "           Metric(precision_score), \n",
    "           Metric(accuracy_score), \n",
    "           Metric(confusion_matrix), \n",
    "           Metric(classification_report)]\n",
    "\n",
    "print('training set score:', model.evaluate(train_dataset, metrics))\n",
    "print('test set score:', model.evaluate(test_dataset, metrics))"
   ]
  },
  {
   "cell_type": "code",
   "execution_count": 13,
   "metadata": {},
   "outputs": [
    {
     "name": "stdout",
     "output_type": "stream",
     "text": [
      "Fitting 6 random models from a space of 6 possible models.\n",
      "Fitting model 1/6\n",
      "hyperparameters: {'optimizer': 'adam', 'dropout': 0.2}\n",
      "<class 'metrics.Metrics.Metric'>\n",
      "METRIC:  <metrics.Metrics.Metric object at 0x7f9c8ad95e48>\n",
      "WARNING:  <metrics.Metrics.Metric object at 0x7f9c8ad95e48>  is not a valid scoring function. Use sorted(sklearn.metrics.SCORERS.keys()) to get valid options.\n",
      "Using accuracy instead and  <metrics.Metrics.Metric object at 0x7f9c8ad95e48>  on validation!\n",
      " \n",
      "\n",
      "(13968, 49) 2793.6\n",
      "Fitting 5 folds for each of 6 candidates, totalling 30 fits\n",
      "[CV] dropout=0.2, optimizer=adam .....................................\n"
     ]
    },
    {
     "name": "stderr",
     "output_type": "stream",
     "text": [
      "[Parallel(n_jobs=1)]: Using backend SequentialBackend with 1 concurrent workers.\n"
     ]
    },
    {
     "name": "stdout",
     "output_type": "stream",
     "text": [
      "350/350 [==============================] - 0s 1ms/step - loss: 0.2366 - accuracy: 0.9429\n",
      "WARNING:tensorflow:From /opt/conda/lib/python3.6/site-packages/tensorflow/python/keras/wrappers/scikit_learn.py:241: Sequential.predict_classes (from tensorflow.python.keras.engine.sequential) is deprecated and will be removed after 2021-01-01.\n",
      "Instructions for updating:\n",
      "Please use instead:* `np.argmax(model.predict(x), axis=-1)`,   if your model does multi-class classification   (e.g. if it uses a `softmax` last-layer activation).* `(model.predict(x) > 0.5).astype(\"int32\")`,   if your model does binary classification   (e.g. if it uses a `sigmoid` last-layer activation).\n",
      "[CV] ......... dropout=0.2, optimizer=adam, score=0.943, total=   0.9s\n",
      "[CV] dropout=0.2, optimizer=adam .....................................\n"
     ]
    },
    {
     "name": "stderr",
     "output_type": "stream",
     "text": [
      "[Parallel(n_jobs=1)]: Done   1 out of   1 | elapsed:    0.9s remaining:    0.0s\n"
     ]
    },
    {
     "name": "stdout",
     "output_type": "stream",
     "text": [
      "350/350 [==============================] - 0s 1ms/step - loss: 0.2993 - accuracy: 0.8985\n",
      "[CV] ......... dropout=0.2, optimizer=adam, score=0.943, total=   0.9s\n",
      "[CV] dropout=0.2, optimizer=adam .....................................\n"
     ]
    },
    {
     "name": "stderr",
     "output_type": "stream",
     "text": [
      "[Parallel(n_jobs=1)]: Done   2 out of   2 | elapsed:    1.8s remaining:    0.0s\n"
     ]
    },
    {
     "name": "stdout",
     "output_type": "stream",
     "text": [
      "350/350 [==============================] - 0s 1ms/step - loss: 0.2581 - accuracy: 0.9183\n",
      "[CV] ......... dropout=0.2, optimizer=adam, score=0.943, total=   0.9s\n",
      "[CV] dropout=0.2, optimizer=adam .....................................\n",
      "350/350 [==============================] - 0s 1ms/step - loss: 0.2457 - accuracy: 0.9340\n",
      "[CV] ......... dropout=0.2, optimizer=adam, score=0.943, total=   0.9s\n",
      "[CV] dropout=0.2, optimizer=adam .....................................\n",
      "350/350 [==============================] - 0s 1ms/step - loss: 0.2841 - accuracy: 0.9213\n",
      "[CV] ......... dropout=0.2, optimizer=adam, score=0.943, total=   0.9s\n",
      "[CV] dropout=0.2, optimizer=rmsprop ..................................\n",
      "350/350 [==============================] - 1s 2ms/step - loss: 0.2215 - accuracy: 0.9428\n",
      "[CV] ...... dropout=0.2, optimizer=rmsprop, score=0.943, total=   1.1s\n",
      "[CV] dropout=0.2, optimizer=rmsprop ..................................\n",
      "350/350 [==============================] - 1s 2ms/step - loss: 0.2277 - accuracy: 0.9424\n",
      "[CV] ...... dropout=0.2, optimizer=rmsprop, score=0.943, total=   1.1s\n",
      "[CV] dropout=0.2, optimizer=rmsprop ..................................\n",
      "350/350 [==============================] - 1s 2ms/step - loss: 0.2350 - accuracy: 0.9355\n",
      "[CV] ...... dropout=0.2, optimizer=rmsprop, score=0.943, total=   1.2s\n",
      "[CV] dropout=0.2, optimizer=rmsprop ..................................\n",
      "350/350 [==============================] - 1s 2ms/step - loss: 0.2166 - accuracy: 0.9392\n",
      "[CV] ...... dropout=0.2, optimizer=rmsprop, score=0.943, total=   1.0s\n",
      "[CV] dropout=0.2, optimizer=rmsprop ..................................\n",
      "350/350 [==============================] - 1s 2ms/step - loss: 0.2561 - accuracy: 0.9226\n",
      "[CV] ...... dropout=0.2, optimizer=rmsprop, score=0.943, total=   1.0s\n",
      "[CV] dropout=0.4, optimizer=adam .....................................\n",
      "350/350 [==============================] - 0s 1ms/step - loss: 0.3286 - accuracy: 0.8922\n",
      "[CV] ......... dropout=0.4, optimizer=adam, score=0.943, total=   0.9s\n",
      "[CV] dropout=0.4, optimizer=adam .....................................\n",
      "350/350 [==============================] - 0s 1ms/step - loss: 0.3110 - accuracy: 0.9094\n",
      "[CV] ......... dropout=0.4, optimizer=adam, score=0.943, total=   0.9s\n",
      "[CV] dropout=0.4, optimizer=adam .....................................\n",
      "350/350 [==============================] - 0s 1ms/step - loss: 0.3460 - accuracy: 0.8690\n",
      "[CV] ......... dropout=0.4, optimizer=adam, score=0.943, total=   0.9s\n",
      "[CV] dropout=0.4, optimizer=adam .....................................\n",
      "350/350 [==============================] - 0s 1ms/step - loss: 0.2412 - accuracy: 0.9354\n",
      "[CV] ......... dropout=0.4, optimizer=adam, score=0.943, total=   0.9s\n",
      "[CV] dropout=0.4, optimizer=adam .....................................\n",
      "350/350 [==============================] - 0s 1ms/step - loss: 0.3049 - accuracy: 0.9235\n",
      "[CV] ......... dropout=0.4, optimizer=adam, score=0.943, total=   0.9s\n",
      "[CV] dropout=0.4, optimizer=rmsprop ..................................\n",
      "350/350 [==============================] - 1s 2ms/step - loss: 0.2873 - accuracy: 0.9255\n",
      "[CV] ...... dropout=0.4, optimizer=rmsprop, score=0.943, total=   1.2s\n",
      "[CV] dropout=0.4, optimizer=rmsprop ..................................\n",
      "350/350 [==============================] - 1s 2ms/step - loss: 0.2826 - accuracy: 0.9059\n",
      "[CV] ...... dropout=0.4, optimizer=rmsprop, score=0.943, total=   1.0s\n",
      "[CV] dropout=0.4, optimizer=rmsprop ..................................\n",
      "350/350 [==============================] - 1s 2ms/step - loss: 0.3184 - accuracy: 0.8936\n",
      "[CV] ...... dropout=0.4, optimizer=rmsprop, score=0.943, total=   1.0s\n",
      "[CV] dropout=0.4, optimizer=rmsprop ..................................\n",
      "350/350 [==============================] - 1s 2ms/step - loss: 0.2467 - accuracy: 0.9347\n",
      "[CV] ...... dropout=0.4, optimizer=rmsprop, score=0.943, total=   1.0s\n",
      "[CV] dropout=0.4, optimizer=rmsprop ..................................\n",
      "350/350 [==============================] - 1s 2ms/step - loss: 0.2116 - accuracy: 0.9434\n",
      "[CV] ...... dropout=0.4, optimizer=rmsprop, score=0.943, total=   1.0s\n",
      "[CV] dropout=0.5, optimizer=adam .....................................\n",
      "350/350 [==============================] - 0s 1ms/step - loss: 0.2774 - accuracy: 0.9293\n",
      "[CV] ......... dropout=0.5, optimizer=adam, score=0.943, total=   0.9s\n",
      "[CV] dropout=0.5, optimizer=adam .....................................\n",
      "350/350 [==============================] - 0s 1ms/step - loss: 0.2712 - accuracy: 0.9366\n",
      "[CV] ......... dropout=0.5, optimizer=adam, score=0.943, total=   0.9s\n",
      "[CV] dropout=0.5, optimizer=adam .....................................\n",
      "350/350 [==============================] - 0s 1ms/step - loss: 0.3021 - accuracy: 0.9059\n",
      "[CV] ......... dropout=0.5, optimizer=adam, score=0.943, total=   0.9s\n",
      "[CV] dropout=0.5, optimizer=adam .....................................\n",
      "350/350 [==============================] - 0s 1ms/step - loss: 0.2385 - accuracy: 0.9430\n",
      "[CV] ......... dropout=0.5, optimizer=adam, score=0.943, total=   0.9s\n",
      "[CV] dropout=0.5, optimizer=adam .....................................\n",
      "350/350 [==============================] - 0s 1ms/step - loss: 0.2765 - accuracy: 0.9306\n",
      "[CV] ......... dropout=0.5, optimizer=adam, score=0.943, total=   1.0s\n",
      "[CV] dropout=0.5, optimizer=rmsprop ..................................\n",
      "350/350 [==============================] - 1s 2ms/step - loss: 0.2812 - accuracy: 0.9214\n",
      "[CV] ...... dropout=0.5, optimizer=rmsprop, score=0.943, total=   1.0s\n",
      "[CV] dropout=0.5, optimizer=rmsprop ..................................\n",
      "350/350 [==============================] - 1s 2ms/step - loss: 0.2848 - accuracy: 0.9135\n",
      "[CV] ...... dropout=0.5, optimizer=rmsprop, score=0.943, total=   1.0s\n",
      "[CV] dropout=0.5, optimizer=rmsprop ..................................\n",
      "350/350 [==============================] - 1s 2ms/step - loss: 0.2613 - accuracy: 0.9414\n",
      "[CV] ...... dropout=0.5, optimizer=rmsprop, score=0.943, total=   1.1s\n",
      "[CV] dropout=0.5, optimizer=rmsprop ..................................\n",
      "350/350 [==============================] - 1s 2ms/step - loss: 0.2767 - accuracy: 0.9154\n",
      "[CV] ...... dropout=0.5, optimizer=rmsprop, score=0.943, total=   1.0s\n",
      "[CV] dropout=0.5, optimizer=rmsprop ..................................\n",
      "350/350 [==============================] - 1s 2ms/step - loss: 0.2429 - accuracy: 0.9362\n",
      "[CV] ...... dropout=0.5, optimizer=rmsprop, score=0.943, total=   1.0s\n"
     ]
    },
    {
     "name": "stderr",
     "output_type": "stream",
     "text": [
      "[Parallel(n_jobs=1)]: Done  30 out of  30 | elapsed:   29.7s finished\n"
     ]
    },
    {
     "name": "stdout",
     "output_type": "stream",
     "text": [
      "437/437 [==============================] - 1s 1ms/step - loss: 0.3456 - accuracy: 0.8668\n",
      "\n",
      " \n",
      " Best accuracy: 0.943442 using {'dropout': 0.2, 'optimizer': 'adam'}\n",
      "\n",
      " accuracy: 0.943442 (0.000010) with: {'dropout': 0.2, 'optimizer': 'adam'} \n",
      "\n",
      "\n",
      " accuracy: 0.943442 (0.000010) with: {'dropout': 0.2, 'optimizer': 'rmsprop'} \n",
      "\n",
      "\n",
      " accuracy: 0.943442 (0.000010) with: {'dropout': 0.4, 'optimizer': 'adam'} \n",
      "\n",
      "\n",
      " accuracy: 0.943442 (0.000010) with: {'dropout': 0.4, 'optimizer': 'rmsprop'} \n",
      "\n",
      "\n",
      " accuracy: 0.943442 (0.000010) with: {'dropout': 0.5, 'optimizer': 'adam'} \n",
      "\n",
      "\n",
      " accuracy: 0.943442 (0.000010) with: {'dropout': 0.5, 'optimizer': 'rmsprop'} \n",
      "\n",
      "#################\n",
      "{'dropout': 0.2, 'optimizer': 'adam'}\n",
      "<tensorflow.python.keras.wrappers.scikit_learn.KerasClassifier object at 0x7f9cc448d0f0>\n"
     ]
    }
   ],
   "source": [
    "from parameterOptimization.HyperparameterOpt import GridHyperparamOpt\n",
    "#Hyperparameter Optimization\n",
    "optimizer = GridHyperparamOpt(create_model)\n",
    "\n",
    "params_dict = {'optimizer' : ['adam', 'rmsprop'],\n",
    "              'dropout' : [0.2, 0.4, 0.5]}\n",
    "\n",
    "best_model, best_hyperparams, all_results = optimizer.hyperparam_search(params_dict, train_dataset, \n",
    "                                                                        valid_dataset, Metric(roc_auc_score),\n",
    "                                                                       cv=5, n_jobs=1, verbose=3)\n",
    "\n",
    "print('#################')\n",
    "print(best_hyperparams)\n",
    "print(best_model)"
   ]
  },
  {
   "cell_type": "code",
   "execution_count": 14,
   "metadata": {},
   "outputs": [],
   "source": [
    "#pip install tensorflow==2.2.0"
   ]
  },
  {
   "cell_type": "code",
   "execution_count": 15,
   "metadata": {},
   "outputs": [],
   "source": [
    "\n",
    "#import tensorflow as tf\n",
    "#tf.version.VERSION"
   ]
  },
  {
   "cell_type": "code",
   "execution_count": 16,
   "metadata": {},
   "outputs": [
    {
     "data": {
      "text/plain": [
       "dict_keys(['explained_variance', 'r2', 'max_error', 'neg_median_absolute_error', 'neg_mean_absolute_error', 'neg_mean_squared_error', 'neg_mean_squared_log_error', 'neg_root_mean_squared_error', 'neg_mean_poisson_deviance', 'neg_mean_gamma_deviance', 'accuracy', 'roc_auc', 'roc_auc_ovr', 'roc_auc_ovo', 'roc_auc_ovr_weighted', 'roc_auc_ovo_weighted', 'balanced_accuracy', 'average_precision', 'neg_log_loss', 'neg_brier_score', 'adjusted_rand_score', 'homogeneity_score', 'completeness_score', 'v_measure_score', 'mutual_info_score', 'adjusted_mutual_info_score', 'normalized_mutual_info_score', 'fowlkes_mallows_score', 'precision', 'precision_macro', 'precision_micro', 'precision_samples', 'precision_weighted', 'recall', 'recall_macro', 'recall_micro', 'recall_samples', 'recall_weighted', 'f1', 'f1_macro', 'f1_micro', 'f1_samples', 'f1_weighted', 'jaccard', 'jaccard_macro', 'jaccard_micro', 'jaccard_samples', 'jaccard_weighted'])"
      ]
     },
     "execution_count": 16,
     "metadata": {},
     "output_type": "execute_result"
    }
   ],
   "source": [
    "import sklearn\n",
    "sklearn.metrics.SCORERS.keys()"
   ]
  }
 ],
 "metadata": {
  "kernelspec": {
   "display_name": "Python 3",
   "language": "python",
   "name": "python3"
  },
  "language_info": {
   "codemirror_mode": {
    "name": "ipython",
    "version": 3
   },
   "file_extension": ".py",
   "mimetype": "text/x-python",
   "name": "python",
   "nbconvert_exporter": "python",
   "pygments_lexer": "ipython3",
   "version": "3.6.2"
  }
 },
 "nbformat": 4,
 "nbformat_minor": 4
}
