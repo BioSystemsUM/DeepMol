{
 "cells": [
  {
   "cell_type": "code",
   "execution_count": 1,
   "metadata": {},
   "outputs": [],
   "source": [
    "import tensorflow as tf\n",
    "config = tf.compat.v1.ConfigProto()\n",
    "config.gpu_options.allow_growth = True\n",
    "sess = tf.compat.v1.Session(config=config)"
   ]
  },
  {
   "cell_type": "code",
   "execution_count": 2,
   "metadata": {},
   "outputs": [],
   "source": [
    "#pip install tensorflow==2.2.0"
   ]
  },
  {
   "cell_type": "code",
   "execution_count": 3,
   "metadata": {},
   "outputs": [
    {
     "name": "stdout",
     "output_type": "stream",
     "text": [
      "2.2.0\n"
     ]
    }
   ],
   "source": [
    "from loaders.Loaders import CSVLoader\n",
    "from compoundFeaturization.rdkitFingerprints import MorganFingerprint\n",
    "from featureSelection.baseFeatureSelector import LowVarianceFS\n",
    "from splitters.splitters import SingletaskStratifiedSplitter\n",
    "from models.kerasModels import KerasModel\n",
    "from metrics.Metrics import Metric\n",
    "from metrics.metricsFunctions import roc_auc_score, precision_score, accuracy_score, confusion_matrix, classification_report\n",
    "\n",
    "\n",
    "import tensorflow as tf\n",
    "print(tf.version.VERSION)\n",
    "from tensorflow.keras.losses import binary_crossentropy"
   ]
  },
  {
   "cell_type": "code",
   "execution_count": 4,
   "metadata": {},
   "outputs": [
    {
     "name": "stdout",
     "output_type": "stream",
     "text": [
      "Mols_shape:  23290\n",
      "Features_shape:  X not defined!\n",
      "Labels_shape:  (23290,)\n",
      "None\n"
     ]
    }
   ],
   "source": [
    "#Load Dataset\n",
    "dataset = CSVLoader(dataset_path='preprocessed_dataset_wfoodb.csv', \n",
    "                    mols_field='Smiles', \n",
    "                    labels_fields='Class', \n",
    "                    id_field='ID')#, shard_size=4000)\n",
    "dataset = dataset.create_dataset()\n",
    "print(dataset.get_shape())"
   ]
  },
  {
   "cell_type": "code",
   "execution_count": 5,
   "metadata": {},
   "outputs": [
    {
     "name": "stdout",
     "output_type": "stream",
     "text": [
      "Featurizing datapoint 0\n",
      "Featurizing datapoint 1000\n",
      "Featurizing datapoint 2000\n",
      "Featurizing datapoint 3000\n",
      "Featurizing datapoint 4000\n",
      "Featurizing datapoint 5000\n",
      "Featurizing datapoint 6000\n"
     ]
    },
    {
     "name": "stderr",
     "output_type": "stream",
     "text": [
      "RDKit ERROR: [11:39:56] Explicit valence for atom # 1 Cl, 4, is greater than permitted\n"
     ]
    },
    {
     "name": "stdout",
     "output_type": "stream",
     "text": [
      "error in smile: O=[Cl]=O\n",
      "Featurizing datapoint 7000\n"
     ]
    },
    {
     "name": "stderr",
     "output_type": "stream",
     "text": [
      "RDKit ERROR: [11:40:00] Explicit valence for atom # 3 B, 4, is greater than permitted\n",
      "RDKit ERROR: [11:40:00] Explicit valence for atom # 1 Cl, 9, is greater than permitted\n"
     ]
    },
    {
     "name": "stdout",
     "output_type": "stream",
     "text": [
      "error in smile: OB1O[B]2(O)OB(O)O[B](O)(O1)O2\n",
      "error in smile: O=[Cl-](=O)(=O)=O\n",
      "Featurizing datapoint 8000\n",
      "Featurizing datapoint 9000\n",
      "Featurizing datapoint 10000\n",
      "Featurizing datapoint 11000\n",
      "Featurizing datapoint 12000\n",
      "Featurizing datapoint 13000\n",
      "Featurizing datapoint 14000\n"
     ]
    },
    {
     "name": "stderr",
     "output_type": "stream",
     "text": [
      "RDKit ERROR: [11:40:16] Explicit valence for atom # 0 P, 11, is greater than permitted\n"
     ]
    },
    {
     "name": "stdout",
     "output_type": "stream",
     "text": [
      "error in smile: [P](OCC=C(C)C)(OCC=C(C)C)(=O)(OP(OCC=C(C)C)(OCC=C(C)C)=O)(CC=C(C)C)(CC=C(C)C)(CC=C(C)C)(CC=C(C)C)(CC=C(C)C)CC=C(C)C\n",
      "Featurizing datapoint 15000\n",
      "Featurizing datapoint 16000\n",
      "Featurizing datapoint 17000\n",
      "Featurizing datapoint 18000\n",
      "Featurizing datapoint 19000\n",
      "Featurizing datapoint 20000\n",
      "Featurizing datapoint 21000\n",
      "Featurizing datapoint 22000\n",
      "Featurizing datapoint 23000\n",
      "Elements with indexes:  [6257, 7708, 7709, 14244]  were removed due to the presence of NAs!\n",
      "The elements in question are:  ['O=[Cl]=O' 'OB1O[B]2(O)OB(O)O[B](O)(O1)O2' 'O=[Cl-](=O)(=O)=O'\n",
      " '[P](OCC=C(C)C)(OCC=C(C)C)(=O)(OP(OCC=C(C)C)(OCC=C(C)C)=O)(CC=C(C)C)(CC=C(C)C)(CC=C(C)C)(CC=C(C)C)(CC=C(C)C)CC=C(C)C']\n",
      "Mols_shape:  23286\n",
      "Features_shape:  (23286, 1024)\n",
      "Labels_shape:  (23286,)\n"
     ]
    }
   ],
   "source": [
    "#Featurization\n",
    "dataset = MorganFingerprint().featurize(dataset)\n",
    "dataset.get_shape()"
   ]
  },
  {
   "cell_type": "code",
   "execution_count": 6,
   "metadata": {},
   "outputs": [
    {
     "name": "stdout",
     "output_type": "stream",
     "text": [
      "Mols_shape:  23286\n",
      "Features_shape:  (23286, 49)\n",
      "Labels_shape:  (23286,)\n"
     ]
    }
   ],
   "source": [
    "#Feature Selection\n",
    "dataset = LowVarianceFS(0.15).featureSelection(dataset)\n",
    "dataset.get_shape()"
   ]
  },
  {
   "cell_type": "code",
   "execution_count": 7,
   "metadata": {},
   "outputs": [],
   "source": [
    "#Data Split\n",
    "splitter = SingletaskStratifiedSplitter()\n",
    "train_dataset, valid_dataset, test_dataset = splitter.train_valid_test_split(dataset=dataset, frac_train=0.6, \n",
    "                                                                             frac_valid=0.2, frac_test=0.2)"
   ]
  },
  {
   "cell_type": "code",
   "execution_count": 8,
   "metadata": {
    "scrolled": true
   },
   "outputs": [],
   "source": [
    "from tensorflow.keras.wrappers.scikit_learn import KerasClassifier\n",
    "from tensorflow.keras.models import Sequential\n",
    "from tensorflow.keras.layers import Dense, Dropout\n",
    "from sklearn.model_selection import StratifiedKFold\n",
    "from sklearn.model_selection import cross_val_score\n",
    "import numpy as np\n",
    "\n",
    "\n",
    "input_dim = train_dataset.X.shape[1]\n",
    "\n",
    "\n",
    "def create_model(optimizer='adam', dropout=0.5, input_dim=input_dim):\n",
    "    # create model\n",
    "    model = Sequential()\n",
    "    model.add(Dense(12, input_dim=input_dim, activation='relu'))\n",
    "    model.add(Dropout(dropout))\n",
    "    model.add(Dense(8, activation='relu'))\n",
    "    model.add(Dense(1, activation='sigmoid'))\n",
    "    # Compile model\n",
    "    model.compile(loss='binary_crossentropy', optimizer=optimizer, metrics=['accuracy'])\n",
    "    return model\n"
   ]
  },
  {
   "cell_type": "code",
   "execution_count": 9,
   "metadata": {},
   "outputs": [],
   "source": [
    "#print(type(keras_model))\n",
    "#from sklearn.model_selection import GridSearchCV \n",
    "#model = KerasClassifier(build_fn=create_model, epochs=15, batch_size=10, verbose=1, optimizer='adam')\n",
    "\n",
    "#model.fit(train_dataset.features, train_dataset.y)\n",
    "#params={'optimizer':['adam', 'rsmprop'],  \n",
    "#        'nb_epoch':[200, 100, 300, 400]}\n",
    "\n",
    "#gs=GridSearchCV(estimator=model, param_grid=params, cv=3) \n",
    "# now fit the dataset to the GridSearchCV object.  \n",
    "#gs = gs.fit(train_dataset.features, train_dataset.y)\n",
    "\n",
    "#print(gs)\n",
    "#print(type(model))\n",
    "\n",
    "#seed = 7\n",
    "#np.random.seed(seed)\n",
    "#print(1)\n",
    "#kfold = StratifiedKFold(n_splits=2, shuffle=True, random_state=seed)\n",
    "#print(2)\n",
    "#results = cross_val_score(model, train_dataset.features, train_dataset.y, cv=kfold)\n",
    "#print(3)\n",
    "#print(results)\n",
    "\n",
    "#model = KerasModel(keras_model, binary_crossentropy)"
   ]
  },
  {
   "cell_type": "code",
   "execution_count": 10,
   "metadata": {},
   "outputs": [
    {
     "name": "stdout",
     "output_type": "stream",
     "text": [
      "49\n"
     ]
    }
   ],
   "source": [
    "from models.kerasModels import KerasModel\n",
    "\n",
    "input_dim = train_dataset.X.shape[1]\n",
    "print(input_dim)\n",
    "model = KerasModel(create_model, epochs = 5, verbose=1, optimizer='adam')#, input_dim=input_dim)\n",
    "\n"
   ]
  },
  {
   "cell_type": "code",
   "execution_count": 11,
   "metadata": {
    "scrolled": true
   },
   "outputs": [
    {
     "name": "stdout",
     "output_type": "stream",
     "text": [
      "(13968, 49) (13968,)\n",
      "Epoch 1/5\n",
      "1397/1397 [==============================] - 2s 1ms/step - loss: 0.2397 - accuracy: 0.9312\n",
      "Epoch 2/5\n",
      "1397/1397 [==============================] - 2s 1ms/step - loss: 0.1893 - accuracy: 0.9435\n",
      "Epoch 3/5\n",
      "1397/1397 [==============================] - 2s 1ms/step - loss: 0.1812 - accuracy: 0.9437\n",
      "Epoch 4/5\n",
      "1397/1397 [==============================] - 2s 1ms/step - loss: 0.1732 - accuracy: 0.9452\n",
      "Epoch 5/5\n",
      "1397/1397 [==============================] - 2s 1ms/step - loss: 0.1708 - accuracy: 0.9450\n"
     ]
    }
   ],
   "source": [
    "print(train_dataset.X.shape, train_dataset.y.shape)\n",
    "\n",
    "\n",
    "model.fit(train_dataset)#.features, train_dataset.y)#, nb_epoch=50)\n"
   ]
  },
  {
   "cell_type": "code",
   "execution_count": 12,
   "metadata": {},
   "outputs": [
    {
     "name": "stdout",
     "output_type": "stream",
     "text": [
      "WARNING:tensorflow:From /opt/conda/lib/python3.6/site-packages/tensorflow/python/keras/wrappers/scikit_learn.py:264: Sequential.predict_proba (from tensorflow.python.keras.engine.sequential) is deprecated and will be removed after 2021-01-01.\n",
      "Instructions for updating:\n",
      "Please use `model.predict()` instead.\n",
      "1397/1397 [==============================] - 1s 718us/step\n",
      "0 [0.9987907  0.00120934]\n",
      "<class 'numpy.ndarray'> <class 'numpy.ndarray'>\n",
      "<class 'numpy.int64'> <class 'numpy.float32'>\n",
      "ERROR:  y should be a 1d array, got an array of shape (13968, 2) instead.\n",
      "roc_auc_score: \n",
      " 0.5030886729128524\n",
      "0 [0.9987907  0.00120934]\n",
      "<class 'numpy.ndarray'> <class 'numpy.ndarray'>\n",
      "<class 'numpy.int64'> <class 'numpy.float32'>\n",
      "ERROR:  Classification metrics can't handle a mix of binary and continuous-multioutput targets\n",
      "precision_score: \n",
      " 0.7142857142857143\n",
      "0 [0.9987907  0.00120934]\n",
      "<class 'numpy.ndarray'> <class 'numpy.ndarray'>\n",
      "<class 'numpy.int64'> <class 'numpy.float32'>\n",
      "ERROR:  Classification metrics can't handle a mix of binary and continuous-multioutput targets\n",
      "accuracy_score: \n",
      " 0.9436569301260023\n",
      "0 [0.9987907  0.00120934]\n",
      "<class 'numpy.ndarray'> <class 'numpy.ndarray'>\n",
      "<class 'numpy.int64'> <class 'numpy.float32'>\n",
      "ERROR:  Classification metrics can't handle a mix of binary and continuous-multioutput targets\n",
      "confusion_matrix: \n",
      " [[13176     2]\n",
      " [  785     5]]\n",
      "0 [0.9987907  0.00120934]\n",
      "<class 'numpy.ndarray'> <class 'numpy.ndarray'>\n",
      "<class 'numpy.int64'> <class 'numpy.float32'>\n",
      "ERROR:  Classification metrics can't handle a mix of binary and continuous-multioutput targets\n",
      "classification_report: \n",
      "               precision    recall  f1-score   support\n",
      "\n",
      "           0       0.94      1.00      0.97     13178\n",
      "           1       0.71      0.01      0.01       790\n",
      "\n",
      "    accuracy                           0.94     13968\n",
      "   macro avg       0.83      0.50      0.49     13968\n",
      "weighted avg       0.93      0.94      0.92     13968\n",
      "\n",
      "WARNING: task averager  cannot perform reduce with flexible type\n",
      "training set score: {'roc_auc_score': 0.5030886729128524, 'precision_score': 0.7142857142857143, 'accuracy_score': 0.9436569301260023, 'confusion_matrix': 3492.0, 'classification_report': None}\n",
      "466/466 [==============================] - 0s 716us/step\n",
      "0 [0.99797595 0.00202408]\n",
      "<class 'numpy.ndarray'> <class 'numpy.ndarray'>\n",
      "<class 'numpy.int64'> <class 'numpy.float32'>\n",
      "ERROR:  y should be a 1d array, got an array of shape (4656, 2) instead.\n",
      "roc_auc_score: \n",
      " 0.5034608290583273\n",
      "0 [0.99797595 0.00202408]\n",
      "<class 'numpy.ndarray'> <class 'numpy.ndarray'>\n",
      "<class 'numpy.int64'> <class 'numpy.float32'>\n",
      "ERROR:  Classification metrics can't handle a mix of binary and continuous-multioutput targets\n",
      "precision_score: \n",
      " 0.4\n",
      "0 [0.99797595 0.00202408]\n",
      "<class 'numpy.ndarray'> <class 'numpy.ndarray'>\n",
      "<class 'numpy.int64'> <class 'numpy.float32'>\n",
      "ERROR:  Classification metrics can't handle a mix of binary and continuous-multioutput targets\n",
      "accuracy_score: \n",
      " 0.9432989690721649\n",
      "0 [0.99797595 0.00202408]\n",
      "<class 'numpy.ndarray'> <class 'numpy.ndarray'>\n",
      "<class 'numpy.int64'> <class 'numpy.float32'>\n",
      "ERROR:  Classification metrics can't handle a mix of binary and continuous-multioutput targets\n",
      "confusion_matrix: \n",
      " [[4390    3]\n",
      " [ 261    2]]\n",
      "0 [0.99797595 0.00202408]\n",
      "<class 'numpy.ndarray'> <class 'numpy.ndarray'>\n",
      "<class 'numpy.int64'> <class 'numpy.float32'>\n",
      "ERROR:  Classification metrics can't handle a mix of binary and continuous-multioutput targets\n",
      "classification_report: \n",
      "               precision    recall  f1-score   support\n",
      "\n",
      "           0       0.94      1.00      0.97      4393\n",
      "           1       0.40      0.01      0.01       263\n",
      "\n",
      "    accuracy                           0.94      4656\n",
      "   macro avg       0.67      0.50      0.49      4656\n",
      "weighted avg       0.91      0.94      0.92      4656\n",
      "\n",
      "WARNING: task averager  cannot perform reduce with flexible type\n",
      "test set score: {'roc_auc_score': 0.5034608290583273, 'precision_score': 0.4, 'accuracy_score': 0.9432989690721649, 'confusion_matrix': 1164.0, 'classification_report': None}\n"
     ]
    }
   ],
   "source": [
    "metrics = [Metric(roc_auc_score), \n",
    "           Metric(precision_score), \n",
    "           Metric(accuracy_score), \n",
    "           Metric(confusion_matrix), \n",
    "           Metric(classification_report)]\n",
    "\n",
    "\n",
    "print('training set score:', model.evaluate(train_dataset, metrics))\n",
    "print('test set score:', model.evaluate(test_dataset, metrics))"
   ]
  },
  {
   "cell_type": "code",
   "execution_count": 13,
   "metadata": {},
   "outputs": [
    {
     "name": "stdout",
     "output_type": "stream",
     "text": [
      "MODE:  classification\n",
      "Fitting 6 random models from a space of 6 possible models.\n",
      "Fitting model 1/6\n",
      "hyperparameters: {'optimizer': 'adam', 'dropout': 0.2}\n",
      "437/437 [==============================] - 1s 1ms/step - loss: 0.2420 - accuracy: 0.9376\n",
      "expected str, bytes or os.PathLike object, not NoneType\n",
      "0 [0.00857349]\n",
      "<class 'numpy.ndarray'> <class 'numpy.ndarray'>\n",
      "<class 'numpy.int64'> <class 'numpy.float32'>\n",
      "roc_auc_score: \n",
      " 0.7988460729522165\n",
      "Model 1/6, Metric roc_auc_score, Validation set 1: 0.798846\n",
      "\tbest_validation_score so far: 0.798846\n",
      "Fitting model 2/6\n",
      "hyperparameters: {'optimizer': 'adam', 'dropout': 0.4}\n",
      "437/437 [==============================] - 1s 1ms/step - loss: 0.2809 - accuracy: 0.9207\n",
      "expected str, bytes or os.PathLike object, not NoneType\n",
      "0 [0.00547825]\n",
      "<class 'numpy.ndarray'> <class 'numpy.ndarray'>\n",
      "<class 'numpy.int64'> <class 'numpy.float32'>\n",
      "roc_auc_score: \n",
      " 0.778335564962925\n",
      "Model 2/6, Metric roc_auc_score, Validation set 2: 0.778336\n",
      "\tbest_validation_score so far: 0.798846\n",
      "Fitting model 3/6\n",
      "hyperparameters: {'optimizer': 'adam', 'dropout': 0.5}\n",
      "437/437 [==============================] - 1s 1ms/step - loss: 0.2797 - accuracy: 0.9216\n",
      "expected str, bytes or os.PathLike object, not NoneType\n",
      "0 [0.01112412]\n",
      "<class 'numpy.ndarray'> <class 'numpy.ndarray'>\n",
      "<class 'numpy.int64'> <class 'numpy.float32'>\n",
      "roc_auc_score: \n",
      " 0.8002802592094751\n",
      "Model 3/6, Metric roc_auc_score, Validation set 3: 0.800280\n",
      "\tbest_validation_score so far: 0.800280\n",
      "Fitting model 4/6\n",
      "hyperparameters: {'optimizer': 'rmsprop', 'dropout': 0.2}\n",
      "437/437 [==============================] - 1s 2ms/step - loss: 0.2028 - accuracy: 0.9434\n",
      "expected str, bytes or os.PathLike object, not NoneType\n",
      "0 [0.00248745]\n",
      "<class 'numpy.ndarray'> <class 'numpy.ndarray'>\n",
      "<class 'numpy.int64'> <class 'numpy.float32'>\n",
      "roc_auc_score: \n",
      " 0.8112552029282674\n",
      "Model 4/6, Metric roc_auc_score, Validation set 4: 0.811255\n",
      "\tbest_validation_score so far: 0.811255\n",
      "Fitting model 5/6\n",
      "hyperparameters: {'optimizer': 'rmsprop', 'dropout': 0.4}\n",
      "437/437 [==============================] - 1s 2ms/step - loss: 0.2538 - accuracy: 0.9220\n",
      "expected str, bytes or os.PathLike object, not NoneType\n",
      "0 [0.0010199]\n",
      "<class 'numpy.ndarray'> <class 'numpy.ndarray'>\n",
      "<class 'numpy.int64'> <class 'numpy.float32'>\n",
      "roc_auc_score: \n",
      " 0.7946270380029065\n",
      "Model 5/6, Metric roc_auc_score, Validation set 5: 0.794627\n",
      "\tbest_validation_score so far: 0.811255\n",
      "Fitting model 6/6\n",
      "hyperparameters: {'optimizer': 'rmsprop', 'dropout': 0.5}\n",
      "437/437 [==============================] - 1s 2ms/step - loss: 0.2489 - accuracy: 0.9414\n",
      "expected str, bytes or os.PathLike object, not NoneType\n",
      "0 [0.00154086]\n",
      "<class 'numpy.ndarray'> <class 'numpy.ndarray'>\n",
      "<class 'numpy.int64'> <class 'numpy.float32'>\n",
      "roc_auc_score: \n",
      " 0.8043140703452347\n",
      "Model 6/6, Metric roc_auc_score, Validation set 6: 0.804314\n",
      "\tbest_validation_score so far: 0.811255\n",
      "0 [0.00161824]\n",
      "<class 'numpy.ndarray'> <class 'numpy.ndarray'>\n",
      "<class 'numpy.int64'> <class 'numpy.float32'>\n",
      "roc_auc_score: \n",
      " 0.8115403789591782\n",
      "Best hyperparameters: ('rmsprop', 0.2)\n",
      "train_score: 0.811540\n",
      "validation_score: 0.811255\n",
      "#################\n",
      "('rmsprop', 0.2)\n",
      "SklearnModel(mode='/tmp/tmpe41ie_kw',\n",
      "             model=<tensorflow.python.keras.engine.sequential.Sequential object at 0x7f3629ed4d30>)\n",
      "0 [0.00288389]\n",
      "<class 'numpy.ndarray'> <class 'numpy.ndarray'>\n",
      "<class 'numpy.int64'> <class 'numpy.float32'>\n",
      "roc_auc_score: \n",
      " 0.8165851479929616\n",
      "0 [0.00288389]\n",
      "<class 'numpy.ndarray'> <class 'numpy.ndarray'>\n",
      "<class 'numpy.int64'> <class 'numpy.float32'>\n",
      "ERROR:  Classification metrics can't handle a mix of binary and continuous targets\n",
      "precision_score: \n",
      " 0.0\n",
      "0 [0.00288389]\n",
      "<class 'numpy.ndarray'> <class 'numpy.ndarray'>\n",
      "<class 'numpy.int64'> <class 'numpy.float32'>\n",
      "ERROR:  Classification metrics can't handle a mix of binary and continuous targets\n",
      "accuracy_score: \n",
      " 0.9435137457044673\n",
      "0 [0.00288389]\n",
      "<class 'numpy.ndarray'> <class 'numpy.ndarray'>\n",
      "<class 'numpy.int64'> <class 'numpy.float32'>\n",
      "ERROR:  Classification metrics can't handle a mix of binary and continuous targets\n",
      "confusion_matrix: \n",
      " [[4393    0]\n",
      " [ 263    0]]\n",
      "0 [0.00288389]\n",
      "<class 'numpy.ndarray'> <class 'numpy.ndarray'>\n",
      "<class 'numpy.int64'> <class 'numpy.float32'>\n",
      "ERROR:  Classification metrics can't handle a mix of binary and continuous targets\n",
      "classification_report: \n",
      "               precision    recall  f1-score   support\n",
      "\n",
      "           0       0.94      1.00      0.97      4393\n",
      "           1       0.00      0.00      0.00       263\n",
      "\n",
      "    accuracy                           0.94      4656\n",
      "   macro avg       0.47      0.50      0.49      4656\n",
      "weighted avg       0.89      0.94      0.92      4656\n",
      "\n",
      "WARNING: task averager  cannot perform reduce with flexible type\n"
     ]
    },
    {
     "name": "stderr",
     "output_type": "stream",
     "text": [
      "/opt/conda/lib/python3.6/site-packages/sklearn/metrics/_classification.py:1221: UndefinedMetricWarning: Precision is ill-defined and being set to 0.0 due to no predicted samples. Use `zero_division` parameter to control this behavior.\n",
      "  _warn_prf(average, modifier, msg_start, len(result))\n",
      "/opt/conda/lib/python3.6/site-packages/sklearn/metrics/_classification.py:1221: UndefinedMetricWarning: Precision and F-score are ill-defined and being set to 0.0 in labels with no predicted samples. Use `zero_division` parameter to control this behavior.\n",
      "  _warn_prf(average, modifier, msg_start, len(result))\n"
     ]
    },
    {
     "data": {
      "text/plain": [
       "{'roc_auc_score': 0.8165851479929616,\n",
       " 'precision_score': 0.0,\n",
       " 'accuracy_score': 0.9435137457044673,\n",
       " 'confusion_matrix': 1164.0,\n",
       " 'classification_report': None}"
      ]
     },
     "execution_count": 13,
     "metadata": {},
     "output_type": "execute_result"
    }
   ],
   "source": [
    "from parameterOptimization.HyperparameterOpt import HyperparamOpt_Valid, HyperparamOpt_CV\n",
    "#Hyperparameter Optimization\n",
    "optimizer = HyperparamOpt_Valid(create_model)\n",
    "\n",
    "params_dict = {'optimizer' : ['adam', 'rmsprop'],\n",
    "              'dropout' : [0.2, 0.4, 0.5]}\n",
    "\n",
    "best_model, best_hyperparams, all_results = optimizer.hyperparam_search(params_dict, train_dataset, \n",
    "                                                                        valid_dataset, Metric(roc_auc_score))\n",
    "\n",
    "print('#################')\n",
    "print(best_hyperparams)\n",
    "print(best_model)\n",
    "\n",
    "#Evaluate model\n",
    "best_model.evaluate(test_dataset, metrics) #check error when using more metrics"
   ]
  },
  {
   "cell_type": "code",
   "execution_count": 14,
   "metadata": {},
   "outputs": [
    {
     "name": "stdout",
     "output_type": "stream",
     "text": [
      "MODEL TYPE:  keras\n",
      "291/291 [==============================] - 0s 1ms/step - loss: 0.3296 - accuracy: 0.8993\n",
      "WARNING:tensorflow:From /opt/conda/lib/python3.6/site-packages/tensorflow/python/keras/wrappers/scikit_learn.py:241: Sequential.predict_classes (from tensorflow.python.keras.engine.sequential) is deprecated and will be removed after 2021-01-01.\n",
      "Instructions for updating:\n",
      "Please use instead:* `np.argmax(model.predict(x), axis=-1)`,   if your model does multi-class classification   (e.g. if it uses a `softmax` last-layer activation).* `(model.predict(x) > 0.5).astype(\"int32\")`,   if your model does binary classification   (e.g. if it uses a `sigmoid` last-layer activation).\n",
      "291/291 [==============================] - 0s 1ms/step - loss: 0.2253 - accuracy: 0.9434\n",
      "291/291 [==============================] - 0s 1ms/step - loss: 0.3053 - accuracy: 0.9034\n",
      "291/291 [==============================] - 0s 1ms/step - loss: 0.3111 - accuracy: 0.8953\n",
      "291/291 [==============================] - 0s 1ms/step - loss: 0.2836 - accuracy: 0.9110\n",
      "291/291 [==============================] - 0s 1ms/step - loss: 0.2840 - accuracy: 0.9026\n",
      "291/291 [==============================] - 0s 1ms/step - loss: 0.2780 - accuracy: 0.9259\n",
      "291/291 [==============================] - 0s 1ms/step - loss: 0.2738 - accuracy: 0.9346\n",
      "291/291 [==============================] - 0s 1ms/step - loss: 0.3159 - accuracy: 0.8992\n",
      "291/291 [==============================] - 0s 1ms/step - loss: 0.2323 - accuracy: 0.9428\n",
      "291/291 [==============================] - 0s 1ms/step - loss: 0.3295 - accuracy: 0.8938\n",
      "291/291 [==============================] - 0s 1ms/step - loss: 0.2550 - accuracy: 0.9383\n",
      "291/291 [==============================] - 0s 1ms/step - loss: 0.3662 - accuracy: 0.8705\n",
      "291/291 [==============================] - 0s 1ms/step - loss: 0.2536 - accuracy: 0.9423\n",
      "291/291 [==============================] - 0s 1ms/step - loss: 0.3117 - accuracy: 0.8951\n",
      "291/291 [==============================] - 0s 1ms/step - loss: 0.2354 - accuracy: 0.9432\n",
      "291/291 [==============================] - 0s 1ms/step - loss: 0.3216 - accuracy: 0.8893\n",
      "291/291 [==============================] - 0s 1ms/step - loss: 0.2531 - accuracy: 0.9418\n",
      "\n",
      " \n",
      " Best accuracy: 0.943442 using {'dropout': 0.2, 'optimizer': 'adam'}\n",
      "\n",
      " accuracy: 0.943442 (0.000101) with: {'dropout': 0.2, 'optimizer': 'adam'} \n",
      "\n",
      "\n",
      " accuracy: 0.943442 (0.000101) with: {'dropout': 0.2, 'optimizer': 'rmsprop'} \n",
      "\n",
      "\n",
      " accuracy: 0.943442 (0.000101) with: {'dropout': 0.4, 'optimizer': 'adam'} \n",
      "\n",
      "\n",
      " accuracy: 0.943442 (0.000101) with: {'dropout': 0.4, 'optimizer': 'rmsprop'} \n",
      "\n",
      "\n",
      " accuracy: 0.943442 (0.000101) with: {'dropout': 0.5, 'optimizer': 'adam'} \n",
      "\n",
      "\n",
      " accuracy: 0.943442 (0.000101) with: {'dropout': 0.5, 'optimizer': 'rmsprop'} \n",
      "\n",
      "Fitting best model!\n",
      "#################\n",
      "{'dropout': 0.2, 'optimizer': 'adam'}\n",
      "KerasModel(batch_size=None, epochs=None, model_builder=None,\n",
      "           model_dir='/tmp/tmpujxoi5o7', verbose=None)\n",
      "0 [9.9999797e-01 2.0538982e-06]\n",
      "<class 'numpy.ndarray'> <class 'numpy.ndarray'>\n",
      "<class 'numpy.int64'> <class 'numpy.float32'>\n",
      "ERROR:  y should be a 1d array, got an array of shape (4656, 2) instead.\n",
      "roc_auc_score: \n",
      " 0.5828197123145273\n",
      "0 [9.9999797e-01 2.0538982e-06]\n",
      "<class 'numpy.ndarray'> <class 'numpy.ndarray'>\n",
      "<class 'numpy.int64'> <class 'numpy.float32'>\n",
      "ERROR:  Classification metrics can't handle a mix of binary and continuous-multioutput targets\n"
     ]
    },
    {
     "name": "stderr",
     "output_type": "stream",
     "text": [
      "/opt/conda/lib/python3.6/site-packages/sklearn/base.py:213: FutureWarning: From version 0.24, get_params will raise an AttributeError if a parameter cannot be retrieved as an instance attribute. Previously it would return None.\n",
      "  FutureWarning)\n"
     ]
    },
    {
     "name": "stdout",
     "output_type": "stream",
     "text": [
      "precision_score: \n",
      " 0.6521739130434783\n",
      "0 [9.9999797e-01 2.0538982e-06]\n",
      "<class 'numpy.ndarray'> <class 'numpy.ndarray'>\n",
      "<class 'numpy.int64'> <class 'numpy.float32'>\n",
      "ERROR:  Classification metrics can't handle a mix of binary and continuous-multioutput targets\n",
      "accuracy_score: \n",
      " 0.9480240549828178\n",
      "0 [9.9999797e-01 2.0538982e-06]\n",
      "<class 'numpy.ndarray'> <class 'numpy.ndarray'>\n",
      "<class 'numpy.int64'> <class 'numpy.float32'>\n",
      "ERROR:  Classification metrics can't handle a mix of binary and continuous-multioutput targets\n",
      "confusion_matrix: \n",
      " [[4369   24]\n",
      " [ 218   45]]\n",
      "0 [9.9999797e-01 2.0538982e-06]\n",
      "<class 'numpy.ndarray'> <class 'numpy.ndarray'>\n",
      "<class 'numpy.int64'> <class 'numpy.float32'>\n",
      "ERROR:  Classification metrics can't handle a mix of binary and continuous-multioutput targets\n",
      "classification_report: \n",
      "               precision    recall  f1-score   support\n",
      "\n",
      "           0       0.95      0.99      0.97      4393\n",
      "           1       0.65      0.17      0.27       263\n",
      "\n",
      "    accuracy                           0.95      4656\n",
      "   macro avg       0.80      0.58      0.62      4656\n",
      "weighted avg       0.94      0.95      0.93      4656\n",
      "\n",
      "WARNING: task averager  cannot perform reduce with flexible type\n"
     ]
    },
    {
     "data": {
      "text/plain": [
       "{'roc_auc_score': 0.5828197123145273,\n",
       " 'precision_score': 0.6521739130434783,\n",
       " 'accuracy_score': 0.9480240549828178,\n",
       " 'confusion_matrix': 1164.0,\n",
       " 'classification_report': None}"
      ]
     },
     "execution_count": 14,
     "metadata": {},
     "output_type": "execute_result"
    }
   ],
   "source": [
    "#Hyperparameter Optimization with CV\n",
    "optimizer = HyperparamOpt_CV(create_model)\n",
    "\n",
    "best_rf, best_hyperparams, all_results = optimizer.hyperparam_search('keras',\n",
    "                                                                     params_dict, \n",
    "                                                                     train_dataset,  \n",
    "                                                                     'accuracy', \n",
    "                                                                     cv=3,\n",
    "                                                                     n_iter_search=10)\n",
    "\n",
    "print('#################')\n",
    "print(best_hyperparams)\n",
    "print(best_rf)\n",
    "#Evaluate model\n",
    "best_rf.evaluate(test_dataset, metrics)"
   ]
  },
  {
   "cell_type": "code",
   "execution_count": 15,
   "metadata": {},
   "outputs": [],
   "source": [
    "#pip install tensorflow==2.2.0"
   ]
  },
  {
   "cell_type": "code",
   "execution_count": 16,
   "metadata": {},
   "outputs": [],
   "source": [
    "\n",
    "#import tensorflow as tf\n",
    "#tf.version.VERSION"
   ]
  },
  {
   "cell_type": "code",
   "execution_count": 17,
   "metadata": {},
   "outputs": [
    {
     "data": {
      "text/plain": [
       "dict_keys(['explained_variance', 'r2', 'max_error', 'neg_median_absolute_error', 'neg_mean_absolute_error', 'neg_mean_squared_error', 'neg_mean_squared_log_error', 'neg_root_mean_squared_error', 'neg_mean_poisson_deviance', 'neg_mean_gamma_deviance', 'accuracy', 'roc_auc', 'roc_auc_ovr', 'roc_auc_ovo', 'roc_auc_ovr_weighted', 'roc_auc_ovo_weighted', 'balanced_accuracy', 'average_precision', 'neg_log_loss', 'neg_brier_score', 'adjusted_rand_score', 'homogeneity_score', 'completeness_score', 'v_measure_score', 'mutual_info_score', 'adjusted_mutual_info_score', 'normalized_mutual_info_score', 'fowlkes_mallows_score', 'precision', 'precision_macro', 'precision_micro', 'precision_samples', 'precision_weighted', 'recall', 'recall_macro', 'recall_micro', 'recall_samples', 'recall_weighted', 'f1', 'f1_macro', 'f1_micro', 'f1_samples', 'f1_weighted', 'jaccard', 'jaccard_macro', 'jaccard_micro', 'jaccard_samples', 'jaccard_weighted'])"
      ]
     },
     "execution_count": 17,
     "metadata": {},
     "output_type": "execute_result"
    }
   ],
   "source": [
    "import sklearn\n",
    "sklearn.metrics.SCORERS.keys()"
   ]
  }
 ],
 "metadata": {
  "kernelspec": {
   "display_name": "Python 3",
   "language": "python",
   "name": "python3"
  },
  "language_info": {
   "codemirror_mode": {
    "name": "ipython",
    "version": 3
   },
   "file_extension": ".py",
   "mimetype": "text/x-python",
   "name": "python",
   "nbconvert_exporter": "python",
   "pygments_lexer": "ipython3",
   "version": "3.8.3"
  }
 },
 "nbformat": 4,
 "nbformat_minor": 4
}
