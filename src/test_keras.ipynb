{
 "cells": [
  {
   "cell_type": "code",
   "execution_count": 1,
   "metadata": {},
   "outputs": [],
   "source": [
    "import tensorflow as tf\n",
    "config = tf.compat.v1.ConfigProto()\n",
    "config.gpu_options.allow_growth = True\n",
    "sess = tf.compat.v1.Session(config=config)"
   ]
  },
  {
   "cell_type": "code",
   "execution_count": 2,
   "metadata": {},
   "outputs": [],
   "source": [
    "#pip install tensorflow==2.2.0"
   ]
  },
  {
   "cell_type": "code",
   "execution_count": 3,
   "metadata": {},
   "outputs": [
    {
     "name": "stdout",
     "output_type": "stream",
     "text": [
      "2.2.0\n"
     ]
    }
   ],
   "source": [
    "from loaders.Loaders import CSVLoader\n",
    "from compoundFeaturization.rdkitFingerprints import MorganFingerprint\n",
    "from featureSelection.baseFeatureSelector import LowVarianceFS\n",
    "from splitters.splitters import SingletaskStratifiedSplitter\n",
    "from models.kerasModels import KerasModel\n",
    "from metrics.Metrics import Metric\n",
    "from metrics.metricsFunctions import roc_auc_score, precision_score, accuracy_score, confusion_matrix, classification_report\n",
    "\n",
    "\n",
    "import tensorflow as tf\n",
    "print(tf.version.VERSION)\n",
    "from tensorflow.keras.losses import binary_crossentropy"
   ]
  },
  {
   "cell_type": "code",
   "execution_count": 4,
   "metadata": {},
   "outputs": [
    {
     "name": "stdout",
     "output_type": "stream",
     "text": [
      "Mols_shape:  23290\n",
      "Features_shape:  X not defined!\n",
      "Labels_shape:  (23290,)\n",
      "None\n"
     ]
    }
   ],
   "source": [
    "#Load Dataset\n",
    "dataset = CSVLoader(dataset_path='preprocessed_dataset_wfoodb.csv', \n",
    "                    mols_field='Smiles', \n",
    "                    labels_fields='Class', \n",
    "                    id_field='ID')#, shard_size=4000)\n",
    "dataset = dataset.create_dataset()\n",
    "print(dataset.get_shape())"
   ]
  },
  {
   "cell_type": "code",
   "execution_count": 5,
   "metadata": {},
   "outputs": [
    {
     "name": "stdout",
     "output_type": "stream",
     "text": [
      "Featurizing datapoint 0\n",
      "Featurizing datapoint 1000\n",
      "Featurizing datapoint 2000\n",
      "Featurizing datapoint 3000\n",
      "Featurizing datapoint 4000\n",
      "Featurizing datapoint 5000\n",
      "Featurizing datapoint 6000\n"
     ]
    },
    {
     "name": "stderr",
     "output_type": "stream",
     "text": [
      "RDKit ERROR: [11:13:10] Explicit valence for atom # 1 Cl, 4, is greater than permitted\n"
     ]
    },
    {
     "name": "stdout",
     "output_type": "stream",
     "text": [
      "error in smile: O=[Cl]=O\n",
      "Featurizing datapoint 7000\n"
     ]
    },
    {
     "name": "stderr",
     "output_type": "stream",
     "text": [
      "RDKit ERROR: [11:13:17] Explicit valence for atom # 3 B, 4, is greater than permitted\n",
      "RDKit ERROR: [11:13:17] Explicit valence for atom # 1 Cl, 9, is greater than permitted\n"
     ]
    },
    {
     "name": "stdout",
     "output_type": "stream",
     "text": [
      "error in smile: OB1O[B]2(O)OB(O)O[B](O)(O1)O2\n",
      "error in smile: O=[Cl-](=O)(=O)=O\n",
      "Featurizing datapoint 8000\n",
      "Featurizing datapoint 9000\n",
      "Featurizing datapoint 10000\n",
      "Featurizing datapoint 11000\n",
      "Featurizing datapoint 12000\n",
      "Featurizing datapoint 13000\n",
      "Featurizing datapoint 14000\n"
     ]
    },
    {
     "name": "stderr",
     "output_type": "stream",
     "text": [
      "RDKit ERROR: [11:13:45] Explicit valence for atom # 0 P, 11, is greater than permitted\n"
     ]
    },
    {
     "name": "stdout",
     "output_type": "stream",
     "text": [
      "error in smile: [P](OCC=C(C)C)(OCC=C(C)C)(=O)(OP(OCC=C(C)C)(OCC=C(C)C)=O)(CC=C(C)C)(CC=C(C)C)(CC=C(C)C)(CC=C(C)C)(CC=C(C)C)CC=C(C)C\n",
      "Featurizing datapoint 15000\n",
      "Featurizing datapoint 16000\n",
      "Featurizing datapoint 17000\n",
      "Featurizing datapoint 18000\n",
      "Featurizing datapoint 19000\n",
      "Featurizing datapoint 20000\n",
      "Featurizing datapoint 21000\n",
      "Featurizing datapoint 22000\n",
      "Featurizing datapoint 23000\n",
      "Elements with indexes:  [6257, 7708, 7709, 14244]  were removed due to the presence of NAs!\n",
      "The elements in question are:  ['O=[Cl]=O' 'OB1O[B]2(O)OB(O)O[B](O)(O1)O2' 'O=[Cl-](=O)(=O)=O'\n",
      " '[P](OCC=C(C)C)(OCC=C(C)C)(=O)(OP(OCC=C(C)C)(OCC=C(C)C)=O)(CC=C(C)C)(CC=C(C)C)(CC=C(C)C)(CC=C(C)C)(CC=C(C)C)CC=C(C)C']\n",
      "Mols_shape:  23286\n",
      "Features_shape:  (23286, 1024)\n",
      "Labels_shape:  (23286,)\n"
     ]
    }
   ],
   "source": [
    "#Featurization\n",
    "dataset = MorganFingerprint().featurize(dataset)\n",
    "dataset.get_shape()"
   ]
  },
  {
   "cell_type": "code",
   "execution_count": 6,
   "metadata": {},
   "outputs": [
    {
     "name": "stdout",
     "output_type": "stream",
     "text": [
      "Mols_shape:  23286\n",
      "Features_shape:  (23286, 49)\n",
      "Labels_shape:  (23286,)\n"
     ]
    }
   ],
   "source": [
    "#Feature Selection\n",
    "dataset = LowVarianceFS(0.15).featureSelection(dataset)\n",
    "dataset.get_shape()"
   ]
  },
  {
   "cell_type": "code",
   "execution_count": 7,
   "metadata": {},
   "outputs": [],
   "source": [
    "#Data Split\n",
    "splitter = SingletaskStratifiedSplitter()\n",
    "train_dataset, valid_dataset, test_dataset = splitter.train_valid_test_split(dataset=dataset, frac_train=0.6, \n",
    "                                                                             frac_valid=0.2, frac_test=0.2)"
   ]
  },
  {
   "cell_type": "code",
   "execution_count": 8,
   "metadata": {
    "scrolled": true
   },
   "outputs": [],
   "source": [
    "from tensorflow.keras.wrappers.scikit_learn import KerasClassifier\n",
    "from tensorflow.keras.models import Sequential\n",
    "from tensorflow.keras.layers import Dense, Dropout\n",
    "from sklearn.model_selection import StratifiedKFold\n",
    "from sklearn.model_selection import cross_val_score\n",
    "import numpy as np\n",
    "\n",
    "\n",
    "input_dim = train_dataset.X.shape[1]\n",
    "\n",
    "\n",
    "def create_model(optimizer='adam', dropout=0.5, input_dim=input_dim):\n",
    "    # create model\n",
    "    model = Sequential()\n",
    "    model.add(Dense(12, input_dim=input_dim, activation='relu'))\n",
    "    model.add(Dropout(dropout))\n",
    "    model.add(Dense(8, activation='relu'))\n",
    "    model.add(Dense(1, activation='sigmoid'))\n",
    "    # Compile model\n",
    "    model.compile(loss='binary_crossentropy', optimizer=optimizer, metrics=['accuracy'])\n",
    "    return model\n"
   ]
  },
  {
   "cell_type": "code",
   "execution_count": 9,
   "metadata": {},
   "outputs": [],
   "source": [
    "#print(type(keras_model))\n",
    "#from sklearn.model_selection import GridSearchCV \n",
    "#model = KerasClassifier(build_fn=create_model, epochs=15, batch_size=10, verbose=1, optimizer='adam')\n",
    "\n",
    "#model.fit(train_dataset.features, train_dataset.y)\n",
    "#params={'optimizer':['adam', 'rsmprop'],  \n",
    "#        'nb_epoch':[200, 100, 300, 400]}\n",
    "\n",
    "#gs=GridSearchCV(estimator=model, param_grid=params, cv=3) \n",
    "# now fit the dataset to the GridSearchCV object.  \n",
    "#gs = gs.fit(train_dataset.features, train_dataset.y)\n",
    "\n",
    "#print(gs)\n",
    "#print(type(model))\n",
    "\n",
    "#seed = 7\n",
    "#np.random.seed(seed)\n",
    "#print(1)\n",
    "#kfold = StratifiedKFold(n_splits=2, shuffle=True, random_state=seed)\n",
    "#print(2)\n",
    "#results = cross_val_score(model, train_dataset.features, train_dataset.y, cv=kfold)\n",
    "#print(3)\n",
    "#print(results)\n",
    "\n",
    "#model = KerasModel(keras_model, binary_crossentropy)"
   ]
  },
  {
   "cell_type": "code",
   "execution_count": 10,
   "metadata": {},
   "outputs": [
    {
     "name": "stdout",
     "output_type": "stream",
     "text": [
      "49\n"
     ]
    }
   ],
   "source": [
    "from models.kerasModels import KerasModel\n",
    "\n",
    "input_dim = train_dataset.X.shape[1]\n",
    "print(input_dim)\n",
    "model = KerasModel(create_model, epochs = 5, verbose=1, optimizer='adam')#, input_dim=input_dim)\n",
    "\n"
   ]
  },
  {
   "cell_type": "code",
   "execution_count": 11,
   "metadata": {
    "scrolled": true
   },
   "outputs": [
    {
     "name": "stdout",
     "output_type": "stream",
     "text": [
      "(13968, 49) (13968,)\n",
      "kerasModels fit!\n",
      "<tensorflow.python.keras.wrappers.scikit_learn.KerasClassifier object at 0x7f261181c978>\n",
      "Epoch 1/5\n",
      "1397/1397 [==============================] - 2s 2ms/step - loss: 0.2275 - accuracy: 0.9391\n",
      "Epoch 2/5\n",
      "1397/1397 [==============================] - 2s 2ms/step - loss: 0.1863 - accuracy: 0.9433\n",
      "Epoch 3/5\n",
      "1397/1397 [==============================] - 2s 2ms/step - loss: 0.1811 - accuracy: 0.9432\n",
      "Epoch 4/5\n",
      "1397/1397 [==============================] - 2s 2ms/step - loss: 0.1759 - accuracy: 0.9448\n",
      "Epoch 5/5\n",
      "1397/1397 [==============================] - 2s 2ms/step - loss: 0.1734 - accuracy: 0.9443\n"
     ]
    }
   ],
   "source": [
    "print(train_dataset.X.shape, train_dataset.y.shape)\n",
    "\n",
    "\n",
    "model.fit(train_dataset)#.features, train_dataset.y)#, nb_epoch=50)\n"
   ]
  },
  {
   "cell_type": "code",
   "execution_count": 12,
   "metadata": {},
   "outputs": [
    {
     "name": "stdout",
     "output_type": "stream",
     "text": [
      "WARNING:tensorflow:From /opt/conda/lib/python3.6/site-packages/tensorflow/python/keras/wrappers/scikit_learn.py:264: Sequential.predict_proba (from tensorflow.python.keras.engine.sequential) is deprecated and will be removed after 2021-01-01.\n",
      "Instructions for updating:\n",
      "Please use `model.predict()` instead.\n",
      "1397/1397 [==============================] - 1s 765us/step\n",
      "roc_auc_score: \n",
      " 0.5199619457225731\n",
      "precision_score: \n",
      " 0.8205128205128205\n",
      "accuracy_score: \n",
      " 0.9451603665521191\n",
      "confusion_matrix: \n",
      " [[13170     7]\n",
      " [  759    32]]\n",
      "classification_report: \n",
      "               precision    recall  f1-score   support\n",
      "\n",
      "           0       0.95      1.00      0.97     13177\n",
      "           1       0.82      0.04      0.08       791\n",
      "\n",
      "    accuracy                           0.95     13968\n",
      "   macro avg       0.88      0.52      0.52     13968\n",
      "weighted avg       0.94      0.95      0.92     13968\n",
      "\n",
      "WARNING: task averager  cannot perform reduce with flexible type\n",
      "training set score: {'roc_auc_score': 0.5199619457225731, 'precision_score': 0.8205128205128205, 'accuracy_score': 0.9451603665521191, 'confusion_matrix': 3492.0, 'classification_report': None}\n",
      "466/466 [==============================] - 0s 764us/step\n",
      "roc_auc_score: \n",
      " 0.5186699545336125\n",
      "precision_score: \n",
      " 0.7692307692307693\n",
      "accuracy_score: \n",
      " 0.9450171821305842\n",
      "confusion_matrix: \n",
      " [[4390    3]\n",
      " [ 253   10]]\n",
      "classification_report: \n",
      "               precision    recall  f1-score   support\n",
      "\n",
      "           0       0.95      1.00      0.97      4393\n",
      "           1       0.77      0.04      0.07       263\n",
      "\n",
      "    accuracy                           0.95      4656\n",
      "   macro avg       0.86      0.52      0.52      4656\n",
      "weighted avg       0.94      0.95      0.92      4656\n",
      "\n",
      "WARNING: task averager  cannot perform reduce with flexible type\n",
      "test set score: {'roc_auc_score': 0.5186699545336125, 'precision_score': 0.7692307692307693, 'accuracy_score': 0.9450171821305842, 'confusion_matrix': 1164.0, 'classification_report': None}\n"
     ]
    }
   ],
   "source": [
    "metrics = [Metric(roc_auc_score), \n",
    "           Metric(precision_score), \n",
    "           Metric(accuracy_score), \n",
    "           Metric(confusion_matrix), \n",
    "           Metric(classification_report)]\n",
    "\n",
    "\n",
    "print('training set score:', model.evaluate(train_dataset, metrics))\n",
    "print('test set score:', model.evaluate(test_dataset, metrics))"
   ]
  },
  {
   "cell_type": "code",
   "execution_count": null,
   "metadata": {},
   "outputs": [
    {
     "name": "stdout",
     "output_type": "stream",
     "text": [
      "MODE:  classification\n",
      "Fitting 6 random models from a space of 6 possible models.\n",
      "Fitting model 1/6\n",
      "hyperparameters: {'optimizer': 'adam', 'dropout': 0.2}\n",
      "430/437 [============================>.] - ETA: 0s - loss: 0.2558 - accuracy: 0.9310"
     ]
    }
   ],
   "source": [
    "from parameterOptimization.HyperparameterOpt import HyperparamOpt_Valid, HyperparamOpt_CV\n",
    "#Hyperparameter Optimization\n",
    "optimizer = HyperparamOpt_Valid(create_model)\n",
    "\n",
    "params_dict = {'optimizer' : ['adam', 'rmsprop'],\n",
    "              'dropout' : [0.2, 0.4, 0.5]}\n",
    "\n",
    "best_model, best_hyperparams, all_results = optimizer.hyperparam_search(params_dict, train_dataset, \n",
    "                                                                        valid_dataset, Metric(roc_auc_score))\n",
    "\n",
    "print('#################')\n",
    "print(best_hyperparams)\n",
    "print(best_model)\n",
    "\n",
    "#Evaluate model\n",
    "best_model.evaluate(test_dataset, Metric(roc_auc_score)) #check error when using more metrics"
   ]
  },
  {
   "cell_type": "code",
   "execution_count": null,
   "metadata": {},
   "outputs": [],
   "source": [
    "#Hyperparameter Optimization with CV\n",
    "optimizer = HyperparamOpt_CV(create_model)\n",
    "\n",
    "best_rf, best_hyperparams, all_results = optimizer.hyperparam_search('keras',\n",
    "                                                                     params_dict, \n",
    "                                                                     train_dataset,  \n",
    "                                                                     'accuracy', \n",
    "                                                                     cv=3,\n",
    "                                                                     n_iter_search=10)\n",
    "\n",
    "print('#################')\n",
    "print(best_hyperparams)\n",
    "print(best_rf)\n",
    "#Evaluate model\n",
    "best_rf.evaluate(test_dataset, metrics) #solve problem with kerasclassifier/regressor and evaluate method "
   ]
  },
  {
   "cell_type": "code",
   "execution_count": null,
   "metadata": {},
   "outputs": [],
   "source": [
    "#pip install tensorflow==2.2.0"
   ]
  },
  {
   "cell_type": "code",
   "execution_count": null,
   "metadata": {},
   "outputs": [],
   "source": [
    "\n",
    "#import tensorflow as tf\n",
    "#tf.version.VERSION"
   ]
  },
  {
   "cell_type": "code",
   "execution_count": null,
   "metadata": {},
   "outputs": [],
   "source": [
    "import sklearn\n",
    "sklearn.metrics.SCORERS.keys()"
   ]
  }
 ],
 "metadata": {
  "kernelspec": {
   "display_name": "Python 3",
   "language": "python",
   "name": "python3"
  },
  "language_info": {
   "codemirror_mode": {
    "name": "ipython",
    "version": 3
   },
   "file_extension": ".py",
   "mimetype": "text/x-python",
   "name": "python",
   "nbconvert_exporter": "python",
   "pygments_lexer": "ipython3",
   "version": "3.6.2"
  }
 },
 "nbformat": 4,
 "nbformat_minor": 4
}
