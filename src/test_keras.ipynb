{
 "cells": [
  {
   "cell_type": "code",
   "execution_count": 1,
   "metadata": {},
   "outputs": [],
   "source": [
    "import tensorflow as tf\n",
    "config = tf.compat.v1.ConfigProto()\n",
    "config.gpu_options.allow_growth = True\n",
    "sess = tf.compat.v1.Session(config=config)"
   ]
  },
  {
   "cell_type": "code",
   "execution_count": 2,
   "metadata": {},
   "outputs": [],
   "source": [
    "#pip install tensorflow==2.2.0"
   ]
  },
  {
   "cell_type": "code",
   "execution_count": 3,
   "metadata": {},
   "outputs": [
    {
     "name": "stdout",
     "output_type": "stream",
     "text": [
      "2.2.0\n"
     ]
    }
   ],
   "source": [
    "from loaders.Loaders import CSVLoader\n",
    "from compoundFeaturization.rdkitFingerprints import MorganFingerprint\n",
    "from featureSelection.baseFeatureSelector import LowVarianceFS\n",
    "from splitters.splitters import SingletaskStratifiedSplitter\n",
    "from models.kerasModels import KerasModel\n",
    "from metrics.Metrics import Metric\n",
    "from metrics.metricsFunctions import roc_auc_score, precision_score, accuracy_score, confusion_matrix, classification_report\n",
    "\n",
    "\n",
    "import tensorflow as tf\n",
    "print(tf.version.VERSION)\n",
    "from tensorflow.keras.losses import binary_crossentropy"
   ]
  },
  {
   "cell_type": "code",
   "execution_count": 4,
   "metadata": {},
   "outputs": [
    {
     "name": "stdout",
     "output_type": "stream",
     "text": [
      "Mols_shape:  23290\n",
      "Features_shape:  X not defined!\n",
      "Labels_shape:  (23290,)\n",
      "None\n"
     ]
    }
   ],
   "source": [
    "#Load Dataset\n",
    "dataset = CSVLoader(dataset_path='preprocessed_dataset_wfoodb.csv', \n",
    "                    mols_field='Smiles', \n",
    "                    labels_fields='Class', \n",
    "                    id_field='ID')#, shard_size=4000)\n",
    "dataset = dataset.create_dataset()\n",
    "print(dataset.get_shape())"
   ]
  },
  {
   "cell_type": "code",
   "execution_count": 5,
   "metadata": {},
   "outputs": [
    {
     "name": "stdout",
     "output_type": "stream",
     "text": [
      "Featurizing datapoint 0\n",
      "Featurizing datapoint 1000\n",
      "Featurizing datapoint 2000\n",
      "Featurizing datapoint 3000\n",
      "Featurizing datapoint 4000\n",
      "Featurizing datapoint 5000\n",
      "Featurizing datapoint 6000\n"
     ]
    },
    {
     "name": "stderr",
     "output_type": "stream",
     "text": [
      "RDKit ERROR: [16:52:43] Explicit valence for atom # 1 Cl, 4, is greater than permitted\n"
     ]
    },
    {
     "name": "stdout",
     "output_type": "stream",
     "text": [
      "error in smile: O=[Cl]=O\n",
      "Featurizing datapoint 7000\n"
     ]
    },
    {
     "name": "stderr",
     "output_type": "stream",
     "text": [
      "RDKit ERROR: [16:52:47] Explicit valence for atom # 3 B, 4, is greater than permitted\n",
      "RDKit ERROR: [16:52:47] Explicit valence for atom # 1 Cl, 9, is greater than permitted\n"
     ]
    },
    {
     "name": "stdout",
     "output_type": "stream",
     "text": [
      "error in smile: OB1O[B]2(O)OB(O)O[B](O)(O1)O2\n",
      "error in smile: O=[Cl-](=O)(=O)=O\n",
      "Featurizing datapoint 8000\n",
      "Featurizing datapoint 9000\n",
      "Featurizing datapoint 10000\n",
      "Featurizing datapoint 11000\n",
      "Featurizing datapoint 12000\n",
      "Featurizing datapoint 13000\n",
      "Featurizing datapoint 14000\n"
     ]
    },
    {
     "name": "stderr",
     "output_type": "stream",
     "text": [
      "RDKit ERROR: [16:53:02] Explicit valence for atom # 0 P, 11, is greater than permitted\n"
     ]
    },
    {
     "name": "stdout",
     "output_type": "stream",
     "text": [
      "error in smile: [P](OCC=C(C)C)(OCC=C(C)C)(=O)(OP(OCC=C(C)C)(OCC=C(C)C)=O)(CC=C(C)C)(CC=C(C)C)(CC=C(C)C)(CC=C(C)C)(CC=C(C)C)CC=C(C)C\n",
      "Featurizing datapoint 15000\n",
      "Featurizing datapoint 16000\n",
      "Featurizing datapoint 17000\n",
      "Featurizing datapoint 18000\n",
      "Featurizing datapoint 19000\n",
      "Featurizing datapoint 20000\n",
      "Featurizing datapoint 21000\n",
      "Featurizing datapoint 22000\n",
      "Featurizing datapoint 23000\n",
      "Elements with indexes:  [6257, 7708, 7709, 14244]  were removed due to the presence of NAs!\n",
      "The elements in question are:  ['O=[Cl]=O' 'OB1O[B]2(O)OB(O)O[B](O)(O1)O2' 'O=[Cl-](=O)(=O)=O'\n",
      " '[P](OCC=C(C)C)(OCC=C(C)C)(=O)(OP(OCC=C(C)C)(OCC=C(C)C)=O)(CC=C(C)C)(CC=C(C)C)(CC=C(C)C)(CC=C(C)C)(CC=C(C)C)CC=C(C)C']\n",
      "Mols_shape:  23286\n",
      "Features_shape:  (23286, 1024)\n",
      "Labels_shape:  (23286,)\n"
     ]
    }
   ],
   "source": [
    "#Featurization\n",
    "dataset = MorganFingerprint().featurize(dataset)\n",
    "dataset.get_shape()"
   ]
  },
  {
   "cell_type": "code",
   "execution_count": 6,
   "metadata": {},
   "outputs": [
    {
     "name": "stdout",
     "output_type": "stream",
     "text": [
      "Mols_shape:  23286\n",
      "Features_shape:  (23286, 49)\n",
      "Labels_shape:  (23286,)\n"
     ]
    }
   ],
   "source": [
    "#Feature Selection\n",
    "dataset = LowVarianceFS(0.15).featureSelection(dataset)\n",
    "dataset.get_shape()"
   ]
  },
  {
   "cell_type": "code",
   "execution_count": 7,
   "metadata": {},
   "outputs": [],
   "source": [
    "#Data Split\n",
    "splitter = SingletaskStratifiedSplitter()\n",
    "train_dataset, valid_dataset, test_dataset = splitter.train_valid_test_split(dataset=dataset, frac_train=0.6, \n",
    "                                                                             frac_valid=0.2, frac_test=0.2)"
   ]
  },
  {
   "cell_type": "code",
   "execution_count": 8,
   "metadata": {
    "scrolled": true
   },
   "outputs": [],
   "source": [
    "from tensorflow.keras.wrappers.scikit_learn import KerasClassifier\n",
    "from tensorflow.keras.models import Sequential\n",
    "from tensorflow.keras.layers import Dense, Dropout\n",
    "from sklearn.model_selection import StratifiedKFold\n",
    "from sklearn.model_selection import cross_val_score\n",
    "import numpy as np\n",
    "\n",
    "\n",
    "input_dim = train_dataset.X.shape[1]\n",
    "\n",
    "\n",
    "def create_model(optimizer='adam', dropout=0.5, input_dim=input_dim):\n",
    "    # create model\n",
    "    model = Sequential()\n",
    "    model.add(Dense(12, input_dim=input_dim, activation='relu'))\n",
    "    model.add(Dropout(dropout))\n",
    "    model.add(Dense(8, activation='relu'))\n",
    "    model.add(Dense(1, activation='sigmoid'))\n",
    "    # Compile model\n",
    "    model.compile(loss='binary_crossentropy', optimizer=optimizer, metrics=['accuracy'])\n",
    "    return model\n"
   ]
  },
  {
   "cell_type": "code",
   "execution_count": 9,
   "metadata": {},
   "outputs": [],
   "source": [
    "#print(type(keras_model))\n",
    "#from sklearn.model_selection import GridSearchCV \n",
    "#model = KerasClassifier(build_fn=create_model, epochs=15, batch_size=10, verbose=1, optimizer='adam')\n",
    "\n",
    "#model.fit(train_dataset.features, train_dataset.y)\n",
    "#params={'optimizer':['adam', 'rsmprop'],  \n",
    "#        'nb_epoch':[200, 100, 300, 400]}\n",
    "\n",
    "#gs=GridSearchCV(estimator=model, param_grid=params, cv=3) \n",
    "# now fit the dataset to the GridSearchCV object.  \n",
    "#gs = gs.fit(train_dataset.features, train_dataset.y)\n",
    "\n",
    "#print(gs)\n",
    "#print(type(model))\n",
    "\n",
    "#seed = 7\n",
    "#np.random.seed(seed)\n",
    "#print(1)\n",
    "#kfold = StratifiedKFold(n_splits=2, shuffle=True, random_state=seed)\n",
    "#print(2)\n",
    "#results = cross_val_score(model, train_dataset.features, train_dataset.y, cv=kfold)\n",
    "#print(3)\n",
    "#print(results)\n",
    "\n",
    "#model = KerasModel(keras_model, binary_crossentropy)"
   ]
  },
  {
   "cell_type": "code",
   "execution_count": 10,
   "metadata": {},
   "outputs": [
    {
     "name": "stdout",
     "output_type": "stream",
     "text": [
      "49\n"
     ]
    }
   ],
   "source": [
    "from models.kerasModels import KerasModel\n",
    "\n",
    "input_dim = train_dataset.X.shape[1]\n",
    "print(input_dim)\n",
    "model = KerasModel(create_model, epochs = 5, verbose=1, optimizer='adam')#, input_dim=input_dim)\n",
    "\n"
   ]
  },
  {
   "cell_type": "code",
   "execution_count": 11,
   "metadata": {
    "scrolled": true
   },
   "outputs": [
    {
     "name": "stdout",
     "output_type": "stream",
     "text": [
      "(13968, 49) (13968,)\n",
      "kerasModels fit!\n",
      "<tensorflow.python.keras.wrappers.scikit_learn.KerasClassifier object at 0x7f325d5ad208>\n",
      "Epoch 1/5\n",
      "1397/1397 [==============================] - 2s 1ms/step - loss: 0.2295 - accuracy: 0.9381\n",
      "Epoch 2/5\n",
      "1397/1397 [==============================] - 3s 2ms/step - loss: 0.1868 - accuracy: 0.9434\n",
      "Epoch 3/5\n",
      "1397/1397 [==============================] - 2s 1ms/step - loss: 0.1783 - accuracy: 0.9435\n",
      "Epoch 4/5\n",
      "1397/1397 [==============================] - 2s 1ms/step - loss: 0.1756 - accuracy: 0.9434\n",
      "Epoch 5/5\n",
      "1397/1397 [==============================] - 2s 1ms/step - loss: 0.1731 - accuracy: 0.9440\n"
     ]
    }
   ],
   "source": [
    "print(train_dataset.X.shape, train_dataset.y.shape)\n",
    "\n",
    "\n",
    "model.fit(train_dataset)#.features, train_dataset.y)#, nb_epoch=50)\n"
   ]
  },
  {
   "cell_type": "code",
   "execution_count": 16,
   "metadata": {},
   "outputs": [
    {
     "name": "stdout",
     "output_type": "stream",
     "text": [
      "1397/1397 [==============================] - 1s 738us/step\n",
      "N_TASKS:  1\n",
      "roc_auc_score: \n",
      " 0.5098989301309625\n",
      "N_TASKS:  1\n",
      "precision_score: \n",
      " 0.7272727272727273\n",
      "N_TASKS:  1\n",
      "accuracy_score: \n",
      " 0.9441580756013745\n",
      "N_TASKS:  1\n",
      "confusion_matrix: \n",
      " [[13172     6]\n",
      " [  774    16]]\n",
      "N_TASKS:  1\n",
      "classification_report: \n",
      "               precision    recall  f1-score   support\n",
      "\n",
      "           0       0.94      1.00      0.97     13178\n",
      "           1       0.73      0.02      0.04       790\n",
      "\n",
      "    accuracy                           0.94     13968\n",
      "   macro avg       0.84      0.51      0.51     13968\n",
      "weighted avg       0.93      0.94      0.92     13968\n",
      "\n",
      "WARNING: task averager  cannot perform reduce with flexible type\n",
      "training set score: {'roc_auc_score': 0.5098989301309625, 'precision_score': 0.7272727272727273, 'accuracy_score': 0.9441580756013745, 'confusion_matrix': 3492.0, 'classification_report': None}\n",
      "466/466 [==============================] - 0s 793us/step\n",
      "N_TASKS:  1\n",
      "roc_auc_score: \n",
      " 0.5092780685483906\n",
      "N_TASKS:  1\n",
      "precision_score: \n",
      " 0.7142857142857143\n",
      "N_TASKS:  1\n",
      "accuracy_score: \n",
      " 0.9441580756013745\n",
      "N_TASKS:  1\n",
      "confusion_matrix: \n",
      " [[4391    2]\n",
      " [ 258    5]]\n",
      "N_TASKS:  1\n",
      "classification_report: \n",
      "               precision    recall  f1-score   support\n",
      "\n",
      "           0       0.94      1.00      0.97      4393\n",
      "           1       0.71      0.02      0.04       263\n",
      "\n",
      "    accuracy                           0.94      4656\n",
      "   macro avg       0.83      0.51      0.50      4656\n",
      "weighted avg       0.93      0.94      0.92      4656\n",
      "\n",
      "WARNING: task averager  cannot perform reduce with flexible type\n",
      "test set score: {'roc_auc_score': 0.5092780685483906, 'precision_score': 0.7142857142857143, 'accuracy_score': 0.9441580756013745, 'confusion_matrix': 1164.0, 'classification_report': None}\n"
     ]
    }
   ],
   "source": [
    "metrics = [Metric(roc_auc_score), \n",
    "           Metric(precision_score), \n",
    "           Metric(accuracy_score), \n",
    "           Metric(confusion_matrix), \n",
    "           Metric(classification_report)]\n",
    "\n",
    "\n",
    "print('training set score:', model.evaluate(train_dataset, metrics))\n",
    "print('test set score:', model.evaluate(test_dataset, metrics))"
   ]
  },
  {
   "cell_type": "code",
   "execution_count": 17,
   "metadata": {},
   "outputs": [
    {
     "name": "stdout",
     "output_type": "stream",
     "text": [
      "MODE:  classification\n",
      "Fitting 6 random models from a space of 6 possible models.\n",
      "Fitting model 1/6\n",
      "hyperparameters: {'optimizer': 'adam', 'dropout': 0.2}\n",
      "437/437 [==============================] - 1s 1ms/step - loss: 0.2423 - accuracy: 0.9287\n",
      "expected str, bytes or os.PathLike object, not NoneType\n",
      "N_TASKS:  1\n",
      "roc_auc_score: \n",
      " 0.8079982066180296\n",
      "Model 1/6, Metric roc_auc_score, Validation set 1: 0.807998\n",
      "\tbest_validation_score so far: 0.807998\n",
      "Fitting model 2/6\n",
      "hyperparameters: {'optimizer': 'adam', 'dropout': 0.4}\n",
      "437/437 [==============================] - 1s 1ms/step - loss: 0.2765 - accuracy: 0.9121\n",
      "expected str, bytes or os.PathLike object, not NoneType\n",
      "N_TASKS:  1\n",
      "roc_auc_score: \n",
      " 0.791302530209225\n",
      "Model 2/6, Metric roc_auc_score, Validation set 2: 0.791303\n",
      "\tbest_validation_score so far: 0.807998\n",
      "Fitting model 3/6\n",
      "hyperparameters: {'optimizer': 'adam', 'dropout': 0.5}\n",
      "437/437 [==============================] - 1s 1ms/step - loss: 0.3158 - accuracy: 0.9025\n",
      "expected str, bytes or os.PathLike object, not NoneType\n",
      "N_TASKS:  1\n",
      "roc_auc_score: \n",
      " 0.797371206698524\n",
      "Model 3/6, Metric roc_auc_score, Validation set 3: 0.797371\n",
      "\tbest_validation_score so far: 0.807998\n",
      "Fitting model 4/6\n",
      "hyperparameters: {'optimizer': 'rmsprop', 'dropout': 0.2}\n",
      "437/437 [==============================] - 1s 2ms/step - loss: 0.2891 - accuracy: 0.8953\n",
      "expected str, bytes or os.PathLike object, not NoneType\n",
      "N_TASKS:  1\n",
      "roc_auc_score: \n",
      " 0.8051198804873636\n",
      "Model 4/6, Metric roc_auc_score, Validation set 4: 0.805120\n",
      "\tbest_validation_score so far: 0.807998\n",
      "Fitting model 5/6\n",
      "hyperparameters: {'optimizer': 'rmsprop', 'dropout': 0.4}\n",
      "437/437 [==============================] - 1s 2ms/step - loss: 0.2298 - accuracy: 0.9406\n",
      "expected str, bytes or os.PathLike object, not NoneType\n",
      "N_TASKS:  1\n",
      "roc_auc_score: \n",
      " 0.8057452272410567\n",
      "Model 5/6, Metric roc_auc_score, Validation set 5: 0.805745\n",
      "\tbest_validation_score so far: 0.807998\n",
      "Fitting model 6/6\n",
      "hyperparameters: {'optimizer': 'rmsprop', 'dropout': 0.5}\n",
      "437/437 [==============================] - 1s 2ms/step - loss: 0.2883 - accuracy: 0.9134\n",
      "expected str, bytes or os.PathLike object, not NoneType\n",
      "N_TASKS:  1\n",
      "roc_auc_score: \n",
      " 0.7781248079601232\n",
      "Model 6/6, Metric roc_auc_score, Validation set 6: 0.778125\n",
      "\tbest_validation_score so far: 0.807998\n",
      "N_TASKS:  1\n",
      "roc_auc_score: \n",
      " 0.8008433215312825\n",
      "Best hyperparameters: ('adam', 0.2)\n",
      "train_score: 0.800843\n",
      "validation_score: 0.807998\n",
      "#################\n",
      "('adam', 0.2)\n",
      "SklearnModel(mode='/tmp/tmpv8jtb2ue',\n",
      "             model=<tensorflow.python.keras.engine.sequential.Sequential object at 0x7f30842719b0>)\n",
      "N_TASKS:  1\n",
      "roc_auc_score: \n",
      " 0.7953869749575673\n"
     ]
    },
    {
     "data": {
      "text/plain": [
       "{'roc_auc_score': 0.7953869749575673}"
      ]
     },
     "execution_count": 17,
     "metadata": {},
     "output_type": "execute_result"
    }
   ],
   "source": [
    "from parameterOptimization.HyperparameterOpt import HyperparamOpt_Valid, HyperparamOpt_CV\n",
    "#Hyperparameter Optimization\n",
    "optimizer = HyperparamOpt_Valid(create_model)\n",
    "\n",
    "params_dict = {'optimizer' : ['adam', 'rmsprop'],\n",
    "              'dropout' : [0.2, 0.4, 0.5]}\n",
    "\n",
    "best_model, best_hyperparams, all_results = optimizer.hyperparam_search(params_dict, train_dataset, \n",
    "                                                                        valid_dataset, Metric(roc_auc_score))\n",
    "\n",
    "print('#################')\n",
    "print(best_hyperparams)\n",
    "print(best_model)\n",
    "\n",
    "#Evaluate model\n",
    "best_model.evaluate(test_dataset, Metric(roc_auc_score)) #check error when using more metrics"
   ]
  },
  {
   "cell_type": "code",
   "execution_count": 18,
   "metadata": {},
   "outputs": [
    {
     "name": "stdout",
     "output_type": "stream",
     "text": [
      "MODEL TYPE:  keras\n",
      "291/291 [==============================] - 0s 1ms/step - loss: 0.2323 - accuracy: 0.9431\n",
      "WARNING:tensorflow:From /opt/conda/lib/python3.6/site-packages/tensorflow/python/keras/wrappers/scikit_learn.py:241: Sequential.predict_classes (from tensorflow.python.keras.engine.sequential) is deprecated and will be removed after 2021-01-01.\n",
      "Instructions for updating:\n",
      "Please use instead:* `np.argmax(model.predict(x), axis=-1)`,   if your model does multi-class classification   (e.g. if it uses a `softmax` last-layer activation).* `(model.predict(x) > 0.5).astype(\"int32\")`,   if your model does binary classification   (e.g. if it uses a `sigmoid` last-layer activation).\n",
      "291/291 [==============================] - 0s 1ms/step - loss: 0.2688 - accuracy: 0.9257\n",
      "291/291 [==============================] - 0s 1ms/step - loss: 0.2852 - accuracy: 0.9034\n",
      "291/291 [==============================] - 0s 1ms/step - loss: 0.2720 - accuracy: 0.9292\n",
      "291/291 [==============================] - 1s 2ms/step - loss: 0.3082 - accuracy: 0.9302\n",
      "291/291 [==============================] - 0s 2ms/step - loss: 0.2375 - accuracy: 0.9375\n",
      "291/291 [==============================] - 1s 2ms/step - loss: 0.4024 - accuracy: 0.8495\n",
      "291/291 [==============================] - 0s 1ms/step - loss: 0.4241 - accuracy: 0.8218\n",
      "291/291 [==============================] - 0s 1ms/step - loss: 0.3330 - accuracy: 0.8901\n",
      "291/291 [==============================] - 1s 2ms/step - loss: 0.3055 - accuracy: 0.9252\n",
      "291/291 [==============================] - 1s 2ms/step - loss: 0.2742 - accuracy: 0.9147\n",
      "291/291 [==============================] - 1s 2ms/step - loss: 0.2567 - accuracy: 0.9421\n",
      "291/291 [==============================] - 0s 1ms/step - loss: 0.2774 - accuracy: 0.9279\n",
      "291/291 [==============================] - 0s 1ms/step - loss: 0.3152 - accuracy: 0.9296\n",
      "291/291 [==============================] - 0s 2ms/step - loss: 0.2995 - accuracy: 0.9255\n",
      "291/291 [==============================] - 0s 2ms/step - loss: 0.2805 - accuracy: 0.9274\n",
      "291/291 [==============================] - 0s 1ms/step - loss: 0.2324 - accuracy: 0.9399\n",
      "291/291 [==============================] - 1s 2ms/step - loss: 0.3243 - accuracy: 0.9047\n",
      "437/437 [==============================] - 1s 1ms/step - loss: 0.2538 - accuracy: 0.9211\n",
      "\n",
      " \n",
      " Best accuracy: 0.943442 using {'dropout': 0.2, 'optimizer': 'adam'}\n",
      "\n",
      " accuracy: 0.943442 (0.000101) with: {'dropout': 0.2, 'optimizer': 'adam'} \n",
      "\n",
      "\n",
      " accuracy: 0.943442 (0.000101) with: {'dropout': 0.2, 'optimizer': 'rmsprop'} \n",
      "\n",
      "\n",
      " accuracy: 0.943442 (0.000101) with: {'dropout': 0.4, 'optimizer': 'adam'} \n",
      "\n",
      "\n",
      " accuracy: 0.943442 (0.000101) with: {'dropout': 0.4, 'optimizer': 'rmsprop'} \n",
      "\n",
      "\n",
      " accuracy: 0.943442 (0.000101) with: {'dropout': 0.5, 'optimizer': 'adam'} \n",
      "\n",
      "\n",
      " accuracy: 0.943442 (0.000101) with: {'dropout': 0.5, 'optimizer': 'rmsprop'} \n",
      "\n",
      "#################\n",
      "{'dropout': 0.2, 'optimizer': 'adam'}\n",
      "<tensorflow.python.keras.wrappers.scikit_learn.KerasClassifier object at 0x7f30b873f0f0>\n"
     ]
    },
    {
     "ename": "AttributeError",
     "evalue": "'KerasClassifier' object has no attribute 'evaluate'",
     "output_type": "error",
     "traceback": [
      "\u001b[0;31m---------------------------------------------------------------------------\u001b[0m",
      "\u001b[0;31mAttributeError\u001b[0m                            Traceback (most recent call last)",
      "\u001b[0;32m<ipython-input-18-ee0c47eaaa46>\u001b[0m in \u001b[0;36m<module>\u001b[0;34m\u001b[0m\n\u001b[1;32m     13\u001b[0m \u001b[0mprint\u001b[0m\u001b[0;34m(\u001b[0m\u001b[0mbest_rf\u001b[0m\u001b[0;34m)\u001b[0m\u001b[0;34m\u001b[0m\u001b[0m\n\u001b[1;32m     14\u001b[0m \u001b[0;31m#Evaluate model\u001b[0m\u001b[0;34m\u001b[0m\u001b[0;34m\u001b[0m\u001b[0m\n\u001b[0;32m---> 15\u001b[0;31m \u001b[0mbest_rf\u001b[0m\u001b[0;34m.\u001b[0m\u001b[0mevaluate\u001b[0m\u001b[0;34m(\u001b[0m\u001b[0mtest_dataset\u001b[0m\u001b[0;34m,\u001b[0m \u001b[0mmetrics\u001b[0m\u001b[0;34m)\u001b[0m\u001b[0;34m\u001b[0m\u001b[0m\n\u001b[0m",
      "\u001b[0;31mAttributeError\u001b[0m: 'KerasClassifier' object has no attribute 'evaluate'"
     ]
    }
   ],
   "source": [
    "#Hyperparameter Optimization with CV\n",
    "optimizer = HyperparamOpt_CV(create_model)\n",
    "\n",
    "best_rf, best_hyperparams, all_results = optimizer.hyperparam_search('keras',\n",
    "                                                                     params_dict, \n",
    "                                                                     train_dataset,  \n",
    "                                                                     'accuracy', \n",
    "                                                                     cv=3,\n",
    "                                                                     n_iter_search=10)\n",
    "\n",
    "print('#################')\n",
    "print(best_hyperparams)\n",
    "print(best_rf)\n",
    "#Evaluate model\n",
    "#best_rf.evaluate(test_dataset, metrics) #solve problem with kerasclassifier/regressor and evaluate method "
   ]
  },
  {
   "cell_type": "code",
   "execution_count": null,
   "metadata": {},
   "outputs": [],
   "source": [
    "#pip install tensorflow==2.2.0"
   ]
  },
  {
   "cell_type": "code",
   "execution_count": null,
   "metadata": {},
   "outputs": [],
   "source": [
    "\n",
    "#import tensorflow as tf\n",
    "#tf.version.VERSION"
   ]
  },
  {
   "cell_type": "code",
   "execution_count": null,
   "metadata": {},
   "outputs": [],
   "source": [
    "import sklearn\n",
    "sklearn.metrics.SCORERS.keys()"
   ]
  }
 ],
 "metadata": {
  "kernelspec": {
   "display_name": "Python 3",
   "language": "python",
   "name": "python3"
  },
  "language_info": {
   "codemirror_mode": {
    "name": "ipython",
    "version": 3
   },
   "file_extension": ".py",
   "mimetype": "text/x-python",
   "name": "python",
   "nbconvert_exporter": "python",
   "pygments_lexer": "ipython3",
   "version": "3.6.2"
  }
 },
 "nbformat": 4,
 "nbformat_minor": 4
}
