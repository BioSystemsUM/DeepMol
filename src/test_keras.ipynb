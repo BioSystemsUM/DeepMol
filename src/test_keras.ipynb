{
 "cells": [
  {
   "cell_type": "code",
   "execution_count": null,
   "metadata": {},
   "outputs": [],
   "source": [
    "import tensorflow as tf\n",
    "config = tf.compat.v1.ConfigProto()\n",
    "config.gpu_options.allow_growth = True\n",
    "sess = tf.compat.v1.Session(config=config)"
   ]
  },
  {
   "cell_type": "code",
   "execution_count": 15,
   "metadata": {},
   "outputs": [
    {
     "name": "stdout",
     "output_type": "stream",
     "text": [
      "2.2.0\n"
     ]
    }
   ],
   "source": [
    "from Dataset.Dataset import CSVLoader\n",
    "from compoundFeaturization.rdkitFingerprints import MorganFingerprint\n",
    "from featureSelection.baseFeatureSelector import LowVarianceFS\n",
    "from splitters.splitters import SingletaskStratifiedSplitter\n",
    "from models.kerasModels import KerasModel\n",
    "from metrics.Metrics import Metric\n",
    "from metrics.metricsFunctions import roc_auc_score, precision_score, accuracy_score, confusion_matrix, classification_report\n",
    "\n",
    "\n",
    "import tensorflow as tf\n",
    "print(tf.version.VERSION)\n",
    "from tensorflow.keras.losses import binary_crossentropy"
   ]
  },
  {
   "cell_type": "code",
   "execution_count": 16,
   "metadata": {},
   "outputs": [
    {
     "name": "stdout",
     "output_type": "stream",
     "text": [
      "(23290,) (23290,) (0,) (23290,)\n",
      "((23290,), (23290,), (0,), (23290,))\n"
     ]
    }
   ],
   "source": [
    "#Load Dataset\n",
    "dataset = CSVLoader('preprocessed_dataset_wfoodb.csv', 'Smiles', ['Class'], 'ID')#, chunk_size=4000)\n",
    "print(dataset.get_shape())"
   ]
  },
  {
   "cell_type": "code",
   "execution_count": 17,
   "metadata": {},
   "outputs": [
    {
     "name": "stdout",
     "output_type": "stream",
     "text": [
      "Featurizing datapoint 0\n",
      "Featurizing datapoint 1000\n",
      "Featurizing datapoint 2000\n",
      "Featurizing datapoint 3000\n",
      "Featurizing datapoint 4000\n",
      "Featurizing datapoint 5000\n",
      "Featurizing datapoint 6000\n"
     ]
    },
    {
     "name": "stderr",
     "output_type": "stream",
     "text": [
      "RDKit ERROR: [14:55:40] Explicit valence for atom # 1 Cl, 4, is greater than permitted\n"
     ]
    },
    {
     "name": "stdout",
     "output_type": "stream",
     "text": [
      "error in smile: O=[Cl]=O\n",
      "Featurizing datapoint 7000\n"
     ]
    },
    {
     "name": "stderr",
     "output_type": "stream",
     "text": [
      "RDKit ERROR: [14:55:43] Explicit valence for atom # 3 B, 4, is greater than permitted\n",
      "RDKit ERROR: [14:55:43] Explicit valence for atom # 1 Cl, 9, is greater than permitted\n"
     ]
    },
    {
     "name": "stdout",
     "output_type": "stream",
     "text": [
      "error in smile: OB1O[B]2(O)OB(O)O[B](O)(O1)O2\n",
      "error in smile: O=[Cl-](=O)(=O)=O\n",
      "Featurizing datapoint 8000\n",
      "Featurizing datapoint 9000\n",
      "Featurizing datapoint 10000\n",
      "Featurizing datapoint 11000\n",
      "Featurizing datapoint 12000\n",
      "Featurizing datapoint 13000\n",
      "Featurizing datapoint 14000\n"
     ]
    },
    {
     "name": "stderr",
     "output_type": "stream",
     "text": [
      "RDKit ERROR: [14:55:57] Explicit valence for atom # 0 P, 11, is greater than permitted\n"
     ]
    },
    {
     "name": "stdout",
     "output_type": "stream",
     "text": [
      "error in smile: [P](OCC=C(C)C)(OCC=C(C)C)(=O)(OP(OCC=C(C)C)(OCC=C(C)C)=O)(CC=C(C)C)(CC=C(C)C)(CC=C(C)C)(CC=C(C)C)(CC=C(C)C)CC=C(C)C\n",
      "Featurizing datapoint 15000\n",
      "Featurizing datapoint 16000\n",
      "Featurizing datapoint 17000\n",
      "Featurizing datapoint 18000\n",
      "Featurizing datapoint 19000\n",
      "Featurizing datapoint 20000\n",
      "Featurizing datapoint 21000\n",
      "Featurizing datapoint 22000\n",
      "Featurizing datapoint 23000\n",
      "Elements with indexes:  [6257, 7708, 7709, 14244]  were removed due to the presence of NAs!\n",
      "The elements in question are:  ['O=[Cl]=O' 'OB1O[B]2(O)OB(O)O[B](O)(O1)O2' 'O=[Cl-](=O)(=O)=O'\n",
      " '[P](OCC=C(C)C)(OCC=C(C)C)(=O)(OP(OCC=C(C)C)(OCC=C(C)C)=O)(CC=C(C)C)(CC=C(C)C)(CC=C(C)C)(CC=C(C)C)(CC=C(C)C)CC=C(C)C']\n",
      "(23286,) (23286,) (23286, 1024) (23286,)\n"
     ]
    },
    {
     "data": {
      "text/plain": [
       "((23286,), (23286,), (23286, 1024), (23286,))"
      ]
     },
     "execution_count": 17,
     "metadata": {},
     "output_type": "execute_result"
    }
   ],
   "source": [
    "#Featurization\n",
    "dataset = MorganFingerprint().featurize(dataset)\n",
    "dataset.get_shape()"
   ]
  },
  {
   "cell_type": "code",
   "execution_count": 18,
   "metadata": {},
   "outputs": [
    {
     "name": "stdout",
     "output_type": "stream",
     "text": [
      "(23286,) (23286,) (23286, 49) (23286,)\n"
     ]
    },
    {
     "data": {
      "text/plain": [
       "((23286,), (23286,), (23286, 49), (23286,))"
      ]
     },
     "execution_count": 18,
     "metadata": {},
     "output_type": "execute_result"
    }
   ],
   "source": [
    "#Feature Selection\n",
    "dataset = LowVarianceFS(0.15).featureSelection(dataset)\n",
    "dataset.get_shape()"
   ]
  },
  {
   "cell_type": "code",
   "execution_count": 19,
   "metadata": {},
   "outputs": [],
   "source": [
    "#Data Split\n",
    "splitter = SingletaskStratifiedSplitter()\n",
    "train_dataset, valid_dataset, test_dataset = splitter.train_valid_test_split(dataset=dataset, frac_train=0.6, \n",
    "                                                                             frac_valid=0.2, frac_test=0.2)"
   ]
  },
  {
   "cell_type": "code",
   "execution_count": 20,
   "metadata": {
    "scrolled": true
   },
   "outputs": [],
   "source": [
    "from tensorflow.keras.wrappers.scikit_learn import KerasClassifier\n",
    "from tensorflow.keras.models import Sequential\n",
    "from tensorflow.keras.layers import Dense, Dropout\n",
    "from sklearn.model_selection import StratifiedKFold\n",
    "from sklearn.model_selection import cross_val_score\n",
    "import numpy as np\n",
    "\n",
    "\n",
    "input_dim = train_dataset.features.shape[1]\n",
    "\n",
    "\n",
    "def create_model(optimizer='adam', dropout=0.5, input_dim=input_dim):\n",
    "    # create model\n",
    "    model = Sequential()\n",
    "    model.add(Dense(12, input_dim=input_dim, activation='relu'))\n",
    "    model.add(Dropout(dropout))\n",
    "    model.add(Dense(8, activation='relu'))\n",
    "    model.add(Dense(1, activation='sigmoid'))\n",
    "    # Compile model\n",
    "    model.compile(loss='binary_crossentropy', optimizer=optimizer, metrics=['accuracy'])\n",
    "    return model\n"
   ]
  },
  {
   "cell_type": "code",
   "execution_count": 7,
   "metadata": {},
   "outputs": [],
   "source": [
    "#print(type(keras_model))\n",
    "#from sklearn.model_selection import GridSearchCV \n",
    "#model = KerasClassifier(build_fn=create_model, epochs=15, batch_size=10, verbose=1, optimizer='adam')\n",
    "\n",
    "#model.fit(train_dataset.features, train_dataset.y)\n",
    "#params={'optimizer':['adam', 'rsmprop'],  \n",
    "#        'nb_epoch':[200, 100, 300, 400]}\n",
    "\n",
    "#gs=GridSearchCV(estimator=model, param_grid=params, cv=3) \n",
    "# now fit the dataset to the GridSearchCV object.  \n",
    "#gs = gs.fit(train_dataset.features, train_dataset.y)\n",
    "\n",
    "#print(gs)\n",
    "#print(type(model))\n",
    "\n",
    "#seed = 7\n",
    "#np.random.seed(seed)\n",
    "#print(1)\n",
    "#kfold = StratifiedKFold(n_splits=2, shuffle=True, random_state=seed)\n",
    "#print(2)\n",
    "#results = cross_val_score(model, train_dataset.features, train_dataset.y, cv=kfold)\n",
    "#print(3)\n",
    "#print(results)\n",
    "\n",
    "#model = KerasModel(keras_model, binary_crossentropy)"
   ]
  },
  {
   "cell_type": "code",
   "execution_count": 8,
   "metadata": {},
   "outputs": [
    {
     "name": "stdout",
     "output_type": "stream",
     "text": [
      "49\n"
     ]
    }
   ],
   "source": [
    "from models.kerasModels import KerasModel\n",
    "\n",
    "input_dim = train_dataset.features.shape[1]\n",
    "print(input_dim)\n",
    "model = KerasModel(create_model, epochs = 150, verbose=1, optimizer='adam')#, input_dim=input_dim)\n",
    "\n"
   ]
  },
  {
   "cell_type": "code",
   "execution_count": 9,
   "metadata": {
    "scrolled": true
   },
   "outputs": [
    {
     "name": "stdout",
     "output_type": "stream",
     "text": [
      "(13968, 49) (13968,)\n",
      "kerasModels fit!\n",
      "<tensorflow.python.keras.wrappers.scikit_learn.KerasClassifier object at 0x7efe26f32748>\n",
      "Epoch 1/10\n",
      "1397/1397 [==============================] - 2s 1ms/step - loss: 0.2261 - accuracy: 0.9382\n",
      "Epoch 2/10\n",
      "1397/1397 [==============================] - 2s 1ms/step - loss: 0.1862 - accuracy: 0.9434\n",
      "Epoch 3/10\n",
      "1397/1397 [==============================] - 2s 1ms/step - loss: 0.1792 - accuracy: 0.9434\n",
      "Epoch 4/10\n",
      "1397/1397 [==============================] - 2s 1ms/step - loss: 0.1715 - accuracy: 0.9442\n",
      "Epoch 5/10\n",
      "1397/1397 [==============================] - 2s 1ms/step - loss: 0.1719 - accuracy: 0.9447\n",
      "Epoch 6/10\n",
      "1397/1397 [==============================] - 2s 1ms/step - loss: 0.1698 - accuracy: 0.9444\n",
      "Epoch 7/10\n",
      "1397/1397 [==============================] - 2s 1ms/step - loss: 0.1685 - accuracy: 0.9452\n",
      "Epoch 8/10\n",
      "1397/1397 [==============================] - 2s 1ms/step - loss: 0.1681 - accuracy: 0.9443\n",
      "Epoch 9/10\n",
      "1397/1397 [==============================] - 2s 1ms/step - loss: 0.1653 - accuracy: 0.9458\n",
      "Epoch 10/10\n",
      "1397/1397 [==============================] - 2s 1ms/step - loss: 0.1635 - accuracy: 0.9455\n"
     ]
    }
   ],
   "source": [
    "print(train_dataset.features.shape, train_dataset.y.shape)\n",
    "\n",
    "\n",
    "model.fit(train_dataset)#.features, train_dataset.y)#, nb_epoch=50)\n"
   ]
  },
  {
   "cell_type": "code",
   "execution_count": 10,
   "metadata": {},
   "outputs": [
    {
     "name": "stdout",
     "output_type": "stream",
     "text": [
      "Models Class line 158 --> evaluator\n",
      "WARNING:tensorflow:From /opt/conda/lib/python3.6/site-packages/tensorflow/python/keras/wrappers/scikit_learn.py:264: Sequential.predict_proba (from tensorflow.python.keras.engine.sequential) is deprecated and will be removed after 2021-01-01.\n",
      "Instructions for updating:\n",
      "Please use `model.predict()` instead.\n",
      "1397/1397 [==============================] - 1s 753us/step\n",
      "roc_auc_score: \n",
      " 0.5094816687737042\n",
      "precision_score: \n",
      " 1.0\n",
      "accuracy_score: \n",
      " 0.9444444444444444\n",
      "confusion_matrix: \n",
      " [[13177     0]\n",
      " [  776    15]]\n",
      "classification_report: \n",
      "               precision    recall  f1-score   support\n",
      "\n",
      "           0       0.94      1.00      0.97     13177\n",
      "           1       1.00      0.02      0.04       791\n",
      "\n",
      "    accuracy                           0.94     13968\n",
      "   macro avg       0.97      0.51      0.50     13968\n",
      "weighted avg       0.95      0.94      0.92     13968\n",
      "\n",
      "WARNING: task averager  cannot perform reduce with flexible type\n",
      "training set score: {'roc_auc_score': 0.5094816687737042, 'precision_score': 1.0, 'accuracy_score': 0.9444444444444444, 'confusion_matrix': 3492.0, 'classification_report': None}\n",
      "Models Class line 158 --> evaluator\n",
      "466/466 [==============================] - 0s 746us/step\n",
      "roc_auc_score: \n",
      " 0.5113365901454794\n",
      "precision_score: \n",
      " 0.8571428571428571\n",
      "accuracy_score: \n",
      " 0.9448024054982818\n",
      "confusion_matrix: \n",
      " [[4393    1]\n",
      " [ 256    6]]\n",
      "classification_report: \n",
      "               precision    recall  f1-score   support\n",
      "\n",
      "           0       0.94      1.00      0.97      4394\n",
      "           1       0.86      0.02      0.04       262\n",
      "\n",
      "    accuracy                           0.94      4656\n",
      "   macro avg       0.90      0.51      0.51      4656\n",
      "weighted avg       0.94      0.94      0.92      4656\n",
      "\n",
      "WARNING: task averager  cannot perform reduce with flexible type\n",
      "test set score: {'roc_auc_score': 0.5113365901454794, 'precision_score': 0.8571428571428571, 'accuracy_score': 0.9448024054982818, 'confusion_matrix': 1164.0, 'classification_report': None}\n"
     ]
    }
   ],
   "source": [
    "metrics = [Metric(roc_auc_score), \n",
    "           Metric(precision_score), \n",
    "           Metric(accuracy_score), \n",
    "           Metric(confusion_matrix), \n",
    "           Metric(classification_report)]\n",
    "\n",
    "print('training set score:', model.evaluate(train_dataset, metrics))\n",
    "print('test set score:', model.evaluate(test_dataset, metrics))"
   ]
  },
  {
   "cell_type": "code",
   "execution_count": 14,
   "metadata": {},
   "outputs": [
    {
     "name": "stdout",
     "output_type": "stream",
     "text": [
      "Fitting 6 random models from a space of 6 possible models.\n",
      "Fitting model 1/6\n",
      "hyperparameters: {'optimizer': 'adam', 'dropout': 0.2}\n",
      "WARNING:  roc_auc_score  is not a valid scoring value. Use sorted(sklearn.metrics.SCORERS.keys()) to get valid options.\n",
      "Using accuracy instead and  roc_auc_score  on validation!\n",
      " \n",
      "\n",
      "Fitting 5 folds for each of 6 candidates, totalling 30 fits\n",
      "[CV] dropout=0.2, optimizer=adam .....................................\n"
     ]
    },
    {
     "name": "stderr",
     "output_type": "stream",
     "text": [
      "[Parallel(n_jobs=1)]: Using backend SequentialBackend with 1 concurrent workers.\n"
     ]
    },
    {
     "name": "stdout",
     "output_type": "stream",
     "text": [
      "350/350 [==============================] - 0s 1ms/step - loss: 0.3040 - accuracy: 0.9102\n",
      "WARNING:tensorflow:From /opt/conda/lib/python3.6/site-packages/tensorflow/python/keras/wrappers/scikit_learn.py:241: Sequential.predict_classes (from tensorflow.python.keras.engine.sequential) is deprecated and will be removed after 2021-01-01.\n",
      "Instructions for updating:\n",
      "Please use instead:* `np.argmax(model.predict(x), axis=-1)`,   if your model does multi-class classification   (e.g. if it uses a `softmax` last-layer activation).* `(model.predict(x) > 0.5).astype(\"int32\")`,   if your model does binary classification   (e.g. if it uses a `sigmoid` last-layer activation).\n",
      "[CV] ......... dropout=0.2, optimizer=adam, score=1.000, total=   0.9s\n",
      "[CV] dropout=0.2, optimizer=adam .....................................\n"
     ]
    },
    {
     "name": "stderr",
     "output_type": "stream",
     "text": [
      "[Parallel(n_jobs=1)]: Done   1 out of   1 | elapsed:    0.9s remaining:    0.0s\n"
     ]
    },
    {
     "name": "stdout",
     "output_type": "stream",
     "text": [
      "350/350 [==============================] - 0s 1ms/step - loss: 0.2470 - accuracy: 0.9292\n",
      "[CV] ......... dropout=0.2, optimizer=adam, score=1.000, total=   0.9s\n",
      "[CV] dropout=0.2, optimizer=adam .....................................\n"
     ]
    },
    {
     "name": "stderr",
     "output_type": "stream",
     "text": [
      "[Parallel(n_jobs=1)]: Done   2 out of   2 | elapsed:    1.9s remaining:    0.0s\n"
     ]
    },
    {
     "name": "stdout",
     "output_type": "stream",
     "text": [
      "350/350 [==============================] - 1s 1ms/step - loss: 0.2931 - accuracy: 0.9186\n",
      "[CV] ......... dropout=0.2, optimizer=adam, score=1.000, total=   1.0s\n",
      "[CV] dropout=0.2, optimizer=adam .....................................\n",
      "350/350 [==============================] - 0s 1ms/step - loss: 0.3250 - accuracy: 0.8791\n",
      "[CV] ......... dropout=0.2, optimizer=adam, score=1.000, total=   0.9s\n",
      "[CV] dropout=0.2, optimizer=adam .....................................\n",
      "350/350 [==============================] - 0s 1ms/step - loss: 0.1496 - accuracy: 0.9540\n",
      "[CV] ......... dropout=0.2, optimizer=adam, score=0.717, total=   0.9s\n",
      "[CV] dropout=0.2, optimizer=rmsprop ..................................\n",
      "350/350 [==============================] - 1s 2ms/step - loss: 0.2615 - accuracy: 0.9276\n",
      "[CV] ...... dropout=0.2, optimizer=rmsprop, score=1.000, total=   1.2s\n",
      "[CV] dropout=0.2, optimizer=rmsprop ..................................\n",
      "350/350 [==============================] - 1s 2ms/step - loss: 0.2508 - accuracy: 0.9292\n",
      "[CV] ...... dropout=0.2, optimizer=rmsprop, score=1.000, total=   1.1s\n",
      "[CV] dropout=0.2, optimizer=rmsprop ..................................\n",
      "350/350 [==============================] - 1s 2ms/step - loss: 0.2758 - accuracy: 0.9221\n",
      "[CV] ...... dropout=0.2, optimizer=rmsprop, score=1.000, total=   1.1s\n",
      "[CV] dropout=0.2, optimizer=rmsprop ..................................\n",
      "350/350 [==============================] - 1s 2ms/step - loss: 0.2782 - accuracy: 0.9208\n",
      "[CV] ...... dropout=0.2, optimizer=rmsprop, score=1.000, total=   1.1s\n",
      "[CV] dropout=0.2, optimizer=rmsprop ..................................\n",
      "350/350 [==============================] - 1s 2ms/step - loss: 0.0680 - accuracy: 0.9945\n",
      "[CV] ...... dropout=0.2, optimizer=rmsprop, score=0.717, total=   1.0s\n",
      "[CV] dropout=0.4, optimizer=adam .....................................\n",
      "350/350 [==============================] - 1s 1ms/step - loss: 0.2744 - accuracy: 0.9278\n",
      "[CV] ......... dropout=0.4, optimizer=adam, score=1.000, total=   0.9s\n",
      "[CV] dropout=0.4, optimizer=adam .....................................\n",
      "350/350 [==============================] - 1s 2ms/step - loss: 0.2738 - accuracy: 0.9259\n",
      "[CV] ......... dropout=0.4, optimizer=adam, score=1.000, total=   1.0s\n",
      "[CV] dropout=0.4, optimizer=adam .....................................\n",
      "350/350 [==============================] - 0s 1ms/step - loss: 0.3734 - accuracy: 0.8566\n",
      "[CV] ......... dropout=0.4, optimizer=adam, score=1.000, total=   0.9s\n",
      "[CV] dropout=0.4, optimizer=adam .....................................\n",
      "350/350 [==============================] - 0s 1ms/step - loss: 0.3857 - accuracy: 0.8452\n",
      "[CV] ......... dropout=0.4, optimizer=adam, score=1.000, total=   0.9s\n",
      "[CV] dropout=0.4, optimizer=adam .....................................\n",
      "350/350 [==============================] - 0s 1ms/step - loss: 0.1157 - accuracy: 0.9673\n",
      "[CV] ......... dropout=0.4, optimizer=adam, score=0.717, total=   1.1s\n",
      "[CV] dropout=0.4, optimizer=rmsprop ..................................\n",
      "350/350 [==============================] - 1s 2ms/step - loss: 0.2943 - accuracy: 0.9263\n",
      "[CV] ...... dropout=0.4, optimizer=rmsprop, score=1.000, total=   1.1s\n",
      "[CV] dropout=0.4, optimizer=rmsprop ..................................\n",
      "350/350 [==============================] - 1s 2ms/step - loss: 0.2894 - accuracy: 0.9166\n",
      "[CV] ...... dropout=0.4, optimizer=rmsprop, score=1.000, total=   1.2s\n",
      "[CV] dropout=0.4, optimizer=rmsprop ..................................\n",
      "350/350 [==============================] - 1s 2ms/step - loss: 0.2940 - accuracy: 0.9137\n",
      "[CV] ...... dropout=0.4, optimizer=rmsprop, score=1.000, total=   1.2s\n",
      "[CV] dropout=0.4, optimizer=rmsprop ..................................\n",
      "350/350 [==============================] - 1s 2ms/step - loss: 0.2560 - accuracy: 0.9282\n",
      "[CV] ...... dropout=0.4, optimizer=rmsprop, score=1.000, total=   1.1s\n",
      "[CV] dropout=0.4, optimizer=rmsprop ..................................\n",
      "350/350 [==============================] - 1s 2ms/step - loss: 0.0367 - accuracy: 0.9987\n",
      "[CV] ...... dropout=0.4, optimizer=rmsprop, score=0.717, total=   1.1s\n",
      "[CV] dropout=0.5, optimizer=adam .....................................\n",
      "350/350 [==============================] - 1s 1ms/step - loss: 0.4874 - accuracy: 0.7910\n",
      "[CV] ......... dropout=0.5, optimizer=adam, score=1.000, total=   0.9s\n",
      "[CV] dropout=0.5, optimizer=adam .....................................\n",
      "350/350 [==============================] - 0s 1ms/step - loss: 0.2668 - accuracy: 0.9288\n",
      "[CV] ......... dropout=0.5, optimizer=adam, score=1.000, total=   0.9s\n",
      "[CV] dropout=0.5, optimizer=adam .....................................\n",
      "350/350 [==============================] - 0s 1ms/step - loss: 0.2876 - accuracy: 0.9216\n",
      "[CV] ......... dropout=0.5, optimizer=adam, score=1.000, total=   0.9s\n",
      "[CV] dropout=0.5, optimizer=adam .....................................\n",
      "350/350 [==============================] - 1s 2ms/step - loss: 0.3036 - accuracy: 0.9157\n",
      "[CV] ......... dropout=0.5, optimizer=adam, score=1.000, total=   1.1s\n",
      "[CV] dropout=0.5, optimizer=adam .....................................\n",
      "350/350 [==============================] - 1s 2ms/step - loss: 0.1566 - accuracy: 0.9656\n",
      "[CV] ......... dropout=0.5, optimizer=adam, score=0.717, total=   1.0s\n",
      "[CV] dropout=0.5, optimizer=rmsprop ..................................\n",
      "350/350 [==============================] - 1s 2ms/step - loss: 0.2861 - accuracy: 0.9244\n",
      "[CV] ...... dropout=0.5, optimizer=rmsprop, score=1.000, total=   1.1s\n",
      "[CV] dropout=0.5, optimizer=rmsprop ..................................\n",
      "350/350 [==============================] - 1s 2ms/step - loss: 0.3301 - accuracy: 0.9050\n",
      "[CV] ...... dropout=0.5, optimizer=rmsprop, score=1.000, total=   1.1s\n",
      "[CV] dropout=0.5, optimizer=rmsprop ..................................\n",
      "350/350 [==============================] - 1s 2ms/step - loss: 0.2826 - accuracy: 0.9247\n",
      "[CV] ...... dropout=0.5, optimizer=rmsprop, score=1.000, total=   1.1s\n",
      "[CV] dropout=0.5, optimizer=rmsprop ..................................\n",
      "350/350 [==============================] - 1s 2ms/step - loss: 0.3017 - accuracy: 0.9077\n",
      "[CV] ...... dropout=0.5, optimizer=rmsprop, score=1.000, total=   1.0s\n",
      "[CV] dropout=0.5, optimizer=rmsprop ..................................\n",
      "350/350 [==============================] - 1s 2ms/step - loss: 0.1360 - accuracy: 0.9800\n",
      "[CV] ...... dropout=0.5, optimizer=rmsprop, score=0.717, total=   1.0s\n"
     ]
    },
    {
     "name": "stderr",
     "output_type": "stream",
     "text": [
      "[Parallel(n_jobs=1)]: Done  30 out of  30 | elapsed:   30.8s finished\n"
     ]
    },
    {
     "name": "stdout",
     "output_type": "stream",
     "text": [
      "437/437 [==============================] - 1s 1ms/step - loss: 0.2239 - accuracy: 0.9367\n",
      "\n",
      "Evaluating best model on the validation dataset...\n",
      " \n",
      "\n",
      "kerasModels fit!\n",
      "<tensorflow.python.keras.wrappers.scikit_learn.KerasClassifier object at 0x7efe26d0fbe0>\n",
      "Models Class line 158 --> evaluator\n",
      "roc_auc_score: \n",
      " 0.5689426403394962\n",
      "valid_dataset:  {'roc_auc_score': 0.5689426403394962}\n",
      "Best: 0.943358 using {'dropout': 0.2, 'optimizer': 'adam'}\n",
      "0.943358 (0.113283) with: {'dropout': 0.2, 'optimizer': 'adam'}\n",
      "0.943358 (0.113283) with: {'dropout': 0.2, 'optimizer': 'rmsprop'}\n",
      "0.943358 (0.113283) with: {'dropout': 0.4, 'optimizer': 'adam'}\n",
      "0.943358 (0.113283) with: {'dropout': 0.4, 'optimizer': 'rmsprop'}\n",
      "0.943358 (0.113283) with: {'dropout': 0.5, 'optimizer': 'adam'}\n",
      "0.943358 (0.113283) with: {'dropout': 0.5, 'optimizer': 'rmsprop'}\n",
      "#################\n",
      "{'dropout': 0.2, 'optimizer': 'adam'}\n",
      "<tensorflow.python.keras.wrappers.scikit_learn.KerasClassifier object at 0x7efe272a20f0>\n"
     ]
    }
   ],
   "source": [
    "from parameterOptimization.HyperparameterOpt import GridHyperparamOpt\n",
    "#Hyperparameter Optimization\n",
    "optimizer = GridHyperparamOpt(create_model)\n",
    "\n",
    "params_dict = {'optimizer' : ['adam', 'rmsprop'],\n",
    "              'dropout' : [0.2, 0.4, 0.5]}\n",
    "\n",
    "best_model, best_hyperparams, all_results = optimizer.hyperparam_search(params_dict, train_dataset, \n",
    "                                                                        valid_dataset, Metric(roc_auc_score),\n",
    "                                                                       cv=5, n_jobs=1, verbose=3)\n",
    "\n",
    "print('#################')\n",
    "print(best_hyperparams)\n",
    "print(best_model)"
   ]
  },
  {
   "cell_type": "code",
   "execution_count": null,
   "metadata": {},
   "outputs": [],
   "source": [
    "#pip install tensorflow==2.2.0"
   ]
  },
  {
   "cell_type": "code",
   "execution_count": null,
   "metadata": {},
   "outputs": [],
   "source": [
    "\n",
    "#import tensorflow as tf\n",
    "#tf.version.VERSION"
   ]
  },
  {
   "cell_type": "code",
   "execution_count": null,
   "metadata": {},
   "outputs": [],
   "source": [
    "import sklearn\n",
    "sklearn.metrics.SCORERS.keys()"
   ]
  }
 ],
 "metadata": {
  "kernelspec": {
   "display_name": "Python 3",
   "language": "python",
   "name": "python3"
  },
  "language_info": {
   "codemirror_mode": {
    "name": "ipython",
    "version": 3
   },
   "file_extension": ".py",
   "mimetype": "text/x-python",
   "name": "python",
   "nbconvert_exporter": "python",
   "pygments_lexer": "ipython3",
   "version": "3.6.2"
  }
 },
 "nbformat": 4,
 "nbformat_minor": 4
}
