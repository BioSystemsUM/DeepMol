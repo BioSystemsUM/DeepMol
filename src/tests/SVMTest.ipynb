{
 "cells": [
  {
   "cell_type": "code",
   "execution_count": 2,
   "metadata": {},
   "outputs": [],
   "source": [
    "from loaders.Loaders import CSVLoader\n",
    "from compoundFeaturization.rdkitFingerprints import MACCSkeysFingerprint\n",
    "from featureSelection.baseFeatureSelector import SelectFromModelFS\n",
    "from splitters.splitters import SingletaskStratifiedSplitter\n",
    "from models.sklearnModels import SklearnModel\n",
    "from metrics.Metrics import Metric\n",
    "from metrics.metricsFunctions import roc_auc_score, precision_score, accuracy_score, confusion_matrix, classification_report\n",
    "from parameterOptimization.HyperparameterOpt import HyperparamOpt_Valid\n",
    "\n",
    "from sklearn.svm import SVC"
   ]
  },
  {
   "cell_type": "code",
   "execution_count": 3,
   "metadata": {},
   "outputs": [
    {
     "name": "stdout",
     "output_type": "stream",
     "text": [
      "Mols_shape:  23290\n",
      "Features_shape:  X not defined!\n",
      "Labels_shape:  (23290,)\n"
     ]
    }
   ],
   "source": [
    "dataset = CSVLoader(dataset_path='preprocessed_dataset_wfoodb.csv', \n",
    "                    mols_field='Smiles', \n",
    "                    labels_fields='Class', \n",
    "                    id_field='ID')#, shard_size=4000)\n",
    "dataset = dataset.create_dataset()\n",
    "dataset.get_shape()"
   ]
  },
  {
   "cell_type": "code",
   "execution_count": 4,
   "metadata": {},
   "outputs": [
    {
     "name": "stdout",
     "output_type": "stream",
     "text": [
      "Featurizing datapoint 0\n",
      "Featurizing datapoint 1000\n",
      "Featurizing datapoint 2000\n",
      "Featurizing datapoint 3000\n",
      "Featurizing datapoint 4000\n",
      "Featurizing datapoint 5000\n",
      "Featurizing datapoint 6000\n"
     ]
    },
    {
     "name": "stderr",
     "output_type": "stream",
     "text": [
      "RDKit ERROR: [13:58:18] Explicit valence for atom # 1 Cl, 4, is greater than permitted\n"
     ]
    },
    {
     "name": "stdout",
     "output_type": "stream",
     "text": [
      "error in smile: O=[Cl]=O\n",
      "Featurizing datapoint 7000\n"
     ]
    },
    {
     "name": "stderr",
     "output_type": "stream",
     "text": [
      "RDKit ERROR: [13:58:22] Explicit valence for atom # 3 B, 4, is greater than permitted\n",
      "RDKit ERROR: [13:58:22] Explicit valence for atom # 1 Cl, 9, is greater than permitted\n"
     ]
    },
    {
     "name": "stdout",
     "output_type": "stream",
     "text": [
      "error in smile: OB1O[B]2(O)OB(O)O[B](O)(O1)O2\n",
      "error in smile: O=[Cl-](=O)(=O)=O\n",
      "Featurizing datapoint 8000\n",
      "Featurizing datapoint 9000\n",
      "Featurizing datapoint 10000\n",
      "Featurizing datapoint 11000\n",
      "Featurizing datapoint 12000\n",
      "Featurizing datapoint 13000\n",
      "Featurizing datapoint 14000\n"
     ]
    },
    {
     "name": "stderr",
     "output_type": "stream",
     "text": [
      "RDKit ERROR: [13:58:37] Explicit valence for atom # 0 P, 11, is greater than permitted\n"
     ]
    },
    {
     "name": "stdout",
     "output_type": "stream",
     "text": [
      "error in smile: [P](OCC=C(C)C)(OCC=C(C)C)(=O)(OP(OCC=C(C)C)(OCC=C(C)C)=O)(CC=C(C)C)(CC=C(C)C)(CC=C(C)C)(CC=C(C)C)(CC=C(C)C)CC=C(C)C\n",
      "Featurizing datapoint 15000\n",
      "Featurizing datapoint 16000\n",
      "Featurizing datapoint 17000\n",
      "Featurizing datapoint 18000\n",
      "Featurizing datapoint 19000\n",
      "Featurizing datapoint 20000\n",
      "Featurizing datapoint 21000\n",
      "Featurizing datapoint 22000\n",
      "Featurizing datapoint 23000\n",
      "Elements with indexes:  [6257, 7708, 7709, 14244]  were removed due to the presence of NAs!\n",
      "The elements in question are:  ['O=[Cl]=O' 'OB1O[B]2(O)OB(O)O[B](O)(O1)O2' 'O=[Cl-](=O)(=O)=O'\n",
      " '[P](OCC=C(C)C)(OCC=C(C)C)(=O)(OP(OCC=C(C)C)(OCC=C(C)C)=O)(CC=C(C)C)(CC=C(C)C)(CC=C(C)C)(CC=C(C)C)(CC=C(C)C)CC=C(C)C']\n",
      "Mols_shape:  23286\n",
      "Features_shape:  (23286, 167)\n",
      "Labels_shape:  (23286,)\n"
     ]
    }
   ],
   "source": [
    "#Featurization\n",
    "dataset = MACCSkeysFingerprint().featurize(dataset)\n",
    "dataset.get_shape()"
   ]
  },
  {
   "cell_type": "code",
   "execution_count": 5,
   "metadata": {},
   "outputs": [
    {
     "name": "stdout",
     "output_type": "stream",
     "text": [
      "Mols_shape:  23286\n",
      "Features_shape:  (23286, 63)\n",
      "Labels_shape:  (23286,)\n"
     ]
    }
   ],
   "source": [
    "#Feature Selection\n",
    "dataset = SelectFromModelFS().featureSelection(dataset)\n",
    "dataset.get_shape()"
   ]
  },
  {
   "cell_type": "code",
   "execution_count": 6,
   "metadata": {},
   "outputs": [],
   "source": [
    "#Data Split\n",
    "splitter = SingletaskStratifiedSplitter()\n",
    "train_dataset, valid_dataset, test_dataset = splitter.train_valid_test_split(dataset=dataset, \n",
    "                                                                             frac_train=0.6, \n",
    "                                                                             frac_valid=0.2, \n",
    "                                                                             frac_test=0.2)"
   ]
  },
  {
   "cell_type": "code",
   "execution_count": 7,
   "metadata": {},
   "outputs": [],
   "source": [
    "#Scikit-Learn SVC\n",
    "svm = SVC()\n",
    "model = SklearnModel(model=svm)"
   ]
  },
  {
   "cell_type": "code",
   "execution_count": 8,
   "metadata": {},
   "outputs": [
    {
     "name": "stdout",
     "output_type": "stream",
     "text": [
      "Computing Stratified K-fold split\n",
      "\n",
      "Split 1 :\n",
      "Train Score: \n",
      "roc_auc_score: \n",
      " 0.5702606362401081\n",
      "Test Score: \n",
      "roc_auc_score: \n",
      " 0.5588177596781804\n",
      "\n",
      "Split 2 :\n",
      "Train Score: \n",
      "roc_auc_score: \n",
      " 0.5859241471811559\n",
      "Test Score: \n",
      "roc_auc_score: \n",
      " 0.57534904869383\n",
      "\n",
      "Split 3 :\n",
      "Train Score: \n",
      "roc_auc_score: \n",
      " 0.5829840247066719\n",
      "Test Score: \n",
      "roc_auc_score: \n",
      " 0.5766194289034651\n"
     ]
    },
    {
     "data": {
      "text/plain": [
       "(SklearnModel(model=SVC()),\n",
       " 0.5829840247066719,\n",
       " 0.5766194289034651,\n",
       " [0.5702606362401081, 0.5859241471811559, 0.5829840247066719],\n",
       " [0.5588177596781804, 0.57534904869383, 0.5766194289034651],\n",
       " 0.5797229360426454,\n",
       " 0.5702620790918251)"
      ]
     },
     "execution_count": 8,
     "metadata": {},
     "output_type": "execute_result"
    }
   ],
   "source": [
    "#cross validation\n",
    "model.cross_validate(dataset, Metric(roc_auc_score), folds=3)"
   ]
  },
  {
   "cell_type": "code",
   "execution_count": 9,
   "metadata": {},
   "outputs": [
    {
     "data": {
      "text/plain": [
       "SVC()"
      ]
     },
     "execution_count": 9,
     "metadata": {},
     "output_type": "execute_result"
    }
   ],
   "source": [
    "# model training\n",
    "model.fit(train_dataset)"
   ]
  },
  {
   "cell_type": "code",
   "execution_count": 10,
   "metadata": {},
   "outputs": [
    {
     "name": "stdout",
     "output_type": "stream",
     "text": [
      "#############################\n",
      "Training Dataset: \n",
      "roc_auc_score: \n",
      " 0.5764684524072533\n",
      "precision_score: \n",
      " 0.9758064516129032\n",
      "accuracy_score: \n",
      " 0.9518900343642611\n",
      "confusion_matrix: \n",
      " [[13175     3]\n",
      " [  669   121]]\n",
      "classification_report: \n",
      "               precision    recall  f1-score   support\n",
      "\n",
      "           0       0.95      1.00      0.98     13178\n",
      "           1       0.98      0.15      0.26       790\n",
      "\n",
      "    accuracy                           0.95     13968\n",
      "   macro avg       0.96      0.58      0.62     13968\n",
      "weighted avg       0.95      0.95      0.93     13968\n",
      "\n",
      "WARNING: task averager  cannot perform reduce with flexible type\n",
      "#############################\n",
      "Validation Dataset: \n",
      "roc_auc_score: \n",
      " 0.5793926389979219\n",
      "precision_score: \n",
      " 0.9130434782608695\n",
      "accuracy_score: \n",
      " 0.9516752577319587\n",
      "confusion_matrix: \n",
      " [[4389    4]\n",
      " [ 221   42]]\n",
      "classification_report: \n",
      "               precision    recall  f1-score   support\n",
      "\n",
      "           0       0.95      1.00      0.98      4393\n",
      "           1       0.91      0.16      0.27       263\n",
      "\n",
      "    accuracy                           0.95      4656\n",
      "   macro avg       0.93      0.58      0.62      4656\n",
      "weighted avg       0.95      0.95      0.94      4656\n",
      "\n",
      "WARNING: task averager  cannot perform reduce with flexible type\n",
      "#############################\n",
      "Test Dataset: \n",
      "roc_auc_score: \n",
      " 0.5701145704495313\n",
      "precision_score: \n",
      " 0.9487179487179487\n",
      "accuracy_score: \n",
      " 0.9510309278350515\n",
      "confusion_matrix: \n",
      " [[4391    2]\n",
      " [ 226   37]]\n",
      "classification_report: \n",
      "               precision    recall  f1-score   support\n",
      "\n",
      "           0       0.95      1.00      0.97      4393\n",
      "           1       0.95      0.14      0.25       263\n",
      "\n",
      "    accuracy                           0.95      4656\n",
      "   macro avg       0.95      0.57      0.61      4656\n",
      "weighted avg       0.95      0.95      0.93      4656\n",
      "\n",
      "WARNING: task averager  cannot perform reduce with flexible type\n",
      "#############################\n"
     ]
    }
   ],
   "source": [
    "metrics = [Metric(roc_auc_score), Metric(precision_score), Metric(accuracy_score), Metric(confusion_matrix), \n",
    "           Metric(classification_report)]\n",
    "print(\"#############################\")\n",
    "# evaluate the model\n",
    "print('Training Dataset: ')\n",
    "train_score = model.evaluate(train_dataset, metrics)\n",
    "print(\"#############################\")\n",
    "print('Validation Dataset: ')\n",
    "valid_score = model.evaluate(valid_dataset, metrics)\n",
    "print(\"#############################\")\n",
    "print('Test Dataset: ')\n",
    "test_score = model.evaluate(test_dataset, metrics)\n",
    "print(\"#############################\")"
   ]
  },
  {
   "cell_type": "code",
   "execution_count": 11,
   "metadata": {},
   "outputs": [],
   "source": [
    "#Model Builder\n",
    "def svm_model_builder(C, gamma, kernel):\n",
    "    svm_model = SVC(C=C, gamma=gamma, kernel=kernel)\n",
    "    return svm_model\n",
    "\n",
    "params_dict_svm = {'C': [1.0, 0.7, 0.5, 0.3, 0.1],\n",
    "                   'gamma': [\"scale\", \"auto\"],\n",
    "                   'kernel': [\"linear\", \"rbf\"]\n",
    "                  }"
   ]
  },
  {
   "cell_type": "code",
   "execution_count": 12,
   "metadata": {},
   "outputs": [
    {
     "name": "stdout",
     "output_type": "stream",
     "text": [
      "MODE:  classification\n",
      "Fitting 15 random models from a space of 20 possible models.\n",
      "Fitting model 1/15\n",
      "hyperparameters: {'C': 1.0, 'gamma': 'scale', 'kernel': 'linear'}\n",
      "expected str, bytes or os.PathLike object, not NoneType\n",
      "roc_auc_score: \n",
      " 0.5\n",
      "Model 1/15, Metric roc_auc_score, Validation set 1: 0.500000\n",
      "\tbest_validation_score so far: 0.500000\n",
      "Fitting model 2/15\n",
      "hyperparameters: {'C': 1.0, 'gamma': 'auto', 'kernel': 'rbf'}\n",
      "expected str, bytes or os.PathLike object, not NoneType\n",
      "roc_auc_score: \n",
      " 0.5304182509505704\n",
      "Model 2/15, Metric roc_auc_score, Validation set 2: 0.530418\n",
      "\tbest_validation_score so far: 0.530418\n",
      "Fitting model 3/15\n",
      "hyperparameters: {'C': 0.7, 'gamma': 'scale', 'kernel': 'linear'}\n",
      "expected str, bytes or os.PathLike object, not NoneType\n",
      "roc_auc_score: \n",
      " 0.5\n",
      "Model 3/15, Metric roc_auc_score, Validation set 3: 0.500000\n",
      "\tbest_validation_score so far: 0.530418\n",
      "Fitting model 4/15\n",
      "hyperparameters: {'C': 0.7, 'gamma': 'scale', 'kernel': 'rbf'}\n",
      "expected str, bytes or os.PathLike object, not NoneType\n",
      "roc_auc_score: \n",
      " 0.5722433460076045\n",
      "Model 4/15, Metric roc_auc_score, Validation set 4: 0.572243\n",
      "\tbest_validation_score so far: 0.572243\n",
      "Fitting model 5/15\n",
      "hyperparameters: {'C': 0.7, 'gamma': 'auto', 'kernel': 'linear'}\n",
      "expected str, bytes or os.PathLike object, not NoneType\n",
      "roc_auc_score: \n",
      " 0.5\n",
      "Model 5/15, Metric roc_auc_score, Validation set 5: 0.500000\n",
      "\tbest_validation_score so far: 0.572243\n",
      "Fitting model 6/15\n",
      "hyperparameters: {'C': 0.7, 'gamma': 'auto', 'kernel': 'rbf'}\n",
      "expected str, bytes or os.PathLike object, not NoneType\n",
      "roc_auc_score: \n",
      " 0.5\n",
      "Model 6/15, Metric roc_auc_score, Validation set 6: 0.500000\n",
      "\tbest_validation_score so far: 0.572243\n",
      "Fitting model 7/15\n",
      "hyperparameters: {'C': 0.5, 'gamma': 'scale', 'kernel': 'rbf'}\n",
      "expected str, bytes or os.PathLike object, not NoneType\n",
      "roc_auc_score: \n",
      " 0.564638783269962\n",
      "Model 7/15, Metric roc_auc_score, Validation set 7: 0.564639\n",
      "\tbest_validation_score so far: 0.572243\n",
      "Fitting model 8/15\n",
      "hyperparameters: {'C': 0.5, 'gamma': 'auto', 'kernel': 'rbf'}\n",
      "expected str, bytes or os.PathLike object, not NoneType\n",
      "roc_auc_score: \n",
      " 0.5\n",
      "Model 8/15, Metric roc_auc_score, Validation set 8: 0.500000\n",
      "\tbest_validation_score so far: 0.572243\n",
      "Fitting model 9/15\n",
      "hyperparameters: {'C': 0.3, 'gamma': 'scale', 'kernel': 'linear'}\n",
      "expected str, bytes or os.PathLike object, not NoneType\n",
      "roc_auc_score: \n",
      " 0.5\n",
      "Model 9/15, Metric roc_auc_score, Validation set 9: 0.500000\n",
      "\tbest_validation_score so far: 0.572243\n",
      "Fitting model 10/15\n",
      "hyperparameters: {'C': 0.3, 'gamma': 'scale', 'kernel': 'rbf'}\n",
      "expected str, bytes or os.PathLike object, not NoneType\n",
      "roc_auc_score: \n",
      " 0.5608365019011406\n",
      "Model 10/15, Metric roc_auc_score, Validation set 10: 0.560837\n",
      "\tbest_validation_score so far: 0.572243\n",
      "Fitting model 11/15\n",
      "hyperparameters: {'C': 0.3, 'gamma': 'auto', 'kernel': 'linear'}\n",
      "expected str, bytes or os.PathLike object, not NoneType\n",
      "roc_auc_score: \n",
      " 0.5\n",
      "Model 11/15, Metric roc_auc_score, Validation set 11: 0.500000\n",
      "\tbest_validation_score so far: 0.572243\n",
      "Fitting model 12/15\n",
      "hyperparameters: {'C': 0.3, 'gamma': 'auto', 'kernel': 'rbf'}\n",
      "expected str, bytes or os.PathLike object, not NoneType\n",
      "roc_auc_score: \n",
      " 0.5\n",
      "Model 12/15, Metric roc_auc_score, Validation set 12: 0.500000\n",
      "\tbest_validation_score so far: 0.572243\n",
      "Fitting model 13/15\n",
      "hyperparameters: {'C': 0.1, 'gamma': 'scale', 'kernel': 'linear'}\n",
      "expected str, bytes or os.PathLike object, not NoneType\n",
      "roc_auc_score: \n",
      " 0.5\n",
      "Model 13/15, Metric roc_auc_score, Validation set 13: 0.500000\n",
      "\tbest_validation_score so far: 0.572243\n",
      "Fitting model 14/15\n",
      "hyperparameters: {'C': 0.1, 'gamma': 'scale', 'kernel': 'rbf'}\n",
      "expected str, bytes or os.PathLike object, not NoneType\n",
      "roc_auc_score: \n",
      " 0.5\n",
      "Model 14/15, Metric roc_auc_score, Validation set 14: 0.500000\n",
      "\tbest_validation_score so far: 0.572243\n",
      "Fitting model 15/15\n",
      "hyperparameters: {'C': 0.1, 'gamma': 'auto', 'kernel': 'rbf'}\n",
      "expected str, bytes or os.PathLike object, not NoneType\n",
      "roc_auc_score: \n",
      " 0.5\n",
      "Model 15/15, Metric roc_auc_score, Validation set 15: 0.500000\n",
      "\tbest_validation_score so far: 0.572243\n",
      "roc_auc_score: \n",
      " 0.5600506982293082\n",
      "Best hyperparameters: (0.7, 'scale', 'rbf')\n",
      "train_score: 0.560051\n",
      "validation_score: 0.572243\n"
     ]
    }
   ],
   "source": [
    "#hyperparameter optimization\n",
    "optimizer = HyperparamOpt_Valid(svm_model_builder)\n",
    "\n",
    "best_rf, best_hyperparams, all_results = optimizer.hyperparam_search(params_dict_svm, \n",
    "                                                                     train_dataset, valid_dataset, \n",
    "                                                                     Metric(roc_auc_score))"
   ]
  },
  {
   "cell_type": "code",
   "execution_count": 13,
   "metadata": {},
   "outputs": [
    {
     "name": "stdout",
     "output_type": "stream",
     "text": [
      "roc_auc_score: \n",
      " 0.5550192624110774\n",
      "precision_score: \n",
      " 0.9666666666666667\n",
      "accuracy_score: \n",
      " 0.9495274914089347\n",
      "confusion_matrix: \n",
      " [[4392    1]\n",
      " [ 234   29]]\n",
      "classification_report: \n",
      "               precision    recall  f1-score   support\n",
      "\n",
      "           0       0.95      1.00      0.97      4393\n",
      "           1       0.97      0.11      0.20       263\n",
      "\n",
      "    accuracy                           0.95      4656\n",
      "   macro avg       0.96      0.56      0.59      4656\n",
      "weighted avg       0.95      0.95      0.93      4656\n",
      "\n",
      "WARNING: task averager  cannot perform reduce with flexible type\n"
     ]
    },
    {
     "data": {
      "text/plain": [
       "{'roc_auc_score': 0.5550192624110774,\n",
       " 'precision_score': 0.9666666666666667,\n",
       " 'accuracy_score': 0.9495274914089347,\n",
       " 'confusion_matrix': 1164.0,\n",
       " 'classification_report': None}"
      ]
     },
     "execution_count": 13,
     "metadata": {},
     "output_type": "execute_result"
    }
   ],
   "source": [
    "#Evaluate best model\n",
    "best_rf.evaluate(test_dataset, metrics)"
   ]
  }
 ],
 "metadata": {
  "kernelspec": {
   "display_name": "Python 3",
   "language": "python",
   "name": "python3"
  },
  "language_info": {
   "codemirror_mode": {
    "name": "ipython",
    "version": 3
   },
   "file_extension": ".py",
   "mimetype": "text/x-python",
   "name": "python",
   "nbconvert_exporter": "python",
   "pygments_lexer": "ipython3",
   "version": "3.6.13"
  }
 },
 "nbformat": 4,
 "nbformat_minor": 4
}
