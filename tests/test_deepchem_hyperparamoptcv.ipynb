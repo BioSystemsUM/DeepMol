{
 "cells": [
  {
   "cell_type": "code",
   "execution_count": null,
   "metadata": {},
   "outputs": [],
   "source": [
    "import tensorflow as tf\n",
    "print(tf.version.VERSION)\n",
    "from deepchem.models import GraphConvModel\n",
    "\n",
    "from loaders.Loaders import CSVLoader\n",
    "from compoundFeaturization import ConvMolFeat\n",
    "from splitters.splitters import RandomSplitter\n",
    "from metrics.Metrics import Metric\n",
    "from metrics.metricsFunctions import r2_score, mean_absolute_error, mean_squared_error, median_absolute_error\n",
    "from models import DeepchemMode\n",
    "from parameterOptimization.HyperparameterOpt import HyperparamOpt_CV"
   ]
  },
  {
   "cell_type": "code",
   "execution_count": null,
   "metadata": {},
   "outputs": [],
   "source": [
    "# Load Dataset\n",
    "dataset = CSVLoader(dataset_path='data/PC-3.csv', \n",
    "                    mols_field='smiles', \n",
    "                    labels_fields='pIC50')\n",
    "dataset = dataset.create_dataset()\n",
    "dataset.get_shape()"
   ]
  },
  {
   "cell_type": "code",
   "execution_count": null,
   "metadata": {},
   "outputs": [],
   "source": [
    "# SMILES standardization\n",
    "standardizer = ChEMBLStandardizer().standardize(dataset)"
   ]
  },
  {
   "cell_type": "code",
   "execution_count": null,
   "metadata": {},
   "outputs": [],
   "source": [
    "# Featurization\n",
    "dataset = ConvMolFeat().featurize(dataset)\n",
    "dataset.get_shape()"
   ]
  },
  {
   "cell_type": "code",
   "execution_count": null,
   "metadata": {},
   "outputs": [],
   "source": [
    "# Data Split\n",
    "splitter = RandomSplitter()\n",
    "train_dataset, test_dataset = splitter.train_test_split(dataset, frac_train=0.7, seed=123)\n",
    "\n",
    "train_dataset.get_shape()\n",
    "test_dataset.get_shape()"
   ]
  },
  {
   "cell_type": "code",
   "execution_count": null,
   "metadata": {},
   "outputs": [],
   "source": [
    "# Model build function\n",
    "def graphconv_builder(graph_conv_layers, dense_layer_size, dropout, learning_rate, batch_size=256, epochs=5):\n",
    "    graph = GraphConvModel(n_tasks=1, graph_conv_layers=graph_conv_layers, dense_layer_size=dense_layer_size,\n",
    "                           dropout=dropout, batch_size=batch_size, learning_rate=learning_rate, mode='regression')\n",
    "    return DeepChemModel(graph, epochs=epochs, use_weights=False, model_dir=None)\n",
    "# optimizer = Adam by default in DeepChem and loss=L2Loss() by default for regression (it's the same as MSE loss)"
   ]
  },
  {
   "cell_type": "code",
   "execution_count": null,
   "metadata": {},
   "outputs": [],
   "source": [
    "# Scoring metrics\n",
    "metrics = [Metric(mean_absolute_error), Metric(mean_squared_error), Metric(median_absolute_error), Metric(r2_score)]"
   ]
  },
  {
   "cell_type": "code",
   "execution_count": null,
   "metadata": {},
   "outputs": [],
   "source": [
    "params_dict = {\"graph_conv_layers\": [[32, 32], [64, 64], [128, 128],\n",
    "                                     [32, 64], [64, 128],\n",
    "                                     [32, 32, 32], [64, 64, 64], [128, 128, 128],\n",
    "                                     [32, 64, 128]],\n",
    "               \"dense_layer_size\": [2048, 1024, 512, 256, 128],\n",
    "               \"dropout\": [0.0, 0.1, 0.2, 0.3, 0.4, 0.5],\n",
    "               \"learning_rate\": [1e-5, 1e-4, 1e-3, 1e-2, 1e-1]\n",
    "                  }\n",
    "\n",
    "optimizer = HyperparamOpt_CV(graphconv_builder, mode='regression')\n",
    "\n",
    "best_model, best_hyperparams, all_results = optimizer.hyperparam_search('deepchem',\n",
    "                                                                        params_dict,\n",
    "                                                                        train_dataset,\n",
    "                                                                        'neg_mean_squared_error',\n",
    "                                                                        cv=5,\n",
    "                                                                        n_iter_search=2,\n",
    "                                                                        n_jobs=1)\n",
    "\n",
    "print('#################')\n",
    "print(best_hyperparams)\n",
    "print(best_model) # shows several args = None, but I have confirmed that the hyperparams are being passed to the underlying DeepChem classes\n",
    "print(all_results)"
   ]
  },
  {
   "cell_type": "code",
   "execution_count": null,
   "metadata": {},
   "outputs": [],
   "source": [
    "# Evaluate model\n",
    "# (best_model has already been fit)\n",
    "best_model.evaluate(test_dataset, metrics)"
   ]
  }
 ],
 "metadata": {
  "kernelspec": {
   "display_name": "Python 3",
   "language": "python",
   "name": "python3"
  },
  "language_info": {
   "codemirror_mode": {
    "name": "ipython",
    "version": 3
   },
   "file_extension": ".py",
   "mimetype": "text/x-python",
   "name": "python",
   "nbconvert_exporter": "python",
   "pygments_lexer": "ipython3",
   "version": "3.8.3"
  }
 },
 "nbformat": 4,
 "nbformat_minor": 4
}
